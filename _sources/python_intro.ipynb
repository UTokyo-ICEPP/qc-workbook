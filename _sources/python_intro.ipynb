{
 "cells": [
  {
   "cell_type": "markdown",
   "id": "54acfd29-87a5-4607-8e19-b79ccff2d8e2",
   "metadata": {},
   "source": [
    "# 予備知識：Python\n",
    "\n",
    "```{contents} 目次\n",
    "---\n",
    "local: true\n",
    "---\n",
    "```"
   ]
  },
  {
   "cell_type": "markdown",
   "id": "38aed306-466e-4f8b-bdd0-c08904902874",
   "metadata": {},
   "source": [
    "## 基礎編\n",
    "\n",
    "Pythonに関する教材は世の中にいくらでもあるので、このワークブックで登場する概念・構文・テクニックに絞って説明をします。\n",
    "\n",
    "```{admonition} すでにプログラミング経験がある場合\n",
    "「CやJavaなどのプログラミング経験はあるが、Pythonは初めて」という人の理解を助けるために、随所でこのように注釈を入れます。プログラミング経験が一切ないという場合は無視して構いません。\n",
    "```\n",
    "\n",
    "### Pythonプログラムとは\n",
    "\n",
    "プログラムとは、機械が順番に実行するべき命令を、決まった文法に従って書き下した文書のことです。プログラムには様々な言語があり、それぞれ用途や扱える命令群が異なります。Pythonは世界で最も広く使われている言語の一つで、扱える命令の多様さ、表現性の高さ、フレキシビリティが最大の特徴です。\n",
    "\n",
    "### 行構造\n",
    "\n",
    "最も単純には、Pythonのプログラムは一行一つの命令文で成り立ちます。各行で`#`が登場したら、それ以降のテキストは「コメント」として無視されます。また、空白（スペースやタブ）のみを含む行も無視されます。"
   ]
  },
  {
   "cell_type": "code",
   "execution_count": null,
   "id": "ea0a98f9-8b3d-482d-9aea-8b927359a1b8",
   "metadata": {
    "tags": [
     "remove-output"
    ]
   },
   "outputs": [],
   "source": [
    "# aという変数に3という値を代入する命令文\n",
    "a = 3"
   ]
  },
  {
   "cell_type": "code",
   "execution_count": null,
   "id": "54e0b1ca-154a-409f-bd89-112d9bd46aea",
   "metadata": {
    "tags": [
     "remove-output"
    ]
   },
   "outputs": [],
   "source": [
    "# aに代入されている値と5を掛け算してbという変数に代入する命令文\n",
    "b = a * 5"
   ]
  },
  {
   "cell_type": "code",
   "execution_count": null,
   "id": "42600759-e75d-4353-bb25-7d5e10ba62d3",
   "metadata": {
    "tags": [
     "remove-output"
    ]
   },
   "outputs": [],
   "source": [
    "# bの文字列表現をプリントアウトする命令文\n",
    "print(b)"
   ]
  },
  {
   "cell_type": "markdown",
   "id": "f4503f28-d8e9-4b18-98f8-7484139e33b8",
   "metadata": {},
   "source": [
    "あとで解説する関数やクラスの定義、`if`、`for`、`try`/`except`などの複合文では、全ての行を一定数の空白文字分（通常スペース4つ、流儀によっては2つ。タブ文字は使うべきでない）だけインデントさせます。"
   ]
  },
  {
   "cell_type": "code",
   "execution_count": null,
   "id": "c7f20fe3-424e-4a04-aac4-a7ee15f2f551",
   "metadata": {
    "tags": [
     "remove-output"
    ]
   },
   "outputs": [],
   "source": [
    "if b == 15:\n",
    "    # bの値が15の時、インデントされている部分が実行される\n",
    "    print('b is True')\n",
    "    print('This line is also executed')\n",
    "    \n",
    "else:\n",
    "    # それ以外の場合、インデントされている部分が実行される\n",
    "    print('b is False')\n",
    "    print('This line is also not executed')\n",
    "    \n",
    "# インデンテーションが解消された＝if文を抜けた\n",
    "print('This line is always executed')"
   ]
  },
  {
   "cell_type": "markdown",
   "id": "a4a517e3-f884-4580-8964-2b278741c824",
   "metadata": {},
   "source": [
    "インデントしたブロックの中で、さらにインデントを必要とする文を書く場合は、スペース8つ、12個、と入れ子状にインデントします。各レベルでのインデンテーション解消がブロックの終わりを意味します。"
   ]
  },
  {
   "cell_type": "code",
   "execution_count": null,
   "id": "29aeaee9-440c-44a2-86d0-b9782f7679fc",
   "metadata": {
    "tags": [
     "remove-output"
    ]
   },
   "outputs": [],
   "source": [
    "if b == 2:\n",
    "    # bの値が2の時、インデントされている部分が実行される\n",
    "\n",
    "    for x in range(3):\n",
    "        # さらにインデントされた部分が3回実行される\n",
    "        print('b is 2 and I print this line three times')\n",
    "\n",
    "    # 3回実行のループは抜けたが、if b == 2:のブロックの中\n",
    "    print('b is 2 and I printed three times')\n",
    "    \n",
    "else:\n",
    "    # それ以外の場合、インデントされている部分が実行される\n",
    "    if a == 3:\n",
    "        # そのうち、aの値が3の時はこの部分が実行される\n",
    "        print('b is not 2 and a is 3')\n",
    "\n",
    "# 全てのインデンテーションが解消された\n",
    "print('All indentations resolved')"
   ]
  },
  {
   "cell_type": "markdown",
   "id": "dd56693a-fc9c-41a8-a359-e5e0c09cbd84",
   "metadata": {},
   "source": [
    "```{admonition} インデンテーション\n",
    "C/C++やJavaなどではコードのブロックは{}括弧で括られるため、インデンテーションは単に人間がコードを読みやすくするための飾りです。Pythonではインデンテーションがプログラム上の意味を持ちます。\n",
    "```"
   ]
  },
  {
   "cell_type": "markdown",
   "id": "e16ec0eb-d741-406b-b6d1-68b3f08a3ef5",
   "metadata": {},
   "source": [
    "### 変数\n",
    "\n",
    "上で出てきた`a`や`b`を変数と呼びます。変数は（変「数」と書きますが）数値だけではなく、プログラム中で扱う様々なデータ（あとで言うオブジェクト）を表すラベルのようなものです。\n",
    "\n",
    "```{admonition} 変数の生成\n",
    "CやJavaなどの言語と異なり、Pythonでは変数を明示的に宣言しません。上のコードのように、値の代入をもって変数の宣言と初期化が行われます。また、変数は型を限定しないので、同じ変数名を別の型の値に使うことができます。\n",
    "```"
   ]
  },
  {
   "cell_type": "code",
   "execution_count": null,
   "id": "a26263fc-ae3a-431c-bf16-c89724ff5c25",
   "metadata": {
    "tags": [
     "remove-output"
    ]
   },
   "outputs": [],
   "source": [
    "# sという変数に「abc」という文字列を代入\n",
    "# ' (single quote)もしくは \" (double quote) で挟まれたテキストは文字列となる\n",
    "s = 'Hello World'\n",
    "\n",
    "print(s)"
   ]
  },
  {
   "cell_type": "code",
   "execution_count": null,
   "id": "6a665c1c-5476-479d-b134-92244b6cac2a",
   "metadata": {
    "tags": [
     "remove-output"
    ]
   },
   "outputs": [],
   "source": [
    "# bという変数を真理値型の「真」で再定義\n",
    "b = True"
   ]
  },
  {
   "cell_type": "markdown",
   "id": "3b9cb52a-8e21-4cc2-8e93-72474087667f",
   "metadata": {},
   "source": [
    "```{admonition} 文字列\n",
    "C/C++と異なり、Pythonでは文字（character）と文字列（string）の区別がありません。文字情報は全て文字列です。また、' (single quote)と \" (double quote)の間に機能的な違いもありません。\n",
    "```\n",
    "\n",
    "変数を使わないと、プログラムはただ「3」や「'Hello World'」のような「リテラル」（値がそのままプログラム文中に書き下されているデータ）で成り立つことになり、「3と5を足す」「Hello Worldと表示する」などの自明な動作しかできません。逆に言えば、変数を駆使することで初めてプログラムを書く意味が出てきます。\n",
    "\n",
    "変数名はアルファベット一文字とは限りません。小文字のaからz、大文字のAからZ、アンダースコア（_）、0-9の数字の任意の長さの組み合わせが使えます。ただし、数字は変数名の最初の一文字には使えません。変数に意味のある名前をつけてコードを読みやすくすることは、プログラミングにおける重要なエチケットです。"
   ]
  },
  {
   "cell_type": "code",
   "execution_count": null,
   "id": "d4fa3f8c-4c94-4d2e-9c38-ea54aa42857e",
   "metadata": {
    "tags": [
     "remove-output"
    ]
   },
   "outputs": [],
   "source": [
    "# 変数にはプログラム中でその変数が持つ役割をベースに名前をつける\n",
    "dividend = 15\n",
    "divisor = 3\n",
    "quotient = dividend / divisor"
   ]
  },
  {
   "cell_type": "markdown",
   "id": "0138de8e-0a24-4a09-bb65-e16f1640f738",
   "metadata": {},
   "source": [
    "### 演算子\n",
    "\n",
    "数値に対して使える、様々な演算子が用意されています。"
   ]
  },
  {
   "cell_type": "code",
   "execution_count": null,
   "id": "4ffe557a-47ba-4c07-a1c9-45f824e6087b",
   "metadata": {
    "tags": [
     "remove-output"
    ]
   },
   "outputs": [],
   "source": [
    "# 足し算\n",
    "print('a + 2 =', a + 2) # print()は中身を , (comma) で区切ることで、複数の表現をプリントアウトできる\n",
    "# 引き算\n",
    "print('a - 2 =', a - 2)\n",
    "# 符号反転\n",
    "print('-a =', -a)\n",
    "# 括弧\n",
    "print('-(-a) =', -(-a))\n",
    "# 掛け算\n",
    "print('a * 3 =', a * 3)\n",
    "# 割り算\n",
    "print('a / 2 =', a / 2)\n",
    "# 切り捨て除算（整数の割り算における商）\n",
    "print('a // 2 =', a // 2)\n",
    "# 剰余\n",
    "print('a % 2 =', a % 2)\n",
    "# べき乗\n",
    "print('a ** 3 =', a ** 3)\n",
    "# 比較\n",
    "print('a < 4 is', a < 4) # 4より小さい\n",
    "print('a <= 3 is', a <= 3) # 3以下\n",
    "print('a > 5 is', a > 5) # 5より大きい\n",
    "print('a >= 1 is', a >= 1) # 1以上\n",
    "print('a == 3 is', a == 3) # 3と等しい\n",
    "print('a != 7 is', a != 7) # 7と等しくない\n",
    "# 値の更新\n",
    "a += 3 # aに3を足す\n",
    "print('a += 3 -> a is', a)\n",
    "a -= 4 # aから4を引く\n",
    "print('a -= 4 -> a is', a)\n",
    "a *= 5 # aに5をかける\n",
    "print('a *= 5 -> a is', a)\n",
    "a //= 2 # aを2で割る（切り捨て）\n",
    "print('a //= 2 -> a is', a)\n",
    "a /= 1.4 # aを1.4で割る\n",
    "print('a /= 1.4 -> a is', a)\n",
    "a %= 3 # aを3で割った剰余にする\n",
    "print('a %= 3 -> a is', a)\n",
    "a **= 3 # aを3乗する\n",
    "print('a **= 3 -> a is', a)"
   ]
  },
  {
   "cell_type": "markdown",
   "id": "aa84db81-1488-498f-8137-e150f4d464df",
   "metadata": {},
   "source": [
    "他にもビットシフト演算子などが存在しますが、このワークブックでは使用しないので割愛します。\n",
    "\n",
    "```{admonition} 割り算\n",
    "Python 3では、/演算子は、整数同士に用いられたとしても、true divisionつまり浮動小数点数同士の割り算を引き起こします。\n",
    "```\n",
    "\n",
    "実は上の演算子の多くが数値以外にも使え、なんとなくそうなるかな、という直感的な効果を持ちます。Pythonの表現性が高い一つの理由がこれです。例えば文字列に対しては以下のようになります。"
   ]
  },
  {
   "cell_type": "code",
   "execution_count": null,
   "id": "b77833cf-f53f-4a26-ae37-ea50de023b8c",
   "metadata": {
    "tags": [
     "remove-output"
    ]
   },
   "outputs": [],
   "source": [
    "# 文字列と文字列を足し合わせる -> 文字列の結合\n",
    "print('\"abc\" + \"xyz\" = ', \"abc\" + \"xyz\")\n",
    "# 文字列を整数倍する -> 文字列の反復\n",
    "print('\"ha\" * 3 =', \"ha\" * 3)\n",
    "# 文字列の比較 -> 辞書式順序での比較\n",
    "print('\"abc\" < \"def\" is', \"abc\" < \"def\")\n",
    "print('\"xy\" <= \"xyz\" is', \"xy\" <= \"xyz\")\n",
    "# etc."
   ]
  },
  {
   "cell_type": "markdown",
   "id": "18d66ec0-705d-42a1-a293-76ae0a9fdd95",
   "metadata": {},
   "source": [
    "### 基本のデータ型\n",
    "\n",
    "変数が表すデータには様々な「型」（タイプ）があります。文字と数は異なる、というのはプログラムに限らず現実世界でも成り立つ関係です。型ごとに行える操作が異なるので、データの型を常に意識しながらプログラムを書く必要があります。後で一般のクラスについて解説をするので、ここではPythonの組み込み型と言われる、言語レベルで定義されている基本的な型を紹介します。\n",
    "\n",
    "#### 数値型 int, float, complex\n",
    "\n",
    "数値を表す型には`int`（整数）、`float`（実数）、`complex`（複素数）があります。数学的には包含関係にある3つの型ですが、コンピュータ的には実数と複素数は「浮動小数点数」で実装されるため整数と根本的に異なります。複素数は浮動小数点数を2つ一組にし、複素数特有の演算規則を当てはめたものです。\n",
    "\n",
    "3つの型は異なりますが、全て数値を表すものであるため、演算の互換性があります。型が混在する演算の結果は数学的な包含関係に従います。"
   ]
  },
  {
   "cell_type": "code",
   "execution_count": null,
   "id": "6ecb4e07-50d4-4e6c-855b-928deb14ef09",
   "metadata": {
    "tags": [
     "remove-output"
    ]
   },
   "outputs": [],
   "source": [
    "# 整数\n",
    "i = 43\n",
    "# 実数\n",
    "f = 5.4\n",
    "# 複素数\n",
    "c = 2.3 + 0.9j\n",
    "\n",
    "# 数学的には整数でも、小数点が入ると実数型になる\n",
    "print('type of 7.0 is', type(7.0)) # type()はデータの型を返す関数\n",
    "\n",
    "# intとfloatとの間の演算の結果はfloat\n",
    "print('type of i + 8.0 is', type(i + 8.0))\n",
    "# int/floatとcomplexとの間の演算の結果はcomplex\n",
    "print('type of i + 2.0j is', type(i + 2.0j))\n",
    "print('type of f * c is', type(f * c))"
   ]
  },
  {
   "cell_type": "markdown",
   "id": "734e01bb-5041-4eb8-99a3-572bdd79bc31",
   "metadata": {},
   "source": [
    "#### 文字列型 str\n",
    "\n",
    "すでに上で登場していますが、' (single quote)もしくは \" (double quote)で囲まれたテキストは文字列データとなります。二つの記号の間に機能上の違いはありません。なぜ二通り記号が用意されているかというと、プログラマ個人の嗜好に合わせられるという以外に、以下のようなコードを書きやすくするためです。"
   ]
  },
  {
   "cell_type": "code",
   "execution_count": null,
   "id": "f3610d17-5961-494b-8efc-491ddc8e4e6f",
   "metadata": {
    "tags": [
     "remove-output"
    ]
   },
   "outputs": [],
   "source": [
    "print('The world says \"Hello\" in single quotes')"
   ]
  },
  {
   "cell_type": "markdown",
   "id": "75fd271d-b19f-4911-a0ee-37315308ac1e",
   "metadata": {},
   "source": [
    "同じことを例えばdouble quotesだけで表現することもできます。その場合、文字列中のクオーテーション記号にバックスラッシュを付け、文字列を囲む記号と区別します。"
   ]
  },
  {
   "cell_type": "code",
   "execution_count": null,
   "id": "d8fd4a38-6cb5-47b5-a4b3-9ccf6a9531b7",
   "metadata": {
    "tags": [
     "remove-output"
    ]
   },
   "outputs": [],
   "source": [
    "print(\"The world says \\\"Hello\\\" in double quotes\")"
   ]
  },
  {
   "cell_type": "markdown",
   "id": "ceaf6a44-342a-43bb-aeb3-09ffc99d0c92",
   "metadata": {},
   "source": [
    "上に比べて少しコードが読みにくくなることがわかります。\n",
    "\n",
    "単純なquotesで囲まれた文字列はPythonプログラム中、一行で書ききらなければいけないので、書きたいテキストが改行を含む場合は改行文字`\\n`（backslash-n）を挿入します。"
   ]
  },
  {
   "cell_type": "code",
   "execution_count": null,
   "id": "38a5b928-cd94-4bf0-9c44-e2c8890dbf2a",
   "metadata": {
    "tags": [
     "remove-output"
    ]
   },
   "outputs": [],
   "source": [
    "print('This text has\\ntwo lines')"
   ]
  },
  {
   "cell_type": "markdown",
   "id": "4850c097-4753-413c-b09a-71ebd880059e",
   "metadata": {},
   "source": [
    "これもまた読みにくいので、実はsingle quotesとdouble quotes以外にそれらの記号を3つ並べた`'''`や`\"\"\"`（三重クオート）でテキストを囲み、改行を含む文字列をそのまま書くこともできます。"
   ]
  },
  {
   "cell_type": "code",
   "execution_count": null,
   "id": "55112011-405a-41e0-802a-8a2b9b09f049",
   "metadata": {
    "tags": [
     "remove-output"
    ]
   },
   "outputs": [],
   "source": [
    "s = '''This\n",
    "is\n",
    "   such\n",
    "a\n",
    "  long\n",
    "string'''\n",
    "print(s)"
   ]
  },
  {
   "cell_type": "markdown",
   "id": "0bcfb0ec-2f9f-431e-b8f9-efd953bb5437",
   "metadata": {},
   "source": [
    "改行やクオーテーション以外にも「特殊文字」があり、全てバックスラッシュで始まります。実際、通常の文字列中でバックスラッシュが一つ登場すると、Pythonはそのバックスラッシュと次の文字（場合によっては複数字）を組み合わせて特殊文字として解釈します。なので、実際のバックスラッシュをテキスト中に登場させたい場合（LaTeXのテキストを書いているときなど）は、一つだけ書くと解釈されないので、`\\\\`という特殊文字を利用します。"
   ]
  },
  {
   "cell_type": "code",
   "execution_count": null,
   "id": "52472be1-898a-463b-94b7-3744e2d9ef8a",
   "metadata": {
    "tags": [
     "remove-output"
    ]
   },
   "outputs": [],
   "source": [
    "print('\\\\sqrt{2}')"
   ]
  },
  {
   "cell_type": "markdown",
   "id": "4aef474b-2cc2-46f7-8155-382ec1ad9d9b",
   "metadata": {},
   "source": [
    "これも読みにくいテキストになってしまうので、バックスラッシュがたくさん使われる文字列を書く場合は、`r`というプレフィックスをクオーテーションの前にくっつけます。`r`のついた文字列中では、バックスラッシュが特殊文字として解釈されません。"
   ]
  },
  {
   "cell_type": "code",
   "execution_count": null,
   "id": "16c5927f-f0c1-4070-8acc-6a6e7bf78840",
   "metadata": {
    "tags": [
     "remove-output"
    ]
   },
   "outputs": [],
   "source": [
    "print(r'\\frac{e^{2 \\pi i j k}}{\\sqrt{2}}')"
   ]
  },
  {
   "cell_type": "markdown",
   "id": "3957c256-9957-44fb-a959-2aecc6446fe8",
   "metadata": {},
   "source": [
    "ときどき、文字列型以外の変数を文字列に変換する必要が出てきます。例えば、`\"The value of variable x is \"`という文字列の後に、`x`という変数の値を付け加えたいとします。`x`が整数型だと`+`演算子を使ったらエラーになります。"
   ]
  },
  {
   "cell_type": "code",
   "execution_count": null,
   "id": "1da78613-c7dd-46f6-8abe-005da38fac8f",
   "metadata": {
    "tags": [
     "remove-output",
     "raises-exception"
    ]
   },
   "outputs": [],
   "source": [
    "s = 'The value of variable x is '\n",
    "x = 3\n",
    "\n",
    "# 文字列と整数を加えようとするとエラーになる\n",
    "print(s + x)"
   ]
  },
  {
   "cell_type": "markdown",
   "id": "dad850a5-619f-451b-a98c-15bb8247ea39",
   "metadata": {},
   "source": [
    "文字列と整数の足し算は定義されていないためです。このような場合は、`str(x)`として`x`の10進数表現の文字列を作ります"
   ]
  },
  {
   "cell_type": "code",
   "execution_count": null,
   "id": "39b1f89c-b834-4b6f-9e07-1309590644f8",
   "metadata": {
    "tags": [
     "remove-output"
    ]
   },
   "outputs": [],
   "source": [
    "# これは文字列同士の足し算\n",
    "print(s + str(x))"
   ]
  },
  {
   "cell_type": "markdown",
   "id": "c298a37b-09f4-4563-b2d0-fa2b3f0a1490",
   "metadata": {},
   "source": [
    "ただ、この方法で変数の文字列表現をたくさん作ると、コードが冗長になりやすい問題があります。"
   ]
  },
  {
   "cell_type": "code",
   "execution_count": null,
   "id": "91e6360c-2c82-4029-8635-e1d7b1635318",
   "metadata": {
    "tags": [
     "remove-output"
    ]
   },
   "outputs": [],
   "source": [
    "print('a is ' + str(a) + ' and b is ' + str(b) + ' and x is ' + str(x) + ' and so on')"
   ]
  },
  {
   "cell_type": "markdown",
   "id": "583d73b5-3d80-4f35-9dc9-ed3e7605a697",
   "metadata": {},
   "source": [
    "そこで、Pythonでは文字列中に変数のプレースホルダーを入れ、後から変数値を代入することができるようになっています。ただ、歴史的経緯から、4つの異なる方法が実装されていて、少し厄介です。このワークブックでは2通りのみ使用することにします。\n",
    "\n",
    "まず、原則的にはフォーマット済み文字列（f-string）と呼ばれる、歴史的には一番新しい方式を使います。f-stringを作るには、クオーテーションの前に`f`というプレフィックスをつけます。そして、文字列中の変数の値を代入したい部分に`{変数名}`を挿入します。"
   ]
  },
  {
   "cell_type": "code",
   "execution_count": null,
   "id": "1e0e41de-8578-4e49-b9fa-58ae5ae7f5d9",
   "metadata": {
    "tags": [
     "remove-output"
    ]
   },
   "outputs": [],
   "source": [
    "print(f'a is {a} and b is {b} and x is {x} and so on')"
   ]
  },
  {
   "cell_type": "markdown",
   "id": "591299d4-0cde-423b-8ec8-2cd6d75e7581",
   "metadata": {},
   "source": [
    "f-stringは、実は変数に限らず、その場で評価可能な任意のプログラムコードを扱えます。中括弧の中にさらに文字列リテラルが入る場合は、全体の文字列に使っていないクオーテーション記号を使います。"
   ]
  },
  {
   "cell_type": "code",
   "execution_count": null,
   "id": "7c8bb278-f028-4fa0-943e-5f6b7c1c874c",
   "metadata": {
    "tags": [
     "remove-output"
    ]
   },
   "outputs": [],
   "source": [
    "print(f'If I multiply a and x I get {a * x} and this is a {str(b) + \" story\"}')\n",
    "\n",
    "# fとrを組み合わせて、バックスラッシュを含む文字列に変数値を代入することもできる\n",
    "print(fr'\\int_0^{a} x dx = {0.5 * a ** 2}')"
   ]
  },
  {
   "cell_type": "markdown",
   "id": "9b5a29b8-4422-4ffb-b97b-ae9a71175b01",
   "metadata": {},
   "source": [
    "このようにf-stringで大体の目的は達成できますが、厄介になるのは実際に中括弧を含む文字列を作りたい場合です。f-string中の中括弧は二重にして表現するので、簡単な文字列でもコードが非常に読みにくくなります。"
   ]
  },
  {
   "cell_type": "code",
   "execution_count": null,
   "id": "216039b5-139e-4eae-822f-215cdbdffedd",
   "metadata": {
    "tags": [
     "remove-output"
    ]
   },
   "outputs": [],
   "source": [
    "print(f'{{ brace }} {x}')\n",
    "\n",
    "# 中括弧がたくさんあるととても読みにくい\n",
    "print(fr'\\frac{{e^{{{a}i}}}}{{2}}')"
   ]
  },
  {
   "cell_type": "markdown",
   "id": "ace9ff2b-4aa9-4735-9e99-b3987c5ff097",
   "metadata": {},
   "source": [
    "そこで、このワークブックでは中括弧を含む文字列に変数値を代入するときに限り、最も古い方式である%-formattingを使います。この方式でのプレースホルダーは、整数値を代入したいときは`%d`、実数値なら`%f`、文字列なら`%s`など、`%`文字と代入したいデータの型の識別子の組み合わせでできます。変数値を代入するには、文字列のすぐ後に`　%　変数`をくっつけます。\n",
    "\n",
    "```{admonition} %-formatting\n",
    "%を使った書式はC系やJavaのprintfと共通です。\n",
    "```"
   ]
  },
  {
   "cell_type": "code",
   "execution_count": null,
   "id": "5d7cb56d-bc8d-4a24-b794-506f137e8a91",
   "metadata": {
    "tags": [
     "remove-output"
    ]
   },
   "outputs": [],
   "source": [
    "print(r'\\frac{e^{%fi}}{2}' % a)"
   ]
  },
  {
   "cell_type": "markdown",
   "id": "bbc07686-ab4e-46b7-af44-22743b9b4e2a",
   "metadata": {},
   "source": [
    "#### 配列型 tuple, list\n",
    "\n",
    "複数のデータをひとまとめに並べておくと便利なことが多々あります。Pythonに最初から実装されている基本型のうち、重複を許して、順序つきでデータを集めた構造として、tuple（タプル）とlist（リスト）があります。Tupleは一度作ると要素を足したり除いたりできないのに対し、listは長さが可変で要素の入れ替えが可能です。"
   ]
  },
  {
   "cell_type": "code",
   "execution_count": null,
   "id": "b08ac0e4-dc37-440d-9e91-f690a773d356",
   "metadata": {
    "tags": [
     "remove-output"
    ]
   },
   "outputs": [],
   "source": [
    "# 空のtupleやlistを新しく作る\n",
    "my_empty_tuple = tuple()\n",
    "my_empty_list = list()\n",
    "\n",
    "# データの入ったtupleやlistを新しく作る\n",
    "# データの型が揃っている必要はない\n",
    "my_tuple = (1, 2, 3, 'dah')\n",
    "my_list = [2.3, 5. + 1.j, 2]\n",
    "# コンストラクタ関数にリストやタプルを入れる\n",
    "my_list = list(my_tuple)\n",
    "my_tuple = tuple(my_list)\n",
    "# 「ジェネレータ表現」を使う\n",
    "my_tuple = tuple(x for x in ['a', 'b', 'c'])\n",
    "my_list = list(x for x in range(4))"
   ]
  },
  {
   "cell_type": "markdown",
   "id": "c9a0fe9b-dd7c-44a8-bac4-7f860b409a66",
   "metadata": {},
   "source": [
    "タプルやリストの要素を一つ参照するときは、鉤括弧でインデックス（要素の番号）を指定します。インデックスは0から始まるので、長さnの配列に対して有効なインデックスは0からn-1までです。"
   ]
  },
  {
   "cell_type": "code",
   "execution_count": null,
   "id": "28596f3e-32c4-48d2-887a-5ea4c8bd192e",
   "metadata": {
    "tags": [
     "remove-output"
    ]
   },
   "outputs": [],
   "source": [
    "t = ('one', 2, 'three')\n",
    "print(t[0])\n",
    "print(t[1])\n",
    "print(t[2])"
   ]
  },
  {
   "cell_type": "markdown",
   "id": "91f36062-298d-4732-93ad-4d1ee428edde",
   "metadata": {},
   "source": [
    "リストでは要素を新しい値にすることができます。"
   ]
  },
  {
   "cell_type": "code",
   "execution_count": null,
   "id": "4961315c-f402-4140-bace-a7b28dd252f3",
   "metadata": {
    "tags": [
     "remove-output"
    ]
   },
   "outputs": [],
   "source": [
    "print(my_list) # 数値や文字列以外もprint()できる\n",
    "my_list[3] = 'three'\n",
    "print(my_list)"
   ]
  },
  {
   "cell_type": "markdown",
   "id": "e95c8fb6-13eb-429b-b390-791560ed9924",
   "metadata": {},
   "source": [
    "あとで説明するfor文を使って、配列の要素を順番に参照することもできます。"
   ]
  },
  {
   "cell_type": "code",
   "execution_count": null,
   "id": "1518da26-c636-4445-9478-44606a80e239",
   "metadata": {
    "tags": [
     "remove-output"
    ]
   },
   "outputs": [],
   "source": [
    "for element in my_list:\n",
    "    print('Next element is', element)"
   ]
  },
  {
   "cell_type": "markdown",
   "id": "db434a89-66b4-4e1c-8c2f-337cd631cbdf",
   "metadata": {},
   "source": [
    "タプルやリストの長さ（要素数）は`len()`関数でわかります。"
   ]
  },
  {
   "cell_type": "code",
   "execution_count": null,
   "id": "21e1a997-1f1e-4eae-83cb-3400f39b8fce",
   "metadata": {
    "tags": [
     "remove-output"
    ]
   },
   "outputs": [],
   "source": [
    "print(f'my_tuple has {len(my_tuple)} elements.')\n",
    "print(f'my_list has {len(my_list)} elements.')"
   ]
  },
  {
   "cell_type": "markdown",
   "id": "8eec01f3-4b14-47c6-a5c8-3a4a55178037",
   "metadata": {},
   "source": [
    "タプル同士やリスト同士は足し算で繋ぎ合わせられます。"
   ]
  },
  {
   "cell_type": "code",
   "execution_count": null,
   "id": "7b811e25-cf7b-4085-b3af-4e954d946fa8",
   "metadata": {
    "tags": [
     "remove-output"
    ]
   },
   "outputs": [],
   "source": [
    "list1 = [0, 2]\n",
    "list2 = ['hello'] # 長さ1のリスト\n",
    "list3 = list1 + list2\n",
    "print(list3)\n",
    "\n",
    "tuple1 = (0, 2)\n",
    "tuple2 = ('hello',) # 長さ1のタプル。最後のコンマがないと「文字列を括弧で括ったもの」になってしまうので注意\n",
    "tuple3 = tuple1 + tuple2\n",
    "print(tuple3)"
   ]
  },
  {
   "cell_type": "markdown",
   "id": "a6b4a266-ed8d-4fba-87fa-633dbe1f4cf2",
   "metadata": {},
   "source": [
    "数値に対してと同様、足し算での更新も可能です。"
   ]
  },
  {
   "cell_type": "code",
   "execution_count": null,
   "id": "89deae19-3412-4f8f-8dfd-5c75292c40ee",
   "metadata": {
    "tags": [
     "remove-output"
    ]
   },
   "outputs": [],
   "source": [
    "list1 += list2\n",
    "tuple1 += tuple2\n",
    "print(list1)\n",
    "print(tuple1)"
   ]
  },
  {
   "cell_type": "markdown",
   "id": "ca30387d-2e4b-4842-90f1-0789d49a809f",
   "metadata": {},
   "source": [
    "リストの最後に新たな要素を足すには、`append()`というメソッド（後の解説を参照）を使います。"
   ]
  },
  {
   "cell_type": "code",
   "execution_count": null,
   "id": "ac59e5ea-178b-49f3-94cf-89487e4b3c57",
   "metadata": {
    "tags": [
     "remove-output"
    ]
   },
   "outputs": [],
   "source": [
    "list1.append('world')\n",
    "print(list1)"
   ]
  },
  {
   "cell_type": "markdown",
   "id": "6f0bbbf7-41fd-42ac-b236-028a7770726a",
   "metadata": {},
   "source": [
    "すでに説明した通り、タプルには要素を足せないので、対応するメソッドがありません。"
   ]
  },
  {
   "cell_type": "markdown",
   "id": "48eb0d0b-0757-4663-90a4-bd46ae36e417",
   "metadata": {},
   "source": [
    "#### 辞書型 dict\n",
    "\n",
    "配列はリストが順番に入っている入れ物で、インデックスで要素を参照可能でした。辞書型は要素を「キー」（索引）で参照する入れ物です。キーとなりうるデータは数値、文字列、タプルなどです。"
   ]
  },
  {
   "cell_type": "code",
   "execution_count": null,
   "id": "00a9431a-f0b1-4762-8504-b96e8d01f917",
   "metadata": {
    "tags": [
     "remove-output"
    ]
   },
   "outputs": [],
   "source": [
    "# 空のdict\n",
    "my_empty_dict = dict()\n",
    "\n",
    "# データの入ったdict\n",
    "# キーも要素もデータ型が揃っている必要はない\n",
    "my_dict = {'a': 'AAAA', 3: 3333, tuple1: 'world'}"
   ]
  },
  {
   "cell_type": "markdown",
   "id": "624e2ddf-835f-4aab-97c9-f2a3c0e0f395",
   "metadata": {},
   "source": [
    "辞書型の要素を参照するときは鉤括弧にキーを入れます。辞書型と同様、要素の値を入れ替えることができます。また、全く新しいキーを加えることもできます。"
   ]
  },
  {
   "cell_type": "code",
   "execution_count": null,
   "id": "0bf4f57f-1b01-475f-a541-09b6b7deed40",
   "metadata": {
    "tags": [
     "remove-output"
    ]
   },
   "outputs": [],
   "source": [
    "print('my_dict[\"a\"] =', my_dict['a'])\n",
    "my_dict[3] = 4444\n",
    "my_dict[4] = 3333\n",
    "print(my_dict)"
   ]
  },
  {
   "cell_type": "markdown",
   "id": "2d5c3c12-81f5-430f-bbf4-3908003df170",
   "metadata": {},
   "source": [
    "辞書型に対しても`len()`が使えます。"
   ]
  },
  {
   "cell_type": "code",
   "execution_count": null,
   "id": "7e2efd8b-40e5-481b-8b44-e9e14c75faf8",
   "metadata": {
    "tags": [
     "remove-output"
    ]
   },
   "outputs": [],
   "source": [
    "print(f'my_dict has {len(my_dict)} elements.')"
   ]
  },
  {
   "cell_type": "markdown",
   "id": "4655e53e-cf47-4564-b875-e9492ee85e6d",
   "metadata": {},
   "source": [
    "#### 真理値型 bool\n",
    "\n",
    "真理値を表す`bool`型には`True`または`False`の二通りの値しかありません。その代わり、様々な表現が真理値に明示的・暗示的に変換可能で、後述する`if`文などで利用されます。表現を明示的に真理値に変えるには`bool()`関数に表現を渡します。"
   ]
  },
  {
   "cell_type": "code",
   "execution_count": null,
   "id": "1b4177ab-7269-44f5-91e2-00f74ada2a42",
   "metadata": {
    "tags": [
     "remove-output"
    ]
   },
   "outputs": [],
   "source": [
    "# 数値を真理値に変換。0、0.0、0.0+0.0j以外は全てTrue\n",
    "print('bool(1) =', bool(1))\n",
    "print('bool(0) =', bool(0))\n",
    "print('bool(2.3) =', bool(2.3))\n",
    "print('bool(0.) =', bool(0.)) # 小数点以下がゼロであるときにデータが実数型であることを表現するためには、小数点を末尾につける\n",
    "print('bool(3.7+0.j) =', bool(3.7+0.j))\n",
    "print('bool(0.+0.j) =', bool(0.+0.j))\n",
    "\n",
    "# 文字列を真理値に変換。長さ0の文字列以外は全てTrue\n",
    "print('bool(\"\") =', bool(\"\"))\n",
    "print('bool(\"Hello\") =', bool(\"Hello\"))\n",
    "\n",
    "# tuple, list, dictを真理値に変換。長さ（要素数）0のときFalse、それ以外はTrue\n",
    "print('bool(my_tuple) =', bool(my_tuple))\n",
    "print('bool(my_empty_tuple) =', bool(my_empty_tuple))\n",
    "print('bool(my_list) =', bool(my_list))\n",
    "print('bool(my_empty_list) =', bool(my_empty_list))\n",
    "print('bool(my_dict) =', bool(my_dict))\n",
    "print('bool(my_empty_dict) =', bool(my_empty_dict))"
   ]
  },
  {
   "cell_type": "markdown",
   "id": "bf3e688a-ab2d-4b94-9e27-0584bea73277",
   "metadata": {},
   "source": [
    "#### None型\n",
    "\n",
    "Pythonプログラム中で特別な型・値として`None`があります。これはデータがない状態を表します。数値の`0`、文字列の`''`、真偽値の`False`などはそれぞれ型があり有効なデータなので、それらとは異なる「無」の状態を表すために`None`を使います。"
   ]
  },
  {
   "cell_type": "markdown",
   "id": "45d892cd-02a3-4068-9061-e0a3757869f2",
   "metadata": {},
   "source": [
    "### 関数\n",
    "\n",
    "プログラムは最悪全ての命令を一行ずつ書き下していけば走りますが、繰り返し行う動作や、論理上ひとまとまりにした方が全体の可読性が高まるコードの続きなどは、関数として定義します。すでに登場した`print()`や`len()`も関数です。\n",
    "\n",
    "関数は引数（ひきすう、インプット）をとり、その値に応じて挙動を変えることができます。関数には返り値があり、関数を実行した結果として変数に代入したりできます。\n",
    "\n",
    "```{admonition} 引数の型\n",
    "Pythonでは変数が型に縛られないので、関数も引数の型を決めずに定義されます。どんな引数を渡しても、関数の内部のコードが引数のデータ型に対して有効でさえあれば、有効な関数となります。C++やJavaでいう関数のオーバーロードが自動で行われているとも考えられます。\n",
    "```\n",
    "\n",
    "関数の定義には`def`というキーワードを使い、コードを一段インデントして記述します。関数名に使える文字は変数名のものと同じです。"
   ]
  },
  {
   "cell_type": "code",
   "execution_count": null,
   "id": "4c985cc2-9486-4c7a-a9c9-5bde938a4c15",
   "metadata": {
    "tags": [
     "remove-output"
    ]
   },
   "outputs": [],
   "source": [
    "# myfunctionという名の関数を定義する。argは引数で、「関数を呼んだときに渡される最初の引数の値が関数内のコードでargという変数として使用される」ことを意味する\n",
    "def my_function(arg):\n",
    "    # 渡された引数をprintする\n",
    "    print(arg)\n",
    "    # 引数に2を足した値を返す\n",
    "    return arg + 2\n",
    "\n",
    "# myfunctionをaを引数として実行し、返ってきた値をa_plus_2に代入する\n",
    "a_plus_2 = my_function(a)\n",
    "print('Returned value:', a_plus_2)"
   ]
  },
  {
   "cell_type": "markdown",
   "id": "5d2c24ab-5c8a-447d-b77c-8e4eda7e046a",
   "metadata": {},
   "source": [
    "関数の引数にはデフォルトの値を持たせることができます。そのような引数には、関数実行時に値を指定されなければ、設定されたデフォルト値が代入されます。\n",
    "\n",
    "また、関数は、関数が定義されている部分のコード中で定義されている変数を参照することができます。\n",
    "\n",
    "```{admonition} 変数のスコープ\n",
    "Pythonの変数のスコープの考え方はC/C++などと異なるので注意が必要です。\n",
    "```"
   ]
  },
  {
   "cell_type": "code",
   "execution_count": null,
   "id": "fdce85eb-4043-447b-8178-d322a3b4df30",
   "metadata": {
    "tags": [
     "remove-output"
    ]
   },
   "outputs": [],
   "source": [
    "# arg2にはデフォルトで4という値が入る\n",
    "def another_function(arg1, arg2=4):\n",
    "    return arg1 + arg2\n",
    "\n",
    "# arg2の値を指定しなかったので、4が使われる\n",
    "print(another_function(3))\n",
    "# arg2を指定するとその値が使われる\n",
    "print(another_function(1, 5))\n",
    "\n",
    "# 関数の外で定義された変数\n",
    "outer_scope_variable = 'Q'\n",
    "\n",
    "# 引数を取らない関数もある\n",
    "def yet_another_function():\n",
    "    # 関数の中から外の変数を参照可能\n",
    "    return outer_scope_variable + 'uantum'\n",
    "\n",
    "print(yet_another_function())"
   ]
  },
  {
   "cell_type": "markdown",
   "id": "e42273bd-b8b7-4697-ba08-01b1fc77bfcd",
   "metadata": {},
   "source": [
    "### if文（条件文）\n",
    "\n",
    "プログラム中で、変数の値に応じて実行する内容を変えたい時はif文で条件分岐をすることができます。分岐したプログラムのコードは一段インデントして記述します。分岐したコードは独立なので、別々の変数を定義したり、全く異なる関数を実行したりできます。ただし一方でしか定義されない変数を作る場合は、もう一方のケースでその変数が参照されないか注意が必要です。"
   ]
  },
  {
   "cell_type": "code",
   "execution_count": null,
   "id": "b2923419-dd49-45af-8c0b-5bf05b9ecc27",
   "metadata": {
    "tags": [
     "remove-output"
    ]
   },
   "outputs": [],
   "source": [
    "# ifの後は一つ以上スペースを空けて、真偽値となる表現が入る\n",
    "if len(my_dict) == 4:\n",
    "    # my_dictの長さが4である場合\n",
    "    true_case = my_function(7)\n",
    "else:\n",
    "    # my_dictの長さが4でない場合\n",
    "    false_case = another_function(1, 3)"
   ]
  },
  {
   "cell_type": "code",
   "execution_count": null,
   "id": "9b31f78c-95e3-49d8-a778-93d21a7aa022",
   "metadata": {
    "tags": [
     "remove-output"
    ]
   },
   "outputs": [],
   "source": [
    "# 有効\n",
    "print(f'len(my_dict) was {len(my_dict)} so if I try to reference true_case I get this: {true_case}')"
   ]
  },
  {
   "cell_type": "code",
   "execution_count": null,
   "id": "d3892034-bf33-48d0-9069-bd477b574dd2",
   "metadata": {
    "tags": [
     "raises-exception",
     "remove-output"
    ]
   },
   "outputs": [],
   "source": [
    "# エラーを起こす\n",
    "print(f'len(my_dict) was {len(my_dict)} so if I try to reference false_case I get this: {false_case}')"
   ]
  },
  {
   "cell_type": "markdown",
   "id": "66083049-661e-45e6-bba4-62fd498305f9",
   "metadata": {},
   "source": [
    "```{admonition} 変数のスコープ\n",
    "if文は独立のスコープを持たないので、上のようなことが起こります。下で登場するforやwhileでも同様です。\n",
    "```\n",
    "\n",
    "上でさまざまな型を`bool()`で真偽値に変換しましたが、if文の条件部分ではこの変換が自動で行われます。"
   ]
  },
  {
   "cell_type": "code",
   "execution_count": null,
   "id": "1cf3924d-accc-4677-b27c-8a6ba748de33",
   "metadata": {
    "tags": [
     "remove-output"
    ]
   },
   "outputs": [],
   "source": [
    "print('Conditional expression on the length of my_empty_tuple:')\n",
    "\n",
    "if my_empty_tuple:\n",
    "    # my_empty_tupleの長さが0でないケース\n",
    "    print('my_empty_tuple is actually not empty')\n",
    "    \n",
    "# 条件文にはelseがなくてもいい"
   ]
  },
  {
   "cell_type": "markdown",
   "id": "af96b4c4-913d-4983-a162-2f9992b6305d",
   "metadata": {},
   "source": [
    "### for文、while文（ループ）\n",
    "\n",
    "同じコードを（条件を変えながら）何度も実行したいときは、for文やwhile文を使ったループを作ります。"
   ]
  },
  {
   "cell_type": "code",
   "execution_count": null,
   "id": "6a079fab-0ff9-4fee-9162-f1a83ff921c1",
   "metadata": {
    "tags": [
     "remove-output"
    ]
   },
   "outputs": [],
   "source": [
    "# リストの要素についてループ。インデントされている部分が要素数だけ繰り返し実行され、変数elementに各要素が代入される\n",
    "for element in my_list:\n",
    "    print(f'another_function({element}, {element}) = {another_function(element, element)}')\n",
    "    \n",
    "# 0から5までの整数についてループ\n",
    "for index in range(6):\n",
    "    print(f'another_function({index}) = {another_function(index)}')\n",
    "    \n",
    "# 配列の各要素が一定の長さの配列である場合、要素配列の要素を直接ループ変数に代入できる\n",
    "list_of_tuples = [('x', 10), ('y', 6)]\n",
    "for char_var, num_var in list_of_tuples:\n",
    "    print(f'char_var = {char_var}, num_var = {num_var}')\n",
    "    \n",
    "# my_stringの長さが10以上になるまでループ\n",
    "my_string = ''\n",
    "while len(my_string) < 10: # 文字列の長さもlen()でわかる\n",
    "    my_string += 'abc'\n",
    "    \n",
    "print(my_string)"
   ]
  },
  {
   "cell_type": "markdown",
   "id": "048d3215-0d07-48c5-a81d-29f7708b9d4a",
   "metadata": {},
   "source": [
    "### クラス、オブジェクト、メソッド\n",
    "\n",
    "上で基本のデータ型を紹介しましたが、Pythonではプログラム中で新たに型を定義することができます。型のことをクラスともいい、これまでデータと呼んできた構造をオブジェクトともいいます。全てのオブジェクトは何らかのクラスの一つの具象化（インスタンス）です。\n",
    "\n",
    "このワークブックでは新たにクラスを定義することはありませんが、参考のためにクラスの記述の仕方を紹介します。"
   ]
  },
  {
   "cell_type": "code",
   "execution_count": null,
   "id": "7e2aea44-0d42-42ac-a157-d5bab561a9cb",
   "metadata": {
    "tags": [
     "remove-output"
    ]
   },
   "outputs": [],
   "source": [
    "class EmptyClass:\n",
    "    pass # passは「文法上インデントしなければいけないけどプログラムとして何もしない」ことを表す"
   ]
  },
  {
   "cell_type": "markdown",
   "id": "2397c245-d926-480e-962b-601bf67e1323",
   "metadata": {},
   "source": [
    "このままでは`EmptyClass`というクラスがプログラムの中で定義されているという他、何の役割も果たしません。プログラムによってはあるクラスが存在するだけでいいということもありますが、通常は属性（インスタンスに付随するデータ）を足したり、「メソッド」を定義したりします。メソッドというのはクラスに対して定義される関数のことです。インスタンスを自動的に引数に取るため、挙動がインスタンスごとに異なります。"
   ]
  },
  {
   "cell_type": "code",
   "execution_count": null,
   "id": "445524d5-81c4-4d3b-b40c-98b87ebea2ce",
   "metadata": {
    "tags": [
     "remove-output"
    ]
   },
   "outputs": [],
   "source": [
    "class MoreFunctionalClass:\n",
    "    # __init__は特殊メソッド（コンストラクタ）で、インスタンス生成時に呼ばれる\n",
    "    def __init__(self, x, y):\n",
    "        # メソッドの最初の引数selfはインスタンスを指す\n",
    "        self.attr_x = x\n",
    "        self._y = y\n",
    "\n",
    "    # メソッドの一例\n",
    "    def add_y_to_x(self):\n",
    "        return self.attr_x + self._y\n",
    "    \n",
    "# MoreFunctionalClassのインスタンスを作り、変数mに代入する\n",
    "m = MoreFunctionalClass(2, 5)\n",
    "\n",
    "# インスタンスの属性を参照する\n",
    "print(f'Value of attr_x of m is {m.attr_x}')\n",
    "\n",
    "# インスタンスのメソッドを実行する\n",
    "# 引数selfは自動で渡される\n",
    "print(f'Calling add_y_to_x on m: {m.add_y_to_x()}')"
   ]
  },
  {
   "cell_type": "markdown",
   "id": "cce0910b-0994-4bd9-8648-25e0e119672a",
   "metadata": {},
   "source": [
    "### モジュールのインポート\n",
    "\n",
    "通常、Pythonプログラムは一つのファイルに書ききられません。コードが長くなりすぎるだけでなく、定義される関数やクラスが他のプログラムでも利用できる場合があるからです。別ファイルで定義された変数、関数、クラスなどをプログラム中で使用するには、`import`という命令を使い、ファイルの名前や、場合によってはファイル中の使用したい特定の関数名などを指定します。`import`で取り込まれるファイルをPythonモジュールと呼びます。"
   ]
  },
  {
   "cell_type": "code",
   "execution_count": null,
   "id": "7b361688-8d67-4b96-b8ba-9c905fbe636c",
   "metadata": {
    "tags": [
     "remove-output"
    ]
   },
   "outputs": [],
   "source": [
    "# osというスタンダードライブラリのモジュールをインポート\n",
    "import os\n",
    "# osモジュールで定義されているgetcwd()という関数（現在どのディレクトリからプログラムを実行しているかを返す）を呼ぶ\n",
    "print(os.getcwd())\n",
    "\n",
    "# qiskit（IBMの量子コンピューティング用ライブラリ）からQuantumCircuitクラスをインポート\n",
    "from qiskit import QuantumCircuit\n",
    "\n",
    "# numpy（数値計算用ライブラリ）をインポートし、プログラム中npという短縮したモジュール名で使用\n",
    "import numpy as np"
   ]
  },
  {
   "cell_type": "markdown",
   "id": "479f3236-0a3a-4d9f-aee4-746d37d4dedc",
   "metadata": {},
   "source": [
    "Pythonの非常に大きな強みが、ユーザーベースの広さとオープンソースのライブラリの多さです。Pythonでやりたいと思うことは大体誰かがすでに実装していて、[PyPI](https://pypi.org)などでパッケージとして公開しているので、ユーザーはパッケージをインストールしてプログラム中からモジュールを`import`すればいい、という具合です。"
   ]
  },
  {
   "cell_type": "markdown",
   "id": "856a0ca2-4221-4ef7-ae1a-bb76bd7f6e33",
   "metadata": {},
   "source": [
    "### 例外（exception）\n",
    "\n",
    "プログラムで想定していない操作が要求されたときには「例外」が発生します。上の例では、文字列と整数を加えようとしたときや、if文の分岐によって定義されていない変数を参照しようとしたときに例外が発生しました。例外が発生するとプログラムの実行が中断されますが、これは実は必ずしも「クラッシュ」ということではありません。Pythonには例外の発生を検知して対処できる仕組みが備わっています。例外処理をするには、例外が発生する可能性のあるコードを`try:`というキーワードで始まるブロックに入れ、直後に`except`というキーワードから始まるブロックに対処のためのコードを記述しておきます。"
   ]
  },
  {
   "cell_type": "code",
   "execution_count": null,
   "id": "b7b68b41-59a1-4868-87a3-661e8271ff49",
   "metadata": {
    "tags": [
     "remove-output"
    ]
   },
   "outputs": [],
   "source": [
    "s = 'The value of variable x is '\n",
    "x = 3\n",
    "\n",
    "# try以下のブロックで例外が発生すると、ブロック中のコードの実行がその時点で止まり、後ろのexceptブロックが実行される\n",
    "try:\n",
    "    # 文字列と整数を加えようとするとエラーになる\n",
    "    print(s + x)\n",
    "    \n",
    "except TypeError: # TypeError型の例外が発生したら、以下のブロックを実行する\n",
    "    print(f'Oops, {type(s)} and {type(x)} are not compatible')\n",
    "    \n",
    "except: # その他の型の例外が発生したら、以下のブロックを実行する\n",
    "    print(f'This was unexpected: We got a {ex}')"
   ]
  },
  {
   "cell_type": "markdown",
   "id": "70c043c0-6b2f-4a33-980f-0c03458d2d45",
   "metadata": {},
   "source": [
    "上の例にあるように、例外にも型があり、例外発生のさまざまな理由を区別できるようになっています。例外とその処理はPythonの正常なプログラムフローの一部として捉えるべきで、`try``except`を上手に使うことでより「Pythonらしい」コードが書けると言われています。\n",
    "\n",
    "例えば、辞書型に対して存在しないキーで値を参照しようとすると`KeyError`が発生します。これを回避するにはキーが存在するか事前に確認すればいいわけですが、確認した結果キーが存在したとして、その後値を参照するとすると、結局二回同じキーを検索することになります。それなら、最初から参照しようとしてみて、エラーが出たらキーが存在しなかったときの処理に移る、という方が実は効率的です。"
   ]
  },
  {
   "cell_type": "code",
   "execution_count": null,
   "id": "cfacc642-c2a1-437e-985d-95fece4c350c",
   "metadata": {
    "tags": [
     "remove-output"
    ]
   },
   "outputs": [],
   "source": [
    "d = {'this': 3, 'is': 89, 'a': 123, 'dictionary': 98}\n",
    "\n",
    "# dにキー'a'があるかどうか確認し、それからその値を使う。'a'がなければ他のことをする\n",
    "# キーの存在を調べるにはinという演算子を使う\n",
    "if 'a' in d:\n",
    "    a_value = d['a']\n",
    "else:\n",
    "    print('d does not have an entry for \"a\"')\n",
    "    a_value = None\n",
    "    \n",
    "# もっと効率的な実装\n",
    "try:\n",
    "    a_value = d['a']\n",
    "except KeyError:\n",
    "    print('d does not have an entry for \"a\"')\n",
    "    a_value = None"
   ]
  },
  {
   "cell_type": "markdown",
   "id": "52387b0b-62fe-4f6b-a1d2-bdf3c44a6197",
   "metadata": {},
   "source": [
    "## 実用編\n",
    "\n",
    "Pythonの文法や基本概念を一通りさらったので、実際にワークブックに登場するようなプログラムを書くのに必要なものの紹介に移ります。\n",
    "\n",
    "### 実習で登場する組み込み関数/型（Built-in functions）\n",
    "\n",
    "組み込み関数とは、`import`なしでPython言語に最初から定義されている関数のことです。"
   ]
  },
  {
   "cell_type": "code",
   "execution_count": null,
   "id": "eb655623-9eae-4a0c-ba06-b1fb4714bd63",
   "metadata": {
    "tags": [
     "remove-output"
    ]
   },
   "outputs": [],
   "source": [
    "# abs: 数値の絶対値を返す\n",
    "abs(-2.3) # 2.3\n",
    "abs(1.2+1.6j) # 複素数の絶対値（sqrt(real * real + imag * imag)）-> 2.0\n",
    "\n",
    "# enumerate: 配列のインデックスと要素を順番に返す\n",
    "l = ['a', 'b', 'c']\n",
    "for idx, element in enumerate(l):\n",
    "    # ループの繰り返しごとに、idx（インデックス）は値 0, 1, 2 をとり、elementは 'a', 'b', 'c' になる\n",
    "    pass\n",
    "\n",
    "# isinstance: 変数やリテラルが特定のクラスのオブジェクトかチェックする\n",
    "isinstance(l, list) # True\n",
    "isinstance(2.3, int) # False\n",
    "\n",
    "# len: 配列や辞書の長さを返す\n",
    "len(l) # 3\n",
    "\n",
    "# max: 引数の中から最大のものを返す\n",
    "# min: 引数の中から最小のものを返す\n",
    "max(3, 1, 9) # 9\n",
    "min('b', 'x', 'c') # 比較演算子が定義されている型であれば成立 -> 'b'\n",
    "max(l) # 引数が配列の場合、要素が比較される -> 'c'\n",
    "\n",
    "# print: 文字列を表示する\n",
    "print(\"We've already seen this\")\n",
    "\n",
    "# range: 一定間隔の整数の配列を作る\n",
    "range(5) # 0, 1, 2, 3, 4\n",
    "range(78, 92) # 78から91までの14個の整数の配列\n",
    "range(3, 10, 2) # 3以上10未満、間隔2の整数の配列 = 3, 5, 7, 9\n",
    "range(4, 1, -1) # 間隔は負でもよい。4, 3, 2\n",
    "\n",
    "# sum: 配列の要素の総和を返す\n",
    "sum([5, 6, 7]) # 18\n",
    "\n",
    "# zip: 複数の配列から要素をタプルにまとめた配列を作る\n",
    "m = [9, 4, 5]\n",
    "for char, num in zip(l, m):\n",
    "    # [(l[0], m[0]), (l[1], m[1]), ...]のforループと等価\n",
    "    pass"
   ]
  },
  {
   "cell_type": "markdown",
   "id": "a03959c0-d3b9-4eb7-bfe5-e3db84cea1c0",
   "metadata": {},
   "source": [
    "文字列（`str`）、リスト（`list`）、タプル（`tuple`）、辞書（`dict`）などの組み込み型でよく使うメソッドも紹介しておきます。"
   ]
  },
  {
   "cell_type": "code",
   "execution_count": null,
   "id": "0ac19547-88fc-4c75-9a66-6d7fa20989ac",
   "metadata": {
    "tags": [
     "remove-output"
    ]
   },
   "outputs": [],
   "source": [
    "# str.join: 文字列の配列をつなげる\n",
    "', '.join(['apples', 'bananas', 'bonobos']) # 'apples, bananas, bonobos'\n",
    "\n",
    "# list.append: 配列の最後に要素を足す\n",
    "[0, 1].append(2) # [0, 1, 2]\n",
    "\n",
    "# list.insert: 配列の任意の位置に要素を挿入する。最初の引数が位置、次の引数が要素\n",
    "['x', 'y'].insert(0, 'a') # ['a', 'x', 'y']\n",
    "\n",
    "# dict.keys: 辞書のキーの配列を作る\n",
    "d = {'this': 3, 'is': 89, 'a': 123, 'dictionary': 98}\n",
    "for key in d.keys():\n",
    "    # keyが'this', 'is', 'a', 'dictionary'のいずれかの値になる\n",
    "    # ただし、キーがどの順番で現れるかは（特殊な場合を除いて）不確定\n",
    "    pass\n",
    "\n",
    "# dict.values: 辞書の値の配列を作る\n",
    "for value in d.values():\n",
    "    # valueが3, 89, 123, 98のいずれかの値になる\n",
    "    # keysと同じく順序は不確定\n",
    "    pass\n",
    "\n",
    "# dict.items: 辞書のキーと値のペアの配列を作る\n",
    "for key, value in d.items():\n",
    "    # keysと同じく順序は不確定\n",
    "    pass\n",
    "\n",
    "# dict.get: [key]と同じように特定のキーに対応する値を返すが、キーが存在しない場合にデフォルトの返り値を設定できる\n",
    "d.get('that', 39) # 39 (default value)"
   ]
  },
  {
   "cell_type": "markdown",
   "id": "53aa842f-28de-457a-9d24-313c307751e7",
   "metadata": {},
   "source": [
    "### NumPy\n",
    "\n",
    "Pythonで数値計算をする際に今や欠かせない存在になっているのが、NumPy（「なむぱい」もしくは「なむぴー」）ライブラリです。NumPyは基本的には数値の（多次元）配列に対して効率的に数値計算をすることを目的に書かれていますが、サポートされている計算オペレーションの多様さも支持を広げる要因になっています。\n",
    "\n",
    "このワークブックで利用するNumPyの機能について解説します。あまり複雑なものは使用していません。まずは`numpy`をインポートしますが、慣習的に`np`と短縮したモジュール名を使います。"
   ]
  },
  {
   "cell_type": "code",
   "execution_count": null,
   "id": "1696936d-14ed-40ac-8263-3e81637b5b00",
   "metadata": {
    "tags": [
     "remove-output"
    ]
   },
   "outputs": [],
   "source": [
    "import numpy as np"
   ]
  },
  {
   "cell_type": "markdown",
   "id": "526215c8-99ae-4ba0-b860-3a9103f6dbfe",
   "metadata": {},
   "source": [
    "#### 配列を作る\n",
    "\n",
    "numpyの配列は`ndarray`という独自のクラスのオブジェクトで、リストやタプルとは異なります。"
   ]
  },
  {
   "cell_type": "code",
   "execution_count": null,
   "id": "6dbf6520-7676-4631-97e2-1164feb4d071",
   "metadata": {
    "tags": [
     "remove-output"
    ]
   },
   "outputs": [],
   "source": [
    "# データから直接作る\n",
    "arr = np.array([0., 1., 2.5, 7.]) # numpyの配列では要素のデータ型が揃っている必要がある。ただし整数と実数が混ざっていれば実数の、複素数が混ざっていれば複素数の配列が作られる\n",
    "\n",
    "# 配列を作る関数から作る\n",
    "arr = np.arange(4) # 組み込みrange(4)のように、[0, 1, 2, 3]という配列を作る\n",
    "arr = np.linspace(0., 1., 100) # 長さ100の配列で、0.0から1.0まで等間隔に値を取る\n",
    "arr = np.zeros(5, dtype=float) # 長さ5の配列で、全ての要素が0.0。dtype=floatはデータ型を陽に実数と決めるための引数\n",
    "arr = np.ones(7, dtype=bool) # 長さ7の配列で、全ての要素が1。ただしdtype=boolとしたので、1の真偽値変換（True）が入る\n",
    "arr = np.empty(4) # 長さ4の配列で、値が初期化されていない\n",
    "\n",
    "# さまざまな配列をndarrayに変換する\n",
    "m = [9, 4, 5]\n",
    "arr = np.asarray(m)\n",
    "arr2 = np.asarray(arr) # ndarrayをasarrayに入れても何も起こらない（arrとarr2は同じオブジェクト）\n",
    "\n",
    "# ある配列と同じ形（次元数と各次元の要素数）の配列を作る\n",
    "arr2 = np.zeros_like(arr)\n",
    "arr2 = np.ones_like(arr)\n",
    "arr2 = np.empty_like(arr)"
   ]
  },
  {
   "cell_type": "markdown",
   "id": "3e1dc56f-611d-4178-9382-afeddd9ea713",
   "metadata": {},
   "source": [
    "#### 配列の要素を参照する"
   ]
  },
  {
   "cell_type": "code",
   "execution_count": null,
   "id": "2a746409-99a3-465f-a392-b4a6c94c732e",
   "metadata": {
    "tags": [
     "remove-output"
    ]
   },
   "outputs": [],
   "source": [
    "# 要素数2x4の2次元配列を生成\n",
    "arr = np.array([[0, 1, 2, 3], [4, 5, 6, 7]])\n",
    "print('The full array:')\n",
    "print(arr)\n",
    "\n",
    "# 1次元目のインデックス0、2次元目のインデックス3の要素を選ぶ\n",
    "print(f'arr[0, 3] = {arr[0, 3]}')\n",
    "\n",
    "# 1次元目のインデックス1の要素（＝2次元目に相当する配列）\n",
    "print(f'arr[1] = {arr[1]}')\n",
    "\n",
    "# 1次元目のインデックス1、2次元目は0から2つおきに抽出\n",
    "print(f'arr[1, 0:4:2] = {arr[1, 0:4:2]}')"
   ]
  },
  {
   "cell_type": "markdown",
   "id": "3634435f-b94d-42b1-8b7a-edba1fc3da6b",
   "metadata": {},
   "source": [
    "#### 配列を操作する"
   ]
  },
  {
   "cell_type": "code",
   "execution_count": null,
   "id": "32da286f-7af4-4f46-95f6-75f8ed23b54e",
   "metadata": {
    "tags": [
     "remove-output"
    ]
   },
   "outputs": [],
   "source": [
    "# reshape: 配列の次元数や各次元の要素数を変える\n",
    "arr = np.arange(12) # 要素数12の1次元配列\n",
    "print(arr)\n",
    "rarr = arr.reshape(3, 4) # 要素数3x4の2次元配列。[0, 0]が0、[0, 1]が1、...\n",
    "print(f'reshaped: {rarr}')\n",
    "\n",
    "# concatenate: 配列をつなげる\n",
    "brr = np.ones(4, dtype=int)\n",
    "crr = np.concatenate((arr, brr))\n",
    "print(f'concatenated: {crr}')"
   ]
  },
  {
   "cell_type": "markdown",
   "id": "ff0a5d87-ee92-486f-ae9e-7e23d16125b8",
   "metadata": {},
   "source": [
    "#### 配列に対して計算を施す\n",
    "\n",
    "NumPyの大きな強みの一つが、さまざまな計算オペレーションが配列全体に対して同時に実行されることです。例えば`[0, 1, 2]`と`[3, 4, 5]`という配列があり、それらの要素同士の足し算をしたいとしたら、配列がPythonの`list`や`tuple`型であった場合のコードは"
   ]
  },
  {
   "cell_type": "code",
   "execution_count": null,
   "id": "9c65150d-417b-4987-85a1-71395b5059f6",
   "metadata": {
    "tags": [
     "remove-output"
    ]
   },
   "outputs": [],
   "source": [
    "list1 = [0, 1, 2]\n",
    "list2 = [3, 4, 5]\n",
    "\n",
    "list1 + list2 # これではただリストが繋がるだけなので\n",
    "\n",
    "# ループを回して要素ごとに足し算をする必要がある\n",
    "list3 = []\n",
    "for i1, i2 in zip(list1, list2):\n",
    "    list3.append(i1 + i2)\n",
    "    \n",
    "print(list3)"
   ]
  },
  {
   "cell_type": "markdown",
   "id": "5c380970-4b79-4dfe-aeca-22b87c4c4c82",
   "metadata": {},
   "source": [
    "のようになります。これだと簡単なことをするために何行もコードがいるだけでなく、実は非常に非効率です。というのも、Pythonには、コード一行一行の実行が比較的遅いという弱点があるからです。これはPythonがCやJavaのようにプログラム全体を「コンパイル」して最初から機械言語に変換して実行する言語ではないことに起因します。上のようにループを回すと、ループの繰り返しごと、一行ごとに書かれている命令を解釈し直すので、時間がかかります。無論繰り返し数3のループではCなどとPythonの間で人間が感知できるような時間の差はありませんが、配列の大きさが例えば数十万を超えてくると、明らかに違いが見えてきます。\n",
    "\n",
    "リストを使った上のケースに対して、NumPyの`ndarray`を使った場合は"
   ]
  },
  {
   "cell_type": "code",
   "execution_count": null,
   "id": "37f7b81d-47d4-495e-a0fc-d468243ac6ae",
   "metadata": {
    "tags": [
     "remove-output"
    ]
   },
   "outputs": [],
   "source": [
    "arr1 = np.array([0, 1, 2])\n",
    "arr2 = np.array([3, 4, 5])\n",
    "\n",
    "arr3 = arr1 + arr2 # これで要素ごとの足し算が行われる\n",
    "\n",
    "print(arr3)"
   ]
  },
  {
   "cell_type": "markdown",
   "id": "73e31f10-c091-4616-9a1c-eee01038b8e0",
   "metadata": {},
   "source": [
    "となります。コードの行数が少なくなっただけでなく、実はこの場合はCなどと同じ速さで計算が行われます。NumPyはPythonから扱えるモジュールですが、中身はコンパイルされて極度に最適化されたライブラリなのです。\n",
    "\n",
    "配列に対して行える計算には要素ごとの四則演算だけでなく、さまざまな数学的関数もあります。"
   ]
  },
  {
   "cell_type": "code",
   "execution_count": null,
   "id": "2b09b02b-d5d5-4d7e-b488-d874fb459c36",
   "metadata": {
    "tags": [
     "remove-output"
    ]
   },
   "outputs": [],
   "source": [
    "# 要素ごとの引き算、掛け算、割り算\n",
    "arr1 - arr2\n",
    "arr1 * arr2\n",
    "arr1 // arr2\n",
    "arr1 / arr2\n",
    "\n",
    "# 配列と一つの数（スカラー）との演算。配列の全ての要素に同じ演算が施される\n",
    "arr1 + 2\n",
    "arr1 - 3\n",
    "arr1 * np.pi # np.pi = 3.141592653589793\n",
    "arr1 // 2\n",
    "arr1 / np.e # np.e = 2.718281828459045\n",
    "arr1 ** 3\n",
    "\n",
    "# 数学的関数の数々\n",
    "np.exp(arr1)\n",
    "np.log(arr2)\n",
    "np.log2(arr2) # 2を底とする対数\n",
    "np.cos(arr1)\n",
    "np.sin(arr1)\n",
    "np.tan(arr1)\n",
    "np.arccos(np.linspace(0., 1., 20))\n",
    "np.arcsin(np.linspace(0., 1., 20))\n",
    "np.arctan(arr1)\n",
    "np.square(arr1) # 全ての要素を2乗する\n",
    "np.sqrt(arr1) # 全ての要素のルートを取る\n",
    "np.ceil(arr1) # ceiling (値以上で最も小さい整数)\n",
    "np.floor(arr1) # floor (値以下で最も大きい整数)"
   ]
  },
  {
   "cell_type": "markdown",
   "id": "f4d143e3-c2d8-49f8-95ab-e6e0565399c1",
   "metadata": {},
   "source": [
    "要素ごとではなく配列全体にかかる関数もあります。"
   ]
  },
  {
   "cell_type": "code",
   "execution_count": null,
   "id": "83e1776d-8304-4225-b364-a7d51e84794a",
   "metadata": {
    "tags": [
     "remove-output"
    ]
   },
   "outputs": [],
   "source": [
    "# 配列の全要素を足し上げる\n",
    "np.sum(arr2)\n",
    "\n",
    "# 配列の要素の平均値\n",
    "np.mean(arr2)"
   ]
  },
  {
   "cell_type": "markdown",
   "id": "39376a2f-924e-41df-95c0-66e1793392a3",
   "metadata": {},
   "source": [
    "NumPyで実装されている関数はあまりにも多いので、このワークブックで使われている分でもここで紹介しきれていないかもしれません。残りは[NumPyのドキュメンテーション](https://numpy.org/doc/stable/)を参照してください。"
   ]
  },
  {
   "cell_type": "markdown",
   "id": "34566fb5-a213-45f6-a00d-1a7421cd5e6f",
   "metadata": {},
   "source": [
    "### Matplotlib\n",
    "\n",
    "NumPyで行った数値計算の結果を可視化するとき、おそらく最もよく用いられるのがMatplotlibというグラフ描画ライブラリです。このワークブックではMatplotlibのごく限られた機能しか使わないので、ここでは最低限の説明にとどめておきます。\n",
    "\n",
    "Matplotlibのモジュール名は`matplotlib`ですが、また慣習的に`mpl`と略してインポートすることが多いようです。また、`matplotlib`そのものよりも、そのサブモジュールである`matplotlib.pyplot`の方をインポートすることが多く、こちらもまた慣習的に`plt`と略されます。"
   ]
  },
  {
   "cell_type": "code",
   "execution_count": null,
   "id": "e2f352a4-96b6-4b03-81ed-a383fb36fc86",
   "metadata": {
    "tags": [
     "remove-output"
    ]
   },
   "outputs": [],
   "source": [
    "import matplotlib.pyplot as plt"
   ]
  },
  {
   "cell_type": "markdown",
   "id": "21ec4a96-c2af-47ad-a591-17b4e9a57346",
   "metadata": {},
   "source": [
    "Matplotlibには「図」（Figure）と「グラフ描画領域」（Axes）という概念があります。一つのFigureの中に複数のAxesが存在でき、各Axesに一つのプロットが描画される構造になっています。\n",
    "\n",
    "このワークブックでは新しい図を作るのに二通りのコードが登場します。"
   ]
  },
  {
   "cell_type": "code",
   "execution_count": null,
   "id": "1cb89038-0104-4a1e-a1bb-82ba3c446c02",
   "metadata": {
    "tags": [
     "remove-output"
    ]
   },
   "outputs": [],
   "source": [
    "# 空っぽのFigureを作る\n",
    "fig = plt.figure()\n",
    "# Axesを一つ作る\n",
    "ax = fig.add_subplot()\n",
    "\n",
    "# Figureを作ると同時に、中身のAxesも作り、配置する\n",
    "fig, axs = plt.subplots(2, 3) # 縦に2列、横に3列の合計6個のAxesが生成される。figはFigureオブジェクト、axsはAxesオブジェクトの配列"
   ]
  },
  {
   "cell_type": "markdown",
   "id": "9ed9210d-9e80-4f87-9039-a972a0d5b0d3",
   "metadata": {},
   "source": [
    "こうして作ったFigureやAxesオブジェクトの様々なメソッドを使ってグラフを描くことができますが、実は単にxとyのデータがあって一つスキャッタープロットを作りたいという時などは、もっと簡単な方法を取ることもできます。"
   ]
  },
  {
   "cell_type": "code",
   "execution_count": null,
   "id": "b44a221d-aa7b-4729-bd2c-30f1d1bb8bea",
   "metadata": {
    "tags": [
     "remove-output"
    ]
   },
   "outputs": [],
   "source": [
    "xdata = np.linspace(0., 3. * np.pi, 100)\n",
    "ydata = np.cos(xdata)\n",
    "\n",
    "# 折れ線グラフを描く\n",
    "plt.plot(xdata, ydata)"
   ]
  },
  {
   "cell_type": "code",
   "execution_count": null,
   "id": "c1243220-e505-41c9-b4b2-191b8cfc9382",
   "metadata": {
    "tags": [
     "remove-output"
    ]
   },
   "outputs": [],
   "source": [
    "xdata = np.array([1., 3.3, 2.5])\n",
    "ydata = np.array([9.6, 7.4, 5.5])\n",
    "\n",
    "# スキャッタープロットを描く\n",
    "plt.scatter(xdata, ydata, label='points')\n",
    "plt.legend()"
   ]
  },
  {
   "cell_type": "markdown",
   "id": "fa084c26-0f92-4d92-a117-7c4017cf18e7",
   "metadata": {},
   "source": [
    "`plt.plot`や`plt.scatter`を複数実行すると、同じAxesにグラフが重なってプロットされます。実行の際に`label='some text'`という引数を足し、`plt.legend()`を呼ぶと、凡例が表示されます。また`plt.xlabel()`や`plt.ylabel()`でX, Y軸にタイトルをつけたり、`plt.title()`でプロット全体にタイトルをつけたりできます。"
   ]
  }
 ],
 "metadata": {
  "kernelspec": {
   "display_name": "Python 3 (ipykernel)",
   "language": "python",
   "name": "python3"
  },
  "language_info": {
   "codemirror_mode": {
    "name": "ipython",
    "version": 3
   },
   "file_extension": ".py",
   "mimetype": "text/x-python",
   "name": "python",
   "nbconvert_exporter": "python",
   "pygments_lexer": "ipython3",
   "version": "3.8.10"
  }
 },
 "nbformat": 4,
 "nbformat_minor": 5
}
