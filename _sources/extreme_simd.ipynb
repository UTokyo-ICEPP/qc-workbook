{
 "cells": [
  {
   "cell_type": "markdown",
   "id": "f7926951",
   "metadata": {},
   "source": [
    "# 計算をする量子回路の実装"
   ]
  },
  {
   "cell_type": "markdown",
   "id": "24f38166",
   "metadata": {},
   "source": [
    "量子状態生成の感覚がつかめてきたところで、量子計算をするとはどういうことかに話を移して行きましょう。\n",
    "\n",
    "```{contents} 目次\n",
    "---\n",
    "local: true\n",
    "---\n",
    "```\n",
    "\n",
    "$\\newcommand{\\ket}[1]{|#1\\rangle}$"
   ]
  },
  {
   "cell_type": "markdown",
   "id": "358f91aa",
   "metadata": {},
   "source": [
    "## 量子計算の特徴\n",
    "\n",
    "量子計算をするとはどういうことかを一概に決めることはできませんし、それ自体がまだ世界中で盛んに研究されているトピックです。ただ、現在知られている量子コンピュータの実用法に共通する大まかな特徴を挙げるならば、以下の2点になります。\n",
    "\n",
    "- **並列性を利用する**：Equal superposition状態で見たように、$n$量子ビットがあるとき、比較的簡単な操作で$2^n$個の計算基底が顕に登場する状態が作れます。また、この状態には全ての量子ビットが関与するため、どのビットに対するゲート操作も全ての計算基底に影響を及ぼします。つまり、各ゲート操作が常に$2^n$重の並列演算となります。\n",
    "- **干渉を利用する**：量子振幅は複素数なので、二つの振幅が足し合わされるとき、それぞれの位相によって和の振幅の値が変わります。特に絶対値が等しく位相が逆である（$\\pi$だけ異なる）場合和が0となるので、そのことを利用して回路の量子状態の重ね合わせから特定の計算基底を除くといったことが可能です。\n",
    "\n",
    "この2つの要素のうち、特に干渉を上手に使ったアルゴリズムを見出すのが難しいため、量子コンピュータの応用可能性にまだ未知数な部分が大きい、というのが現状です。今回の実習でも、干渉を利用する部分もありますが、主に並列性ということに着目します。\n",
    "\n",
    "## 巨大SIMDマシンとしての量子コンピュータ\n",
    "\n",
    "SIMD (single instruction multiple data)とは並列計算パラダイムの一つで、プロセッサの命令（instruction）が多数のデータに同時に適用されるケースを指します。私達の身の回りの（古典）コンピュータのプロセッサにもSIMD用のインストラクションセットが搭載されており、例えば（2021年11月現在）最先端の商用CPUでは、16個の単精度浮動小数点数に対し同時に四則演算や平方根の計算を行えます。\n",
    "\n",
    "量子コンピュータでは、第一回の実習で触れられたように、すべてのゲートがすべての計算基底に作用します。ゲート操作を命令、各計算基底の振幅をデータとして解釈すれば、これは常に$2^n$個のデータに命令を与えながら計算をしていることにあたります。量子コンピュータは巨大SIMDマシンとも考えられるのです。\n",
    "\n",
    "ただし、これもすでに触れられたことですが、巨大並列計算ができたとしても、そのデータをすべて引き出すことはできません[^and_you_dont_want_to]ので、古典計算機のSIMDとはいろいろな意味で単純に比較できるものではありません。\n",
    "\n",
    "とはいえ、並列計算を行っているんだということを実感できると、より量子コンピュータを使う感覚が身に付いてくると思われるので、今回は最も単純に「足し算」をたくさん並列に行う回路を書いてみましょう。\n",
    "\n",
    "[^and_you_dont_want_to]: そもそも、例えば65量子ビットの計算機からすべてのデータを保存しようと思うと、各振幅を128（古典）ビットの浮動小数点複素数で表現したとすれば512EiB (エクサバイト)のストレージが必要です。これはだいたい現在インターネットを行き来する情報二ヶ月分に相当するので、保存するファシリティを作るにはそれなりの投資が必要です。"
   ]
  },
  {
   "cell_type": "markdown",
   "id": "6de4242f",
   "metadata": {},
   "source": [
    "## 量子フーリエ変換による足し算\n",
    "\n",
    "これまで量子「計算機」の話をしていながら、単純であるはずの四則演算のやりかたについて触れていませんでした。理由は、実は量子コンピュータでは四則演算がそんなに単純でないから、です。\n",
    "\n",
    "足し算を行う量子サブルーチンはいくつか知られていますが、その中で量子ビットの数や用いるゲートの種類の面で効率的なのが、フーリエ変換を用いたものです{cite}`quantum_addition`。ただの足し算にフーリエ変換を持ち出すのは奇妙に思えますが、実際に動かしてみるとなかなかスマートな手法であることがわかります。\n",
    "\n",
    "まずは計算の流れを数式で追ってみましょう。整数$a$と$b$の足し算を考えます。まず、2つのレジスタをそれぞれ状態$\\ket{a}$と$\\ket{b}$に用意します。以下のように、第3のレジスタ（初期状態$\\ket{0}$）の状態が和$a+b$を表すようにすることが目標です。それぞれのレジスタは十分に大きい（レジスタ$i$のビット数を$n_i$として$2^{n_1} > a$, $2^{n_2} > b$, $2^{n_3} > a + b$）とします。\n",
    "\n",
    "$$\n",
    "\\ket{a}\\ket{b}\\ket{0} \\rightarrow \\ket{a}\\ket{b}\\ket{a+b}\n",
    "$$\n",
    "\n",
    "量子フーリエ変換は、ビット数$n$のレジスタの計算基底$\\ket{j}$を\n",
    "\n",
    "$$\n",
    "\\ket{j} \\xrightarrow{\\text{Q.F.T.}} \\frac{1}{\\sqrt{2^n}}\\sum_{k=0}^{2^n-1} e^{2\\pi i jk/2^n} \\ket{k}\n",
    "$$\n",
    "\n",
    "という状態に変える操作でした。では、その逆を考えると、整数$a+b < 2^n$について\n",
    "\n",
    "$$\n",
    "\\frac{1}{\\sqrt{2^n}}\\sum_{k=0}^{2^n-1} e^{2\\pi i (a+b)k/2^n} \\ket{k} \\xrightarrow{\\text{Q.F.T.}^{-1}} \\ket{a+b}\n",
    "$$\n",
    "\n",
    "ができることがわかります。すべての量子ゲートには逆操作が存在するので、すべての量子サブルーチンは逆回しできます。\n",
    "\n",
    "左辺の状態を作るには、これも量子フーリエ変換のアルゴリズムを参考にします。整数$a, b, k$の二進分解\n",
    "\n",
    "$$\n",
    "a = \\sum_{m=0}^{n_1-1} 2^m a_m \\\\\n",
    "b = \\sum_{m=0}^{n_2-1} 2^m b_m \\\\\n",
    "k = \\sum_{m=0}^{n_3-1} 2^m k_m\n",
    "$$\n",
    "\n",
    "を用いて、\n",
    "\n",
    "$$\n",
    "\\exp\\left(2\\pi i \\frac{(a+b)k}{2^{n_3}}\\right) = \\left[\\prod_{l=0}^{n_1-1}\\prod_{m=0}^{n_3-1} \\exp\\left(2\\pi i \\frac{2^{l+m} a_l k_m}{2^{n_3}}\\right)\\right]\\left[\\prod_{l=0}^{n_2-1}\\prod_{m=0}^{n_3-1} \\exp\\left(2\\pi i \\frac{2^{l+m} b_l k_m}{2^{n_3}}\\right)\\right]\n",
    "$$\n",
    "\n",
    "と書けることを利用します。つまり、レジスタ1または2の各ビットとレジスタ3の各ビットを一つずつ組み合わせて、両方のビットが1である（$a_l = k_m = 1$または$b_l = k_m = 1$の）ときに対応する分（$2\\pi 2^{l + m} / 2^{n_3}$）位相を進めれば、左辺の状態ができあがります。\n",
    "\n",
    "具体的には、まずレジスタ3をequal superpositionに用意し、レジスタ1の各ビットを制御、レジスタ3の各ビットを標的とした$C[P]$ゲートをかけていきます。\n",
    "\n",
    "$$\n",
    "\\begin{align}\n",
    "\\ket{a}\\ket{b}\\ket{0} & \\xrightarrow{H^{\\otimes n_3}} \\ket{a}\\ket{b} \\frac{1}{\\sqrt{2^{n_3}}} \\sum_{k=0}^{2^{n_3}-1} \\ket{k} \\\\\n",
    "& \\xrightarrow{C^{1;0}_{3;0}[P(2\\pi \\cdot 2^0 \\cdot 2^0/2^{n_3})]} \\ket{a}\\ket{b} \\frac{1}{\\sqrt{2^{n_3}}} \\sum_{k=0}^{2^{n_3}-1} \\exp \\left( 2\\pi i \\frac{a_0 k_0}{2^{n_3}} \\right) \\ket{k} \\\\\n",
    "& \\xrightarrow{C^{1;0}_{3;1}[P(2\\pi \\cdot 2^0 \\cdot 2^1/2^{n_3})]} \\ket{a}\\ket{b} \\frac{1}{\\sqrt{2^{n_3}}} \\sum_{k=0}^{2^{n_3}-1} \\exp \\left( 2\\pi i \\frac{a_0 (k_0 + 2k_1)}{2^{n_3}} \\right) \\ket{k} \\\\\n",
    "\\cdots & \\\\\n",
    "& \\xrightarrow{C^{1;0}_{3;n_3 - 1}[P(2\\pi \\cdot 2^0 \\cdot 2^{n_3 - 1}/2^{n_3})]} \\ket{a}\\ket{b} \\frac{1}{\\sqrt{2^{n_3}}} \\sum_{k=0}^{2^{n_3}-1} \\exp \\left( 2\\pi i \\frac{a_0 k}{2^{n_3}} \\right) \\ket{k} \\\\\n",
    "& \\xrightarrow{C^{1;1}_{3;0}[P(2\\pi \\cdot 2^1 \\cdot 2^0/2^{n_3})]} \\ket{a}\\ket{b} \\frac{1}{\\sqrt{2^{n_3}}} \\sum_{k=0}^{2^{n_3}-1} \\exp \\left( 2\\pi i \\frac{a_0 k + 2a_1 k_0}{2^{n_3}} \\right) \\ket{k} \\\\\n",
    "\\cdots & \\\\\n",
    "& \\xrightarrow{C^{1;n_1 - 1}_{3;n_3 - 1}[P(2\\pi \\cdot 2^{n_1-1} \\cdot 2^{n_3 - 1}/2^{n_3})]} \\ket{a}\\ket{b} \\frac{1}{\\sqrt{2^{n_3}}} \\sum_{k=0}^{2^{n_3}-1} \\exp \\left( 2\\pi i \\frac{a k}{2^{n_3}} \\right) \\ket{k}\n",
    "\\end{align}\n",
    "$$\n",
    "\n",
    "続いてレジスタ2のビットを制御として、同様の$C[P]$ゲートをかけていくと、\n",
    "\n",
    "$$\n",
    "\\begin{align}\n",
    "& \\xrightarrow{C^{2;0}_{3;0}[P(2\\pi \\cdot 2^0 \\cdot 2^0/2^{n_3})]} \\ket{a}\\ket{b} \\frac{1}{\\sqrt{2^{n_3}}} \\sum_{k=0}^{2^{n_3}-1} \\exp \\left( 2\\pi i \\frac{ak + b_0 k_0}{2^{n_3}} \\right) \\ket{k} \\\\\n",
    "& \\xrightarrow{C^{2;0}_{3;1}[P(2\\pi \\cdot 2^0 \\cdot 2^1/2^{n_3})]} \\ket{a}\\ket{b} \\frac{1}{\\sqrt{2^{n_3}}} \\sum_{k=0}^{2^{n_3}-1} \\exp \\left( 2\\pi i \\frac{ak + b_0 (k_0 + 2k_1)}{2^{n_3}} \\right) \\ket{k} \\\\\n",
    "\\cdots & \\\\\n",
    "& \\xrightarrow{C^{2;0}_{3;n_3 - 1}[P(2\\pi \\cdot 2^0 \\cdot 2^{n_3 - 1}/2^{n_3})]} \\ket{a}\\ket{b} \\frac{1}{\\sqrt{2^{n_3}}} \\sum_{k=0}^{2^{n_3}-1} \\exp \\left( 2\\pi i \\frac{(a + b_0) k}{2^{n_3}} \\right) \\ket{k} \\\\\n",
    "& \\xrightarrow{C^{2;1}_{3;0}[P(2\\pi \\cdot 2^1 \\cdot 2^0/2^{n_3})]} \\ket{a}\\ket{b} \\frac{1}{\\sqrt{2^{n_3}}} \\sum_{k=0}^{2^{n_3}-1} \\exp \\left( 2\\pi i \\frac{(a + b_0) k + 2b_1 k_0}{2^{n_3}} \\right) \\ket{k} \\\\\n",
    "\\cdots & \\\\\n",
    "& \\xrightarrow{C^{2;n_2 - 1}_{3;n_3 - 1}[P(2\\pi \\cdot 2^{n_2 - 1} \\cdot 2^{n_3 - 1}/2^{n_3})]} \\ket{a}\\ket{b} \\frac{1}{\\sqrt{2^{n_3}}} \\sum_{k=0}^{2^{n_3}-1} \\exp \\left( 2\\pi i \\frac{(a + b) k}{2^{n_3}} \\right) \\ket{k}\n",
    "\\end{align}\n",
    "$$\n",
    "\n",
    "となり、めでたく$\\ket{a+b}$のフーリエ変換状態が実現されました。\n",
    "\n",
    "では以上の操作をQiskitで実装してみましょう。レジスタ1と2は4ビットとして、$a=9, b=13$を考えます。後の便利のために、まずは足し算のサブルーチン部分だけを関数化します。"
   ]
  },
  {
   "cell_type": "code",
   "execution_count": 1,
   "id": "6c821604",
   "metadata": {
    "tags": [
     "remove-output"
    ]
   },
   "outputs": [
    {
     "name": "stdout",
     "output_type": "stream",
     "text": [
      "notebook ready\n"
     ]
    }
   ],
   "source": [
    "# まずは全てインポート\n",
    "import numpy as np\n",
    "import matplotlib.pyplot as plt\n",
    "from IPython.display import Math\n",
    "from qiskit import QuantumRegister, QuantumCircuit, IBMQ, Aer, transpile\n",
    "from qiskit.tools.monitor import job_monitor\n",
    "from qiskit.providers.ibmq import least_busy, IBMQAccountCredentialsNotFound\n",
    "from qc_workbook.show_state import statevector_expr\n",
    "from qc_workbook.optimized_additions import optimized_additions\n",
    "from qc_workbook.utils import operational_backend, find_best_chain\n",
    "\n",
    "print('notebook ready')"
   ]
  },
  {
   "cell_type": "code",
   "execution_count": 2,
   "id": "18d3cde1",
   "metadata": {
    "tags": [
     "remove-output"
    ]
   },
   "outputs": [
    {
     "name": "stdout",
     "output_type": "stream",
     "text": [
      "Defined function setup_addition\n"
     ]
    }
   ],
   "source": [
    "def setup_addition(circuit, reg1, reg2, reg3):\n",
    "    \"\"\"Set up an addition subroutine to a circuit with three registers\n",
    "    \"\"\"\n",
    "    \n",
    "    # Equal superposition in register 3\n",
    "    # (Single-qubit gate methods in QuantumCircuit accepts a QuantumRegister or a\n",
    "    # list of qubit indices in addition to the usual single qubit index)\n",
    "    circuit.h(reg3)\n",
    "\n",
    "    # Smallest unit of phi\n",
    "    dphi = 2. * np.pi / (2 ** reg3.size)\n",
    "\n",
    "    # Loop over reg1 and reg2\n",
    "    for reg_ctrl in [reg1, reg2]:\n",
    "        # Loop over qubits in the control register (reg1 or reg2)\n",
    "        for ictrl, qctrl in enumerate(reg_ctrl):\n",
    "            # Loop over qubits in the target register (reg3)\n",
    "            for itarg, qtarg in enumerate(reg3):\n",
    "                # C[P(phi)], phi = 2pi * 2^{ictrl} * 2^{itarg} / 2^{n3}\n",
    "                circuit.cp(dphi * (2 ** (ictrl + itarg)), qctrl, qtarg)\n",
    "\n",
    "    # Insert a barrier for better visualization\n",
    "    circuit.barrier()\n",
    "\n",
    "    # Inverse QFT\n",
    "    for j in range(reg3.size // 2):\n",
    "        circuit.swap(reg3[j], reg3[-1 - j])\n",
    "\n",
    "    for itarg in range(reg3.size):\n",
    "        for ictrl in range(itarg):\n",
    "            power = ictrl - itarg - 1 + reg3.size\n",
    "            circuit.cp(-dphi * (2 ** power), reg3[ictrl], reg3[itarg])\n",
    "        \n",
    "        circuit.h(reg3[itarg])\n",
    "        \n",
    "print('Defined function setup_addition')"
   ]
  },
  {
   "cell_type": "markdown",
   "id": "a4fed86b",
   "metadata": {},
   "source": [
    "回路を作り、レジスタ1と2をそれぞれ入力9と13を表すように初期化します。"
   ]
  },
  {
   "cell_type": "code",
   "execution_count": 3,
   "id": "10900da7",
   "metadata": {
    "tags": [
     "remove-output"
    ]
   },
   "outputs": [
    {
     "name": "stdout",
     "output_type": "stream",
     "text": [
      "n1 = 4 n2 = 4 n3 = 5\n"
     ]
    },
    {
     "data": {
      "image/png": "[encoded data removed]",
      "text/plain": [
       "<Figure size 3235.8x484.008 with 1 Axes>"
      ]
     },
     "execution_count": 3,
     "metadata": {
      "filenames": {
       "image/png": "/qc-workbook/build/ja/_build/jupyter_execute/extreme_simd_7_1.png"
      }
     },
     "output_type": "execute_result"
    }
   ],
   "source": [
    "a = 9\n",
    "b = 13\n",
    "\n",
    "# Calculate the necessary register sizes\n",
    "n1 = np.ceil(np.log2(a + 1)).astype(int)\n",
    "n2 = np.ceil(np.log2(b + 1)).astype(int)\n",
    "n3 = np.ceil(np.log2(a + b + 1)).astype(int)\n",
    "\n",
    "print('n1 =', n1, 'n2 =', n2, 'n3 =', n3)\n",
    "\n",
    "reg1 = QuantumRegister(n1, 'r1')\n",
    "reg2 = QuantumRegister(n2, 'r2')\n",
    "reg3 = QuantumRegister(n3, 'r3')\n",
    "\n",
    "# QuantumCircuit can be instantiated from multiple registers\n",
    "circuit = QuantumCircuit(reg1, reg2, reg3)\n",
    "\n",
    "# Set register 1 to state |a>\n",
    "a_bits = np.unpackbits(np.asarray(a, dtype=np.uint8), bitorder='little')\n",
    "for idx in np.nonzero(a_bits)[0]:\n",
    "    circuit.x(reg1[idx])\n",
    "\n",
    "# Set register 2 to state |b>\n",
    "b_bits = np.unpackbits(np.asarray(b, dtype=np.uint8), bitorder='little')\n",
    "for idx in np.nonzero(b_bits)[0]:\n",
    "    circuit.x(reg2[idx])\n",
    "        \n",
    "setup_addition(circuit, reg1, reg2, reg3)\n",
    "\n",
    "circuit.draw('mpl', scale=0.6, fold=100)"
   ]
  },
  {
   "cell_type": "markdown",
   "id": "3322bb93",
   "metadata": {},
   "source": [
    "再び`statevector_expr`関数を使って終状態を確認してみましょう。入力と出力のレジスタの値が別々に表示されるよう、`register_sizes`という引数を利用して、13ビットの回路を$n_1 + n_2 + n_3$ビットに分けて解釈するよう指定します。"
   ]
  },
  {
   "cell_type": "code",
   "execution_count": 4,
   "id": "0d33771f",
   "metadata": {
    "tags": [
     "remove-output"
    ]
   },
   "outputs": [
    {
     "data": {
      "text/latex": [
       "$\\displaystyle | \\text{final} \\rangle =  |22:13:9\\rangle$"
      ],
      "text/plain": [
       "<IPython.core.display.Math object>"
      ]
     },
     "execution_count": 4,
     "metadata": {},
     "output_type": "execute_result"
    }
   ],
   "source": [
    "expr = statevector_expr(circuit, register_sizes=(n1, n2, n3))\n",
    "Math(expr)"
   ]
  },
  {
   "cell_type": "markdown",
   "id": "98c6adcc",
   "metadata": {},
   "source": [
    "結果表示された状態は期待通り単一の計算基底$22:13:9$、つまりレジスタ1, 2, 3がそれぞれ$\\ket{9}, \\ket{13}, \\ket{22}$となっている状態です（回路全体でビットを右から書いて状態を表示するため、レジスタも右から左に並びます）。つまり、めでたく状態の変遷\n",
    "\n",
    "$$\n",
    "\\ket{9}\\ket{13}\\ket{0} \\rightarrow \\ket{9}\\ket{13}\\ket{22}\n",
    "$$\n",
    "\n",
    "が実現しました。"
   ]
  },
  {
   "cell_type": "markdown",
   "id": "bcdebe09",
   "metadata": {},
   "source": [
    "## 足し算の並列化\n",
    "\n",
    "上では小学一年生ができる足し算を一回行うために13個の量子ビットと67個のゲートを利用しました。しかし、出来上がった回路は入力の値（9と13）によらず、4ビットで表現できる2つの整数すべてに対して成り立ちます（一般に2つの$n$ビット数の和は$n+1$ビットに収まるので、レジスタ3の大きさにも不足はありません）。さらに、量子演算は線形（つまり演算$U$について$U(\\sum_{k} c_k \\ket{k}) = \\sum_{k} c_k U\\ket{k}$）なので、初期状態としてレジスタ1と2がどんな計算基底の重ね合わせにあっても、それぞれの組み合わせに対してレジスタ3の状態が和を表してくれます。特に、初期状態がequal superpositionであれば、この回路は\n",
    "\n",
    "$$\n",
    "\\sum_{j=0}^{2^{n_1}-1} \\sum_{k=0}^{2^{n_2}-1} \\ket{j}\\ket{k}\\ket{0} \\rightarrow \\sum_{j=0}^{2^{n_1}-1} \\sum_{k=0}^{2^{n_2}-1} \\ket{j}\\ket{k}\\ket{j+k}\n",
    "$$\n",
    "\n",
    "を行うので、$\\mathcal{O}\\left((n_1 + n_2 + n_3) n_3\\right)$個のゲートで$2^{n_1+n_2}$通りの足し算を並列に行います。実際にこれを確認してみましょう。\n",
    "\n",
    "この回路は下でもう一度作り直すので、回路を作る関数を定義しておきます。コード中`circuit.h()`に量子ビット番号ではなくレジスタオブジェクトを渡しています。`setup_addition`のコード中にも説明がありますが、Qiskitでは便利のために、`QuantumObject`クラスの1量子ビットゲートのメソッドに量子ビット番号だけでなく、番号のリストやレジスタを渡して、含まれるすべての量子ビットに同じ操作をかけることができるようになっています。"
   ]
  },
  {
   "cell_type": "code",
   "execution_count": 5,
   "id": "5370a41c",
   "metadata": {
    "tags": [
     "remove-output"
    ]
   },
   "outputs": [
    {
     "data": {
      "text/latex": [
       "$\\displaystyle | \\text{final} \\rangle = \\frac{1}{\\sqrt{2^{n_1 + n_2}}}\\left( |0:0:0\\rangle +  |1:0:1\\rangle +  |1:1:0\\rangle +  |2:0:2\\rangle +  |2:1:1\\rangle +  |2:2:0\\rangle +  |3:0:3\\rangle +  |3:1:2\\rangle +  |3:2:1\\rangle +  |3:3:0\\rangle +  |4:0:4\\rangle +  |4:1:3\\rangle +  |4:2:2\\rangle +  |4:3:1\\rangle +  |4:4:0\\rangle +  |5:0:5\\rangle +  |5:1:4\\rangle +  |5:2:3\\rangle +  |5:3:2\\rangle +  |5:4:1\\rangle +  |5:5:0\\rangle +  |6:0:6\\rangle +  |6:1:5\\rangle +  |6:2:4\\rangle +  |6:3:3\\rangle +  |6:4:2\\rangle +  |6:5:1\\rangle +  |6:6:0\\rangle +  |7:0:7\\rangle +  |7:1:6\\rangle +  |7:2:5\\rangle +  |7:3:4\\rangle +  |7:4:3\\rangle +  |7:5:2\\rangle +  |7:6:1\\rangle +  |7:7:0\\rangle +  |8:0:8\\rangle +  |8:1:7\\rangle +  |8:2:6\\rangle +  |8:3:5\\rangle +  |8:4:4\\rangle +  |8:5:3\\rangle +  |8:6:2\\rangle +  |8:7:1\\rangle +  |8:8:0\\rangle +  |9:0:9\\rangle +  |9:1:8\\rangle +  |9:2:7\\rangle +  |9:3:6\\rangle +  |9:4:5\\rangle +  |9:5:4\\rangle +  |9:6:3\\rangle +  |9:7:2\\rangle +  |9:8:1\\rangle +  |9:9:0\\rangle +  |10:0:10\\rangle +  |10:1:9\\rangle +  |10:2:8\\rangle +  |10:3:7\\rangle +  |10:4:6\\rangle +  |10:5:5\\rangle +  |10:6:4\\rangle +  |10:7:3\\rangle +  |10:8:2\\rangle +  |10:9:1\\rangle +  |10:10:0\\rangle +  |11:0:11\\rangle +  |11:1:10\\rangle +  |11:2:9\\rangle +  |11:3:8\\rangle +  |11:4:7\\rangle +  |11:5:6\\rangle +  |11:6:5\\rangle +  |11:7:4\\rangle +  |11:8:3\\rangle +  |11:9:2\\rangle +  |11:10:1\\rangle +  |11:11:0\\rangle +  |12:0:12\\rangle +  |12:1:11\\rangle +  |12:2:10\\rangle +  |12:3:9\\rangle +  |12:4:8\\rangle +  |12:5:7\\rangle +  |12:6:6\\rangle +  |12:7:5\\rangle +  |12:8:4\\rangle +  |12:9:3\\rangle +  |12:10:2\\rangle +  |12:11:1\\rangle +  |12:12:0\\rangle +  |13:0:13\\rangle +  |13:1:12\\rangle +  |13:2:11\\rangle +  |13:3:10\\rangle +  |13:4:9\\rangle +  |13:5:8\\rangle +  |13:6:7\\rangle +  |13:7:6\\rangle +  |13:8:5\\rangle +  |13:9:4\\rangle +  |13:10:3\\rangle +  |13:11:2\\rangle +  |13:12:1\\rangle +  |13:13:0\\rangle +  |14:0:14\\rangle +  |14:1:13\\rangle +  |14:2:12\\rangle +  |14:3:11\\rangle +  |14:4:10\\rangle +  |14:5:9\\rangle +  |14:6:8\\rangle +  |14:7:7\\rangle +  |14:8:6\\rangle +  |14:9:5\\rangle +  |14:10:4\\rangle +  |14:11:3\\rangle +  |14:12:2\\rangle +  |14:13:1\\rangle +  |14:14:0\\rangle +  |15:0:15\\rangle +  |15:1:14\\rangle +  |15:2:13\\rangle +  |15:3:12\\rangle +  |15:4:11\\rangle +  |15:5:10\\rangle +  |15:6:9\\rangle +  |15:7:8\\rangle +  |15:8:7\\rangle +  |15:9:6\\rangle +  |15:10:5\\rangle +  |15:11:4\\rangle +  |15:12:3\\rangle +  |15:13:2\\rangle +  |15:14:1\\rangle +  |15:15:0\\rangle +  |16:1:15\\rangle +  |16:2:14\\rangle +  |16:3:13\\rangle +  |16:4:12\\rangle +  |16:5:11\\rangle +  |16:6:10\\rangle +  |16:7:9\\rangle +  |16:8:8\\rangle +  |16:9:7\\rangle +  |16:10:6\\rangle +  |16:11:5\\rangle +  |16:12:4\\rangle +  |16:13:3\\rangle +  |16:14:2\\rangle +  |16:15:1\\rangle +  |17:2:15\\rangle +  |17:3:14\\rangle +  |17:4:13\\rangle +  |17:5:12\\rangle +  |17:6:11\\rangle +  |17:7:10\\rangle +  |17:8:9\\rangle +  |17:9:8\\rangle +  |17:10:7\\rangle +  |17:11:6\\rangle +  |17:12:5\\rangle +  |17:13:4\\rangle +  |17:14:3\\rangle +  |17:15:2\\rangle +  |18:3:15\\rangle +  |18:4:14\\rangle +  |18:5:13\\rangle +  |18:6:12\\rangle +  |18:7:11\\rangle +  |18:8:10\\rangle +  |18:9:9\\rangle +  |18:10:8\\rangle +  |18:11:7\\rangle +  |18:12:6\\rangle +  |18:13:5\\rangle +  |18:14:4\\rangle +  |18:15:3\\rangle +  |19:4:15\\rangle +  |19:5:14\\rangle +  |19:6:13\\rangle +  |19:7:12\\rangle +  |19:8:11\\rangle +  |19:9:10\\rangle +  |19:10:9\\rangle +  |19:11:8\\rangle +  |19:12:7\\rangle +  |19:13:6\\rangle +  |19:14:5\\rangle +  |19:15:4\\rangle +  |20:5:15\\rangle +  |20:6:14\\rangle +  |20:7:13\\rangle +  |20:8:12\\rangle +  |20:9:11\\rangle +  |20:10:10\\rangle +  |20:11:9\\rangle +  |20:12:8\\rangle +  |20:13:7\\rangle +  |20:14:6\\rangle +  |20:15:5\\rangle +  |21:6:15\\rangle +  |21:7:14\\rangle +  |21:8:13\\rangle +  |21:9:12\\rangle +  |21:10:11\\rangle +  |21:11:10\\rangle +  |21:12:9\\rangle +  |21:13:8\\rangle +  |21:14:7\\rangle +  |21:15:6\\rangle +  |22:7:15\\rangle +  |22:8:14\\rangle +  |22:9:13\\rangle +  |22:10:12\\rangle +  |22:11:11\\rangle +  |22:12:10\\rangle +  |22:13:9\\rangle +  |22:14:8\\rangle +  |22:15:7\\rangle +  |23:8:15\\rangle +  |23:9:14\\rangle +  |23:10:13\\rangle +  |23:11:12\\rangle +  |23:12:11\\rangle +  |23:13:10\\rangle +  |23:14:9\\rangle +  |23:15:8\\rangle +  |24:9:15\\rangle +  |24:10:14\\rangle +  |24:11:13\\rangle +  |24:12:12\\rangle +  |24:13:11\\rangle +  |24:14:10\\rangle +  |24:15:9\\rangle +  |25:10:15\\rangle +  |25:11:14\\rangle +  |25:12:13\\rangle +  |25:13:12\\rangle +  |25:14:11\\rangle +  |25:15:10\\rangle +  |26:11:15\\rangle +  |26:12:14\\rangle +  |26:13:13\\rangle +  |26:14:12\\rangle +  |26:15:11\\rangle +  |27:12:15\\rangle +  |27:13:14\\rangle +  |27:14:13\\rangle +  |27:15:12\\rangle +  |28:13:15\\rangle +  |28:14:14\\rangle +  |28:15:13\\rangle +  |29:14:15\\rangle +  |29:15:14\\rangle +  |30:15:15\\rangle\\right)$"
      ],
      "text/plain": [
       "<IPython.core.display.Math object>"
      ]
     },
     "execution_count": 5,
     "metadata": {},
     "output_type": "execute_result"
    }
   ],
   "source": [
    "n1 = 4\n",
    "n2 = 4\n",
    "n3 = np.ceil(np.log2((2 ** n1) + (2 ** n2) - 1)).astype(int)\n",
    "\n",
    "reg1 = QuantumRegister(n1, 'r1')\n",
    "reg2 = QuantumRegister(n2, 'r2')\n",
    "reg3 = QuantumRegister(n3, 'r3')\n",
    "\n",
    "# QuantumCircuit can be instantiated from multiple registers\n",
    "circuit = QuantumCircuit(reg1, reg2, reg3)\n",
    "\n",
    "# Set register 1 and 2 to equal superpositions\n",
    "circuit.h(reg1)\n",
    "circuit.h(reg2)\n",
    "\n",
    "setup_addition(circuit, reg1, reg2, reg3)\n",
    "    \n",
    "expr = statevector_expr(circuit, register_sizes=(n1, n2, n3), amp_norm=(1. / np.sqrt(2 ** (n1 + n2)), r'\\frac{1}{\\sqrt{2^{n_1 + n_2}}}'))\n",
    "Math(expr)"
   ]
  },
  {
   "cell_type": "markdown",
   "id": "df06a5e3",
   "metadata": {},
   "source": [
    "2022年4月現在、IBMの持つ最大の量子コンピュータは127量子ビットです。このマシンを最大限利用するならば、$n_1 = n_2 = 42, n_3 = 43$で$2^{84}$通り、つまり約$2 \\times 10^{25}$（20𥝱）通りの足し算を同時に行うことができます。\n",
    "\n",
    "もちろん、上で書いたようにここには重要な但し書きがあって、実機でこの計算をして測定から答えを得ようとすると、毎回の測定でどの組み合わせが得られるかをコントロールできないので、これはあまり実用的とは言えない回路です。強いて言えば毎日ランダムに12桁＋12桁の正しい足し算を教えてくれる「日めくり足し算カレンダー」にくらいは使えます。$10^{23}$年程度使い続けられます。\n",
    "\n",
    "## シミュレータでの実行\n",
    "\n",
    "上の足し算回路の結果がランダムに出る様子をシミュレーションで確認しましょう。課題では実機でも実行します。その際、上の回路実装では非効率的でエラーが出すぎるので、[専用に効率化した等価回路](https://github.com/UTokyo-ICEPP/qc-workbook/tree/master/source/qc_workbook/optimized_additions.py)を代わりに使用します。"
   ]
  },
  {
   "cell_type": "code",
   "execution_count": 6,
   "id": "9f0306a0",
   "metadata": {},
   "outputs": [
    {
     "name": "stdout",
     "output_type": "stream",
     "text": [
      "Constructed an optimized addition circuit\n"
     ]
    }
   ],
   "source": [
    "# 元の回路に測定を加える\n",
    "circuit.measure_all()\n",
    "circuit_original = circuit\n",
    "\n",
    "# 効率化した回路（測定付き）\n",
    "circuit_optimized = optimized_additions(n1, n2)\n",
    "print('Constructed an optimized addition circuit')"
   ]
  },
  {
   "cell_type": "markdown",
   "id": "753600ea",
   "metadata": {},
   "source": [
    "回路の効率化とは具体的にどういうことでしょうか。もともとの回路と効率化したものとを比べてみましょう。まずは、単純にオペレーションの数を比較します。ゲート一つ一つで一定の確率でエラーが起こるということは、同じことをする回路ならゲートの数が少ないほうがより正確な計算をしてくれます。"
   ]
  },
  {
   "cell_type": "code",
   "execution_count": 7,
   "id": "ba637d7d",
   "metadata": {},
   "outputs": [
    {
     "name": "stdout",
     "output_type": "stream",
     "text": [
      "Number of operations in the original circuit: 83\n",
      "Number of operations in the optimized circuit: 331\n"
     ]
    }
   ],
   "source": [
    "print('Number of operations in the original circuit:', circuit_original.size())\n",
    "print('Number of operations in the optimized circuit:', circuit_optimized.size())"
   ]
  },
  {
   "cell_type": "markdown",
   "id": "e7175c37",
   "metadata": {},
   "source": [
    "効率化したはずの回路のほうがはるかにゲート数が多いという結果になりました。なぜでしょうか。"
   ]
  },
  {
   "cell_type": "markdown",
   "id": "d4af0106",
   "metadata": {},
   "source": [
    "(transpilation)=\n",
    "### トランスパイルと物理的回路\n",
    "\n",
    "これまで何度も登場しましたが、量子回路オブジェクトを実機やシミュレータの`run`メソッドに渡す前に、必ず`transpile`という関数が呼んでいました。この関数はトランスパイルという変換を回路に施します。実機においてトランスパイルとは、様々な複合ゲートからなる論理的な回路から、実機のハードウェアに実装されている「基本ゲート」のみで書かれる物理的な回路を作ることを言います[^physical]。\n",
    "\n",
    "基本ゲートとは何でしょうか。実は、{ref}`第一回 <common_gates>`や{ref}`第二回の前半 <other_gates>`で様々なゲートを紹介しましたが、量子コンピュータの物理的実体（超伝導振動子など）で実際に行える量子操作にはごく少数の種類しかありません。例えば、IBMのマシンでは$X$, $\\sqrt{X}$, $R_{z}$, CNOTの4通りです。しかし、この4つの組み合わせで全てのゲートを作ることができます。そのようなゲートの集合を基本ゲートと呼んでいます。\n",
    "\n",
    "足し算回路の愚直な実装と効率化した実装の比較に話を戻すと、上で比べていたのはあくまで複合ゲートを使った論理的な回路でした。論理的な回路はどのようにでも書ける（極端に言えば回路全体を一つの「足し算ゲート」と呼んでしまうこともできる）ので、回路のゲート数の比較はトランスパイル後でなければ意味がありません。\n",
    "\n",
    "いい機会なので、実機での量子計算について少し詳細に考えてみましょう。トランスパイルがまさに論理的なアルゴリズムの世界と物理的実装の世界のインターフェースとなるので、この過程に注目します。\n",
    "\n",
    "トランスパイル時には、以下のような回路の変換が起こります。\n",
    "\n",
    "- 冗長なゲートの削除\n",
    "- 多重制御ゲートのCNOTと1量子ビットゲートへの分解\n",
    "- 実機のトポロジーに即した量子ビットのマッピング（詳細は下）\n",
    "- 物理的に隣接しない量子ビット間の制御ゲートを実行するためのSWAPの挿入\n",
    "- 1量子ビットゲートの基本ゲートへの分解\n",
    "- 物理的回路の最適化\n",
    "\n",
    "実機のトポロジーとは、実際の量子プロセッサチップ上での量子ビット同士の繋がりかたのことを指します。2つの量子ビットが繋がっているとは、その間で基本制御ゲート（IBMQではCNOT）が実行できるということを意味します。これまで考慮してきませんでしたが、実はすべての量子ビットが繋がっているわけではないのです。例えば以前運用されていたibmq_16_melbourneというマシンは以下のようなトポロジーを持っていました。\n",
    "\n",
    "```{image} figs/melbourne_topology.png\n",
    ":height: 200px\n",
    ":name: ibmq_16_melbourne\n",
    "```\n",
    "\n",
    "図中、数字のついた丸が量子ビットを表し、線が量子ビット同士の繋がりを表します。\n",
    "\n",
    "このように実機ごとにトポロジーが違うことなどが理由で、`transpile`関数には回路オブジェクトだけでなくバックエンドを引数として渡す必要があります。\n",
    "\n",
    "直接接続のない量子ビット間で制御ゲートを実行する場合、SWAPを使って2つの量子ビットが隣り合うように状態を遷移させていく必要があります。例えば上のibmq_16_melbourneでビット2と6の間のCNOTが必要なら、（いくつか方法がありますが）2↔3, 3↔4, 4↔5とSWAPを繰り返して、5と6の間でCNOTを行い、ビットの並びを元に戻す必要があれば再度5↔4, 4↔3, 3↔2とSWAPをすることになります。\n",
    "\n",
    "{ref}`ゲートの解説 <other_gates>`に出てきたように、SWAPは3つのCNOTに分解されます。つまり、直接接続のない量子ビット同士の制御ゲートが多出するような回路があると、莫大な数のCNOTが使われることになります。**CNOTのエラー率（ゲート操作一回あたりに操作の結果を間違える確率）は1量子ビットゲートのエラー率より一桁ほど高い**ので、これは大きな問題になります。そこで、論理的回路の量子ビットと実機の量子ビットとのマッピング（SWAPが発生すれば対応は変わっていくので、あくまで初期対応）と、回路中にどうSWAPを挿入していくかというルーティングの両方を上手に決めるということが、トランスパイルにおける中心的な課題です。\n",
    "\n",
    "しかし、実は任意の回路に対して最適なマッピングとルーティングを探すという問題自体がいわゆるNP-hardな問題なので、qiskitのトランスパイル・ルーチンではこの問題の最適解を探してくれません。代わりにstochastic swapという、乱数を用いた手法が標準設定では利用されます。Stochastic swapは多くの回路で比較的効率のいいルーティングを作ることが知られていますが、乱数を利用するため実行のたびに異なるルーティングが出てくるなど、やや扱いにくい面もあります。また、単純な回路で事前に最適なルーティングがわかっている場合は、stochastic swapを使うべきではありません。\n",
    "\n",
    "[^physical]: 「物理的」な回路もまだ実は論理的な存在であり、本当にハードウェアが理解するインストラクションに変換するには、さらに基本ゲートを特定のマイクロ波パルス列に直す必要があります。"
   ]
  },
  {
   "cell_type": "markdown",
   "id": "34906a6d",
   "metadata": {},
   "source": [
    "### 回路の比較\n",
    "\n",
    "上を踏まえて、改めて2つの足し算回路を比較してみましょう。\n",
    "\n",
    "これまで`transpile`関数を回路とバックエンド以外の引数を渡さずに実行してきましたが、実はこの関数の実行時に様々なオプションを使ってトランスパイルの設定を細かくコントロールすることができます。今回の効率化した回路は一列に並んだ量子ビット列上でSWAPを一切使わずに実装できるようになっているので、stochastic swapを使用しないよう設定を変更してトランスパイルをします。バックエンド上のどの量子ビット列を使うかは、`find_best_chain`という関数で自動的に決めます。\n",
    "\n",
    "本来は実機を使ってこの先の議論を進めたいところですが、2022年4月現在、`'ibm-q/open/main'`プロバイダを使ってている場合、最大5量子ビットのマシンしか利用できないため、1ビット+1ビットの足し算回路しか作れず、意味のある比較になりません。そのため、openプロバイダを使っている場合は「フェイク」のバックエンド（実際のバックエンドに似せたシミュレータ）を使います。"
   ]
  },
  {
   "cell_type": "code",
   "execution_count": 8,
   "id": "e3c037f3",
   "metadata": {
    "tags": [
     "remove-output"
    ]
   },
   "outputs": [
    {
     "name": "stdout",
     "output_type": "stream",
     "text": [
      "Using backend fake_guadalupe\n"
     ]
    }
   ],
   "source": [
    "# よりアクセス権の広いプロバイダを使える場合は、下を書き換える\n",
    "provider_def = ('ibm-q', 'open', 'main')\n",
    "\n",
    "if provider_def == ('ibm-q', 'open', 'main'):\n",
    "    from qiskit.test.mock import FakeGuadalupe\n",
    "    \n",
    "    backend = FakeGuadalupe()\n",
    "\n",
    "else:\n",
    "    try:\n",
    "        IBMQ.load_account()\n",
    "    except IBMQAccountCredentialsNotFound:\n",
    "        IBMQ.enable_account('__paste_your_token_here__')\n",
    "\n",
    "    provider = IBMQ.get_provider(*provider_def)\n",
    "\n",
    "    backend_list = provider.backends(filters=operational_backend(min_qubits=13))\n",
    "    backend = least_busy(backend_list)\n",
    "\n",
    "print(f'Using backend {backend.name()}')"
   ]
  },
  {
   "cell_type": "code",
   "execution_count": 9,
   "id": "61cf5220",
   "metadata": {
    "tags": [
     "remove-output"
    ]
   },
   "outputs": [
    {
     "name": "stdout",
     "output_type": "stream",
     "text": [
      "Transpiling the original circuit with standard settings\n"
     ]
    },
    {
     "name": "stdout",
     "output_type": "stream",
     "text": [
      "Transpiling the optimized circuit with trivial mapping onto a chain of qubits\n"
     ]
    },
    {
     "name": "stdout",
     "output_type": "stream",
     "text": [
      "Number of operations in the original circuit: 490\n",
      "  Breakdown: N(Rz)=179, N(X)=7, N(SX)=86, N(CNOT)=205\n",
      "Number of operations in the optimized circuit: 395\n",
      "  Breakdown: N(Rz)=175, N(X)=1, N(SX)=64, N(CNOT)=142\n"
     ]
    }
   ],
   "source": [
    "# オリジナルの回路をトランスパイルする。optimization_level=3は自動設定のうち、最も効率のいい回路を作る\n",
    "# フェイクバックエンドの場合、少し時間がかかるので気長に待ってください\n",
    "print('Transpiling the original circuit with standard settings')\n",
    "circuit_original_tr = transpile(circuit_original, backend=backend, optimization_level=3)\n",
    "\n",
    "# 効率化した回路をトランスパイルする。マシンのトポロジーに従い、最も合計エラー率の低い量子ビット列にマッピングする\n",
    "print('Transpiling the optimized circuit with trivial mapping onto a chain of qubits')\n",
    "initial_layout = find_best_chain(backend, n1 + n2 + n3)\n",
    "circuit_optimized_tr = transpile(circuit_optimized, backend=backend,\n",
    "                                 routing_method='basic', initial_layout=initial_layout,\n",
    "                                 optimization_level=3)\n",
    "\n",
    "# count_opsは回路に含まれる基本ゲートの数を辞書として返す\n",
    "nops_orig = circuit_original_tr.count_ops()\n",
    "nops_opt = circuit_optimized_tr.count_ops()\n",
    "\n",
    "print(f'Number of operations in the original circuit: {circuit_original_tr.size()}')\n",
    "print(f'  Breakdown: N(Rz)={nops_orig[\"rz\"]}, N(X)={nops_orig[\"x\"]}, N(SX)={nops_orig[\"sx\"]}, N(CNOT)={nops_orig[\"cx\"]}')\n",
    "print(f'Number of operations in the optimized circuit: {circuit_optimized_tr.size()}')\n",
    "print(f'  Breakdown: N(Rz)={nops_opt[\"rz\"]}, N(X)={nops_opt[\"x\"]}, N(SX)={nops_opt[\"sx\"]}, N(CNOT)={nops_opt[\"cx\"]}')"
   ]
  },
  {
   "cell_type": "markdown",
   "id": "9eb84a5b",
   "metadata": {},
   "source": [
    "上のセルを実行すると、今度は効率化回路のオペレーションの全数が元の回路の8割、CNOTの数は6割という結果になることがわかります。\n",
    "\n",
    "元の回路と効率化した回路の違いは、後者では「数珠つなぎ」になった量子ビット列というトポロジーを仮定して、制御ゲートの順番を工夫して直接明示的にSWAPを挿入していることです。さらに、可能なところでは$C[P]$ゲートの分解で生じるCNOTとSWAPのCNOTが打ち消し合うことも利用しています。最後の逆フーリエ変換でもゲートの順番が工夫してあります。\n",
    "\n",
    "それでは、トランスパイルした回路を実行してみます。"
   ]
  },
  {
   "cell_type": "code",
   "execution_count": 10,
   "id": "c182635a",
   "metadata": {
    "tags": [
     "remove-output"
    ]
   },
   "outputs": [
    {
     "data": {
      "image/png": "[encoded data removed]",
      "text/plain": [
       "<Figure size 1152x720 with 2 Axes>"
      ]
     },
     "metadata": {
      "filenames": {
       "image/png": "/qc-workbook/build/ja/_build/jupyter_execute/extreme_simd_23_0.png"
      },
      "needs_background": "light"
     },
     "output_type": "display_data"
    }
   ],
   "source": [
    "qasm_simulator = Aer.get_backend('qasm_simulator')\n",
    "\n",
    "job_original = qasm_simulator.run(circuit_original_tr, shots=20)\n",
    "counts_original = job_original.result().get_counts()\n",
    "\n",
    "job_optimized = qasm_simulator.run(circuit_optimized_tr, shots=20)\n",
    "counts_optimized = job_optimized.result().get_counts()\n",
    "\n",
    "def plot_counts(counts, n1, n2, ax):\n",
    "    heights = []\n",
    "    labels = []\n",
    "\n",
    "    for key, value in counts.items():\n",
    "        heights.append(value)\n",
    "\n",
    "        # Keys of counts are single binaries; need to split them into three parts and interpret as decimals\n",
    "        # Example 4 + 4 digits:\n",
    "        #  00110 0101 0001 -> 6 = 5 + 1\n",
    "        #  n3    n2   n1\n",
    "        x1 = int(key[-n1:], 2) # last n1 digits\n",
    "        x2 = int(key[-n1 - n2:-n1], 2) # next-to-last n2 digits\n",
    "        x3 = int(key[:-n1 - n2], 2) # first n3 digits\n",
    "        labels.append('{} + {} = {}'.format(x1, x2, x3))\n",
    "        \n",
    "    x = np.linspace(0., len(labels), len(labels), endpoint=False)\n",
    "\n",
    "    # 棒グラフをプロット\n",
    "    ax.bar(x, heights, width=0.5)\n",
    "\n",
    "    # ビジュアルを調整\n",
    "    ax.set_xticks(x - 0.2)\n",
    "    ax.set_xticklabels(labels, rotation=70)\n",
    "    ax.tick_params('x', length=0.)\n",
    "\n",
    "# サブプロットが縦に二つ並んだフィギュアを作成\n",
    "fig, (ax_original, ax_optimized) = plt.subplots(2, figsize=[16, 10])\n",
    "\n",
    "# サブプロット1: counts_original\n",
    "plot_counts(counts_original, n1, n2, ax_original)\n",
    "\n",
    "# サブプロット2: counts_optimized\n",
    "plot_counts(counts_optimized, n1, n2, ax_optimized)\n",
    "\n",
    "fig.subplots_adjust(bottom=-0.2)"
   ]
  },
  {
   "cell_type": "markdown",
   "id": "3cd745a0",
   "metadata": {},
   "source": [
    "両方の回路とも、正しい足し算の式がランダムに出現していることを確認してください。"
   ]
  },
  {
   "cell_type": "markdown",
   "id": "0a8dc2a6",
   "metadata": {},
   "source": [
    "## 参考文献\n",
    "\n",
    "```{bibliography}\n",
    ":filter: docname in docnames\n",
    "```"
   ]
  }
 ],
 "metadata": {
  "jupytext": {
   "notebook_metadata_filter": "all",
   "text_representation": {
    "extension": ".md",
    "format_name": "myst",
    "format_version": 0.13,
    "jupytext_version": "1.11.5"
   }
  },
  "kernelspec": {
   "display_name": "Python 3 (ipykernel)",
   "language": "python",
   "name": "python3"
  },
  "language_info": {
   "codemirror_mode": {
    "name": "ipython",
    "version": 3
   },
   "file_extension": ".py",
   "mimetype": "text/x-python",
   "name": "python",
   "nbconvert_exporter": "python",
   "pygments_lexer": "ipython3",
   "version": "3.8.10"
  },
  "source_map": [
   23,
   27,
   39,
   62,
   139,
   156,
   195,
   199,
   232,
   236,
   241,
   251,
   265,
   287,
   297,
   305,
   309,
   312,
   316,
   357,
   367,
   392,
   415,
   423,
   470,
   474
  ]
 },
 "nbformat": 4,
 "nbformat_minor": 5
}