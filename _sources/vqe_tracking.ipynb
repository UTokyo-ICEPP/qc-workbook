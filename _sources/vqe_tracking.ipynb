{
 "cells": [
  {
   "cell_type": "markdown",
   "id": "2da4d5fb",
   "metadata": {},
   "source": [
    "# 【課題】高エネルギー実験で生成された荷電粒子の飛跡を見つける"
   ]
  },
  {
   "cell_type": "markdown",
   "id": "091b8abd",
   "metadata": {},
   "source": [
    "この課題では、変分量子固有値ソルバー法を物理実験に応用することを考えてみます。特に高エネルギー物理の実験に着目し、その必須技術である「**荷電粒子飛跡の再構成**」を変分量子固有値ソルバー法を使って実現することを目指します。\n",
    "\n",
    "```{contents} 目次\n",
    "---\n",
    "local: true\n",
    "---\n",
    "```"
   ]
  },
  {
   "cell_type": "markdown",
   "id": "6ac7b8ee",
   "metadata": {},
   "source": [
    "## はじめに\n",
    "**変分量子固有値ソルバー法**（*Variational Quantum Eigensolver*, VQE）を紹介した{doc}`ノートブック <vqe>`で、VQEの考え方と変分量子回路の基本的な実装の方法を学びました。ここでは、VQEの高エネルギー物理への応用を考えてみます。\n",
    "\n",
    "高エネルギー実験では、高いエネルギーに加速した粒子（例えば陽子）を人工的に衝突させ、生成された多数の二次粒子を検出器で測定することで、その生成過程をつかさどる基礎物理反応を理解していきます。そのためには、検出器で測定された信号から生成粒子を同定し、そのエネルギーや運動量を正しく再構成することがとても重要です。この実習では、生成した物理反応を再構成するための最初のステップとして、「**荷電粒子飛跡の再構成**」をVQEで実現する方法について学んでいきます。"
   ]
  },
  {
   "cell_type": "markdown",
   "id": "c25aa448",
   "metadata": {},
   "source": [
    "(hep)=\n",
    "## 高エネルギー実験\n",
    "(hep_LHC)=\n",
    "### LHC実験の概要\n",
    "\n",
    "```{image} figs/LHC_ATLAS.png\n",
    ":alt: LHC_ATLAS\n",
    ":width: 1000px\n",
    ":align: center\n",
    "```\n",
    "\n",
    "\n",
    "LHC（大型ハドロン加速器 Large Hadron Collider）は、スイスとフランスの国境に位置する欧州原子核研究機構（CERN）で運転されている円形の加速器です。地下約100 mに掘られた周長27 kmのトンネルの中に置かれ、6.8 TeVのエネルギーまで陽子を加速することができます（1 TeV = $10^{12}$ eV = $1.602 \\times 10^{-7}$ J）。その加速された陽子を正面衝突させることで、世界最高エネルギーである13.6 TeV での陽子衝突実験を実現しています（左上の写真）。右上の写真は、地下トンネルに設置されたLHCの写真です。\n",
    "\n",
    "LHCでは4つの実験（ATLAS, CMS, ALICE, LHCb）が進行中ですが、その中でもATLASとCMSは大型の汎用検出器を備えた実験です（左下の写真が実際のATLAS検出器）。陽子衝突で発生した二次粒子を周囲に設置した高精度の検出器で観測することで、さまざまな素粒子反応の観測や新しい現象の探索などを行っています。右下の絵はATLAS検出器で実際に記録した粒子生成反応の一つで、これは2012年にATLASとCMSで発見されたヒッグス粒子の候補を示したものです（ヒッグス粒子は単体で測定されるわけではなく、その崩壊の結果出てきた多数の粒子を観測するのでこのように見えます）。"
   ]
  },
  {
   "cell_type": "markdown",
   "id": "04691895",
   "metadata": {},
   "source": [
    "(hep_detect)=\n",
    "### 荷電粒子の測定\n",
    "\n",
    "ATLASやCMS実験の検出器は、異なる性質を持った検出器を内側から外側に階層的に配置しています。最内層の検出器は荷電粒子の再構成や識別に使われる検出器で、実験では最も重要な検出器の一つです。この検出器はそれ自体が約10層程度の層構造を持っており、一つの荷電粒子が通過したとき、複数の検出器信号を作ります。\n",
    "例えば、左下図にあるように一度の陽子衝突で無数の粒子が生成され、それらが検出器に「ヒット」と呼ばれる信号を作ります（図中の白、黄色、オレンジ等の点に相当）。このヒットの集合から「ある荷電粒子が作ったヒットの組み合わせ」を選び、その粒子の「飛跡」を再構成します。右下図のいろいろな色の曲線が飛跡に対応します。この**飛跡の再構成**（**トラッキング**と呼ぶ）は、ATLASやCMS実験に限らず、高エネルギー実験では最も重要な実験技術の一つと言えます。\n",
    "\n",
    "飛跡の再構成は本質的にはいわゆる「組合せ最適化」問題であるため、問題のスケール（粒子数）について計算量が指数関数的に増えます。LHCでビーム強度（一度に加速する粒子の数）を上げたり、将来さらに高いエネルギーの衝突型加速器実験を行ったりする場合、現在の（古典）計算機では飛跡を完全に再構成することが困難になることが予想されています。そこで、量子コンピュータを利用して計算時間を短縮するなど、様々なアプローチが検討・研究されています。\n",
    "\n",
    "```{image} figs/tracking.png\n",
    ":alt: tracking\n",
    ":width: 1000px\n",
    ":align: center\n",
    "```"
   ]
  },
  {
   "cell_type": "markdown",
   "id": "9534c723",
   "metadata": {},
   "source": [
    "(ML_challenge)=\n",
    "### TrackMLチャレンジ\n",
    "\n",
    "CERNでは、将来の加速器計画として「高輝度LHC」（2027年に開始予定）と呼ばれるLHCの増強計画を進めており、実際にLHCのビーム強度が大幅に増加することになっています。高輝度LHC では、陽子の衝突頻度が現在の10倍近くに上がることになっており、発生する2次粒子の数もそれに応じて増えるため、トラッキングの効率化は実は喫緊の課題です。\n",
    "\n",
    "2027年から量子コンピュータを実際の実験で利用する見通しは残念ながらありませんが、古典コンピュータでも最先端の機械学習手法の導入などでまだまだアルゴリズムを改良する余地があると考えた研究者らによって、2018年に<a href=\"https://www.kaggle.com/c/trackml-particle-identification\" target=\"_blank\">TrackML Particle Trackingチャレンジ</a>というコンペティションが開催されました。このコンペティションでは、高輝度LHCでの実験環境のシミュレーションから得られた検出器のヒット情報が公開データとして参加者（物理学者に限らず誰でも参加可能）に提供され、参加者は自身のアルゴリズムをこのデータに対して適用して、トラッキングの早さや精度を競い合いました。"
   ]
  },
  {
   "cell_type": "markdown",
   "id": "80eccabf",
   "metadata": {},
   "source": [
    "(tracking)=\n",
    "## 問題：VQEによるトラッキング\n",
    "\n",
    "この課題では、上のTrackMLチャレンジの公開データを用いて、VQEを数理最適化アルゴリズムとして応用してトラッキングを行うことを目指します。ただし、現在の量子コンピュータでは大きなサイズの問題を解くことはまだ難しいため、サイズの小さい問題、つまり少数の生成粒子が生成された場合に絞って検討を行います。"
   ]
  },
  {
   "cell_type": "markdown",
   "id": "f0f5bca8",
   "metadata": {},
   "source": [
    "まず、必要なライブラリを最初にインポートします。"
   ]
  },
  {
   "cell_type": "code",
   "execution_count": 1,
   "id": "cf4e199a",
   "metadata": {
    "jupyter": {
     "outputs_hidden": false
    },
    "pycharm": {
     "name": "#%%\n"
    }
   },
   "outputs": [
    {
     "name": "stderr",
     "output_type": "stream",
     "text": [
      "/usr/local/lib/python3.10/dist-packages/dateutil/zoneinfo/__init__.py:26: UserWarning: I/O error(2): No such file or directory\n",
      "  warnings.warn(\"I/O error({0}): {1}\".format(e.errno, e.strerror))\n"
     ]
    }
   ],
   "source": [
    "import pprint\n",
    "import numpy as np\n",
    "import h5py\n",
    "import matplotlib.pyplot as plt\n",
    "\n",
    "from qiskit import QuantumCircuit\n",
    "from qiskit.circuit.library import TwoLocal\n",
    "from qiskit.primitives import BackendEstimator\n",
    "from qiskit.algorithms.minimum_eigensolvers import VQE, NumPyMinimumEigensolver\n",
    "from qiskit.algorithms.optimizers import SPSA, COBYLA\n",
    "from qiskit.algorithms.gradients import ParamShiftEstimatorGradient\n",
    "from qiskit.quantum_info import SparsePauliOp, Statevector\n",
    "from qiskit_optimization.applications import OptimizationApplication\n",
    "from qiskit_aer import AerSimulator"
   ]
  },
  {
   "cell_type": "markdown",
   "id": "4c39b49d",
   "metadata": {},
   "source": [
    "(hamiltonian_form)=\n",
    "### ハミルトニアンの構成とVQEの実行\n",
    "\n",
    "VQEを一般の最適化アルゴリズムとして利用するには、問題を何らかのハミルトニアンとして表現する必要があります。問題の最適解がそのハミルトニアンの基底（最低エネルギー）状態に対応するように構成できれば、VQEがその最適解を近似してくれます。"
   ]
  },
  {
   "cell_type": "markdown",
   "id": "4183aea4",
   "metadata": {},
   "source": [
    "(pre_processing)=\n",
    "#### 前準備\n",
    "\n",
    "この課題ではTrackMLチャレンジのデータを用いますが、元のデータは扱いが難しいため、量子計算に用いやすいように前処理を行なったデータを使います。ここでのデータの準備やこの後のハミルトニアンの構成は、{cite}`bapst2019pattern`に基づいています。\n",
    "\n",
    "まず下図に示したように、検出器3層に渡って連続するヒットを選び出します（点線で囲まれた3層ヒットのことを、ここでは「セグメント」と呼ぶことにします）。色のついた点がヒットだと考えてください。これらのセグメントはただヒットを結んだだけなので、全て実際の粒子の飛跡に対応しているとは限りません。別々の粒子によるヒットを結びつけてしまっている場合もあれば、検出器の電気的ノイズをヒットとして記録してしまい、そこからセグメントを作ってしまっていることもあり得ます。ただし、そのような「フェイク」のセグメントはあらゆる方向を向き得るのに対し、実際に陽子衝突で生じた粒子由来のセグメントは検出器中心を向きます。そこで、各セグメントについて**どれだけ検出器中心の方を向いているか**に基づいてスコアをつけます。このスコアは後で説明する理由によって、セグメントが検出器中心を向いているほど値が小さくなるように設定します。また、明らかにフェイクなセグメントは最初から無視するので、以降はスコアが一定以下のもののみを考えます。\n",
    "\n",
    "```{image} figs/track_segment.png\n",
    ":alt: track_segment\n",
    ":width: 350px\n",
    ":align: center\n",
    "```\n",
    "\n",
    "次に、選び出されたセグメントから総当りでペアを作り、それぞれのペアについて、二つのセグメントが**同一の荷電粒子が作る飛跡とどれぐらい無矛盾なのか**を表すスコアをつけます。\n",
    "このスコアは、セグメントのペアが同一飛跡に近くなるにつれ、値が-1に近づくように設定されています。\n",
    "\n",
    "例えば、セグメントを構成する3つのヒットのうちの1つが2つのセグメントに共有されているケース（図中で赤で示した場合に相当）は、飛跡の候補としては適切でないのでスコアが+1になります。なぜかと言うと、赤で示したような「枝分かれ」あるいは「収束」したような飛跡というのは、今興味がある飛跡（検出器中心で発生した荷電粒子の軌道）とは矛盾しているからです。\n",
    "\n",
    "また、図中のオレンジのようなケース（途中でヒットが抜けているようなセグメント）や茶色のケース（飛跡がジグザグしているもの）も興味のある飛跡とは言えないため、スコアは-1より大きな値に設定されます。なぜジグザグした飛跡が好ましくないかですが、一様な磁場に直交する方向に荷電粒子が入射した場合、その入射平面ではローレンツ力のせいで一定の曲率で同じ方向に粒子の軌道が曲がるからです。"
   ]
  },
  {
   "cell_type": "markdown",
   "id": "57733b5d",
   "metadata": {},
   "source": [
    "#### QUBO\n",
    "\n",
    "以上のセットアップで、各セグメントを粒子飛跡の一部として採用するかフェイクとして棄却するかを考えます。具体的には、$N$個のセグメントのうち$i$番目の採用・棄却を二値変数$T_i$の値1と0に対応させ、目的関数\n",
    "\n",
    "$$\n",
    "O(b, T) = \\sum_{i=1}^N a_{i} T_i + \\sum_{i=1}^N \\sum_{j<i}^N b_{ij} T_i T_j\n",
    "$$\n",
    "\n",
    "を最小化する$\\{T_i\\}$を求めます。ここで$a_i$は上で決めたセグメント$i$のスコア、$b_{ij}$はセグメント$i$と$j$のペアのスコアです。$a_i$の値が小さい（検出器中心を向いている）、かつ$b_{ij}$の値が小さい（正しい飛跡と無矛盾な）ペアを組んでいるセグメントを採用し、そうでないものを棄却するほど、$O$の値は小さくなります。採用すべきセグメントが決まれば、それに基づいてすべての粒子飛跡を再構成できるので、この最小化問題を解くことがトラッキングに対応します。\n",
    "\n",
    "上のような形式の最適化問題を**QUBO**（*Quadratic Unconstrained Binary Optimization*、2次制約無し2値最適化）と呼びます。一見特殊な形式ですが、実は様々な最適化問題（例えば有名な巡回セールスマン問題なども）がQUBOの形に落とし込めることが知られています。また、ここでは直接関係しませんが、量子アニーリングマシンと呼ばれるタイプの量子コンピュータでは、QUBOを解くことが動作の基本です。\n",
    "\n",
    "それでは、まずスコア$a_{i}$と$b_{ij}$を読み出しましょう。この後のプログラミングを簡単にするため、二つのスコアセットは一つの二次元配列`b`に記録されており、`b[i, i]`が$a_i$に対応するようになっています。"
   ]
  },
  {
   "cell_type": "code",
   "execution_count": 2,
   "id": "2cc2153a",
   "metadata": {},
   "outputs": [
    {
     "name": "stdout",
     "output_type": "stream",
     "text": [
      "Number of segments: 10\n",
      "[0.01112656 0.00136799 0.28453292 0.01872251 0.01159189]\n",
      "[[ 0.          0.          0.          0.          0.        ]\n",
      " [ 1.          0.          0.          0.          0.        ]\n",
      " [ 0.         -0.20194633  0.          0.          0.        ]\n",
      " [ 1.          1.          0.          0.          0.        ]\n",
      " [ 1.          1.          1.          1.          0.        ]]\n"
     ]
    }
   ],
   "source": [
    "# スコアの読み込み\n",
    "with h5py.File('data/QUBO_05pct_input.h5', 'r') as source:\n",
    "    a_score = source['a_score'][()]\n",
    "    b_score = source['b_score'][()]\n",
    "\n",
    "print(f'Number of segments: {a_score.shape[0]}')\n",
    "# 最初の5x5をプリント\n",
    "print(a_score[:5])\n",
    "print(b_score[:5, :5])"
   ]
  },
  {
   "cell_type": "markdown",
   "id": "a5a259e4",
   "metadata": {},
   "source": [
    "#### Ising形式\n",
    "\n",
    "QUBOの目的関数はまだハミルトニアンの形になっていない（エルミート演算子でない）ので、VQEを使ってこの問題を解くにはさらに問題を変形する必要があります。ここで$T_i$が$\\{0, 1\\}$のバイナリー値を持つことに着目すると、\n",
    "\n",
    "$$\n",
    "T_i = \\frac{1}{2} (1 - s_i)\n",
    "$$\n",
    "\n",
    "で値$\\{+1, -1\\}$を持つ変数$s_i$を定義できます。次に、$\\{+1, -1\\}$はパウリ演算子の固有値でもあるため、$s_i$を量子ビット$i$にかかるパウリ$Z$演算子で置き換えると、$N$量子ビット系の各計算基底がセグメントの採用・棄却をエンコードする固有状態となるような目的ハミルトニアン\n",
    "\n",
    "$$\n",
    "H(h, J, s) = \\sum_{i=1}^N h_i Z_i + \\sum_{i=1}^N \\sum_{j<i}^N J_{ij} Z_i Z_j + \\text{(constant)}\n",
    "$$\n",
    "\n",
    "が得られます。これは物理を始め自然科学の様々な場面で登場するIsing模型のハミルトニアンと同じ形になっています。右辺の$constant$はハミルトニアンの定数項で、変分法において意味を持たないので以降は無視します。\n",
    "\n",
    "以下のセルで、上の処方に従ってIsingハミルトニアンの係数$h_i$と$J_{ij}$を計算してください。"
   ]
  },
  {
   "cell_type": "code",
   "execution_count": 3,
   "id": "c46f6219",
   "metadata": {},
   "outputs": [],
   "source": [
    "num_qubits = a_score.shape[0]\n",
    "\n",
    "coeff_h = np.zeros(num_qubits)\n",
    "coeff_J = np.zeros((num_qubits, num_qubits))\n",
    "\n",
    "##################\n",
    "### EDIT BELOW ###\n",
    "##################\n",
    "\n",
    "# coeff_hとcoeff_Jをb_ijから計算してください\n",
    "\n",
    "##################\n",
    "### EDIT ABOVE ###\n",
    "##################"
   ]
  },
  {
   "cell_type": "markdown",
   "id": "2fa2a768",
   "metadata": {},
   "source": [
    "次に、この係数をもとに、VQEに渡すハミルトニアンをSparsePauliOpとして定義します。{ref}`vqe_imp`ではSparsePauliOpは単一のパウリ積$ZXY$を表現するのに使いましたが、実はパウリ積の和も同じクラスを使って表現できます。例えば\n",
    "\n",
    "$$\n",
    "H = 0.2 IIZ + 0.3 ZZI + 0.1 ZIZ\n",
    "$$\n",
    "\n",
    "は\n",
    "\n",
    "```python\n",
    "H = SparsePauliOp(['IIZ', 'ZZI', 'ZIZ'], coeffs=[0.2, 0.3, 0.1])\n",
    "```\n",
    "\n",
    "となります。このとき、通常のQiskitの約束に従って、量子ビットの順番が右から左（一番右が第0量子ビットにかかる演算子）であることに注意してください。"
   ]
  },
  {
   "cell_type": "code",
   "execution_count": 4,
   "id": "9143887c",
   "metadata": {
    "tags": [
     "raises-exception",
     "remove-output"
    ]
   },
   "outputs": [
    {
     "ename": "QiskitError",
     "evalue": "'Input Pauli list is empty.'",
     "output_type": "error",
     "traceback": [
      "\u001b[0;31m---------------------------------------------------------------------------\u001b[0m",
      "\u001b[0;31mQiskitError\u001b[0m                               Traceback (most recent call last)",
      "Cell \u001b[0;32mIn[4], line 14\u001b[0m\n\u001b[1;32m      8\u001b[0m coeffs \u001b[38;5;241m=\u001b[39m []\n\u001b[1;32m     10\u001b[0m \u001b[38;5;66;03m##################\u001b[39;00m\n\u001b[1;32m     11\u001b[0m \u001b[38;5;66;03m### EDIT ABOVE ###\u001b[39;00m\n\u001b[1;32m     12\u001b[0m \u001b[38;5;66;03m##################\u001b[39;00m\n\u001b[0;32m---> 14\u001b[0m hamiltonian \u001b[38;5;241m=\u001b[39m \u001b[43mSparsePauliOp\u001b[49m\u001b[43m(\u001b[49m\u001b[43mpauli_products\u001b[49m\u001b[43m,\u001b[49m\u001b[43m \u001b[49m\u001b[43mcoeffs\u001b[49m\u001b[38;5;241;43m=\u001b[39;49m\u001b[43mcoeffs\u001b[49m\u001b[43m)\u001b[49m\n",
      "File \u001b[0;32m/usr/local/lib/python3.10/dist-packages/qiskit/quantum_info/operators/symplectic/sparse_pauli_op.py:113\u001b[0m, in \u001b[0;36mSparsePauliOp.__init__\u001b[0;34m(self, data, coeffs, ignore_pauli_phase, copy)\u001b[0m\n\u001b[1;32m    109\u001b[0m     \u001b[38;5;66;03m# `SparsePauliOp._pauli_list` is already compatible with the internal ZX-phase\u001b[39;00m\n\u001b[1;32m    110\u001b[0m     \u001b[38;5;66;03m# convention.  See `BasePauli._from_array` for the internal ZX-phase convention.\u001b[39;00m\n\u001b[1;32m    111\u001b[0m     ignore_pauli_phase \u001b[38;5;241m=\u001b[39m \u001b[38;5;28;01mTrue\u001b[39;00m\n\u001b[0;32m--> 113\u001b[0m pauli_list \u001b[38;5;241m=\u001b[39m \u001b[43mPauliList\u001b[49m\u001b[43m(\u001b[49m\u001b[43mdata\u001b[49m\u001b[38;5;241;43m.\u001b[39;49m\u001b[43mcopy\u001b[49m\u001b[43m(\u001b[49m\u001b[43m)\u001b[49m\u001b[43m \u001b[49m\u001b[38;5;28;43;01mif\u001b[39;49;00m\u001b[43m \u001b[49m\u001b[43mcopy\u001b[49m\u001b[43m \u001b[49m\u001b[38;5;129;43;01mand\u001b[39;49;00m\u001b[43m \u001b[49m\u001b[38;5;28;43mhasattr\u001b[39;49m\u001b[43m(\u001b[49m\u001b[43mdata\u001b[49m\u001b[43m,\u001b[49m\u001b[43m \u001b[49m\u001b[38;5;124;43m\"\u001b[39;49m\u001b[38;5;124;43mcopy\u001b[39;49m\u001b[38;5;124;43m\"\u001b[39;49m\u001b[43m)\u001b[49m\u001b[43m \u001b[49m\u001b[38;5;28;43;01melse\u001b[39;49;00m\u001b[43m \u001b[49m\u001b[43mdata\u001b[49m\u001b[43m)\u001b[49m\n\u001b[1;32m    115\u001b[0m dtype \u001b[38;5;241m=\u001b[39m \u001b[38;5;28mobject\u001b[39m \u001b[38;5;28;01mif\u001b[39;00m \u001b[38;5;28misinstance\u001b[39m(coeffs, np\u001b[38;5;241m.\u001b[39mndarray) \u001b[38;5;129;01mand\u001b[39;00m coeffs\u001b[38;5;241m.\u001b[39mdtype \u001b[38;5;241m==\u001b[39m \u001b[38;5;28mobject\u001b[39m \u001b[38;5;28;01melse\u001b[39;00m \u001b[38;5;28mcomplex\u001b[39m\n\u001b[1;32m    117\u001b[0m \u001b[38;5;28;01mif\u001b[39;00m coeffs \u001b[38;5;129;01mis\u001b[39;00m \u001b[38;5;28;01mNone\u001b[39;00m:\n",
      "File \u001b[0;32m/usr/local/lib/python3.10/dist-packages/qiskit/quantum_info/operators/symplectic/pauli_list.py:140\u001b[0m, in \u001b[0;36mPauliList.__init__\u001b[0;34m(self, data)\u001b[0m\n\u001b[1;32m    137\u001b[0m     base_z, base_x, base_phase \u001b[38;5;241m=\u001b[39m \u001b[38;5;28mself\u001b[39m\u001b[38;5;241m.\u001b[39m_from_array(data\u001b[38;5;241m.\u001b[39mZ, data\u001b[38;5;241m.\u001b[39mX)\n\u001b[1;32m    138\u001b[0m \u001b[38;5;28;01melse\u001b[39;00m:\n\u001b[1;32m    139\u001b[0m     \u001b[38;5;66;03m# Conversion as iterable of Paulis\u001b[39;00m\n\u001b[0;32m--> 140\u001b[0m     base_z, base_x, base_phase \u001b[38;5;241m=\u001b[39m \u001b[38;5;28;43mself\u001b[39;49m\u001b[38;5;241;43m.\u001b[39;49m\u001b[43m_from_paulis\u001b[49m\u001b[43m(\u001b[49m\u001b[43mdata\u001b[49m\u001b[43m)\u001b[49m\n\u001b[1;32m    142\u001b[0m \u001b[38;5;66;03m# Initialize BasePauli\u001b[39;00m\n\u001b[1;32m    143\u001b[0m \u001b[38;5;28msuper\u001b[39m()\u001b[38;5;241m.\u001b[39m\u001b[38;5;21m__init__\u001b[39m(base_z, base_x, base_phase)\n",
      "File \u001b[0;32m/usr/local/lib/python3.10/dist-packages/qiskit/quantum_info/operators/symplectic/pauli_list.py:181\u001b[0m, in \u001b[0;36mPauliList._from_paulis\u001b[0;34m(data)\u001b[0m\n\u001b[1;32m    179\u001b[0m num_paulis \u001b[38;5;241m=\u001b[39m \u001b[38;5;28mlen\u001b[39m(data)\n\u001b[1;32m    180\u001b[0m \u001b[38;5;28;01mif\u001b[39;00m num_paulis \u001b[38;5;241m==\u001b[39m \u001b[38;5;241m0\u001b[39m:\n\u001b[0;32m--> 181\u001b[0m     \u001b[38;5;28;01mraise\u001b[39;00m QiskitError(\u001b[38;5;124m\"\u001b[39m\u001b[38;5;124mInput Pauli list is empty.\u001b[39m\u001b[38;5;124m\"\u001b[39m)\n\u001b[1;32m    182\u001b[0m paulis \u001b[38;5;241m=\u001b[39m []\n\u001b[1;32m    183\u001b[0m \u001b[38;5;28;01mfor\u001b[39;00m i \u001b[38;5;129;01min\u001b[39;00m data:\n",
      "\u001b[0;31mQiskitError\u001b[0m: 'Input Pauli list is empty.'"
     ]
    }
   ],
   "source": [
    "##################\n",
    "### EDIT BELOW ###\n",
    "##################\n",
    "\n",
    "# 係数が0でないパウリ積をすべて拾い出し、対応する係数の配列を作成してください\n",
    "\n",
    "pauli_products = []\n",
    "coeffs = []\n",
    "\n",
    "##################\n",
    "### EDIT ABOVE ###\n",
    "##################\n",
    "\n",
    "hamiltonian = SparsePauliOp(pauli_products, coeffs=coeffs)"
   ]
  },
  {
   "cell_type": "markdown",
   "id": "3fc8e54f",
   "metadata": {},
   "source": [
    "(tracking_vqe)=\n",
    "#### VQEの実行\n",
    "\n",
    "上で定義したハミルトニアンを元に、VQEを使ってエネルギーの最小固有値（の近似解）を求めていきます。ただその前に、このハミルトニアンの行列を対角化して、エネルギーの最小固有値とその固有ベクトルを厳密に計算した場合の答えを出してみましょう。"
   ]
  },
  {
   "cell_type": "code",
   "execution_count": 5,
   "id": "8b23d9bc",
   "metadata": {
    "pycharm": {
     "name": "#%%\n"
    },
    "tags": [
     "raises-exception",
     "remove-output"
    ]
   },
   "outputs": [
    {
     "ename": "NameError",
     "evalue": "name 'hamiltonian' is not defined",
     "output_type": "error",
     "traceback": [
      "\u001b[0;31m---------------------------------------------------------------------------\u001b[0m",
      "\u001b[0;31mNameError\u001b[0m                                 Traceback (most recent call last)",
      "Cell \u001b[0;32mIn[5], line 3\u001b[0m\n\u001b[1;32m      1\u001b[0m \u001b[38;5;66;03m# ハミルトニアン行列を対角化して、エネルギーの最小固有値と固有ベクトルを求める\u001b[39;00m\n\u001b[1;32m      2\u001b[0m ee \u001b[38;5;241m=\u001b[39m NumPyMinimumEigensolver()\n\u001b[0;32m----> 3\u001b[0m result_diag \u001b[38;5;241m=\u001b[39m ee\u001b[38;5;241m.\u001b[39mcompute_minimum_eigenvalue(\u001b[43mhamiltonian\u001b[49m)\n\u001b[1;32m      5\u001b[0m \u001b[38;5;66;03m# 最小エネルギーに対応する量子ビットの組み合わせを表示\u001b[39;00m\n\u001b[1;32m      6\u001b[0m \u001b[38;5;28mprint\u001b[39m(\u001b[38;5;124mf\u001b[39m\u001b[38;5;124m'\u001b[39m\u001b[38;5;124mMinimum eigenvalue (diagonalization): \u001b[39m\u001b[38;5;132;01m{\u001b[39;00mresult_diag\u001b[38;5;241m.\u001b[39meigenvalue\u001b[38;5;241m.\u001b[39mreal\u001b[38;5;132;01m}\u001b[39;00m\u001b[38;5;124m'\u001b[39m)\n",
      "\u001b[0;31mNameError\u001b[0m: name 'hamiltonian' is not defined"
     ]
    }
   ],
   "source": [
    "# ハミルトニアン行列を対角化して、エネルギーの最小固有値と固有ベクトルを求める\n",
    "ee = NumPyMinimumEigensolver()\n",
    "result_diag = ee.compute_minimum_eigenvalue(hamiltonian)\n",
    "\n",
    "# 最小エネルギーに対応する量子ビットの組み合わせを表示\n",
    "print(f'Minimum eigenvalue (diagonalization): {result_diag.eigenvalue.real}')\n",
    "# 解状態を計算基底で展開し、最も確率の高い計算基底を選ぶ\n",
    "optimal_segments_diag = OptimizationApplication.sample_most_likely(result_diag.eigenstate)\n",
    "print(f'Optimal segments (diagonalization): {optimal_segments_diag}')"
   ]
  },
  {
   "cell_type": "markdown",
   "id": "e1f1ba1e",
   "metadata": {},
   "source": [
    "`optimal_segments_diag`のリストで1になっている量子ビットが、目的関数を最小化するセグメントの選択に対応します。\n",
    "\n",
    "次に、VQEで最小エネルギーを求めてみます。オプティマイザーとしてSPSAあるいはCOBYLAを使う場合のコードは以下のようになります。"
   ]
  },
  {
   "cell_type": "code",
   "execution_count": 6,
   "id": "6aa7376b",
   "metadata": {
    "pycharm": {
     "name": "#%%\n"
    },
    "tags": [
     "raises-exception",
     "remove-output"
    ]
   },
   "outputs": [
    {
     "ename": "NameError",
     "evalue": "name 'hamiltonian' is not defined",
     "output_type": "error",
     "traceback": [
      "\u001b[0;31m---------------------------------------------------------------------------\u001b[0m",
      "\u001b[0;31mNameError\u001b[0m                                 Traceback (most recent call last)",
      "Cell \u001b[0;32mIn[6], line 25\u001b[0m\n\u001b[1;32m     23\u001b[0m \u001b[38;5;66;03m# VQEオブジェクトを作り、基底状態を探索する\u001b[39;00m\n\u001b[1;32m     24\u001b[0m vqe \u001b[38;5;241m=\u001b[39m VQE(estimator, ansatz, optimizer, gradient\u001b[38;5;241m=\u001b[39mgrad, initial_point\u001b[38;5;241m=\u001b[39minit)\n\u001b[0;32m---> 25\u001b[0m result_vqe \u001b[38;5;241m=\u001b[39m vqe\u001b[38;5;241m.\u001b[39mcompute_minimum_eigenvalue(\u001b[43mhamiltonian\u001b[49m)\n\u001b[1;32m     27\u001b[0m \u001b[38;5;66;03m# 最適解のパラメータ値をansatzに代入し、状態ベクトルを計算する\u001b[39;00m\n\u001b[1;32m     28\u001b[0m optimal_state \u001b[38;5;241m=\u001b[39m Statevector(ansatz\u001b[38;5;241m.\u001b[39mbind_parameters(result_vqe\u001b[38;5;241m.\u001b[39moptimal_parameters))\n",
      "\u001b[0;31mNameError\u001b[0m: name 'hamiltonian' is not defined"
     ]
    }
   ],
   "source": [
    "backend = AerSimulator()\n",
    "# Estimatorインスタンスを作る\n",
    "estimator = BackendEstimator(backend)\n",
    "\n",
    "# VQE用の変分フォームを定義。ここではTwoLocalという組み込み関数を使う\n",
    "ansatz = TwoLocal(num_qubits, 'ry', 'cz', 'linear', reps=1)\n",
    "\n",
    "# オプティマイザーを選ぶ\n",
    "optimizer_name = 'SPSA'\n",
    "\n",
    "if optimizer_name == 'SPSA':\n",
    "    optimizer = SPSA(maxiter=300)\n",
    "    grad = ParamShiftEstimatorGradient(estimator)\n",
    "\n",
    "elif optimizer_name == 'COBYLA':\n",
    "    optimizer = COBYLA(maxiter=500)\n",
    "    grad = None\n",
    "\n",
    "# パラメータの初期値をランダムに設定\n",
    "rng = np.random.default_rng()\n",
    "init = rng.uniform(0., 2. * np.pi, size=len(ansatz.parameters))\n",
    "\n",
    "# VQEオブジェクトを作り、基底状態を探索する\n",
    "vqe = VQE(estimator, ansatz, optimizer, gradient=grad, initial_point=init)\n",
    "result_vqe = vqe.compute_minimum_eigenvalue(hamiltonian)\n",
    "\n",
    "# 最適解のパラメータ値をansatzに代入し、状態ベクトルを計算する\n",
    "optimal_state = Statevector(ansatz.bind_parameters(result_vqe.optimal_parameters))\n",
    "\n",
    "# 最小エネルギーに対応する量子ビットの組み合わせを表示\n",
    "print(f'Minimum eigenvalue (VQE): {result_vqe.eigenvalue.real}')\n",
    "optimal_segments_vqe = OptimizationApplication.sample_most_likely(optimal_state)\n",
    "print(f'Optimal segments (VQE): {optimal_segments_vqe}')"
   ]
  },
  {
   "cell_type": "markdown",
   "id": "0191c7a6",
   "metadata": {
    "pycharm": {
     "name": "#%% md\n"
    }
   },
   "source": [
    "(omake)=\n",
    "### おまけ\n",
    "\n",
    "Trackingがうまく行っても、この答えだと0と1が並んでいるだけで面白くないですよね。正しく飛跡が見つかったかどうか目で確認するため、以下のコードを走らせてみましょう。\n",
    "\n",
    "このコードは、QUBOを定義する時に使った検出器のヒット位置をビーム軸に垂直な平面でプロットして、どのヒットが選ばれたかを分かりやすく可視化したものです。緑の線が実際に見つかった飛跡で、青の線を含めたものが全体の飛跡の候補です。この実習では限られた数の量子ビットしか使っていないため、大部分の飛跡は見つけられていませんが、緑の線から計算に使った3点ヒットからは正しく飛跡が見つかっていることが分かると思います。"
   ]
  },
  {
   "cell_type": "code",
   "execution_count": 7,
   "id": "d5c195c4",
   "metadata": {
    "pycharm": {
     "name": "#%%\n"
    },
    "tags": [
     "raises-exception",
     "remove-output"
    ]
   },
   "outputs": [
    {
     "ename": "ModuleNotFoundError",
     "evalue": "No module named 'dwave_qbsolv'",
     "output_type": "error",
     "traceback": [
      "\u001b[0;31m---------------------------------------------------------------------------\u001b[0m",
      "\u001b[0;31mModuleNotFoundError\u001b[0m                       Traceback (most recent call last)",
      "Cell \u001b[0;32mIn[7], line 1\u001b[0m\n\u001b[0;32m----> 1\u001b[0m \u001b[38;5;28;01mfrom\u001b[39;00m \u001b[38;5;21;01mhepqpr\u001b[39;00m\u001b[38;5;21;01m.\u001b[39;00m\u001b[38;5;21;01mqallse\u001b[39;00m \u001b[38;5;28;01mimport\u001b[39;00m DataWrapper, Qallse, TrackRecreaterD\n\u001b[1;32m      2\u001b[0m \u001b[38;5;28;01mfrom\u001b[39;00m \u001b[38;5;21;01mhepqpr\u001b[39;00m\u001b[38;5;21;01m.\u001b[39;00m\u001b[38;5;21;01mqallse\u001b[39;00m\u001b[38;5;21;01m.\u001b[39;00m\u001b[38;5;21;01mplotting\u001b[39;00m \u001b[38;5;28;01mimport\u001b[39;00m iplot_results, iplot_results_tracks\n\u001b[1;32m      3\u001b[0m \u001b[38;5;28;01mfrom\u001b[39;00m \u001b[38;5;21;01mhepqpr\u001b[39;00m\u001b[38;5;21;01m.\u001b[39;00m\u001b[38;5;21;01mqallse\u001b[39;00m\u001b[38;5;21;01m.\u001b[39;00m\u001b[38;5;21;01mutils\u001b[39;00m \u001b[38;5;28;01mimport\u001b[39;00m diff_rows\n",
      "File \u001b[0;32m/qc-workbook/source/ja/hepqpr/qallse/__init__.py:2\u001b[0m\n\u001b[1;32m      1\u001b[0m \u001b[38;5;66;03m# models\u001b[39;00m\n\u001b[0;32m----> 2\u001b[0m \u001b[38;5;28;01mfrom\u001b[39;00m \u001b[38;5;21;01m.\u001b[39;00m\u001b[38;5;21;01mqallse\u001b[39;00m \u001b[38;5;28;01mimport\u001b[39;00m Qallse\n\u001b[1;32m      3\u001b[0m \u001b[38;5;28;01mfrom\u001b[39;00m \u001b[38;5;21;01m.\u001b[39;00m\u001b[38;5;21;01mqallse_mp\u001b[39;00m \u001b[38;5;28;01mimport\u001b[39;00m QallseMp\n\u001b[1;32m      4\u001b[0m \u001b[38;5;28;01mfrom\u001b[39;00m \u001b[38;5;21;01m.\u001b[39;00m\u001b[38;5;21;01mqallse_d0\u001b[39;00m \u001b[38;5;28;01mimport\u001b[39;00m QallseD0\n",
      "File \u001b[0;32m/qc-workbook/source/ja/hepqpr/qallse/qallse.py:4\u001b[0m\n\u001b[1;32m      1\u001b[0m \u001b[38;5;28;01mimport\u001b[39;00m \u001b[38;5;21;01mpandas\u001b[39;00m \u001b[38;5;28;01mas\u001b[39;00m \u001b[38;5;21;01mpd\u001b[39;00m\n\u001b[1;32m      3\u001b[0m \u001b[38;5;28;01mfrom\u001b[39;00m \u001b[38;5;21;01m.\u001b[39;00m\u001b[38;5;21;01mdata_structures\u001b[39;00m \u001b[38;5;28;01mimport\u001b[39;00m \u001b[38;5;241m*\u001b[39m\n\u001b[0;32m----> 4\u001b[0m \u001b[38;5;28;01mfrom\u001b[39;00m \u001b[38;5;21;01m.\u001b[39;00m\u001b[38;5;21;01mqallse_base\u001b[39;00m \u001b[38;5;28;01mimport\u001b[39;00m ConfigBase, QallseBase\n\u001b[1;32m      5\u001b[0m \u001b[38;5;28;01mfrom\u001b[39;00m \u001b[38;5;21;01m.\u001b[39;00m\u001b[38;5;21;01mutils\u001b[39;00m \u001b[38;5;28;01mimport\u001b[39;00m pd_read_csv_array\n\u001b[1;32m      8\u001b[0m \u001b[38;5;28;01mclass\u001b[39;00m \u001b[38;5;21;01mConfig\u001b[39;00m(ConfigBase):\n",
      "File \u001b[0;32m/qc-workbook/source/ja/hepqpr/qallse/qallse_base.py:9\u001b[0m\n\u001b[1;32m      6\u001b[0m \u001b[38;5;28;01mfrom\u001b[39;00m \u001b[38;5;21;01mtyping\u001b[39;00m \u001b[38;5;28;01mimport\u001b[39;00m Union\n\u001b[1;32m      8\u001b[0m \u001b[38;5;28;01mimport\u001b[39;00m \u001b[38;5;21;01mpandas\u001b[39;00m \u001b[38;5;28;01mas\u001b[39;00m \u001b[38;5;21;01mpd\u001b[39;00m\n\u001b[0;32m----> 9\u001b[0m \u001b[38;5;28;01mfrom\u001b[39;00m \u001b[38;5;21;01mdwave_qbsolv\u001b[39;00m \u001b[38;5;28;01mimport\u001b[39;00m QBSolv\n\u001b[1;32m     10\u001b[0m \u001b[38;5;28;01mfrom\u001b[39;00m \u001b[38;5;21;01m.\u001b[39;00m\u001b[38;5;21;01mother\u001b[39;00m\u001b[38;5;21;01m.\u001b[39;00m\u001b[38;5;21;01mstdout_redirect\u001b[39;00m \u001b[38;5;28;01mimport\u001b[39;00m capture_stdout\n\u001b[1;32m     12\u001b[0m \u001b[38;5;28;01mfrom\u001b[39;00m \u001b[38;5;21;01m.\u001b[39;00m\u001b[38;5;21;01mdata_structures\u001b[39;00m \u001b[38;5;28;01mimport\u001b[39;00m \u001b[38;5;241m*\u001b[39m\n",
      "\u001b[0;31mModuleNotFoundError\u001b[0m: No module named 'dwave_qbsolv'"
     ]
    }
   ],
   "source": [
    "from hepqpr.qallse import DataWrapper, Qallse, TrackRecreaterD\n",
    "from hepqpr.qallse.plotting import iplot_results, iplot_results_tracks\n",
    "from hepqpr.qallse.utils import diff_rows\n",
    "\n",
    "optimal_segments = optimal_segments_vqe\n",
    "# optimal_segments = optimal_segments_diag\n",
    "\n",
    "# セグメントにはそれぞれIDがついているので、{ID: 0 or 1}の形でQallseにデータを渡す\n",
    "# まずはセグメントのIDの読み出し（バイナリ文字データで保存されているので、UTF-8にdecodeしている）\n",
    "with h5py.File('data/QUBO_05pct_input.h5', 'r') as source:\n",
    "    triplet_keys = map(lambda key: key.decode('UTF-8'), source['triplet_keys'][()])\n",
    "\n",
    "# ここで {ID: 0 or 1} の辞書を作っている\n",
    "samples = dict(zip(triplet_keys, optimal_segments))\n",
    "\n",
    "# get the results\n",
    "all_doublets = Qallse.process_sample(samples)\n",
    "\n",
    "final_tracks, final_doublets = TrackRecreaterD().process_results(all_doublets)\n",
    "\n",
    "dw = DataWrapper.from_path('data/event000001000-hits.csv')\n",
    "\n",
    "p, r, ms = dw.compute_score(final_doublets)\n",
    "trackml_score = dw.compute_trackml_score(final_tracks)\n",
    "\n",
    "print(f'SCORE  -- precision (%): {p * 100}, recall (%): {r * 100}, missing: {len(ms)}')\n",
    "print(f'          tracks found: {len(final_tracks)}, trackml score (%): {trackml_score * 100}')\n",
    "\n",
    "dims = ['x', 'y']\n",
    "_, missings, _ = diff_rows(final_doublets, dw.get_real_doublets())\n",
    "dout = 'plot-ising_found_tracks.html'\n",
    "iplot_results(dw, final_doublets, missings, dims=dims, filename=dout)"
   ]
  },
  {
   "cell_type": "markdown",
   "id": "8d109ad7",
   "metadata": {},
   "source": [
    "**提出するもの**\n",
    "- ハミルトニアンを実装する部分のコード"
   ]
  }
 ],
 "metadata": {
  "jupytext": {
   "notebook_metadata_filter": "all",
   "text_representation": {
    "extension": ".md",
    "format_name": "myst",
    "format_version": 0.13,
    "jupytext_version": "1.14.5"
   }
  },
  "kernelspec": {
   "display_name": "Python 3 (ipykernel)",
   "language": "python",
   "name": "python3"
  },
  "language_info": {
   "codemirror_mode": {
    "name": "ipython",
    "version": 3
   },
   "file_extension": ".py",
   "mimetype": "text/x-python",
   "name": "python",
   "nbconvert_exporter": "python",
   "pygments_lexer": "ipython3",
   "version": "3.10.6"
  },
  "source_map": [
   23,
   27,
   37,
   44,
   62,
   78,
   87,
   94,
   98,
   121,
   128,
   150,
   166,
   176,
   196,
   211,
   227,
   244,
   251,
   268,
   274,
   317,
   326,
   366
  ]
 },
 "nbformat": 4,
 "nbformat_minor": 5
}