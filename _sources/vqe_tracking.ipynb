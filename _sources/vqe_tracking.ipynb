{
 "cells": [
  {
   "cell_type": "markdown",
   "id": "4fcd2f1e",
   "metadata": {},
   "source": [
    "# 【課題】高エネルギー実験で生成された荷電粒子の飛跡を見つける"
   ]
  },
  {
   "cell_type": "markdown",
   "id": "4475a70a",
   "metadata": {},
   "source": [
    "この課題では、変分量子固有値ソルバー法を物理実験に応用することを考えてみます。特に高エネルギー物理の実験に着目し、その必須技術である「**荷電粒子飛跡の再構成**」を変分量子固有値ソルバー法を使って実現することを目指します。\n",
    "\n",
    "```{contents} 目次\n",
    "---\n",
    "local: true\n",
    "---\n",
    "```"
   ]
  },
  {
   "cell_type": "markdown",
   "id": "17f78876",
   "metadata": {},
   "source": [
    "## はじめに\n",
    "**変分量子固有値ソルバー法**（*Variational Quantum Eigensolver*, VQE）を紹介した{doc}`ノートブック <vqe>`で、VQEの考え方と変分量子回路の基本的な実装の方法を学びました。ここでは、VQEの高エネルギー物理への応用を考えてみます。\n",
    "\n",
    "高エネルギー実験では、高いエネルギーに加速した粒子（例えば陽子）を人工的に衝突させ、生成された多数の二次粒子を検出器で測定することで、その生成過程をつかさどる基礎物理反応を理解していきます。そのためには、検出器で測定された信号から生成粒子を同定し、そのエネルギーや運動量を正しく再構成することがとても重要です。この実習では、生成した物理反応を再構成するための最初のステップとして、「**荷電粒子飛跡の再構成**」をVQEで実現する方法について学んでいきます。"
   ]
  },
  {
   "cell_type": "markdown",
   "id": "eb3a235c",
   "metadata": {},
   "source": [
    "(hep)=\n",
    "## 高エネルギー実験\n",
    "(hep_LHC)=\n",
    "### LHC実験の概要\n",
    "\n",
    "```{image} figs/LHC_ATLAS.png\n",
    ":alt: LHC_ATLAS\n",
    ":width: 1000px\n",
    ":align: center\n",
    "```\n",
    "\n",
    "\n",
    "LHC（大型ハドロン加速器 Large Hadron Collider）は、スイスとフランスの国境に位置する欧州原子核研究機構（CERN）で運転されている円形の加速器です。地下約100 mに掘られた周長27 kmのトンネルの中に置かれ、6.5 TeVのエネルギーまで陽子を加速することができます（1 TeVは$10^{12}$ eV）。その加速された陽子を正面衝突させることで、世界最高エネルギーである13 TeV での陽子衝突実験を実現しています（左上の写真）。右上の写真は、地下トンネルに設置されたLHCの写真です。\n",
    "\n",
    "LHCでは4つの実験（ATLAS, CMS, ALICE, LHCb）が進行中ですが、その中でもATLASとCMSは大型の汎用検出器を備えた実験です（左下の写真が実際のATLAS検出器）。陽子衝突で発生した二次粒子を周囲に設置した高精度の検出器で観測することで、さまざまな素粒子反応の観測や新しい現象の探索などを行っています。右下の絵はATLAS検出器で実際に記録した粒子生成反応の一つで、これは2012年にATLASとCMSで発見されたヒッグス粒子の候補を示したものです（ヒッグス粒子は単体で測定されるわけではなく、その崩壊の結果出てきた多数の粒子を観測するのでこのように見えます）。\n",
    "\n",
    "(hep_detect)=\n",
    "### 荷電粒子の測定\n",
    "\n",
    "ATLASやCMS実験の検出器は、異なる性質を持った検出器を内側から外側に階層的に配置しています。最内層の検出器は荷電粒子の再構成や識別に使われる検出器で、実験では最も重要な検出器の一つです。この検出器はそれ自体が約10層程度の層構造を持っており、一つの荷電粒子が通過したとき、複数の検出器信号を作ります。\n",
    "例えば、左下図にあるように一度の陽子衝突で無数の粒子が生成され、それらが検出器に「ヒット」と呼ばれる信号を作ります（図中の白、黄色、オレンジ等の点に相当）。このヒットの集合から「ある荷電粒子が作ったヒットの組み合わせ」を選び、その粒子の「飛跡」を再構成します。右下図のいろいろな色の曲線が飛跡に対応します。この飛跡の再構成は、ATLASやCMS実験に限らず、高エネルギー実験では最も重要な実験技術の一つと言えます。\n",
    "\n",
    "```{image} figs/tracking.png\n",
    ":alt: tracking\n",
    ":width: 1000px\n",
    ":align: center\n",
    "```"
   ]
  },
  {
   "cell_type": "markdown",
   "id": "873f6ea8",
   "metadata": {},
   "source": [
    "(tracking)=\n",
    "## 飛跡の再構成\n",
    "\n",
    "この実習で目指すのは、高エネルギー粒子の衝突で発生する**荷電粒子の飛跡を再構成する**こと（**Tracking**と呼ぶ）です。ただし、現在の量子コンピュータでは大きなサイズの問題を解くことはまだ難しいため、サイズの小さい問題、つまり少数の生成粒子が生成された場合に絞って検討を行います。"
   ]
  },
  {
   "cell_type": "markdown",
   "id": "b187db60",
   "metadata": {},
   "source": [
    "まず、必要なライブラリを最初にインポートします。"
   ]
  },
  {
   "cell_type": "code",
   "execution_count": 1,
   "id": "5664f4cc",
   "metadata": {
    "jupyter": {
     "outputs_hidden": false
    },
    "pycharm": {
     "name": "#%%\n"
    }
   },
   "outputs": [],
   "source": [
    "# Tested with python 3.7.9, qiskit 0.23.5, numpy 1.20.1、hepqpr-qallse 0.1.0\n",
    "import numpy as np\n",
    "import matplotlib.pyplot as plt\n",
    "\n",
    "from qiskit import QuantumCircuit, ClassicalRegister, QuantumRegister, Aer\n",
    "from qiskit.circuit.library import TwoLocal\n",
    "from qiskit.algorithms import VQE, NumPyMinimumEigensolver, NumPyEigensolver\n",
    "#from qiskit_optimization.applications.ising.common import sample_most_likely\n",
    "from qiskit.algorithms.optimizers import SPSA, COBYLA\n",
    "from qiskit.utils import QuantumInstance"
   ]
  },
  {
   "cell_type": "markdown",
   "id": "4550669a",
   "metadata": {},
   "source": [
    "(ML_challenge)=\n",
    "### TrackMLチャレンジ\n",
    "\n",
    "データとしては、2018年に行われた[TrackML Particle Trackingチャレンジ](https://www.kaggle.com/c/trackml-particle-identification)で提供されたオープンデータを活用します。CERNでは、将来の加速器計画として「高輝度LHC」（2027年に開始予定）と呼ばれるLHCの増強計画を進めています。高輝度LHCでは陽子の衝突頻度が現在の10倍近くに上がり、発生する2次粒子の数もそれに応じて増えるため、Trackingは非常にチャレンジングになると予想されています。それを克服するために、高輝度LHCでの実験環境を擬似的に作り、そこでの有効なTracking技術の開発を目指して行われたのがTrackMLチャレンジです。"
   ]
  },
  {
   "cell_type": "markdown",
   "id": "55a7afc4",
   "metadata": {},
   "source": [
    "(hamiltonian_form)=\n",
    "### ハミルトニアンの構成とVQEの実行\n",
    "\n",
    "課題として考えるのは、**Trackingを実現するためのハミルトニアンを構成し、それをVQEに実装して実行する**ことです。"
   ]
  },
  {
   "cell_type": "markdown",
   "id": "0c46725a",
   "metadata": {},
   "source": [
    "(pre_processing)=\n",
    "#### 前準備\n",
    "\n",
    "この課題ではTrackMLチャレンジのデータを用いますが、元のデータは扱いが難しいため、量子計算に用いやすいように前処理を行なったデータを使います。まず下図に示したように、検出器3層に渡って連続するヒットを選び出します（点線で囲まれた3層ヒットのことを、ここでは「セグメント」と呼ぶことにします）。色のついた点がヒットだと考えてください。この時検出器中心から発生した粒子を優先的に選び出せるように、セグメントが検出器中心の方を向いているものを選びます。\n",
    "\n",
    "```{image} figs/track_segment.png\n",
    ":alt: track_segment\n",
    ":width: 350px\n",
    ":align: center\n",
    "```\n",
    "\n",
    "\n",
    "こうして選び出したセグメントのリストを作り、そのリストから任意のペアを選んで、その**相互作用の強さ**を考えます。この相互作用は物理的な力ではなく、二つのセグメントが**同一の荷電粒子が作る飛跡とどれぐらい無矛盾なのか**を表す指標だと考えてください。この指標の決め方ですが、セグメントのペアが同一飛跡に近くなるにつれ、相互作用の強さは-1に近づくように設定されています。セグメントを構成する3つのヒットのうちの1つが2つのセグメントに共有されているケース（図中で赤で示した場合に相当）は、飛跡の候補としては適切でないので相互作用は+1になっています。なぜかと言うと、赤で示したような「枝分かれ」あるいは「収束」したような飛跡というのは、今興味がある飛跡（検出器中心で発生した荷電粒子の軌道）とは矛盾しているからです。\n",
    "\n",
    "また、図中のオレンジのようなケース（途中でヒットが抜けているようなセグメント）や茶色のケース（飛跡がジグザグしているもの）も興味のある飛跡とは言えないため、相互作用の強さは-1より大きな値に設定しています。なぜジグザグした飛跡が好ましくないかですが、一様な磁場に直交する方向に荷電粒子が入射した場合、その入射平面ではローレンツ力のせいで一定の曲率で同じ方向に粒子の軌道が曲がるからです。\n",
    "\n",
    "以上のような理由から、この相互作用の強さは緑のケースに相当するセグメントのペアが最も-1に近くなるように決められていて、このようなペア（**各セグメントの3つのヒットのうち2つが共有されていて、かつ一定の曲率で同じ方向に軌道が曲がっているペア**）を選び出すことがここでの目標になります。\n",
    "\n",
    "この段階まで処理されたデータを、`data/QUBO_05pct_input.txt`というファイルで提供しています。ファイルの中を見ると分かりますが、個々のセグメントは\"23749_38657_45525\"のような名前がついており、セグメントのペアをキーとする辞書型のデータとして格納されています（例えば、最初のデータは\"('23749_38657_45525', '23749_38657_45525'): 0.01112655792777395\"となっています）。同じセグメントのペアをキーとするデータがなぜこういう値をもっているのかは、前処理に使うモデルの詳細に依るのでここでは説明を省略します（ここでの課題には影響ありません）。"
   ]
  },
  {
   "cell_type": "markdown",
   "id": "4d36c94d",
   "metadata": {},
   "source": [
    "(problem)=\n",
    "#### 問題\n",
    "\n",
    "以上のデータから、VQEで用いるハミルトニアンを構成してみてください。\n",
    "\n",
    "**ヒント1**：この形式のデータを以下のコードを使って読み込むとします。"
   ]
  },
  {
   "cell_type": "code",
   "execution_count": 2,
   "id": "291062a8",
   "metadata": {
    "jupyter": {
     "outputs_hidden": false
    },
    "pycharm": {
     "name": "#%%\n"
    }
   },
   "outputs": [
    {
     "name": "stdout",
     "output_type": "stream",
     "text": [
      "Q size = 46\n",
      "# of segments = 10\n"
     ]
    }
   ],
   "source": [
    "file_r = 'data/QUBO_05pct_input.txt'\n",
    "from ast import literal_eval\n",
    "with open(file_r, \"r\") as f:\n",
    "    line = f.read()\n",
    "    Q = literal_eval(line)\n",
    "print(\"Q size =\",len(Q))\n",
    "\n",
    "\n",
    "n_max = 100\n",
    "\n",
    "nvar = 0\n",
    "key_i = []\n",
    "b_ij = np.zeros((n_max,n_max))\n",
    "for (k1, k2), v in Q.items():\n",
    "    if k1 == k2:\n",
    "        b_ij[nvar][nvar] = v\n",
    "        key_i.append(k1)\n",
    "        nvar += 1\n",
    "\n",
    "for (k1, k2), v in Q.items():\n",
    "    if k1 != k2:\n",
    "        for i in range(nvar):\n",
    "            for j in range(nvar):\n",
    "                if k1 == key_i[i] and k2 == key_i[j]:\n",
    "                    if i < j:\n",
    "                        b_ij[i][j] = v\n",
    "                    else:\n",
    "                        b_ij[j][i] = v\n",
    "\n",
    "b_ij = b_ij[:nvar,:nvar]\n",
    "print(\"# of segments =\",nvar)"
   ]
  },
  {
   "cell_type": "markdown",
   "id": "75964d5e",
   "metadata": {},
   "source": [
    "セグメント数を$N$（上のコードではnvar）とすると、この時b_ijは$N$行$N$列の正方行列になります。実はこのデータは、**QUBO**（*Quadratic Unconstrained Binary Optimization*、2次制約無し2値最適化）と呼ばれる問題として解くことができる形式で与えられています。QUBOは量子ビット$T$がバイナリー値（0か1）を持つ場合に、以下の式で与えられる目的関数$O$を最小化する問題として定義されます。\n",
    "\n",
    "$$\n",
    "O(b,T) = \\sum_{i=1}^Nb_{ii}T_i + \\sum_{i=1}^N\\sum_{j=1\\:(i<j)}^Nb_{ij}T_iT_j\n",
    "$$\n",
    "\n",
    "$T^2=T$でもあるため、上式は簡単に\n",
    "\n",
    "$$\n",
    "O(b,T) = \\sum_{i=1}^N\\sum_{j=1}^Nb_{ij}T_iT_j\n",
    "$$\n",
    "\n",
    "と書くこともできます。$T$は{0,1}のバイナリー値を持ちますが、シンプルな計算で{+1,-1}を持つ量子ビットに変換することができます。{+1,-1}はパウリ$Z$演算子の固有値でもあるため、パウリ$Z$演算子を使って目的関数$O$をハミルトニアンとして書くことができれば、そのまま量子回路に実装することができます。\n",
    "\n",
    "以下のスペースに、どのような変換が可能か等を含め、VQEでTrackingを実行するために必要な量子演算を定義してください。\n",
    "\n",
    "**ヒント2**：まず、{0,1}のバイナリー値を持つ$T$を{+1,-1}をもつスピン$s$に変換します。$T=0$を$s=1$、$T=1$を$s=-1$に対応させるとします。この関係の下で、目的関数$O$を\n",
    "\n",
    "$$\n",
    "H(h,J,s) = \\sum_{i=1}^Nh_is_i + \\sum_{i=1}^N\\sum_{j=1\\:(i<j)}^NJ_{ij}s_is_j\n",
    "$$\n",
    "\n",
    "となるような関数$H$に書き換えてみてください。この関数$H$はイジング模型のハミルトニアンと同じ形になっています。"
   ]
  },
  {
   "cell_type": "code",
   "execution_count": 3,
   "id": "c8f1c74c",
   "metadata": {
    "pycharm": {
     "name": "#%%\n"
    },
    "tags": [
     "raises-exception",
     "remove-output"
    ]
   },
   "outputs": [],
   "source": [
    "from qiskit.quantum_info import Pauli\n",
    "from qiskit.opflow import PrimitiveOp\n",
    "\n",
    "##################\n",
    "### EDIT BELOW ###\n",
    "##################\n",
    "\n",
    "# ステップ１：{0,1}を取るTに対して定義されているb_ijを、{+1,-1}を取る変数sに対して定義しなおす。\n",
    "\n",
    "# ステップ２：変数sをパウリZ演算子を使って実装する。\n",
    "\n",
    "def get_qubitops(*args): # 何を引数に取り、関数で何をするか全て自由\n",
    "    #return ??\n",
    "    pass\n",
    "\n",
    "##################\n",
    "### EDIT ABOVE ###\n",
    "##################"
   ]
  },
  {
   "cell_type": "markdown",
   "id": "ddde302e",
   "metadata": {},
   "source": [
    "このコードの部分を課題として提出してください。\n",
    "\n",
    "**ヒント3**：get_qubitopsは、パウリ$Z$演算子を使って実装した観測量$H$を返す関数です。Qiskitでパウリ$Z$演算子とそのテンソル積を実装するには、qiskit.quantum_info.Pauliクラス（[ここ](https://qiskit.org/documentation/stubs/qiskit.quantum_info.Pauli.html)を参照）とqiskit.aqua.operatorsライブラリ（[ここ](https://qiskit.org/documentation/apidoc/qiskit.aqua.operators.html)を参照）を使うのが便利です。セグメント間の相互作用の強さを表す$J_{ij}$は、2つのパウリ$Z$演算子のテンソル積に対する係数として導入する必要があります。それをqiskit.quantum_info.Pauliを使ってどのように書くでしょうか？$h_i$は単一パウリ$Z$演算子の係数になります。そして、最終的に測定する観測量$H$は、それらパウリ$Z$演算子の線形結合になりますね。"
   ]
  },
  {
   "cell_type": "markdown",
   "id": "83a21eed",
   "metadata": {},
   "source": [
    "(tracking_vqe)=\n",
    "### VQEによる近似解の探索\n",
    "\n",
    "上で定義したハミルトニアンを元に、VQEを使ってエネルギーの最小固有値（の近似解）を求めていきます。ただその前に、このハミルトニアンの行列を対角化して、エネルギーの最小固有値とその固有ベクトルを厳密に計算した場合の答えを出してみましょう。"
   ]
  },
  {
   "cell_type": "code",
   "execution_count": 4,
   "id": "faac9282",
   "metadata": {
    "pycharm": {
     "name": "#%%\n"
    },
    "tags": [
     "raises-exception",
     "remove-output"
    ]
   },
   "outputs": [
    {
     "name": "stdout",
     "output_type": "stream",
     "text": [
      "\n"
     ]
    },
    {
     "ename": "AttributeError",
     "evalue": "'NoneType' object has no attribute 'num_qubits'",
     "output_type": "error",
     "traceback": [
      "\u001b[0;31m---------------------------------------------------------------------------\u001b[0m",
      "\u001b[0;31mAttributeError\u001b[0m                            Traceback (most recent call last)",
      "Input \u001b[0;32mIn [4]\u001b[0m, in \u001b[0;36m<cell line: 10>\u001b[0;34m()\u001b[0m\n\u001b[1;32m      6\u001b[0m \u001b[38;5;66;03m##################\u001b[39;00m\n\u001b[1;32m      7\u001b[0m \u001b[38;5;66;03m### EDIT ABOVE ###\u001b[39;00m\n\u001b[1;32m      8\u001b[0m \u001b[38;5;66;03m##################\u001b[39;00m\n\u001b[1;32m      9\u001b[0m \u001b[38;5;28mprint\u001b[39m(\u001b[38;5;124m\"\u001b[39m\u001b[38;5;124m\"\u001b[39m)\n\u001b[0;32m---> 10\u001b[0m \u001b[38;5;28mprint\u001b[39m(\u001b[38;5;124m\"\u001b[39m\u001b[38;5;124mtotal number of qubits = \u001b[39m\u001b[38;5;124m\"\u001b[39m,\u001b[43mqubitOp\u001b[49m\u001b[38;5;241;43m.\u001b[39;49m\u001b[43mnum_qubits\u001b[49m)\n\u001b[1;32m     12\u001b[0m \u001b[38;5;66;03m# ハミルトニアン行列を対角化して、エネルギーの最小固有値と固有ベクトルを求める\u001b[39;00m\n\u001b[1;32m     13\u001b[0m ee  \u001b[38;5;241m=\u001b[39m NumPyMinimumEigensolver(qubitOp)\n",
      "\u001b[0;31mAttributeError\u001b[0m: 'NoneType' object has no attribute 'num_qubits'"
     ]
    }
   ],
   "source": [
    "# ハミルトニアンオペレータを取得\n",
    "##################\n",
    "### EDIT BELOW ###\n",
    "##################\n",
    "qubitOp = get_qubitops(...)\n",
    "##################\n",
    "### EDIT ABOVE ###\n",
    "##################\n",
    "print(\"\")\n",
    "print(\"total number of qubits = \",qubitOp.num_qubits)\n",
    "\n",
    "# ハミルトニアン行列を対角化して、エネルギーの最小固有値と固有ベクトルを求める\n",
    "ee  = NumPyMinimumEigensolver(qubitOp)\n",
    "result = ee.run()\n",
    "\n",
    "# 最小エネルギーに対応する量子ビットの組み合わせを表示\n",
    "print('Eigensolver: objective =', result.eigenvalue.real)\n",
    "# sample_most_likely is deprecated and moved somewhere - under investigation\n",
    "#x = sample_most_likely(result.eigenstate)\n",
    "#print('Eigensolver: x =',x)\n",
    "\n",
    "#samples_eigen = {}\n",
    "#for i in range(nvar):\n",
    "#    samples_eigen[key_i[i]] = x[i]"
   ]
  },
  {
   "cell_type": "markdown",
   "id": "cf54bf0d",
   "metadata": {
    "pycharm": {
     "name": "#%% md\n"
    }
   },
   "source": [
    "xのリストで1になっている量子ビット（セグメント）が、最小エネルギーに対応するものとして選ばれているのが分かります。"
   ]
  },
  {
   "cell_type": "markdown",
   "id": "2a8df0a4",
   "metadata": {},
   "source": [
    "次に、同じハミルトニアンモデルをVQEに実装して、最小エネルギーを求めてみます。オプティマイザーとしてSPSAあるいはCOBYLAを使う場合のコードは以下のようになります。\n",
    "\n",
    "まず最初に、VQE用の量子回路を作ります。"
   ]
  },
  {
   "cell_type": "code",
   "execution_count": 5,
   "id": "1e04c779",
   "metadata": {
    "pycharm": {
     "name": "#%%\n"
    },
    "tags": [
     "raises-exception",
     "remove-output"
    ]
   },
   "outputs": [
    {
     "ename": "AttributeError",
     "evalue": "'NoneType' object has no attribute 'num_qubits'",
     "output_type": "error",
     "traceback": [
      "\u001b[0;31m---------------------------------------------------------------------------\u001b[0m",
      "\u001b[0;31mAttributeError\u001b[0m                            Traceback (most recent call last)",
      "Input \u001b[0;32mIn [5]\u001b[0m, in \u001b[0;36m<cell line: 5>\u001b[0;34m()\u001b[0m\n\u001b[1;32m      3\u001b[0m spsa \u001b[38;5;241m=\u001b[39m SPSA(maxiter\u001b[38;5;241m=\u001b[39m\u001b[38;5;241m300\u001b[39m)\n\u001b[1;32m      4\u001b[0m cobyla \u001b[38;5;241m=\u001b[39m COBYLA(maxiter\u001b[38;5;241m=\u001b[39m\u001b[38;5;241m500\u001b[39m)\n\u001b[0;32m----> 5\u001b[0m two \u001b[38;5;241m=\u001b[39m TwoLocal(\u001b[43mqubitOp\u001b[49m\u001b[38;5;241;43m.\u001b[39;49m\u001b[43mnum_qubits\u001b[49m, \u001b[38;5;124m'\u001b[39m\u001b[38;5;124mry\u001b[39m\u001b[38;5;124m'\u001b[39m, \u001b[38;5;124m'\u001b[39m\u001b[38;5;124mcz\u001b[39m\u001b[38;5;124m'\u001b[39m, \u001b[38;5;124m'\u001b[39m\u001b[38;5;124mlinear\u001b[39m\u001b[38;5;124m'\u001b[39m, reps\u001b[38;5;241m=\u001b[39m\u001b[38;5;241m1\u001b[39m)\n\u001b[1;32m      6\u001b[0m \u001b[38;5;28mprint\u001b[39m(two)\n",
      "\u001b[0;31mAttributeError\u001b[0m: 'NoneType' object has no attribute 'num_qubits'"
     ]
    }
   ],
   "source": [
    "# VQE用の回路を作る：ここではTwoLocalという組み込み関数を使う\n",
    "seed = 10598\n",
    "spsa = SPSA(maxiter=300)\n",
    "cobyla = COBYLA(maxiter=500)\n",
    "two = TwoLocal(qubitOp.num_qubits, 'ry', 'cz', 'linear', reps=1)\n",
    "print(two)"
   ]
  },
  {
   "cell_type": "markdown",
   "id": "8828f229",
   "metadata": {},
   "source": [
    "バックエンドしてqasm_simulatorを使い、実行した結果を書き出します。"
   ]
  },
  {
   "cell_type": "code",
   "execution_count": 6,
   "id": "e952e709",
   "metadata": {
    "pycharm": {
     "name": "#%%\n"
    },
    "tags": [
     "raises-exception",
     "remove-output"
    ]
   },
   "outputs": [
    {
     "ename": "NameError",
     "evalue": "name 'two' is not defined",
     "output_type": "error",
     "traceback": [
      "\u001b[0;31m---------------------------------------------------------------------------\u001b[0m",
      "\u001b[0;31mNameError\u001b[0m                                 Traceback (most recent call last)",
      "Input \u001b[0;32mIn [6]\u001b[0m, in \u001b[0;36m<cell line: 4>\u001b[0;34m()\u001b[0m\n\u001b[1;32m      2\u001b[0m backend \u001b[38;5;241m=\u001b[39m Aer\u001b[38;5;241m.\u001b[39mget_backend(\u001b[38;5;124m'\u001b[39m\u001b[38;5;124mqasm_simulator\u001b[39m\u001b[38;5;124m'\u001b[39m)\n\u001b[1;32m      3\u001b[0m quantum_instance \u001b[38;5;241m=\u001b[39m QuantumInstance(backend\u001b[38;5;241m=\u001b[39mbackend, shots\u001b[38;5;241m=\u001b[39m\u001b[38;5;241m1024\u001b[39m, seed_simulator\u001b[38;5;241m=\u001b[39mseed)\n\u001b[0;32m----> 4\u001b[0m vqe \u001b[38;5;241m=\u001b[39m VQE(qubitOp, \u001b[43mtwo\u001b[49m, spsa)\n\u001b[1;32m      5\u001b[0m \u001b[38;5;66;03m#vqe = VQE(qubitOp, two, cobyla)\u001b[39;00m\n\u001b[1;32m      6\u001b[0m result \u001b[38;5;241m=\u001b[39m vqe\u001b[38;5;241m.\u001b[39mrun(quantum_instance)\n",
      "\u001b[0;31mNameError\u001b[0m: name 'two' is not defined"
     ]
    }
   ],
   "source": [
    "# VQEの実行\n",
    "backend = Aer.get_backend('qasm_simulator')\n",
    "quantum_instance = QuantumInstance(backend=backend, shots=1024, seed_simulator=seed)\n",
    "vqe = VQE(qubitOp, two, spsa)\n",
    "#vqe = VQE(qubitOp, two, cobyla)\n",
    "result = vqe.run(quantum_instance)\n",
    "\n",
    "# 最小エネルギーに対応する量子ビットの組み合わせを表示\n",
    "print('')\n",
    "print('VQE: objective =', result.eigenvalue.real)\n",
    "x = sample_most_likely(result.eigenstate)\n",
    "print('VQE x =',x)\n",
    "\n",
    "samples_vqe = {}\n",
    "for i in range(nvar):\n",
    "    samples_vqe[key_i[i]] = x[i]"
   ]
  },
  {
   "cell_type": "markdown",
   "id": "8dedc7b6",
   "metadata": {
    "pycharm": {
     "name": "#%% md\n"
    }
   },
   "source": [
    "(omake)=\n",
    "### おまけ\n",
    "\n",
    "Trackingがうまく行っても、この答えだと0と1が並んでいるだけで面白くないですよね。正しく飛跡が見つかったかどうか目で確認するため、以下のコードを走らせてみましょう。\n",
    "\n",
    "このコードは、QUBOを定義する時に使った検出器のヒット位置をビーム軸に垂直な平面でプロットして、どのヒットが選ばれたかを分かりやすく可視化したものです。緑の線が実際に見つかった飛跡で、青の線を含めたものが全体の飛跡の候補です。この実習では限られた数の量子ビットしか使っていないため、大部分の飛跡は見つけられていませんが、緑の線から計算に使った3点ヒットからは正しく飛跡が見つかっていることが分かると思います。"
   ]
  },
  {
   "cell_type": "code",
   "execution_count": 7,
   "id": "c45d0833",
   "metadata": {
    "pycharm": {
     "name": "#%%\n"
    },
    "tags": [
     "raises-exception",
     "remove-output"
    ]
   },
   "outputs": [
    {
     "ename": "ModuleNotFoundError",
     "evalue": "No module named 'hepqpr'",
     "output_type": "error",
     "traceback": [
      "\u001b[0;31m---------------------------------------------------------------------------\u001b[0m",
      "\u001b[0;31mModuleNotFoundError\u001b[0m                       Traceback (most recent call last)",
      "Input \u001b[0;32mIn [7]\u001b[0m, in \u001b[0;36m<cell line: 1>\u001b[0;34m()\u001b[0m\n\u001b[0;32m----> 1\u001b[0m \u001b[38;5;28;01mfrom\u001b[39;00m \u001b[38;5;21;01mhepqpr\u001b[39;00m\u001b[38;5;21;01m.\u001b[39;00m\u001b[38;5;21;01mqallse\u001b[39;00m \u001b[38;5;28;01mimport\u001b[39;00m \u001b[38;5;241m*\u001b[39m\n\u001b[1;32m      2\u001b[0m input_path \u001b[38;5;241m=\u001b[39m \u001b[38;5;124m'\u001b[39m\u001b[38;5;124m./data/event000001000-hits.csv\u001b[39m\u001b[38;5;124m'\u001b[39m\n\u001b[1;32m      3\u001b[0m dw \u001b[38;5;241m=\u001b[39m DataWrapper\u001b[38;5;241m.\u001b[39mfrom_path(input_path)\n",
      "\u001b[0;31mModuleNotFoundError\u001b[0m: No module named 'hepqpr'"
     ]
    }
   ],
   "source": [
    "from hepqpr.qallse import *\n",
    "input_path = './data/event000001000-hits.csv'\n",
    "dw = DataWrapper.from_path(input_path)\n",
    "\n",
    "# get the results\n",
    "#all_doublets = Qallse.process_sample(samples_eigen)\n",
    "all_doublets = Qallse.process_sample(samples_vqe)\n",
    "\n",
    "final_tracks, final_doublets = TrackRecreaterD().process_results(all_doublets)\n",
    "#print(\"all_doublets =\",all_doublets)\n",
    "#print(\"final_tracks =\",final_tracks)\n",
    "#print(\"final_doublets =\",final_doublets)\n",
    "\n",
    "p, r, ms = dw.compute_score(final_doublets)\n",
    "trackml_score = dw.compute_trackml_score(final_tracks)\n",
    "\n",
    "print(f'SCORE  -- precision (%): {p * 100}, recall (%): {r * 100}, missing: {len(ms)}')\n",
    "print(f'          tracks found: {len(final_tracks)}, trackml score (%): {trackml_score * 100}')\n",
    "\n",
    "from hepqpr.qallse.plotting import iplot_results, iplot_results_tracks\n",
    "dims = ['x', 'y']\n",
    "_, missings, _ = diff_rows(final_doublets, dw.get_real_doublets())\n",
    "dout = 'plot-ising_found_tracks.html'\n",
    "iplot_results(dw, final_doublets, missings, dims=dims, filename=dout)"
   ]
  },
  {
   "cell_type": "markdown",
   "id": "b17c73a5",
   "metadata": {},
   "source": [
    "**提出するもの**\n",
    "- ハミルトニアンを実装する部分のコード"
   ]
  }
 ],
 "metadata": {
  "jupytext": {
   "notebook_metadata_filter": "all",
   "text_representation": {
    "extension": ".md",
    "format_name": "myst",
    "format_version": 0.13,
    "jupytext_version": "1.11.5"
   }
  },
  "kernelspec": {
   "display_name": "Python 3 (ipykernel)",
   "language": "python",
   "name": "python3"
  },
  "language_info": {
   "codemirror_mode": {
    "name": "ipython",
    "version": 3
   },
   "file_extension": ".py",
   "mimetype": "text/x-python",
   "name": "python",
   "nbconvert_exporter": "python",
   "pygments_lexer": "ipython3",
   "version": "3.8.10"
  },
  "source_map": [
   23,
   27,
   37,
   44,
   74,
   81,
   85,
   104,
   111,
   118,
   140,
   149,
   189,
   215,
   241,
   247,
   254,
   288,
   292,
   298,
   312,
   316,
   342,
   351,
   383
  ]
 },
 "nbformat": 4,
 "nbformat_minor": 5
}