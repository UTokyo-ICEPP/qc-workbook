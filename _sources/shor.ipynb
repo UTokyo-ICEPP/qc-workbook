{
 "cells": [
  {
   "cell_type": "markdown",
   "id": "9b1f8424",
   "metadata": {
    "pycharm": {
     "name": "#%% md\n"
    }
   },
   "source": [
    "# 素因数分解アルゴリズムを学習する"
   ]
  },
  {
   "cell_type": "markdown",
   "id": "e2cc89e8",
   "metadata": {},
   "source": [
    "この実習では**ショアのアルゴリズム**を学習します。名前を聞いたことがある人もいるかもしれませんが、ショアのアルゴリズム{cite}`shor,nielsen_chuang_qft_app`は最も有名な量子アルゴリズムと言っても良いでしょう。ショアのアルゴリズムの元になっている**量子位相推定**と呼ばれる手法を学んだ後、ショアのアルゴリズムの各ステップを実例とともに紹介します。最後に、Qiskitを使用してショアのアルゴリズムを実装し、実際に素因数分解を行ってみます。\n",
    "\n",
    "```{contents} 目次\n",
    "---\n",
    "local: true\n",
    "---\n",
    "```\n",
    "\n",
    "$\\newcommand{\\ket}[1]{|#1\\rangle}$\n",
    "$\\newcommand{\\modequiv}[3]{#1 \\equiv #2 \\pmod{#3}}$\n",
    "$\\newcommand{\\modnequiv}[3]{#1 \\not\\equiv #2 \\pmod{#3}}$\n",
    "\n",
    "(shor_introduction)=\n",
    "## はじめに\n",
    "\n",
    "古典計算をはるかに上回る能力を持つ量子計算の一つの例として、最も広く知られているのがショアの量子計算アルゴリズムでしょう。このアルゴリズムが考える問題は、大きな正の数を二つの素数の積に分解するというもので、問題自体はシンプルです。しかし、古典計算では素因数分解の有効なアルゴリズムが知られておらず、数が大きくなると**指数関数的に計算量が増える**と予想されています。\n",
    "ショアのアルゴリズムを用いれば、同じ問題を**多項式時間で解くことができる**と考えられています（一般的に、問題のサイズに対して多項式で増える計算時間で解くことができれば、それは有効なアルゴリズムだと見なされます）。\n",
    "\n",
    "古典計算での素因数分解の難しさは、現在広く使われている鍵暗号技術の元になっています。なので、指数関数的に高速なショアのアルゴリズムが量子コンピュータで実現されれば、秘密の情報が暴かれる可能性があります。ショアのアルゴリズムが大きく注目される理由はそこにあります。"
   ]
  },
  {
   "cell_type": "markdown",
   "id": "f3fb48a3",
   "metadata": {},
   "source": [
    "(qpe)=\n",
    "## 量子位相推定\n",
    "\n",
    "まず、ショアのアルゴリズムの元になっている「**量子位相推定」**（*Quantum Phase Estimation*, QPE）と呼ばれる手法について学びましょう。ショアのアルゴリズムを理解していけば、ショアのアルゴリズムの核心部分は、実はほぼQPEそのものであることが見えてくると思います。QPEの理解には「**量子フーリエ変換**」（*Quantum Fourier Transform*, QFT）の理解が欠かせませんが、QFTについては、この[実習](circuit_from_scratch.ipynb)の問題7、もしくは参考文献[1]を参照してください。\n",
    "\n",
    "QPEはとても大事な計算手法で、ショアのアルゴリズムだけでなく、いろいろな量子アルゴリズムのサブルーチンとしても使われています。\n",
    "%（モンテカルロサンプラーの[実習](mc_sampler.ipynb)でも出てきます）。\n",
    "\n",
    "QPEが考える問題は、「あるユニタリー演算$U$に対して$U\\ket{\\psi}=e^{2\\pi i\\theta}\\ket{\\psi}$となる固有ベクトル$\\ket{\\psi}$が与えられるとして、その固有値$e^{2\\pi i\\theta}$の位相$\\theta$を求めることができるか？」という問題です。"
   ]
  },
  {
   "cell_type": "markdown",
   "id": "25fed250",
   "metadata": {},
   "source": [
    "(qpe_1qubit)=\n",
    "### 1量子ビットの位相推定\n",
    "まず、下図にあるような量子回路を考えてみましょう。上側の量子ビットは$\\ket{0}$、下側の量子ビットには$U$の固有ベクトル$\\ket{\\psi}$が初期状態として与えられているとします。\n",
    "\n",
    "```{image} figs/qpe_1qubit.png\n",
    ":alt: qpe_1qubit\n",
    ":width: 300px\n",
    ":align: center\n",
    "```\n",
    "\n",
    "この場合、量子回路の1-3の各ステップでの量子状態は、以下のように表現できます。\n",
    "\n",
    "- ステップ 1 : $\\frac{1}{\\sqrt{2}}(\\ket{0}\\ket{\\psi}+\\ket{1}\\ket{\\psi})$\n",
    "- ステップ 2 : $\\frac{1}{\\sqrt{2}}(\\ket{0}\\ket{\\psi}+\\ket{1} e^{2\\pi i\\theta}\\ket{\\psi})$\n",
    "- ステップ 3 : $\\frac{1}{2}\\left[(1+e^{2\\pi i\\theta})\\ket{0}+(1-e^{2\\pi i\\theta})\\ket{1}\\right]\\ket{\\psi}$\n",
    "\n",
    "この状態で上側の量子ビットを測定すると、$|(1+e^{2\\pi i\\theta})/2|^2$の確率で0、$|(1-e^{2\\pi i\\theta})/2|^2$の確率で1を測定するでしょう。つまり、この確率の値から位相$\\theta$を求めることができるわけです。\n",
    "しかし、$\\theta$の値が小さい場合（$\\theta\\ll1$）、ほぼ100%の確率で0を測定し、ほぼ0％の確率で1を測定することになるため、100%あるいは0%からのずれを精度良く決めるためには測定を何度も繰り返す必要が出てきます。これではあまり優位性を感じませんね。。\n",
    "\n",
    "```{hint}\n",
    "この制御$U$ゲートの部分がショアのアルゴリズムの「オラクル」に対応しています。その後ろには逆量子フーリエ変換が来ますが、1量子ビットの場合は$H$ゲート（$H=H^\\dagger$）です。つまり、1量子ビットの量子フーリエ変換は$H$ゲートそのものということですね。\n",
    "```\n",
    "\n",
    "本題に戻って、では少ない測定回数でも精度良く位相を決める方法は、何か考えられるでしょうか。。"
   ]
  },
  {
   "cell_type": "markdown",
   "id": "7e0ae31e",
   "metadata": {
    "pycharm": {
     "name": "#%% md\n"
    }
   },
   "source": [
    "(qpe_nqubit)=\n",
    "### $n$量子ビットの位相推定\n",
    "そこで、上側のレジスタを$n$量子ビットに拡張した量子回路（下図）を考えてみましょう。\n",
    "\n",
    "```{image} figs/qpe_wo_iqft.png\n",
    ":alt: qpe_wo_iqft\n",
    ":width: 500px\n",
    ":align: center\n",
    "```\n",
    "\n",
    "それに応じて、下側のレジスタにも$U$を繰り返し適用することになりますが、鍵になるのは$U$を2の羃乗回適用するところです。それがどういう意味を持つのかを理解するために、準備として$U^{2^x}\\ket{\\psi}$が以下のように書けることを見ておきます（まあ当然と言えば当然ですが）。\n",
    "\n",
    "$$\n",
    "\\begin{aligned}\n",
    "U^{2^x}\\ket{\\psi}&=U^{2^x-1}U\\ket{\\psi}\\\\\n",
    "&=U^{2^x-1}e^{2\\pi i\\theta}\\ket{\\psi}\\\\\n",
    "&=U^{2^x-2}e^{2\\pi i\\theta2}\\ket{\\psi}\\\\\n",
    "&=\\cdots\\\\\n",
    "&=e^{2\\pi i\\theta2^x}\\ket{\\psi}\n",
    "\\end{aligned}\n",
    "$$\n",
    "\n",
    "この量子回路に対して、同様に1, 2, ... $n+1$の各ステップでの量子状態を追跡していくと、以下のようになることが分かります。\n",
    "\n",
    "- ステップ 1 : $\\frac{1}{\\sqrt{2^n}}(\\ket{0}+\\ket{1})^{\\otimes n}\\ket{\\psi}$\n",
    "- ステップ 2 : $\\frac{1}{\\sqrt{2^n}}(\\ket{0}+e^{2\\pi i\\theta2^{n-1}}\\ket{1})(\\ket{0}+\\ket{1})^{\\otimes n-1}\\ket{\\psi}$\n",
    "- $\\cdots$\n",
    "- ステップ $n+1$ : $\\frac{1}{\\sqrt{2^n}}(\\ket{0}+e^{2\\pi i\\theta2^{n-1}}\\ket{1})(\\ket{0}+e^{2\\pi i\\theta2^{n-2}}\\ket{1})\\cdots(\\ket{0}+e^{2\\pi i\\theta2^0}\\ket{1})\\ket{\\psi}$\n",
    "\n",
    "ステップ $n+1$後の$n$ビットレジスタの状態をよく見ると、この状態はQFTで$j$を$2^n\\theta$としたものと同等であることが分かります。つまり、この$n$ビットレジスタに逆フーリエ変換$\\rm{QFT}^\\dagger$を適用すれば、状態$\\ket{2^n\\theta}$が得られるわけです！この状態を測定すれば、$2^n\\theta$つまり固有値の位相$\\theta$（を$2^n$倍したもの）を求めることができるというのがQPEです（下図）。\n",
    "\n",
    "(qpe_nqubit_fig)=\n",
    "```{image} figs/qpe.png\n",
    ":alt: qpe\n",
    ":width: 700px\n",
    ":align: center\n",
    "```\n",
    "\n",
    "ただし、一般に$2^n \\theta$が整数であるとは限りません。非整数値に対する逆フーリエ変換については、{ref}`補足ページ <nonintegral_fourier>`を参照してください。"
   ]
  },
  {
   "cell_type": "markdown",
   "id": "5e76b4bf",
   "metadata": {
    "pycharm": {
     "name": "#%% md\n"
    }
   },
   "source": [
    "(qpe_imp)=\n",
    "## QPEの簡単な例を実装する\n",
    "\n",
    "では実際に、簡単な回路を使って量子位相推定を実装してみましょう。\n",
    "\n",
    "まず、あるユニタリー演算$U$に対して$U\\ket{\\psi}=e^{2\\pi i\\theta}\\ket{\\psi}$となる固有ベクトル$\\ket{\\psi}$が必要ですが、ここでは$U$として1量子ビットの$S$ゲート（位相$\\sqrt{Z}$ゲート）を考えてみます。$\\ket{1}=\\begin{pmatrix}0\\\\1\\end{pmatrix}$として、$S\\ket{1}=e^{i\\pi/2}\\ket{1}$となるので$\\ket{1}$は$S$の固有ベクトル、$e^{i\\pi/2}$がその固有値です。QPEは固有値$e^{2\\pi i\\theta}$の位相$\\theta$を求めるので、$S$の場合は$\\theta=1/4$を求めることに相当します。これを回路を使って実際に確かめてみます。"
   ]
  },
  {
   "cell_type": "code",
   "execution_count": 1,
   "id": "9199f967",
   "metadata": {
    "pycharm": {
     "name": "#%%\n"
    }
   },
   "outputs": [],
   "source": [
    "# Tested with python 3.8.12, qiskit 0.34.2, numpy 1.22.2\n",
    "from fractions import Fraction\n",
    "import matplotlib.pyplot as plt\n",
    "import numpy as np\n",
    "\n",
    "from qiskit import IBMQ, QuantumRegister, ClassicalRegister, QuantumCircuit, Aer, transpile\n",
    "from qiskit.providers.ibmq import least_busy, IBMQAccountCredentialsNotFound\n",
    "from qiskit.tools.monitor import job_monitor\n",
    "from qiskit.visualization import plot_histogram\n",
    "\n",
    "# ワークブック独自のモジュール\n",
    "from qc_workbook.utils import operational_backend"
   ]
  },
  {
   "cell_type": "markdown",
   "id": "1f8e6766",
   "metadata": {
    "pycharm": {
     "name": "#%% md\n"
    }
   },
   "source": [
    "固有ベクトル$\\ket{1}$を保持する1量子ビットレジスタと、位相推定用のレジスタ（3量子ビット）を持つ回路を作ります。$\\ket{1}$は$\\ket{0}$にパウリ$X$を掛けて作り、位相推定用の制御$S$ゲートを$2^x$回適用します。"
   ]
  },
  {
   "cell_type": "code",
   "execution_count": 2,
   "id": "8587cc6d",
   "metadata": {
    "pycharm": {
     "name": "#%%\n"
    }
   },
   "outputs": [],
   "source": [
    "n_meas = 3\n",
    "\n",
    "# 位相測定用のレジスタ\n",
    "qreg_meas = QuantumRegister(n_meas, name='meas')\n",
    "# 固有ベクトルを保持するレジスタ\n",
    "qreg_aux = QuantumRegister(1, name='aux')\n",
    "# 位相測定の結果が書き出される古典レジスタ\n",
    "creg_meas = ClassicalRegister(n_meas, name='out')\n",
    "\n",
    "# 2つの量子レジスタと1つの古典レジスタから量子回路を作る\n",
    "qc = QuantumCircuit(qreg_meas, qreg_aux, creg_meas)\n",
    "\n",
    "# それぞれのレジスタを初期化\n",
    "qc.h(qreg_meas)\n",
    "qc.x(qreg_aux)\n",
    "\n",
    "# angle/(2π)がQPEで求めたい位相\n",
    "angle = np.pi / 2\n",
    "\n",
    "# S = P(π/2)なので、(Controlled-S)^x を CP(xπ/2) で代替\n",
    "for x, ctrl in enumerate(qreg_meas):\n",
    "    qc.cp(angle * (2 ** x), ctrl, qreg_aux[0])"
   ]
  },
  {
   "cell_type": "markdown",
   "id": "31596926",
   "metadata": {
    "pycharm": {
     "name": "#%% md\n"
    }
   },
   "source": [
    "位相推定用のレジスタに逆量子フーリエ変換を適用して、量子ビットを測定します。\n",
    "\n",
    "この{ref}`実習 <fourier_addition>`を参考にして、QFTの**逆回路**`qft_dagger(qreg)`を書いてみてください。引数の`qreg`は測定用レジスタオブジェクトです。"
   ]
  },
  {
   "cell_type": "code",
   "execution_count": 3,
   "id": "63a69be3",
   "metadata": {
    "pycharm": {
     "name": "#%%\n"
    }
   },
   "outputs": [
    {
     "data": {
      "image/png": "[encoded data removed]",
      "text/plain": [
       "<Figure size 912.75x325.08 with 1 Axes>"
      ]
     },
     "execution_count": 3,
     "metadata": {
      "filenames": {
       "image/png": "/qc-workbook/build/ja/_build/jupyter_execute/shor_10_0.png"
      }
     },
     "output_type": "execute_result"
    }
   ],
   "source": [
    "def qft_dagger(qreg):\n",
    "    \"\"\"逆量子フーリエ変換用の回路\"\"\"\n",
    "    qc = QuantumCircuit(qreg)\n",
    "\n",
    "    ##################\n",
    "    ### EDIT BELOW ###\n",
    "    ##################\n",
    "\n",
    "    #qc.?\n",
    "\n",
    "    ##################\n",
    "    ### EDIT ABOVE ###\n",
    "    ##################\n",
    "\n",
    "    qc.name = \"QFT^dagger\"\n",
    "\n",
    "    return qc\n",
    "\n",
    "qc.barrier()\n",
    "qc.append(qft_dagger(qreg_meas), qargs=qreg_meas)\n",
    "qc.barrier()\n",
    "qc.measure(qreg_meas, creg_meas)\n",
    "qc.draw('mpl')"
   ]
  },
  {
   "cell_type": "markdown",
   "id": "3a260659",
   "metadata": {},
   "source": [
    "**解答**\n",
    "\n",
    "````{toggle}\n",
    "\n",
    "{ref}`fourier_addition`の`setup_addition`関数中のInverse QFTと書かれている部分を利用します。\n",
    "\n",
    "```{code-block} python\n",
    "def qft_dagger(qreg):\n",
    "    \"\"\"逆量子フーリエ変換用の回路\"\"\"\n",
    "    qc = QuantumCircuit(qreg)\n",
    "\n",
    "    ##################\n",
    "    ### EDIT BELOW ###\n",
    "    ##################\n",
    "\n",
    "    for j in range(qreg.size // 2):\n",
    "        qc.swap(qreg[j], qreg[-1 - j])\n",
    "\n",
    "    for itarg in range(qreg.size):\n",
    "        for ictrl in range(itarg):\n",
    "            power = ictrl - itarg - 1\n",
    "            qc.cp(-2. * np.pi * (2 ** power), ictrl, itarg)\n",
    "\n",
    "        qc.h(itarg)\n",
    "\n",
    "    ##################\n",
    "    ### EDIT ABOVE ###\n",
    "    ##################\n",
    "\n",
    "    qc.name = \"QFT^dagger\"\n",
    "    return qc\n",
    "```\n",
    "\n",
    "````"
   ]
  },
  {
   "cell_type": "code",
   "execution_count": 4,
   "id": "32679337",
   "metadata": {
    "tags": [
     "remove-input",
     "remove-output"
    ]
   },
   "outputs": [
    {
     "data": {
      "text/plain": [
       "<qiskit.circuit.instructionset.InstructionSet at 0x7fd95892f300>"
      ]
     },
     "execution_count": 4,
     "metadata": {},
     "output_type": "execute_result"
    }
   ],
   "source": [
    "## テキスト作成用のセル\n",
    "\n",
    "def qft_dagger(qreg):\n",
    "    qc = QuantumCircuit(qreg)\n",
    "\n",
    "    for j in range(qreg.size // 2):\n",
    "        qc.swap(qreg[j], qreg[-1 - j])\n",
    "\n",
    "    for itarg in range(qreg.size):\n",
    "        for ictrl in range(itarg):\n",
    "            power = ictrl - itarg - 1\n",
    "            qc.cp(-2. * np.pi * (2 ** power), ictrl, itarg)\n",
    "\n",
    "        qc.h(itarg)\n",
    "\n",
    "    qc.name = \"IQFT\"\n",
    "    return qc\n",
    "\n",
    "qreg_meas = QuantumRegister(n_meas, name='meas')\n",
    "qreg_aux = QuantumRegister(1, name='aux')\n",
    "creg_meas = ClassicalRegister(n_meas, name='out')\n",
    "\n",
    "qc = QuantumCircuit(qreg_meas, qreg_aux, creg_meas)\n",
    "\n",
    "qc.h(qreg_meas)\n",
    "qc.x(qreg_aux)\n",
    "\n",
    "angle = np.pi / 2\n",
    "\n",
    "for x, ctrl in enumerate(qreg_meas):\n",
    "    qc.cp(angle * (2 ** x), ctrl, qreg_aux[0])\n",
    "\n",
    "qc.append(qft_dagger(qreg_meas), qargs=qreg_meas)\n",
    "qc.measure(qreg_meas, creg_meas)"
   ]
  },
  {
   "cell_type": "markdown",
   "id": "cdfc8e53",
   "metadata": {
    "pycharm": {
     "name": "#%% md\n"
    }
   },
   "source": [
    "(qpe_imp_simulator)=\n",
    "### シミュレータでの実験\n",
    "\n",
    "シミュレータで実行して、測定結果の確率分布を作ってみます。"
   ]
  },
  {
   "cell_type": "code",
   "execution_count": 5,
   "id": "b9952db5",
   "metadata": {
    "pycharm": {
     "name": "#%%\n"
    },
    "tags": []
   },
   "outputs": [
    {
     "data": {
      "image/png": "[encoded data removed]",
      "text/plain": [
       "<Figure size 432x288 with 1 Axes>"
      ]
     },
     "metadata": {
      "filenames": {
       "image/png": "/qc-workbook/build/ja/_build/jupyter_execute/shor_14_0.png"
      },
      "needs_background": "light"
     },
     "output_type": "display_data"
    }
   ],
   "source": [
    "simulator = Aer.get_backend('aer_simulator')\n",
    "shots = 2048\n",
    "qc_tr = transpile(qc, backend=simulator)\n",
    "results = simulator.run(qc_tr, shots=shots).result()\n",
    "answer = results.get_counts()\n",
    "\n",
    "def show_distribution(answer):\n",
    "    n = len(answer)\n",
    "    x = [int(key, 2) for key in list(answer.keys())]\n",
    "    y = list(answer.values())\n",
    "\n",
    "    fig, ax = plt.subplots()\n",
    "    rect = ax.bar(x,y)\n",
    "\n",
    "    def autolabel(rects):\n",
    "        for rect in rects:\n",
    "            height = rect.get_height()\n",
    "            ax.annotate(f'{height/sum(y):.3f}',\n",
    "                        xy=(rect.get_x() + rect.get_width() / 2, height),\n",
    "                        xytext=(0, 0),\n",
    "                        textcoords=\"offset points\", ha='center', va='bottom')\n",
    "    autolabel(rect)\n",
    "    plt.ylabel('Probabilities')\n",
    "    plt.show()\n",
    "\n",
    "show_distribution(answer)"
   ]
  },
  {
   "cell_type": "markdown",
   "id": "a668386d",
   "metadata": {
    "pycharm": {
     "name": "#%% md\n"
    }
   },
   "source": [
    "答えは10進数で2になっていますね。ここで測定した答えは$\\ket{2^n\\theta}$だったことを思い出すと、$\\theta=2/2^3=1/4$となって正しい$\\theta$が得られたことが分かります。\n",
    "\n",
    "ここで見た量子回路はシンプルですが、いろいろ拡張して振る舞いを理解するのに役立ちます。例えば、以下の問題を調べてみてください。\n",
    "- （グローバル因子を除いて）$S=P(\\pi/2)$ゲートの例を見ましたが、角度を$0<\\phi<\\pi$の範囲で変えた$P(\\phi)$ゲートではどうなるでしょうか？\n",
    "- 角度の選び方によっては、得られる位相の精度が悪くなります。その場合、どうすればより良い精度で測定できるでしょうか？\n",
    "- $S$ゲートの場合固有ベクトルは$\\ket{1}$でしたが、$\\ket{1}$以外の状態を使うとどうなりますか？特に固有ベクトルと線形従属なベクトルを使った場合の振る舞いを見てみてください。"
   ]
  },
  {
   "cell_type": "markdown",
   "id": "03e3d310",
   "metadata": {
    "pycharm": {
     "name": "#%% md\n"
    }
   },
   "source": [
    "(qpe_imp_real)=\n",
    "### 量子コンピュータでの実験\n",
    "\n",
    "最後に量子コンピュータで実行して、結果を確認してみましょう、以下のようにすることで、現時点でbusyでないマシンを優先的に選んで実行してくれます。"
   ]
  },
  {
   "cell_type": "code",
   "execution_count": 6,
   "id": "9c3a33ad",
   "metadata": {
    "pycharm": {
     "name": "#%%\n"
    },
    "tags": [
     "raises-exception",
     "remove-output"
    ]
   },
   "outputs": [
    {
     "ename": "RequestsApiError",
     "evalue": "'401 Client Error: Unauthorized for url: https://auth.quantum-computing.ibm.com/api/users/loginWithToken. Login failed., Error code: 3446.'",
     "output_type": "error",
     "traceback": [
      "\u001b[0;31m---------------------------------------------------------------------------\u001b[0m",
      "\u001b[0;31mIBMQAccountCredentialsNotFound\u001b[0m            Traceback (most recent call last)",
      "Input \u001b[0;32mIn [6]\u001b[0m, in \u001b[0;36m<cell line: 2>\u001b[0;34m()\u001b[0m\n\u001b[1;32m      2\u001b[0m \u001b[38;5;28;01mtry\u001b[39;00m:\n\u001b[0;32m----> 3\u001b[0m     \u001b[43mIBMQ\u001b[49m\u001b[38;5;241;43m.\u001b[39;49m\u001b[43mload_account\u001b[49m\u001b[43m(\u001b[49m\u001b[43m)\u001b[49m\n\u001b[1;32m      4\u001b[0m \u001b[38;5;28;01mexcept\u001b[39;00m IBMQAccountCredentialsNotFound:\n",
      "File \u001b[0;32m/usr/local/lib/python3.8/dist-packages/qiskit/providers/ibmq/ibmqfactory.py:167\u001b[0m, in \u001b[0;36mIBMQFactory.load_account\u001b[0;34m(self)\u001b[0m\n\u001b[1;32m    166\u001b[0m \u001b[38;5;28;01mif\u001b[39;00m \u001b[38;5;129;01mnot\u001b[39;00m credentials_list:\n\u001b[0;32m--> 167\u001b[0m     \u001b[38;5;28;01mraise\u001b[39;00m IBMQAccountCredentialsNotFound(\n\u001b[1;32m    168\u001b[0m         \u001b[38;5;124m'\u001b[39m\u001b[38;5;124mNo IBM Quantum Experience credentials found.\u001b[39m\u001b[38;5;124m'\u001b[39m)\n\u001b[1;32m    170\u001b[0m \u001b[38;5;28;01mif\u001b[39;00m \u001b[38;5;28mlen\u001b[39m(credentials_list) \u001b[38;5;241m>\u001b[39m \u001b[38;5;241m1\u001b[39m:\n",
      "\u001b[0;31mIBMQAccountCredentialsNotFound\u001b[0m: 'No IBM Quantum Experience credentials found.'",
      "\nDuring handling of the above exception, another exception occurred:\n",
      "\u001b[0;31mHTTPError\u001b[0m                                 Traceback (most recent call last)",
      "File \u001b[0;32m/usr/local/lib/python3.8/dist-packages/qiskit/providers/ibmq/api/session.py:278\u001b[0m, in \u001b[0;36mRetrySession.request\u001b[0;34m(self, method, url, bare, **kwargs)\u001b[0m\n\u001b[1;32m    277\u001b[0m     response \u001b[38;5;241m=\u001b[39m \u001b[38;5;28msuper\u001b[39m()\u001b[38;5;241m.\u001b[39mrequest(method, final_url, headers\u001b[38;5;241m=\u001b[39mheaders, \u001b[38;5;241m*\u001b[39m\u001b[38;5;241m*\u001b[39mkwargs)\n\u001b[0;32m--> 278\u001b[0m     \u001b[43mresponse\u001b[49m\u001b[38;5;241;43m.\u001b[39;49m\u001b[43mraise_for_status\u001b[49m\u001b[43m(\u001b[49m\u001b[43m)\u001b[49m\n\u001b[1;32m    279\u001b[0m \u001b[38;5;28;01mexcept\u001b[39;00m RequestException \u001b[38;5;28;01mas\u001b[39;00m ex:\n\u001b[1;32m    280\u001b[0m     \u001b[38;5;66;03m# Wrap the requests exceptions into a IBM Q custom one, for\u001b[39;00m\n\u001b[1;32m    281\u001b[0m     \u001b[38;5;66;03m# compatibility.\u001b[39;00m\n",
      "File \u001b[0;32m/usr/local/lib/python3.8/dist-packages/requests/models.py:960\u001b[0m, in \u001b[0;36mResponse.raise_for_status\u001b[0;34m(self)\u001b[0m\n\u001b[1;32m    959\u001b[0m \u001b[38;5;28;01mif\u001b[39;00m http_error_msg:\n\u001b[0;32m--> 960\u001b[0m     \u001b[38;5;28;01mraise\u001b[39;00m HTTPError(http_error_msg, response\u001b[38;5;241m=\u001b[39m\u001b[38;5;28mself\u001b[39m)\n",
      "\u001b[0;31mHTTPError\u001b[0m: 401 Client Error: Unauthorized for url: https://auth.quantum-computing.ibm.com/api/users/loginWithToken",
      "\nThe above exception was the direct cause of the following exception:\n",
      "\u001b[0;31mRequestsApiError\u001b[0m                          Traceback (most recent call last)",
      "Input \u001b[0;32mIn [6]\u001b[0m, in \u001b[0;36m<cell line: 2>\u001b[0;34m()\u001b[0m\n\u001b[1;32m      3\u001b[0m     IBMQ\u001b[38;5;241m.\u001b[39mload_account()\n\u001b[1;32m      4\u001b[0m \u001b[38;5;28;01mexcept\u001b[39;00m IBMQAccountCredentialsNotFound:\n\u001b[0;32m----> 5\u001b[0m     \u001b[43mIBMQ\u001b[49m\u001b[38;5;241;43m.\u001b[39;49m\u001b[43menable_account\u001b[49m\u001b[43m(\u001b[49m\u001b[38;5;124;43m'\u001b[39;49m\u001b[38;5;124;43m__paste_your_token_here__\u001b[39;49m\u001b[38;5;124;43m'\u001b[39;49m\u001b[43m)\u001b[49m\n\u001b[1;32m      7\u001b[0m provider \u001b[38;5;241m=\u001b[39m IBMQ\u001b[38;5;241m.\u001b[39mget_provider(hub\u001b[38;5;241m=\u001b[39m\u001b[38;5;124m'\u001b[39m\u001b[38;5;124mibm-q\u001b[39m\u001b[38;5;124m'\u001b[39m, group\u001b[38;5;241m=\u001b[39m\u001b[38;5;124m'\u001b[39m\u001b[38;5;124mopen\u001b[39m\u001b[38;5;124m'\u001b[39m, project\u001b[38;5;241m=\u001b[39m\u001b[38;5;124m'\u001b[39m\u001b[38;5;124mmain\u001b[39m\u001b[38;5;124m'\u001b[39m)\n\u001b[1;32m      9\u001b[0m backend_list \u001b[38;5;241m=\u001b[39m provider\u001b[38;5;241m.\u001b[39mbackends(filters\u001b[38;5;241m=\u001b[39moperational_backend(min_qubits\u001b[38;5;241m=\u001b[39m\u001b[38;5;241m4\u001b[39m))\n",
      "File \u001b[0;32m/usr/local/lib/python3.8/dist-packages/qiskit/providers/ibmq/ibmqfactory.py:107\u001b[0m, in \u001b[0;36mIBMQFactory.enable_account\u001b[0;34m(self, token, url, hub, group, project, **kwargs)\u001b[0m\n\u001b[1;32m    102\u001b[0m     \u001b[38;5;28;01mraise\u001b[39;00m IBMQAccountCredentialsInvalidUrl(\n\u001b[1;32m    103\u001b[0m         \u001b[38;5;124m'\u001b[39m\u001b[38;5;124mThe URL specified (\u001b[39m\u001b[38;5;132;01m{}\u001b[39;00m\u001b[38;5;124m) is not an IBM Quantum Experience authentication \u001b[39m\u001b[38;5;124m'\u001b[39m\n\u001b[1;32m    104\u001b[0m         \u001b[38;5;124m'\u001b[39m\u001b[38;5;124mURL. Valid authentication URL: \u001b[39m\u001b[38;5;132;01m{}\u001b[39;00m\u001b[38;5;124m.\u001b[39m\u001b[38;5;124m'\u001b[39m\u001b[38;5;241m.\u001b[39mformat(credentials\u001b[38;5;241m.\u001b[39murl, QX_AUTH_URL))\n\u001b[1;32m    106\u001b[0m \u001b[38;5;66;03m# Initialize the providers.\u001b[39;00m\n\u001b[0;32m--> 107\u001b[0m \u001b[38;5;28;43mself\u001b[39;49m\u001b[38;5;241;43m.\u001b[39;49m\u001b[43m_initialize_providers\u001b[49m\u001b[43m(\u001b[49m\u001b[43mcredentials\u001b[49m\u001b[43m)\u001b[49m\n\u001b[1;32m    109\u001b[0m \u001b[38;5;66;03m# Prevent edge case where no hubs are available.\u001b[39;00m\n\u001b[1;32m    110\u001b[0m providers \u001b[38;5;241m=\u001b[39m \u001b[38;5;28mself\u001b[39m\u001b[38;5;241m.\u001b[39mproviders()\n",
      "File \u001b[0;32m/usr/local/lib/python3.8/dist-packages/qiskit/providers/ibmq/ibmqfactory.py:456\u001b[0m, in \u001b[0;36mIBMQFactory._initialize_providers\u001b[0;34m(self, credentials, preferences)\u001b[0m\n\u001b[1;32m    446\u001b[0m \u001b[38;5;28;01mdef\u001b[39;00m \u001b[38;5;21m_initialize_providers\u001b[39m(\n\u001b[1;32m    447\u001b[0m         \u001b[38;5;28mself\u001b[39m, credentials: Credentials,\n\u001b[1;32m    448\u001b[0m         preferences: Optional[Dict] \u001b[38;5;241m=\u001b[39m \u001b[38;5;28;01mNone\u001b[39;00m\n\u001b[1;32m    449\u001b[0m ) \u001b[38;5;241m-\u001b[39m\u001b[38;5;241m>\u001b[39m \u001b[38;5;28;01mNone\u001b[39;00m:\n\u001b[1;32m    450\u001b[0m     \u001b[38;5;124;03m\"\"\"Authenticate against IBM Quantum and populate the providers.\u001b[39;00m\n\u001b[1;32m    451\u001b[0m \n\u001b[1;32m    452\u001b[0m \u001b[38;5;124;03m    Args:\u001b[39;00m\n\u001b[1;32m    453\u001b[0m \u001b[38;5;124;03m        credentials: Credentials for IBM Quantum.\u001b[39;00m\n\u001b[1;32m    454\u001b[0m \u001b[38;5;124;03m        preferences: Account preferences.\u001b[39;00m\n\u001b[1;32m    455\u001b[0m \u001b[38;5;124;03m    \"\"\"\u001b[39;00m\n\u001b[0;32m--> 456\u001b[0m     auth_client \u001b[38;5;241m=\u001b[39m \u001b[43mAuthClient\u001b[49m\u001b[43m(\u001b[49m\u001b[43mcredentials\u001b[49m\u001b[38;5;241;43m.\u001b[39;49m\u001b[43mtoken\u001b[49m\u001b[43m,\u001b[49m\n\u001b[1;32m    457\u001b[0m \u001b[43m                             \u001b[49m\u001b[43mcredentials\u001b[49m\u001b[38;5;241;43m.\u001b[39;49m\u001b[43mbase_url\u001b[49m\u001b[43m,\u001b[49m\n\u001b[1;32m    458\u001b[0m \u001b[43m                             \u001b[49m\u001b[38;5;241;43m*\u001b[39;49m\u001b[38;5;241;43m*\u001b[39;49m\u001b[43mcredentials\u001b[49m\u001b[38;5;241;43m.\u001b[39;49m\u001b[43mconnection_parameters\u001b[49m\u001b[43m(\u001b[49m\u001b[43m)\u001b[49m\u001b[43m)\u001b[49m\n\u001b[1;32m    459\u001b[0m     service_urls \u001b[38;5;241m=\u001b[39m auth_client\u001b[38;5;241m.\u001b[39mcurrent_service_urls()\n\u001b[1;32m    460\u001b[0m     user_hubs \u001b[38;5;241m=\u001b[39m auth_client\u001b[38;5;241m.\u001b[39muser_hubs()\n",
      "File \u001b[0;32m/usr/local/lib/python3.8/dist-packages/qiskit/providers/ibmq/api/clients/auth.py:41\u001b[0m, in \u001b[0;36mAuthClient.__init__\u001b[0;34m(self, api_token, auth_url, **request_kwargs)\u001b[0m\n\u001b[1;32m     38\u001b[0m \u001b[38;5;28mself\u001b[39m\u001b[38;5;241m.\u001b[39m_service_urls \u001b[38;5;241m=\u001b[39m {}  \u001b[38;5;66;03m# type: ignore[var-annotated]\u001b[39;00m\n\u001b[1;32m     40\u001b[0m \u001b[38;5;28mself\u001b[39m\u001b[38;5;241m.\u001b[39mauth_api \u001b[38;5;241m=\u001b[39m Api(RetrySession(auth_url, \u001b[38;5;241m*\u001b[39m\u001b[38;5;241m*\u001b[39mrequest_kwargs))\n\u001b[0;32m---> 41\u001b[0m \u001b[38;5;28mself\u001b[39m\u001b[38;5;241m.\u001b[39mbase_api \u001b[38;5;241m=\u001b[39m \u001b[38;5;28;43mself\u001b[39;49m\u001b[38;5;241;43m.\u001b[39;49m\u001b[43m_init_service_clients\u001b[49m\u001b[43m(\u001b[49m\u001b[38;5;241;43m*\u001b[39;49m\u001b[38;5;241;43m*\u001b[39;49m\u001b[43mrequest_kwargs\u001b[49m\u001b[43m)\u001b[49m\n",
      "File \u001b[0;32m/usr/local/lib/python3.8/dist-packages/qiskit/providers/ibmq/api/clients/auth.py:53\u001b[0m, in \u001b[0;36mAuthClient._init_service_clients\u001b[0;34m(self, **request_kwargs)\u001b[0m\n\u001b[1;32m     44\u001b[0m \u001b[38;5;124;03m\"\"\"Initialize the clients used for communicating with the API.\u001b[39;00m\n\u001b[1;32m     45\u001b[0m \n\u001b[1;32m     46\u001b[0m \u001b[38;5;124;03mArgs:\u001b[39;00m\n\u001b[0;32m   (...)\u001b[0m\n\u001b[1;32m     50\u001b[0m \u001b[38;5;124;03m    Client for the API server.\u001b[39;00m\n\u001b[1;32m     51\u001b[0m \u001b[38;5;124;03m\"\"\"\u001b[39;00m\n\u001b[1;32m     52\u001b[0m \u001b[38;5;66;03m# Request an access token.\u001b[39;00m\n\u001b[0;32m---> 53\u001b[0m access_token \u001b[38;5;241m=\u001b[39m \u001b[38;5;28;43mself\u001b[39;49m\u001b[38;5;241;43m.\u001b[39;49m\u001b[43m_request_access_token\u001b[49m\u001b[43m(\u001b[49m\u001b[43m)\u001b[49m\n\u001b[1;32m     54\u001b[0m \u001b[38;5;66;03m# Use the token for the next auth server requests.\u001b[39;00m\n\u001b[1;32m     55\u001b[0m \u001b[38;5;28mself\u001b[39m\u001b[38;5;241m.\u001b[39mauth_api\u001b[38;5;241m.\u001b[39msession\u001b[38;5;241m.\u001b[39maccess_token \u001b[38;5;241m=\u001b[39m access_token\n",
      "File \u001b[0;32m/usr/local/lib/python3.8/dist-packages/qiskit/providers/ibmq/api/clients/auth.py:75\u001b[0m, in \u001b[0;36mAuthClient._request_access_token\u001b[0;34m(self)\u001b[0m\n\u001b[1;32m     65\u001b[0m \u001b[38;5;124;03m\"\"\"Request a new access token from the API authentication service.\u001b[39;00m\n\u001b[1;32m     66\u001b[0m \n\u001b[1;32m     67\u001b[0m \u001b[38;5;124;03mReturns:\u001b[39;00m\n\u001b[0;32m   (...)\u001b[0m\n\u001b[1;32m     72\u001b[0m \u001b[38;5;124;03m    RequestsApiError: If the request failed.\u001b[39;00m\n\u001b[1;32m     73\u001b[0m \u001b[38;5;124;03m\"\"\"\u001b[39;00m\n\u001b[1;32m     74\u001b[0m \u001b[38;5;28;01mtry\u001b[39;00m:\n\u001b[0;32m---> 75\u001b[0m     response \u001b[38;5;241m=\u001b[39m \u001b[38;5;28;43mself\u001b[39;49m\u001b[38;5;241;43m.\u001b[39;49m\u001b[43mauth_api\u001b[49m\u001b[38;5;241;43m.\u001b[39;49m\u001b[43mlogin\u001b[49m\u001b[43m(\u001b[49m\u001b[38;5;28;43mself\u001b[39;49m\u001b[38;5;241;43m.\u001b[39;49m\u001b[43mapi_token\u001b[49m\u001b[43m)\u001b[49m\n\u001b[1;32m     76\u001b[0m     \u001b[38;5;28;01mreturn\u001b[39;00m response[\u001b[38;5;124m'\u001b[39m\u001b[38;5;124mid\u001b[39m\u001b[38;5;124m'\u001b[39m]\n\u001b[1;32m     77\u001b[0m \u001b[38;5;28;01mexcept\u001b[39;00m RequestsApiError \u001b[38;5;28;01mas\u001b[39;00m ex:\n\u001b[1;32m     78\u001b[0m     \u001b[38;5;66;03m# Get the original exception that raised.\u001b[39;00m\n",
      "File \u001b[0;32m/usr/local/lib/python3.8/dist-packages/qiskit/providers/ibmq/api/rest/root.py:125\u001b[0m, in \u001b[0;36mApi.login\u001b[0;34m(self, api_token)\u001b[0m\n\u001b[1;32m    116\u001b[0m \u001b[38;5;124;03m\"\"\"Login with token.\u001b[39;00m\n\u001b[1;32m    117\u001b[0m \n\u001b[1;32m    118\u001b[0m \u001b[38;5;124;03mArgs:\u001b[39;00m\n\u001b[0;32m   (...)\u001b[0m\n\u001b[1;32m    122\u001b[0m \u001b[38;5;124;03m    JSON response.\u001b[39;00m\n\u001b[1;32m    123\u001b[0m \u001b[38;5;124;03m\"\"\"\u001b[39;00m\n\u001b[1;32m    124\u001b[0m url \u001b[38;5;241m=\u001b[39m \u001b[38;5;28mself\u001b[39m\u001b[38;5;241m.\u001b[39mget_url(\u001b[38;5;124m'\u001b[39m\u001b[38;5;124mlogin\u001b[39m\u001b[38;5;124m'\u001b[39m)\n\u001b[0;32m--> 125\u001b[0m \u001b[38;5;28;01mreturn\u001b[39;00m \u001b[38;5;28;43mself\u001b[39;49m\u001b[38;5;241;43m.\u001b[39;49m\u001b[43msession\u001b[49m\u001b[38;5;241;43m.\u001b[39;49m\u001b[43mpost\u001b[49m\u001b[43m(\u001b[49m\u001b[43murl\u001b[49m\u001b[43m,\u001b[49m\u001b[43m \u001b[49m\u001b[43mjson\u001b[49m\u001b[38;5;241;43m=\u001b[39;49m\u001b[43m{\u001b[49m\u001b[38;5;124;43m'\u001b[39;49m\u001b[38;5;124;43mapiToken\u001b[39;49m\u001b[38;5;124;43m'\u001b[39;49m\u001b[43m:\u001b[49m\u001b[43m \u001b[49m\u001b[43mapi_token\u001b[49m\u001b[43m}\u001b[49m\u001b[43m)\u001b[49m\u001b[38;5;241m.\u001b[39mjson()\n",
      "File \u001b[0;32m/usr/local/lib/python3.8/dist-packages/requests/sessions.py:577\u001b[0m, in \u001b[0;36mSession.post\u001b[0;34m(self, url, data, json, **kwargs)\u001b[0m\n\u001b[1;32m    566\u001b[0m \u001b[38;5;28;01mdef\u001b[39;00m \u001b[38;5;21mpost\u001b[39m(\u001b[38;5;28mself\u001b[39m, url, data\u001b[38;5;241m=\u001b[39m\u001b[38;5;28;01mNone\u001b[39;00m, json\u001b[38;5;241m=\u001b[39m\u001b[38;5;28;01mNone\u001b[39;00m, \u001b[38;5;241m*\u001b[39m\u001b[38;5;241m*\u001b[39mkwargs):\n\u001b[1;32m    567\u001b[0m     \u001b[38;5;124mr\u001b[39m\u001b[38;5;124;03m\"\"\"Sends a POST request. Returns :class:`Response` object.\u001b[39;00m\n\u001b[1;32m    568\u001b[0m \n\u001b[1;32m    569\u001b[0m \u001b[38;5;124;03m    :param url: URL for the new :class:`Request` object.\u001b[39;00m\n\u001b[0;32m   (...)\u001b[0m\n\u001b[1;32m    574\u001b[0m \u001b[38;5;124;03m    :rtype: requests.Response\u001b[39;00m\n\u001b[1;32m    575\u001b[0m \u001b[38;5;124;03m    \"\"\"\u001b[39;00m\n\u001b[0;32m--> 577\u001b[0m     \u001b[38;5;28;01mreturn\u001b[39;00m \u001b[38;5;28;43mself\u001b[39;49m\u001b[38;5;241;43m.\u001b[39;49m\u001b[43mrequest\u001b[49m\u001b[43m(\u001b[49m\u001b[38;5;124;43m'\u001b[39;49m\u001b[38;5;124;43mPOST\u001b[39;49m\u001b[38;5;124;43m'\u001b[39;49m\u001b[43m,\u001b[49m\u001b[43m \u001b[49m\u001b[43murl\u001b[49m\u001b[43m,\u001b[49m\u001b[43m \u001b[49m\u001b[43mdata\u001b[49m\u001b[38;5;241;43m=\u001b[39;49m\u001b[43mdata\u001b[49m\u001b[43m,\u001b[49m\u001b[43m \u001b[49m\u001b[43mjson\u001b[49m\u001b[38;5;241;43m=\u001b[39;49m\u001b[43mjson\u001b[49m\u001b[43m,\u001b[49m\u001b[43m \u001b[49m\u001b[38;5;241;43m*\u001b[39;49m\u001b[38;5;241;43m*\u001b[39;49m\u001b[43mkwargs\u001b[49m\u001b[43m)\u001b[49m\n",
      "File \u001b[0;32m/usr/local/lib/python3.8/dist-packages/qiskit/providers/ibmq/api/session.py:300\u001b[0m, in \u001b[0;36mRetrySession.request\u001b[0;34m(self, method, url, bare, **kwargs)\u001b[0m\n\u001b[1;32m    297\u001b[0m         \u001b[38;5;66;03m# Modify the original message on the chained exceptions.\u001b[39;00m\n\u001b[1;32m    298\u001b[0m         \u001b[38;5;28mself\u001b[39m\u001b[38;5;241m.\u001b[39m_modify_chained_exception_messages(ex)\n\u001b[0;32m--> 300\u001b[0m     \u001b[38;5;28;01mraise\u001b[39;00m RequestsApiError(message, status_code) \u001b[38;5;28;01mfrom\u001b[39;00m \u001b[38;5;21;01mex\u001b[39;00m\n\u001b[1;32m    302\u001b[0m \u001b[38;5;28;01mreturn\u001b[39;00m response\n",
      "\u001b[0;31mRequestsApiError\u001b[0m: '401 Client Error: Unauthorized for url: https://auth.quantum-computing.ibm.com/api/users/loginWithToken. Login failed., Error code: 3446.'"
     ]
    }
   ],
   "source": [
    "# 量子コンピュータで実行する場合\n",
    "try:\n",
    "    IBMQ.load_account()\n",
    "except IBMQAccountCredentialsNotFound:\n",
    "    IBMQ.enable_account('__paste_your_token_here__')\n",
    "\n",
    "provider = IBMQ.get_provider(hub='ibm-q', group='open', project='main')\n",
    "\n",
    "backend_list = provider.backends(filters=operational_backend(min_qubits=4))\n",
    "backend = least_busy(backend_list)\n",
    "print(f\"least busy backend: {backend.name()}\")"
   ]
  },
  {
   "cell_type": "code",
   "execution_count": 7,
   "id": "ff6549fa",
   "metadata": {
    "pycharm": {
     "name": "#%%\n"
    },
    "tags": [
     "raises-exception",
     "remove-output"
    ]
   },
   "outputs": [
    {
     "ename": "NameError",
     "evalue": "name 'backend' is not defined",
     "output_type": "error",
     "traceback": [
      "\u001b[0;31m---------------------------------------------------------------------------\u001b[0m",
      "\u001b[0;31mNameError\u001b[0m                                 Traceback (most recent call last)",
      "Input \u001b[0;32mIn [7]\u001b[0m, in \u001b[0;36m<cell line: 2>\u001b[0;34m()\u001b[0m\n\u001b[1;32m      1\u001b[0m \u001b[38;5;66;03m# 最も空いているバックエンドで回路を実行します。キュー内のジョブの実行をモニターします。\u001b[39;00m\n\u001b[0;32m----> 2\u001b[0m qc_tr \u001b[38;5;241m=\u001b[39m transpile(qc, backend\u001b[38;5;241m=\u001b[39m\u001b[43mbackend\u001b[49m, optimization_level\u001b[38;5;241m=\u001b[39m\u001b[38;5;241m3\u001b[39m)\n\u001b[1;32m      3\u001b[0m job \u001b[38;5;241m=\u001b[39m backend\u001b[38;5;241m.\u001b[39mrun(qc_tr, shots\u001b[38;5;241m=\u001b[39mshots)\n\u001b[1;32m      4\u001b[0m job_monitor(job, interval\u001b[38;5;241m=\u001b[39m\u001b[38;5;241m2\u001b[39m)\n",
      "\u001b[0;31mNameError\u001b[0m: name 'backend' is not defined"
     ]
    }
   ],
   "source": [
    "# 最も空いているバックエンドで回路を実行します。キュー内のジョブの実行をモニターします。\n",
    "qc_tr = transpile(qc, backend=backend, optimization_level=3)\n",
    "job = backend.run(qc_tr, shots=shots)\n",
    "job_monitor(job, interval=2)"
   ]
  },
  {
   "cell_type": "code",
   "execution_count": 8,
   "id": "24499c9f",
   "metadata": {
    "pycharm": {
     "name": "#%%\n"
    },
    "tags": [
     "raises-exception",
     "remove-output"
    ]
   },
   "outputs": [
    {
     "ename": "NameError",
     "evalue": "name 'job' is not defined",
     "output_type": "error",
     "traceback": [
      "\u001b[0;31m---------------------------------------------------------------------------\u001b[0m",
      "\u001b[0;31mNameError\u001b[0m                                 Traceback (most recent call last)",
      "Input \u001b[0;32mIn [8]\u001b[0m, in \u001b[0;36m<cell line: 2>\u001b[0;34m()\u001b[0m\n\u001b[1;32m      1\u001b[0m \u001b[38;5;66;03m# 計算結果\u001b[39;00m\n\u001b[0;32m----> 2\u001b[0m results \u001b[38;5;241m=\u001b[39m \u001b[43mjob\u001b[49m\u001b[38;5;241m.\u001b[39mresult()\n\u001b[1;32m      3\u001b[0m answer \u001b[38;5;241m=\u001b[39m results\u001b[38;5;241m.\u001b[39mget_counts()\n\u001b[1;32m      4\u001b[0m show_distribution(answer)\n",
      "\u001b[0;31mNameError\u001b[0m: name 'job' is not defined"
     ]
    }
   ],
   "source": [
    "# 計算結果\n",
    "results = job.result()\n",
    "answer = results.get_counts()\n",
    "show_distribution(answer)"
   ]
  },
  {
   "cell_type": "markdown",
   "id": "8bacd5ee",
   "metadata": {},
   "source": [
    "(shor_algo)=\n",
    "## ショアのアルゴリズム\n",
    "\n",
    "では、そろそろ本題であるショアのアルゴリズムに入っていきましょう。ショアのアルゴリズムが考えるのは「ある正の合成数$N$を、自明ではない素数の積$N=qp$に分解する」という問題です。\n",
    "\n",
    "まず、整数の剰余についての表記法をおさらいしておきます。以下のような整数$x$の並びを考えたとき、例えば3で割った余りを$y$とすると\n",
    "\n",
    "|x|0|1|2|3|4|5|6|7|8|9|\n",
    "|-|-|-|-|-|-|-|-|-|-|-|\n",
    "|y|0|1|2|0|1|2|0|1|2|0|\n",
    "\n",
    "ですね。この時、$\\modequiv{x}{y}{3}$と書くものとします（$k$を0以上の整数とすれば、$x=3k+y$と書くこともできます）。\n",
    "\n",
    "ショアのアルゴリズムの流れを書くと、以下のようなフローチャートになります。黒字の部分は古典計算で実行し、青地の部分を量子コンピュータで実行することになります。「アルゴリズムの一部でしか量子計算を使わないのはなぜ？」と思うかもしれませんが、この青地の部分を古典計算で実行するのが難しいというのがその理由です。つまり、古典計算で十分なところは古典計算にまかして、古典計算では難しい部分を量子計算で実行するというのがその発想の大元にあります。なぜ青地の部分が古典計算では難しいのかは追々明らかになります。\n",
    "\n",
    "(shor_algo_fig)=\n",
    "```{image} figs/shor_flow.png\n",
    ":alt: shor_flow\n",
    ":width: 500px\n",
    ":align: center\n",
    "```"
   ]
  },
  {
   "cell_type": "markdown",
   "id": "7c6eeb0f",
   "metadata": {
    "pycharm": {
     "name": "#%% md\n"
    }
   },
   "source": [
    "(factoring_example)=\n",
    "### 素因数分解の例\n",
    "簡単な例として、$N=15$の素因数分解をこのアルゴリズムに沿って考えてみましょう。\n",
    "\n",
    "例えば、15に素な数として仮に$a=7$を選んだとします。そこで$7^x$を15で割った余りを$y$とすると\n",
    "\n",
    "|x|0|1|2|3|4|5|6|$\\cdots$|\n",
    "|-|-|-|-|-|-|-|-|-|\n",
    "|y|1|7|4|13|1|7|4|$\\cdots$|\n",
    "\n",
    "のようになります。つまり、$\\modequiv{7^r}{1}{15}$を満たす最小の非自明な$r$は4になることが分かります。\n",
    "$r=4$は偶数なので、$\\modequiv{x}{7^{4/2}}{15}$が定義でき、$x=4$です。$x+1 = \\modnequiv{5}{0}{15}$なので、\n",
    "\n",
    "$$\n",
    "\\{p,q\\}=\\{\\gcd(5,15), \\gcd(3,15)\\}=\\{5,3\\}\n",
    "$$\n",
    "\n",
    "となって、$15=5\\times3$が得られました!"
   ]
  },
  {
   "cell_type": "markdown",
   "id": "3da67c36",
   "metadata": {},
   "source": [
    "(shor_circuit)=\n",
    "### 量子回路\n",
    "\n",
    "では次に、$N=15$の素因数分解を実装する量子回路を考えていきましょう。いきなり答えを書いてしまうようですが、回路自体は以下のような構成をしています。\n",
    "\n",
    "(shor_circuit_fig)=\n",
    "```{image} figs/shor.png\n",
    ":alt: shor\n",
    ":width: 700px\n",
    ":align: center\n",
    "```\n",
    "\n",
    "上段にある4個の量子ビットが測定用のレジスタ、下段の4個の量子ビットが作業用のレジスタに対応します。それぞれのレジスタが4つずつなのは、15が4ビット（$n=4$）で表現できるからです（15の2進数表記 = $1111_2$）。状態は全て$\\ket{0}$に初期化されているものとして、測定用レジスタの状態を$\\ket{x}$、作業用レジスタの状態を$\\ket{w}$とします。\n",
    "$U_f$は以下のようなオラクル\n",
    "\n",
    "```{image} figs/shor_oracle2.png\n",
    ":alt: shor_oracle2\n",
    ":width: 300px\n",
    ":align: center\n",
    "```\n",
    "\n",
    "で、作業用レジスタの出力状態が$\\ket{w\\oplus f(x)}$になるものと理解しておきます（詳細は後で説明します）。関数$f(x)$は$f(x) = a^x \\bmod N$とします。\n",
    "\n",
    "では、同様に回路のステップ 1-5ごとに量子状態を見ていきましょう。まずステップ 1で測定用量子レジスタの等しい重ね合わせ状態を生成します。各計算基底は0から15までの整数で書いておくことにします。\n",
    "\n",
    "- ステップ 1 :$\\frac{1}{\\sqrt{2^4}}\\left[\\sum_{j=0}^{2^4-1}\\ket{j}\\right]\\ket{0}^{\\otimes 4} = \\frac{1}{4}\\left[\\ket{0}+\\ket{1}+\\cdots+\\ket{15}\\right]\\ket{0}^{\\otimes 4}$\n",
    "\n",
    "オラクル$U_f$を適用した後の状態は、オラクルの定義から以下のようになります。\n",
    "\n",
    "- ステップ 2 :\n",
    "\n",
    "$$\n",
    "\\begin{aligned}\n",
    "&\\frac{1}{4}\\left[\\ket{0}\\ket{0 \\oplus (7^0 \\bmod 15)}+\\ket{1}\\ket{0 \\oplus (7^1 \\bmod 15)}+\\cdots+\\ket{15}\\ket{0 \\oplus (7^{15} \\bmod 15)}\\right]\\\\\n",
    "=&\\frac{1}{4}\\left[\\ket{0}\\ket{1}+\\ket{1}\\ket{7}+\\ket{2}\\ket{4}+\\ket{3}\\ket{13}+\\ket{4}\\ket{1}+\\cdots+\\ket{15}\\ket{13}\\right]\n",
    "\\end{aligned}\n",
    "$$\n",
    "\n",
    "ステップ 2の後に作業用レジスタを測定します。$\\ket{w}$は$\\ket{7^x \\bmod 15}$、つまり$\\ket{1}$, $\\ket{7}$, $\\ket{4}$, $\\ket{13}$のどれかなので、例えば測定の結果13が得られたとします。その場合、測定用レジスタの状態は\n",
    "\n",
    "- ステップ 3 :$\\frac{1}{2}\\left[\\ket{3}+\\ket{7}+\\ket{11}+\\ket{15}\\right]$\n",
    "\n",
    "となります。次に、測定用レジスタに逆量子フーリエ変換$\\rm{QFT}^\\dagger$を適用します。逆量子フーリエ変換はある状態$\\ket{j}$を$\\ket{j} \\to \\frac{1}{\\sqrt{N}}\\sum_{k=0}^{N-1}e^{\\frac{-2\\pi ijk}{N}}\\ket{k}$に変換するので、\n",
    "\n",
    "- ステップ 4 :\n",
    "\n",
    "$$\n",
    "\\begin{aligned}\n",
    "&\\frac{1}{2}\\mathrm{QFT}^\\dagger\\left[\\ket{3}+\\ket{7}+\\ket{11}+\\ket{15}\\right]\\\\\n",
    "=&\\frac{1}{2}\\frac1{\\sqrt{2^4}}\\sum_{k=0}^{2^4-1}\\left[e^{\\frac{-2\\pi i\\cdot3k}{2^4}}+e^{\\frac{-2\\pi i\\cdot7k}{2^4}}+e^{\\frac{-2\\pi i\\cdot11k}{2^4}}+e^{\\frac{-2\\pi i\\cdot15k}{2^4}}\\right]\\ket{k}\\\\\n",
    "=&\\frac{1}{8}\\left[4\\ket{0}+4i\\ket{4}-4\\ket{8}-4i\\ket{12}\\right]\n",
    "\\end{aligned}\n",
    "$$\n",
    "\n",
    "となります。ここで、状態として$\\ket{0}$, $\\ket{4}$, $\\ket{8}$, $\\ket{12}$しか出てこないところが鍵で、量子状態の干渉を使って不要な答えの振幅を小さくしているわけです。\n",
    "\n",
    "- ステップ 5 :最後に測定用レジスタを測定すると、0, 4, 8, 12がそれぞれ1/4の確率で得られます。\n",
    "\n",
    "ステップ 2で$7^x \\bmod 15$を計算しているので想像がつきますが、すでに繰り返しの兆候が現れていますね。"
   ]
  },
  {
   "cell_type": "markdown",
   "id": "01156188",
   "metadata": {},
   "source": [
    "(shor_measurement)=\n",
    "### 測定結果の解析\n",
    "\n",
    "この測定結果の意味を考察してみましょう。ショアのアルゴリズムの{ref}`回路 <shor_circuit_fig>`と$n$量子ビット位相推定の{ref}`回路 <qpe_nqubit_fig>`の類似性から、ここではこの2つが同一の働きをするものと仮定してみます（以下で補足説明します）。その場合、測定用レジスタは固有値$e^{2\\pi i\\theta}$の位相$\\theta$を$2^4=16$倍したものになっているはずです。つまり、例えば測定用レジスタを測定した結果が仮に4の場合、位相$\\theta$は$\\theta=4/16=0.25$です。この位相の値は何を意味しているのでしょうか？\n",
    "\n",
    "ショアのアルゴリズムの量子回路として、これまで$\\ket{w}=\\ket{0}^{\\otimes n}$を初期状態として、$U_f\\ket{x}\\ket{w}=\\ket{x}\\ket{w\\oplus f(x)}$ $(f(x) = a^x \\bmod N)$ となるオラクル$U_f$を考えてきました。この$U_f$を実装するために、以下のようなユニタリー演算子$U$を考えてみます。\n",
    "\n",
    "```{math}\n",
    ":label: U_action\n",
    "U\\ket{m} =\n",
    "\\begin{cases}\n",
    "\\ket{am \\bmod N)} & 0 \\leq m \\leq N - 1 \\\\\n",
    "\\ket{m} & N \\leq m \\leq 2^n-1\n",
    "\\end{cases}\n",
    "```\n",
    "\n",
    "このユニタリーは、\n",
    "\n",
    "$$\n",
    "U^{x}\\ket{1} = U^{x-1} \\ket{a \\bmod N} = U^{x-2} \\ket{a^2 \\bmod N} = \\cdots = \\ket{a^x \\bmod N}\n",
    "$$\n",
    "\n",
    "を満たすので、$w=0$とした$U_f\\ket{x}\\ket{0}$を$U$を使って実装することができます。\n",
    "\n",
    "$$\n",
    "\\begin{aligned}\n",
    "U_f\\ket{x}\\ket{0}&=\\ket{x}\\ket{0 \\oplus (a^x \\bmod N)}\\\\\n",
    "&=\\ket{x}\\ket{a^x \\bmod N}\\\\\n",
    "&=\\ket{x} U^x \\ket{1}\n",
    "\\end{aligned}\n",
    "$$\n",
    "\n",
    "ここで、天下り的ではありますが\n",
    "\n",
    "$$\n",
    "\\ket{\\psi_s} \\equiv \\frac{1}{\\sqrt{r}}\\sum_{k=0}^{r-1}e^{-2\\pi isk/r}\\ket{a^k \\bmod N}\n",
    "$$\n",
    "\n",
    "（$s$は$0 \\leq s \\leq r-1$の整数）となるベクトル$\\ket{\\psi_s}$を定義すると、\n",
    "\n",
    "$$\n",
    "\\frac{1}{\\sqrt{r}}\\sum_{s=0}^{r-1}\\ket{\\psi_s}=\\ket{1}\n",
    "$$\n",
    "\n",
    "が導けると同時に、$\\ket{\\psi_s}$は$U$の固有ベクトルであり、固有値$e^{2\\pi is/r}$を持つことが分かります。\n",
    "\n",
    "$$\n",
    "U\\ket{\\psi_s}=e^{2\\pi is/r}\\ket{\\psi_s}\n",
    "$$\n",
    "\n",
    "つまり、ショアのアルゴリズムのオラクル$U_f$による操作は、固有値$e^{2\\pi is/r}$を持つ固有ベクトル$\\ket{\\psi_s}$の重ね合わせ状態$\\ket{1}$にユニタリー$U$を$x$回適用することと同等なわけです。量子位相推定の{ref}`回路 <qpe_nqubit_fig>`と比較すれば、やっていることはほぼ同じですね。その後に逆QFTを掛けるということまで考えれば、まさにQPEそのものの操作を行っていることに対応しています。\n",
    "\n",
    "QPEで得られる位相は何だったかを思い出すと、それは$U\\ket{\\psi}=e^{2\\pi i\\theta}\\ket{\\psi}$なるユニタリー演算$U$と固有ベクトル$\\ket{\\psi}$に対する固有値$e^{2\\pi i\\theta}$に含まれる位相$\\theta$でした。以上のことから、ショアのアルゴリズムから得られる位相$\\theta$は、$s/r$（の整数倍）の意味を持つことも分かるでしょう。"
   ]
  },
  {
   "cell_type": "markdown",
   "id": "32601ceb",
   "metadata": {},
   "source": [
    "(continued_fractions)=\n",
    "### 連分数展開\n",
    "以上の考察から、測定の結果得られる位相は$\\theta \\approx s/r$であることが分かりました。この結果から位数$r$を求めるために**連分数展開**という手法を使いますが、詳細は他の文献に委ねます（{cite}`nielsen_chuang_qft_app`にもp.230に記述があります）。この手法を使うことで、$\\theta$に最も近い分数として$s/r$を求めることができます。\n",
    "\n",
    "例えば$\\theta=0.25$の場合、$r=4$が得られます（頻度は小さいですが$r=8$が得られる可能性もあります）。ここまでできれば、あとは古典計算のみで求める素因数に分解することができますね（{ref}`ここ <factoring_example>`を参照）。"
   ]
  },
  {
   "cell_type": "markdown",
   "id": "b0112146",
   "metadata": {},
   "source": [
    "(modular_exponentiation)=\n",
    "### 剰余指数化\n",
    "オラクル$U_f$による操作$U_f\\ket{x}\\ket{w}=\\ket{x}\\ket{w\\oplus f(x)}$とはどういうものか、もう少し考えてみましょう。$f(x) = a^x \\bmod N$は、$x$の2進数表記\n",
    "\n",
    "$$\n",
    "x=(x_{n-1}x_{n-2}\\cdots x_0)_2 = 2^{n-1}x_{n-1}+2^{n-2}x_{n-2}+\\cdots+2^0x_0\n",
    "$$\n",
    "\n",
    "を使って\n",
    "\n",
    "$$\n",
    "\\begin{aligned}\n",
    "f(x) & = a^x \\bmod N \\\\\n",
    " & = a^{2^{n-1}x_{n-1}+2^{n-2}x_{n-2}+\\cdots+2^0x_0} \\bmod N \\\\\n",
    " & = a^{2^{n-1}x_{n-1}}a^{2^{n-2}x_{n-2}}\\cdots a^{2^0x_0} \\bmod N\n",
    "\\end{aligned}\n",
    "$$\n",
    "\n",
    "と書くことができます。つまり、この関数は以下のようなユニタリー演算を考えれば実装することができます。\n",
    "\n",
    "```{image} figs/shor_oracle.png\n",
    ":alt: shor_oracle\n",
    ":width: 600px\n",
    ":align: center\n",
    "```\n",
    "\n",
    "$n$量子ビットQPEの{ref}`回路 <qpe_nqubit_fig>`と比較すれば、このユニタリーはQPEの$U^{2^x}$演算を実装しているものだと分かるでしょう。このように、第2レジスタ（上図では一番下のワイヤに繋がるレジスタ）の内容に、第1レジスタの各ビットで制御された$a^x \\bmod N$を適用してQPEの$U^{2^x}$演算を実現する手法を、**剰余指数化**と呼びます。\n",
    "\n",
    "(shor_imp)=\n",
    "## アルゴリズムの実装\n",
    "ここから、ショアのアルゴリズムを実装していきます。"
   ]
  },
  {
   "cell_type": "markdown",
   "id": "f64ea992",
   "metadata": {
    "pycharm": {
     "name": "#%% md\n"
    }
   },
   "source": [
    "(shor_imp_period)=\n",
    "### 位数の発見\n",
    "\n",
    "まず最初に、繰り返しの位数（周期）を発見するアルゴリズムを見てみます。\n",
    "\n",
    "$N$を正の整数として、関数$f(x) = a^x \\bmod N$の振る舞いを考えます。[ショアのアルゴリズム](#shor_algo_fig)に立ち返ってみると、\n",
    "ここで$a$は$N$と互いに素な$N$未満の正の整数で、位数$r$は$\\modequiv{a^r}{1}{N}$を満たす非ゼロの最小の整数でした。\n",
    "以下のグラフにこの関数の例を示します。 ポイント間の線は周期性を確認するためのものです。"
   ]
  },
  {
   "cell_type": "code",
   "execution_count": 9,
   "id": "6e4aa973",
   "metadata": {
    "jupyter": {
     "outputs_hidden": false
    },
    "pycharm": {
     "name": "#%%\n"
    }
   },
   "outputs": [
    {
     "data": {
      "image/png": "[encoded data removed]",
      "text/plain": [
       "<Figure size 432x288 with 1 Axes>"
      ]
     },
     "metadata": {
      "filenames": {
       "image/png": "/qc-workbook/build/ja/_build/jupyter_execute/shor_27_0.png"
      },
      "needs_background": "light"
     },
     "output_type": "display_data"
    }
   ],
   "source": [
    "N = 35\n",
    "a = 3\n",
    "\n",
    "# プロットするデータを計算する\n",
    "xvals = np.arange(35)\n",
    "yvals = [np.mod(a**x, N) for x in xvals]\n",
    "\n",
    "# matplotlibを使って描画\n",
    "fig, ax = plt.subplots()\n",
    "ax.plot(xvals, yvals, linewidth=1, linestyle='dotted', marker='x')\n",
    "ax.set(xlabel='$x$', ylabel=f'${a}^x$ mod {N}',\n",
    "       title=\"Example of Periodic Function in Shor's Algorithm\")\n",
    "\n",
    "try: # グラフ上にrをプロット\n",
    "    r = yvals[1:].index(1) + 1\n",
    "except ValueError:\n",
    "    print('Could not find period, check a < N and have no common factors.')\n",
    "else:\n",
    "    plt.annotate(text='', xy=(0, 1), xytext=(r, 1), arrowprops={'arrowstyle': '<->'})\n",
    "    plt.annotate(text=f'$r={r}$', xy=(r / 3, 1.5))"
   ]
  },
  {
   "cell_type": "markdown",
   "id": "0a164bfa",
   "metadata": {},
   "source": [
    "(shor_imp_oracle)=\n",
    "### オラクルの実装\n",
    "\n",
    "以下では、$N=15$を素因数に分解してみます。上で説明したように、$U\\ket{m}=\\ket{am \\bmod N}$となるユニタリー$U$を$x$回繰り返すことで、オラクル$U_f$を実装します。\n",
    "\n",
    "練習問題として、$C[U^{2^l}] \\ket{z} \\ket{m}=\\ket{z} \\ket{a^{z 2^{l}} m \\bmod 15} \\; (z=0,1)$を実行する関数`c_amod15`を以下に実装してください（`c_amod15`全体は制御ゲートを返しますが、標的レジスタのユニタリー演算、特に$U$に対応する部分を書いてください）。\n",
    "\n",
    "関数の引数`a`は15より小さく15と互いに素な整数のみを考えます。また、実は一般に$a = N-1$の場合、$\\modequiv{a^2}{1}{N}$なので位数$r$は2、したがって$a^{r/2} = a$、$\\modequiv{a + 1}{0}{N}$となり、ショアのアルゴリズムには使えないことが分かります。したがって、考えるべき`a`の値は13以下です。\n",
    "\n",
    "一般の$a$と$N$についてこのようなユニタリを作るには非常に込み入った回路が必要になりますが{cite}`shor_oracle`、$N=15$に限った場合は数行のコードで実装できます。"
   ]
  },
  {
   "cell_type": "code",
   "execution_count": 10,
   "id": "74b73507",
   "metadata": {
    "jupyter": {
     "outputs_hidden": false
    },
    "pycharm": {
     "name": "#%%\n"
    }
   },
   "outputs": [],
   "source": [
    "def c_amod15(a, l):\n",
    "    \"\"\"mod 15による制御ゲート\"\"\"\n",
    "\n",
    "    if a not in [2, 4, 7, 8, 11, 13]:\n",
    "        raise ValueError(\"'a' must be 2, 4, 7, 8, 11, or 13\")\n",
    "\n",
    "    U = QuantumCircuit(4)\n",
    "\n",
    "    ##################\n",
    "    ### EDIT BELOW ###\n",
    "    ##################\n",
    "\n",
    "    #if a == 2:\n",
    "    #    ...\n",
    "    #elif a == 4:\n",
    "    #    ...\n",
    "    #    ...\n",
    "\n",
    "    ##################\n",
    "    ### EDIT ABOVE ###\n",
    "    ##################\n",
    "\n",
    "    # Uを2^l回繰り返す\n",
    "    U_power = U.repeat(2 ** l)\n",
    "\n",
    "    # U_powerをゲートに変換\n",
    "    gate = U_power.to_gate()\n",
    "    gate.name = f\"{a}^{2 ** l} mod 15\"\n",
    "\n",
    "    # gateを制御ゲートに変換\n",
    "    c_gate = gate.control()\n",
    "    return c_gate"
   ]
  },
  {
   "cell_type": "markdown",
   "id": "25818878",
   "metadata": {
    "pycharm": {
     "name": "#%% md\n"
    }
   },
   "source": [
    "**解答**\n",
    "\n",
    "````{toggle}\n",
    "まず、`a=2, 4, 8`のケースを考えます。$m$を二進数分解して\n",
    "\n",
    "```{math}\n",
    "m=\\sum_{j=0}^{3} 2^j m_j \\, (m_j=0,1)\n",
    "```\n",
    "\n",
    "とすると、\n",
    "\n",
    "```{math}\n",
    ":label: ammod15\n",
    "am \\bmod 15 = \\left( \\sum_{j=0}^{3} 2^{j+\\log_2 a} m_j \\right) \\bmod 15\n",
    "```\n",
    "\n",
    "ですが、$15 = 2^4 - 1$で、一般に自然数$n, m$と$n-pm < m$となる最小の自然数$p$について\n",
    "\n",
    "```{math}\n",
    "2^n \\bmod (2^m - 1) = 2^{n-pm}\n",
    "```\n",
    "\n",
    "が成り立つので（証明は簡単なので考えてみてください）、$2^{j+\\log_2 a} \\bmod 15$は$j=0, 1, 2, 3$に対して値$1, 2, 4, 8$をそれぞれ一度だけ取ります。\n",
    "\n",
    "したがって$m \\leq 14$に対しては式{eq}`ammod15`の右辺の括弧の各項について15の剰余を取っても和が15以上にならないので\n",
    "\n",
    "```{math}\n",
    "am \\bmod 15 = \\sum_{j=0}^{3} (2^{j+\\log_2 a} \\bmod 15) m_j,\n",
    "```\n",
    "\n",
    "つまり、$a$倍して15での剰余を取る操作を各ビットに対して独立に考えて良いことがわかります。そこで実際に$2^{j+\\log_2 a} \\bmod 15$の値を書き出してみると\n",
    "\n",
    "|       | $j=0$ | $j=1$ | $j=2$ | $j=3$ |\n",
    "|-------|-------|-------|-------|-------|\n",
    "| $a=2$ | 2     |  4    | 8     | 1     |\n",
    "| $a=4$ | 4     |  8    | 1     | 2     |\n",
    "| $a=8$ | 8     |  1    | 2     | 4     |\n",
    "\n",
    "となります。このような作用はサイクリックなビットシフトとして記述でき、例えば`a=2`なら\n",
    "\n",
    "```{math}\n",
    "\\begin{align}\n",
    "0001 & \\rightarrow 0010 \\\\\n",
    "0010 & \\rightarrow 0100 \\\\\n",
    "0100 & \\rightarrow 1000 \\\\\n",
    "1000 & \\rightarrow 0001\n",
    "\\end{align}\n",
    "```\n",
    "\n",
    "となればいいので、量子回路としてはSWAPゲートを利用して実装できます。\n",
    "\n",
    "```{code-block} python\n",
    "    ##################\n",
    "    ### EDIT BELOW ###\n",
    "    ##################\n",
    "\n",
    "    if a == 2:\n",
    "        # 下の位を上に移すので、上の位から順にSWAPしていく\n",
    "        U.swap(3, 2)\n",
    "        U.swap(2, 1)\n",
    "        U.swap(1, 0)\n",
    "    elif a == 4:\n",
    "        # 「一つ飛ばし」のビットシフト\n",
    "        U.swap(3, 1)\n",
    "        U.swap(2, 0)\n",
    "    elif a == 8:\n",
    "        # 下から順\n",
    "        U.swap(1, 0)\n",
    "        U.swap(2, 1)\n",
    "        U.swap(3, 2)\n",
    "\n",
    "    ##################\n",
    "    ### EDIT ABOVE ###\n",
    "    ##################\n",
    "```\n",
    "\n",
    "このようにSWAPゲートを利用すると、おまけの利点として、$m=15$の場合は$U$がレジスタの状態を変えないので、式{eq}`U_action`が正しく実現されることになります。ただ、下でこの関数を実際に使う時には、作業用レジスタに$\\ket{15}$という状態が現れることは実はないので、この点はあまり重要ではありません。\n",
    "\n",
    "残りの`a=7, 11, 13`はどうでしょうか。ここでも15という数字の特殊性が発揮されます。$7 = 15 - 8$、$11 = 15 - 4$、$13 = 15 - 2$であることに着目すると、\n",
    "\n",
    "```{math}\n",
    "\\begin{align}\n",
    "7m \\bmod 15 & = (15 - 8)m \\bmod 15 = 15 - (8m \\bmod 15) \\\\\n",
    "11m \\bmod 15 & = (15 - 4)m \\bmod 15 = 15 - (4m \\bmod 15) \\\\\n",
    "13m \\bmod 15 & = (15 - 2)m \\bmod 15 = 15 - (2m \\bmod 15),\n",
    "\\end{align}\n",
    "```\n",
    "\n",
    "つまり、上の`a=2, 4, 8`のケースの結果を15から引くような回路を作ればいいことがわかります。そして、4ビットのレジスタにおいて15から値を引くというのは、全てのビットを反転させる（$X$ゲートをかける）ことに対応するので、最終的には\n",
    "\n",
    "```{code-block} python\n",
    "    ##################\n",
    "    ### EDIT BELOW ###\n",
    "    ##################\n",
    "\n",
    "    if a in [2, 13]:\n",
    "        # 下の位を上に移すので、上の位から順にSWAPしていく\n",
    "        U.swap(3, 2)\n",
    "        U.swap(2, 1)\n",
    "        U.swap(1, 0)\n",
    "    elif a in [4, 11]:\n",
    "        # 「一つ飛ばし」のビットシフト\n",
    "        U.swap(3, 1)\n",
    "        U.swap(2, 0)\n",
    "    elif a in [8, 7]:\n",
    "        # 下から順\n",
    "        U.swap(1, 0)\n",
    "        U.swap(2, 1)\n",
    "        U.swap(3, 2)\n",
    "\n",
    "    if a in [7, 11, 13]:\n",
    "        U.x([0, 1, 2, 3])\n",
    "\n",
    "    ##################\n",
    "    ### EDIT ABOVE ###\n",
    "    ##################\n",
    "```\n",
    "\n",
    "が正解です。\n",
    "````"
   ]
  },
  {
   "cell_type": "code",
   "execution_count": 11,
   "id": "5c29dbac",
   "metadata": {
    "jupyter": {
     "outputs_hidden": false
    },
    "pycharm": {
     "name": "#%%\n"
    },
    "tags": [
     "remove-input",
     "remove-output"
    ]
   },
   "outputs": [],
   "source": [
    "# テキスト作成用のセル\n",
    "\n",
    "def c_amod15(a, l):\n",
    "    U = QuantumCircuit(4, name='U')\n",
    "\n",
    "    if a in [2, 13]:\n",
    "        U.swap(3, 2)\n",
    "        U.swap(2, 1)\n",
    "        U.swap(1, 0)\n",
    "    elif a in [4, 11]:\n",
    "        U.swap(3, 1)\n",
    "        U.swap(2, 0)\n",
    "    elif a in [8, 7]:\n",
    "        U.swap(1, 0)\n",
    "        U.swap(2, 1)\n",
    "        U.swap(3, 2)\n",
    "\n",
    "    if a in [7, 11, 13]:\n",
    "        U.x([0, 1, 2, 3])\n",
    "\n",
    "    U_power = U.repeat(2 ** l)\n",
    "\n",
    "    gate = U_power.to_gate()\n",
    "    gate.name = f\"{a}^{2 ** l} mod 15\"\n",
    "    c_gate = gate.control()\n",
    "    return c_gate"
   ]
  },
  {
   "cell_type": "markdown",
   "id": "a49f1d7b",
   "metadata": {
    "pycharm": {
     "name": "#%% md\n"
    }
   },
   "source": [
    "(shor_imp_circuit)=\n",
    "### 回路全体の実装\n",
    "\n",
    "測定用ビットとして、8量子ビットを使います。"
   ]
  },
  {
   "cell_type": "code",
   "execution_count": 12,
   "id": "284e0771",
   "metadata": {
    "jupyter": {
     "outputs_hidden": false
    },
    "pycharm": {
     "name": "#%%\n"
    }
   },
   "outputs": [
    {
     "data": {
      "image/png": "[encoded data removed]",
      "text/plain": [
       "<Figure size 1635.15x1649.48 with 1 Axes>"
      ]
     },
     "execution_count": 12,
     "metadata": {
      "filenames": {
       "image/png": "/qc-workbook/build/ja/_build/jupyter_execute/shor_33_0.png"
      }
     },
     "output_type": "execute_result"
    }
   ],
   "source": [
    "# 15と互いに素な数\n",
    "a = 7\n",
    "\n",
    "# 測定用ビットの数（位相推定の精度）\n",
    "n_meas = 8\n",
    "\n",
    "# 位相測定用のレジスタ\n",
    "qreg_meas = QuantumRegister(n_meas, name='meas')\n",
    "# Uを作用させる作業用レジスタ\n",
    "qreg_aux = QuantumRegister(4, name='aux')\n",
    "# 位相測定の結果が書き出される古典レジスタ\n",
    "creg_meas = ClassicalRegister(n_meas, name='out')\n",
    "\n",
    "# 2つの量子レジスタと1つの古典レジスタから量子回路を作る\n",
    "qc = QuantumCircuit(qreg_meas, qreg_aux, creg_meas)\n",
    "\n",
    "# 測定用レジスタをequal superpositionに初期化\n",
    "qc.h(qreg_meas)\n",
    "# 作業用レジスタを|1>に初期化\n",
    "qc.x(qreg_aux[0])\n",
    "\n",
    "# 制御Uゲートを適用\n",
    "for l, ctrl in enumerate(qreg_meas):\n",
    "    qc.append(c_amod15(a, l), qargs=([ctrl] + qreg_aux[:]))\n",
    "\n",
    "# 逆QFTを適用\n",
    "qc.append(qft_dagger(qreg_meas), qargs=qreg_meas)\n",
    "\n",
    "# 回路を測定\n",
    "qc.measure(qreg_meas, creg_meas)\n",
    "qc.draw('mpl')"
   ]
  },
  {
   "cell_type": "markdown",
   "id": "81022653",
   "metadata": {},
   "source": [
    "シミュレータで実行して、結果を確認してみます。"
   ]
  },
  {
   "cell_type": "code",
   "execution_count": 13,
   "id": "c53a31d5",
   "metadata": {
    "jupyter": {
     "outputs_hidden": false
    },
    "pycharm": {
     "name": "#%%\n"
    }
   },
   "outputs": [
    {
     "data": {
      "image/png": "[encoded data removed]",
      "text/plain": [
       "<Figure size 432x288 with 1 Axes>"
      ]
     },
     "metadata": {
      "filenames": {
       "image/png": "/qc-workbook/build/ja/_build/jupyter_execute/shor_35_0.png"
      },
      "needs_background": "light"
     },
     "output_type": "display_data"
    }
   ],
   "source": [
    "qc = transpile(qc, backend=simulator)\n",
    "results = simulator.run(qc, shots=2048).result()\n",
    "answer = results.get_counts()\n",
    "\n",
    "show_distribution(answer)"
   ]
  },
  {
   "cell_type": "markdown",
   "id": "8d7ce4b2",
   "metadata": {
    "pycharm": {
     "name": "#%% md\n"
    }
   },
   "source": [
    "(shor_imp_ana)=\n",
    "### 計算結果の解析\n",
    "出力された結果から、位相を求めてみます。"
   ]
  },
  {
   "cell_type": "code",
   "execution_count": 14,
   "id": "82b9d759",
   "metadata": {
    "jupyter": {
     "outputs_hidden": false
    },
    "pycharm": {
     "name": "#%%\n"
    }
   },
   "outputs": [
    {
     "name": "stdout",
     "output_type": "stream",
     "text": [
      "Register Output    Phase\n",
      "------------------------\n",
      " 64       64/256 = 0.250\n",
      "128      128/256 = 0.500\n",
      "  0        0/256 = 0.000\n",
      "192      192/256 = 0.750\n"
     ]
    }
   ],
   "source": [
    "rows, measured_phases = [], []\n",
    "for output in answer:\n",
    "    decimal = int(output, 2)  # 10進数に変換\n",
    "    phase = decimal / (2 ** n_meas)\n",
    "    measured_phases.append(phase)\n",
    "    # これらの値をテーブルの行に追加：\n",
    "    rows.append(f\"{decimal:3d}      {decimal:3d}/{2 ** n_meas} = {phase:.3f}\")\n",
    "\n",
    "# 結果を表示\n",
    "print('Register Output    Phase')\n",
    "print('------------------------')\n",
    "\n",
    "for row in rows:\n",
    "    print(row)"
   ]
  },
  {
   "cell_type": "markdown",
   "id": "5c8436a5",
   "metadata": {},
   "source": [
    "得られた位相の情報から、連分数アルゴリズムを使用して$s$と$r$を見つけることができます。Pythonの組み込みの`fractions`(分数)モジュールを使用して、小数を`Fraction`オブジェクトに変換できます。"
   ]
  },
  {
   "cell_type": "code",
   "execution_count": 15,
   "id": "9aad6627",
   "metadata": {
    "jupyter": {
     "outputs_hidden": false
    },
    "pycharm": {
     "name": "#%%\n"
    }
   },
   "outputs": [
    {
     "name": "stdout",
     "output_type": "stream",
     "text": [
      "     Phase   Fraction   Guess for r\n",
      "-------------------------------------\n",
      "     0.250       1/ 4             4\n",
      "     0.500       1/ 2             2\n",
      "     0.000       0/ 1             1\n",
      "     0.750       3/ 4             4\n"
     ]
    }
   ],
   "source": [
    "rows = []\n",
    "for phase in measured_phases:\n",
    "    frac = Fraction(phase).limit_denominator(15)\n",
    "    rows.append(f'{phase:10.3f}      {frac.numerator:2d}/{frac.denominator:2d} {frac.denominator:13d}')\n",
    "\n",
    "# 結果を表示\n",
    "print('     Phase   Fraction   Guess for r')\n",
    "print('-------------------------------------')\n",
    "\n",
    "for row in rows:\n",
    "    print(row)"
   ]
  },
  {
   "cell_type": "markdown",
   "id": "9469467a",
   "metadata": {},
   "source": [
    "`limit_denominator`メソッドを使って、分母が特定の値（ここでは15）を下回る分数で、最も位相の値に近いものを得ています。\n",
    "\n",
    "測定された結果のうち、2つ（64と192）が正しい答えである$r=4$を与えたことが分かります。"
   ]
  },
  {
   "cell_type": "markdown",
   "id": "f0d5b7bb",
   "metadata": {},
   "source": [
    "## 参考文献\n",
    "\n",
    "```{bibliography}\n",
    ":filter: docname in docnames\n",
    "```"
   ]
  }
 ],
 "metadata": {
  "jupytext": {
   "notebook_metadata_filter": "all",
   "text_representation": {
    "extension": ".md",
    "format_name": "myst",
    "format_version": 0.13,
    "jupytext_version": "1.11.5"
   }
  },
  "kernelspec": {
   "display_name": "Python 3 (ipykernel)",
   "language": "python",
   "name": "python3"
  },
  "language_info": {
   "codemirror_mode": {
    "name": "ipython",
    "version": 3
   },
   "file_extension": ".py",
   "mimetype": "text/x-python",
   "name": "python",
   "nbconvert_exporter": "python",
   "pygments_lexer": "ipython3",
   "version": "3.8.10"
  },
  "source_map": [
   25,
   29,
   51,
   63,
   90,
   132,
   141,
   162,
   166,
   197,
   203,
   233,
   270,
   309,
   316,
   352,
   361,
   368,
   389,
   403,
   415,
   439,
   460,
   522,
   578,
   586,
   620,
   631,
   660,
   673,
   716,
   839,
   877,
   884,
   924,
   928,
   944,
   950,
   973,
   977,
   997,
   1003
  ]
 },
 "nbformat": 4,
 "nbformat_minor": 5
}