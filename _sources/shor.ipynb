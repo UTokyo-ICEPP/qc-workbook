{
 "cells": [
  {
   "cell_type": "markdown",
   "id": "7fa420fd",
   "metadata": {
    "pycharm": {
     "name": "#%% md\n"
    }
   },
   "source": [
    "# 素因数分解アルゴリズムを学習する"
   ]
  },
  {
   "cell_type": "markdown",
   "id": "f8632824",
   "metadata": {},
   "source": [
    "この実習では**ショアのアルゴリズム**を学習します。名前を聞いたことがある人もいるかもしれませんが、ショアのアルゴリズム{cite}`shor,nielsen_chuang_qft_app`は最も有名な量子アルゴリズムと言っても良いでしょう。ショアのアルゴリズムの元になっている**量子位相推定**と呼ばれる手法を学んだ後、ショアのアルゴリズムの各ステップを実例とともに紹介します。最後に、Qiskitを使用してショアのアルゴリズムを実装し、実際に素因数分解を行ってみます。\n",
    "\n",
    "```{contents} 目次\n",
    "---\n",
    "local: true\n",
    "---\n",
    "```\n",
    "\n",
    "$\\newcommand{\\ket}[1]{|#1\\rangle}$\n",
    "$\\newcommand{\\modequiv}[3]{#1 \\equiv #2 \\pmod{#3}}$\n",
    "$\\newcommand{\\modnequiv}[3]{#1 \\not\\equiv #2 \\pmod{#3}}$\n",
    "\n",
    "(shor_introduction)=\n",
    "## はじめに\n",
    "\n",
    "古典計算をはるかに上回る能力を持つ量子計算の一つの例として、最も広く知られているのがショアの量子計算アルゴリズムでしょう。このアルゴリズムが考える問題は、大きな正の数を二つの素数の積に分解するというもので、問題自体はシンプルです。しかし、古典計算では素因数分解の有効なアルゴリズムが知られておらず、数が大きくなると**指数関数的に計算量が増える**と予想されています。\n",
    "ショアのアルゴリズムを用いれば、同じ問題を**多項式時間で解くことができる**と考えられています（一般的に、問題のサイズに対して多項式で増える計算時間で解くことができれば、それは有効なアルゴリズムだと見なされます）。\n",
    "\n",
    "古典計算での素因数分解の難しさは、現在広く使われている鍵暗号技術の元になっています。なので、指数関数的に高速なショアのアルゴリズムが量子コンピュータで実現されれば、秘密の情報が暴かれる可能性があります。ショアのアルゴリズムが大きく注目される理由はそこにあります。"
   ]
  },
  {
   "cell_type": "markdown",
   "id": "d2d8574b",
   "metadata": {},
   "source": [
    "(qpe)=\n",
    "## 量子位相推定\n",
    "\n",
    "まず、ショアのアルゴリズムの元になっている「**量子位相推定」**（*Quantum Phase Estimation*, QPE）と呼ばれる手法について学びましょう。ショアのアルゴリズムを理解していけば、ショアのアルゴリズムの核心部分は、実はほぼQPEそのものであることが見えてくると思います。QPEの理解には「**量子フーリエ変換**」（*Quantum Fourier Transform*, QFT）の理解が欠かせませんが、QFTについては、この[実習](circuit_from_scratch.ipynb)の問題7、もしくは参考文献[1]を参照してください。\n",
    "\n",
    "QPEはとても大事な計算手法で、ショアのアルゴリズムだけでなく、いろいろな量子アルゴリズムのサブルーチンとしても使われています。\n",
    "%（モンテカルロサンプラーの[実習](mc_sampler.ipynb)でも出てきます）。\n",
    "\n",
    "QPEが考える問題は、「あるユニタリー演算$U$に対して$U\\ket{\\psi}=e^{2\\pi i\\theta}\\ket{\\psi}$となる固有ベクトル$\\ket{\\psi}$が与えられるとして、その固有値$e^{2\\pi i\\theta}$の位相$\\theta$を求めることができるか？」という問題です。"
   ]
  },
  {
   "cell_type": "markdown",
   "id": "3d5d7fd5",
   "metadata": {},
   "source": [
    "(qpe_1qubit)=\n",
    "### 1量子ビットの位相推定\n",
    "まず、下図にあるような量子回路を考えてみましょう。上側の量子ビットは$\\ket{0}$、下側の量子ビットには$U$の固有ベクトル$\\ket{\\psi}$が初期状態として与えられているとします。\n",
    "\n",
    "```{image} figs/qpe_1qubit.png\n",
    ":alt: qpe_1qubit\n",
    ":class: bg-primary mb-1\n",
    ":width: 300px\n",
    ":align: center\n",
    "```\n",
    "\n",
    "この場合、量子回路の1-3の各ステップでの量子状態は、以下のように表現できます。\n",
    "\n",
    "- ステップ 1 : $\\frac{1}{\\sqrt{2}}(\\ket{0}\\ket{\\psi}+\\ket{1}\\ket{\\psi})$\n",
    "- ステップ 2 : $\\frac{1}{\\sqrt{2}}(\\ket{0}\\ket{\\psi}+\\ket{1} e^{2\\pi i\\theta}\\ket{\\psi})$\n",
    "- ステップ 3 : $\\frac{1}{2}\\left[(1+e^{2\\pi i\\theta})\\ket{0}+(1-e^{2\\pi i\\theta})\\ket{1}\\right]\\ket{\\psi}$\n",
    "\n",
    "この状態で上側の量子ビットを測定すると、$|(1+e^{2\\pi i\\theta})/2|^2$の確率で0、$|(1-e^{2\\pi i\\theta})/2|^2$の確率で1を測定するでしょう。つまり、この確率の値から位相$\\theta$を求めることができるわけです。\n",
    "しかし、$\\theta$の値が小さい場合（$\\theta\\ll1$）、ほぼ100%の確率で0を測定し、ほぼ0％の確率で1を測定することになるため、100%あるいは0%からのずれを精度良く決めるためには測定を何度も繰り返す必要が出てきます。これではあまり優位性を感じませんね。。\n",
    "\n",
    "```{hint}\n",
    "この制御$U$ゲートの部分がショアのアルゴリズムの「オラクル」に対応しています。その後ろには逆量子フーリエ変換が来ますが、1量子ビットの場合は$H$ゲート（$H=H^\\dagger$）です。つまり、1量子ビットの量子フーリエ変換は$H$ゲートそのものということですね。\n",
    "```\n",
    "\n",
    "本題に戻って、では少ない測定回数でも精度良く位相を決める方法は、何か考えられるでしょうか。。"
   ]
  },
  {
   "cell_type": "markdown",
   "id": "7d1c03e0",
   "metadata": {
    "pycharm": {
     "name": "#%% md\n"
    }
   },
   "source": [
    "(qpe_nqubit)=\n",
    "### $n$量子ビットの位相推定\n",
    "そこで、上側のレジスタを$n$量子ビットに拡張した量子回路（下図）を考えてみましょう。\n",
    "\n",
    "```{image} figs/qpe_wo_iqft.png\n",
    ":alt: qpe_wo_iqft\n",
    ":class: bg-primary mb-1\n",
    ":width: 500px\n",
    ":align: center\n",
    "```\n",
    "\n",
    "それに応じて、下側のレジスタにも$U$を繰り返し適用することになりますが、鍵になるのは$U$を2の羃乗回適用するところです。それがどういう意味を持つのかを理解するために、準備として$U^{2^x}\\ket{\\psi}$が以下のように書けることを見ておきます（まあ当然と言えば当然ですが）。\n",
    "\n",
    "$$\n",
    "\\begin{aligned}\n",
    "U^{2^x}\\ket{\\psi}&=U^{2^x-1}U\\ket{\\psi}\\\\\n",
    "&=U^{2^x-1}e^{2\\pi i\\theta}\\ket{\\psi}\\\\\n",
    "&=U^{2^x-2}e^{2\\pi i\\theta2}\\ket{\\psi}\\\\\n",
    "&=\\cdots\\\\\n",
    "&=e^{2\\pi i\\theta2^x}\\ket{\\psi}\n",
    "\\end{aligned}\n",
    "$$\n",
    "\n",
    "この量子回路に対して、同様に1, 2, ... $n+1$の各ステップでの量子状態を追跡していくと、以下のようになることが分かります。\n",
    "\n",
    "- ステップ 1 : $\\frac{1}{\\sqrt{2^n}}(\\ket{0}+\\ket{1})^{\\otimes n}\\ket{\\psi}$\n",
    "- ステップ 2 : $\\frac{1}{\\sqrt{2^n}}(\\ket{0}+e^{2\\pi i\\theta2^{n-1}}\\ket{1})(\\ket{0}+\\ket{1})^{\\otimes n-1}\\ket{\\psi}$\n",
    "- $\\cdots$\n",
    "- ステップ $n+1$ : $\\frac{1}{\\sqrt{2^n}}(\\ket{0}+e^{2\\pi i\\theta2^{n-1}}\\ket{1})(\\ket{0}+e^{2\\pi i\\theta2^{n-2}}\\ket{1})\\cdots(\\ket{0}+e^{2\\pi i\\theta2^0}\\ket{1})\\ket{\\psi}$\n",
    "\n",
    "ステップ $n+1$後の$n$ビットレジスタの状態をよく見ると、この状態はQFTで$j$を$2^n\\theta$としたものと同等であることが分かります。つまり、この$n$ビットレジスタに逆フーリエ変換$\\rm{QFT}^\\dagger$を適用すれば、状態$\\ket{2^n\\theta}$が得られるわけです！この状態を測定すれば、$2^n\\theta$つまり固有値の位相$\\theta$（を$2^n$倍したもの）を求めることができるというのがQPEです（下図）。\n",
    "\n",
    "(qpe_nqubit_fig)=\n",
    "```{image} figs/qpe.png\n",
    ":alt: qpe\n",
    ":class: bg-primary mb-1\n",
    ":width: 700px\n",
    ":align: center\n",
    "```\n",
    "\n",
    "ただし、一般に$2^n \\theta$が整数であるとは限りません。非整数値に対する逆フーリエ変換については、{ref}`補足ページ <nonintegral_fourier>`を参照してください。"
   ]
  },
  {
   "cell_type": "markdown",
   "id": "31ce0e0f",
   "metadata": {
    "pycharm": {
     "name": "#%% md\n"
    }
   },
   "source": [
    "(qpe_imp)=\n",
    "## QPEの簡単な例を実装する\n",
    "\n",
    "では実際に、簡単な回路を使って量子位相推定を実装してみましょう。\n",
    "\n",
    "まず、あるユニタリー演算$U$に対して$U\\ket{\\psi}=e^{2\\pi i\\theta}\\ket{\\psi}$となる固有ベクトル$\\ket{\\psi}$が必要ですが、ここでは$U$として1量子ビットの$S$ゲート（位相$\\sqrt{Z}$ゲート）を考えてみます。$\\ket{1}=\\begin{pmatrix}0\\\\1\\end{pmatrix}$として、$S\\ket{1}=e^{i\\pi/2}\\ket{1}$となるので$\\ket{1}$は$S$の固有ベクトル、$e^{i\\pi/2}$がその固有値です。QPEは固有値$e^{2\\pi i\\theta}$の位相$\\theta$を求めるので、$S$の場合は$\\theta=1/4$を求めることに相当します。これを回路を使って実際に確かめてみます。"
   ]
  },
  {
   "cell_type": "code",
   "execution_count": 1,
   "id": "85f15e06",
   "metadata": {
    "pycharm": {
     "name": "#%%\n"
    }
   },
   "outputs": [],
   "source": [
    "# Tested with python 3.8.12, qiskit 0.34.2, numpy 1.22.2\n",
    "import matplotlib.pyplot as plt\n",
    "import numpy as np\n",
    "import math\n",
    "\n",
    "from qiskit import IBMQ, QuantumCircuit, Aer, transpile\n",
    "from qiskit.providers.ibmq import least_busy, IBMQAccountCredentialsNotFound\n",
    "from qiskit.tools.monitor import job_monitor\n",
    "from qiskit.visualization import plot_histogram\n",
    "\n",
    "# ワークブック独自のモジュール\n",
    "from qc_workbook.utils import operational_backend"
   ]
  },
  {
   "cell_type": "markdown",
   "id": "a5b9c8dd",
   "metadata": {
    "pycharm": {
     "name": "#%% md\n"
    }
   },
   "source": [
    "固有ベクトル$\\ket{1}$を保持する1量子ビットレジスタと、位相推定用のレジスタ（3量子ビット）を持つ回路を作ります。$\\ket{1}$は$\\ket{0}$にパウリ$X$を掛けて作り、位相推定用の制御$S$ゲートを$2^x$回適用します。"
   ]
  },
  {
   "cell_type": "code",
   "execution_count": 2,
   "id": "989d47ed",
   "metadata": {
    "pycharm": {
     "name": "#%%\n"
    }
   },
   "outputs": [],
   "source": [
    "n_mq = 3\n",
    "\n",
    "# n_mq+1ビット量子回路\n",
    "qc = QuantumCircuit(n_mq+1, n_mq)\n",
    "\n",
    "for qubit in range(n_mq):\n",
    "    qc.h(qubit)\n",
    "qc.x(n_mq)\n",
    "\n",
    "# angle/(2*pi)がQPEで求めたい位相\n",
    "angle = math.pi/2\n",
    "#angle = 2*math.pi/3\n",
    "\n",
    "nr = 1\n",
    "for qubit in range(n_mq):\n",
    "    for i in range(nr):\n",
    "        qc.cp(angle, qubit, n_mq)\n",
    "    nr *= 2"
   ]
  },
  {
   "cell_type": "markdown",
   "id": "776adb32",
   "metadata": {
    "pycharm": {
     "name": "#%% md\n"
    }
   },
   "source": [
    "位相推定用のレジスタに逆量子フーリエ変換を適用して、量子ビットを測定します。"
   ]
  },
  {
   "cell_type": "code",
   "execution_count": 3,
   "id": "ad49f992",
   "metadata": {
    "pycharm": {
     "name": "#%%\n"
    }
   },
   "outputs": [
    {
     "data": {
      "image/png": "[encoded data removed]",
      "text/plain": [
       "<Figure size 1471.2x325.08 with 1 Axes>"
      ]
     },
     "execution_count": 3,
     "metadata": {
      "filenames": {
       "image/png": "/qc-workbook/build/ja/_build/jupyter_execute/shor_10_0.png"
      }
     },
     "output_type": "execute_result"
    }
   ],
   "source": [
    "def qft_dagger(n):\n",
    "    \"\"\"逆量子フーリエ変換用の回路\"\"\"\n",
    "    qc = QuantumCircuit(n)\n",
    "\n",
    "    ##################\n",
    "    ### EDIT BELOW ###\n",
    "    ##################\n",
    "\n",
    "    #qc?\n",
    "\n",
    "    ##################\n",
    "    ### EDIT ABOVE ###\n",
    "    ##################\n",
    "\n",
    "    qc.name = \"QFT^dagger\"\n",
    "    return qc\n",
    "\n",
    "qc.barrier()\n",
    "qc.append(qft_dagger(n_mq),list(range(n_mq)))\n",
    "qc.barrier()\n",
    "for n in range(n_mq):\n",
    "    qc.measure(n,n)\n",
    "qc.draw('mpl')"
   ]
  },
  {
   "cell_type": "markdown",
   "id": "ba14f985",
   "metadata": {
    "pycharm": {
     "name": "#%% md\n"
    }
   },
   "source": [
    "(qpe_imp_simulator)=\n",
    "### シミュレータでの実験\n",
    "\n",
    "シミュレータで実行して、測定結果の確率分布を作ってみます。"
   ]
  },
  {
   "cell_type": "code",
   "execution_count": 4,
   "id": "d2ebdcae",
   "metadata": {
    "pycharm": {
     "name": "#%%\n"
    }
   },
   "outputs": [
    {
     "data": {
      "image/png": "[encoded data removed]",
      "text/plain": [
       "<Figure size 432x288 with 1 Axes>"
      ]
     },
     "metadata": {
      "filenames": {
       "image/png": "/qc-workbook/build/ja/_build/jupyter_execute/shor_12_0.png"
      },
      "needs_background": "light"
     },
     "output_type": "display_data"
    }
   ],
   "source": [
    "simulator = Aer.get_backend('aer_simulator')\n",
    "shots = 2048\n",
    "qc_tr = transpile(qc, backend=simulator)\n",
    "results = simulator.run(qc_tr, shots=shots).result()\n",
    "answer = results.get_counts()\n",
    "\n",
    "def show_distribution(answer):\n",
    "    n = len(answer)\n",
    "    x = [int(key,2) for key in list(answer.keys())]\n",
    "    y = list(answer.values())\n",
    "\n",
    "    fig, ax = plt.subplots()\n",
    "    rect = ax.bar(x,y)\n",
    "\n",
    "    def autolabel(rects):\n",
    "        for rect in rects:\n",
    "            height = rect.get_height()\n",
    "            ax.annotate('{:.3f}'.format(height/sum(y)),\n",
    "                        xy=(rect.get_x()+rect.get_width()/2, height),xytext=(0,0),\n",
    "                        textcoords=\"offset points\",ha='center', va='bottom')\n",
    "    autolabel(rect)\n",
    "    plt.ylabel('Probabilities')\n",
    "    plt.show()\n",
    "\n",
    "show_distribution(answer)"
   ]
  },
  {
   "cell_type": "markdown",
   "id": "bee8fd3f",
   "metadata": {
    "pycharm": {
     "name": "#%% md\n"
    }
   },
   "source": [
    "答えは10進数で2になっていますね。ここで測定した答えは$\\ket{2^n\\theta}$だったことを思い出すと、$\\theta=2/2^3=1/4$となって正しい$\\theta$が得られたことが分かります。\n",
    "\n",
    "ここで見た量子回路はシンプルですが、いろいろ拡張して振る舞いを理解するのに役立ちます。例えば、以下の問題を調べてみてください。\n",
    "- （グローバル因子を除いて）$S=R_Z(\\pi/2)$ゲートの例を見ましたが、角度を$0<\\phi<\\pi$の範囲で変えた$R_Z(\\phi)$ゲートではどうなるでしょうか？\n",
    "- 角度の選び方によっては、得られる位相の精度が悪くなります。その場合、どうすればより良い精度で測定できるでしょうか？\n",
    "- $S$ゲートの場合固有ベクトルは$\\ket{1}$でしたが、$\\ket{1}$以外の状態を使うとどうなりますか？特に固有ベクトルと線形従属なベクトルを使った場合の振る舞いを見てみてください。"
   ]
  },
  {
   "cell_type": "markdown",
   "id": "b8bfd8f3",
   "metadata": {
    "pycharm": {
     "name": "#%% md\n"
    }
   },
   "source": [
    "(qpe_imp_real)=\n",
    "### 量子コンピュータでの実験\n",
    "\n",
    "最後に量子コンピュータで実行して、結果を確認してみましょう、以下のようにすることで、現時点でbusyでないマシンを優先的に選んで実行してくれます。"
   ]
  },
  {
   "cell_type": "code",
   "execution_count": 5,
   "id": "18da8f15",
   "metadata": {
    "pycharm": {
     "name": "#%%\n"
    },
    "tags": [
     "raises-exception",
     "remove-output"
    ]
   },
   "outputs": [
    {
     "ename": "RequestsApiError",
     "evalue": "'401 Client Error: Unauthorized for url: https://auth.quantum-computing.ibm.com/api/users/loginWithToken. Login failed., Error code: 3446.'",
     "output_type": "error",
     "traceback": [
      "\u001b[0;31m---------------------------------------------------------------------------\u001b[0m",
      "\u001b[0;31mIBMQAccountCredentialsNotFound\u001b[0m            Traceback (most recent call last)",
      "Input \u001b[0;32mIn [5]\u001b[0m, in \u001b[0;36m<cell line: 2>\u001b[0;34m()\u001b[0m\n\u001b[1;32m      2\u001b[0m \u001b[38;5;28;01mtry\u001b[39;00m:\n\u001b[0;32m----> 3\u001b[0m     \u001b[43mIBMQ\u001b[49m\u001b[38;5;241;43m.\u001b[39;49m\u001b[43mload_account\u001b[49m\u001b[43m(\u001b[49m\u001b[43m)\u001b[49m\n\u001b[1;32m      4\u001b[0m \u001b[38;5;28;01mexcept\u001b[39;00m IBMQAccountCredentialsNotFound:\n",
      "File \u001b[0;32m/usr/local/lib/python3.8/dist-packages/qiskit/providers/ibmq/ibmqfactory.py:167\u001b[0m, in \u001b[0;36mIBMQFactory.load_account\u001b[0;34m(self)\u001b[0m\n\u001b[1;32m    166\u001b[0m \u001b[38;5;28;01mif\u001b[39;00m \u001b[38;5;129;01mnot\u001b[39;00m credentials_list:\n\u001b[0;32m--> 167\u001b[0m     \u001b[38;5;28;01mraise\u001b[39;00m IBMQAccountCredentialsNotFound(\n\u001b[1;32m    168\u001b[0m         \u001b[38;5;124m'\u001b[39m\u001b[38;5;124mNo IBM Quantum Experience credentials found.\u001b[39m\u001b[38;5;124m'\u001b[39m)\n\u001b[1;32m    170\u001b[0m \u001b[38;5;28;01mif\u001b[39;00m \u001b[38;5;28mlen\u001b[39m(credentials_list) \u001b[38;5;241m>\u001b[39m \u001b[38;5;241m1\u001b[39m:\n",
      "\u001b[0;31mIBMQAccountCredentialsNotFound\u001b[0m: 'No IBM Quantum Experience credentials found.'",
      "\nDuring handling of the above exception, another exception occurred:\n",
      "\u001b[0;31mHTTPError\u001b[0m                                 Traceback (most recent call last)",
      "File \u001b[0;32m/usr/local/lib/python3.8/dist-packages/qiskit/providers/ibmq/api/session.py:278\u001b[0m, in \u001b[0;36mRetrySession.request\u001b[0;34m(self, method, url, bare, **kwargs)\u001b[0m\n\u001b[1;32m    277\u001b[0m     response \u001b[38;5;241m=\u001b[39m \u001b[38;5;28msuper\u001b[39m()\u001b[38;5;241m.\u001b[39mrequest(method, final_url, headers\u001b[38;5;241m=\u001b[39mheaders, \u001b[38;5;241m*\u001b[39m\u001b[38;5;241m*\u001b[39mkwargs)\n\u001b[0;32m--> 278\u001b[0m     \u001b[43mresponse\u001b[49m\u001b[38;5;241;43m.\u001b[39;49m\u001b[43mraise_for_status\u001b[49m\u001b[43m(\u001b[49m\u001b[43m)\u001b[49m\n\u001b[1;32m    279\u001b[0m \u001b[38;5;28;01mexcept\u001b[39;00m RequestException \u001b[38;5;28;01mas\u001b[39;00m ex:\n\u001b[1;32m    280\u001b[0m     \u001b[38;5;66;03m# Wrap the requests exceptions into a IBM Q custom one, for\u001b[39;00m\n\u001b[1;32m    281\u001b[0m     \u001b[38;5;66;03m# compatibility.\u001b[39;00m\n",
      "File \u001b[0;32m/usr/local/lib/python3.8/dist-packages/requests/models.py:960\u001b[0m, in \u001b[0;36mResponse.raise_for_status\u001b[0;34m(self)\u001b[0m\n\u001b[1;32m    959\u001b[0m \u001b[38;5;28;01mif\u001b[39;00m http_error_msg:\n\u001b[0;32m--> 960\u001b[0m     \u001b[38;5;28;01mraise\u001b[39;00m HTTPError(http_error_msg, response\u001b[38;5;241m=\u001b[39m\u001b[38;5;28mself\u001b[39m)\n",
      "\u001b[0;31mHTTPError\u001b[0m: 401 Client Error: Unauthorized for url: https://auth.quantum-computing.ibm.com/api/users/loginWithToken",
      "\nThe above exception was the direct cause of the following exception:\n",
      "\u001b[0;31mRequestsApiError\u001b[0m                          Traceback (most recent call last)",
      "Input \u001b[0;32mIn [5]\u001b[0m, in \u001b[0;36m<cell line: 2>\u001b[0;34m()\u001b[0m\n\u001b[1;32m      3\u001b[0m     IBMQ\u001b[38;5;241m.\u001b[39mload_account()\n\u001b[1;32m      4\u001b[0m \u001b[38;5;28;01mexcept\u001b[39;00m IBMQAccountCredentialsNotFound:\n\u001b[0;32m----> 5\u001b[0m     \u001b[43mIBMQ\u001b[49m\u001b[38;5;241;43m.\u001b[39;49m\u001b[43menable_account\u001b[49m\u001b[43m(\u001b[49m\u001b[38;5;124;43m'\u001b[39;49m\u001b[38;5;124;43m__paste_your_token_here__\u001b[39;49m\u001b[38;5;124;43m'\u001b[39;49m\u001b[43m)\u001b[49m\n\u001b[1;32m      7\u001b[0m provider \u001b[38;5;241m=\u001b[39m IBMQ\u001b[38;5;241m.\u001b[39mget_provider(hub\u001b[38;5;241m=\u001b[39m\u001b[38;5;124m'\u001b[39m\u001b[38;5;124mibm-q\u001b[39m\u001b[38;5;124m'\u001b[39m, group\u001b[38;5;241m=\u001b[39m\u001b[38;5;124m'\u001b[39m\u001b[38;5;124mopen\u001b[39m\u001b[38;5;124m'\u001b[39m, project\u001b[38;5;241m=\u001b[39m\u001b[38;5;124m'\u001b[39m\u001b[38;5;124mmain\u001b[39m\u001b[38;5;124m'\u001b[39m)\n\u001b[1;32m      9\u001b[0m backend_list \u001b[38;5;241m=\u001b[39m provider\u001b[38;5;241m.\u001b[39mbackends(filters\u001b[38;5;241m=\u001b[39moperational_backend(min_qubits\u001b[38;5;241m=\u001b[39m\u001b[38;5;241m6\u001b[39m))\n",
      "File \u001b[0;32m/usr/local/lib/python3.8/dist-packages/qiskit/providers/ibmq/ibmqfactory.py:107\u001b[0m, in \u001b[0;36mIBMQFactory.enable_account\u001b[0;34m(self, token, url, hub, group, project, **kwargs)\u001b[0m\n\u001b[1;32m    102\u001b[0m     \u001b[38;5;28;01mraise\u001b[39;00m IBMQAccountCredentialsInvalidUrl(\n\u001b[1;32m    103\u001b[0m         \u001b[38;5;124m'\u001b[39m\u001b[38;5;124mThe URL specified (\u001b[39m\u001b[38;5;132;01m{}\u001b[39;00m\u001b[38;5;124m) is not an IBM Quantum Experience authentication \u001b[39m\u001b[38;5;124m'\u001b[39m\n\u001b[1;32m    104\u001b[0m         \u001b[38;5;124m'\u001b[39m\u001b[38;5;124mURL. Valid authentication URL: \u001b[39m\u001b[38;5;132;01m{}\u001b[39;00m\u001b[38;5;124m.\u001b[39m\u001b[38;5;124m'\u001b[39m\u001b[38;5;241m.\u001b[39mformat(credentials\u001b[38;5;241m.\u001b[39murl, QX_AUTH_URL))\n\u001b[1;32m    106\u001b[0m \u001b[38;5;66;03m# Initialize the providers.\u001b[39;00m\n\u001b[0;32m--> 107\u001b[0m \u001b[38;5;28;43mself\u001b[39;49m\u001b[38;5;241;43m.\u001b[39;49m\u001b[43m_initialize_providers\u001b[49m\u001b[43m(\u001b[49m\u001b[43mcredentials\u001b[49m\u001b[43m)\u001b[49m\n\u001b[1;32m    109\u001b[0m \u001b[38;5;66;03m# Prevent edge case where no hubs are available.\u001b[39;00m\n\u001b[1;32m    110\u001b[0m providers \u001b[38;5;241m=\u001b[39m \u001b[38;5;28mself\u001b[39m\u001b[38;5;241m.\u001b[39mproviders()\n",
      "File \u001b[0;32m/usr/local/lib/python3.8/dist-packages/qiskit/providers/ibmq/ibmqfactory.py:456\u001b[0m, in \u001b[0;36mIBMQFactory._initialize_providers\u001b[0;34m(self, credentials, preferences)\u001b[0m\n\u001b[1;32m    446\u001b[0m \u001b[38;5;28;01mdef\u001b[39;00m \u001b[38;5;21m_initialize_providers\u001b[39m(\n\u001b[1;32m    447\u001b[0m         \u001b[38;5;28mself\u001b[39m, credentials: Credentials,\n\u001b[1;32m    448\u001b[0m         preferences: Optional[Dict] \u001b[38;5;241m=\u001b[39m \u001b[38;5;28;01mNone\u001b[39;00m\n\u001b[1;32m    449\u001b[0m ) \u001b[38;5;241m-\u001b[39m\u001b[38;5;241m>\u001b[39m \u001b[38;5;28;01mNone\u001b[39;00m:\n\u001b[1;32m    450\u001b[0m     \u001b[38;5;124;03m\"\"\"Authenticate against IBM Quantum and populate the providers.\u001b[39;00m\n\u001b[1;32m    451\u001b[0m \n\u001b[1;32m    452\u001b[0m \u001b[38;5;124;03m    Args:\u001b[39;00m\n\u001b[1;32m    453\u001b[0m \u001b[38;5;124;03m        credentials: Credentials for IBM Quantum.\u001b[39;00m\n\u001b[1;32m    454\u001b[0m \u001b[38;5;124;03m        preferences: Account preferences.\u001b[39;00m\n\u001b[1;32m    455\u001b[0m \u001b[38;5;124;03m    \"\"\"\u001b[39;00m\n\u001b[0;32m--> 456\u001b[0m     auth_client \u001b[38;5;241m=\u001b[39m \u001b[43mAuthClient\u001b[49m\u001b[43m(\u001b[49m\u001b[43mcredentials\u001b[49m\u001b[38;5;241;43m.\u001b[39;49m\u001b[43mtoken\u001b[49m\u001b[43m,\u001b[49m\n\u001b[1;32m    457\u001b[0m \u001b[43m                             \u001b[49m\u001b[43mcredentials\u001b[49m\u001b[38;5;241;43m.\u001b[39;49m\u001b[43mbase_url\u001b[49m\u001b[43m,\u001b[49m\n\u001b[1;32m    458\u001b[0m \u001b[43m                             \u001b[49m\u001b[38;5;241;43m*\u001b[39;49m\u001b[38;5;241;43m*\u001b[39;49m\u001b[43mcredentials\u001b[49m\u001b[38;5;241;43m.\u001b[39;49m\u001b[43mconnection_parameters\u001b[49m\u001b[43m(\u001b[49m\u001b[43m)\u001b[49m\u001b[43m)\u001b[49m\n\u001b[1;32m    459\u001b[0m     service_urls \u001b[38;5;241m=\u001b[39m auth_client\u001b[38;5;241m.\u001b[39mcurrent_service_urls()\n\u001b[1;32m    460\u001b[0m     user_hubs \u001b[38;5;241m=\u001b[39m auth_client\u001b[38;5;241m.\u001b[39muser_hubs()\n",
      "File \u001b[0;32m/usr/local/lib/python3.8/dist-packages/qiskit/providers/ibmq/api/clients/auth.py:41\u001b[0m, in \u001b[0;36mAuthClient.__init__\u001b[0;34m(self, api_token, auth_url, **request_kwargs)\u001b[0m\n\u001b[1;32m     38\u001b[0m \u001b[38;5;28mself\u001b[39m\u001b[38;5;241m.\u001b[39m_service_urls \u001b[38;5;241m=\u001b[39m {}  \u001b[38;5;66;03m# type: ignore[var-annotated]\u001b[39;00m\n\u001b[1;32m     40\u001b[0m \u001b[38;5;28mself\u001b[39m\u001b[38;5;241m.\u001b[39mauth_api \u001b[38;5;241m=\u001b[39m Api(RetrySession(auth_url, \u001b[38;5;241m*\u001b[39m\u001b[38;5;241m*\u001b[39mrequest_kwargs))\n\u001b[0;32m---> 41\u001b[0m \u001b[38;5;28mself\u001b[39m\u001b[38;5;241m.\u001b[39mbase_api \u001b[38;5;241m=\u001b[39m \u001b[38;5;28;43mself\u001b[39;49m\u001b[38;5;241;43m.\u001b[39;49m\u001b[43m_init_service_clients\u001b[49m\u001b[43m(\u001b[49m\u001b[38;5;241;43m*\u001b[39;49m\u001b[38;5;241;43m*\u001b[39;49m\u001b[43mrequest_kwargs\u001b[49m\u001b[43m)\u001b[49m\n",
      "File \u001b[0;32m/usr/local/lib/python3.8/dist-packages/qiskit/providers/ibmq/api/clients/auth.py:53\u001b[0m, in \u001b[0;36mAuthClient._init_service_clients\u001b[0;34m(self, **request_kwargs)\u001b[0m\n\u001b[1;32m     44\u001b[0m \u001b[38;5;124;03m\"\"\"Initialize the clients used for communicating with the API.\u001b[39;00m\n\u001b[1;32m     45\u001b[0m \n\u001b[1;32m     46\u001b[0m \u001b[38;5;124;03mArgs:\u001b[39;00m\n\u001b[0;32m   (...)\u001b[0m\n\u001b[1;32m     50\u001b[0m \u001b[38;5;124;03m    Client for the API server.\u001b[39;00m\n\u001b[1;32m     51\u001b[0m \u001b[38;5;124;03m\"\"\"\u001b[39;00m\n\u001b[1;32m     52\u001b[0m \u001b[38;5;66;03m# Request an access token.\u001b[39;00m\n\u001b[0;32m---> 53\u001b[0m access_token \u001b[38;5;241m=\u001b[39m \u001b[38;5;28;43mself\u001b[39;49m\u001b[38;5;241;43m.\u001b[39;49m\u001b[43m_request_access_token\u001b[49m\u001b[43m(\u001b[49m\u001b[43m)\u001b[49m\n\u001b[1;32m     54\u001b[0m \u001b[38;5;66;03m# Use the token for the next auth server requests.\u001b[39;00m\n\u001b[1;32m     55\u001b[0m \u001b[38;5;28mself\u001b[39m\u001b[38;5;241m.\u001b[39mauth_api\u001b[38;5;241m.\u001b[39msession\u001b[38;5;241m.\u001b[39maccess_token \u001b[38;5;241m=\u001b[39m access_token\n",
      "File \u001b[0;32m/usr/local/lib/python3.8/dist-packages/qiskit/providers/ibmq/api/clients/auth.py:75\u001b[0m, in \u001b[0;36mAuthClient._request_access_token\u001b[0;34m(self)\u001b[0m\n\u001b[1;32m     65\u001b[0m \u001b[38;5;124;03m\"\"\"Request a new access token from the API authentication service.\u001b[39;00m\n\u001b[1;32m     66\u001b[0m \n\u001b[1;32m     67\u001b[0m \u001b[38;5;124;03mReturns:\u001b[39;00m\n\u001b[0;32m   (...)\u001b[0m\n\u001b[1;32m     72\u001b[0m \u001b[38;5;124;03m    RequestsApiError: If the request failed.\u001b[39;00m\n\u001b[1;32m     73\u001b[0m \u001b[38;5;124;03m\"\"\"\u001b[39;00m\n\u001b[1;32m     74\u001b[0m \u001b[38;5;28;01mtry\u001b[39;00m:\n\u001b[0;32m---> 75\u001b[0m     response \u001b[38;5;241m=\u001b[39m \u001b[38;5;28;43mself\u001b[39;49m\u001b[38;5;241;43m.\u001b[39;49m\u001b[43mauth_api\u001b[49m\u001b[38;5;241;43m.\u001b[39;49m\u001b[43mlogin\u001b[49m\u001b[43m(\u001b[49m\u001b[38;5;28;43mself\u001b[39;49m\u001b[38;5;241;43m.\u001b[39;49m\u001b[43mapi_token\u001b[49m\u001b[43m)\u001b[49m\n\u001b[1;32m     76\u001b[0m     \u001b[38;5;28;01mreturn\u001b[39;00m response[\u001b[38;5;124m'\u001b[39m\u001b[38;5;124mid\u001b[39m\u001b[38;5;124m'\u001b[39m]\n\u001b[1;32m     77\u001b[0m \u001b[38;5;28;01mexcept\u001b[39;00m RequestsApiError \u001b[38;5;28;01mas\u001b[39;00m ex:\n\u001b[1;32m     78\u001b[0m     \u001b[38;5;66;03m# Get the original exception that raised.\u001b[39;00m\n",
      "File \u001b[0;32m/usr/local/lib/python3.8/dist-packages/qiskit/providers/ibmq/api/rest/root.py:125\u001b[0m, in \u001b[0;36mApi.login\u001b[0;34m(self, api_token)\u001b[0m\n\u001b[1;32m    116\u001b[0m \u001b[38;5;124;03m\"\"\"Login with token.\u001b[39;00m\n\u001b[1;32m    117\u001b[0m \n\u001b[1;32m    118\u001b[0m \u001b[38;5;124;03mArgs:\u001b[39;00m\n\u001b[0;32m   (...)\u001b[0m\n\u001b[1;32m    122\u001b[0m \u001b[38;5;124;03m    JSON response.\u001b[39;00m\n\u001b[1;32m    123\u001b[0m \u001b[38;5;124;03m\"\"\"\u001b[39;00m\n\u001b[1;32m    124\u001b[0m url \u001b[38;5;241m=\u001b[39m \u001b[38;5;28mself\u001b[39m\u001b[38;5;241m.\u001b[39mget_url(\u001b[38;5;124m'\u001b[39m\u001b[38;5;124mlogin\u001b[39m\u001b[38;5;124m'\u001b[39m)\n\u001b[0;32m--> 125\u001b[0m \u001b[38;5;28;01mreturn\u001b[39;00m \u001b[38;5;28;43mself\u001b[39;49m\u001b[38;5;241;43m.\u001b[39;49m\u001b[43msession\u001b[49m\u001b[38;5;241;43m.\u001b[39;49m\u001b[43mpost\u001b[49m\u001b[43m(\u001b[49m\u001b[43murl\u001b[49m\u001b[43m,\u001b[49m\u001b[43m \u001b[49m\u001b[43mjson\u001b[49m\u001b[38;5;241;43m=\u001b[39;49m\u001b[43m{\u001b[49m\u001b[38;5;124;43m'\u001b[39;49m\u001b[38;5;124;43mapiToken\u001b[39;49m\u001b[38;5;124;43m'\u001b[39;49m\u001b[43m:\u001b[49m\u001b[43m \u001b[49m\u001b[43mapi_token\u001b[49m\u001b[43m}\u001b[49m\u001b[43m)\u001b[49m\u001b[38;5;241m.\u001b[39mjson()\n",
      "File \u001b[0;32m/usr/local/lib/python3.8/dist-packages/requests/sessions.py:577\u001b[0m, in \u001b[0;36mSession.post\u001b[0;34m(self, url, data, json, **kwargs)\u001b[0m\n\u001b[1;32m    566\u001b[0m \u001b[38;5;28;01mdef\u001b[39;00m \u001b[38;5;21mpost\u001b[39m(\u001b[38;5;28mself\u001b[39m, url, data\u001b[38;5;241m=\u001b[39m\u001b[38;5;28;01mNone\u001b[39;00m, json\u001b[38;5;241m=\u001b[39m\u001b[38;5;28;01mNone\u001b[39;00m, \u001b[38;5;241m*\u001b[39m\u001b[38;5;241m*\u001b[39mkwargs):\n\u001b[1;32m    567\u001b[0m     \u001b[38;5;124mr\u001b[39m\u001b[38;5;124;03m\"\"\"Sends a POST request. Returns :class:`Response` object.\u001b[39;00m\n\u001b[1;32m    568\u001b[0m \n\u001b[1;32m    569\u001b[0m \u001b[38;5;124;03m    :param url: URL for the new :class:`Request` object.\u001b[39;00m\n\u001b[0;32m   (...)\u001b[0m\n\u001b[1;32m    574\u001b[0m \u001b[38;5;124;03m    :rtype: requests.Response\u001b[39;00m\n\u001b[1;32m    575\u001b[0m \u001b[38;5;124;03m    \"\"\"\u001b[39;00m\n\u001b[0;32m--> 577\u001b[0m     \u001b[38;5;28;01mreturn\u001b[39;00m \u001b[38;5;28;43mself\u001b[39;49m\u001b[38;5;241;43m.\u001b[39;49m\u001b[43mrequest\u001b[49m\u001b[43m(\u001b[49m\u001b[38;5;124;43m'\u001b[39;49m\u001b[38;5;124;43mPOST\u001b[39;49m\u001b[38;5;124;43m'\u001b[39;49m\u001b[43m,\u001b[49m\u001b[43m \u001b[49m\u001b[43murl\u001b[49m\u001b[43m,\u001b[49m\u001b[43m \u001b[49m\u001b[43mdata\u001b[49m\u001b[38;5;241;43m=\u001b[39;49m\u001b[43mdata\u001b[49m\u001b[43m,\u001b[49m\u001b[43m \u001b[49m\u001b[43mjson\u001b[49m\u001b[38;5;241;43m=\u001b[39;49m\u001b[43mjson\u001b[49m\u001b[43m,\u001b[49m\u001b[43m \u001b[49m\u001b[38;5;241;43m*\u001b[39;49m\u001b[38;5;241;43m*\u001b[39;49m\u001b[43mkwargs\u001b[49m\u001b[43m)\u001b[49m\n",
      "File \u001b[0;32m/usr/local/lib/python3.8/dist-packages/qiskit/providers/ibmq/api/session.py:300\u001b[0m, in \u001b[0;36mRetrySession.request\u001b[0;34m(self, method, url, bare, **kwargs)\u001b[0m\n\u001b[1;32m    297\u001b[0m         \u001b[38;5;66;03m# Modify the original message on the chained exceptions.\u001b[39;00m\n\u001b[1;32m    298\u001b[0m         \u001b[38;5;28mself\u001b[39m\u001b[38;5;241m.\u001b[39m_modify_chained_exception_messages(ex)\n\u001b[0;32m--> 300\u001b[0m     \u001b[38;5;28;01mraise\u001b[39;00m RequestsApiError(message, status_code) \u001b[38;5;28;01mfrom\u001b[39;00m \u001b[38;5;21;01mex\u001b[39;00m\n\u001b[1;32m    302\u001b[0m \u001b[38;5;28;01mreturn\u001b[39;00m response\n",
      "\u001b[0;31mRequestsApiError\u001b[0m: '401 Client Error: Unauthorized for url: https://auth.quantum-computing.ibm.com/api/users/loginWithToken. Login failed., Error code: 3446.'"
     ]
    }
   ],
   "source": [
    "# 量子コンピュータで実行する場合\n",
    "try:\n",
    "    IBMQ.load_account()\n",
    "except IBMQAccountCredentialsNotFound:\n",
    "    IBMQ.enable_account('__paste_your_token_here__')\n",
    "\n",
    "provider = IBMQ.get_provider(hub='ibm-q', group='open', project='main')\n",
    "\n",
    "backend_list = provider.backends(filters=operational_backend(min_qubits=6))\n",
    "backend = least_busy(backend_list)\n",
    "print(\"least busy backend: \", backend)"
   ]
  },
  {
   "cell_type": "code",
   "execution_count": 6,
   "id": "baf1b8e7",
   "metadata": {
    "pycharm": {
     "name": "#%%\n"
    },
    "tags": [
     "raises-exception",
     "remove-output"
    ]
   },
   "outputs": [
    {
     "ename": "NameError",
     "evalue": "name 'backend' is not defined",
     "output_type": "error",
     "traceback": [
      "\u001b[0;31m---------------------------------------------------------------------------\u001b[0m",
      "\u001b[0;31mNameError\u001b[0m                                 Traceback (most recent call last)",
      "Input \u001b[0;32mIn [6]\u001b[0m, in \u001b[0;36m<cell line: 2>\u001b[0;34m()\u001b[0m\n\u001b[1;32m      1\u001b[0m \u001b[38;5;66;03m# 最も空いているバックエンドで回路を実行します。キュー内のジョブの実行をモニターします。\u001b[39;00m\n\u001b[0;32m----> 2\u001b[0m qc_tr \u001b[38;5;241m=\u001b[39m transpile(qc, backend\u001b[38;5;241m=\u001b[39m\u001b[43mbackend\u001b[49m, optimization_level\u001b[38;5;241m=\u001b[39m\u001b[38;5;241m3\u001b[39m)\n\u001b[1;32m      3\u001b[0m job \u001b[38;5;241m=\u001b[39m backend\u001b[38;5;241m.\u001b[39mrun(qc_tr, shots\u001b[38;5;241m=\u001b[39mshots)\n\u001b[1;32m      4\u001b[0m job_monitor(job, interval\u001b[38;5;241m=\u001b[39m\u001b[38;5;241m2\u001b[39m)\n",
      "\u001b[0;31mNameError\u001b[0m: name 'backend' is not defined"
     ]
    }
   ],
   "source": [
    "# 最も空いているバックエンドで回路を実行します。キュー内のジョブの実行をモニターします。\n",
    "qc_tr = transpile(qc, backend=backend, optimization_level=3)\n",
    "job = backend.run(qc_tr, shots=shots)\n",
    "job_monitor(job, interval=2)"
   ]
  },
  {
   "cell_type": "code",
   "execution_count": 7,
   "id": "87cdf312",
   "metadata": {
    "pycharm": {
     "name": "#%%\n"
    },
    "tags": [
     "raises-exception",
     "remove-output"
    ]
   },
   "outputs": [
    {
     "ename": "NameError",
     "evalue": "name 'job' is not defined",
     "output_type": "error",
     "traceback": [
      "\u001b[0;31m---------------------------------------------------------------------------\u001b[0m",
      "\u001b[0;31mNameError\u001b[0m                                 Traceback (most recent call last)",
      "Input \u001b[0;32mIn [7]\u001b[0m, in \u001b[0;36m<cell line: 2>\u001b[0;34m()\u001b[0m\n\u001b[1;32m      1\u001b[0m \u001b[38;5;66;03m# 計算結果\u001b[39;00m\n\u001b[0;32m----> 2\u001b[0m results \u001b[38;5;241m=\u001b[39m \u001b[43mjob\u001b[49m\u001b[38;5;241m.\u001b[39mresult()\n\u001b[1;32m      3\u001b[0m answer \u001b[38;5;241m=\u001b[39m results\u001b[38;5;241m.\u001b[39mget_counts()\n\u001b[1;32m      4\u001b[0m show_distribution(answer)\n",
      "\u001b[0;31mNameError\u001b[0m: name 'job' is not defined"
     ]
    }
   ],
   "source": [
    "# 計算結果\n",
    "results = job.result()\n",
    "answer = results.get_counts()\n",
    "show_distribution(answer)"
   ]
  },
  {
   "cell_type": "markdown",
   "id": "3f0a4f70",
   "metadata": {},
   "source": [
    "(shor_algo)=\n",
    "## ショアのアルゴリズム\n",
    "\n",
    "では、そろそろ本題であるショアのアルゴリズムに入っていきましょう。ショアのアルゴリズムが考えるのは「ある正の合成数$N$を、自明ではない素数の積$N=qp$に分解する」という問題です。\n",
    "\n",
    "まず、整数の剰余についての表記法をおさらいしておきます。以下のような整数$x$の並びを考えたとき、例えば3で割った余りを$y$とすると\n",
    "\n",
    "|x|0|1|2|3|4|5|6|7|8|9|\n",
    "|-|-|-|-|-|-|-|-|-|-|-|\n",
    "|y|0|1|2|0|1|2|0|1|2|0|\n",
    "\n",
    "ですね。この時、$\\modequiv{x}{y}{3}$と書くものとします（$k$を0以上の整数とすれば、$x=3k+y$と書くこともできます）。\n",
    "\n",
    "ショアのアルゴリズムの流れを書くと、以下のようなフローチャートになります。黒字の部分は古典計算で実行し、青地の部分を量子コンピュータで実行することになります。「アルゴリズムの一部でしか量子計算を使わないのはなぜ？」と思うかもしれませんが、この青地の部分を古典計算で実行するのが難しいというのがその理由です。つまり、古典計算で十分なところは古典計算にまかして、古典計算では難しい部分を量子計算で実行するというのがその発想の大元にあります。なぜ青地の部分が古典計算では難しいのかは追々明らかになります。\n",
    "\n",
    "(shor_algo_fig)=\n",
    "```{image} figs/shor_flow.png\n",
    ":alt: shor_flow\n",
    ":class: bg-primary mb-1\n",
    ":width: 500px\n",
    ":align: center\n",
    "```"
   ]
  },
  {
   "cell_type": "markdown",
   "id": "d1b7d697",
   "metadata": {
    "pycharm": {
     "name": "#%% md\n"
    }
   },
   "source": [
    "(factoring_example)=\n",
    "### 素因数分解の例\n",
    "簡単な例として、$N=15$の素因数分解をこのアルゴリズムに沿って考えてみましょう。\n",
    "\n",
    "例えば、15に素な数として仮に$a=7$を選んだとします。そこで$7^x$を15で割った余りを$y$とすると\n",
    "\n",
    "|x|0|1|2|3|4|5|6|$\\cdots$|\n",
    "|-|-|-|-|-|-|-|-|-|\n",
    "|y|1|7|4|13|1|7|4|$\\cdots$|\n",
    "\n",
    "のようになります。つまり、$\\modequiv{7^r}{1}{15}$を満たす最小の非自明な$r$は4になることが分かります。\n",
    "$r=4$は偶数なので、$\\modequiv{x}{7^{4/2}}{15}$が定義でき、$x=4$です。$x+1 = \\modnequiv{5}{0}{15}$なので、\n",
    "\n",
    "$$\n",
    "\\{p,q\\}=\\{\\gcd(5,15), \\gcd(3,15)\\}=\\{5,3\\}\n",
    "$$\n",
    "\n",
    "となって、$15=5\\times3$が得られました!"
   ]
  },
  {
   "cell_type": "markdown",
   "id": "1a9218a3",
   "metadata": {},
   "source": [
    "(shor_circuit)=\n",
    "### 量子回路\n",
    "\n",
    "では次に、$N=15$の素因数分解を実装する量子回路を考えていきましょう。いきなり答えを書いてしまうようですが、回路自体は以下のような構成をしています。\n",
    "\n",
    "(shor_circuit_fig)=\n",
    "```{image} figs/shor.png\n",
    ":alt: shor\n",
    ":class: bg-primary mb-1\n",
    ":width: 700px\n",
    ":align: center\n",
    "```\n",
    "\n",
    "上段にある4個の量子ビットが測定用のレジスタ、下段の4個の量子ビットが作業用のレジスタに対応します。それぞれのレジスタが4つずつなのは、15が4ビット（$n=4$）で表現できるからです（15の2進数表記 = $1111_2$）。状態は全て$\\ket{0}$に初期化されているものとして、測定用ビットの状態を$\\ket{x}$、作業用ビットの状態を$\\ket{w}$とします。\n",
    "$U_f$は以下のようなオラクル\n",
    "\n",
    "```{image} figs/shor_oracle2.png\n",
    ":alt: shor_oracle2\n",
    ":class: bg-primary mb-1\n",
    ":width: 300px\n",
    ":align: center\n",
    "```\n",
    "\n",
    "で、作業用ビットの出力状態が$\\ket{w\\oplus f(x)}$になるものと理解しておきます（詳細は後で説明します）。関数$f(x)$は$f(x) = a^x \\bmod N$とします。\n",
    "\n",
    "では、同様に回路のステップ 1-5ごとに量子状態を見ていきましょう。まずステップ 1で測定用量子ビットの等しい重ね合わせ状態を生成します。各計算基底は0から15までの整数で書いておくことにします。\n",
    "\n",
    "- ステップ 1 :$\\frac{1}{\\sqrt{2^4}}\\left[\\sum_{j=0}^{2^4-1}\\ket{j}\\right]\\ket{0}^{\\otimes 4} = \\frac{1}{4}\\left[\\ket{0}+\\ket{1}+\\cdots+\\ket{15}\\right]\\ket{0}^{\\otimes 4}$\n",
    "\n",
    "オラクル$U_f$を適用した後の状態は、オラクルの定義から以下のようになります。\n",
    "\n",
    "- ステップ 2 :\n",
    "\n",
    "$$\n",
    "\\begin{aligned}\n",
    "&\\frac{1}{4}\\left[\\ket{0}\\ket{0 \\oplus (7^0 \\bmod 15)}+\\ket{1}\\ket{0 \\oplus (7^1 \\bmod 15)}+\\cdots+\\ket{15}\\ket{0 \\oplus (7^{15} \\bmod 15)}\\right]\\\\\n",
    "=&\\frac{1}{4}\\left[\\ket{0}\\ket{1}+\\ket{1}\\ket{7}+\\ket{2}\\ket{4}+\\ket{3}\\ket{13}+\\ket{4}\\ket{1}+\\cdots+\\ket{15}\\ket{13}\\right]\n",
    "\\end{aligned}\n",
    "$$\n",
    "\n",
    "ステップ 2の後に作業用ビットを測定します。$\\ket{w}$は$\\ket{7^x \\bmod 15}$、つまり$\\ket{1}$, $\\ket{7}$, $\\ket{4}$, $\\ket{13}$のどれかなので、例えば測定の結果13が得られたとします。その場合、測定用ビットの状態は\n",
    "\n",
    "- ステップ 3 :$\\frac{1}{2}\\left[\\ket{3}+\\ket{7}+\\ket{11}+\\ket{15}\\right]$\n",
    "\n",
    "となります。次に、測定用ビットに逆量子フーリエ変換$\\rm{QFT}^\\dagger$を適用します。逆量子フーリエ変換はある状態$\\ket{j}$を$\\ket{j} \\to \\frac{1}{\\sqrt{N}}\\sum_{k=0}^{N-1}e^{\\frac{-2\\pi ijk}{N}}\\ket{k}$に変換するので、\n",
    "\n",
    "- ステップ 4 :\n",
    "\n",
    "$$\n",
    "\\begin{aligned}\n",
    "&\\frac{1}{2}QFT^\\dagger\\left[\\ket{3}+\\ket{7}+\\ket{11}+\\ket{15}\\right]\\\\\n",
    "=&\\frac{1}{2}\\frac1{\\sqrt{2^4}}\\sum_{k=0}^{2^4-1}\\left[e^{\\frac{-2\\pi i\\cdot3k}{2^4}}+e^{\\frac{-2\\pi i\\cdot7k}{2^4}}+e^{\\frac{-2\\pi i\\cdot11k}{2^4}}+e^{\\frac{-2\\pi i\\cdot15k}{2^4}}\\right]\\ket{k}\\\\\n",
    "=&\\frac{1}{8}\\left[4\\ket{0}+4i\\ket{4}-4\\ket{8}-4i\\ket{12}\\right]\n",
    "\\end{aligned}\n",
    "$$\n",
    "\n",
    "となります。ここで、状態として$\\ket{0}$, $\\ket{4}$, $\\ket{8}$, $\\ket{12}$しか出てこないところが鍵で、量子状態の干渉を使って不要な答えの振幅を小さくしているわけです。\n",
    "\n",
    "- ステップ 5 :最後に測定用ビットを測定すると、0, 4, 8, 12がそれぞれ1/4の確率で得られます。\n",
    "\n",
    "ステップ 2で$7^x \\bmod 15$を計算しているので想像がつきますが、すでに繰り返しの兆候が現れていますね。\n",
    "\n",
    "(shor_measurement)=\n",
    "### 測定結果の解析\n",
    "\n",
    "この測定結果の意味を考察してみましょう。ショアのアルゴリズムの{ref}`回路 <shor_circuit_fig>`と$n$量子ビット位相推定の{ref}`回路 <qpe_nqubit_fig>`の類似性から、ここではこの2つが同一の働きをするものと仮定してみます（以下で補足説明します）。その場合、測定用レジスタは固有値$e^{2\\pi i\\theta}$の位相$\\theta$を$2^4=16$倍したものになっているはずです。つまり、例えば測定用レジスタを測定した結果が仮に4の場合、位相$\\theta$は$\\theta=4/16=0.25$です。この位相の値は何を意味しているのでしょうか？\n",
    "\n",
    "ショアのアルゴリズムの量子回路として、これまで$\\ket{w}=\\ket{0}^{\\otimes n}$を初期状態として、$U_f\\ket{x}\\ket{w}=\\ket{x}\\ket{w\\oplus f(x)}$ $(f(x) = a^x \\bmod N)$ となるオラクル$U_f$を考えてきました。この$U_f$を実装するために、以下のようなユニタリー演算子$U$を考えてみます。\n",
    "\n",
    "$$\n",
    "U\\ket{m} =\n",
    "\\begin{cases}\n",
    "\\ket{am \\bmod N)} & 0 \\leq m \\leq N - 1 \\\\\n",
    "\\ket{m} & N \\leq m \\leq 2^n-1\n",
    "\\end{cases}\n",
    "$$\n",
    "\n",
    "このユニタリーは、\n",
    "\n",
    "$$\n",
    "U^{x}\\ket{1} = U^{x-1} \\ket{a \\bmod N} = U^{x-2} \\ket{a^2 \\bmod N} = \\cdots = \\ket{a^x \\bmod N}\n",
    "$$\n",
    "\n",
    "を満たすので、$w=0$とした$U_f\\ket{x}\\ket{0}$を$U$を使って実装することができます。\n",
    "\n",
    "$$\n",
    "\\begin{aligned}\n",
    "U_f\\ket{x}\\ket{0}&=\\ket{x}\\ket{0 \\oplus (a^x \\bmod N)}\\\\\n",
    "&=\\ket{x}\\ket{a^x \\bmod N}\\\\\n",
    "&=U^x\\ket{x}\\ket{1}\n",
    "\\end{aligned}\n",
    "$$\n",
    "\n",
    "ここで、天下り的ではありますが\n",
    "\n",
    "$$\n",
    "\\ket{\\psi_s} \\equiv \\frac{1}{\\sqrt{r}}\\sum_{k=0}^{r-1}e^{-2\\pi isk/r}\\ket{a^k \\bmod N}\n",
    "$$\n",
    "\n",
    "（$s$は$0<s<r-1$の整数）となるベクトル$\\ket{\\psi_s}$を定義すると、\n",
    "\n",
    "$$\n",
    "\\frac{1}{\\sqrt{r}}\\sum_{s=0}^{r-1}\\ket{\\psi_s}=\\ket{1}\n",
    "$$\n",
    "\n",
    "が導けると同時に、$\\ket{\\psi_s}$は$U$の固有ベクトルであり、固有値$e^{2\\pi is/r}$を持つことが分かります。\n",
    "\n",
    "$$\n",
    "U\\ket{\\psi_s}=e^{2\\pi is/r}\\ket{\\psi_s}\n",
    "$$\n",
    "\n",
    "つまり、ショアのアルゴリズムのオラクル$U_f$による操作は、固有値$e^{2\\pi is/r}$を持つ固有ベクトル$\\ket{\\psi_s}$の重ね合わせ状態$\\ket{1}$にユニタリー$U$を$x$回適用することと同等なわけです。量子位相推定の{ref}`回路 <qpe_nqubit_fig>`と比較すれば、やっていることはほぼ同じですね。その後に逆QFTを掛けるということまで考えれば、まさにQPEそのものの操作を行っていることに対応しています。\n",
    "\n",
    "QPEで得られる位相は何だったかを思い出すと、それは$U\\ket{\\psi}=e^{2\\pi i\\theta}\\ket{\\psi}$なるユニタリー演算$U$と固有ベクトル$\\ket{\\psi}$に対する固有値$e^{2\\pi i\\theta}$に含まれる位相$\\theta$でした。以上のことから、ショアのアルゴリズムから得られる位相$\\theta$は、$s/r$（の整数倍）の意味を持つことも分かるでしょう。"
   ]
  },
  {
   "cell_type": "markdown",
   "id": "529c9c56",
   "metadata": {},
   "source": [
    "(continued_fractions)=\n",
    "### 連分数展開\n",
    "以上の考察から、測定の結果得られる位相は$\\theta \\approx s/r$であることが分かりました。この結果から位数$r$を求めるために**連分数展開**という手法を使いますが、詳細は他の文献に委ねます（{cite}`nielsen_chuang_qft_app`にもp.230に記述があります）。この手法を使うことで、$\\theta$に最も近い分数として$s/r$を求めることができます。\n",
    "\n",
    "例えば$\\theta=0.25$の場合、$r=4$が得られます（頻度は小さいですが$r=8$が得られる可能性もあります）。ここまでできれば、あとは古典計算のみで求める素因数に分解することができますね（{ref}`ここ <factoring_example>`を参照）。"
   ]
  },
  {
   "cell_type": "markdown",
   "id": "ce6dd3bf",
   "metadata": {},
   "source": [
    "(modular_exponentiation)=\n",
    "### 剰余指数化\n",
    "オラクル$U_f$による操作$U_f\\ket{x}\\ket{w}=\\ket{x}\\ket{w\\oplus f(x)}$とはどういうものか、もう少し考えてみましょう。$f(x) = a^x \\bmod N$は、$x$の2進数表記\n",
    "\n",
    "$$\n",
    "x=(x_{n-1}x_{n-2}\\cdots x_0)_2 = 2^{n-1}x_{n-1}+2^{n-2}x_{n-2}+\\cdots+2^0x_0\n",
    "$$\n",
    "\n",
    "を使って\n",
    "\n",
    "$$\n",
    "\\begin{aligned}\n",
    "f(x) & = a^x \\bmod N \\\\\n",
    " & = a^{2^{n-1}x_{n-1}+2^{n-2}x_{n-2}+\\cdots+2^0x_0} \\bmod N \\\\\n",
    " & = a^{2^{n-1}x_{n-1}}a^{2^{n-2}x_{n-2}}\\cdots a^{2^0x_0} \\bmod N\n",
    "\\end{aligned}\n",
    "$$\n",
    "\n",
    "と書くことができます。つまり、この関数は以下のようなユニタリー演算を考えれば実装することができます。\n",
    "\n",
    "```{image} figs/shor_oracle.png\n",
    ":alt: shor_oracle\n",
    ":class: bg-primary mb-1\n",
    ":width: 600px\n",
    ":align: center\n",
    "```\n",
    "\n",
    "$n$量子ビットQPEの{ref}`回路 <qpe_nqubit_fig>`と比較すれば、このユニタリーはQPEの$U^{2^x}$演算を実装しているものだと分かるでしょう。このように、第2レジスタ（上図では一番下のワイヤに繋がるレジスタ）の内容に、第1レジスタの各ビットで制御された$a^x \\bmod N$を適用してQPEの$U^{2^x}$演算を実現する手法を、**剰余指数化**と呼びます。\n",
    "\n",
    "(shor_imp)=\n",
    "## アルゴリズムの実装\n",
    "ここから、ショアのアルゴリズムを実装していきます。"
   ]
  },
  {
   "cell_type": "code",
   "execution_count": 8,
   "id": "4d1c8cbc",
   "metadata": {
    "jupyter": {
     "outputs_hidden": false
    },
    "pycharm": {
     "name": "#%%\n"
    }
   },
   "outputs": [],
   "source": [
    "from numpy.random import randint\n",
    "from fractions import Fraction"
   ]
  },
  {
   "cell_type": "markdown",
   "id": "e959a681",
   "metadata": {
    "pycharm": {
     "name": "#%% md\n"
    }
   },
   "source": [
    "(shor_imp_period)=\n",
    "### 位数の発見\n",
    "\n",
    "まず最初に、繰り返しの位数（周期）を発見するアルゴリズムを見てみます。\n",
    "\n",
    "$N$を正の整数として、関数$f(x) = a^x \\bmod N$の振る舞いを考えます。[ショアのアルゴリズム](#shor_algo_fig)に立ち返ってみると、\n",
    "ここで$a$は$N$と互いに素な$N$未満の正の整数で、位数$r$は$\\modequiv{a^r}{1}{N}$を満たす非ゼロの最小の整数でした。\n",
    "以下のグラフにこの関数の例を示します。 ポイント間の線は周期性を確認するためのものです。"
   ]
  },
  {
   "cell_type": "code",
   "execution_count": 9,
   "id": "c417078e",
   "metadata": {
    "jupyter": {
     "outputs_hidden": false
    },
    "pycharm": {
     "name": "#%%\n"
    }
   },
   "outputs": [
    {
     "data": {
      "image/png": "[encoded data removed]",
      "text/plain": [
       "<Figure size 432x288 with 1 Axes>"
      ]
     },
     "metadata": {
      "filenames": {
       "image/png": "/qc-workbook/build/ja/_build/jupyter_execute/shor_25_0.png"
      },
      "needs_background": "light"
     },
     "output_type": "display_data"
    }
   ],
   "source": [
    "N = 35\n",
    "a = 3\n",
    "\n",
    "# プロットするデータを計算する\n",
    "xvals = np.arange(35)\n",
    "yvals = [np.mod(a**x, N) for x in xvals]\n",
    "\n",
    "# matplotlibを使って描画\n",
    "fig, ax = plt.subplots()\n",
    "ax.plot(xvals, yvals, linewidth=1, linestyle='dotted', marker='x')\n",
    "ax.set(xlabel='$x$', ylabel='$%i^x$ mod $%i$' % (a, N),\n",
    "       title=\"Example of Periodic Function in Shor's Algorithm\")\n",
    "try: # グラフ上にrをプロット\n",
    "    r = yvals[1:].index(1) + 1\n",
    "    plt.annotate(text='', xy=(0,1), xytext=(r,1), arrowprops=dict(arrowstyle='<->'))\n",
    "    plt.annotate(text='$r=%i$' % r, xy=(r/3,1.5))\n",
    "except:\n",
    "    print('Could not find period, check a < N and have no common factors.')"
   ]
  },
  {
   "cell_type": "markdown",
   "id": "1344981c",
   "metadata": {},
   "source": [
    "(shor_imp_oracle)=\n",
    "### オラクルの実装\n",
    "以下では、$N=15$を素因数に分解してみます。上で説明したように、$U\\ket{m}=\\ket{am \\bmod N}$となるユニタリー$U$を$x$回繰り返すことで、オラクル$U_f$を実装します。\n",
    "\n",
    "練習問題として、$U\\ket{m}=\\ket{am \\bmod 15}$を実行する関数`U_amod15`を以下に実装してください（`U_amod15`は制御ゲートですが、標的ビットのユニタリー演算に対応する部分を書いてみてください）。"
   ]
  },
  {
   "cell_type": "code",
   "execution_count": 10,
   "id": "30b230c0",
   "metadata": {
    "jupyter": {
     "outputs_hidden": false
    },
    "pycharm": {
     "name": "#%%\n"
    }
   },
   "outputs": [],
   "source": [
    "def c_amod15(a, power):\n",
    "    \"\"\"mod 15による制御ゲート\"\"\"\n",
    "    if a not in [2,4,7,8,11,13,14]:\n",
    "        raise ValueError(\"'a' must be 2,4,7,8,11,13 or 14\")\n",
    "\n",
    "    U = QuantumCircuit(4)\n",
    "\n",
    "    ##################\n",
    "    ### EDIT BELOW ###\n",
    "    ##################\n",
    "\n",
    "    #U.?\n",
    "\n",
    "    ##################\n",
    "    ### EDIT ABOVE ###\n",
    "    ##################\n",
    "\n",
    "    # 以下で制御ゲートに変換\n",
    "    U = U.to_gate()\n",
    "    U.name = f\"{a}^{power} mod 15\"\n",
    "    c_U = U.control()\n",
    "    return c_U"
   ]
  },
  {
   "cell_type": "markdown",
   "id": "7a2ed3f6",
   "metadata": {
    "pycharm": {
     "name": "#%% md\n"
    }
   },
   "source": [
    "`power`は繰り返しの回数を表します。\n",
    "\n",
    "(shor_imp_circuit)=\n",
    "### 回路全体の実装\n",
    "\n",
    "測定用ビットとして、8量子ビットを使います。"
   ]
  },
  {
   "cell_type": "code",
   "execution_count": 11,
   "id": "701ec4f3",
   "metadata": {
    "jupyter": {
     "outputs_hidden": false
    },
    "pycharm": {
     "name": "#%%\n"
    }
   },
   "outputs": [],
   "source": [
    "# 測定用ビットの数\n",
    "n_count = 8\n",
    "\n",
    "a = 7"
   ]
  },
  {
   "cell_type": "markdown",
   "id": "f1b8c89c",
   "metadata": {},
   "source": [
    "次に、逆QFTの回路を考えます。この{doc}`実習 <circuit_from_scratch>`の問題7を参考、QFTの**逆回路**`qft_dagger(n)`を書いてみてください。引数の$n$は測定用ビットの数`n_count`が入ることに注意します。"
   ]
  },
  {
   "cell_type": "code",
   "execution_count": 12,
   "id": "ef1f03a6",
   "metadata": {
    "jupyter": {
     "outputs_hidden": false
    },
    "pycharm": {
     "name": "#%%\n"
    }
   },
   "outputs": [],
   "source": [
    "def qft_dagger(n):\n",
    "    \"\"\"n量子ビットの逆量子フーリエ変換回路を書く\"\"\"\n",
    "    qc = QuantumCircuit(n)\n",
    "\n",
    "    ##################\n",
    "    ### EDIT BELOW ###\n",
    "    ##################\n",
    "\n",
    "    #qc.?\n",
    "\n",
    "    ##################\n",
    "    ### EDIT ABOVE ###\n",
    "    ##################\n",
    "\n",
    "    qc.name = \"QFT^dagger\"\n",
    "    return qc"
   ]
  },
  {
   "cell_type": "code",
   "execution_count": 13,
   "id": "10893fcf",
   "metadata": {
    "jupyter": {
     "outputs_hidden": false
    },
    "pycharm": {
     "name": "#%%\n"
    }
   },
   "outputs": [
    {
     "data": {
      "image/png": "[encoded data removed]",
      "text/plain": [
       "<Figure size 1604.58x1649.48 with 1 Axes>"
      ]
     },
     "execution_count": 13,
     "metadata": {
      "filenames": {
       "image/png": "/qc-workbook/build/ja/_build/jupyter_execute/shor_32_0.png"
      }
     },
     "output_type": "execute_result"
    }
   ],
   "source": [
    "# n_count個の測定用量子ビットと、Uを操作するための4つの作業用量子ビットで量子回路を作る\n",
    "qc = QuantumCircuit(n_count+4, n_count)\n",
    "\n",
    "# 測定用量子ビットにHゲートをかけて初期化\n",
    "qc.h(list(range(n_count)))\n",
    "\n",
    "# 作業用量子レジスタを|1>の状態にする\n",
    "qc.x(n_count)\n",
    "\n",
    "# 制御Uゲートを適用\n",
    "for q in range(n_count):\n",
    "    qc.append(c_amod15(a, 2**q), [q]+[i+n_count for i in range(4)])\n",
    "\n",
    "# 逆QFTを適用\n",
    "qc.append(qft_dagger(n_count), list(range(n_count)))\n",
    "\n",
    "# 回路を測定\n",
    "qc.measure(list(range(n_count)), list(range(n_count)))\n",
    "qc.draw('mpl')"
   ]
  },
  {
   "cell_type": "markdown",
   "id": "a2ff9977",
   "metadata": {},
   "source": [
    "シミュレータで実行して、結果を確認してみます。"
   ]
  },
  {
   "cell_type": "code",
   "execution_count": 14,
   "id": "7654d343",
   "metadata": {
    "jupyter": {
     "outputs_hidden": false
    },
    "pycharm": {
     "name": "#%%\n"
    }
   },
   "outputs": [
    {
     "data": {
      "image/png": "[encoded data removed]",
      "text/plain": [
       "<Figure size 432x288 with 1 Axes>"
      ]
     },
     "metadata": {
      "filenames": {
       "image/png": "/qc-workbook/build/ja/_build/jupyter_execute/shor_34_0.png"
      },
      "needs_background": "light"
     },
     "output_type": "display_data"
    }
   ],
   "source": [
    "qc = transpile(qc, backend=simulator)\n",
    "results = simulator.run(qc, shots=2048).result()\n",
    "answer = results.get_counts()\n",
    "\n",
    "show_distribution(answer)"
   ]
  },
  {
   "cell_type": "markdown",
   "id": "e1f7f5fc",
   "metadata": {
    "pycharm": {
     "name": "#%% md\n"
    }
   },
   "source": [
    "(shor_imp_ana)=\n",
    "### 計算結果の解析\n",
    "出力された結果から、位相を求めてみます。"
   ]
  },
  {
   "cell_type": "code",
   "execution_count": 15,
   "id": "0b43979e",
   "metadata": {
    "jupyter": {
     "outputs_hidden": false
    },
    "pycharm": {
     "name": "#%%\n"
    }
   },
   "outputs": [
    {
     "name": "stdout",
     "output_type": "stream",
     "text": [
      "Register Output              Phase\n",
      "----------------------------------\n",
      "214             214/256 = 0.84    \n",
      "19              19/256 = 0.07     \n",
      "100             100/256 = 0.39    \n",
      "73              73/256 = 0.29     \n",
      "10              10/256 = 0.04     \n",
      "196             196/256 = 0.77    \n",
      "67              67/256 = 0.26     \n",
      "121             121/256 = 0.47    \n",
      "13              13/256 = 0.05     \n",
      "191             191/256 = 0.75    \n",
      "183             183/256 = 0.71    \n",
      "115             115/256 = 0.45    \n",
      "153             153/256 = 0.60    \n",
      "98              98/256 = 0.38     \n",
      "1               1/256 = 0.00      \n",
      "119             119/256 = 0.46    \n",
      "102             102/256 = 0.40    \n",
      "194             194/256 = 0.76    \n",
      "251             251/256 = 0.98    \n",
      "173             173/256 = 0.68    \n",
      "152             152/256 = 0.59    \n",
      "123             123/256 = 0.48    \n",
      "62              62/256 = 0.24     \n",
      "91              91/256 = 0.36     \n",
      "14              14/256 = 0.05     \n",
      "242             242/256 = 0.95    \n",
      "116             116/256 = 0.45    \n",
      "35              35/256 = 0.14     \n",
      "50              50/256 = 0.20     \n",
      "207             207/256 = 0.81    \n",
      "254             254/256 = 0.99    \n",
      "58              58/256 = 0.23     \n",
      "72              72/256 = 0.28     \n",
      "56              56/256 = 0.22     \n",
      "221             221/256 = 0.86    \n",
      "96              96/256 = 0.38     \n",
      "63              63/256 = 0.25     \n",
      "176             176/256 = 0.69    \n",
      "217             217/256 = 0.85    \n",
      "7               7/256 = 0.03      \n",
      "151             151/256 = 0.59    \n",
      "203             203/256 = 0.79    \n",
      "2               2/256 = 0.01      \n",
      "224             224/256 = 0.88    \n",
      "246             246/256 = 0.96    \n",
      "49              49/256 = 0.19     \n",
      "124             124/256 = 0.48    \n",
      "128             128/256 = 0.50    \n",
      "249             249/256 = 0.97    \n",
      "245             245/256 = 0.96    \n",
      "189             189/256 = 0.74    \n",
      "147             147/256 = 0.57    \n",
      "69              69/256 = 0.27     \n",
      "177             177/256 = 0.69    \n",
      "158             158/256 = 0.62    \n",
      "200             200/256 = 0.78    \n",
      "48              48/256 = 0.19     \n",
      "36              36/256 = 0.14     \n",
      "94              94/256 = 0.37     \n",
      "126             126/256 = 0.49    \n",
      "113             113/256 = 0.44    \n",
      "171             171/256 = 0.67    \n",
      "211             211/256 = 0.82    \n",
      "55              55/256 = 0.21     \n",
      "199             199/256 = 0.78    \n",
      "15              15/256 = 0.06     \n",
      "240             240/256 = 0.94    \n",
      "143             143/256 = 0.56    \n",
      "11              11/256 = 0.04     \n",
      "228             228/256 = 0.89    \n",
      "157             157/256 = 0.61    \n",
      "79              79/256 = 0.31     \n",
      "235             235/256 = 0.92    \n",
      "77              77/256 = 0.30     \n",
      "61              61/256 = 0.24     \n",
      "250             250/256 = 0.98    \n",
      "114             114/256 = 0.45    \n",
      "52              52/256 = 0.20     \n",
      "9               9/256 = 0.04      \n",
      "241             241/256 = 0.94    \n",
      "236             236/256 = 0.92    \n",
      "180             180/256 = 0.70    \n",
      "170             170/256 = 0.66    \n",
      "74              74/256 = 0.29     \n",
      "122             122/256 = 0.48    \n",
      "184             184/256 = 0.72    \n",
      "205             205/256 = 0.80    \n",
      "156             156/256 = 0.61    \n",
      "233             233/256 = 0.91    \n",
      "136             136/256 = 0.53    \n",
      "32              32/256 = 0.12     \n",
      "127             127/256 = 0.50    \n",
      "131             131/256 = 0.51    \n",
      "65              65/256 = 0.25     \n",
      "165             165/256 = 0.64    \n",
      "29              29/256 = 0.11     \n",
      "40              40/256 = 0.16     \n",
      "51              51/256 = 0.20     \n",
      "80              80/256 = 0.31     \n",
      "231             231/256 = 0.90    \n",
      "248             248/256 = 0.97    \n",
      "39              39/256 = 0.15     \n",
      "112             112/256 = 0.44    \n",
      "195             195/256 = 0.76    \n",
      "107             107/256 = 0.42    \n",
      "33              33/256 = 0.13     \n",
      "222             222/256 = 0.87    \n",
      "175             175/256 = 0.68    \n",
      "104             104/256 = 0.41    \n",
      "204             204/256 = 0.80    \n",
      "37              37/256 = 0.14     \n",
      "193             193/256 = 0.75    \n",
      "71              71/256 = 0.28     \n",
      "84              84/256 = 0.33     \n",
      "179             179/256 = 0.70    \n",
      "47              47/256 = 0.18     \n",
      "109             109/256 = 0.43    \n",
      "12              12/256 = 0.05     \n",
      "244             244/256 = 0.95    \n",
      "140             140/256 = 0.55    \n",
      "18              18/256 = 0.07     \n",
      "93              93/256 = 0.36     \n",
      "81              81/256 = 0.32     \n",
      "60              60/256 = 0.23     \n",
      "23              23/256 = 0.09     \n",
      "66              66/256 = 0.26     \n",
      "46              46/256 = 0.18     \n",
      "105             105/256 = 0.41    \n",
      "53              53/256 = 0.21     \n",
      "226             226/256 = 0.88    \n",
      "161             161/256 = 0.63    \n",
      "186             186/256 = 0.73    \n",
      "134             134/256 = 0.52    \n",
      "237             237/256 = 0.93    \n",
      "30              30/256 = 0.12     \n",
      "148             148/256 = 0.58    \n",
      "230             230/256 = 0.90    \n",
      "239             239/256 = 0.93    \n",
      "215             215/256 = 0.84    \n",
      "111             111/256 = 0.43    \n",
      "162             162/256 = 0.63    \n",
      "146             146/256 = 0.57    \n",
      "28              28/256 = 0.11     \n",
      "103             103/256 = 0.40    \n",
      "243             243/256 = 0.95    \n",
      "89              89/256 = 0.35     \n",
      "238             238/256 = 0.93    \n",
      "110             110/256 = 0.43    \n",
      "227             227/256 = 0.89    \n",
      "192             192/256 = 0.75    \n",
      "168             168/256 = 0.66    \n",
      "24              24/256 = 0.09     \n",
      "76              76/256 = 0.30     \n",
      "213             213/256 = 0.83    \n",
      "150             150/256 = 0.59    \n",
      "149             149/256 = 0.58    \n",
      "101             101/256 = 0.39    \n",
      "219             219/256 = 0.86    \n",
      "167             167/256 = 0.65    \n",
      "232             232/256 = 0.91    \n",
      "234             234/256 = 0.91    \n",
      "133             133/256 = 0.52    \n",
      "44              44/256 = 0.17     \n",
      "70              70/256 = 0.27     \n",
      "108             108/256 = 0.42    \n",
      "154             154/256 = 0.60    \n",
      "188             188/256 = 0.73    \n",
      "247             247/256 = 0.96    \n",
      "202             202/256 = 0.79    \n",
      "42              42/256 = 0.16     \n",
      "144             144/256 = 0.56    \n",
      "27              27/256 = 0.11     \n",
      "99              99/256 = 0.39     \n",
      "34              34/256 = 0.13     \n",
      "129             129/256 = 0.50    \n",
      "137             137/256 = 0.54    \n",
      "87              87/256 = 0.34     \n",
      "198             198/256 = 0.77    \n",
      "22              22/256 = 0.09     \n",
      "4               4/256 = 0.02      \n",
      "182             182/256 = 0.71    \n",
      "117             117/256 = 0.46    \n",
      "160             160/256 = 0.62    \n",
      "225             225/256 = 0.88    \n",
      "139             139/256 = 0.54    \n",
      "142             142/256 = 0.55    \n",
      "178             178/256 = 0.70    \n",
      "3               3/256 = 0.01      \n",
      "163             163/256 = 0.64    \n",
      "38              38/256 = 0.15     \n",
      "5               5/256 = 0.02      \n",
      "75              75/256 = 0.29     \n",
      "0               0/256 = 0.00      \n",
      "145             145/256 = 0.57    \n",
      "57              57/256 = 0.22     \n",
      "174             174/256 = 0.68    \n",
      "88              88/256 = 0.34     \n",
      "181             181/256 = 0.71    \n",
      "220             220/256 = 0.86    \n",
      "64              64/256 = 0.25     \n",
      "21              21/256 = 0.08     \n",
      "229             229/256 = 0.89    \n",
      "6               6/256 = 0.02      \n",
      "26              26/256 = 0.10     \n",
      "41              41/256 = 0.16     \n",
      "166             166/256 = 0.65    \n",
      "59              59/256 = 0.23     \n",
      "125             125/256 = 0.49    \n",
      "130             130/256 = 0.51    \n",
      "8               8/256 = 0.03      \n",
      "138             138/256 = 0.54    \n",
      "25              25/256 = 0.10     \n",
      "83              83/256 = 0.32     \n",
      "164             164/256 = 0.64    \n",
      "201             201/256 = 0.79    \n",
      "118             118/256 = 0.46    \n",
      "172             172/256 = 0.67    \n",
      "95              95/256 = 0.37     \n",
      "141             141/256 = 0.55    \n",
      "218             218/256 = 0.85    \n",
      "120             120/256 = 0.47    \n",
      "190             190/256 = 0.74    \n",
      "20              20/256 = 0.08     \n",
      "223             223/256 = 0.87    \n",
      "90              90/256 = 0.35     \n",
      "255             255/256 = 1.00    \n",
      "253             253/256 = 0.99    \n",
      "43              43/256 = 0.17     \n",
      "16              16/256 = 0.06     \n",
      "132             132/256 = 0.52    \n",
      "155             155/256 = 0.61    \n",
      "82              82/256 = 0.32     \n",
      "216             216/256 = 0.84    \n",
      "54              54/256 = 0.21     \n",
      "197             197/256 = 0.77    \n",
      "187             187/256 = 0.73    \n",
      "169             169/256 = 0.66    \n",
      "185             185/256 = 0.72    \n",
      "206             206/256 = 0.80    \n",
      "85              85/256 = 0.33     \n",
      "45              45/256 = 0.18     \n",
      "86              86/256 = 0.34     \n",
      "68              68/256 = 0.27     \n",
      "106             106/256 = 0.41    \n",
      "159             159/256 = 0.62    \n",
      "208             208/256 = 0.81    \n",
      "78              78/256 = 0.30     \n",
      "209             209/256 = 0.82    \n",
      "210             210/256 = 0.82    \n",
      "92              92/256 = 0.36     \n",
      "97              97/256 = 0.38     \n",
      "135             135/256 = 0.53    \n",
      "31              31/256 = 0.12     \n",
      "212             212/256 = 0.83    \n",
      "252             252/256 = 0.98    \n",
      "17              17/256 = 0.07     \n"
     ]
    }
   ],
   "source": [
    "rows, measured_phases = [], []\n",
    "for output in answer:\n",
    "    decimal = int(output, 2)  # 10進数に変換\n",
    "    phase = decimal/(2**n_count)\n",
    "    measured_phases.append(phase)\n",
    "    # これらの値をテーブルの行に追加：\n",
    "    rows.append([f\"{decimal}\",\n",
    "                 f\"{decimal}/{2 ** n_count} = {phase:.2f}\"])\n",
    "# 結果を表示\n",
    "print('Register Output              Phase')\n",
    "print('----------------------------------')\n",
    "\n",
    "# 回路を実装できたら、以下のコードをコメントアウトして結果を確認\n",
    "for i in range(len(rows)):\n",
    "    print(f'{rows[i][0]:15s} {rows[i][1]:18s}')"
   ]
  },
  {
   "cell_type": "markdown",
   "id": "f047cff0",
   "metadata": {},
   "source": [
    "得られた位相の情報から、連分数アルゴリズムを使用して$s$と$r$を見つけることができます。Pythonの組み込みの`fractions`(分数)モジュールを使用して、小数を`Fraction`オブジェクトに変換できます。"
   ]
  },
  {
   "cell_type": "code",
   "execution_count": 16,
   "id": "4b4aef94",
   "metadata": {
    "jupyter": {
     "outputs_hidden": false
    },
    "pycharm": {
     "name": "#%%\n"
    }
   },
   "outputs": [
    {
     "name": "stdout",
     "output_type": "stream",
     "text": [
      "     Phase   Fraction     Guess for r\n",
      "-------------------------------------\n",
      "  0.835938 5/6                      6\n",
      "  0.074219 1/13                    13\n",
      "  0.390625 5/13                    13\n",
      "  0.285156 2/7                      7\n",
      "  0.039062 1/15                    15\n",
      "  0.765625 10/13                   13\n",
      "  0.261719 4/15                    15\n",
      "  0.472656 7/15                    15\n",
      "  0.050781 1/15                    15\n",
      "  0.746094 3/4                      4\n",
      "  0.714844 5/7                      7\n",
      "  0.449219 4/9                      9\n",
      "  0.597656 3/5                      5\n",
      "  0.382812 5/13                    13\n",
      "  0.003906 0/1                      1\n",
      "  0.464844 7/15                    15\n",
      "  0.398438 2/5                      5\n",
      "  0.757812 3/4                      4\n",
      "  0.980469 1/1                      1\n",
      "  0.675781 2/3                      3\n",
      "  0.593750 3/5                      5\n",
      "  0.480469 7/15                    15\n",
      "  0.242188 1/4                      4\n",
      "  0.355469 5/14                    14\n",
      "  0.054688 1/15                    15\n",
      "  0.945312 14/15                   15\n",
      "  0.453125 5/11                    11\n",
      "  0.136719 2/15                    15\n",
      "  0.195312 1/5                      5\n",
      "  0.808594 4/5                      5\n",
      "  0.992188 1/1                      1\n",
      "  0.226562 3/13                    13\n",
      "  0.281250 2/7                      7\n",
      "  0.218750 2/9                      9\n",
      "  0.863281 13/15                   15\n",
      "  0.375000 3/8                      8\n",
      "  0.246094 1/4                      4\n",
      "  0.687500 9/13                    13\n",
      "  0.847656 11/13                   13\n",
      "  0.027344 0/1                      1\n",
      "  0.589844 7/12                    12\n",
      "  0.792969 4/5                      5\n",
      "  0.007812 0/1                      1\n",
      "  0.875000 7/8                      8\n",
      "  0.960938 14/15                   15\n",
      "  0.191406 1/5                      5\n",
      "  0.484375 1/2                      2\n",
      "  0.500000 1/2                      2\n",
      "  0.972656 1/1                      1\n",
      "  0.957031 14/15                   15\n",
      "  0.738281 11/15                   15\n",
      "  0.574219 4/7                      7\n",
      "  0.269531 4/15                    15\n",
      "  0.691406 9/13                    13\n",
      "  0.617188 8/13                    13\n",
      "  0.781250 7/9                      9\n",
      "  0.187500 2/11                    11\n",
      "  0.140625 1/7                      7\n",
      "  0.367188 4/11                    11\n",
      "  0.492188 1/2                      2\n",
      "  0.441406 4/9                      9\n",
      "  0.667969 2/3                      3\n",
      "  0.824219 9/11                    11\n",
      "  0.214844 3/14                    14\n",
      "  0.777344 7/9                      9\n",
      "  0.058594 1/15                    15\n",
      "  0.937500 14/15                   15\n",
      "  0.558594 5/9                      9\n",
      "  0.042969 1/15                    15\n",
      "  0.890625 8/9                      9\n",
      "  0.613281 8/13                    13\n",
      "  0.308594 4/13                    13\n",
      "  0.917969 11/12                   12\n",
      "  0.300781 3/10                    10\n",
      "  0.238281 3/13                    13\n",
      "  0.976562 1/1                      1\n",
      "  0.445312 4/9                      9\n",
      "  0.203125 1/5                      5\n",
      "  0.035156 1/15                    15\n",
      "  0.941406 14/15                   15\n",
      "  0.921875 12/13                   13\n",
      "  0.703125 7/10                    10\n",
      "  0.664062 2/3                      3\n",
      "  0.289062 2/7                      7\n",
      "  0.476562 7/15                    15\n",
      "  0.718750 5/7                      7\n",
      "  0.800781 4/5                      5\n",
      "  0.609375 8/13                    13\n",
      "  0.910156 10/11                   11\n",
      "  0.531250 8/15                    15\n",
      "  0.125000 1/8                      8\n",
      "  0.496094 1/2                      2\n",
      "  0.511719 1/2                      2\n",
      "  0.253906 1/4                      4\n",
      "  0.644531 9/14                    14\n",
      "  0.113281 1/9                      9\n",
      "  0.156250 2/13                    13\n",
      "  0.199219 1/5                      5\n",
      "  0.312500 4/13                    13\n",
      "  0.902344 9/10                    10\n",
      "  0.968750 1/1                      1\n",
      "  0.152344 2/13                    13\n",
      "  0.437500 4/9                      9\n",
      "  0.761719 10/13                   13\n",
      "  0.417969 5/12                    12\n",
      "  0.128906 1/8                      8\n",
      "  0.867188 13/15                   15\n",
      "  0.683594 9/13                    13\n",
      "  0.406250 2/5                      5\n",
      "  0.796875 4/5                      5\n",
      "  0.144531 1/7                      7\n",
      "  0.753906 3/4                      4\n",
      "  0.277344 3/11                    11\n",
      "  0.328125 1/3                      3\n",
      "  0.699219 7/10                    10\n",
      "  0.183594 2/11                    11\n",
      "  0.425781 3/7                      7\n",
      "  0.046875 1/15                    15\n",
      "  0.953125 14/15                   15\n",
      "  0.546875 6/11                    11\n",
      "  0.070312 1/14                    14\n",
      "  0.363281 4/11                    11\n",
      "  0.316406 4/13                    13\n",
      "  0.234375 3/13                    13\n",
      "  0.089844 1/11                    11\n",
      "  0.257812 1/4                      4\n",
      "  0.179688 2/11                    11\n",
      "  0.410156 5/12                    12\n",
      "  0.207031 1/5                      5\n",
      "  0.882812 8/9                      9\n",
      "  0.628906 5/8                      8\n",
      "  0.726562 8/11                    11\n",
      "  0.523438 8/15                    15\n",
      "  0.925781 12/13                   13\n",
      "  0.117188 1/9                      9\n",
      "  0.578125 7/12                    12\n",
      "  0.898438 9/10                    10\n",
      "  0.933594 14/15                   15\n",
      "  0.839844 11/13                   13\n",
      "  0.433594 3/7                      7\n",
      "  0.632812 7/11                    11\n",
      "  0.570312 4/7                      7\n",
      "  0.109375 1/9                      9\n",
      "  0.402344 2/5                      5\n",
      "  0.949219 14/15                   15\n",
      "  0.347656 5/14                    14\n",
      "  0.929688 13/14                   14\n",
      "  0.429688 3/7                      7\n",
      "  0.886719 8/9                      9\n",
      "  0.750000 3/4                      4\n",
      "  0.656250 2/3                      3\n",
      "  0.093750 1/11                    11\n",
      "  0.296875 3/10                    10\n",
      "  0.832031 5/6                      6\n",
      "  0.585938 7/12                    12\n",
      "  0.582031 7/12                    12\n",
      "  0.394531 2/5                      5\n",
      "  0.855469 6/7                      7\n",
      "  0.652344 9/14                    14\n",
      "  0.906250 10/11                   11\n",
      "  0.914062 11/12                   12\n",
      "  0.519531 8/15                    15\n",
      "  0.171875 1/6                      6\n",
      "  0.273438 3/11                    11\n",
      "  0.421875 5/12                    12\n",
      "  0.601562 3/5                      5\n",
      "  0.734375 11/15                   15\n",
      "  0.964844 14/15                   15\n",
      "  0.789062 11/14                   14\n",
      "  0.164062 1/6                      6\n",
      "  0.562500 5/9                      9\n",
      "  0.105469 1/10                    10\n",
      "  0.386719 5/13                    13\n",
      "  0.132812 2/15                    15\n",
      "  0.503906 1/2                      2\n",
      "  0.535156 8/15                    15\n",
      "  0.339844 1/3                      3\n",
      "  0.773438 10/13                   13\n",
      "  0.085938 1/12                    12\n",
      "  0.015625 0/1                      1\n",
      "  0.710938 5/7                      7\n",
      "  0.457031 5/11                    11\n",
      "  0.625000 5/8                      8\n",
      "  0.878906 7/8                      8\n",
      "  0.542969 6/11                    11\n",
      "  0.554688 5/9                      9\n",
      "  0.695312 9/13                    13\n",
      "  0.011719 0/1                      1\n",
      "  0.636719 7/11                    11\n",
      "  0.148438 2/13                    13\n",
      "  0.019531 0/1                      1\n",
      "  0.292969 3/10                    10\n",
      "  0.000000 0/1                      1\n",
      "  0.566406 4/7                      7\n",
      "  0.222656 2/9                      9\n",
      "  0.679688 9/13                    13\n",
      "  0.343750 1/3                      3\n",
      "  0.707031 7/10                    10\n",
      "  0.859375 6/7                      7\n",
      "  0.250000 1/4                      4\n",
      "  0.082031 1/12                    12\n",
      "  0.894531 9/10                    10\n",
      "  0.023438 0/1                      1\n",
      "  0.101562 1/10                    10\n",
      "  0.160156 2/13                    13\n",
      "  0.648438 9/14                    14\n",
      "  0.230469 3/13                    13\n",
      "  0.488281 1/2                      2\n",
      "  0.507812 1/2                      2\n",
      "  0.031250 0/1                      1\n",
      "  0.539062 7/13                    13\n",
      "  0.097656 1/10                    10\n",
      "  0.324219 1/3                      3\n",
      "  0.640625 9/14                    14\n",
      "  0.785156 11/14                   14\n",
      "  0.460938 6/13                    13\n",
      "  0.671875 2/3                      3\n",
      "  0.371094 3/8                      8\n",
      "  0.550781 5/9                      9\n",
      "  0.851562 11/13                   13\n",
      "  0.468750 7/15                    15\n",
      "  0.742188 3/4                      4\n",
      "  0.078125 1/13                    13\n",
      "  0.871094 7/8                      8\n",
      "  0.351562 5/14                    14\n",
      "  0.996094 1/1                      1\n",
      "  0.988281 1/1                      1\n",
      "  0.167969 1/6                      6\n",
      "  0.062500 1/15                    15\n",
      "  0.515625 1/2                      2\n",
      "  0.605469 3/5                      5\n",
      "  0.320312 4/13                    13\n",
      "  0.843750 11/13                   13\n",
      "  0.210938 3/14                    14\n",
      "  0.769531 10/13                   13\n",
      "  0.730469 11/15                   15\n",
      "  0.660156 2/3                      3\n",
      "  0.722656 8/11                    11\n",
      "  0.804688 4/5                      5\n",
      "  0.332031 1/3                      3\n",
      "  0.175781 2/11                    11\n",
      "  0.335938 1/3                      3\n",
      "  0.265625 4/15                    15\n",
      "  0.414062 5/12                    12\n",
      "  0.621094 5/8                      8\n",
      "  0.812500 9/11                    11\n",
      "  0.304688 4/13                    13\n",
      "  0.816406 9/11                    11\n",
      "  0.820312 9/11                    11\n",
      "  0.359375 5/14                    14\n",
      "  0.378906 3/8                      8\n",
      "  0.527344 8/15                    15\n",
      "  0.121094 1/8                      8\n",
      "  0.828125 5/6                      6\n",
      "  0.984375 1/1                      1\n",
      "  0.066406 1/15                    15\n"
     ]
    }
   ],
   "source": [
    "rows = []\n",
    "for phase in measured_phases:\n",
    "    frac = Fraction(phase).limit_denominator(15)\n",
    "    rows.append([phase, f\"{frac.numerator}/{frac.denominator}\", frac.denominator])\n",
    "\n",
    "# 結果を表示\n",
    "print('     Phase   Fraction     Guess for r')\n",
    "print('-------------------------------------')\n",
    "\n",
    "# 回路を実装できたら、以下のコードをコメントアウトして結果を確認\n",
    "for i in range(len(rows)):\n",
    "    print(f'{rows[i][0]:10f} {rows[i][1]:10s} {rows[i][2]:15d}')"
   ]
  },
  {
   "cell_type": "markdown",
   "id": "ca88f78e",
   "metadata": {},
   "source": [
    "`limit_denominator`メソッドを使って、分母が特定の値（ここでは15）を下回る分数で、最も位相の値に近いものを得ています。\n",
    "\n",
    "測定された結果のうち、2つ（64と192）が正しい答えである$r=4$を与えたことが分かります。"
   ]
  },
  {
   "cell_type": "markdown",
   "id": "b05be6f7",
   "metadata": {},
   "source": [
    "## 参考文献\n",
    "\n",
    "```{bibliography}\n",
    ":filter: docname in docnames\n",
    "```"
   ]
  }
 ],
 "metadata": {
  "jupytext": {
   "notebook_metadata_filter": "all",
   "text_representation": {
    "extension": ".md",
    "format_name": "myst",
    "format_version": 0.13,
    "jupytext_version": "1.11.5"
   }
  },
  "kernelspec": {
   "display_name": "Python 3 (ipykernel)",
   "language": "python",
   "name": "python3"
  },
  "language_info": {
   "codemirror_mode": {
    "name": "ipython",
    "version": 3
   },
   "file_extension": ".py",
   "mimetype": "text/x-python",
   "name": "python",
   "nbconvert_exporter": "python",
   "pygments_lexer": "ipython3",
   "version": "3.8.10"
  },
  "source_map": [
   25,
   29,
   51,
   63,
   91,
   135,
   144,
   165,
   169,
   196,
   200,
   232,
   239,
   273,
   282,
   289,
   310,
   324,
   336,
   361,
   382,
   499,
   507,
   542,
   555,
   566,
   593,
   601,
   634,
   643,
   656,
   660,
   691,
   719,
   723,
   739,
   745,
   769,
   773,
   794,
   800
  ]
 },
 "nbformat": 4,
 "nbformat_minor": 5
}