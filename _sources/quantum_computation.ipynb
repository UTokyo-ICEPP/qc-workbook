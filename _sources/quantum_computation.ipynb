{
 "cells": [
  {
   "cell_type": "markdown",
   "id": "c9c6646e",
   "metadata": {},
   "source": [
    "# 【課題】アダマールテスト\n",
    "\n",
    "```{contents} 目次\n",
    "---\n",
    "local: true\n",
    "---\n",
    "```\n",
    "\n",
    "$\\newcommand{\\ket}[1]{|#1\\rangle}$\n",
    "$\\newcommand{\\braket}[2]{\\langle #1 | #2 \\rangle}$"
   ]
  },
  {
   "cell_type": "code",
   "execution_count": null,
   "id": "f00a5a68",
   "metadata": {
    "tags": [
     "remove-output"
    ]
   },
   "outputs": [],
   "source": [
    "# まずは全てインポート\n",
    "import numpy as np\n",
    "import matplotlib.pyplot as plt\n",
    "from qiskit import QuantumRegister, ClassicalRegister, QuantumCircuit, transpile\n",
    "from qiskit_aer import AerSimulator\n",
    "from qiskit.visualization import plot_histogram\n",
    "\n",
    "print('notebook ready')"
   ]
  },
  {
   "cell_type": "markdown",
   "id": "fa6c06b1",
   "metadata": {},
   "source": [
    "## 問題1: アダマールテストで状態ベクトルを同定する\n",
    "\n",
    "実習で登場したSWAPテストは、実はアダマールテストという、より一般的な量子回路の構造の一例でした。アダマールテスト回路は以下のような形をしています。\n",
    "\n",
    "```{image} figs/hadamard_test.png\n",
    ":alt: hadamard_test\n",
    ":width: 300px\n",
    ":align: center\n",
    "```\n",
    "\n",
    "図中、ゲート$G$は$H$または$R_x(\\pi/2)$、$U$はdataレジスタにかかる任意の回路です。\n",
    "\n",
    "$G=H$ならば、回路の終状態は\n",
    "\n",
    "$$\n",
    "\\begin{split}\n",
    "\\ket{\\text{final}} & = \\frac{1}{2} \\left[ (\\ket{0} + \\ket{1})_{\\text{test}} \\ket{\\psi}_{\\text{data}} + (\\ket{0} - \\ket{1})_{\\text{test}} U \\ket{\\psi}_{\\text{data}} \\right] \\\\\n",
    "& = \\frac{1}{2} \\left[ \\ket{0}_{\\text{test}} (\\ket{\\psi} + U \\ket{\\psi})_{\\text{data}} + \\ket{1}_{\\text{test}} (\\ket{\\psi} - U \\ket{\\psi})_{\\text{data}} \\right]\n",
    "\\end{split}\n",
    "$$\n",
    "\n",
    "なので、testビットを測定して0が得られる確率を$P_0$、1が得られる確率を$P_1$とすると、\n",
    "\n",
    "$$\n",
    "\\begin{align}\n",
    "P_0 & = \\frac{1}{4} \\lVert \\ket{\\psi} + U \\ket{\\psi} \\rVert_2 = \\frac{1}{2} (1 + \\mathrm{Re}\\braket{\\psi}{U \\psi}) \\\\\n",
    "P_1 & = \\frac{1}{4} \\lVert \\ket{\\psi} - U \\ket{\\psi} \\rVert_2 = \\frac{1}{2} (1 - \\mathrm{Re}\\braket{\\psi}{U \\psi}),\n",
    "\\end{align}\n",
    "$$\n",
    "\n",
    "したがって\n",
    "\n",
    "$$\n",
    "P_0 - P_1 = \\mathrm{Re}\\braket{\\psi}{U \\psi}\n",
    "$$\n",
    "\n",
    "となります。\n",
    "\n",
    "いっぽう、$G = R_x(\\pi/2)$ならば、終状態は\n",
    "\n",
    "$$\n",
    "\\begin{split}\n",
    "\\ket{\\text{final}} & = \\frac{1}{2} \\left[ (\\ket{0} + \\ket{1})_{\\text{test}} \\ket{\\psi}_{\\text{data}} - i (\\ket{0} - \\ket{1})_{\\text{test}} U \\ket{\\psi}_{\\text{data}} \\right] \\\\\n",
    "& = \\frac{1}{2} \\left[ \\ket{0}_{\\text{test}} (\\ket{\\psi} - i U \\ket{\\psi})_{\\text{data}} + \\ket{1}_{\\text{test}} (\\ket{\\psi} + i U \\ket{\\psi})_{\\text{data}} \\right]\n",
    "\\end{split}\n",
    "$$\n",
    "\n",
    "なので\n",
    "\n",
    "$$\n",
    "\\begin{align}\n",
    "P_0 & = \\frac{1}{4} \\lVert \\ket{\\psi} - i U \\ket{\\psi} \\rVert_2 = \\frac{1}{2} (1 + \\mathrm{Im}\\braket{\\psi}{U \\psi}) \\\\\n",
    "P_1 & = \\frac{1}{4} \\lVert \\ket{\\psi} + i U \\ket{\\psi} \\rVert_2 = \\frac{1}{2} (1 - \\mathrm{Im}\\braket{\\psi}{U \\psi})\n",
    "\\end{align}\n",
    "$$\n",
    "\n",
    "となり、\n",
    "\n",
    "$$\n",
    "P_0 - P_1 = \\mathrm{Im}\\braket{\\psi}{U \\psi}\n",
    "$$\n",
    "\n",
    "が得られます。\n",
    "\n",
    "アダマールテストを利用すれば、状態$\\ket{\\psi}$を$\\ket{0}$から作る回路$U_{\\psi}$が既知のとき、$\\ket{\\psi}$の計算基底での展開$\\sum_k c_k \\ket{k}$を振幅の位相情報も含めて推定することができます。そのためには、上でデータレジスタの初期状態を$\\ket{0}$、$U$を$U^{-1}_k U_{\\psi}$とします。ただし$U_k$は$\\ket{0}$から$\\ket{k}$を作る回路です。すると、$G=H$と$G=R_x(\\pi/2)$とでアダマールテストをすることで、$\\braket{0}{U^{-1}_k \\psi} = \\braket{k}{\\psi} = c_k$の実部と虚部がそれぞれ計算できます（最初の等号が成立する証明は、実習の{ref}`inverse_circuit`を参照してください）。これを$0$から$2^n - 1$までの$k$について繰り返せば、$\\{c_k\\}_k$を完全に求められます。\n",
    "\n",
    "以下で、既知だけど何か複雑な状態$\\ket{\\psi}$の状態ベクトルを調べてみましょう。まずは$U_{\\psi}$を定義します。"
   ]
  },
  {
   "cell_type": "code",
   "execution_count": null,
   "id": "03509582",
   "metadata": {},
   "outputs": [],
   "source": [
    "# データレジスタのビット数\n",
    "data_width = 6\n",
    "\n",
    "# 状態|ψ>を作る回路\n",
    "upsi = QuantumCircuit(data_width, name='psi')\n",
    "upsi.x(0)\n",
    "upsi.h(2)\n",
    "upsi.cx(2, 3)\n",
    "for itarg in range(data_width - 1, -1, -1):\n",
    "    upsi.h(itarg)\n",
    "    for ictrl in range(itarg - 1, -1, -1):\n",
    "        power = ictrl - itarg - 1 + data_width\n",
    "        upsi.cp((2 ** power) * 2. * np.pi / (2 ** data_width), ictrl, itarg)\n",
    "\n",
    "for iq in range(data_width // 2):\n",
    "    upsi.swap(iq, data_width - 1 - iq)"
   ]
  },
  {
   "cell_type": "markdown",
   "id": "6d5debb7",
   "metadata": {},
   "source": [
    "Qiskitでは、`QuantumCircuit`オブジェクトで表される量子回路を、`to_gate()`メソッドで一つのゲートオブジェクトに変換することができます。さらにそのゲートに対して`control(n)`メソッドを用いると、元の回路をn量子ビットで制御する制御ゲートを作ることができます。"
   ]
  },
  {
   "cell_type": "code",
   "execution_count": null,
   "id": "aac8b808",
   "metadata": {},
   "outputs": [],
   "source": [
    "upsi_gate = upsi.to_gate()\n",
    "cupsi_gate = upsi_gate.control(1)"
   ]
  },
  {
   "cell_type": "markdown",
   "id": "a4c2ffcb",
   "metadata": {},
   "source": [
    "$U^{-1}_k$とその制御ゲート化は$k$の関数として定義しておきます。"
   ]
  },
  {
   "cell_type": "code",
   "execution_count": null,
   "id": "cadeae2f",
   "metadata": {},
   "outputs": [],
   "source": [
    "def make_cukinv_gate(k):\n",
    "    uk = QuantumCircuit(data_width, name=f'u_{k}')\n",
    "\n",
    "    # kの２進数表現を得るために、unpackbitsを利用（他にもいろいろな方法がある）\n",
    "    # unpackbitsはuint8タイプのアレイを引数に取るので、jをその形に変換してから渡している\n",
    "    k_bits = np.unpackbits(np.asarray(k, dtype=np.uint8), bitorder='little')\n",
    "    # k_bitsアレイのうち、ビットが立っているインデックスを得て、それらにXゲートをかける\n",
    "    for idx in np.nonzero(k_bits)[0]:\n",
    "        uk.x(idx)\n",
    "\n",
    "    # 形式上逆回路を作るが、Xの逆操作はXなので、実は全く同一の回路\n",
    "    ukinv = uk.inverse()\n",
    "\n",
    "    ukinv_gate = ukinv.to_gate()\n",
    "    cukinv_gate = ukinv_gate.control(1)\n",
    "\n",
    "    return cukinv_gate"
   ]
  },
  {
   "cell_type": "markdown",
   "id": "6cf96602",
   "metadata": {},
   "source": [
    "ゲートオブジェクトは`QuantumCircuit`オブジェクトに`append()`で組み込むことができます。制御ゲートを埋め込む場合は、制御ビットが組み込み先の最初のnビットとなるので、`append()`の`qargs`引数で正しく対応づけします。\n",
    "\n",
    "次のセルで$k=0$から$2^n-1$までそれぞれ2通りのアダマールテストを行い、$\\ket{\\psi}$の計算基底展開を求めてください。"
   ]
  },
  {
   "cell_type": "code",
   "execution_count": null,
   "id": "03add6fd",
   "metadata": {
    "tags": [
     "remove-output"
    ]
   },
   "outputs": [],
   "source": [
    "reg_data = QuantumRegister(data_width, name='data')\n",
    "reg_test = QuantumRegister(1, name='test')\n",
    "creg_test = ClassicalRegister(1)\n",
    "\n",
    "# 実部用と虚部用の回路をそれぞれリストに入れ、一度にシミュレータに渡す\n",
    "circuits_re = []\n",
    "circuits_im = []\n",
    "\n",
    "ks = np.arange(2 ** data_width)\n",
    "\n",
    "for k in ks:\n",
    "    circuit_re = QuantumCircuit(reg_data, reg_test, creg_test)\n",
    "    circuit_im = QuantumCircuit(reg_data, reg_test, creg_test)\n",
    "\n",
    "    ##################\n",
    "    ### EDIT BELOW ###\n",
    "    ##################\n",
    "\n",
    "    # 制御ゲートをcircuitに組み込む例\n",
    "    # circuit.append(cupsi_gate, qargs=([reg_test[0]] + reg_data[:]))\n",
    "\n",
    "    ##################\n",
    "    ### EDIT ABOVE ###\n",
    "    ##################\n",
    "\n",
    "    circuit_re.measure(reg_test, creg_test)\n",
    "    circuit_im.measure(reg_test, creg_test)\n",
    "\n",
    "    circuits_re.append(circuit_re)\n",
    "    circuits_im.append(circuit_im)\n",
    "\n",
    "# シミュレータで回路を実行\n",
    "simulator = AerSimulator()\n",
    "shots = 10000\n",
    "\n",
    "circuits_re = transpile(circuits_re, backend=simulator)\n",
    "circuits_im = transpile(circuits_im, backend=simulator)\n",
    "\n",
    "counts_list_re = simulator.run(circuits_re, shots=shots).result().get_counts()\n",
    "counts_list_im = simulator.run(circuits_im, shots=shots).result().get_counts()\n",
    "\n",
    "# 状態ベクトルアレイ\n",
    "statevector = np.empty(2 ** data_width, dtype=np.complex128)\n",
    "\n",
    "for k in ks:\n",
    "    counts_re = counts_list_re[k]\n",
    "    counts_im = counts_list_im[k]\n",
    "    statevector[k] = (counts_re.get('0', 0) - counts_re.get('1', 0)) / shots\n",
    "    statevector[k] += 1.j * (counts_im.get('0', 0) - counts_im.get('1', 0)) / shots"
   ]
  },
  {
   "cell_type": "code",
   "execution_count": null,
   "id": "4d5d47db",
   "metadata": {
    "tags": [
     "remove-output"
    ]
   },
   "outputs": [],
   "source": [
    "plt.plot(ks, statevector.real, label='Re($c_k$)')\n",
    "plt.plot(ks, statevector.imag, label='Im($c_k$)')\n",
    "plt.xlabel('k')\n",
    "plt.legend();"
   ]
  },
  {
   "cell_type": "markdown",
   "id": "517a27ae",
   "metadata": {},
   "source": [
    "得られた結果と状態ベクトルシミュレータで計算される状態ベクトルとを比較してみましょう。"
   ]
  },
  {
   "cell_type": "code",
   "execution_count": null,
   "id": "fbcc92a2",
   "metadata": {
    "tags": [
     "remove-output"
    ]
   },
   "outputs": [],
   "source": [
    "sv_simulator = AerSimulator(method='statevector')\n",
    "\n",
    "# save_statevectorをくっつけるので元の回路をコピーする\n",
    "circuit = upsi.copy()\n",
    "circuit.save_statevector()\n",
    "\n",
    "circuit = transpile(circuit, backend=sv_simulator)\n",
    "statevector_truth = np.asarray(sv_simulator.run(circuit).result().data()['statevector'])\n",
    "\n",
    "plt.plot(ks, statevector_truth.real, label='Re($c_k$) truth')\n",
    "plt.plot(ks, statevector_truth.imag, label='Im($c_k$) truth')\n",
    "plt.scatter(ks, statevector.real, label='Re($c_k$)')\n",
    "plt.scatter(ks, statevector.imag, label='Im($c_k$)')\n",
    "plt.xlabel('k')\n",
    "plt.legend();"
   ]
  },
  {
   "cell_type": "markdown",
   "id": "57293072",
   "metadata": {},
   "source": [
    "## 問題2: 符号が反転している基底を見つける\n",
    "\n",
    "実習で出てきたequal superposition状態\n",
    "\n",
    "$$\n",
    "H^{\\otimes n} \\ket{0} = \\frac{1}{\\sqrt{2^n}} \\sum_{k=0}^{2^n-1} \\ket{k}\n",
    "$$\n",
    "\n",
    "をそのまま測定すると、全ての整数$k$に対応するビット列が等しい確率で現れます。測定でビット列が現れる確率はそのビット列に対応する計算基底の振幅の絶対値自乗で決まるので、重ね合わせにおいてある整数$\\tilde{k}$の符号だけ逆転している以下の状態でもやはり全ての整数が確率$1/2^n$で得られます。\n",
    "\n",
    "$$\n",
    "\\frac{1}{\\sqrt{2^n}} \\left( \\sum_{k \\neq \\tilde{k}} \\ket{k} - \\ket{\\tilde{k}} \\right)\n",
    "$$\n",
    "\n",
    "（一般に、全ての計算基底にバラバラに位相因子$e^{i\\theta_{k}}$がかかっていても確率は同じです。）\n",
    "\n",
    "さて、{doc}`後の実習 <grover>`で登場するグローバー探索というアルゴリズムは、上のように一つの計算基底の符号を逆転させるブラックボックス演算子（どの基底かは事前に知られていない）が与えられたときに、符号の反転が起こっている計算基底を効率よく見つけ出すための手法です。グローバー探索を利用すると、例えば$N$個のエントリーのあるデータベースから特定のエントリーを探し出すのに、$\\mathcal{O}(\\sqrt{N})$回データベースを参照すればいいということがわかっています。\n",
    "\n",
    "今から考えるのはそのような効率的な方法ではなく、同じようにブラックボックス演算子が与えられたときに、原理的には符号の反転が起こっている基底を見つけることができる、という手法です。そのために振幅の干渉を利用します。\n",
    "\n",
    "まずは具体性のために$n=3$として、ブラックボックスは$k=5$の符号を反転させるとします。ここでブラックボックスの中身が完全に明かされてしまっていますが、これは実装上の都合で、重要なのは検索アルゴリズムが中身（5）を一切参照しないということです。\n",
    "\n",
    "後で便利なように、まずはブラックボックスを単体の回路として定義します。"
   ]
  },
  {
   "cell_type": "code",
   "execution_count": null,
   "id": "d36ff969",
   "metadata": {},
   "outputs": [],
   "source": [
    "num_qubits = 3\n",
    "needle = 5\n",
    "\n",
    "haystack_register = QuantumRegister(num_qubits, name='haystack') # ビット数を指定してレジスタを作る\n",
    "blackbox_circuit = QuantumCircuit(haystack_register, name='blackbox') # レジスタから回路を作る\n",
    "\n",
    "# unpackbitsでneedleが二進数のビット列に変換される。それを1から引くことでビット反転\n",
    "needle_bits = 1 - np.unpackbits(np.asarray(needle, dtype=np.uint8), bitorder='little')[:num_qubits]\n",
    "for idx in np.nonzero(needle_bits)[0]:\n",
    "    blackbox_circuit.x(haystack_register[idx])\n",
    "\n",
    "# レジスタの（0番から）最後から二番目のビットまでで制御し、最後のビットを標的にする\n",
    "blackbox_circuit.mcp(np.pi, haystack_register[:-1], haystack_register[-1])\n",
    "\n",
    "# 後片付け\n",
    "for idx in np.nonzero(needle_bits)[0]:\n",
    "    blackbox_circuit.x(haystack_register[idx])\n",
    "\n",
    "blackbox_circuit.draw('mpl')"
   ]
  },
  {
   "cell_type": "markdown",
   "id": "9e89af6c",
   "metadata": {},
   "source": [
    "ここまでは{doc}`circuit_from_scratch`の問題5と同じです。\n",
    "\n",
    "問題1でやったのと同様、QuantumCircuitオブジェクト全体を一つのゲートのようにみなして、それから制御ゲートを派生させます。"
   ]
  },
  {
   "cell_type": "code",
   "execution_count": null,
   "id": "f2371eab",
   "metadata": {},
   "outputs": [],
   "source": [
    "# blackbox_circuitを3量子ビットゲート化\n",
    "blackbox = blackbox_circuit.to_gate()\n",
    "# さらにblackboxゲートを1制御+3標的ビットゲート化\n",
    "cblackbox = blackbox.control(1)"
   ]
  },
  {
   "cell_type": "markdown",
   "id": "eb2d0122",
   "metadata": {},
   "source": [
    "それでは、この制御ブラックボックスゲートを利用して、equal superpositionにある`haystack`レジスタで干渉を起こして、観測で`needle`が識別できるような回路を書いてください。\n",
    "\n",
    "ヒント：アダマールテストの回路は、量子状態ベクトル同士を足したり引いたりして振幅の干渉を起こさせる回路のテンプレートでもあります。"
   ]
  },
  {
   "cell_type": "code",
   "execution_count": null,
   "id": "2ea0ef6c",
   "metadata": {
    "tags": [
     "remove-output"
    ]
   },
   "outputs": [],
   "source": [
    "def make_haystack_needle():\n",
    "    test_register = QuantumRegister(1, 'test')\n",
    "    circuit = QuantumCircuit(haystack_register, test_register)\n",
    "\n",
    "    # equal superpositionを作る（このようにゲート操作のメソッドにレジスタを渡すと、レジスタの各ビットにゲートがかかります。）\n",
    "    circuit.h(haystack_register)\n",
    "\n",
    "    ##################\n",
    "    ### EDIT BELOW ###\n",
    "    ##################\n",
    "\n",
    "    #circuit.?\n",
    "\n",
    "    ##################\n",
    "    ### EDIT ABOVE ###\n",
    "    ##################\n",
    "\n",
    "    circuit.measure_all()\n",
    "\n",
    "    return circuit"
   ]
  },
  {
   "cell_type": "code",
   "execution_count": null,
   "id": "c400f567",
   "metadata": {
    "tags": [
     "remove-output"
    ]
   },
   "outputs": [],
   "source": [
    "haystack_needle = make_haystack_needle()\n",
    "haystack_needle.draw('mpl')"
   ]
  },
  {
   "cell_type": "markdown",
   "id": "21bf6bfa",
   "metadata": {},
   "source": [
    "回路が完成したら、`qasm_simulator`で実行し、ヒストグラムをプロットしてください。"
   ]
  },
  {
   "cell_type": "code",
   "execution_count": null,
   "id": "9c373e17",
   "metadata": {
    "tags": [
     "remove-output"
    ]
   },
   "outputs": [],
   "source": [
    "simulator = AerSimulator()\n",
    "haystack_needle = transpile(haystack_needle, backend=simulator)\n",
    "sim_job = simulator.run(haystack_needle, shots=10000)\n",
    "sim_result = sim_job.result()\n",
    "plot_histogram(sim_result.get_counts(), figsize=(16, 4))"
   ]
  },
  {
   "cell_type": "markdown",
   "id": "15828989",
   "metadata": {},
   "source": [
    "**提出するもの**\n",
    "\n",
    "- 問題1と2の完成した回路のコード（EDIT BELOWからEDIT ABOVEの部分を埋める）と得られるプロット\n",
    "- 問題2で、ヒストグラムから`needle`を見つける方法の記述\n",
    "- `haystack`レジスタが一般の$n$ビットであるとき、この方法で`needle`を探すことの問題点（実行時間の観点から）に関する考察\n",
    "- おまけ（評価対象外）：`haystack_needle`回路を適当な実機でも実行してみる。エラーによってシミュレーションと結果が大幅に異なると予想されるが、なぜ一見単純な回路が大きく撹乱されてしまうのか？を考えてみる"
   ]
  }
 ],
 "metadata": {
  "jupytext": {
   "formats": "md:myst,ipynb",
   "notebook_metadata_filter": "all",
   "text_representation": {
    "extension": ".md",
    "format_name": "myst",
    "format_version": 0.13,
    "jupytext_version": "1.14.5"
   }
  },
  "kernelspec": {
   "display_name": "Python 3 (ipykernel)",
   "language": "python",
   "name": "python3"
  },
  "language_info": {
   "codemirror_mode": {
    "name": "ipython",
    "version": 3
   },
   "file_extension": ".py",
   "mimetype": "text/x-python",
   "name": "python",
   "nbconvert_exporter": "python",
   "pygments_lexer": "ipython3",
   "version": "3.10.6"
  },
  "source_map": [
   24,
   37,
   48,
   118,
   135,
   139,
   142,
   146,
   164,
   170,
   224,
   231,
   235,
   253,
   279,
   299,
   305,
   310,
   316,
   341,
   346,
   350,
   358
  ]
 },
 "nbformat": 4,
 "nbformat_minor": 5
}