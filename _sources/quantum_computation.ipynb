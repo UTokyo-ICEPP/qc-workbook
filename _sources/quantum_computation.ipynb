{
 "cells": [
  {
   "cell_type": "markdown",
   "id": "70a770d4",
   "metadata": {},
   "source": [
    "# 【課題】量子計算\n",
    "\n",
    "```{contents} 目次\n",
    "---\n",
    "local: true\n",
    "---\n",
    "```\n",
    "\n",
    "$\\newcommand{\\ket}[1]{|#1\\rangle}$"
   ]
  },
  {
   "cell_type": "markdown",
   "id": "1e594206",
   "metadata": {},
   "source": [
    "## 問題1: 足し算を実機で行う\n",
    "\n",
    "実習の内容の延長です。ここでは並列足し算回路を実機で実行します。\n",
    "\n",
    "実習のおさらいをすると、まずもともとの足し算のロジックをそのまま踏襲した回路を作り、それではゲート数が多すぎるので効率化した回路を作成しました。\n",
    "\n",
    "実は効率化した回路でもまだゲートの数が多すぎて、4ビット+4ビットの計算では答えがスクランブルされてしまいます。回路が小規模になればそれだけ成功確率も上がりますので、$(n_1, n_2)$の値として(4, 4)以外に(3, 3)、(2, 2)、(1, 1)も同時に試すことにしましょう。"
   ]
  },
  {
   "cell_type": "code",
   "execution_count": 1,
   "id": "d85704f3",
   "metadata": {
    "tags": [
     "remove-output"
    ]
   },
   "outputs": [
    {
     "name": "stdout",
     "output_type": "stream",
     "text": [
      "notebook ready\n"
     ]
    }
   ],
   "source": [
    "# まずは全てインポート\n",
    "import numpy as np\n",
    "import matplotlib.pyplot as plt\n",
    "from qiskit import QuantumRegister, QuantumCircuit, IBMQ, Aer, transpile\n",
    "from qiskit.providers.ibmq import least_busy, IBMQAccountCredentialsNotFound\n",
    "from qiskit.visualization import plot_histogram\n",
    "from qiskit.tools.monitor import job_monitor\n",
    "from qc_workbook.optimized_additions import optimized_additions\n",
    "from qc_workbook.utils import operational_backend, find_best_chain\n",
    "\n",
    "print('notebook ready')"
   ]
  },
  {
   "cell_type": "markdown",
   "id": "fe71ae39",
   "metadata": {},
   "source": [
    "実習と同様、`'ibm-q/open/main'`のプロバイダでは(1, 1)の回路しか扱えないので、フェイクバックエンドを使います。"
   ]
  },
  {
   "cell_type": "code",
   "execution_count": 2,
   "id": "8a9ff05b",
   "metadata": {
    "tags": [
     "remove-output",
     "raises-exception"
    ]
   },
   "outputs": [
    {
     "ename": "RequestsApiError",
     "evalue": "'401 Client Error: Unauthorized for url: https://auth.quantum-computing.ibm.com/api/users/loginWithToken. Login failed., Error code: 3446.'",
     "output_type": "error",
     "traceback": [
      "\u001b[0;31m---------------------------------------------------------------------------\u001b[0m",
      "\u001b[0;31mIBMQAccountCredentialsNotFound\u001b[0m            Traceback (most recent call last)",
      "Input \u001b[0;32mIn [2]\u001b[0m, in \u001b[0;36m<cell line: 3>\u001b[0;34m()\u001b[0m\n\u001b[1;32m      3\u001b[0m \u001b[38;5;28;01mtry\u001b[39;00m:\n\u001b[0;32m----> 4\u001b[0m     \u001b[43mIBMQ\u001b[49m\u001b[38;5;241;43m.\u001b[39;49m\u001b[43mload_account\u001b[49m\u001b[43m(\u001b[49m\u001b[43m)\u001b[49m\n\u001b[1;32m      5\u001b[0m \u001b[38;5;28;01mexcept\u001b[39;00m IBMQAccountCredentialsNotFound:\n",
      "File \u001b[0;32m/usr/local/lib/python3.8/dist-packages/qiskit/providers/ibmq/ibmqfactory.py:167\u001b[0m, in \u001b[0;36mIBMQFactory.load_account\u001b[0;34m(self)\u001b[0m\n\u001b[1;32m    166\u001b[0m \u001b[38;5;28;01mif\u001b[39;00m \u001b[38;5;129;01mnot\u001b[39;00m credentials_list:\n\u001b[0;32m--> 167\u001b[0m     \u001b[38;5;28;01mraise\u001b[39;00m IBMQAccountCredentialsNotFound(\n\u001b[1;32m    168\u001b[0m         \u001b[38;5;124m'\u001b[39m\u001b[38;5;124mNo IBM Quantum Experience credentials found.\u001b[39m\u001b[38;5;124m'\u001b[39m)\n\u001b[1;32m    170\u001b[0m \u001b[38;5;28;01mif\u001b[39;00m \u001b[38;5;28mlen\u001b[39m(credentials_list) \u001b[38;5;241m>\u001b[39m \u001b[38;5;241m1\u001b[39m:\n",
      "\u001b[0;31mIBMQAccountCredentialsNotFound\u001b[0m: 'No IBM Quantum Experience credentials found.'",
      "\nDuring handling of the above exception, another exception occurred:\n",
      "\u001b[0;31mHTTPError\u001b[0m                                 Traceback (most recent call last)",
      "File \u001b[0;32m/usr/local/lib/python3.8/dist-packages/qiskit/providers/ibmq/api/session.py:278\u001b[0m, in \u001b[0;36mRetrySession.request\u001b[0;34m(self, method, url, bare, **kwargs)\u001b[0m\n\u001b[1;32m    277\u001b[0m     response \u001b[38;5;241m=\u001b[39m \u001b[38;5;28msuper\u001b[39m()\u001b[38;5;241m.\u001b[39mrequest(method, final_url, headers\u001b[38;5;241m=\u001b[39mheaders, \u001b[38;5;241m*\u001b[39m\u001b[38;5;241m*\u001b[39mkwargs)\n\u001b[0;32m--> 278\u001b[0m     \u001b[43mresponse\u001b[49m\u001b[38;5;241;43m.\u001b[39;49m\u001b[43mraise_for_status\u001b[49m\u001b[43m(\u001b[49m\u001b[43m)\u001b[49m\n\u001b[1;32m    279\u001b[0m \u001b[38;5;28;01mexcept\u001b[39;00m RequestException \u001b[38;5;28;01mas\u001b[39;00m ex:\n\u001b[1;32m    280\u001b[0m     \u001b[38;5;66;03m# Wrap the requests exceptions into a IBM Q custom one, for\u001b[39;00m\n\u001b[1;32m    281\u001b[0m     \u001b[38;5;66;03m# compatibility.\u001b[39;00m\n",
      "File \u001b[0;32m/usr/local/lib/python3.8/dist-packages/requests/models.py:960\u001b[0m, in \u001b[0;36mResponse.raise_for_status\u001b[0;34m(self)\u001b[0m\n\u001b[1;32m    959\u001b[0m \u001b[38;5;28;01mif\u001b[39;00m http_error_msg:\n\u001b[0;32m--> 960\u001b[0m     \u001b[38;5;28;01mraise\u001b[39;00m HTTPError(http_error_msg, response\u001b[38;5;241m=\u001b[39m\u001b[38;5;28mself\u001b[39m)\n",
      "\u001b[0;31mHTTPError\u001b[0m: 401 Client Error: Unauthorized for url: https://auth.quantum-computing.ibm.com/api/users/loginWithToken",
      "\nThe above exception was the direct cause of the following exception:\n",
      "\u001b[0;31mRequestsApiError\u001b[0m                          Traceback (most recent call last)",
      "Input \u001b[0;32mIn [2]\u001b[0m, in \u001b[0;36m<cell line: 3>\u001b[0;34m()\u001b[0m\n\u001b[1;32m      4\u001b[0m     IBMQ\u001b[38;5;241m.\u001b[39mload_account()\n\u001b[1;32m      5\u001b[0m \u001b[38;5;28;01mexcept\u001b[39;00m IBMQAccountCredentialsNotFound:\n\u001b[0;32m----> 6\u001b[0m     \u001b[43mIBMQ\u001b[49m\u001b[38;5;241;43m.\u001b[39;49m\u001b[43menable_account\u001b[49m\u001b[43m(\u001b[49m\u001b[38;5;124;43m'\u001b[39;49m\u001b[38;5;124;43m__paste_your_token_here__\u001b[39;49m\u001b[38;5;124;43m'\u001b[39;49m\u001b[43m)\u001b[49m\n\u001b[1;32m      8\u001b[0m provider \u001b[38;5;241m=\u001b[39m IBMQ\u001b[38;5;241m.\u001b[39mget_provider(\u001b[38;5;241m*\u001b[39mprovider_def)\n",
      "File \u001b[0;32m/usr/local/lib/python3.8/dist-packages/qiskit/providers/ibmq/ibmqfactory.py:107\u001b[0m, in \u001b[0;36mIBMQFactory.enable_account\u001b[0;34m(self, token, url, hub, group, project, **kwargs)\u001b[0m\n\u001b[1;32m    102\u001b[0m     \u001b[38;5;28;01mraise\u001b[39;00m IBMQAccountCredentialsInvalidUrl(\n\u001b[1;32m    103\u001b[0m         \u001b[38;5;124m'\u001b[39m\u001b[38;5;124mThe URL specified (\u001b[39m\u001b[38;5;132;01m{}\u001b[39;00m\u001b[38;5;124m) is not an IBM Quantum Experience authentication \u001b[39m\u001b[38;5;124m'\u001b[39m\n\u001b[1;32m    104\u001b[0m         \u001b[38;5;124m'\u001b[39m\u001b[38;5;124mURL. Valid authentication URL: \u001b[39m\u001b[38;5;132;01m{}\u001b[39;00m\u001b[38;5;124m.\u001b[39m\u001b[38;5;124m'\u001b[39m\u001b[38;5;241m.\u001b[39mformat(credentials\u001b[38;5;241m.\u001b[39murl, QX_AUTH_URL))\n\u001b[1;32m    106\u001b[0m \u001b[38;5;66;03m# Initialize the providers.\u001b[39;00m\n\u001b[0;32m--> 107\u001b[0m \u001b[38;5;28;43mself\u001b[39;49m\u001b[38;5;241;43m.\u001b[39;49m\u001b[43m_initialize_providers\u001b[49m\u001b[43m(\u001b[49m\u001b[43mcredentials\u001b[49m\u001b[43m)\u001b[49m\n\u001b[1;32m    109\u001b[0m \u001b[38;5;66;03m# Prevent edge case where no hubs are available.\u001b[39;00m\n\u001b[1;32m    110\u001b[0m providers \u001b[38;5;241m=\u001b[39m \u001b[38;5;28mself\u001b[39m\u001b[38;5;241m.\u001b[39mproviders()\n",
      "File \u001b[0;32m/usr/local/lib/python3.8/dist-packages/qiskit/providers/ibmq/ibmqfactory.py:456\u001b[0m, in \u001b[0;36mIBMQFactory._initialize_providers\u001b[0;34m(self, credentials, preferences)\u001b[0m\n\u001b[1;32m    446\u001b[0m \u001b[38;5;28;01mdef\u001b[39;00m \u001b[38;5;21m_initialize_providers\u001b[39m(\n\u001b[1;32m    447\u001b[0m         \u001b[38;5;28mself\u001b[39m, credentials: Credentials,\n\u001b[1;32m    448\u001b[0m         preferences: Optional[Dict] \u001b[38;5;241m=\u001b[39m \u001b[38;5;28;01mNone\u001b[39;00m\n\u001b[1;32m    449\u001b[0m ) \u001b[38;5;241m-\u001b[39m\u001b[38;5;241m>\u001b[39m \u001b[38;5;28;01mNone\u001b[39;00m:\n\u001b[1;32m    450\u001b[0m     \u001b[38;5;124;03m\"\"\"Authenticate against IBM Quantum and populate the providers.\u001b[39;00m\n\u001b[1;32m    451\u001b[0m \n\u001b[1;32m    452\u001b[0m \u001b[38;5;124;03m    Args:\u001b[39;00m\n\u001b[1;32m    453\u001b[0m \u001b[38;5;124;03m        credentials: Credentials for IBM Quantum.\u001b[39;00m\n\u001b[1;32m    454\u001b[0m \u001b[38;5;124;03m        preferences: Account preferences.\u001b[39;00m\n\u001b[1;32m    455\u001b[0m \u001b[38;5;124;03m    \"\"\"\u001b[39;00m\n\u001b[0;32m--> 456\u001b[0m     auth_client \u001b[38;5;241m=\u001b[39m \u001b[43mAuthClient\u001b[49m\u001b[43m(\u001b[49m\u001b[43mcredentials\u001b[49m\u001b[38;5;241;43m.\u001b[39;49m\u001b[43mtoken\u001b[49m\u001b[43m,\u001b[49m\n\u001b[1;32m    457\u001b[0m \u001b[43m                             \u001b[49m\u001b[43mcredentials\u001b[49m\u001b[38;5;241;43m.\u001b[39;49m\u001b[43mbase_url\u001b[49m\u001b[43m,\u001b[49m\n\u001b[1;32m    458\u001b[0m \u001b[43m                             \u001b[49m\u001b[38;5;241;43m*\u001b[39;49m\u001b[38;5;241;43m*\u001b[39;49m\u001b[43mcredentials\u001b[49m\u001b[38;5;241;43m.\u001b[39;49m\u001b[43mconnection_parameters\u001b[49m\u001b[43m(\u001b[49m\u001b[43m)\u001b[49m\u001b[43m)\u001b[49m\n\u001b[1;32m    459\u001b[0m     service_urls \u001b[38;5;241m=\u001b[39m auth_client\u001b[38;5;241m.\u001b[39mcurrent_service_urls()\n\u001b[1;32m    460\u001b[0m     user_hubs \u001b[38;5;241m=\u001b[39m auth_client\u001b[38;5;241m.\u001b[39muser_hubs()\n",
      "File \u001b[0;32m/usr/local/lib/python3.8/dist-packages/qiskit/providers/ibmq/api/clients/auth.py:41\u001b[0m, in \u001b[0;36mAuthClient.__init__\u001b[0;34m(self, api_token, auth_url, **request_kwargs)\u001b[0m\n\u001b[1;32m     38\u001b[0m \u001b[38;5;28mself\u001b[39m\u001b[38;5;241m.\u001b[39m_service_urls \u001b[38;5;241m=\u001b[39m {}  \u001b[38;5;66;03m# type: ignore[var-annotated]\u001b[39;00m\n\u001b[1;32m     40\u001b[0m \u001b[38;5;28mself\u001b[39m\u001b[38;5;241m.\u001b[39mauth_api \u001b[38;5;241m=\u001b[39m Api(RetrySession(auth_url, \u001b[38;5;241m*\u001b[39m\u001b[38;5;241m*\u001b[39mrequest_kwargs))\n\u001b[0;32m---> 41\u001b[0m \u001b[38;5;28mself\u001b[39m\u001b[38;5;241m.\u001b[39mbase_api \u001b[38;5;241m=\u001b[39m \u001b[38;5;28;43mself\u001b[39;49m\u001b[38;5;241;43m.\u001b[39;49m\u001b[43m_init_service_clients\u001b[49m\u001b[43m(\u001b[49m\u001b[38;5;241;43m*\u001b[39;49m\u001b[38;5;241;43m*\u001b[39;49m\u001b[43mrequest_kwargs\u001b[49m\u001b[43m)\u001b[49m\n",
      "File \u001b[0;32m/usr/local/lib/python3.8/dist-packages/qiskit/providers/ibmq/api/clients/auth.py:53\u001b[0m, in \u001b[0;36mAuthClient._init_service_clients\u001b[0;34m(self, **request_kwargs)\u001b[0m\n\u001b[1;32m     44\u001b[0m \u001b[38;5;124;03m\"\"\"Initialize the clients used for communicating with the API.\u001b[39;00m\n\u001b[1;32m     45\u001b[0m \n\u001b[1;32m     46\u001b[0m \u001b[38;5;124;03mArgs:\u001b[39;00m\n\u001b[0;32m   (...)\u001b[0m\n\u001b[1;32m     50\u001b[0m \u001b[38;5;124;03m    Client for the API server.\u001b[39;00m\n\u001b[1;32m     51\u001b[0m \u001b[38;5;124;03m\"\"\"\u001b[39;00m\n\u001b[1;32m     52\u001b[0m \u001b[38;5;66;03m# Request an access token.\u001b[39;00m\n\u001b[0;32m---> 53\u001b[0m access_token \u001b[38;5;241m=\u001b[39m \u001b[38;5;28;43mself\u001b[39;49m\u001b[38;5;241;43m.\u001b[39;49m\u001b[43m_request_access_token\u001b[49m\u001b[43m(\u001b[49m\u001b[43m)\u001b[49m\n\u001b[1;32m     54\u001b[0m \u001b[38;5;66;03m# Use the token for the next auth server requests.\u001b[39;00m\n\u001b[1;32m     55\u001b[0m \u001b[38;5;28mself\u001b[39m\u001b[38;5;241m.\u001b[39mauth_api\u001b[38;5;241m.\u001b[39msession\u001b[38;5;241m.\u001b[39maccess_token \u001b[38;5;241m=\u001b[39m access_token\n",
      "File \u001b[0;32m/usr/local/lib/python3.8/dist-packages/qiskit/providers/ibmq/api/clients/auth.py:75\u001b[0m, in \u001b[0;36mAuthClient._request_access_token\u001b[0;34m(self)\u001b[0m\n\u001b[1;32m     65\u001b[0m \u001b[38;5;124;03m\"\"\"Request a new access token from the API authentication service.\u001b[39;00m\n\u001b[1;32m     66\u001b[0m \n\u001b[1;32m     67\u001b[0m \u001b[38;5;124;03mReturns:\u001b[39;00m\n\u001b[0;32m   (...)\u001b[0m\n\u001b[1;32m     72\u001b[0m \u001b[38;5;124;03m    RequestsApiError: If the request failed.\u001b[39;00m\n\u001b[1;32m     73\u001b[0m \u001b[38;5;124;03m\"\"\"\u001b[39;00m\n\u001b[1;32m     74\u001b[0m \u001b[38;5;28;01mtry\u001b[39;00m:\n\u001b[0;32m---> 75\u001b[0m     response \u001b[38;5;241m=\u001b[39m \u001b[38;5;28;43mself\u001b[39;49m\u001b[38;5;241;43m.\u001b[39;49m\u001b[43mauth_api\u001b[49m\u001b[38;5;241;43m.\u001b[39;49m\u001b[43mlogin\u001b[49m\u001b[43m(\u001b[49m\u001b[38;5;28;43mself\u001b[39;49m\u001b[38;5;241;43m.\u001b[39;49m\u001b[43mapi_token\u001b[49m\u001b[43m)\u001b[49m\n\u001b[1;32m     76\u001b[0m     \u001b[38;5;28;01mreturn\u001b[39;00m response[\u001b[38;5;124m'\u001b[39m\u001b[38;5;124mid\u001b[39m\u001b[38;5;124m'\u001b[39m]\n\u001b[1;32m     77\u001b[0m \u001b[38;5;28;01mexcept\u001b[39;00m RequestsApiError \u001b[38;5;28;01mas\u001b[39;00m ex:\n\u001b[1;32m     78\u001b[0m     \u001b[38;5;66;03m# Get the original exception that raised.\u001b[39;00m\n",
      "File \u001b[0;32m/usr/local/lib/python3.8/dist-packages/qiskit/providers/ibmq/api/rest/root.py:125\u001b[0m, in \u001b[0;36mApi.login\u001b[0;34m(self, api_token)\u001b[0m\n\u001b[1;32m    116\u001b[0m \u001b[38;5;124;03m\"\"\"Login with token.\u001b[39;00m\n\u001b[1;32m    117\u001b[0m \n\u001b[1;32m    118\u001b[0m \u001b[38;5;124;03mArgs:\u001b[39;00m\n\u001b[0;32m   (...)\u001b[0m\n\u001b[1;32m    122\u001b[0m \u001b[38;5;124;03m    JSON response.\u001b[39;00m\n\u001b[1;32m    123\u001b[0m \u001b[38;5;124;03m\"\"\"\u001b[39;00m\n\u001b[1;32m    124\u001b[0m url \u001b[38;5;241m=\u001b[39m \u001b[38;5;28mself\u001b[39m\u001b[38;5;241m.\u001b[39mget_url(\u001b[38;5;124m'\u001b[39m\u001b[38;5;124mlogin\u001b[39m\u001b[38;5;124m'\u001b[39m)\n\u001b[0;32m--> 125\u001b[0m \u001b[38;5;28;01mreturn\u001b[39;00m \u001b[38;5;28;43mself\u001b[39;49m\u001b[38;5;241;43m.\u001b[39;49m\u001b[43msession\u001b[49m\u001b[38;5;241;43m.\u001b[39;49m\u001b[43mpost\u001b[49m\u001b[43m(\u001b[49m\u001b[43murl\u001b[49m\u001b[43m,\u001b[49m\u001b[43m \u001b[49m\u001b[43mjson\u001b[49m\u001b[38;5;241;43m=\u001b[39;49m\u001b[43m{\u001b[49m\u001b[38;5;124;43m'\u001b[39;49m\u001b[38;5;124;43mapiToken\u001b[39;49m\u001b[38;5;124;43m'\u001b[39;49m\u001b[43m:\u001b[49m\u001b[43m \u001b[49m\u001b[43mapi_token\u001b[49m\u001b[43m}\u001b[49m\u001b[43m)\u001b[49m\u001b[38;5;241m.\u001b[39mjson()\n",
      "File \u001b[0;32m/usr/local/lib/python3.8/dist-packages/requests/sessions.py:577\u001b[0m, in \u001b[0;36mSession.post\u001b[0;34m(self, url, data, json, **kwargs)\u001b[0m\n\u001b[1;32m    566\u001b[0m \u001b[38;5;28;01mdef\u001b[39;00m \u001b[38;5;21mpost\u001b[39m(\u001b[38;5;28mself\u001b[39m, url, data\u001b[38;5;241m=\u001b[39m\u001b[38;5;28;01mNone\u001b[39;00m, json\u001b[38;5;241m=\u001b[39m\u001b[38;5;28;01mNone\u001b[39;00m, \u001b[38;5;241m*\u001b[39m\u001b[38;5;241m*\u001b[39mkwargs):\n\u001b[1;32m    567\u001b[0m     \u001b[38;5;124mr\u001b[39m\u001b[38;5;124;03m\"\"\"Sends a POST request. Returns :class:`Response` object.\u001b[39;00m\n\u001b[1;32m    568\u001b[0m \n\u001b[1;32m    569\u001b[0m \u001b[38;5;124;03m    :param url: URL for the new :class:`Request` object.\u001b[39;00m\n\u001b[0;32m   (...)\u001b[0m\n\u001b[1;32m    574\u001b[0m \u001b[38;5;124;03m    :rtype: requests.Response\u001b[39;00m\n\u001b[1;32m    575\u001b[0m \u001b[38;5;124;03m    \"\"\"\u001b[39;00m\n\u001b[0;32m--> 577\u001b[0m     \u001b[38;5;28;01mreturn\u001b[39;00m \u001b[38;5;28;43mself\u001b[39;49m\u001b[38;5;241;43m.\u001b[39;49m\u001b[43mrequest\u001b[49m\u001b[43m(\u001b[49m\u001b[38;5;124;43m'\u001b[39;49m\u001b[38;5;124;43mPOST\u001b[39;49m\u001b[38;5;124;43m'\u001b[39;49m\u001b[43m,\u001b[49m\u001b[43m \u001b[49m\u001b[43murl\u001b[49m\u001b[43m,\u001b[49m\u001b[43m \u001b[49m\u001b[43mdata\u001b[49m\u001b[38;5;241;43m=\u001b[39;49m\u001b[43mdata\u001b[49m\u001b[43m,\u001b[49m\u001b[43m \u001b[49m\u001b[43mjson\u001b[49m\u001b[38;5;241;43m=\u001b[39;49m\u001b[43mjson\u001b[49m\u001b[43m,\u001b[49m\u001b[43m \u001b[49m\u001b[38;5;241;43m*\u001b[39;49m\u001b[38;5;241;43m*\u001b[39;49m\u001b[43mkwargs\u001b[49m\u001b[43m)\u001b[49m\n",
      "File \u001b[0;32m/usr/local/lib/python3.8/dist-packages/qiskit/providers/ibmq/api/session.py:300\u001b[0m, in \u001b[0;36mRetrySession.request\u001b[0;34m(self, method, url, bare, **kwargs)\u001b[0m\n\u001b[1;32m    297\u001b[0m         \u001b[38;5;66;03m# Modify the original message on the chained exceptions.\u001b[39;00m\n\u001b[1;32m    298\u001b[0m         \u001b[38;5;28mself\u001b[39m\u001b[38;5;241m.\u001b[39m_modify_chained_exception_messages(ex)\n\u001b[0;32m--> 300\u001b[0m     \u001b[38;5;28;01mraise\u001b[39;00m RequestsApiError(message, status_code) \u001b[38;5;28;01mfrom\u001b[39;00m \u001b[38;5;21;01mex\u001b[39;00m\n\u001b[1;32m    302\u001b[0m \u001b[38;5;28;01mreturn\u001b[39;00m response\n",
      "\u001b[0;31mRequestsApiError\u001b[0m: '401 Client Error: Unauthorized for url: https://auth.quantum-computing.ibm.com/api/users/loginWithToken. Login failed., Error code: 3446.'"
     ]
    }
   ],
   "source": [
    "provider_def = ('ibm-q', 'open', 'main')\n",
    "\n",
    "try:\n",
    "    IBMQ.load_account()\n",
    "except IBMQAccountCredentialsNotFound:\n",
    "    IBMQ.enable_account('__paste_your_token_here__')\n",
    "\n",
    "provider = IBMQ.get_provider(*provider_def)"
   ]
  },
  {
   "cell_type": "code",
   "execution_count": 3,
   "id": "c0ffaba1",
   "metadata": {
    "tags": [
     "remove-output"
    ]
   },
   "outputs": [
    {
     "name": "stdout",
     "output_type": "stream",
     "text": [
      "Using backend fake_guadalupe\n"
     ]
    }
   ],
   "source": [
    "if provider_def == ('ibm-q', 'open', 'main'):\n",
    "    from qiskit.test.mock import FakeGuadalupe\n",
    "    \n",
    "    backend = FakeGuadalupe()\n",
    "\n",
    "else:\n",
    "    backend_list = provider.backends(filters=operational_backend(min_qubits=13))\n",
    "    backend = least_busy(backend_list)\n",
    "\n",
    "print(f'Using backend {backend.name()}')"
   ]
  },
  {
   "cell_type": "markdown",
   "id": "78cbbdd3",
   "metadata": {},
   "source": [
    "実習を参考に、次のセルで効率化前の回路を返す`make_original_circuit`関数を実装してください。"
   ]
  },
  {
   "cell_type": "code",
   "execution_count": 4,
   "id": "91451455",
   "metadata": {
    "tags": []
   },
   "outputs": [],
   "source": [
    "def make_original_circuit(n1, n2):\n",
    "    \"\"\"A function to define a circuit with the original implementation of additions given n1 and n2\n",
    "    \"\"\"\n",
    "    n3 = np.ceil(np.log2((2 ** n1) + (2 ** n2) - 1)).astype(int)\n",
    "\n",
    "    reg1 = QuantumRegister(n1, 'r1')\n",
    "    reg2 = QuantumRegister(n2, 'r2')\n",
    "    reg3 = QuantumRegister(n3, 'r3')\n",
    "\n",
    "    # QuantumCircuit can be instantiated from multiple registers\n",
    "    circuit = QuantumCircuit(reg1, reg2, reg3)\n",
    "    \n",
    "    ##################\n",
    "    ### EDIT BELOW ###\n",
    "    ##################\n",
    "\n",
    "    #circuit.?\n",
    "\n",
    "    ##################\n",
    "    ### EDIT ABOVE ###\n",
    "    ##################\n",
    "    \n",
    "    circuit.measure_all()\n",
    "\n",
    "    return circuit"
   ]
  },
  {
   "cell_type": "markdown",
   "id": "3c59d869",
   "metadata": {},
   "source": [
    "(4, 4)から(1, 1)までそれぞれオリジナルと効率化した回路の二通りを作り、全てリストにまとめてバックエンドに送ります。"
   ]
  },
  {
   "cell_type": "code",
   "execution_count": 5,
   "id": "6a9b22fb",
   "metadata": {
    "tags": []
   },
   "outputs": [],
   "source": [
    "# count_ops()の結果をテキストにする関数\n",
    "def display_nops(circuit):\n",
    "    nops = circuit.count_ops()\n",
    "    text = []\n",
    "    for key in ['rz', 'x', 'sx', 'cx']:\n",
    "        text.append(f'N({key})={nops.get(key, 0)}')\n",
    "        \n",
    "    return ', '.join(text)\n",
    "\n",
    "# オリジナルと効率化した回路を作る関数\n",
    "def make_circuits(n1, n2, backend):\n",
    "    print(f'Original circuit with n1, n2 = {n1}, {n2}')\n",
    "    circuit_orig = make_original_circuit(n1, n2)\n",
    "    \n",
    "    print('  Transpiling..')\n",
    "    circuit_orig = transpile(circuit_orig, backend=backend, optimization_level=3)\n",
    "    \n",
    "    print(f'  Done. Ops: {display_nops(circuit_orig)}')\n",
    "    circuit_orig.name = f'original_{n1}_{n2}'\n",
    "\n",
    "    print(f'Optimized circuit with n1, n2 = {n1}, {n2}')\n",
    "    circuit_opt = optimized_additions(n1, n2)\n",
    "    \n",
    "    n3 = np.ceil(np.log2((2 ** n1) + (2 ** n2) - 1)).astype(int)\n",
    "\n",
    "    print('  Transpiling..')\n",
    "    initial_layout = find_best_chain(backend, n1 + n2 + n3)\n",
    "    circuit_opt = transpile(circuit_opt, backend=backend, routing_method='basic',\n",
    "                            initial_layout=initial_layout, optimization_level=3)\n",
    "\n",
    "    print(f'  Done. Ops: {display_nops(circuit_opt)}')\n",
    "    circuit_opt.name = f'optimized_{n1}_{n2}'\n",
    "\n",
    "    return [circuit_orig, circuit_opt]"
   ]
  },
  {
   "cell_type": "code",
   "execution_count": 6,
   "id": "cf870c67",
   "metadata": {
    "tags": [
     "remove-input"
    ]
   },
   "outputs": [],
   "source": [
    "# テキスト作成用のセル\n",
    "\n",
    "import os\n",
    "if os.getenv('JUPYTERBOOK_BUILD') == '1':\n",
    "    shots = backend.configuration().max_shots\n",
    "    del backend"
   ]
  },
  {
   "cell_type": "code",
   "execution_count": 7,
   "id": "ee316bd4",
   "metadata": {
    "tags": [
     "remove-output",
     "raises-exception"
    ]
   },
   "outputs": [
    {
     "ename": "NameError",
     "evalue": "name 'backend' is not defined",
     "output_type": "error",
     "traceback": [
      "\u001b[0;31m---------------------------------------------------------------------------\u001b[0m",
      "\u001b[0;31mNameError\u001b[0m                                 Traceback (most recent call last)",
      "Input \u001b[0;32mIn [7]\u001b[0m, in \u001b[0;36m<cell line: 3>\u001b[0;34m()\u001b[0m\n\u001b[1;32m      2\u001b[0m circuits \u001b[38;5;241m=\u001b[39m []\n\u001b[1;32m      3\u001b[0m \u001b[38;5;28;01mfor\u001b[39;00m n1, n2 \u001b[38;5;129;01min\u001b[39;00m [(\u001b[38;5;241m4\u001b[39m, \u001b[38;5;241m4\u001b[39m), (\u001b[38;5;241m3\u001b[39m, \u001b[38;5;241m3\u001b[39m), (\u001b[38;5;241m2\u001b[39m, \u001b[38;5;241m2\u001b[39m), (\u001b[38;5;241m1\u001b[39m, \u001b[38;5;241m1\u001b[39m)]:\n\u001b[0;32m----> 4\u001b[0m     circuits \u001b[38;5;241m+\u001b[39m\u001b[38;5;241m=\u001b[39m make_circuits(n1, n2, \u001b[43mbackend\u001b[49m)\n\u001b[1;32m      6\u001b[0m \u001b[38;5;66;03m# バックエンドで定められた最大のショット数だけ各回路を実行\u001b[39;00m\n\u001b[1;32m      7\u001b[0m shots \u001b[38;5;241m=\u001b[39m backend\u001b[38;5;241m.\u001b[39mconfiguration()\u001b[38;5;241m.\u001b[39mmax_shots\n",
      "\u001b[0;31mNameError\u001b[0m: name 'backend' is not defined"
     ]
    }
   ],
   "source": [
    "# List of circuits\n",
    "circuits = []\n",
    "for n1, n2 in [(4, 4), (3, 3), (2, 2), (1, 1)]:\n",
    "    circuits += make_circuits(n1, n2, backend)\n",
    "\n",
    "# バックエンドで定められた最大のショット数だけ各回路を実行\n",
    "shots = backend.configuration().max_shots\n",
    "    \n",
    "print(f'Submitting {len(circuits)} circuits to {backend.name()}, {shots} shots each')\n",
    "\n",
    "if backend.provider() is None:\n",
    "    # Case: fake backend\n",
    "    # フェイクバックエンドには何らかのバグがあり、一度に8つの回路を実行すると0000..という答えが多発する（2022-04-05 YI）\n",
    "    counts_list = []\n",
    "    for circuit in circuits:\n",
    "        job = backend.run(circuit, shots=shots)\n",
    "        counts_list.append(job.result().get_counts())\n",
    "        \n",
    "    print('Job Status: job has successfully run')\n",
    "        \n",
    "else:\n",
    "    job = backend.run(circuits, shots=shots)\n",
    "\n",
    "    job_monitor(job, interval=2)\n",
    "\n",
    "    counts_list = job.result().get_counts()"
   ]
  },
  {
   "cell_type": "code",
   "execution_count": 8,
   "id": "b6c45169",
   "metadata": {
    "tags": [
     "remove-input"
    ]
   },
   "outputs": [],
   "source": [
    "# テキスト作成用のセル\n",
    "\n",
    "import pickle\n",
    "if os.getenv('JUPYTERBOOK_BUILD') == '1':\n",
    "    with open('data/quantum_computation_fake_data.pkl', 'rb') as source:\n",
    "        counts_list = pickle.load(source)"
   ]
  },
  {
   "cell_type": "markdown",
   "id": "2ef89bb6",
   "metadata": {},
   "source": [
    "ジョブが返ってきたら、正しい足し算を表しているものの割合を調べてみましょう。"
   ]
  },
  {
   "cell_type": "code",
   "execution_count": 9,
   "id": "337df998",
   "metadata": {
    "tags": [
     "remove-output"
    ]
   },
   "outputs": [
    {
     "name": "stdout",
     "output_type": "stream",
     "text": [
      "Original circuit (4, 4): 924 / 8192 = 0.113 +- 0.003\n",
      "Optimized circuit (4, 4): 1953 / 8192 = 0.238 +- 0.005\n",
      "Original circuit (3, 3): 2363 / 8192 = 0.288 +- 0.005\n",
      "Optimized circuit (3, 3): 3269 / 8192 = 0.399 +- 0.005\n",
      "Original circuit (2, 2): 4443 / 8192 = 0.542 +- 0.006\n",
      "Optimized circuit (2, 2): 5262 / 8192 = 0.642 +- 0.005\n",
      "Original circuit (1, 1): 6900 / 8192 = 0.842 +- 0.004\n",
      "Optimized circuit (1, 1): 7074 / 8192 = 0.864 +- 0.004\n"
     ]
    }
   ],
   "source": [
    "def count_correct_additions(counts, n1, n2):\n",
    "    \"\"\"Extract the addition equation from the counts dict key and tally up the correct ones.\"\"\"\n",
    "    \n",
    "    correct = 0\n",
    "\n",
    "    for key, value in counts.items():\n",
    "        # cf. plot_counts() from the SIMD lecture\n",
    "        x1 = int(key[-n1:], 2)\n",
    "        x2 = int(key[-n1 - n2:-n1], 2)\n",
    "        x3 = int(key[:-n1 - n2], 2)\n",
    "\n",
    "        if x1 + x2 == x3:\n",
    "            correct += value\n",
    "\n",
    "    return correct\n",
    "\n",
    "    \n",
    "icirc = 0\n",
    "for n1, n2 in [(4, 4), (3, 3), (2, 2), (1, 1)]:\n",
    "    for ctype in ['Original', 'Optimized']:\n",
    "        n_correct = count_correct_additions(counts_list[icirc], n1, n2)\n",
    "        r_correct = n_correct / shots\n",
    "        print(f'{ctype} circuit ({n1}, {n2}): {n_correct} / {shots} = {r_correct:.3f} +- {np.sqrt(r_correct * (1. - r_correct) / shots):.3f}')\n",
    "        icirc += 1"
   ]
  },
  {
   "cell_type": "markdown",
   "id": "e6f00b5a",
   "metadata": {},
   "source": [
    "ちなみに、`ibm_kawasaki`という実機で同じコードを走らせると、下のような結果が得られます。\n",
    "\n",
    "<pre>\n",
    "Original circuit with n1, n2 = 4, 4\n",
    "  Transpiling..\n",
    "  Done. Ops: N(rz)=170, N(x)=3, N(sx)=67, N(cx)=266\n",
    "Optimized circuit with n1, n2 = 4, 4\n",
    "  Transpiling..\n",
    "  Done. Ops: N(rz)=175, N(x)=1, N(sx)=64, N(cx)=142\n",
    "Original circuit with n1, n2 = 3, 3\n",
    "  Transpiling..\n",
    "  Done. Ops: N(rz)=120, N(x)=5, N(sx)=57, N(cx)=90\n",
    "Optimized circuit with n1, n2 = 3, 3\n",
    "  Transpiling..\n",
    "  Done. Ops: N(rz)=117, N(x)=0, N(sx)=48, N(cx)=84\n",
    "Original circuit with n1, n2 = 2, 2\n",
    "  Transpiling..\n",
    "  Done. Ops: N(rz)=50, N(x)=0, N(sx)=20, N(cx)=56\n",
    "Optimized circuit with n1, n2 = 2, 2\n",
    "  Transpiling..\n",
    "  Done. Ops: N(rz)=67, N(x)=0, N(sx)=32, N(cx)=41\n",
    "Original circuit with n1, n2 = 1, 1\n",
    "  Transpiling..\n",
    "  Done. Ops: N(rz)=25, N(x)=0, N(sx)=15, N(cx)=13\n",
    "Optimized circuit with n1, n2 = 1, 1\n",
    "  Transpiling..\n",
    "  Done. Ops: N(rz)=27, N(x)=0, N(sx)=16, N(cx)=13\n",
    "</pre>"
   ]
  },
  {
   "cell_type": "markdown",
   "id": "0b8e37f8",
   "metadata": {
    "tags": [
     "remove-input"
    ]
   },
   "source": [
    "<pre>\n",
    "Original circuit (4, 4): 990 / 32000 = 0.031 +- 0.001\n",
    "Optimized circuit (4, 4): 879 / 32000 = 0.027 +- 0.001\n",
    "Original circuit (3, 3): 2435 / 32000 = 0.076 +- 0.001\n",
    "Optimized circuit <b>(3, 3)</b>: 2853 / 32000 = <b>0.089 +- 0.002</b>\n",
    "Original circuit (2, 2): 3243 / 32000 = 0.101 +- 0.002\n",
    "Optimized circuit <b>(2, 2)</b>: 7994 / 32000 = <b>0.250 +- 0.002</b>\n",
    "Original circuit <b>(1, 1)</b>: 25039 / 32000 = <b>0.782 +- 0.002</b>\n",
    "Optimized circuit <b>(1, 1)</b>: 26071 / 32000 = <b>0.815 +- 0.002</b>\n",
    "</pre>"
   ]
  },
  {
   "cell_type": "markdown",
   "id": "7b9e3b58",
   "metadata": {},
   "source": [
    "回路が均一にランダムに$0$から$2^{n_1 + n_2 + n_3} - 1$までの数を返す場合、レジスタ1と2のそれぞれの値の組み合わせに対して正しいレジスタ3の値が一つあるので、正答率は$2^{n_1 + n_2} / 2^{n_1 + n_2 + n_3} = 2^{-n_3}$となります。実機では、(4, 4)と(3, 3)でどちらの回路も正答率がほとんどこの値に近くなっています。(2, 2)では効率化回路で明らかにランダムでない結果が出ています。(1, 1)では両回路とも正答率8割です。\n",
    "\n",
    "フェイクバックエンドでは実機のエラーもシミュレートされていますが、エラーのモデリングが甘い部分もあり、$2^{-n_3}$よりは遥かに良い成績が得られています。いずれのケースも、回路が短い効率化バージョンの方が正答率が高くなっています。"
   ]
  },
  {
   "cell_type": "markdown",
   "id": "19dd1df3",
   "metadata": {},
   "source": [
    "### Quantum Volume\n",
    "\n",
    "量子コンピュータがエラーを起こす頻度は、マシンによって違います。さらに言えば個々の量子ビットごとに1量子ビットゲートのエラー率と測定のエラー率[^measurement_error]があり、また量子ビット間の接続ごとにCNOTのエラー率があります。これまで使ってきた`find_best_chain()`という関数は、与えられたバックエンドの中でこれらのエラー率の積が最も小さくなるような量子ビットの並びを選んでくるものでした。\n",
    "\n",
    "マシン自体のパフォーマンスを比較するには、`find_best_chain`でやるように各マシンの中から最も性能の良い量子ビットの組み合わせを選んできて、その上でベンチマークとなる回路を実行します。IBMQではそのようにして量子コンピュータ一つ一つをQuantum Volume（QV、量子体積）{cite}`PhysRevA.100.032328`という指標で評価しています。[^qv]。QVは簡単に言えば「量子コンピュータ上である特定の形を持った回路を安定的に実行できる量子ビット数と回路の長さ」を測っていて、QVの値が大きいマシンほど高性能と言えます。\n",
    "QVにはゲートや測定のエラー率だけでなく、トランスパイラの性能なども関係します。2022年4月現在、IBMQのマシンでQVの最大値は128です。\n",
    "\n",
    "`open`のプロバイダで使える5量子ビットマシンのうちでも、QVの値が異なるものがあるので、1ビット+1ビットの自明な例にはなってしまいますが、バックエンドを選んで足し算の正答率を比較してみましょう。\n",
    "\n",
    "[^measurement_error]: 測定のエラーとは、具体的には状態$\\ket{0}$や$\\ket{1}$を測定したときにどのくらいの割合で0や1でない結果を得るかということを表した値です。\n",
    "[^qv]: QVはハードウェアの詳細に依存しないように定義されているので、量子ビット型の量子コンピュータであればIBMのマシンに限らずすべてQVで評価できます。実際、業界で徐々にQVを標準ベンチマークとして使う動きが広がってきているようです。"
   ]
  },
  {
   "cell_type": "code",
   "execution_count": 10,
   "id": "b82031c4",
   "metadata": {
    "tags": [
     "remove-output",
     "raises-exception"
    ]
   },
   "outputs": [
    {
     "ename": "NameError",
     "evalue": "name 'provider' is not defined",
     "output_type": "error",
     "traceback": [
      "\u001b[0;31m---------------------------------------------------------------------------\u001b[0m",
      "\u001b[0;31mNameError\u001b[0m                                 Traceback (most recent call last)",
      "Input \u001b[0;32mIn [10]\u001b[0m, in \u001b[0;36m<cell line: 1>\u001b[0;34m()\u001b[0m\n\u001b[0;32m----> 1\u001b[0m backend_qv8 \u001b[38;5;241m=\u001b[39m least_busy(\u001b[43mprovider\u001b[49m\u001b[38;5;241m.\u001b[39mbackends(filters\u001b[38;5;241m=\u001b[39moperational_backend(qv\u001b[38;5;241m=\u001b[39m\u001b[38;5;241m8\u001b[39m)))\n\u001b[1;32m      2\u001b[0m backend_qv16 \u001b[38;5;241m=\u001b[39m least_busy(provider\u001b[38;5;241m.\u001b[39mbackends(filters\u001b[38;5;241m=\u001b[39moperational_backend(qv\u001b[38;5;241m=\u001b[39m\u001b[38;5;241m16\u001b[39m)))\n\u001b[1;32m      3\u001b[0m backend_qv32 \u001b[38;5;241m=\u001b[39m least_busy(provider\u001b[38;5;241m.\u001b[39mbackends(filters\u001b[38;5;241m=\u001b[39moperational_backend(qv\u001b[38;5;241m=\u001b[39m\u001b[38;5;241m32\u001b[39m)))\n",
      "\u001b[0;31mNameError\u001b[0m: name 'provider' is not defined"
     ]
    }
   ],
   "source": [
    "backend_qv8 = least_busy(provider.backends(filters=operational_backend(qv=8)))\n",
    "backend_qv16 = least_busy(provider.backends(filters=operational_backend(qv=16)))\n",
    "backend_qv32 = least_busy(provider.backends(filters=operational_backend(qv=32)))\n",
    "\n",
    "print(f'Using backends {backend_qv8.name()} (QV 8), {backend_qv16.name()} (QV 16), {backend_qv32.name()} (QV 32)')"
   ]
  },
  {
   "cell_type": "code",
   "execution_count": 11,
   "id": "0bd05d91",
   "metadata": {
    "tags": [
     "remove-output",
     "raises-exception"
    ]
   },
   "outputs": [
    {
     "ename": "NameError",
     "evalue": "name 'backend_qv8' is not defined",
     "output_type": "error",
     "traceback": [
      "\u001b[0;31m---------------------------------------------------------------------------\u001b[0m",
      "\u001b[0;31mNameError\u001b[0m                                 Traceback (most recent call last)",
      "Input \u001b[0;32mIn [11]\u001b[0m, in \u001b[0;36m<cell line: 4>\u001b[0;34m()\u001b[0m\n\u001b[1;32m      1\u001b[0m n1 \u001b[38;5;241m=\u001b[39m n2 \u001b[38;5;241m=\u001b[39m \u001b[38;5;241m1\u001b[39m\n\u001b[1;32m      3\u001b[0m jobs \u001b[38;5;241m=\u001b[39m []\n\u001b[0;32m----> 4\u001b[0m \u001b[38;5;28;01mfor\u001b[39;00m backend \u001b[38;5;129;01min\u001b[39;00m [\u001b[43mbackend_qv8\u001b[49m, backend_qv16, backend_qv32]:\n\u001b[1;32m      5\u001b[0m     circuits \u001b[38;5;241m=\u001b[39m make_circuits(n1, n2, backend)\n\u001b[1;32m      6\u001b[0m     shots \u001b[38;5;241m=\u001b[39m backend\u001b[38;5;241m.\u001b[39mconfiguration()\u001b[38;5;241m.\u001b[39mmax_shots\n",
      "\u001b[0;31mNameError\u001b[0m: name 'backend_qv8' is not defined"
     ]
    }
   ],
   "source": [
    "n1 = n2 = 1\n",
    "\n",
    "jobs = []\n",
    "for backend in [backend_qv8, backend_qv16, backend_qv32]:\n",
    "    circuits = make_circuits(n1, n2, backend)\n",
    "    shots = backend.configuration().max_shots\n",
    "    job = backend.run(circuits)\n",
    "    jobs.append(job)\n",
    "\n",
    "for job, qv in zip(jobs, [8, 16, 32]):\n",
    "\n",
    "    counts_list = job.result().get_counts()\n",
    "    \n",
    "    for counts, ctype in zip(counts_list, ['Original', 'Optimized']):\n",
    "        n_correct = count_correct_additions(counts, n1, n2)\n",
    "        r_correct = n_correct / shots\n",
    "        print(f'QV {qv} {ctype} circuit ({n1}, {n2}): {n_correct} / {shots} = {r_correct:.3f} +- {np.sqrt(r_correct * (1. - r_correct) / shots):.3f}')"
   ]
  },
  {
   "cell_type": "markdown",
   "id": "5ff5ee6b",
   "metadata": {},
   "source": [
    "QVから期待される正答率の序列にならないかもしれません。量子コンピュータという恐ろしく複雑な機械の性能を一つの数値で表すことの限界がここにあり、今のように単純な回路を実行する場合は、ケースバイケースで特定の量子ビットや特定のゲートのエラー率が結果に大きな影響を及ぼしたりするのです。\n",
    "\n",
    "じっさい、`find_best_chain`関数が各バックエンドで算出したエラー率の積を比較すると、QVの大きいマシンが必ずしも低いエラー率を持っているわけではないことがわかります。"
   ]
  },
  {
   "cell_type": "code",
   "execution_count": 12,
   "id": "5e0afcae",
   "metadata": {
    "tags": [
     "remove-output",
     "raises-exception"
    ]
   },
   "outputs": [
    {
     "ename": "NameError",
     "evalue": "name 'backend_qv8' is not defined",
     "output_type": "error",
     "traceback": [
      "\u001b[0;31m---------------------------------------------------------------------------\u001b[0m",
      "\u001b[0;31mNameError\u001b[0m                                 Traceback (most recent call last)",
      "Input \u001b[0;32mIn [12]\u001b[0m, in \u001b[0;36m<cell line: 2>\u001b[0;34m()\u001b[0m\n\u001b[1;32m      1\u001b[0m \u001b[38;5;66;03m# find_best_chainで4量子ビットの列を探し、エラー率の積が最小になる組み合わせにおいてCNOTゲートエラー率の積と測定エラー率の積（の対数）をそれぞれ取得\u001b[39;00m\n\u001b[0;32m----> 2\u001b[0m _, log_gate_error_qv8, log_readout_error_qv8 \u001b[38;5;241m=\u001b[39m find_best_chain(\u001b[43mbackend_qv8\u001b[49m, \u001b[38;5;241m4\u001b[39m, return_error_prod\u001b[38;5;241m=\u001b[39m\u001b[38;5;28;01mTrue\u001b[39;00m)\n\u001b[1;32m      3\u001b[0m _, log_gate_error_qv16, log_readout_error_qv16 \u001b[38;5;241m=\u001b[39m find_best_chain(backend_qv16, \u001b[38;5;241m4\u001b[39m, return_error_prod\u001b[38;5;241m=\u001b[39m\u001b[38;5;28;01mTrue\u001b[39;00m)\n\u001b[1;32m      4\u001b[0m _, log_gate_error_qv32, log_readout_error_qv32 \u001b[38;5;241m=\u001b[39m find_best_chain(backend_qv32, \u001b[38;5;241m4\u001b[39m, return_error_prod\u001b[38;5;241m=\u001b[39m\u001b[38;5;28;01mTrue\u001b[39;00m)\n",
      "\u001b[0;31mNameError\u001b[0m: name 'backend_qv8' is not defined"
     ]
    }
   ],
   "source": [
    "# find_best_chainで4量子ビットの列を探し、エラー率の積が最小になる組み合わせにおいてCNOTゲートエラー率の積と測定エラー率の積（の対数）をそれぞれ取得\n",
    "_, log_gate_error_qv8, log_readout_error_qv8 = find_best_chain(backend_qv8, 4, return_error_prod=True)\n",
    "_, log_gate_error_qv16, log_readout_error_qv16 = find_best_chain(backend_qv16, 4, return_error_prod=True)\n",
    "_, log_gate_error_qv32, log_readout_error_qv32 = find_best_chain(backend_qv32, 4, return_error_prod=True)\n",
    "\n",
    "print(f'QV 8 error rates: {log_gate_error_qv8:.2f} (CNOT), {log_readout_error_qv8} (readout)')\n",
    "print(f'QV 16 error rates: {log_gate_error_qv16:.2f} (CNOT), {log_readout_error_qv16} (readout)')\n",
    "print(f'QV 32 error rates: {log_gate_error_qv32:.2f} (CNOT), {log_readout_error_qv32} (readout)')"
   ]
  },
  {
   "cell_type": "markdown",
   "id": "467e2b9f",
   "metadata": {},
   "source": [
    "**提出するもの**\n",
    "\n",
    "- `make_original_circuit`関数のコード\n",
    "- QV8, 16, 32の実機で各回路を実行した結果"
   ]
  },
  {
   "cell_type": "markdown",
   "id": "035ed011",
   "metadata": {},
   "source": [
    "## 問題2: 符号が反転している基底を見つける\n",
    "\n",
    "実習の前半で出てきたequal superposition状態\n",
    "\n",
    "$$\n",
    "H^{\\otimes n} \\ket{0} = \\frac{1}{\\sqrt{2^n}} \\sum_{k=0}^{2^n-1} \\ket{k}\n",
    "$$\n",
    "\n",
    "をそのまま測定すると、全ての整数$k$に対応するビット列が等しい確率で現れます。測定でビット列が現れる確率はそのビット列に対応する計算基底の振幅の絶対値自乗で決まるので、重ね合わせにおいてある整数$\\tilde{k}$の符号だけ逆転している以下の状態でもやはり全ての整数が確率$1/2^n$で得られます。\n",
    "\n",
    "$$\n",
    "\\frac{1}{\\sqrt{2^n}} \\left( \\sum_{k \\neq \\tilde{k}} \\ket{k} - \\ket{\\tilde{k}} \\right)\n",
    "$$\n",
    "\n",
    "（一般には、全ての計算基底にバラバラに位相因子$e^{i\\theta_{k}}$がかかっていても確率は同じです。）\n",
    "\n",
    "さて、{doc}`後の実習 <grover>`で登場するグローバー探索というアルゴリズムは、上のように一つの計算基底の符号を逆転させるブラックボックス演算子（どの基底かは事前に知られていない）が与えられたときに、符号の反転が起こっている計算基底を効率よく見つけ出すための手法です。グローバー探索を利用すると、例えば$N$個のエントリーのあるデータベースから特定のエントリーを探し出すのに、$\\mathcal{O}(\\sqrt{N})$回データベースを参照すればいいということがわかっています。\n",
    "\n",
    "今から考えるのはそのような効率的な方法ではなく、同じようにブラックボックス演算子が与えられたときに、原理的には符号の反転が起こっている基底を見つけることができる、という手法です。そのために振幅の干渉を利用します。\n",
    "\n",
    "まずは具体性のために$n=3$として、ブラックボックスは$k=5$の符号を反転させるとします。ここでブラックボックスの中身が完全に明かされてしまっていますが、これは実装上の都合で、重要なのは検索アルゴリズムが中身（5）を一切参照しないということです。\n",
    "\n",
    "後で便利なように、まずはブラックボックスを単体の回路として定義します。"
   ]
  },
  {
   "cell_type": "code",
   "execution_count": 13,
   "id": "81cbbdb7",
   "metadata": {},
   "outputs": [
    {
     "data": {
      "image/png": "[encoded data removed]",
      "text/plain": [
       "<Figure size 347.387x204.68 with 1 Axes>"
      ]
     },
     "execution_count": 13,
     "metadata": {
      "filenames": {
       "image/png": "/qc-workbook/build/ja/_build/jupyter_execute/quantum_computation_25_0.png"
      }
     },
     "output_type": "execute_result"
    }
   ],
   "source": [
    "num_qubits = 3\n",
    "needle = 5\n",
    "\n",
    "haystack_register = QuantumRegister(num_qubits, name='haystack') # ビット数を指定してレジスタを作る\n",
    "blackbox_circuit = QuantumCircuit(haystack_register, name='blackbox') # レジスタから回路を作る\n",
    "\n",
    "# unpackbitsでneedleが二進数のビット列に変換される。それを1から引くことでビット反転\n",
    "needle_bits = 1 - np.unpackbits(np.asarray(needle, dtype=np.uint8), bitorder='little')[:num_qubits]\n",
    "for idx in np.nonzero(needle_bits)[0]:\n",
    "    blackbox_circuit.x(haystack_register[idx])\n",
    "    \n",
    "# レジスタの（0番から）最後から二番目のビットまでで制御し、最後のビットを標的にする\n",
    "blackbox_circuit.mcp(np.pi, haystack_register[:-1], haystack_register[-1])\n",
    "\n",
    "# 後片付け\n",
    "for idx in np.nonzero(needle_bits)[0]:\n",
    "    blackbox_circuit.x(haystack_register[idx])\n",
    "        \n",
    "blackbox_circuit.draw('mpl')"
   ]
  },
  {
   "cell_type": "markdown",
   "id": "641ef996",
   "metadata": {},
   "source": [
    "ここまでは{doc}`circuit_from_scratch`の問題5と同じです。\n",
    "\n",
    "Qiskitでは、QuantumCircuitオブジェクト全体を一つのゲートのようにみなして、それから制御ゲートを派生させることができます。"
   ]
  },
  {
   "cell_type": "code",
   "execution_count": 14,
   "id": "2e86548d",
   "metadata": {},
   "outputs": [],
   "source": [
    "# blackbox_circuitを3量子ビットゲート化\n",
    "blackbox = blackbox_circuit.to_gate()\n",
    "# さらにblackboxゲートを1制御+3標的ビットゲート化\n",
    "cblackbox = blackbox.control(1)"
   ]
  },
  {
   "cell_type": "markdown",
   "id": "4940c531",
   "metadata": {},
   "source": [
    "新たに定義した`cblackbox`ゲートは、$n+1$ビット回路に\n",
    "```{code-block} python\n",
    "circuit.append(cblackbox, qargs=range(circuit.num_qubits))\n",
    "```\n",
    "のようにして組み込むことができます。この場合、0番ビットが制御ビットになります。\n",
    "\n",
    "それでは、この制御ブラックボックスゲートを利用して、equal superpositionにある`haystack`レジスタで干渉を起こして、観測で`needle`が識別できるような回路を書いてください。"
   ]
  },
  {
   "cell_type": "code",
   "execution_count": 15,
   "id": "0d57f772",
   "metadata": {
    "tags": [
     "remove-output"
    ]
   },
   "outputs": [
    {
     "data": {
      "image/png": "[encoded data removed]",
      "text/plain": [
       "<Figure size 527.987x325.08 with 1 Axes>"
      ]
     },
     "execution_count": 15,
     "metadata": {
      "filenames": {
       "image/png": "/qc-workbook/build/ja/_build/jupyter_execute/quantum_computation_29_0.png"
      }
     },
     "output_type": "execute_result"
    }
   ],
   "source": [
    "test_register = QuantumRegister(1, 'test')\n",
    "test = test_register[0]\n",
    "circuit = QuantumCircuit(test_register, haystack_register)\n",
    "\n",
    "# equal superpositionを作る（このようにゲート操作のメソッドにレジスタを渡すと、レジスタの各ビットにゲートがかかります。）\n",
    "circuit.h(haystack_register)\n",
    "\n",
    "# 干渉を起こす方法のヒント\n",
    "circuit.h(test)\n",
    "\n",
    "##################\n",
    "### EDIT BELOW ###\n",
    "##################\n",
    "\n",
    "#circuit.?\n",
    "\n",
    "##################\n",
    "### EDIT ABOVE ###\n",
    "##################\n",
    "\n",
    "circuit.measure_all()\n",
    "\n",
    "circuit.draw('mpl')"
   ]
  },
  {
   "cell_type": "markdown",
   "id": "2b6a4898",
   "metadata": {},
   "source": [
    "回路が完成したら、`qasm_simulator`で実行し、ヒストグラムをプロットしてください。"
   ]
  },
  {
   "cell_type": "code",
   "execution_count": 16,
   "id": "f776ef58",
   "metadata": {},
   "outputs": [
    {
     "data": {
      "image/png": "[encoded data removed]",
      "text/plain": [
       "<Figure size 1152x288 with 1 Axes>"
      ]
     },
     "execution_count": 16,
     "metadata": {
      "filenames": {
       "image/png": "/qc-workbook/build/ja/_build/jupyter_execute/quantum_computation_31_0.png"
      }
     },
     "output_type": "execute_result"
    }
   ],
   "source": [
    "simulator = Aer.get_backend('qasm_simulator')\n",
    "circuit = transpile(circuit, backend=simulator)\n",
    "sim_job = simulator.run(circuit, shots=10000)\n",
    "sim_result = sim_job.result()\n",
    "plot_histogram(sim_result.get_counts(circuit), figsize=(16, 4))"
   ]
  },
  {
   "cell_type": "markdown",
   "id": "4d6babef",
   "metadata": {},
   "source": [
    "実機ではどんな結果が得られるでしょうか。"
   ]
  },
  {
   "cell_type": "code",
   "execution_count": 17,
   "id": "baa47338",
   "metadata": {
    "tags": [
     "raises-exception",
     "remove-output"
    ]
   },
   "outputs": [
    {
     "ename": "NameError",
     "evalue": "name 'provider' is not defined",
     "output_type": "error",
     "traceback": [
      "\u001b[0;31m---------------------------------------------------------------------------\u001b[0m",
      "\u001b[0;31mNameError\u001b[0m                                 Traceback (most recent call last)",
      "Input \u001b[0;32mIn [17]\u001b[0m, in \u001b[0;36m<cell line: 1>\u001b[0;34m()\u001b[0m\n\u001b[0;32m----> 1\u001b[0m backend_list \u001b[38;5;241m=\u001b[39m \u001b[43mprovider\u001b[49m\u001b[38;5;241m.\u001b[39mbackends(filters\u001b[38;5;241m=\u001b[39moperational_backend(min_qubits\u001b[38;5;241m=\u001b[39mcircuit\u001b[38;5;241m.\u001b[39mnum_qubits))\n\u001b[1;32m      2\u001b[0m backend \u001b[38;5;241m=\u001b[39m least_busy(backend_list)\n\u001b[1;32m      4\u001b[0m \u001b[38;5;28mprint\u001b[39m(\u001b[38;5;124m'\u001b[39m\u001b[38;5;124mJobs will run on\u001b[39m\u001b[38;5;124m'\u001b[39m, backend\u001b[38;5;241m.\u001b[39mname())\n",
      "\u001b[0;31mNameError\u001b[0m: name 'provider' is not defined"
     ]
    }
   ],
   "source": [
    "backend_list = provider.backends(filters=operational_backend(min_qubits=circuit.num_qubits))\n",
    "backend = least_busy(backend_list)\n",
    "\n",
    "print('Jobs will run on', backend.name())"
   ]
  },
  {
   "cell_type": "code",
   "execution_count": 18,
   "id": "ed65a809",
   "metadata": {
    "tags": [
     "raises-exception",
     "remove-output"
    ]
   },
   "outputs": [
    {
     "ename": "NameError",
     "evalue": "name 'backend' is not defined",
     "output_type": "error",
     "traceback": [
      "\u001b[0;31m---------------------------------------------------------------------------\u001b[0m",
      "\u001b[0;31mNameError\u001b[0m                                 Traceback (most recent call last)",
      "Input \u001b[0;32mIn [18]\u001b[0m, in \u001b[0;36m<cell line: 1>\u001b[0;34m()\u001b[0m\n\u001b[0;32m----> 1\u001b[0m circuit_tr \u001b[38;5;241m=\u001b[39m transpile(circuit, backend\u001b[38;5;241m=\u001b[39m\u001b[43mbackend\u001b[49m)\n\u001b[1;32m      2\u001b[0m job \u001b[38;5;241m=\u001b[39m backend\u001b[38;5;241m.\u001b[39mrun(circuit_tr, shots\u001b[38;5;241m=\u001b[39m\u001b[38;5;241m8192\u001b[39m)\n\u001b[1;32m      4\u001b[0m job_monitor(job, interval\u001b[38;5;241m=\u001b[39m\u001b[38;5;241m2\u001b[39m)\n",
      "\u001b[0;31mNameError\u001b[0m: name 'backend' is not defined"
     ]
    }
   ],
   "source": [
    "circuit_tr = transpile(circuit, backend=backend)\n",
    "job = backend.run(circuit_tr, shots=8192)\n",
    "\n",
    "job_monitor(job, interval=2)"
   ]
  },
  {
   "cell_type": "code",
   "execution_count": 19,
   "id": "6b9d00b1",
   "metadata": {
    "tags": [
     "raises-exception",
     "remove-output"
    ]
   },
   "outputs": [
    {
     "ename": "NameError",
     "evalue": "name 'job' is not defined",
     "output_type": "error",
     "traceback": [
      "\u001b[0;31m---------------------------------------------------------------------------\u001b[0m",
      "\u001b[0;31mNameError\u001b[0m                                 Traceback (most recent call last)",
      "Input \u001b[0;32mIn [19]\u001b[0m, in \u001b[0;36m<cell line: 1>\u001b[0;34m()\u001b[0m\n\u001b[0;32m----> 1\u001b[0m result \u001b[38;5;241m=\u001b[39m \u001b[43mjob\u001b[49m\u001b[38;5;241m.\u001b[39mresult()\n\u001b[1;32m      2\u001b[0m plot_histogram(result\u001b[38;5;241m.\u001b[39mget_counts(\u001b[38;5;241m0\u001b[39m), figsize\u001b[38;5;241m=\u001b[39m(\u001b[38;5;241m16\u001b[39m, \u001b[38;5;241m4\u001b[39m))\n",
      "\u001b[0;31mNameError\u001b[0m: name 'job' is not defined"
     ]
    }
   ],
   "source": [
    "result = job.result()\n",
    "plot_histogram(result.get_counts(0), figsize=(16, 4))"
   ]
  },
  {
   "cell_type": "markdown",
   "id": "3ebb4daf",
   "metadata": {},
   "source": [
    "シミュレータでの結果とずれていたら、トランスパイルした回路`circuit_tr`を見て原因を考えてみてください。作ったのは一見単純な回路ですが、実際に実行されるものはどうなっているでしょうか。"
   ]
  },
  {
   "cell_type": "code",
   "execution_count": 20,
   "id": "e70f92b4",
   "metadata": {
    "tags": [
     "raises-exception",
     "remove-output"
    ]
   },
   "outputs": [
    {
     "ename": "NameError",
     "evalue": "name 'circuit_tr' is not defined",
     "output_type": "error",
     "traceback": [
      "\u001b[0;31m---------------------------------------------------------------------------\u001b[0m",
      "\u001b[0;31mNameError\u001b[0m                                 Traceback (most recent call last)",
      "Input \u001b[0;32mIn [20]\u001b[0m, in \u001b[0;36m<cell line: 1>\u001b[0;34m()\u001b[0m\n\u001b[0;32m----> 1\u001b[0m \u001b[43mcircuit_tr\u001b[49m\u001b[38;5;241m.\u001b[39mdraw(\u001b[38;5;124m'\u001b[39m\u001b[38;5;124mmpl\u001b[39m\u001b[38;5;124m'\u001b[39m)\n",
      "\u001b[0;31mNameError\u001b[0m: name 'circuit_tr' is not defined"
     ]
    }
   ],
   "source": [
    "circuit_tr.draw('mpl')"
   ]
  },
  {
   "cell_type": "markdown",
   "id": "39528ae4",
   "metadata": {},
   "source": [
    "**提出するもの**\n",
    "\n",
    "- 完成した回路のコードと実行結果（実機とシミュレータ）のヒストグラム\n",
    "- ヒストグラムから何が読み取れるかの考察\n",
    "- `haystack`レジスタが一般の$n$ビットであるとき、この方法で`needle`を探すことの問題点（実行時間の観点から）に関する考察"
   ]
  },
  {
   "cell_type": "markdown",
   "id": "8444541d",
   "metadata": {},
   "source": [
    "## 参考文献\n",
    "\n",
    "```{bibliography}\n",
    ":filter: docname in docnames\n",
    "```"
   ]
  }
 ],
 "metadata": {
  "jupytext": {
   "notebook_metadata_filter": "all",
   "text_representation": {
    "extension": ".md",
    "format_name": "myst",
    "format_version": 0.13,
    "jupytext_version": "1.11.5"
   }
  },
  "kernelspec": {
   "display_name": "Python 3 (ipykernel)",
   "language": "python",
   "name": "python3"
  },
  "language_info": {
   "codemirror_mode": {
    "name": "ipython",
    "version": 3
   },
   "file_extension": ".py",
   "mimetype": "text/x-python",
   "name": "python",
   "nbconvert_exporter": "python",
   "pygments_lexer": "ipython3",
   "version": "3.8.10"
  },
  "source_map": [
   23,
   35,
   45,
   59,
   63,
   76,
   89,
   93,
   121,
   125,
   164,
   175,
   206,
   215,
   219,
   246,
   277,
   290,
   296,
   310,
   320,
   340,
   346,
   357,
   364,
   390,
   410,
   416,
   421,
   431,
   457,
   461,
   467,
   471,
   480,
   489,
   494,
   498,
   502,
   510
  ]
 },
 "nbformat": 4,
 "nbformat_minor": 5
}