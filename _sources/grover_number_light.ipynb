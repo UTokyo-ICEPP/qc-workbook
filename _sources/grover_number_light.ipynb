{
 "cells": [
  {
   "cell_type": "markdown",
   "id": "58439fa2",
   "metadata": {},
   "source": [
    "# 【課題】ビット反転ボードの操作を見つける\n",
    "\n",
    "ビット反転ボードという架空のボードとグローバー探索を使って、ある数字を別の数字に変換する問題を考えてみます。"
   ]
  },
  {
   "cell_type": "markdown",
   "id": "85019259",
   "metadata": {
    "pycharm": {
     "name": "#%% md\n"
    }
   },
   "source": [
    "## 問題設定\n",
    "\n",
    "{doc}`グローバーのアルゴリズム <grover>`では、$N=2^6$個の要素を持つリスト（$=[0,1,2,\\cdots,63]$）から45を見つける問題を考えました。ここではこの6量子ビットの探索問題をベースに考えますが、問題は以下のようなものです。\n",
    "\n",
    "あるボードがあって、そのボードにはビット毎に0か1を書き込むことができます。例えば45であれば、2進数表記$45=101101$を6つの枠を持つボードに書き込みます。\n",
    "\n",
    "```{image} figs/grover_kadai1.png\n",
    ":alt: grover_kadai1\n",
    ":width: 500px\n",
    ":align: center\n",
    "```\n",
    "\n",
    "このボードは、ある桁のビットを「押す」と、そのビットと一つ隣のビットが反転するという特徴があります。例えば、45のボードの上から2桁目のビットを「押す」と、$21=010101$に変わると言った具合です。\n",
    "\n",
    "```{image} figs/grover_kadai2.png\n",
    ":alt: grover_kadai2\n",
    ":width: 500px\n",
    ":align: center\n",
    "```\n",
    "\n",
    "この課題では、このボードを使ってある数字（例えば45）を別の数字（例えば13）に変換するという問題を考えます。特に、最小の押し下げ回数で目的の数字が得られるにはどのビットを押し下げるのが良いか、そのビット位置を見つける問題です。\n",
    "\n",
    "```{image} figs/grover_kadai3.png\n",
    ":alt: grover_kadai3\n",
    ":width: 500px\n",
    ":align: center\n",
    "```"
   ]
  },
  {
   "cell_type": "markdown",
   "id": "21d7212b",
   "metadata": {
    "pycharm": {
     "name": "#%% md\n"
    }
   },
   "source": [
    "## ヒント\n",
    "\n",
    "いろんなやり方があると思いますが、例えば３つの量子ビットレジスタ、１つの古典ビットレジスタを持つ回路を考えてみます。\n",
    "\n",
    "- ボード上の数字を記録するレジスタ = board\n",
    "- ボードの「押し下げ」を記録するレジスタ = flip\n",
    "- ボード上の数字が欲しい答えの時に位相が反転するレジスタ = oracle\n",
    "- 測定結果を保持する古典レジスタ = result\n",
    "\n",
    "これらのレジスタを持つ回路を使って、以下のように考えてみてください。\n",
    "\n",
    "1. boardレジスタに初期値45をセットする。\n",
    "2. 6ビットの数字の場合、6量子ビットの「全ての押し下げパターンの重ね合わせ」をflipレジスタに作る。\n",
    "3. 各ビットの押し下げに対して、boardレジスタのビット反転を行う操作を量子ゲートで実装する。\n",
    "4. boardレジスタの数字が欲しい答えの場合に、oracleビットの位相を反転するオラクルを作る。"
   ]
  },
  {
   "cell_type": "code",
   "execution_count": null,
   "id": "02664c3d",
   "metadata": {
    "jupyter": {
     "outputs_hidden": false
    },
    "pycharm": {
     "name": "#%%\n"
    }
   },
   "outputs": [],
   "source": [
    "# Tested with python 3.8.12, qiskit 0.34.2, numpy 1.22.2\n",
    "from qiskit import QuantumCircuit, ClassicalRegister, QuantumRegister\n",
    "from qiskit import IBMQ, Aer, execute\n",
    "\n",
    "# 6量子ビットの探索問題を考える\n",
    "n = 6  # 量子ビット数\n",
    "\n",
    "# グローバー反復を繰り返す回数: pi/4*sqrt(2**6)に近い整数\n",
    "niter = 6\n",
    "\n",
    "# レジスタ\n",
    "board = QuantumRegister(n)   # ボードの「数字」を記録するレジスタ\n",
    "flip = QuantumRegister(n)   # ボードの「押し下げ」を記録するレジスタ\n",
    "oracle = QuantumRegister(1)   # ボード上の数字が欲しい答えの時に位相反転するレジスタ\n",
    "result = ClassicalRegister(n)   # 測定結果を保持する古典レジスタ"
   ]
  },
  {
   "cell_type": "markdown",
   "id": "ff4303be",
   "metadata": {},
   "source": [
    "以下の回路の中身を書いてください。"
   ]
  },
  {
   "cell_type": "code",
   "execution_count": null,
   "id": "f34a833e",
   "metadata": {
    "jupyter": {
     "outputs_hidden": false
    },
    "pycharm": {
     "name": "#%%\n"
    }
   },
   "outputs": [],
   "source": [
    "qc = QuantumCircuit(board, flip, oracle, result)\n",
    "\n",
    "##################\n",
    "### EDIT BELOW ###\n",
    "##################\n",
    "\n",
    "# qcの回路を書いてください\n",
    "\n",
    "##################\n",
    "### ABOVE BELOW ###\n",
    "##################"
   ]
  },
  {
   "cell_type": "markdown",
   "id": "e466baa2",
   "metadata": {},
   "source": [
    "コードをシミュレータで実行して、答えを確認する。\n",
    "Final scoreとして、得られた答え（ビット列）のうち、頻度が高いものから10個を出力しています。"
   ]
  },
  {
   "cell_type": "code",
   "execution_count": null,
   "id": "43504deb",
   "metadata": {
    "jupyter": {
     "outputs_hidden": false
    },
    "pycharm": {
     "name": "#%%\n"
    }
   },
   "outputs": [],
   "source": [
    "# シミュレータで実行\n",
    "backend = Aer.get_backend('qasm_simulator')\n",
    "job = execute(qc, backend=backend, shots=8000, seed_simulator=12345)\n",
    "result = job.result()\n",
    "count = result.get_counts()\n",
    "\n",
    "score_sorted = sorted(count.items(), key=lambda x:x[1], reverse=True)\n",
    "final_score = score_sorted[0:10]\n",
    "\n",
    "print('Final score:')\n",
    "print(final_score)"
   ]
  },
  {
   "cell_type": "markdown",
   "id": "a0b62912",
   "metadata": {
    "pycharm": {
     "name": "#%% md\n"
    }
   },
   "source": [
    "**提出するもの**\n",
    "- この問題を解く量子回路\n",
    "- 45を13に変換するビット押し下げパターンを高確率で見つけていることが分かる結果"
   ]
  }
 ],
 "metadata": {
  "jupytext": {
   "notebook_metadata_filter": "all",
   "text_representation": {
    "extension": ".md",
    "format_name": "myst",
    "format_version": 0.13,
    "jupytext_version": "1.11.5"
   }
  },
  "kernelspec": {
   "display_name": "Python 3",
   "language": "python",
   "name": "python3"
  },
  "language_info": {
   "codemirror_mode": {
    "name": "ipython",
    "version": 3
   },
   "file_extension": ".py",
   "mimetype": "text/x-python",
   "name": "python",
   "nbconvert_exporter": "python",
   "pygments_lexer": "ipython3",
   "version": "3.8.5"
  },
  "source_map": [
   23,
   29,
   59,
   78,
   102,
   106,
   126,
   131,
   154
  ]
 },
 "nbformat": 4,
 "nbformat_minor": 5
}