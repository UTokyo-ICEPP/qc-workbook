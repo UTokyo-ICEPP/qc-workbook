{
 "cells": [
  {
   "cell_type": "markdown",
   "id": "086573d8",
   "metadata": {},
   "source": [
    "# 【課題】ビット反転ボードの操作を見つける\n",
    "\n",
    "ビット反転ボードという架空のボードとグローバー探索を使って、ある数字を別の数字に変換する問題を考えてみます。"
   ]
  },
  {
   "cell_type": "markdown",
   "id": "9dcab1fd",
   "metadata": {
    "pycharm": {
     "name": "#%% md\n"
    }
   },
   "source": [
    "## 問題設定\n",
    "\n",
    "{doc}`グローバーのアルゴリズム <grover>`では、$N=2^6$個の要素を持つリスト（$=[0,1,2,\\cdots,63]$）から45を見つける問題を考えました。ここではこの6量子ビットの探索問題をベースに考えますが、問題は以下のようなものです。\n",
    "\n",
    "あるボードがあって、そのボードにはビット毎に0か1を書き込むことができます。例えば45であれば、2進数表記$45=101101$を6つの枠を持つボードに書き込みます。\n",
    "\n",
    "```{image} figs/grover_kadai1.png\n",
    ":alt: grover_kadai1\n",
    ":width: 500px\n",
    ":align: center\n",
    "```\n",
    "\n",
    "このボードは、ある桁のビットを「押す」と、そのビットと一つ隣のビットが反転するという特徴があります。例えば、45のボードの上から2桁目のビットを「押す」と、$21=010101$に変わると言った具合です。\n",
    "\n",
    "```{image} figs/grover_kadai2.png\n",
    ":alt: grover_kadai2\n",
    ":width: 500px\n",
    ":align: center\n",
    "```\n",
    "\n",
    "この課題では、このボードを使ってある数字（例えば45）を別の数字（例えば13）に変換するという問題を考えます。特に、最小の押し下げ回数で目的の数字が得られるにはどのビットを押し下げるのが良いか、そのビット位置を見つける問題です。\n",
    "\n",
    "```{image} figs/grover_kadai3.png\n",
    ":alt: grover_kadai3\n",
    ":width: 500px\n",
    ":align: center\n",
    "```"
   ]
  },
  {
   "cell_type": "markdown",
   "id": "d0edc82c",
   "metadata": {
    "pycharm": {
     "name": "#%% md\n"
    }
   },
   "source": [
    "## ヒント\n",
    "\n",
    "いろんなやり方があると思いますが、例えば３つの量子ビットレジスタ、１つの古典ビットレジスタを持つ回路を考えてみます。\n",
    "\n",
    "- ボード上の数字を記録するレジスタ = board\n",
    "- ボードの「押し下げ」を記録するレジスタ = flip\n",
    "- ボード上の数字が欲しい答えの時に位相が反転するレジスタ = oracle\n",
    "- 測定結果を保持する古典レジスタ = result\n",
    "\n",
    "これらのレジスタを持つ回路を使って、以下のように考えてみてください。\n",
    "\n",
    "1. boardレジスタに初期値45をセットする。\n",
    "2. 6ビットの数字の場合、6量子ビットの「全ての押し下げパターンの重ね合わせ」をflipレジスタに作る。\n",
    "3. 各ビットの押し下げに対して、boardレジスタのビット反転を行う操作を量子ゲートで実装する。\n",
    "4. boardレジスタの数字が欲しい答えの場合に、oracleビットの位相を反転するオラクルを作る。"
   ]
  },
  {
   "cell_type": "code",
   "execution_count": 1,
   "id": "4d5ec011",
   "metadata": {
    "jupyter": {
     "outputs_hidden": false
    },
    "pycharm": {
     "name": "#%%\n"
    }
   },
   "outputs": [],
   "source": [
    "# Tested with python 3.8.12, qiskit 0.34.2, numpy 1.22.2\n",
    "from qiskit import QuantumCircuit, ClassicalRegister, QuantumRegister, transpile\n",
    "from qiskit_aer import AerSimulator"
   ]
  },
  {
   "cell_type": "code",
   "execution_count": 2,
   "id": "6780cee1",
   "metadata": {
    "jupyter": {
     "outputs_hidden": false
    },
    "pycharm": {
     "name": "#%%\n"
    }
   },
   "outputs": [],
   "source": [
    "# 6量子ビットの探索問題を考える\n",
    "n = 6  # 量子ビット数\n",
    "\n",
    "# グローバー反復を繰り返す回数: pi/4*sqrt(2**6)に近い整数\n",
    "niter = 6\n",
    "\n",
    "# レジスタ\n",
    "board = QuantumRegister(n)   # ボードの「数字」を記録するレジスタ\n",
    "flip = QuantumRegister(n)   # ボードの「押し下げ」を記録するレジスタ\n",
    "oracle = QuantumRegister(1)   # ボード上の数字が欲しい答えの時に位相反転するレジスタ\n",
    "result = ClassicalRegister(n)   # 測定結果を保持する古典レジスタ"
   ]
  },
  {
   "cell_type": "markdown",
   "id": "d72bef56",
   "metadata": {},
   "source": [
    "以下の回路の中身を書いてください。"
   ]
  },
  {
   "cell_type": "code",
   "execution_count": 3,
   "id": "d2f0c917",
   "metadata": {
    "jupyter": {
     "outputs_hidden": false
    },
    "pycharm": {
     "name": "#%%\n"
    }
   },
   "outputs": [],
   "source": [
    "qc = QuantumCircuit(board, flip, oracle, result)\n",
    "\n",
    "##################\n",
    "### EDIT BELOW ###\n",
    "##################\n",
    "\n",
    "# qcの回路を書いてください\n",
    "\n",
    "##################\n",
    "### ABOVE BELOW ###\n",
    "##################"
   ]
  },
  {
   "cell_type": "markdown",
   "id": "bc07e103",
   "metadata": {},
   "source": [
    "コードをシミュレータで実行して、答えを確認する。\n",
    "Final scoreとして、得られた答え（ビット列）のうち、頻度が高いものから10個を出力しています。"
   ]
  },
  {
   "cell_type": "code",
   "execution_count": 4,
   "id": "578dea73",
   "metadata": {
    "jupyter": {
     "outputs_hidden": false
    },
    "pycharm": {
     "name": "#%%\n"
    },
    "tags": [
     "raises-exception",
     "remove-output"
    ]
   },
   "outputs": [
    {
     "ename": "QiskitError",
     "evalue": "'No counts for experiment \"0\"'",
     "output_type": "error",
     "traceback": [
      "\u001b[0;31m---------------------------------------------------------------------------\u001b[0m",
      "\u001b[0;31mQiskitError\u001b[0m                               Traceback (most recent call last)",
      "Cell \u001b[0;32mIn[4], line 6\u001b[0m\n\u001b[1;32m      4\u001b[0m job \u001b[38;5;241m=\u001b[39m backend\u001b[38;5;241m.\u001b[39mrun(qc_tr, shots\u001b[38;5;241m=\u001b[39m\u001b[38;5;241m8000\u001b[39m)\n\u001b[1;32m      5\u001b[0m result \u001b[38;5;241m=\u001b[39m job\u001b[38;5;241m.\u001b[39mresult()\n\u001b[0;32m----> 6\u001b[0m count \u001b[38;5;241m=\u001b[39m \u001b[43mresult\u001b[49m\u001b[38;5;241;43m.\u001b[39;49m\u001b[43mget_counts\u001b[49m\u001b[43m(\u001b[49m\u001b[43m)\u001b[49m\n\u001b[1;32m      8\u001b[0m score_sorted \u001b[38;5;241m=\u001b[39m \u001b[38;5;28msorted\u001b[39m(count\u001b[38;5;241m.\u001b[39mitems(), key\u001b[38;5;241m=\u001b[39m\u001b[38;5;28;01mlambda\u001b[39;00m x:x[\u001b[38;5;241m1\u001b[39m], reverse\u001b[38;5;241m=\u001b[39m\u001b[38;5;28;01mTrue\u001b[39;00m)\n\u001b[1;32m      9\u001b[0m final_score \u001b[38;5;241m=\u001b[39m score_sorted[\u001b[38;5;241m0\u001b[39m:\u001b[38;5;241m10\u001b[39m]\n",
      "File \u001b[0;32m/usr/local/lib/python3.10/dist-packages/qiskit/result/result.py:289\u001b[0m, in \u001b[0;36mResult.get_counts\u001b[0;34m(self, experiment)\u001b[0m\n\u001b[1;32m    287\u001b[0m         dict_list\u001b[38;5;241m.\u001b[39mappend(statevector\u001b[38;5;241m.\u001b[39mStatevector(vec)\u001b[38;5;241m.\u001b[39mprobabilities_dict(decimals\u001b[38;5;241m=\u001b[39m\u001b[38;5;241m15\u001b[39m))\n\u001b[1;32m    288\u001b[0m     \u001b[38;5;28;01melse\u001b[39;00m:\n\u001b[0;32m--> 289\u001b[0m         \u001b[38;5;28;01mraise\u001b[39;00m QiskitError(\u001b[38;5;124mf\u001b[39m\u001b[38;5;124m'\u001b[39m\u001b[38;5;124mNo counts for experiment \u001b[39m\u001b[38;5;124m\"\u001b[39m\u001b[38;5;132;01m{\u001b[39;00m\u001b[38;5;28mrepr\u001b[39m(key)\u001b[38;5;132;01m}\u001b[39;00m\u001b[38;5;124m\"\u001b[39m\u001b[38;5;124m'\u001b[39m)\n\u001b[1;32m    291\u001b[0m \u001b[38;5;66;03m# Return first item of dict_list if size is 1\u001b[39;00m\n\u001b[1;32m    292\u001b[0m \u001b[38;5;28;01mif\u001b[39;00m \u001b[38;5;28mlen\u001b[39m(dict_list) \u001b[38;5;241m==\u001b[39m \u001b[38;5;241m1\u001b[39m:\n",
      "\u001b[0;31mQiskitError\u001b[0m: 'No counts for experiment \"0\"'"
     ]
    }
   ],
   "source": [
    "# シミュレータで実行\n",
    "backend = AerSimulator()\n",
    "qc_tr = transpile(qc, backend=backend)\n",
    "job = backend.run(qc_tr, shots=8000)\n",
    "result = job.result()\n",
    "count = result.get_counts()\n",
    "\n",
    "score_sorted = sorted(count.items(), key=lambda x:x[1], reverse=True)\n",
    "final_score = score_sorted[0:10]\n",
    "\n",
    "print('Final score:')\n",
    "print(final_score)"
   ]
  },
  {
   "cell_type": "markdown",
   "id": "efaf51ba",
   "metadata": {
    "pycharm": {
     "name": "#%% md\n"
    }
   },
   "source": [
    "**提出するもの**\n",
    "- この問題を解く量子回路\n",
    "- 45を13に変換するビット押し下げパターンを高確率で見つけていることが分かる結果"
   ]
  }
 ],
 "metadata": {
  "jupytext": {
   "notebook_metadata_filter": "all",
   "text_representation": {
    "extension": ".md",
    "format_name": "myst",
    "format_version": 0.13,
    "jupytext_version": "1.14.5"
   }
  },
  "kernelspec": {
   "display_name": "Python 3 (ipykernel)",
   "language": "python",
   "name": "python3"
  },
  "language_info": {
   "codemirror_mode": {
    "name": "ipython",
    "version": 3
   },
   "file_extension": ".py",
   "mimetype": "text/x-python",
   "name": "python",
   "nbconvert_exporter": "python",
   "pygments_lexer": "ipython3",
   "version": "3.10.6"
  },
  "source_map": [
   23,
   29,
   59,
   77,
   91,
   111,
   115,
   135,
   140,
   164
  ]
 },
 "nbformat": 4,
 "nbformat_minor": 5
}