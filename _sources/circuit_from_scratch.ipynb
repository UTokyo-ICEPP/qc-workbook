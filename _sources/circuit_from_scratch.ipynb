{
 "cells": [
  {
   "cell_type": "markdown",
   "id": "e7bd9bb1",
   "metadata": {},
   "source": [
    "# 単純な量子回路をゼロから書く"
   ]
  },
  {
   "cell_type": "markdown",
   "id": "cd961517",
   "metadata": {},
   "source": [
    "{doc}`chsh_inequality`で、量子回路の基本的な書き方と実機での実行の仕方を学びました。そこで出てきたように、QCでは量子レジスタに特定の量子状態を実現することが計算を行うこととなります。そこで今回は、基本的なゲートを組み合わせて様々な量子状態を作る実習を行います。\n",
    "\n",
    "```{contents} 目次\n",
    "---\n",
    "local: true\n",
    "---\n",
    "```\n",
    "\n",
    "$\\newcommand{\\ket}[1]{|#1\\rangle}$\n",
    "$\\newcommand{\\braket}[2]{\\langle #1 | #2 \\rangle}$"
   ]
  },
  {
   "cell_type": "markdown",
   "id": "26f56a9e",
   "metadata": {},
   "source": [
    "## 状態ベクトルシミュレータで量子状態を調べる\n",
    "\n",
    "第一回の課題で利用したQCシミュレータ`AerSimulator`は、デフォルトの設定では実機と同様に量子回路の測定結果をヒストグラムとして返します。測定結果を返すということは、その出力からは量子状態の複素位相を含めた振幅は読み取れません。今回は作った量子状態をより詳細に調べるために、`AerSimulator`の状態ベクトルシミュレーション機能を利用します。状態ベクトルシミュレーションは、回路の終状態におけるすべての計算基底の確率振幅、つまりその量子状態に関する最も完全な情報を返します。"
   ]
  },
  {
   "cell_type": "code",
   "execution_count": 1,
   "id": "063ca75b",
   "metadata": {
    "tags": [
     "remove-output"
    ]
   },
   "outputs": [
    {
     "name": "stdout",
     "output_type": "stream",
     "text": [
      "notebook ready\n"
     ]
    }
   ],
   "source": [
    "# まずは全てインポート\n",
    "import numpy as np\n",
    "import matplotlib.pyplot as plt\n",
    "from IPython.display import Math\n",
    "from qiskit import QuantumCircuit, QuantumRegister, ClassicalRegister, transpile\n",
    "from qiskit_aer import AerSimulator\n",
    "# qc_workbookはこのワークブック独自のモジュール（インポートエラーが出る場合はPYTHONPATHを設定するか、sys.pathをいじってください）\n",
    "from qc_workbook.show_state import statevector_expr\n",
    "\n",
    "print('notebook ready')"
   ]
  },
  {
   "cell_type": "code",
   "execution_count": 2,
   "id": "5dfb3e72",
   "metadata": {},
   "outputs": [
    {
     "name": "stdout",
     "output_type": "stream",
     "text": [
      "aer_simulator_statevector\n"
     ]
    }
   ],
   "source": [
    "simulator = AerSimulator(method='statevector')\n",
    "print(simulator.name())"
   ]
  },
  {
   "cell_type": "markdown",
   "id": "0a544c4e",
   "metadata": {},
   "source": [
    "シミュレートする回路を作ります。ここでは例として前半で登場した回路1を使います。測定以外のゲートをかけていきます。"
   ]
  },
  {
   "cell_type": "code",
   "execution_count": 3,
   "id": "a8319997",
   "metadata": {},
   "outputs": [
    {
     "data": {
      "image/png": "[encoded data removed]",
      "text/plain": [
       "<Figure size 370.906x200.667 with 1 Axes>"
      ]
     },
     "execution_count": 3,
     "metadata": {},
     "output_type": "execute_result"
    }
   ],
   "source": [
    "circuit = QuantumCircuit(2)\n",
    "circuit.h(0)\n",
    "circuit.cx(0, 1)\n",
    "circuit.ry(-3. * np.pi / 4., 1)\n",
    "\n",
    "circuit.draw('mpl')"
   ]
  },
  {
   "cell_type": "markdown",
   "id": "1790dcb8",
   "metadata": {},
   "source": [
    "```{caution}\n",
    "回路に測定操作(`measure_all()`)を加えてしまうと、状態ベクトルシミュレータを利用して測定前の回路の量子状態を確認することができなくなります。\n",
    "```\n",
    "\n",
    "状態ベクトルシミュレーションを実行する際も`transpile`とバックエンドの`run`関数を使い、ジョブオブジェクトから結果を得ます。ただし、今回は計算結果からカウントではなく状態ベクトル（＝量子振幅の配列）を得るので`get_counts`ではなく`result.data()['statevector']`を参照します。"
   ]
  },
  {
   "cell_type": "code",
   "execution_count": 4,
   "id": "5508d639",
   "metadata": {},
   "outputs": [
    {
     "name": "stdout",
     "output_type": "stream",
     "text": [
      "<class 'numpy.ndarray'> complex128\n",
      "[ 0.27059805+0.j  0.65328148+0.j -0.65328148+0.j  0.27059805+0.j]\n"
     ]
    }
   ],
   "source": [
    "def get_statevector_array(circuit):\n",
    "    # 渡された回路のコピーを使う\n",
    "    circuit = circuit.copy()\n",
    "    # 量子回路の終状態の状態ベクトルを保存するインストラクション\n",
    "    circuit.save_statevector()\n",
    "    # 再び「おまじない」のtranspileをしてから、run()に渡す\n",
    "    circuit = transpile(circuit, backend=simulator)\n",
    "    job = simulator.run(circuit)\n",
    "    result = job.result()\n",
    "    qiskit_statevector = result.data()['statevector']\n",
    "\n",
    "    # result.data()['statevector']は通常の配列オブジェクト（ndarray）ではなくqiskit独自のクラスのインスタンス\n",
    "    # ただし np.asarray() で numpy の ndarray に変換可能\n",
    "    return np.asarray(qiskit_statevector)\n",
    "\n",
    "statevector = get_statevector_array(circuit)\n",
    "print(type(statevector), statevector.dtype)\n",
    "print(statevector)"
   ]
  },
  {
   "cell_type": "markdown",
   "id": "5799de38",
   "metadata": {},
   "source": [
    "状態ベクトルは`np.asarray()`でnumpy配列に変換できます。データタイプは128ビットの複素数（実部と虚部それぞれ64ビット）です。配列のインデックスがそのまま二進数としてみなした計算基底の値に対応しています。\n",
    "\n",
    "状態ベクトルデータから数式の文字列を作る[`statevector_expr`という関数](https://github.com/UTokyo-ICEPP/qc-workbook/tree/master/source/qc_workbook/show_state.py)はこのワークブックのレポジトリからインポートしています。"
   ]
  },
  {
   "cell_type": "code",
   "execution_count": 5,
   "id": "2e67327b",
   "metadata": {},
   "outputs": [
    {
     "data": {
      "text/latex": [
       "$\\displaystyle | \\text{final} \\rangle = 0.271 |0\\rangle + 0.653 |1\\rangle - 0.653 |2\\rangle + 0.271 |3\\rangle$"
      ],
      "text/plain": [
       "<IPython.core.display.Math object>"
      ]
     },
     "execution_count": 5,
     "metadata": {},
     "output_type": "execute_result"
    }
   ],
   "source": [
    "expr = statevector_expr(statevector)\n",
    "\n",
    "# Math()はLaTeXをタイプセットする関数\n",
    "Math(expr)"
   ]
  },
  {
   "cell_type": "markdown",
   "id": "8e6e969e",
   "metadata": {},
   "source": [
    "前回より、{eq}`回路1 <eqn-circuit1>`は$\\frac{1}{\\sqrt{2}} (s\\ket{00} + c\\ket{01} - c\\ket{10} + s\\ket{11})$（$s:=\\sin(\\pi/8)=0.271\\sqrt{2}$, $c:=\\cos(\\pi/8)=0.653\\sqrt{2}$）という状態を作るもののはずでした。実際に計算された終状態の状態ベクトルが一致しています。"
   ]
  },
  {
   "cell_type": "markdown",
   "id": "baa62dde",
   "metadata": {},
   "source": [
    "(other_gates)=\n",
    "## その他のゲート\n",
    "\n",
    "{doc}`chsh_inequality`で、よく使われる1量子ビットゲートと2量子ビット制御ゲートを紹介しましたが、他にも知っておくと便利なゲートがいくつかあります。"
   ]
  },
  {
   "cell_type": "markdown",
   "id": "35fb3397",
   "metadata": {},
   "source": [
    "### 1、2量子ビット\n",
    "\n",
    "```{list-table}\n",
    ":header-rows: 1\n",
    "* - ゲート名\n",
    "  - 対象量子ビット数\n",
    "  - 説明\n",
    "  - Qiskitコード\n",
    "* - $\\sqrt{X}$, SX\n",
    "  - 1\n",
    "  - 計算基底それぞれに対して、以下の変換をする。\n",
    "    ```{math}\n",
    "    \\sqrt{X} \\ket{0} = \\frac{1}{2} \\left[(1 + i) \\ket{0} + (1 - i) \\ket{1}\\right] \\\\\n",
    "    \\sqrt{X} \\ket{1} = \\frac{1}{2} \\left[(1 - i) \\ket{0} + (1 + i) \\ket{1}\\right]\n",
    "    ```\n",
    "  - circuit.sx(i)\n",
    "* - $P$\n",
    "  - 1\n",
    "  - パラメータ$\\phi$を取り、$\\ket{1}$に位相$e^{i\\phi}$をかける。$P(\\phi)$は$R_{z}(\\phi)$と等価なので、1量子ビットゲートとして利用する分にはどちらでも同じ結果が得られる。\n",
    "  - `circuit.p(phi, i)`\n",
    "* - $C^i_j[P]$\n",
    "  - 2\n",
    "  - パラメータ$\\phi$を取り、ビット$i, j$が1であるような計算基底の位相を$\\phi$前進させる。\n",
    "    ```{math}\n",
    "    C^i_j[P(\\phi)] \\ket{00} = \\ket{00} \\\\\n",
    "    C^i_j[P(\\phi)] \\ket{01} = \\ket{01} \\\\\n",
    "    C^i_j[P(\\phi)] \\ket{10} = \\ket{10} \\\\\n",
    "    C^i_j[P(\\phi)] \\ket{11} = e^{i\\phi} \\ket{11}\n",
    "    ```\n",
    "  - `circuit.cp(phi, i, j)`\n",
    "* - SWAP\n",
    "  - 2\n",
    "  - 二つの量子ビットの量子状態を交換する。CNOT三回で実装できる。\n",
    "    ```{math}\n",
    "    \\begin{align}\n",
    "    & C^0_1[X]C^1_0[X]C^0_1[X] (\\alpha \\ket{00} + \\beta \\ket{01} + \\gamma \\ket{10} + \\delta \\ket{11}) \\\\\n",
    "    = & C^0_1[X]C^1_0[X] (\\alpha \\ket{00} + \\beta \\ket{01} + \\gamma \\ket{11} + \\delta \\ket{10}) \\\\\n",
    "    = & C^0_1[X] (\\alpha \\ket{00} + \\beta \\ket{11} + \\gamma \\ket{01} + \\delta \\ket{10}) \\\\\n",
    "    = & \\alpha \\ket{00} + \\beta \\ket{10} + \\gamma \\ket{01} + \\delta \\ket{11}\n",
    "    \\end{align}\n",
    "    ```\n",
    "  - `circuit.swap(i, j)`\n",
    "```"
   ]
  },
  {
   "cell_type": "markdown",
   "id": "3144bea1",
   "metadata": {},
   "source": [
    "### 3量子ビット以上\n",
    "\n",
    "量子レジスタに対する全ての操作が1量子ビットゲートと2量子ビット制御ゲート（実際にはCNOTのみ）の組み合わせで表現できることはすでに触れましたが、実際に量子回路を書くときには3つ以上の量子ビットにかかるゲートを使用したほうがアルゴリズムをコンパクトに表現できます（最終的には1量子ビットゲートと2量子ビット制御ゲートに分解して実行されます）。\n",
    "\n",
    "3量子ビット以上にかかるゲートも基本は制御ゲートで、よく使われるのは制御ビットが複数あるような多重制御（multi-controlled）ゲート$C^{ij\\dots}_{k}[U]$です。そのうち制御ビットが2つで標的ビット1つに$X$をかける$C^{ij}_{k}[X]$は特別多用され、Toffoliゲートとも呼ばれます。\n",
    "\n",
    "多重制御ゲートでない3量子ビットゲートの例として、controlled SWAPというものも存在します。制御ビット1つで他の2つの量子ビットの間の量子状態交換を制御します。当然制御ビットを増やしたmulti-controlled SWAPというものも考えられます。\n",
    "\n",
    "Qiskitで多重制御ゲートに対応するコードは一般に`circuit.mc?(parameters, [controls], target)`という形を取ります。例えばToffoliゲートは\n",
    "\n",
    "```{code-block} python\n",
    "circuit.mcx([i, j], k)\n",
    "```\n",
    "\n",
    "で、$C^{ij}_{k}[R_y]$は\n",
    "\n",
    "```{code-block} python\n",
    "circuit.mcry(theta, [i, j], k)\n",
    "```\n",
    "\n",
    "となります。"
   ]
  },
  {
   "cell_type": "markdown",
   "id": "8d417a08",
   "metadata": {},
   "source": [
    "## 量子状態生成\n",
    "\n",
    "それでは、これまでに登場したゲートを使って量子状態生成のエクササイズをしましょう。\n",
    "\n",
    "実は`statevector_expr`関数には回路オブジェクトを直接渡すこともできるので（内部でシミュレータを実行し状態ベクトルオブジェクトを取得する）、ここからはその機能を利用します。また、コード中登場する`amp_norm`や`phase_norm`は、表示される数式において振幅や位相の共通因子をくくりだすために設定されています。\n",
    "\n",
    "各問題のコードセルには、ヒントとして回路が一部分だけ書かれています。残りの`circuit.?`の部分を埋めてみましょう。答えは一行とは限りません。また、同じ状態を作る量子回路は無数に存在するので、ヒントを消して独自の実装をしても構いません。"
   ]
  },
  {
   "cell_type": "markdown",
   "id": "2da259af",
   "metadata": {},
   "source": [
    "### 問題1: 1量子ビット、相対位相付き\n",
    "\n",
    "**問題**\n",
    "\n",
    "1量子ビットに対して状態\n",
    "\n",
    "$$\n",
    "\\frac{1}{\\sqrt{2}}\\left(\\ket{0} + i\\ket{1}\\right)\n",
    "$$\n",
    "\n",
    "を作りなさい。"
   ]
  },
  {
   "cell_type": "code",
   "execution_count": 6,
   "id": "64af5914",
   "metadata": {
    "tags": [
     "remove-output"
    ]
   },
   "outputs": [
    {
     "data": {
      "text/latex": [
       "$\\displaystyle | \\text{final} \\rangle = \\frac{1}{\\sqrt{2}}\\left( |0\\rangle +  |1\\rangle\\right)$"
      ],
      "text/plain": [
       "<IPython.core.display.Math object>"
      ]
     },
     "execution_count": 6,
     "metadata": {},
     "output_type": "execute_result"
    }
   ],
   "source": [
    "circuit = QuantumCircuit(1)\n",
    "##################\n",
    "### EDIT BELOW ###\n",
    "##################\n",
    "circuit.h(0)\n",
    "# circuit.?\n",
    "##################\n",
    "### EDIT ABOVE ###\n",
    "##################\n",
    "\n",
    "expr = statevector_expr(circuit, amp_norm=(np.sqrt(0.5), r'\\frac{1}{\\sqrt{2}}'))\n",
    "Math(expr)"
   ]
  },
  {
   "cell_type": "markdown",
   "id": "bebfe53f",
   "metadata": {},
   "source": [
    "**解答**\n",
    "\n",
    "````{toggle}\n",
    "正解は無限に存在しますが、上の回路ですでにアダマールゲートがかかっているので、最も手っ取り早いのは\n",
    "\n",
    "```{code-block} python\n",
    "circuit.h(0)\n",
    "circuit.p(np.pi / 2., 0)\n",
    "```\n",
    "\n",
    "でしょう。自分で入力して確認してみてください。\n",
    "\n",
    "また、上で触れたように、単一量子ビットの場合、$U_3$ゲートを使えば任意の状態を一つのゲート操作で生成できます。$U_3$を使った解答は\n",
    "\n",
    "```{code-block} python\n",
    "circuit.u3(np.pi / 2., np.pi / 2., 0., 0)\n",
    "```\n",
    "\n",
    "です。\n",
    "````"
   ]
  },
  {
   "cell_type": "markdown",
   "id": "80ebeb8f",
   "metadata": {},
   "source": [
    "### 問題2: ベル状態、相対位相付き\n",
    "\n",
    "**問題**\n",
    "\n",
    "2量子ビットに対して状態\n",
    "\n",
    "$$\n",
    "\\frac{1}{\\sqrt{2}}\\left(\\ket{0} + i\\ket{3}\\right)\n",
    "$$\n",
    "\n",
    "を作りなさい。"
   ]
  },
  {
   "cell_type": "code",
   "execution_count": 7,
   "id": "8cadd745",
   "metadata": {
    "tags": [
     "remove-output"
    ]
   },
   "outputs": [
    {
     "data": {
      "text/latex": [
       "$\\displaystyle | \\text{final} \\rangle = \\frac{1}{\\sqrt{2}}\\left(1.414 |0\\rangle\\right)$"
      ],
      "text/plain": [
       "<IPython.core.display.Math object>"
      ]
     },
     "execution_count": 7,
     "metadata": {},
     "output_type": "execute_result"
    }
   ],
   "source": [
    "circuit = QuantumCircuit(2)\n",
    "\n",
    "##################\n",
    "### EDIT BELOW ###\n",
    "##################\n",
    "# circuit.?\n",
    "circuit.cx(0, 1)\n",
    "##################\n",
    "### EDIT ABOVE ###\n",
    "##################\n",
    "\n",
    "expr = statevector_expr(circuit, amp_norm=(np.sqrt(0.5), r'\\frac{1}{\\sqrt{2}}'))\n",
    "Math(expr)"
   ]
  },
  {
   "cell_type": "markdown",
   "id": "69a0f582",
   "metadata": {},
   "source": [
    "**解答**\n",
    "\n",
    "````{toggle}\n",
    "問題1の結果を利用すると簡単です。初期状態は両ビットとも$\\ket{0}$なので、2ビットレジスタに対して問題1の操作をすると状態$1/\\sqrt{2}(\\ket{0} + i\\ket{1})\\ket{0}$ができます。ここでビット0から1にCNOTをかけると、$\\ket{1}\\ket{0} \\rightarrow \\ket{1}\\ket{1}$となるので、望む状態が実現します。\n",
    "\n",
    "```{code-block} python\n",
    "circuit.h(0)\n",
    "circuit.p(np.pi / 2., 0)\n",
    "circuit.cx(0, 1)\n",
    "```\n",
    "````"
   ]
  },
  {
   "cell_type": "markdown",
   "id": "d8bb7024",
   "metadata": {},
   "source": [
    "### 問題3: GHZ状態\n",
    "\n",
    "**問題**\n",
    "\n",
    "3量子ビットに対して状態\n",
    "\n",
    "$$\n",
    "\\frac{1}{\\sqrt{2}} (\\ket{0} + \\ket{7})\n",
    "$$\n",
    "\n",
    "を作りなさい。"
   ]
  },
  {
   "cell_type": "code",
   "execution_count": 8,
   "id": "abe7520d",
   "metadata": {
    "tags": [
     "remove-output"
    ]
   },
   "outputs": [
    {
     "data": {
      "text/latex": [
       "$\\displaystyle | \\text{final} \\rangle = \\frac{1}{\\sqrt{2}}\\left(1.414 |0\\rangle\\right)$"
      ],
      "text/plain": [
       "<IPython.core.display.Math object>"
      ]
     },
     "execution_count": 8,
     "metadata": {},
     "output_type": "execute_result"
    }
   ],
   "source": [
    "circuit = QuantumCircuit(3)\n",
    "\n",
    "##################\n",
    "### EDIT BELOW ###\n",
    "##################\n",
    "# circuit.?\n",
    "circuit.mcx([0, 1], 2)\n",
    "##################\n",
    "### EDIT ABOVE ###\n",
    "##################\n",
    "\n",
    "expr = statevector_expr(circuit, amp_norm=(np.sqrt(0.5), r'\\frac{1}{\\sqrt{2}}'))\n",
    "Math(expr)"
   ]
  },
  {
   "cell_type": "markdown",
   "id": "5a4b4bb7",
   "metadata": {
    "tags": [
     "hide-cell"
    ]
   },
   "source": [
    "**解答**\n",
    "\n",
    "````{toggle}\n",
    "Bell状態の生成と発想は同じですが、多重制御ゲート$C^{01}_2[X]$を利用します。\n",
    "\n",
    "```{code-block} python\n",
    "circuit.h(0)\n",
    "circuit.cx(0, 1)\n",
    "circuit.mcx([0, 1], 2)\n",
    "```\n",
    "````"
   ]
  },
  {
   "cell_type": "markdown",
   "id": "1ab49847",
   "metadata": {},
   "source": [
    "### 問題4: Equal superposition\n",
    "\n",
    "**問題**\n",
    "\n",
    "一般の$n$量子ビットに対して状態\n",
    "\n",
    "$$\n",
    "\\frac{1}{\\sqrt{2^n}} \\sum_{k=0}^{2^n-1} \\ket{k}\n",
    "$$\n",
    "\n",
    "を作る回路を考え、$n=4$のケースを実装しなさい。"
   ]
  },
  {
   "cell_type": "code",
   "execution_count": 9,
   "id": "3ccae82a",
   "metadata": {
    "tags": [
     "remove-output"
    ]
   },
   "outputs": [
    {
     "data": {
      "text/latex": [
       "$\\displaystyle | \\text{final} \\rangle = \\frac{1}{4}\\left(4 |0\\rangle\\right)$"
      ],
      "text/plain": [
       "<IPython.core.display.Math object>"
      ]
     },
     "execution_count": 9,
     "metadata": {},
     "output_type": "execute_result"
    }
   ],
   "source": [
    "num_qubits = 4\n",
    "\n",
    "circuit = QuantumCircuit(num_qubits)\n",
    "\n",
    "##################\n",
    "### EDIT BELOW ###\n",
    "##################\n",
    "# circuit.?\n",
    "##################\n",
    "### EDIT ABOVE ###\n",
    "##################\n",
    "\n",
    "sqrt_2_to_n = 2 ** (num_qubits // 2)\n",
    "expr = statevector_expr(circuit, amp_norm=(1. / sqrt_2_to_n, r'\\frac{1}{%d}' % sqrt_2_to_n))\n",
    "Math(expr)"
   ]
  },
  {
   "cell_type": "markdown",
   "id": "1f335ab9",
   "metadata": {
    "tags": [
     "hide-cell"
    ]
   },
   "source": [
    "**解答**\n",
    "\n",
    "````{toggle}\n",
    "Equal superpositionと呼ばれるこの状態は、量子計算でおそらく一番多様される状態です。一見複雑に思えますが、$n$桁の二進数で$0$から$2^n-1$までの数を表現すると、全ての0/1の組み合わせが登場するということを考えると、\n",
    "\n",
    "$$\n",
    "\\frac{1}{\\sqrt{2^n}} \\sum_{k=0}^{2^n-1} \\ket{k} = \\frac{1}{\\sqrt{2}}(\\ket{0} + \\ket{1}) \\otimes \\frac{1}{\\sqrt{2}}(\\ket{0} + \\ket{1}) \\otimes \\cdots \\otimes \\frac{1}{\\sqrt{2}}(\\ket{0} + \\ket{1})\n",
    "$$\n",
    "\n",
    "と、$n$個の$1/\\sqrt{2}(\\ket{0} + \\ket{1})$の積と等しいことがわかります。つまり各ビットに対してアダマールゲートをかけた状態にほかならず、\n",
    "\n",
    "```{code-block} python\n",
    "for i in range(4):\n",
    "    circuit.h(i)\n",
    "```\n",
    "が正解です。\n",
    "````"
   ]
  },
  {
   "cell_type": "markdown",
   "id": "812e71c8",
   "metadata": {},
   "source": [
    "### 問題5: 特定の基底の符号を反転させる\n",
    "\n",
    "**問題**\n",
    "\n",
    "問題4の4ビットequal superposition状態において、基底$\\ket{5}$の符号を反転させなさい。"
   ]
  },
  {
   "cell_type": "code",
   "execution_count": 10,
   "id": "1c6c7b13",
   "metadata": {
    "tags": [
     "remove-output"
    ]
   },
   "outputs": [
    {
     "data": {
      "text/latex": [
       "$\\displaystyle | \\text{final} \\rangle = \\frac{1}{4}\\left( |0\\rangle +  |1\\rangle +  |2\\rangle +  |3\\rangle +  |4\\rangle +  |5\\rangle +  |6\\rangle +  |7\\rangle +  |8\\rangle +  |9\\rangle +  |10\\rangle +  |11\\rangle +  |12\\rangle +  |13\\rangle +  |14\\rangle +  |15\\rangle\\right)$"
      ],
      "text/plain": [
       "<IPython.core.display.Math object>"
      ]
     },
     "execution_count": 10,
     "metadata": {},
     "output_type": "execute_result"
    }
   ],
   "source": [
    "num_qubits = 4\n",
    "\n",
    "circuit = QuantumCircuit(num_qubits)\n",
    "\n",
    "##################\n",
    "### EDIT BELOW ###\n",
    "##################\n",
    "for i in range(num_qubits):\n",
    "    circuit.h(i)\n",
    "\n",
    "# circuit.?\n",
    "##################\n",
    "### EDIT ABOVE ###\n",
    "##################\n",
    "\n",
    "sqrt_2_to_n = 2 ** (num_qubits // 2)\n",
    "expr = statevector_expr(circuit, amp_norm=(1. / sqrt_2_to_n, r'\\frac{1}{%d}' % sqrt_2_to_n))\n",
    "Math(expr)"
   ]
  },
  {
   "cell_type": "markdown",
   "id": "a7be0ddb",
   "metadata": {
    "tags": [
     "hide-cell"
    ]
   },
   "source": [
    "**解答**\n",
    "\n",
    "````{toggle}\n",
    "$\\ket{5}=\\ket{0101}$の符号を反転させるには、4つの量子ビットが0, 1, 0, 1という値を取っている状態のみに作用するゲートを使います。必然的に多重制御ゲートが用いられますが、残念ながら制御ゲートはビットの値が1であるときにしか働きません。そこで、まず$\\ket{0101}$を$\\ket{1111}$に変換し、その上で$C^{012}_{3}[P(\\pi)]$を使います[^mcz]。符号を反転させたら、最初の操作の逆操作をして$\\ket{1111}$を$\\ket{0101}$に変換します。\n",
    "\n",
    "```{code-block} python\n",
    "for i in range(4):\n",
    "    circuit.h(i)\n",
    "\n",
    "circuit.x(1)\n",
    "circuit.x(3)\n",
    "circuit.mcp(np.pi, [0, 1, 2], 3)\n",
    "circuit.x(1) # Xの逆操作はX\n",
    "circuit.x(3)\n",
    "```\n",
    "\n",
    "ビット1と3にかかっている$X$ゲートは当然他の基底にも影響するので、例えば$\\ket{0011}$は$\\ket{0110}$となります。しかし、1と3に$X$をかけて$\\ket{1111}$になるのは$\\ket{0101}$だけなので、逆操作でちゃんと「後片付け」さえすれば、この一連の操作で$\\ket{5}$だけをいじることができます。\n",
    "\n",
    "[^mcz]: （多重）制御$P$ゲートはどのビットを制御と呼んでも標的と呼んでも同じ作用をするので、$C^{123}_0[P(\\pi)]$でもなんでも構いません。\n",
    "````"
   ]
  },
  {
   "cell_type": "markdown",
   "id": "65c8e573",
   "metadata": {},
   "source": [
    "(equal_superposition_with_phase)=\n",
    "### 問題6: Equal superpositionに位相を付ける\n",
    "\n",
    "**問題**\n",
    "\n",
    "一般の$n$量子ビットに対して状態\n",
    "\n",
    "$$\n",
    "\\frac{1}{\\sqrt{2^n}}\\sum_{k=0}^{2^n-1} e^{2\\pi i s k/2^n} \\ket{k} \\quad (s \\in \\mathbb{R})\n",
    "$$\n",
    "\n",
    "を作る回路を考え、$n=6, s=2.5$のケースを実装しなさい。"
   ]
  },
  {
   "cell_type": "code",
   "execution_count": 11,
   "id": "435188f0",
   "metadata": {
    "tags": [
     "output_scroll",
     "remove-output"
    ]
   },
   "outputs": [
    {
     "data": {
      "text/latex": [
       "$\\displaystyle | \\text{final} \\rangle = \\frac{1}{8}\\left(8 |0\\rangle\\right)$"
      ],
      "text/plain": [
       "<IPython.core.display.Math object>"
      ]
     },
     "execution_count": 11,
     "metadata": {},
     "output_type": "execute_result"
    }
   ],
   "source": [
    "num_qubits = 6\n",
    "\n",
    "circuit = QuantumCircuit(num_qubits)\n",
    "\n",
    "s = 2.5\n",
    "\n",
    "##################\n",
    "### EDIT BELOW ###\n",
    "##################\n",
    "#for i in range(num_qubits):\n",
    "#    circuit.h(i)\n",
    "#\n",
    "# circuit.?\n",
    "##################\n",
    "### EDIT ABOVE ###\n",
    "##################\n",
    "\n",
    "sqrt_2_to_n = 2 ** (num_qubits // 2)\n",
    "amp_norm = (1. / sqrt_2_to_n, r'\\frac{1}{%d}' % sqrt_2_to_n)\n",
    "phase_norm = (2 * np.pi / (2 ** num_qubits), r'\\frac{2 \\pi i}{%d}' % (2 ** num_qubits))\n",
    "expr = statevector_expr(circuit, amp_norm, phase_norm=phase_norm)\n",
    "Math(expr)"
   ]
  },
  {
   "cell_type": "markdown",
   "id": "a1dd3ca6",
   "metadata": {
    "tags": [
     "hide-cell"
    ]
   },
   "source": [
    "**解答**\n",
    "\n",
    "````{toggle}\n",
    "問題4と同じように、この状態も個々の量子ビットにおける$\\ket{0}$と$\\ket{1}$の重ね合わせの積として表現できます。そのためには$k$の二進数表現$k = \\sum_{m=0}^{n-1} 2^m k_m \\, (k_m=0,1)$を用いて、$\\ket{k}$の位相を\n",
    "\n",
    "$$\n",
    "\\exp\\left(2\\pi i \\frac{sk}{2^n}\\right) = \\exp \\left(2\\pi i \\frac{s}{2^n} \\sum_{m=0}^{n-1} 2^m k_m\\right) = \\prod_{m=0}^{n-1} \\exp \\left(2\\pi i \\frac{s}{2^{n-m}} k_m\\right)\n",
    "$$\n",
    "\n",
    "と分解します。一方\n",
    "\n",
    "$$\n",
    "\\ket{k} = \\ket{k_{n-1}} \\otimes \\ket{k_{n-2}} \\otimes \\cdots \\ket{k_0}\n",
    "$$\n",
    "\n",
    "なので、\n",
    "\n",
    "$$\n",
    "e^{2\\pi i sk/2^n} \\ket{k} = e^{2\\pi i sk_{n-1}/2} \\ket{k_{n-1}} \\otimes \\cdots \\otimes e^{2\\pi i sk_{1}/2^{n-1}} \\ket{k_1} \\otimes e^{2\\pi i sk_{0}/2^n} \\ket{k_{0}}.\n",
    "$$\n",
    "\n",
    "最後に、$k_m = 0$ならば$e^{2\\pi i sk_{m}/2^n} = 1$であることから、\n",
    "\n",
    "$$\n",
    "\\frac{1}{\\sqrt{2^n}}\\sum_{k=0}^{2^n-1} e^{2\\pi i sk/2^n} \\ket{k} = \\frac{1}{\\sqrt{2}} \\left(\\ket{0} + e^{2\\pi i s/2} \\ket{1}\\right) \\otimes \\cdots \\otimes \\frac{1}{\\sqrt{2}} \\left(\\ket{0} + e^{2\\pi i s/2^n} \\ket{1}\\right)\n",
    "$$\n",
    "\n",
    "がわかります。\n",
    "\n",
    "```{code-block} python\n",
    "for m in range(num_qubits):\n",
    "    circuit.h(m)\n",
    "    circuit.p(2. * np.pi * s / (2 ** (num_qubits - m)), m)\n",
    "```\n",
    "\n",
    "が正解となります。\n",
    "````"
   ]
  },
  {
   "cell_type": "markdown",
   "id": "f339d0f7",
   "metadata": {},
   "source": [
    "## 量子計算プリミティブ\n",
    "\n",
    "量子計算をする回路を実装するにあたって、いくつか知っておくと便利な「パーツ」があります。これらは単体で「アルゴリズム」と呼べるものではなく、量子コンピュータを使った様々な計算の過程で、状況に合わせて応用する回路の雛形です。"
   ]
  },
  {
   "cell_type": "markdown",
   "id": "b8f8e2ca",
   "metadata": {},
   "source": [
    "### 条件分岐\n",
    "\n",
    "古典的には、ほとんどのプログラムが条件分岐`if ... else ...`がなければ成り立ちません。量子コンピュータのプログラムである量子回路で、条件分岐に対応するものはなんでしょうか？\n",
    "\n",
    "#### 測定結果に基づいた分岐\n",
    "\n",
    "一つ考えうるのは、「回路のある時点である量子レジスタを測定し、その結果に応じて異なるゲートを他のレジスタにかける」という構造です。これまで測定とは量子回路の一番最後で行うものだと言ってきましたが、実は測定も一つのオペレーションとしてどこで行っても構いません。ただし、例えば状態$\\ket{\\psi} = \\sum_{k} c_k \\ket{k}$にあるレジスタを計算基底で測定し、$j$というビット列が得られたとすると、そのレジスタは$\\ket{j}$という状態に「射影」されてしまい、元々の$\\{c_k\\}$という振幅の情報は失われます。\n",
    "\n",
    "例として、サイズ4のレジスタ1にequal superpositionを実現し、測定して得られた計算基底$j$に応じて$R_y(2 \\pi \\frac{j}{16})$をレジスタ2の量子ビットにかける回路を書いてみます。"
   ]
  },
  {
   "cell_type": "code",
   "execution_count": 12,
   "id": "c088305b",
   "metadata": {},
   "outputs": [
    {
     "data": {
      "image/png": "[encoded data removed]",
      "text/plain": [
       "<Figure size 920.851x535.111 with 1 Axes>"
      ]
     },
     "execution_count": 12,
     "metadata": {},
     "output_type": "execute_result"
    }
   ],
   "source": [
    "register1 = QuantumRegister(4, name='reg1')\n",
    "register2 = QuantumRegister(1, name='reg2')\n",
    "output1 = ClassicalRegister(4, name='out1') # 測定結果を保持する「古典レジスタ」オブジェクト\n",
    "\n",
    "circuit = QuantumCircuit(register1, register2, output1)\n",
    "\n",
    "# register1にequal superpositionを実現\n",
    "circuit.h(register1)\n",
    "# register1を測定し、結果をoutput1に書き込む\n",
    "circuit.measure(register1, output1)\n",
    "\n",
    "# output1の各位iの0/1に応じて、dtheta * 2^iだけRyをかけると、全体としてRy(2pi * j/16)が実現する\n",
    "dtheta = 2. * np.pi / 16.\n",
    "\n",
    "for idx in range(4):\n",
    "    # circuit.***.c_if(classical_bit, 1) <- classical_bitが1のときに***ゲートをかける\n",
    "    angle = dtheta * (2 ** idx)\n",
    "    circuit.ry(angle, register2[0]).c_if(output1[idx], 1)\n",
    "\n",
    "circuit.draw('mpl')"
   ]
  },
  {
   "cell_type": "markdown",
   "id": "b5de2cc4",
   "metadata": {},
   "source": [
    "測定オペレーションが入っているので、この回路をstatevector simulatorに渡すと、シミュレーションを実行するごとにレジスタ1の状態がランダムに決定されます。次のセルを複数回実行して、上の回路が狙い通り動いていることを確認してみましょう。\n",
    "\n",
    "入力と出力のレジスタの値が別々に表示されるよう、`statevector_expr`の`register_sizes`という引数を利用して、5ビットの回路を4ビットと1ビットに分けて解釈するよう指定します。"
   ]
  },
  {
   "cell_type": "code",
   "execution_count": 13,
   "id": "c13209f2",
   "metadata": {},
   "outputs": [
    {
     "data": {
      "text/latex": [
       "$\\displaystyle | \\text{final} \\rangle = 0.195 |0:7\\rangle + 0.981 |1:7\\rangle$"
      ],
      "text/plain": [
       "<IPython.core.display.Math object>"
      ]
     },
     "execution_count": 13,
     "metadata": {},
     "output_type": "execute_result"
    }
   ],
   "source": [
    "Math(statevector_expr(circuit, register_sizes=[4, 1]))\n",
    "\n",
    "# cos(pi*0/16) = 1.000, sin(pi*0/16) = 0.000\n",
    "# cos(pi*1/16) = 0.981, sin(pi*1/16) = 0.195\n",
    "# cos(pi*2/16) = 0.924, sin(pi*2/16) = 0.383\n",
    "# cos(pi*3/16) = 0.831, sin(pi*3/16) = 0.556\n",
    "# cos(pi*4/16) = 0.707, sin(pi*4/16) = 0.707\n",
    "# cos(pi*5/16) = 0.556, sin(pi*5/16) = 0.831\n",
    "# cos(pi*6/16) = 0.383, sin(pi*6/16) = 0.924\n",
    "# cos(pi*7/16) = 0.195, sin(pi*7/16) = 0.981\n",
    "# cos(pi*8/16) = 0.000, sin(pi*8/16) = 1.000\n",
    "# cos(pi*9/16) = -0.195, sin(pi*9/16) = 0.981\n",
    "# cos(pi*10/16) = -0.383, sin(pi*10/16) = 0.924\n",
    "# cos(pi*11/16) = -0.556, sin(pi*11/16) = 0.831\n",
    "# cos(pi*12/16) = -0.707, sin(pi*12/16) = 0.707\n",
    "# cos(pi*13/16) = -0.831, sin(pi*13/16) = 0.556\n",
    "# cos(pi*14/16) = -0.924, sin(pi*14/16) = 0.383\n",
    "# cos(pi*15/16) = -0.981, sin(pi*15/16) = 0.195"
   ]
  },
  {
   "cell_type": "markdown",
   "id": "d119f0da",
   "metadata": {},
   "source": [
    "#### 条件分岐としての制御ゲート\n",
    "\n",
    "上の方法は古典プログラミングとの対応が明らかですが、あまり「量子ネイティブ」な計算の仕方とは言えません。量子計算でより自然なのは、重ね合わせ状態の生成を条件分岐とみなし、全ての分岐が回路の中で同時に扱われるようにすることです。それは結局制御ゲートを使うということに他なりません。\n",
    "\n",
    "上の回路の量子条件分岐版は以下のようになります。"
   ]
  },
  {
   "cell_type": "code",
   "execution_count": 14,
   "id": "c7288278",
   "metadata": {},
   "outputs": [
    {
     "data": {
      "image/png": "[encoded data removed]",
      "text/plain": [
       "<Figure size 586.406x451.5 with 1 Axes>"
      ]
     },
     "execution_count": 14,
     "metadata": {},
     "output_type": "execute_result"
    }
   ],
   "source": [
    "register1 = QuantumRegister(4, name='reg1')\n",
    "register2 = QuantumRegister(1, name='reg2')\n",
    "\n",
    "circuit = QuantumCircuit(register1, register2)\n",
    "\n",
    "circuit.h(register1)\n",
    "\n",
    "dtheta = 2. * np.pi / 16.\n",
    "\n",
    "for idx in range(4):\n",
    "    circuit.cry(dtheta * (2 ** idx), register1[idx], register2[0])\n",
    "\n",
    "circuit.draw('mpl')"
   ]
  },
  {
   "cell_type": "markdown",
   "id": "d1a2af94",
   "metadata": {},
   "source": [
    "今度は全ての分岐が重ね合わさった量子状態が実現しています。"
   ]
  },
  {
   "cell_type": "code",
   "execution_count": 15,
   "id": "800aefbf",
   "metadata": {},
   "outputs": [
    {
     "data": {
      "text/latex": [
       "$\\displaystyle | \\text{final} \\rangle = 0.250 |0:0\\rangle + 0.245 |0:1\\rangle + 0.231 |0:2\\rangle + 0.208 |0:3\\rangle + 0.177 |0:4\\rangle + 0.139 |0:5\\rangle \\\\  + 0.096 |0:6\\rangle + 0.049 |0:7\\rangle - 0.049 |0:9\\rangle - 0.096 |0:10\\rangle - 0.139 |0:11\\rangle - 0.177 |0:12\\rangle \\\\  - 0.208 |0:13\\rangle - 0.231 |0:14\\rangle - 0.245 |0:15\\rangle + 0.049 |1:1\\rangle + 0.096 |1:2\\rangle + 0.139 |1:3\\rangle \\\\  + 0.177 |1:4\\rangle + 0.208 |1:5\\rangle + 0.231 |1:6\\rangle + 0.245 |1:7\\rangle + 0.250 |1:8\\rangle + 0.245 |1:9\\rangle \\\\  + 0.231 |1:10\\rangle + 0.208 |1:11\\rangle + 0.177 |1:12\\rangle + 0.139 |1:13\\rangle + 0.096 |1:14\\rangle + 0.049 |1:15\\rangle$"
      ],
      "text/plain": [
       "<IPython.core.display.Math object>"
      ]
     },
     "execution_count": 15,
     "metadata": {},
     "output_type": "execute_result"
    }
   ],
   "source": [
    "lines = statevector_expr(circuit, register_sizes=[4, 1], terms_per_row=6)\n",
    "Math(r' \\\\ '.join(lines))"
   ]
  },
  {
   "cell_type": "markdown",
   "id": "102bc353",
   "metadata": {},
   "source": [
    "### 関数\n",
    "\n",
    "整数値変数$x$を引数に取り、バイナリ値$f(x) \\in \\{0, 1\\}$を返す関数$f$を量子回路で実装する一つの方法は、\n",
    "\n",
    "$$\n",
    "U_{f}\\ket{y}\\ket{x} = \\ket{y \\oplus f(x)}\\ket{x} \\quad (y \\in \\{0, 1\\})\n",
    "$$\n",
    "\n",
    "となるようなゲートの組み合わせ$U_{f}$を見つけることです。ここで、$\\oplus$は「2を法とする足し算」つまり和を2で割った余りを表します（$y=0$なら$y \\oplus f(x) = f(x)$、$y=1$なら$y \\oplus f(x) = 1 - f(x)$）。要するに、$U_{f}$は「$f(x)$の値が0だったら何もせず、1だったら右のケットをビット反転させる」というオペレーションです。\n",
    "\n",
    "このような関数回路は量子アルゴリズムを考える上で頻出します。二点指摘しておくと、\n",
    "- 単に$U_{f}\\ket{y}\\ket{x} = \\ket{f(x)}\\ket{x}$とできないのは、量子回路は可逆でなければいけないという制約があるからです。もともと右のレジスタにあった$y$という情報を消してしまうような回路は不可逆なので、そのような$U_{f}$の回路実装は存在しません。\n",
    "- 関数の返り値がバイナリというのはかなり限定的な状況を考えているようですが、一般の整数値関数も単に「1の位を返す関数$f_0$」「2の位を返す関数$f_1$」...と重ねていくだけで表現できます。\n",
    "\n",
    "さて、このような$U_f$を実装する時も、やはり鍵となるのは制御ゲートです。例えば、実際に4ビット整数値関数に拡張した$f=f_3 f_2 f_1 f_0$を$x \\in \\{0, \\dots, 7\\}$を15から引く関数としたとき、それに対応する回路は"
   ]
  },
  {
   "cell_type": "code",
   "execution_count": 16,
   "id": "6383edef",
   "metadata": {},
   "outputs": [
    {
     "data": {
      "image/png": "[encoded data removed]",
      "text/plain": [
       "<Figure size 698.671x618.722 with 1 Axes>"
      ]
     },
     "execution_count": 16,
     "metadata": {},
     "output_type": "execute_result"
    }
   ],
   "source": [
    "input_register = QuantumRegister(3, name='input')\n",
    "output_register = QuantumRegister(4, name='output')\n",
    "\n",
    "circuit = QuantumCircuit(input_register, output_register)\n",
    "\n",
    "# input_registerに適当な値（6）を入力\n",
    "circuit.x(input_register[1])\n",
    "circuit.x(input_register[2])\n",
    "\n",
    "circuit.barrier()\n",
    "\n",
    "# ここからが引き算をするU_f\n",
    "# まずoutput_registerの全てのビットを立てる\n",
    "circuit.x(output_register)\n",
    "for idx in range(3):\n",
    "    # その上で、CNOTを使ってinput_registerでビットが1である時にoutput_registerの対応するビットが0にする\n",
    "    circuit.cx(input_register[idx], output_register[idx])\n",
    "\n",
    "circuit.draw('mpl')"
   ]
  },
  {
   "cell_type": "code",
   "execution_count": 17,
   "id": "00ab8ed5",
   "metadata": {},
   "outputs": [
    {
     "data": {
      "text/latex": [
       "$\\displaystyle | \\text{final} \\rangle =  |9:6\\rangle$"
      ],
      "text/plain": [
       "<IPython.core.display.Math object>"
      ]
     },
     "execution_count": 17,
     "metadata": {},
     "output_type": "execute_result"
    }
   ],
   "source": [
    "Math(statevector_expr(circuit, register_sizes=[3, 4]))"
   ]
  },
  {
   "cell_type": "markdown",
   "id": "82aff8e3",
   "metadata": {},
   "source": [
    "入力レジスタの状態を色々変えて、状態ベクトルの変化を見てみましょう。\n",
    "\n",
    "### 状態ベクトルの内積\n",
    "\n",
    "次に紹介するのは、二つの状態$\\ket{\\psi}$と$\\ket{\\phi}$の間の内積の絶対値自乗$|\\braket{\\psi}{\\phi}|^2$を計算するテクニックです。\n",
    "\n",
    "まず、量子計算において二つの状態ベクトルの間の内積は、\n",
    "\n",
    "$$\n",
    "\\begin{split}\n",
    "\\ket{\\psi} = \\sum_{k=0}^{2^n-1} c_k \\ket{k} \\\\\n",
    "\\ket{\\phi} = \\sum_{k=0}^{2^n-1} d_k \\ket{k}\n",
    "\\end{split}\n",
    "$$\n",
    "\n",
    "に対して\n",
    "\n",
    "```{math}\n",
    ":label: inner_product\n",
    "\\braket{\\psi}{\\phi} = \\sum_{k=0}^{2^n-1} c^{*}_k d_k\n",
    "```\n",
    "\n",
    "で定義できます。内積の重要な性質として\n",
    "\n",
    "$$\n",
    "\\begin{split}\n",
    "0 \\leq |\\braket{\\psi}{\\phi}|^2 \\leq 1 \\\\\n",
    "|\\braket{\\psi}{\\phi}|^2 = 1 \\; \\text{iff} \\; \\ket{\\psi} \\sim \\ket{\\phi}\n",
    "\\end{split}\n",
    "$$\n",
    "\n",
    "（単位ベクトルにおけるCauchy-Schwarzの不等式）があります。二つの状態ベクトルが物理的に同一であるときに内積の絶対値が最大になるので、内積の絶対値は状態の「近さ」を表す指標になります。また、内積が0になるとき、二つのベクトルは直交すると言います。\n",
    "\n",
    "それから、状態ベクトルの内積と密接に関わる量として、状態ベクトルの重ね合わせ\n",
    "\n",
    "$$\n",
    "\\ket{\\psi} + \\ket{\\phi} = \\sum_k (c_k + d_k) \\ket{k} = \\sum_k z_k \\ket{k}\n",
    "$$\n",
    "\n",
    "の2-ノルム\n",
    "\n",
    "$$\n",
    "\\lVert \\ket{\\psi} + \\ket{\\phi} \\rVert_2 = \\sum_k |z_k|^2\n",
    "$$\n",
    "\n",
    "があります。単一の状態ベクトル$\\ket{\\psi}$では「量子力学の決まりごと」$\\braket{\\psi}{\\psi} = \\sum_k |c_k|^2 = 1$（$\\ket{\\psi}$は単位ベクトル）より2-ノルムが常に1ですが、上のような重ね合わせに対しては\n",
    "\n",
    "$$\n",
    "\\begin{split}\n",
    "\\sum_k |z_k|^2 & = \\sum_k (c_k + d_k)^* (c_k + d_k) \\\\\n",
    "& = \\sum_k \\left( |c_k|^2 + |d_k|^2 + c_k^* d_k + d_k^* c_k \\right) \\\\\n",
    "& = 2 \\left(1 + \\mathrm{Re}\\braket{\\psi}{\\phi} \\right)\n",
    "\\end{split}\n",
    "$$\n",
    "\n",
    "となり、2-ノルムが内積$\\braket{\\psi}{\\phi}$に依存します。\n",
    "\n",
    "内積や2-ノルムの計算は量子計算の様々な局面で登場します。それではその計算をする量子回路の組み方を見ていきましょう。実は2通りの異なる方法があります。"
   ]
  },
  {
   "cell_type": "markdown",
   "id": "5e0e1605",
   "metadata": {},
   "source": [
    "#### SWAPテスト\n",
    "\n",
    "状態$\\ket{\\psi}$と$\\ket{\\phi}$（具体的に実装するためここでは3量子ビットの状態とする）が二つのレジスタに実現しているような次の回路を実行し、`test_output`で0が出る確率を$P_0$、1が出る確率を$P_1$とすると、\n",
    "\n",
    "```{math}\n",
    ":label: swap_test\n",
    "P_0 - P_1 = |\\braket{\\psi}{\\phi}|^2\n",
    "```\n",
    "\n",
    "が成り立ちます。"
   ]
  },
  {
   "cell_type": "code",
   "execution_count": 18,
   "id": "77bef06d",
   "metadata": {},
   "outputs": [
    {
     "data": {
      "text/plain": [
       "<qiskit.circuit.instructionset.InstructionSet at 0x7f17da3a9ea0>"
      ]
     },
     "execution_count": 18,
     "metadata": {},
     "output_type": "execute_result"
    },
    {
     "data": {
      "image/png": "[encoded data removed]",
      "text/plain": [
       "<Figure size 640x480 with 2 Axes>"
      ]
     },
     "metadata": {},
     "output_type": "display_data"
    }
   ],
   "source": [
    "data_width = 3\n",
    "\n",
    "fig, axs = plt.subplots(1, 2)\n",
    "\n",
    "# 適当な状態|ψ>を作る回路\n",
    "psi_circuit = QuantumCircuit(data_width, name='|ψ>')\n",
    "psi_circuit.ry(0.7, 2)\n",
    "psi_circuit.cx(2, 1)\n",
    "psi_circuit.rz(0.5, 1)\n",
    "psi_circuit.cx(1, 0)\n",
    "psi_circuit.draw('mpl', ax=axs[0])\n",
    "axs[0].set_title(r'$\\psi$')\n",
    "\n",
    "# 適当な状態|φ>を作る回路\n",
    "phi_circuit = QuantumCircuit(data_width, name='|φ>')\n",
    "phi_circuit.rx(1.2, 0)\n",
    "phi_circuit.ry(2.1, 1)\n",
    "phi_circuit.cx(0, 2)\n",
    "phi_circuit.cz(1, 2)\n",
    "phi_circuit.ry(0.8, 2)\n",
    "phi_circuit.draw('mpl', ax=axs[1])\n",
    "axs[1].set_title(r'$\\phi$')\n",
    "\n",
    "# パーツが全て揃ったので、内積を計算する回路を作る\n",
    "reg_data1 = QuantumRegister(data_width, name='data1')\n",
    "reg_data2 = QuantumRegister(data_width, name='data2')\n",
    "reg_test = QuantumRegister(1, name='test')\n",
    "out = ClassicalRegister(1, name='out')\n",
    "\n",
    "circuit = QuantumCircuit(reg_data1, reg_data2, reg_test, out, name='SWAP_test')\n",
    "# 状態|ψ>と|φ>をデータレジスタに実現\n",
    "# 他の回路や別に定義したゲートを回路オブジェクトに組み込むときはappend()メソッドを使う\n",
    "# qargsでもとの回路の量子ビットを組み込み先のどの量子ビットに対応させるかを指定する\n",
    "circuit.append(psi_circuit, qargs=reg_data1)\n",
    "circuit.append(phi_circuit, qargs=reg_data2)\n",
    "\n",
    "# 回路図が見やすくなるようにバリアを入れる（計算上は何もしない操作）\n",
    "circuit.barrier()\n",
    "\n",
    "# ここからがSWAPテスト\n",
    "circuit.h(reg_test)\n",
    "\n",
    "for idx in range(data_width):\n",
    "    circuit.cswap(reg_test[0], reg_data1[idx], reg_data2[idx])\n",
    "\n",
    "circuit.h(reg_test)\n",
    "\n",
    "circuit.measure(reg_test, out)"
   ]
  },
  {
   "cell_type": "code",
   "execution_count": 19,
   "id": "31113fd6",
   "metadata": {},
   "outputs": [
    {
     "data": {
      "image/png": "[encoded data removed]",
      "text/plain": [
       "<Figure size 854.47x702.333 with 1 Axes>"
      ]
     },
     "execution_count": 19,
     "metadata": {},
     "output_type": "execute_result"
    }
   ],
   "source": [
    "circuit.draw('mpl')"
   ]
  },
  {
   "cell_type": "markdown",
   "id": "46db9083",
   "metadata": {},
   "source": [
    "式{eq}`swap_test`を導いてみましょう。\n",
    "\n",
    "```{toggle}\n",
    "全体回路の状態は初期状態$\\ket{0}_{\\mathrm{t}}\\ket{0}_{\\mathrm{d2}}\\ket{0}_{\\mathrm{d1}}$から始めて\n",
    "\n",
    "$$\n",
    "\\begin{align}\n",
    "& \\ket{0}_{\\mathrm{t}} \\ket{\\phi}_{\\mathrm{d2}}\\ket{\\psi}_{\\mathrm{d1}} \\\\\n",
    "\\rightarrow & \\frac{1}{\\sqrt{2}} (\\ket{0} + \\ket{1})_{\\mathrm{t}} \\ket{\\phi}_{\\mathrm{d2}} \\ket{\\psi}_{\\mathrm{d1}} \\\\\n",
    "\\rightarrow & \\frac{1}{\\sqrt{2}} (\\ket{0}_{\\mathrm{t}} \\ket{\\phi}_{\\mathrm{d2}} \\ket{\\psi}_{\\mathrm{d1}} + \\ket{1}_{\\mathrm{t}} \\ket{\\psi}_{\\mathrm{d2}} \\ket{\\phi}_{\\mathrm{d1}}) \\\\\n",
    "\\rightarrow & \\frac{1}{2} \\left[ (\\ket{0} + \\ket{1})_{\\mathrm{t}} \\ket{\\phi}_{\\mathrm{d2}} \\ket{\\psi}_{\\mathrm{d1}} + (\\ket{0} - \\ket{1})_{\\mathrm{t}} \\ket{\\psi}_{\\mathrm{d2}} \\ket{\\phi}_{\\mathrm{d1}} \\right] \\\\\n",
    "= & \\frac{1}{2} \\left[ \\ket{0}_{\\mathrm{t}} (\\ket{\\phi}_{\\mathrm{d2}} \\ket{\\psi}_{\\mathrm{d1}} + \\ket{\\psi}_{\\mathrm{d2}} \\ket{\\phi}_{\\mathrm{d1}}) + \\ket{1}_{\\mathrm{t}} (\\ket{\\phi}_{\\mathrm{d2}} \\ket{\\psi}_{\\mathrm{d1}} - \\ket{\\psi}_{\\mathrm{d_2}} \\ket{\\phi}_{\\mathrm{d1}}) \\right]\n",
    "\\end{align}\n",
    "$$\n",
    "\n",
    "と移っていきます。最後にテストレジスタ$\\mathrm{t}$を測定します。\n",
    "\n",
    "ここでポイントは、一般に二つのレジスタ$a, b$上に作られる量子状態\n",
    "\n",
    "$$\n",
    "\\sum_{kl} z_{kl} \\ket{l}_b \\ket{k}_a\n",
    "$$\n",
    "\n",
    "のレジスタ$b$だけを測定したとき、結果$j$が得られる確率は\n",
    "\n",
    "$$\n",
    "P_j = \\sum_k |z_{kj}|^2 = \\left\\lVert \\sum_k z_{kj} \\ket{k}_a \\right\\rVert_2\n",
    "$$\n",
    "\n",
    "つまり$\\ket{j}_b$の「係数」になっている$a$レジスタのベクトルの2-ノルムである、という点です。\n",
    "\n",
    "したがって、テストレジスタで0と1が測定される確率$P_0$と$P_1$は\n",
    "\n",
    "$$\n",
    "\\begin{align}\n",
    "P_0 & = \\frac{1}{4} \\lVert (\\ket{\\phi}_{\\mathrm{d2}} \\ket{\\psi}_{\\mathrm{d1}} + \\ket{\\psi}_{\\mathrm{d2}} \\ket{\\phi}_{\\mathrm{d1}}) \\rVert_2 = \\frac{1}{2} (1 + \\mathrm{Re}\\braket{\\psi}{\\phi}\\braket{\\phi}{\\psi}) \\\\\n",
    "P_1 & = \\frac{1}{4} \\lVert (\\ket{\\phi}_{\\mathrm{d2}} \\ket{\\psi}_{\\mathrm{d1}} - \\ket{\\psi}_{\\mathrm{d2}} \\ket{\\phi}_{\\mathrm{d1}}) \\rVert_2 = \\frac{1}{2} (1 - \\mathrm{Re}\\braket{\\psi}{\\phi}\\braket{\\phi}{\\psi})\n",
    "\\end{align}\n",
    "$$\n",
    "\n",
    "となります。$\\braket{\\psi}{\\phi}\\braket{\\phi}{\\psi} = |\\braket{\\psi}{\\phi}|^2$は実数なので、たしかに式{eq}`swap_test`が成り立ちます。\n",
    "```\n",
    "\n",
    "実際の回路でも確認してみましょう。入力の状態は"
   ]
  },
  {
   "cell_type": "code",
   "execution_count": 20,
   "id": "0617e22b",
   "metadata": {},
   "outputs": [
    {
     "data": {
      "text/latex": [
       "$\\displaystyle | \\psi \\rangle = 0.939e^{1.92 \\cdot \\pi i} |0\\rangle + 0.343e^{0.08 \\cdot \\pi i} |7\\rangle$"
      ],
      "text/plain": [
       "<IPython.core.display.Math object>"
      ]
     },
     "execution_count": 20,
     "metadata": {},
     "output_type": "execute_result"
    }
   ],
   "source": [
    "Math(statevector_expr(psi_circuit, state_label=r'\\psi'))"
   ]
  },
  {
   "cell_type": "code",
   "execution_count": 21,
   "id": "12a919e3",
   "metadata": {},
   "outputs": [
    {
     "data": {
      "text/latex": [
       "$\\displaystyle | \\phi \\rangle = 0.378 |0\\rangle + 0.109i |1\\rangle + 0.659 |2\\rangle - 0.191i |3\\rangle + 0.160 |4\\rangle - 0.259i |5\\rangle + 0.279 |6\\rangle + 0.451i |7\\rangle$"
      ],
      "text/plain": [
       "<IPython.core.display.Math object>"
      ]
     },
     "execution_count": 21,
     "metadata": {},
     "output_type": "execute_result"
    }
   ],
   "source": [
    "Math(statevector_expr(phi_circuit, state_label=r'\\phi'))"
   ]
  },
  {
   "cell_type": "markdown",
   "id": "d549ab2f",
   "metadata": {},
   "source": [
    "で、$|\\braket{\\psi}{\\phi}|^2$は"
   ]
  },
  {
   "cell_type": "code",
   "execution_count": 22,
   "id": "9d5e3487",
   "metadata": {},
   "outputs": [
    {
     "name": "stdout",
     "output_type": "stream",
     "text": [
      "0.20287760299395322\n"
     ]
    }
   ],
   "source": [
    "sv_psi = get_statevector_array(psi_circuit)\n",
    "sv_phi = get_statevector_array(phi_circuit)\n",
    "print(np.square(np.abs(np.sum(sv_psi.conjugate() * sv_phi))))"
   ]
  },
  {
   "cell_type": "markdown",
   "id": "8dcf8971",
   "metadata": {},
   "source": [
    "それに対し上の回路を1000000回実行した時の$P_0 - P_1$は"
   ]
  },
  {
   "cell_type": "code",
   "execution_count": 23,
   "id": "8add07a2",
   "metadata": {},
   "outputs": [
    {
     "name": "stdout",
     "output_type": "stream",
     "text": [
      "0.201936\n"
     ]
    }
   ],
   "source": [
    "simulator = AerSimulator()\n",
    "shots = 1000000\n",
    "\n",
    "circuit = transpile(circuit, backend=simulator)\n",
    "counts = simulator.run(circuit, shots=shots).result().get_counts()\n",
    "\n",
    "print((counts['0'] - counts['1']) / shots)"
   ]
  },
  {
   "cell_type": "markdown",
   "id": "e8ff5090",
   "metadata": {},
   "source": [
    "です。"
   ]
  },
  {
   "cell_type": "markdown",
   "id": "d6bec057",
   "metadata": {},
   "source": [
    "(inverse_circuit)=\n",
    "#### 逆回路の利用\n",
    "\n",
    "上の回路では入力状態$\\ket{\\psi}$や$\\ket{\\phi}$を適当な量子回路で作りましたが、見ればわかるようにSWAPテストは入力の生成過程によらず成り立ちます。例えばなんらかの「量子メモリ」デバイスがあって、そこから二つのデータレジスタに直接$\\ket{\\psi}$と$\\ket{\\phi}$がロードされてもいいわけです。ところが、現在の実際の量子コンピューティングにおいては、量子コンピュータ中の状態というのは全て$\\ket{0}$にゲートをかけていくことでしか作れません。\n",
    "\n",
    "入力状態が既知の回路で作られる場合は、SWAPテストよりもコンパクトで効率的な内積の絶対値自乗の計算方法があります。次のような回路を組むと、測定値が0である確率を$P_0$として\n",
    "\n",
    "```{math}\n",
    ":label: inverse_circuit\n",
    "P_0 = |\\braket{\\psi}{\\phi}|^2\n",
    "```\n",
    "\n",
    "が成り立ちます。"
   ]
  },
  {
   "cell_type": "code",
   "execution_count": 24,
   "id": "c56e377d",
   "metadata": {},
   "outputs": [
    {
     "data": {
      "image/png": "[encoded data removed]",
      "text/plain": [
       "<Figure size 752.426x367.889 with 1 Axes>"
      ]
     },
     "execution_count": 24,
     "metadata": {},
     "output_type": "execute_result"
    }
   ],
   "source": [
    "reg_data = QuantumRegister(data_width, name='data')\n",
    "circuit = QuantumCircuit(reg_data)\n",
    "\n",
    "circuit.append(phi_circuit, qargs=reg_data)\n",
    "# psi_circuit.inverse() -> psi_circuitの逆回路\n",
    "circuit.append(psi_circuit.inverse(), qargs=reg_data)\n",
    "\n",
    "circuit.measure_all()\n",
    "\n",
    "circuit.draw('mpl')"
   ]
  },
  {
   "cell_type": "markdown",
   "id": "7a482dbd",
   "metadata": {},
   "source": [
    "ポイントは`psi_circuit.inverse()`で得られる`psi_circuit`の逆回路です。逆回路とは、ゲートの順番を反転させ、全てのゲートをその逆操作で置き換えたものです。$\\ket{0}$から$\\ket{\\psi}$を作る回路を$U_{\\psi}$と表すと、逆回路は$U_{\\psi}^{-1}$もしくは$U_{\\psi}^{\\dagger}$と書かれ、\n",
    "\n",
    "$$\n",
    "U_{\\psi}^{-1} U_{\\psi} \\ket{0} = \\ket{0}\n",
    "$$\n",
    "\n",
    "です。一般に、状態$\\ket{\\lambda} = \\sum_k z_k \\ket{k}$を測定して0を得る確率$|z_0|^2$は内積の定義{eq}`inner_product`から$|\\braket{0}{\\lambda}|^2$と書けるので、上の回路の測定前の状態を$U_{\\psi}^{-1} U_{\\phi} \\ket{0} =: \\ket{U^{-1}_{\\psi} \\phi}$と表すと、\n",
    "\n",
    "$$\n",
    "P_0 = |\\braket{0}{U^{-1}_{\\psi} \\phi}|^2\n",
    "$$\n",
    "\n",
    "となります。ここから式{eq}`inverse_circuit`を導くには、量子力学と線形代数をよりはっきり結びつけて後者の言葉を使えば簡単ですが、量子回路と量子状態の概念を出発点として式{eq}`inverse_circuit`を証明することもできます。少し本筋から外れてしまいますが、以下に証明を載せておきます。"
   ]
  },
  {
   "cell_type": "markdown",
   "id": "150a9727",
   "metadata": {},
   "source": [
    "```{toggle}\n",
    "まず、任意の量子回路を表す写像$U$と任意の量子状態$\\ket{\\lambda}, \\ket{\\theta}$を考えます。量子回路は量子状態を量子状態に移すので、$U\\ket{\\lambda}$は単位ベクトル、つまり\n",
    "\n",
    "$$\n",
    "\\lVert U \\ket{\\lambda} \\rVert^2 = 1\n",
    "$$\n",
    "\n",
    "です。$\\chi$を複素数としたとき、ベクトル$(\\ket{\\lambda} + \\chi \\ket{\\theta}) / \\lVert \\ket{\\lambda} + \\chi \\ket{\\theta} \\rVert$も単位ベクトルなので、\n",
    "\n",
    "$$\n",
    "\\left\\lVert U \\frac{\\ket{\\lambda} + \\chi \\ket{\\theta}}{\\lVert \\ket{\\lambda} + \\chi \\ket{\\theta} \\rVert} \\right\\rVert^2 = 1\n",
    "$$\n",
    "\n",
    "したがって\n",
    "\n",
    "$$\n",
    "\\begin{align}\n",
    "2 + 2 \\mathrm{Re}(\\chi \\braket{U \\lambda}{U \\theta}) = 2 + 2 \\mathrm{Re}(\\chi\\braket{\\lambda}{\\theta}) \\\\\n",
    "\\therefore \\mathrm{Re}(\\chi \\braket{U \\lambda}{U \\theta}) = \\mathrm{Re}(\\chi \\braket{\\lambda}{\\theta})\n",
    "\\end{align}\n",
    "$$\n",
    "\n",
    "ここで$\\chi=1$と$\\chi=i$をそれぞれ考えると、$\\braket{U \\lambda}{U \\theta}$と$\\braket{\\lambda}{\\theta}$の実部と虚部が共に等しいので\n",
    "\n",
    "$$\n",
    "\\braket{U \\lambda}{U \\theta} = \\braket{\\lambda}{\\theta}.\n",
    "$$\n",
    "\n",
    "ところが右辺は\n",
    "\n",
    "$$\n",
    "\\braket{\\lambda}{\\theta} = \\braket{\\lambda}{U^{-1} U \\theta}\n",
    "$$\n",
    "\n",
    "でもあり、これが任意の$\\theta$で成立するので、結局任意の状態$\\rho$で\n",
    "\n",
    "$$\n",
    "\\braket{\\lambda}{U^{-1} \\rho} = \\braket{U \\lambda}{\\rho}\n",
    "$$\n",
    "\n",
    "が言えます。これより\n",
    "\n",
    "$$\n",
    "P_0 = |\\braket{0}{U^{-1}_{\\psi} \\phi}|^2 = |\\braket{\\psi}{\\phi}|^2\n",
    "$$\n",
    "\n",
    "です。\n",
    "```"
   ]
  },
  {
   "cell_type": "markdown",
   "id": "fbfe8a08",
   "metadata": {},
   "source": [
    "上の回路で式{eq}`inverse_circuit`を確認しましょう。"
   ]
  },
  {
   "cell_type": "code",
   "execution_count": 25,
   "id": "566dad25",
   "metadata": {},
   "outputs": [
    {
     "name": "stdout",
     "output_type": "stream",
     "text": [
      "0.202916\n"
     ]
    }
   ],
   "source": [
    "shots = 1000000\n",
    "\n",
    "circuit = transpile(circuit, backend=simulator)\n",
    "counts = simulator.run(circuit, shots=shots).result().get_counts()\n",
    "\n",
    "print(counts['000'] / shots)"
   ]
  },
  {
   "cell_type": "markdown",
   "id": "0d573f45",
   "metadata": {},
   "source": [
    "## 複製不可能定理とテレポーテーション\n",
    "\n",
    "量子アルゴリズムを考え、実装する時に非常に重要なのが、**任意の未知の量子状態の独立な複製を作る量子回路は存在しない**という複製不可能定理（no-cloning theorem）です。この定理は具体的には、入力状態$\\ket{\\psi}_{\\mathrm{in}}$と、同じビット数の初期化した出力レジスタ$\\ket{0}_{\\mathrm{out}}$がある時、$\\psi$に依存しない回路$U$で\n",
    "\n",
    "$$\n",
    "U (\\ket{\\psi}_{\\mathrm{in}} \\ket{0}_{\\mathrm{out}}) \\sim \\ket{\\psi}_{\\mathrm{in}} \\ket{\\psi}_{\\mathrm{out}}\n",
    "$$\n",
    "\n",
    "を実現するものはないということを主張しています。\n",
    "\n",
    "証明は簡単です。"
   ]
  },
  {
   "cell_type": "markdown",
   "id": "f7183dd6",
   "metadata": {},
   "source": [
    "```{toggle}\n",
    "二つの入力状態$\\psi$と$\\phi$を考え、左辺の内積を取ると（上の逆回路での内積計算の証明を利用して）\n",
    "\n",
    "$$\n",
    "|\\braket{U(\\psi_{\\mathrm{in}}, 0_{\\mathrm{out}})}{U(\\phi_{\\mathrm{in}}, 0_{\\mathrm{out}})}| = |\\braket{\\psi}{\\phi}\\braket{0}{0}| = |\\braket{\\psi}{\\phi}|.\n",
    "$$\n",
    "\n",
    "ところが右辺の内積は\n",
    "\n",
    "$$\n",
    "|\\braket{\\psi_{\\mathrm{in}}, \\psi_{\\mathrm{out}}}{\\phi_{\\mathrm{in}}, \\phi_{\\mathrm{out}}}| = |\\braket{\\psi}{\\phi}|^2.\n",
    "$$\n",
    "\n",
    "等価関係$\\sim$は位相を無視して同値ということだったので、両辺の内積のノルムは等しいはずであり、\n",
    "\n",
    "$$\n",
    "|\\braket{\\psi}{\\phi}| = |\\braket{\\psi}{\\phi}|^2.\n",
    "$$\n",
    "\n",
    "これは$|\\braket{\\psi}{\\phi}|=0$または$|\\braket{\\psi}{\\phi}|=1$を意味し、$\\ket{\\psi}$と$\\ket{\\phi}$が任意の状態であるという仮定と矛盾します。\n",
    "```"
   ]
  },
  {
   "cell_type": "markdown",
   "id": "a812b279",
   "metadata": {},
   "source": [
    "複製不可能定理は量子回路で実行できる計算のクラスを大幅に制限します。例えば、何かの計算を途中で打ち切ってその時点での量子状態をなんらかのメモリデバイスに保存できたとして、その状態をコピーすることができないので、結局そこから計算を再開できるのは一度だけということになります。\n",
    "\n",
    "任意の量子状態を複製することはできませんが、あるレジスタの量子状態を他のレジスタに移し替えることは可能です。このような操作を量子テレポーテーションと呼びます。テレポーテーションでは元々のレジスタの量子状態が失われるので、状態をコピーしたことにはなりません。\n",
    "\n",
    "1ビットの情報を転送する回路は以下のようになります。"
   ]
  },
  {
   "cell_type": "code",
   "execution_count": 26,
   "id": "73fd6ff1",
   "metadata": {},
   "outputs": [
    {
     "data": {
      "image/png": "[encoded data removed]",
      "text/plain": [
       "<Figure size 734.196x451.5 with 1 Axes>"
      ]
     },
     "execution_count": 26,
     "metadata": {},
     "output_type": "execute_result"
    }
   ],
   "source": [
    "# まずは入力ビットを適当な状態にする回路を作る\n",
    "# circuit.u (U3 gate)は3パラメータで一つの量子ビットを完全にコントロールするゲート\n",
    "prep_circuit = QuantumCircuit(1, name='prep')\n",
    "prep_circuit.u(0.7, 1.8, 2.1, 0)\n",
    "\n",
    "reg_in = QuantumRegister(1, name='in')\n",
    "reg_out = QuantumRegister(2, name='out')\n",
    "res_in = ClassicalRegister(1)\n",
    "res_ent = ClassicalRegister(1)\n",
    "\n",
    "circuit = QuantumCircuit(reg_in, reg_out, res_in, res_ent)\n",
    "\n",
    "# まずreg_inをprep_circuitの状態にする\n",
    "circuit.append(prep_circuit, qargs=reg_in)\n",
    "\n",
    "# reg_outはベル状態に用意する\n",
    "circuit.h(reg_out[0])\n",
    "circuit.cx(reg_out[0], reg_out[1])\n",
    "\n",
    "# reg_inとreg_outの第一ビットをエンタングルさせる\n",
    "circuit.cx(reg_in[0], reg_out[0])\n",
    "\n",
    "# reg_inにアダマールゲートをかけ、測定する\n",
    "circuit.h(reg_in[0])\n",
    "circuit.measure(reg_in[0], res_in[0])\n",
    "\n",
    "# reg_outのエンタングルしたビットも測定する\n",
    "circuit.measure(reg_out[0], res_ent[0])\n",
    "\n",
    "# reg_out[1]にreg_in, reg_entの測定結果に応じたゲートをかける\n",
    "circuit.x(reg_out[1]).c_if(res_ent[0], 1)\n",
    "circuit.z(reg_out[1]).c_if(res_in[0], 1)\n",
    "\n",
    "circuit.draw('mpl')"
   ]
  },
  {
   "cell_type": "markdown",
   "id": "17443fcf",
   "metadata": {},
   "source": [
    "入力ビットの状態は"
   ]
  },
  {
   "cell_type": "code",
   "execution_count": 27,
   "id": "8b363a76",
   "metadata": {},
   "outputs": [
    {
     "data": {
      "text/latex": [
       "$\\displaystyle | \\text{in} \\rangle = 0.939 |0\\rangle + 0.343e^{0.57 \\cdot \\pi i} |1\\rangle$"
      ],
      "text/plain": [
       "<IPython.core.display.Math object>"
      ]
     },
     "execution_count": 27,
     "metadata": {},
     "output_type": "execute_result"
    }
   ],
   "source": [
    "Math(statevector_expr(prep_circuit, state_label=r'\\text{in}'))"
   ]
  },
  {
   "cell_type": "markdown",
   "id": "5529dd4c",
   "metadata": {},
   "source": [
    "回路の終状態は"
   ]
  },
  {
   "cell_type": "code",
   "execution_count": 28,
   "id": "72f33e15",
   "metadata": {},
   "outputs": [
    {
     "data": {
      "text/latex": [
       "$\\displaystyle | \\text{final} \\rangle = 0.939 |0:1:1\\rangle + 0.343e^{0.57 \\cdot \\pi i} |1:1:1\\rangle$"
      ],
      "text/plain": [
       "<IPython.core.display.Math object>"
      ]
     },
     "execution_count": 28,
     "metadata": {},
     "output_type": "execute_result"
    }
   ],
   "source": [
    "Math(statevector_expr(circuit, register_sizes=(1, 1, 1)))"
   ]
  },
  {
   "cell_type": "markdown",
   "id": "ab11a73e",
   "metadata": {},
   "source": [
    "上のセルを何度か実行すると、右二つのレジスタは実行するごとにランダムに違う値を取るものの、二つの項で共通で、一番左のレジスタが$\\ket{\\text{in}}$と同じ状態にあることがわかります。このようにテレポーテーションが実際に起こることを、上の回路を元に数式でも確認してみるといいでしょう。"
   ]
  }
 ],
 "metadata": {
  "jupytext": {
   "notebook_metadata_filter": "all",
   "text_representation": {
    "extension": ".md",
    "format_name": "myst",
    "format_version": 0.13,
    "jupytext_version": "1.14.5"
   }
  },
  "kernelspec": {
   "display_name": "Python 3 (ipykernel)",
   "language": "python",
   "name": "python3"
  },
  "language_info": {
   "codemirror_mode": {
    "name": "ipython",
    "version": 3
   },
   "file_extension": ".py",
   "mimetype": "text/x-python",
   "name": "python",
   "nbconvert_exporter": "python",
   "pygments_lexer": "ipython3",
   "version": "3.10.6"
  },
  "source_map": [
   23,
   27,
   40,
   46,
   61,
   64,
   68,
   75,
   83,
   102,
   108,
   113,
   117,
   124,
   170,
   194,
   204,
   218,
   233,
   256,
   270,
   286,
   300,
   314,
   332,
   346,
   360,
   380,
   400,
   408,
   431,
   454,
   469,
   496,
   536,
   542,
   554,
   575,
   581,
   600,
   608,
   622,
   626,
   629,
   647,
   669,
   671,
   732,
   745,
   796,
   798,
   845,
   849,
   851,
   855,
   859,
   863,
   871,
   875,
   891,
   902,
   918,
   969,
   973,
   980,
   994,
   1018,
   1026,
   1061,
   1065,
   1067,
   1071,
   1073
  ]
 },
 "nbformat": 4,
 "nbformat_minor": 5
}