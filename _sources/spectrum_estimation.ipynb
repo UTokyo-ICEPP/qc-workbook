{
 "cells": [
  {
   "cell_type": "markdown",
   "id": "9fc560db",
   "metadata": {},
   "source": [
    "# 【課題】位相推定によるスペクトル分解\n",
    "\n",
    "```{contents} 目次\n",
    "---\n",
    "local: true\n",
    "---\n",
    "```\n",
    "\n",
    "$\\newcommand{\\ket}[1]{|#1\\rangle}$"
   ]
  },
  {
   "cell_type": "markdown",
   "id": "44c24024",
   "metadata": {},
   "source": [
    "## エネルギースペクトルを求める\n",
    "\n",
    "{doc}`後の実習 <vqe>`にも現れるように、物理学や化学において、系のエネルギー固有値（スペクトル）と対応する固有状態を求めるということは非常に重要な問題です。系のエネルギースペクトルを求めることとは、系を表すハミルトニアンを決め、それを対角化することに対応します。\n",
    "\n",
    "しかし、{doc}`前回の実習 <dynamics_simulation>`でも出てきたように、一般的に量子系の次元数は莫大で、ハミルトニアンの対角化の肝となる逆行列の計算をまともに行うことはできません。同実習では、そのような場合でも、ハミルトニアンが効率的な鈴木・トロッター分解を許す形であれば、量子コンピュータを使って時間発展シミュレーションを行えるということを示しました。ただし、このシミュレーションでは、系のエネルギー固有値や固有状態を明示的に利用しませんでした。\n",
    "\n",
    "実は、同じ時間発展シミュレーションの手法と、{doc}`shor`で登場した位相推定の手法を組み合わせると、エネルギー固有値も数値的に求めることができます{cite}`Aspuru-Guzik1704`。さらに、工夫によっては対応する固有状態も調べられます。ここでは外部磁場のかかったハイゼンベルグモデルを題材に、位相推定によるエネルギースペクトル分解をしてみましょう。"
   ]
  },
  {
   "cell_type": "markdown",
   "id": "f380d514",
   "metadata": {},
   "source": [
    "## ハイゼンベルグモデル再考\n",
    "\n",
    "前回登場したハイゼンベルグモデルのハミルトニアンは\n",
    "\n",
    "$$\n",
    "H = -J \\sum_{j=0}^{n-2} (\\sigma^X_j\\sigma^X_{j+1} + \\sigma^Y_j\\sigma^Y_{j+1} + \\sigma^Z_j \\sigma^Z_{j+1}) \\quad (J > 0)\n",
    "$$\n",
    "\n",
    "というものでした。このハミルトニアンが表しているのは、空間中で一列に並んだスピンを持つ粒子が、隣接粒子間で相互作用を及ぼしているような系でした。ここで相互作用は、スピンの向きが揃っているときにエネルギーが低くなるようなものでした。したがって、全てののスピンが同じ方向を向いているときにエネルギーが最も低くなることが予想されました。\n",
    "\n",
    "今回は、このハミルトニアンに外部からの磁場の影響を入れます。外部磁場がある時は、スピンが磁場の方向を向いているときにエネルギーが低くなります。したがって、外部磁場を$+Z$方向にかけるとすれば、ハミルトニアンは\n",
    "\n",
    "$$\n",
    "H = -J \\sum_{j=0}^{n-1} (\\sigma^X_j\\sigma^X_{j+1} + \\sigma^Y_j\\sigma^Y_{j+1} + \\sigma^Z_j \\sigma^Z_{j+1} + g \\sigma^Z_j)\n",
    "$$\n",
    "\n",
    "となります。このハミルトニアンにはもう一点前回と異なる部分があります。前回はスピンに関する和を$j=0$から$n-2$まで取ることで、両端のスピンは「内側」のスピンとしか相互作用をしないような境界条件を採用していました。今回は和を$n-1$まで取っています。$\\sigma^{X,Y,Z}_n$を$\\sigma^{X,Y,Z}_0$と同一視することで、これは「周期境界条件」（一列ではなく環状に並んだスピン）を表します。\n",
    "\n",
    "このようなハミルトニアンの固有値や固有状態がどのような値を取るのか、具体例で確認しましょう。最も簡単な$n=2, g=0$というケースを考え、直接対角化して厳密解を求めます。"
   ]
  },
  {
   "cell_type": "code",
   "execution_count": 1,
   "id": "f7034038",
   "metadata": {
    "tags": [
     "remove-output"
    ]
   },
   "outputs": [
    {
     "name": "stdout",
     "output_type": "stream",
     "text": [
      "notebook ready\n"
     ]
    }
   ],
   "source": [
    "# まず必要なモジュールをインポートする\n",
    "import numpy as np\n",
    "import matplotlib.pyplot as plt\n",
    "from qiskit import QuantumRegister, ClassicalRegister, QuantumCircuit, Aer, transpile\n",
    "from qiskit.visualization import plot_histogram\n",
    "# ワークブック独自のモジュール\n",
    "from qc_workbook.hamiltonian import make_hamiltonian\n",
    "from qc_workbook.show_state import show_state\n",
    "\n",
    "print('notebook ready')"
   ]
  },
  {
   "cell_type": "code",
   "execution_count": 2,
   "id": "77371b61",
   "metadata": {},
   "outputs": [
    {
     "data": {
      "image/png": "[encoded data removed]",
      "text/plain": [
       "<Figure size 720x36 with 1 Axes>"
      ]
     },
     "metadata": {
      "filenames": {
       "image/png": "/qc-workbook/build/ja/_build/jupyter_execute/spectrum_estimation_4_0.png"
      },
      "needs_background": "light"
     },
     "output_type": "display_data"
    },
    {
     "data": {
      "image/png": "[encoded data removed]",
      "text/plain": [
       "<Figure size 720x36 with 1 Axes>"
      ]
     },
     "metadata": {
      "filenames": {
       "image/png": "/qc-workbook/build/ja/_build/jupyter_execute/spectrum_estimation_4_1.png"
      },
      "needs_background": "light"
     },
     "output_type": "display_data"
    },
    {
     "data": {
      "image/png": "[encoded data removed]",
      "text/plain": [
       "<Figure size 720x36 with 1 Axes>"
      ]
     },
     "metadata": {
      "filenames": {
       "image/png": "/qc-workbook/build/ja/_build/jupyter_execute/spectrum_estimation_4_2.png"
      },
      "needs_background": "light"
     },
     "output_type": "display_data"
    },
    {
     "data": {
      "image/png": "[encoded data removed]",
      "text/plain": [
       "<Figure size 720x36 with 1 Axes>"
      ]
     },
     "metadata": {
      "filenames": {
       "image/png": "/qc-workbook/build/ja/_build/jupyter_execute/spectrum_estimation_4_3.png"
      },
      "needs_background": "light"
     },
     "output_type": "display_data"
    }
   ],
   "source": [
    "# Number of spins\n",
    "n_s = 2\n",
    "# Coupling parameter\n",
    "J = 1.\n",
    "# External field / J\n",
    "g = 0.\n",
    "\n",
    "# Construct the Hamiltonian matrix\n",
    "paulis = list()\n",
    "coeffs = list()\n",
    "for j in range(n_s):\n",
    "    paulis.append(list('x' if k in (j, (j + 1) % n_s) else 'i' for k in range(n_s)))\n",
    "    coeffs.append(-J)\n",
    "    paulis.append(list('y' if k in (j, (j + 1) % n_s) else 'i' for k in range(n_s)))\n",
    "    coeffs.append(-J)\n",
    "    paulis.append(list('z' if k in (j, (j + 1) % n_s) else 'i' for k in range(n_s)))\n",
    "    coeffs.append(-J)\n",
    "    if g != 0.:\n",
    "        paulis.append(list('z' if k == j else 'i' for k in range(n_s)))\n",
    "        coeffs.append(-J * g)\n",
    "\n",
    "hamiltonian = make_hamiltonian(paulis, coeffs)\n",
    "\n",
    "# Diagonalize and obtain the eigenvalues and vectors\n",
    "eigvals, eigvectors = np.linalg.eigh(hamiltonian)\n",
    "\n",
    "# Print the eigenvectors\n",
    "for i in range(eigvals.shape[0]):\n",
    "    show_state(eigvectors[:, i], binary=True, state_label=r'\\phi_{} (E={}J)'.format(i, eigvals[i]))"
   ]
  },
  {
   "cell_type": "markdown",
   "id": "91657c23",
   "metadata": {},
   "source": [
    "最後の部分で、[`show_state`関数](https://github.com/UTokyo-ICEPP/qc-workbook/tree/master/source/qc_workbook/show_state.py)を利用して固有値と固有ベクトルを表示しました。最低エネルギー状態（固有値$-2J$）に対応する独立な固有ベクトルが3つあることがわかります。したがって、これらの固有ベクトルの任意の線形和もまた最低エネルギー状態です。励起状態（固有値$6J$）は$1/\\sqrt{2} (-\\ket{01} + \\ket{10})$です。"
   ]
  },
  {
   "cell_type": "markdown",
   "id": "c0ba86df",
   "metadata": {},
   "source": [
    "## 位相推定によるスペクトル分解\n",
    "\n",
    "それでは本題に入りましょう。{doc}`shor`で登場した下の図において、$U$が何らかのハミルトニアン$H$による適当な時間$\\tau$の時間発展演算子$U_H(-\\tau)$である場合、何が言えるでしょうか。\n",
    "\n",
    "```{image} figs/qpe_wo_iqft.png\n",
    ":alt: qpe_wo_iqft\n",
    ":width: 500px\n",
    ":align: center\n",
    "```\n",
    "\n",
    "以下では、図中上のレジスタ（初期状態$\\ket{0}$）を読み出し(readout)レジスタR、下のレジスタ（初期状態$\\ket{\\psi}$）を状態(state)レジスタSと呼びます。RとSのビット数をそれぞれ$n_R$, $n_S$とします。また、図では読み出しレジスタの最低位（1の位）に対応するビットが一番下に描かれており、Qiskitでの描画法と逆になっていることに注意してください。\n",
    "\n",
    "さて、ハミルトニアン$H$を、エネルギーの次元を持つ定数$\\hbar \\omega$と無次元のエルミート演算子$\\Theta$とに分解します。\n",
    "\n",
    "$$\n",
    "H = \\hbar \\omega \\Theta.\n",
    "$$\n",
    "\n",
    "ここで$\\omega$はどう選んでも構いません。$\\omega$を$x$倍大きく取れば、その分$\\Theta$に$1/x$の係数をかけるだけです。実際には、後述するように$\\Theta$の固有値の絶対値が1より少しだけ小さくなるように$\\omega$を決めます。この書き換えにより\n",
    "\n",
    "$$\n",
    "U_H(-\\tau) \\ket{\\psi} = \\exp\\left(i\\omega \\tau \\Theta\\right) \\ket{\\psi}\n",
    "$$\n",
    "\n",
    "なので、図の回路に対応する演算子を$\\Gamma$とおくと、\n",
    "\n",
    "$$\n",
    "\\Gamma \\ket{0}_R \\ket{\\psi}_S = \\frac{1}{\\sqrt{2^{n_R}}} \\sum_{j=0}^{2^{n_R} - 1} \\exp\\left(i j \\omega \\tau \\Theta\\right) \\ket{j}_R \\ket{\\psi}_S\n",
    "$$\n",
    "\n",
    "です。この状態に対して、実習と同じように逆フーリエ変換を施します。\n",
    "\n",
    "$$\n",
    "\\text{QFT}^{\\dagger}_R \\Gamma \\ket{0}_R \\ket{\\psi}_S = \\frac{1}{2^{n_R}} \\sum_{k=0}^{2^{n_R} - 1} \\sum_{j=0}^{2^{n_R} - 1} \\exp(i j \\omega \\tau \\Theta) \\exp\\left(-\\frac{2 \\pi i j k}{2^{n_R}}\\right) \\ket{k}_R \\ket{\\psi}_S.\n",
    "$$\n",
    "\n",
    "さて、ここまで$\\tau$は「適当な時間」としか決めて来ませんでしたが、実際にどんな値をとってもいいので、$\\omega \\tau = 2 \\pi$となるように決めてしまいましょう。すると\n",
    "\n",
    "$$\n",
    "\\text{QFT}^{\\dagger}_R \\Gamma \\ket{0}_R \\ket{\\psi}_S = \\frac{1}{2^{n_R}} \\sum_{k=0}^{2^{n_R} - 1} \\sum_{j=0}^{2^{n_R} - 1} \\exp\\left[\\frac{2 \\pi i j}{2^{n_R}} \\left(2^{n_R} \\Theta - k\\right)\\right] \\ket{k}_R \\ket{\\psi}_S\n",
    "$$\n",
    "\n",
    "となります。したがって、$\\Theta$の固有ベクトル$\\{\\ket{\\phi_m}\\}$で$\\ket{\\psi}$が\n",
    "\n",
    "```{math}\n",
    ":label: spectral_decomposition\n",
    "\\ket{\\psi} = \\sum_{m=0}^{2^{n_S} - 1} \\psi_m \\ket{\\phi_m}\n",
    "```\n",
    "\n",
    "と書けるなら、対応する固有値を$\\{\\theta_m\\}$とし、$\\kappa_m = 2^{n_R} \\theta_m$を用いて\n",
    "\n",
    "```{math}\n",
    ":label: spectrum_estimation_final\n",
    "\\begin{align}\n",
    "\\text{QFT}^{\\dagger}_R \\Gamma \\ket{0}_R \\ket{\\psi}_S & = \\frac{1}{2^{n_R}} \\sum_{k=0}^{2^{n_R} - 1} \\sum_{j=0}^{2^{n_R} - 1} \\sum_{m=0}^{2^{n_S} - 1} \\psi_m \\exp\\left[\\frac{2 \\pi i j}{2^{n_R}} (\\kappa_m - k)\\right] \\ket{k}_R \\ket{\\phi_m}_S \\\\\n",
    "& = \\sum_{k=0}^{2^{n_R} - 1} \\sum_{m=0}^{2^{n_S} - 1} \\psi_m f(\\kappa_m - k) \\ket{k}_R \\ket{\\phi_m}_S.\n",
    "\\end{align}\n",
    "```\n",
    "\n",
    "ただし、二つめの等号で、$f(\\kappa_m - k) := \\frac{1}{2^{n_R}} \\sum_{j} \\exp \\left[2 \\pi i j (\\kappa_m - k) / 2^{n_R}\\right]$と定義しました。\n",
    "\n",
    "最後にこの状態を測定し、Rに現れるビット列から推定される$\\theta_m = 2^{-n_R} \\kappa_m$に$\\hbar \\omega$をかければ、$H$のエネルギー固有値がわかります。\n",
    "\n",
    "なんだか掴みどころのない$\\omega$や$\\tau$といったパラメータが登場して、結局何をしたのか分かりにくいという方のために、別の見方で問題を整理しましょう。結局上で行ったことは、ハミルトニアン$H$を与えられたときに、\n",
    "\n",
    "1. 固有値が$\\lesssim 1$（負の値があり得る場合は、その絶対値が$\\lesssim \\frac{1}{2}$）になるように$H$を規格化する（規格化の定数は記録しておく）\n",
    "1. 規格化した結果の演算子を$\\Theta$として、$U = \\exp(-2 \\pi i \\Theta)$の位相推定をする\n",
    "1. 位相推定から得られた$\\Theta$の固有値に、1.の規格化定数をかけてエネルギー固有値を得る\n",
    "\n",
    "という操作でした。ここで、$\\Theta$の固有値を上のように決めるのは、読み出しレジスタに現れる固有値の数値が{ref}`オーバーフロー <signed_binary>`を起こさないようにするためです。\n",
    "\n",
    "固有値を求める問題なのに固有値が具体的な値になるように規格化定数を選ぶというのは一見矛盾しているように聞こえます。しかし、{doc}`dynamics_simulation`で触れたように、量子コンピューティングで表現されるハミルトニアンは全て基底演算子${I, \\sigma^X, \\sigma^Y, \\sigma^Z}$の積の線形和に分解できます。個々の基底演算子の積の固有値は$\\pm 1$なので、ハミルトニアン$H$が基底演算子の積$\\sigma_k$とエネルギー係数$h_k$で\n",
    "\n",
    "$$\n",
    "H = \\sum_{k} h_k \\sigma_k\n",
    "$$\n",
    "\n",
    "と分解できるとすれば、$H$の固有値の絶対値は最大で$\\sum_{k} |h_k|$です。したがって、全く未知のハミルトニアンに対しても、まず規格化定数を$\\hbar \\omega = 2 \\sum_{k} |h_k|$と取ればいいことがわかります。スペクトル推定の結果、最大固有値がもっと小さい値であれば、規格化定数を調節して再度計算を行えばいいだけです。\n",
    "\n",
    "同じ理屈で読み出しレジスタRのビット数も決めることができます。今度は非ゼロで最も小さい固有値の絶対値を考えます。最小値は\n",
    "\n",
    "$$\n",
    "\\mu = \\min_{s_k = \\pm 1} \\left| \\sum_{k} s_k h_k \\right|\n",
    "$$\n",
    "\n",
    "以上です。この値を求めるには原理的には$2^{L}$（$L$はハミルトニアンの項数）通りの組み合わせを調べる必要がありますが、実際のハミルトニアンは通常そこまで複雑な形をしていないので、これも難しくないと考えられます。レジスタRのビット数$n_R$は$2^{n_R}\\mu/(\\hbar \\omega)$が読みだせるように設定します。\n",
    "\n",
    "これで規格化定数と読み出しレジスタの大きさが簡単に決められることがわかりましたが、問題は演算子$U$を作用させる対象の状態$\\ket{\\psi}$です。第$m$準位のエネルギー固有値を知りたい場合、式{eq}`spectral_decomposition`で$\\psi_m \\neq 0$でなければいけません。特殊なケースではスペクトル推定の前から固有ベクトルの「当たり」がついていることがあるかもしれませんが、当然、一般のハミルトニアンに対して、任意の$m$についてそのような状態を準備することはできません。\n",
    "\n",
    "一方、系の最低エネルギー$\\hbar \\omega \\theta_0$なら、{doc}`vqe`の手法などを用いて最低エネルギー状態の近似を実現し、それをSの初期状態とすることで、比較的に安定して求めることは可能です。そのため、上の手法は原理的にはスペクトルの完全な分解に使えますが、実際には最低エネルギーとその固有ベクトルを正確に求めるために利用することが多いと考えられます。"
   ]
  },
  {
   "cell_type": "markdown",
   "id": "764b2e21",
   "metadata": {},
   "source": [
    "## 問題1: スペクトル推定を実装し、厳密解と照らし合わせる\n",
    "\n",
    "それでは、位相推定を利用してハイゼンベルグモデルのハミルトニアンのスペクトルを求めてみましょう。\n",
    "\n",
    "$U_H(-\\tau)$を量子コンピュータ上で計算するために、鈴木・トロッター分解を使います。$ZZ, XX, YY$回転ゲートの実装法は{doc}`dynamics_simulation`を参照してください。\n",
    "\n",
    "次のセルでは$U_H(-2\\pi/\\omega)$を鈴木・トロッター分解した量子回路を返す関数を定義しています。引数`num_steps`で分解の細かさを指定できます。"
   ]
  },
  {
   "cell_type": "code",
   "execution_count": 3,
   "id": "d1808f9f",
   "metadata": {
    "jupyter": {
     "outputs_hidden": false
    },
    "pycharm": {
     "name": "#%%\n"
    }
   },
   "outputs": [],
   "source": [
    "def trotter_twopi_heisenberg(state_register, energy_norm, g, num_steps):\n",
    "    \"\"\"Return a function that implements a single Trotter step for the Heisenberg model.\n",
    "    \n",
    "    The Heisenberg model Hamiltonian is\n",
    "    H = -J * sum_of_sigmas = hbar*ω * Θ\n",
    "    \n",
    "    The returned circuit implements a negative time evolution\n",
    "    U = exp(-i H*(-τ)/hbar)\n",
    "    where τ = 2π / ω, which leads to\n",
    "    U = exp(i 2π Θ).\n",
    "    \n",
    "    Because we employ the Suzuki-Trotter decomposition, the actual circuit corresponds to\n",
    "    U = [exp(i 2π/num_steps Θ)]^num_steps.\n",
    "\n",
    "    Args:\n",
    "        state_register (QuantumRegister): Register to perform the Suzuki-Trotter simulation.\n",
    "        energy_norm (float): J/(hbar*ω).\n",
    "        g (float): External field strength relative to the coupling constant J.\n",
    "        num_steps (float): Number of steps to divide the time evolution of ωτ=2π.\n",
    "\n",
    "    Returns:\n",
    "        QuantumCircuit: A quantum circuit implementing the Trotter simulation of the Heisenberg\n",
    "        model.\n",
    "    \"\"\"\n",
    "    circuit = QuantumCircuit(state_register, name='ΔU')\n",
    "\n",
    "    n_spins = state_register.size\n",
    "    step_size = 2. * np.pi / num_steps\n",
    "\n",
    "    # Implement the circuit corresponding to exp(i*step_size*Θ) below, where Θ is defined by\n",
    "    # Θ = -J/(hbar*ω) * sum_of_sigmas = -energy_norm * sum_of_sigmas\n",
    "    ##################\n",
    "    ### EDIT BELOW ###\n",
    "    ##################\n",
    "\n",
    "    # circuit.?\n",
    "\n",
    "    ##################\n",
    "    ### EDIT ABOVE ###\n",
    "    ##################\n",
    "    \n",
    "    circuit = circuit.repeat(num_steps)\n",
    "    circuit.name = 'U'\n",
    "\n",
    "    return circuit"
   ]
  },
  {
   "cell_type": "markdown",
   "id": "fff93a2a",
   "metadata": {},
   "source": [
    "次のセルでスペクトル推定のアルゴリズムを実装しています。この関数は状態レジスタ、読み出しレジスタ、時間発展回路を引数に取り、スペクトル推定の量子回路を返します。"
   ]
  },
  {
   "cell_type": "code",
   "execution_count": 4,
   "id": "8e43f2b7",
   "metadata": {
    "jupyter": {
     "outputs_hidden": false
    },
    "pycharm": {
     "name": "#%%\n"
    }
   },
   "outputs": [],
   "source": [
    "def spectrum_estimation(state_register, readout_register, u_circuit):\n",
    "    \"\"\"Perform a spectrum estimation given a circuit containing state and readout registers and a callable implementing\n",
    "    a single Trotter step.\n",
    "\n",
    "    Args:\n",
    "        state_register (QuantumRegister): State register.\n",
    "        readout_register (QuantumRegister): Readout register.\n",
    "        u_circuit (QuantumCircuit): A circuit implementing U_H(-2π/ω).\n",
    "        \n",
    "    Returns:\n",
    "        QuantumCircuit: A circuit implementing the spectrum estimation of the given Hamiltonian.\n",
    "    \"\"\"\n",
    "    circuit = QuantumCircuit(state_register, readout_register, name='Spectrum estimation')\n",
    "\n",
    "    # Set the R register to an equal superposition\n",
    "    circuit.h(readout_register)\n",
    "\n",
    "    # Apply controlled-U operations to the circuit\n",
    "    for iq, qubit in enumerate(readout_register):\n",
    "        # Repeat the 2π evolution by 2^iq and convert it to a controlled gate\n",
    "        controlled_u_gate = u_circuit.repeat(2 ** iq).to_gate().control(1)\n",
    "\n",
    "        # Append the controlled gate specifying the control and target qubits\n",
    "        circuit.append(controlled_u_gate, qargs=([qubit] + state_register[:]))\n",
    "        \n",
    "    circuit.barrier()\n",
    "\n",
    "    # Inverse QFT\n",
    "    for iq in range(readout_register.size // 2):\n",
    "        circuit.swap(readout_register[iq], readout_register[-1 - iq])\n",
    "\n",
    "    dphi = 2. * np.pi / (2 ** readout_register.size)\n",
    "\n",
    "    for jtarg in range(readout_register.size):\n",
    "        for jctrl in range(jtarg):\n",
    "            power = jctrl - jtarg - 1 + readout_register.size\n",
    "            circuit.cp(-dphi * (2 ** power), readout_register[jctrl], readout_register[jtarg])\n",
    "\n",
    "        circuit.h(readout_register[jtarg])\n",
    "        \n",
    "    return circuit"
   ]
  },
  {
   "cell_type": "markdown",
   "id": "fafd3652",
   "metadata": {},
   "source": [
    "この問題では、上で厳密解を求めた$n=2, g=0$のケースを調べます。今回はすでにエネルギー固有値を知っているので、ハミルトニアンの規格化定数を$\\hbar \\omega = 16J$として、読み出しレジスタの終状態が単純になるようにします。このとき読み出しは符号付きで、最大絶対値が$2^{n_R} (6/16)$なので、$n_R = 1 + 3$とすればオーバーフローを回避できます。\n",
    "\n",
    "次のセルでシミュレーションとスペクトル推定のパラメータを設定します。"
   ]
  },
  {
   "cell_type": "code",
   "execution_count": 5,
   "id": "7a6fb814",
   "metadata": {},
   "outputs": [],
   "source": [
    "## Physics model parameter\n",
    "g = 0.\n",
    "\n",
    "## Spectrum estimation parameters\n",
    "# Hamiltonian normalization\n",
    "energy_norm = 1. / 16. # J/(hbar*ω)\n",
    "# Number of steps per 2pi evolution\n",
    "# Tune this parameter to find the best balance of simulation accuracy versus circuit depth\n",
    "num_steps = 6\n",
    "# Register sizes\n",
    "n_state = 2\n",
    "n_readout = 4\n",
    "\n",
    "## Registers\n",
    "state_register = QuantumRegister(n_state, 'state')\n",
    "readout_register = QuantumRegister(n_readout, 'readout')"
   ]
  },
  {
   "cell_type": "markdown",
   "id": "5604a1c5",
   "metadata": {},
   "source": [
    "上で正しく関数をかけているか確認しておきましょう。"
   ]
  },
  {
   "cell_type": "code",
   "execution_count": 6,
   "id": "7088c70e",
   "metadata": {
    "tags": [
     "remove-output"
    ]
   },
   "outputs": [
    {
     "data": {
      "image/png": "[encoded data removed]",
      "text/plain": [
       "<Figure size 487.168x144.48 with 1 Axes>"
      ]
     },
     "execution_count": 6,
     "metadata": {
      "filenames": {
       "image/png": "/qc-workbook/build/ja/_build/jupyter_execute/spectrum_estimation_14_0.png"
      }
     },
     "output_type": "execute_result"
    }
   ],
   "source": [
    "u_circuit = trotter_twopi_heisenberg(state_register, energy_norm, g, num_steps)\n",
    "u_circuit.draw('mpl')"
   ]
  },
  {
   "cell_type": "code",
   "execution_count": 7,
   "id": "50486521",
   "metadata": {
    "tags": [
     "remove-output"
    ]
   },
   "outputs": [
    {
     "data": {
      "image/png": "[encoded data removed]",
      "text/plain": [
       "<Figure size 1659.82x806.68 with 1 Axes>"
      ]
     },
     "execution_count": 7,
     "metadata": {
      "filenames": {
       "image/png": "/qc-workbook/build/ja/_build/jupyter_execute/spectrum_estimation_15_0.png"
      }
     },
     "output_type": "execute_result"
    }
   ],
   "source": [
    "se_circuit = spectrum_estimation(state_register, readout_register, u_circuit)\n",
    "se_circuit.draw('mpl')"
   ]
  },
  {
   "cell_type": "markdown",
   "id": "bc59d805",
   "metadata": {},
   "source": [
    "状態レジスタの初期状態を\n",
    "\n",
    "```{math}\n",
    ":label: two_qubit_init\n",
    "\\frac{1}{2}\\ket{00} - \\frac{1}{\\sqrt{2}}\\ket{01} + \\frac{1}{2} \\ket{11} = \\frac{1}{2} \\ket{\\phi_0} + \\frac{1}{2} \\ket{\\phi_1} + \\frac{1}{2} \\ket{\\phi_2} + \\frac{1}{2} \\ket{\\phi_3}\n",
    "```\n",
    "\n",
    "とする関数を書きます。ここで$\\ket{\\phi_i}$は最初に求めた固有ベクトルの4つの厳密解です。"
   ]
  },
  {
   "cell_type": "code",
   "execution_count": 8,
   "id": "91a19583",
   "metadata": {
    "tags": [
     "remove-output"
    ]
   },
   "outputs": [
    {
     "data": {
      "image/png": "[encoded data removed]",
      "text/plain": [
       "<Figure size 184.917x385.28 with 1 Axes>"
      ]
     },
     "execution_count": 8,
     "metadata": {
      "filenames": {
       "image/png": "/qc-workbook/build/ja/_build/jupyter_execute/spectrum_estimation_17_0.png"
      }
     },
     "output_type": "execute_result"
    }
   ],
   "source": [
    "def make_initial_state(state_register, readout_register):\n",
    "    circuit = QuantumCircuit(state_register, readout_register)\n",
    "\n",
    "    # Set the initial state of the state vector to (1/2)|00> - (1/sqrt(2))|01> + (1/2)|11>\n",
    "    ##################\n",
    "    ### EDIT BELOW ###\n",
    "    ##################\n",
    "\n",
    "    #circuit.?\n",
    "\n",
    "    ##################\n",
    "    ### EDIT ABOVE ###\n",
    "    ##################\n",
    "    \n",
    "    return circuit\n",
    "\n",
    "\n",
    "init_circuit = make_initial_state(state_register, readout_register)\n",
    "init_circuit.draw('mpl')"
   ]
  },
  {
   "cell_type": "markdown",
   "id": "a6ccce58",
   "metadata": {},
   "source": [
    "最後に全てを組み合わせます。"
   ]
  },
  {
   "cell_type": "code",
   "execution_count": 9,
   "id": "a44eb909",
   "metadata": {
    "jupyter": {
     "outputs_hidden": false
    },
    "pycharm": {
     "name": "#%%\n"
    },
    "tags": [
     "remove-output"
    ]
   },
   "outputs": [
    {
     "data": {
      "image/png": "[encoded data removed]",
      "text/plain": [
       "<Figure size 1659.82x927.08 with 1 Axes>"
      ]
     },
     "execution_count": 9,
     "metadata": {
      "filenames": {
       "image/png": "/qc-workbook/build/ja/_build/jupyter_execute/spectrum_estimation_19_0.png"
      }
     },
     "output_type": "execute_result"
    }
   ],
   "source": [
    "u_circuit = trotter_twopi_heisenberg(state_register, energy_norm, g, num_steps)\n",
    "se_circuit = spectrum_estimation(state_register, readout_register, u_circuit)\n",
    "\n",
    "circuit = make_initial_state(state_register, readout_register)\n",
    "circuit.compose(se_circuit, inplace=True)\n",
    "circuit.measure_all()\n",
    "circuit.draw('mpl')"
   ]
  },
  {
   "cell_type": "markdown",
   "id": "a21ccd44",
   "metadata": {},
   "source": [
    "シミュレータで実行してヒストグラムを得ます。"
   ]
  },
  {
   "cell_type": "code",
   "execution_count": 10,
   "id": "b6ce7724",
   "metadata": {
    "jupyter": {
     "outputs_hidden": false
    },
    "pycharm": {
     "name": "#%%\n"
    },
    "tags": [
     "remove-output"
    ]
   },
   "outputs": [
    {
     "data": {
      "image/png": "[encoded data removed]",
      "text/plain": [
       "<Figure size 504x360 with 1 Axes>"
      ]
     },
     "execution_count": 10,
     "metadata": {
      "filenames": {
       "image/png": "/qc-workbook/build/ja/_build/jupyter_execute/spectrum_estimation_21_0.png"
      }
     },
     "output_type": "execute_result"
    }
   ],
   "source": [
    "# Run the circuit in qasm_simulator and plot the histogram\n",
    "qasm_simulator = Aer.get_backend('qasm_simulator')\n",
    "circuit = transpile(circuit, backend=qasm_simulator)\n",
    "job = qasm_simulator.run(circuit, shots=10000)\n",
    "result = job.result()\n",
    "counts = result.get_counts(circuit)\n",
    "plot_histogram(counts)"
   ]
  },
  {
   "cell_type": "markdown",
   "id": "8c559424",
   "metadata": {},
   "source": [
    "状態レジスタの初期状態が式{eq}`two_qubit_init`なので、回路の終状態は\n",
    "\n",
    "$$\n",
    "\\frac{1}{2} \\ket{-2}_{R} \\ket{00}_{S} - \\frac{1}{2\\sqrt{2}} \\ket{-2}_{R} \\left( \\ket{01}_{S} + \\ket{10}_{S} \\right) + \\frac{1}{2} \\ket{-2}_{R} \\ket{11}_{S} - \\frac{1}{2\\sqrt{2}} \\ket{6}_{R} \\left( \\ket{01}_{S} - \\ket{10}_{S} \\right)\n",
    "$$\n",
    "\n",
    "となるはずです。得られたヒストグラムはこの状態と無矛盾でしょうか？\n",
    "\n",
    "**提出するもの**\n",
    "\n",
    "- 完成した`make_trotter_step_heisenberg`関数\n",
    "- 完成した状態レジスタの初期化回路\n",
    "- スペクトル推定の結果のヒストグラムと、その解釈"
   ]
  },
  {
   "cell_type": "markdown",
   "id": "7198cd0e",
   "metadata": {},
   "source": [
    "## 問題2: 非自明な系の振る舞いを調べる\n",
    "\n",
    "今度は$n=4$のハイゼンベルグモデルで、全エネルギースペクトルを$g$の関数として求めてみましょう。$n=4$なので最初にやったような対角化もまだ簡単にできますが、ここではあえて量子計算のみに頼ってみます。\n",
    "\n",
    "全てのエネルギー固有値を知るためにはSの初期状態を工夫しなければいけませんが、今回は事前の情報がないので、しらみつぶし戦略をとります。つまり、計算基底$\\ket{0}$から$\\ket{15}$までをそれぞれ初期状態としてスペクトル推定を繰り返し、得られる情報をつなぎ合わせて全体のスペクトルを求めます。\n",
    "\n",
    "全ての計算基底についてスペクトル推定をすると、どんな情報が得られるでしょうか。式{eq}`spectrum_estimation_final`で$\\ket{\\psi} = \\ket{l}$ $(l=0,\\dots,2^{n_S} - 1)$とおき、\n",
    "\n",
    "```{math}\n",
    ":label: phim_decomposition\n",
    "\\ket{l} = \\sum_{m=0}^{2^{n_S} - 1} c^l_m \\ket{\\phi_m}\n",
    "```\n",
    "\n",
    "とします。すると回路の終状態は\n",
    "\n",
    "$$\n",
    "\\sum_{k=0}^{2^{n_R} - 1} \\sum_{m=0}^{2^{n_S} - 1} c^l_m f(\\kappa_m - k) \\ket{k}_R \\ket{\\phi_m}_S\n",
    "$$\n",
    "\n",
    "となります。実は式{eq}`phim_decomposition`が成り立つとき\n",
    "\n",
    "```{math}\n",
    ":label: l_decomposition\n",
    "\\ket{\\phi_m} = \\sum_{l=0}^{2^{n_S} - 1} c^{l*}_m \\ket{l}\n",
    "```\n",
    "\n",
    "も成り立つ[^unitarity]ので、終状態の回路をRとSの計算基底で測定し、$k, h$を得る確率を$P_l(k, h)$とすると\n",
    "\n",
    "$$\n",
    "P_l(k, h) = \\left| \\sum_{m=0}^{2^{n_S} - 1} c^l_m c^{h*}_m f(\\kappa_m - k) \\right|^2\n",
    "$$\n",
    "\n",
    "となります。$c^l_m$の値がわからなくても、これらの分布から\n",
    "\n",
    "$$\n",
    "P(k) = \\frac{1}{2^{n_S}} \\sum_{m=0}^{2^{n_S} - 1} |f(\\kappa_m - k)|^2\n",
    "$$\n",
    "\n",
    "を得る方法を考えてみてください。\n",
    "\n",
    "$|f(\\kappa_m - k)|$は$\\kappa_m$近傍で鋭いピークを持つ分布なので、$P(k)$を$k$に対してプロットすれば、$m$個の（部分的に重なり合っている可能性のある）ピークが見られ、そこからエネルギー固有値が算出できます。\n",
    "\n",
    "試しに$n=2, g=0, \\hbar \\omega = 20J, n_R=4$で$P(k)$をプロットすると以下のようになります（問題1と異なり$\\hbar \\omega = 20J$なので、$\\kappa_m$が整数ではありません）。ただし、負の固有値がわかりやすいように、$P(k - 2^{n_R}) = P(k)$として、$-2^{n_R - 1} \\leq k < 2^{n_R - 1}$の範囲を表示しています。\n",
    "\n",
    "```{image} figs/spectrum_estimation_example.png\n",
    ":alt: spectrum_estimation_example\n",
    ":width: 500px\n",
    ":align: center\n",
    "```\n",
    "\n",
    "このようなプロットを$n=4$で$g$の値を0から0.5まで0.1刻みに変えながら作ってみましょう。\n",
    "\n",
    "まずは計算基底と$g$の値を引数に取り、終状態の確率分布を返す関数を定義します。シミュレータとして`qasm_simulator`を用いるほうがより実用に近くなりますが、実行時間や統計誤差の問題から、デフォルトでは`statevector_simulator`を使うことにします。\n",
    "\n",
    "[^unitarity]: これは$\\{\\ket{l}\\}$と$\\{\\ket{\\phi_m}\\}$がともに状態レジスタの正規直交基底を張る（変換行列がユニタリである）ことに起因します。"
   ]
  },
  {
   "cell_type": "code",
   "execution_count": 11,
   "id": "16fc0869",
   "metadata": {},
   "outputs": [],
   "source": [
    "def get_spectrum_for_comp_basis(n_state, n_readout, l, energy_norm, g, use_qasm=False):\n",
    "    \"\"\"Compute and return the distribution P_l(k, h) as an ndarray.\n",
    "    \n",
    "    Args:\n",
    "        n_state (int): Size of the state register.\n",
    "        n_readout (int): Size of the readout register.\n",
    "        l (int): Index of the initial-state computational basis in the state register.\n",
    "        energy_norm (float): Hamiltonian normalization.\n",
    "        g (float): Parameter g of the Heisenberg model.\n",
    "        use_qasm (bool): Use the qasm_simulator if True.\n",
    "    \"\"\"\n",
    "    \n",
    "    # Define the circuit\n",
    "    state_register = QuantumRegister(n_state, 'state')\n",
    "    readout_register = QuantumRegister(n_readout, 'readout')\n",
    "    circuit = QuantumCircuit(state_register, readout_register)\n",
    "\n",
    "    # Initialize the state register\n",
    "    for iq in range(n_state):\n",
    "        if ((l >> iq) & 1) == 1:\n",
    "            circuit.x(state_register[iq])\n",
    "            \n",
    "    u_circuit = trotter_twopi_heisenberg(state_register, energy_norm, g, num_steps)\n",
    "    se_circuit = spectrum_estimation(state_register, readout_register, u_circuit)\n",
    "\n",
    "    circuit.compose(se_circuit, inplace=True)\n",
    "\n",
    "    # Extract the probability distribution as an array of shape (2 ** n_readout, 2 ** n_state)\n",
    "    if use_qasm:\n",
    "        circuit.measure_all()\n",
    "\n",
    "        # Run the circuit in qasm_simulator and plot the histogram\n",
    "        qasm_simulator = Aer.get_backend('qasm_simulator')\n",
    "        circuit = transpile(circuit, backend=qasm_simulator)\n",
    "        job = qasm_simulator.run(circuit, shots=10000)\n",
    "        result = job.result()\n",
    "        counts = result.get_counts(circuit)\n",
    "\n",
    "        probs = np.zeros((2 ** n_readout, 2 ** n_state), dtype=float)\n",
    "\n",
    "        for bitstring, count in counts.items():\n",
    "            readout = int(bitstring[:n_readout], 2)\n",
    "            state = int(bitstring[n_readout:], 2)\n",
    "\n",
    "            probs[readout, state] = count\n",
    "\n",
    "        probs /= np.sum(probs)\n",
    "    \n",
    "    else:\n",
    "        sv_simulator = Aer.get_backend('statevector_simulator')\n",
    "        circuit = transpile(circuit, backend=sv_simulator)\n",
    "        job = sv_simulator.run(circuit)\n",
    "        result = job.result()\n",
    "        statevector = result.data()['statevector']\n",
    "        \n",
    "        # Convert the state vector into a probability distribution by taking the norm-squared\n",
    "        probs = np.square(np.abs(statevector)).reshape((2 ** n_readout, 2 ** n_state))\n",
    "        # Clean up the numerical artifacts\n",
    "        probs = np.where(probs > 1.e-6, probs, np.zeros_like(probs))\n",
    "    \n",
    "    # probs[k, h] = P_l(k, h)\n",
    "    return probs"
   ]
  },
  {
   "cell_type": "markdown",
   "id": "de4ccc5c",
   "metadata": {},
   "source": [
    "読み出しレジスタのビット数を決めます。スピンの数が4なので、$\\hbar \\omega = 8(3 + |g|)J$と取ります。すると、$g=0$のとき、上の議論によると$\\Theta$の固有値の予想される最小絶対値は$1/24$ですが、実は系の対称性からその$n=4$倍の$1/6$が最小値になると予測できます。$|g| \\ll 1$しか考えないので、外部磁場を摂動として考えて、結局$2^{n_R} / 6$が1より十分大きくなるように$n_R=5$とします。\n",
    "\n",
    "回路のパラメータが決まったので、$g$を引数として$2^{n}$通りの計算基底に対して`get_spectrum_for_comp_basis`関数を呼ぶ関数を定義し、$g=0$について実行します（時間がかかります）。"
   ]
  },
  {
   "cell_type": "code",
   "execution_count": 12,
   "id": "d2e40417",
   "metadata": {
    "tags": [
     "remove-output"
    ]
   },
   "outputs": [
    {
     "name": "stdout",
     "output_type": "stream",
     "text": [
      "Computed spectrum for g = 0.0 l = 0\n",
      "Computed spectrum for g = 0.0 l = 1\n",
      "Computed spectrum for g = 0.0 l = 2\n",
      "Computed spectrum for g = 0.0 l = 3\n",
      "Computed spectrum for g = 0.0 l = 4\n"
     ]
    },
    {
     "name": "stdout",
     "output_type": "stream",
     "text": [
      "Computed spectrum for g = 0.0 l = 5\n",
      "Computed spectrum for g = 0.0 l = 6\n",
      "Computed spectrum for g = 0.0 l = 7\n",
      "Computed spectrum for g = 0.0 l = 8\n",
      "Computed spectrum for g = 0.0 l = 9\n"
     ]
    },
    {
     "name": "stdout",
     "output_type": "stream",
     "text": [
      "Computed spectrum for g = 0.0 l = 10\n",
      "Computed spectrum for g = 0.0 l = 11\n",
      "Computed spectrum for g = 0.0 l = 12\n",
      "Computed spectrum for g = 0.0 l = 13\n",
      "Computed spectrum for g = 0.0 l = 14\n"
     ]
    },
    {
     "name": "stdout",
     "output_type": "stream",
     "text": [
      "Computed spectrum for g = 0.0 l = 15\n"
     ]
    }
   ],
   "source": [
    "n_state = 4\n",
    "n_readout = 5\n",
    "energy_norm = 1. / 24.\n",
    "\n",
    "g_values = np.linspace(0., 0.5, 6, endpoint=True)\n",
    "\n",
    "spectra = np.empty((g_values.shape[0], 2 ** n_readout), dtype=float)\n",
    "\n",
    "def get_full_spectrum(g):\n",
    "    \"\"\"Compute and return the distribution P(k) for a value of g.\n",
    "    \"\"\"\n",
    "\n",
    "    spectrum = np.zeros(2 ** n_readout, dtype=float)\n",
    "    \n",
    "    for l in range(2 ** n_state):\n",
    "        probs = get_spectrum_for_comp_basis(n_state, n_readout, l, energy_norm, g)\n",
    "        print('Computed spectrum for g = {:.1f} l = {:d}'.format(g, l))\n",
    "\n",
    "        ##################\n",
    "        ### EDIT BELOW ###\n",
    "        ##################\n",
    "\n",
    "        ##################\n",
    "        ### EDIT ABOVE ###\n",
    "        ##################\n",
    "        \n",
    "    return spectrum\n",
    "\n",
    "# roll(spectrum, 2^{n_R-1}) => range of k is [-2^{n_R}/2, 2^{n_R}/2 - 1]\n",
    "spectra[0] = np.roll(get_full_spectrum(0.), 2 ** (n_readout - 1))"
   ]
  },
  {
   "cell_type": "markdown",
   "id": "6260056d",
   "metadata": {},
   "source": [
    "得られた$P(k)$分布を、$k$をエネルギーに換算してプロットしてみましょう。"
   ]
  },
  {
   "cell_type": "code",
   "execution_count": 13,
   "id": "0c21be4d",
   "metadata": {
    "tags": [
     "remove-output"
    ]
   },
   "outputs": [
    {
     "data": {
      "text/plain": [
       "Text(0, 0.5, 'P(E)')"
      ]
     },
     "execution_count": 13,
     "metadata": {},
     "output_type": "execute_result"
    },
    {
     "data": {
      "image/png": "[encoded data removed]",
      "text/plain": [
       "<Figure size 432x288 with 1 Axes>"
      ]
     },
     "metadata": {
      "filenames": {
       "image/png": "/qc-workbook/build/ja/_build/jupyter_execute/spectrum_estimation_28_1.png"
      },
      "needs_background": "light"
     },
     "output_type": "display_data"
    }
   ],
   "source": [
    "plt.plot(np.linspace(-0.5 / energy_norm, 0.5 / energy_norm, 2 ** n_readout), spectra[0], 'o')\n",
    "plt.xlabel('E/J')\n",
    "plt.ylabel('P(E)')"
   ]
  },
  {
   "cell_type": "markdown",
   "id": "6e29ada2",
   "metadata": {},
   "source": [
    "続いて、同じ関数を$g=0.1, 0.2, 0.3, 0.4, 0.5$について実行して、それぞれのスペクトルから系のエネルギー固有値と$g$の関係をプロットしてください。"
   ]
  },
  {
   "cell_type": "code",
   "execution_count": 14,
   "id": "479f2131",
   "metadata": {
    "tags": [
     "remove-output"
    ]
   },
   "outputs": [
    {
     "name": "stdout",
     "output_type": "stream",
     "text": [
      "Computed spectrum for g = 0.1 l = 0\n"
     ]
    },
    {
     "name": "stdout",
     "output_type": "stream",
     "text": [
      "Computed spectrum for g = 0.1 l = 1\n",
      "Computed spectrum for g = 0.1 l = 2\n",
      "Computed spectrum for g = 0.1 l = 3\n",
      "Computed spectrum for g = 0.1 l = 4\n"
     ]
    },
    {
     "name": "stdout",
     "output_type": "stream",
     "text": [
      "Computed spectrum for g = 0.1 l = 5\n"
     ]
    },
    {
     "name": "stdout",
     "output_type": "stream",
     "text": [
      "Computed spectrum for g = 0.1 l = 6\n",
      "Computed spectrum for g = 0.1 l = 7\n",
      "Computed spectrum for g = 0.1 l = 8\n",
      "Computed spectrum for g = 0.1 l = 9\n"
     ]
    },
    {
     "name": "stdout",
     "output_type": "stream",
     "text": [
      "Computed spectrum for g = 0.1 l = 10\n"
     ]
    },
    {
     "name": "stdout",
     "output_type": "stream",
     "text": [
      "Computed spectrum for g = 0.1 l = 11\n",
      "Computed spectrum for g = 0.1 l = 12\n",
      "Computed spectrum for g = 0.1 l = 13\n",
      "Computed spectrum for g = 0.1 l = 14\n"
     ]
    },
    {
     "name": "stdout",
     "output_type": "stream",
     "text": [
      "Computed spectrum for g = 0.1 l = 15\n"
     ]
    },
    {
     "name": "stdout",
     "output_type": "stream",
     "text": [
      "Computed spectrum for g = 0.2 l = 0\n",
      "Computed spectrum for g = 0.2 l = 1\n",
      "Computed spectrum for g = 0.2 l = 2\n",
      "Computed spectrum for g = 0.2 l = 3\n"
     ]
    },
    {
     "name": "stdout",
     "output_type": "stream",
     "text": [
      "Computed spectrum for g = 0.2 l = 4\n"
     ]
    },
    {
     "name": "stdout",
     "output_type": "stream",
     "text": [
      "Computed spectrum for g = 0.2 l = 5\n",
      "Computed spectrum for g = 0.2 l = 6\n",
      "Computed spectrum for g = 0.2 l = 7\n",
      "Computed spectrum for g = 0.2 l = 8\n"
     ]
    },
    {
     "name": "stdout",
     "output_type": "stream",
     "text": [
      "Computed spectrum for g = 0.2 l = 9\n"
     ]
    },
    {
     "name": "stdout",
     "output_type": "stream",
     "text": [
      "Computed spectrum for g = 0.2 l = 10\n",
      "Computed spectrum for g = 0.2 l = 11\n",
      "Computed spectrum for g = 0.2 l = 12\n",
      "Computed spectrum for g = 0.2 l = 13\n"
     ]
    },
    {
     "name": "stdout",
     "output_type": "stream",
     "text": [
      "Computed spectrum for g = 0.2 l = 14\n"
     ]
    },
    {
     "name": "stdout",
     "output_type": "stream",
     "text": [
      "Computed spectrum for g = 0.2 l = 15\n",
      "Computed spectrum for g = 0.3 l = 0\n",
      "Computed spectrum for g = 0.3 l = 1\n",
      "Computed spectrum for g = 0.3 l = 2\n"
     ]
    },
    {
     "name": "stdout",
     "output_type": "stream",
     "text": [
      "Computed spectrum for g = 0.3 l = 3\n"
     ]
    },
    {
     "name": "stdout",
     "output_type": "stream",
     "text": [
      "Computed spectrum for g = 0.3 l = 4\n",
      "Computed spectrum for g = 0.3 l = 5\n",
      "Computed spectrum for g = 0.3 l = 6\n",
      "Computed spectrum for g = 0.3 l = 7\n"
     ]
    },
    {
     "name": "stdout",
     "output_type": "stream",
     "text": [
      "Computed spectrum for g = 0.3 l = 8\n"
     ]
    },
    {
     "name": "stdout",
     "output_type": "stream",
     "text": [
      "Computed spectrum for g = 0.3 l = 9\n",
      "Computed spectrum for g = 0.3 l = 10\n"
     ]
    },
    {
     "name": "stdout",
     "output_type": "stream",
     "text": [
      "Computed spectrum for g = 0.3 l = 11\n",
      "Computed spectrum for g = 0.3 l = 12\n",
      "Computed spectrum for g = 0.3 l = 13\n"
     ]
    },
    {
     "name": "stdout",
     "output_type": "stream",
     "text": [
      "Computed spectrum for g = 0.3 l = 14\n",
      "Computed spectrum for g = 0.3 l = 15\n"
     ]
    },
    {
     "name": "stdout",
     "output_type": "stream",
     "text": [
      "Computed spectrum for g = 0.4 l = 0\n",
      "Computed spectrum for g = 0.4 l = 1\n",
      "Computed spectrum for g = 0.4 l = 2\n"
     ]
    },
    {
     "name": "stdout",
     "output_type": "stream",
     "text": [
      "Computed spectrum for g = 0.4 l = 3\n",
      "Computed spectrum for g = 0.4 l = 4\n"
     ]
    },
    {
     "name": "stdout",
     "output_type": "stream",
     "text": [
      "Computed spectrum for g = 0.4 l = 5\n",
      "Computed spectrum for g = 0.4 l = 6\n",
      "Computed spectrum for g = 0.4 l = 7\n"
     ]
    },
    {
     "name": "stdout",
     "output_type": "stream",
     "text": [
      "Computed spectrum for g = 0.4 l = 8\n",
      "Computed spectrum for g = 0.4 l = 9\n"
     ]
    },
    {
     "name": "stdout",
     "output_type": "stream",
     "text": [
      "Computed spectrum for g = 0.4 l = 10\n",
      "Computed spectrum for g = 0.4 l = 11\n",
      "Computed spectrum for g = 0.4 l = 12\n"
     ]
    },
    {
     "name": "stdout",
     "output_type": "stream",
     "text": [
      "Computed spectrum for g = 0.4 l = 13\n",
      "Computed spectrum for g = 0.4 l = 14\n"
     ]
    },
    {
     "name": "stdout",
     "output_type": "stream",
     "text": [
      "Computed spectrum for g = 0.4 l = 15\n",
      "Computed spectrum for g = 0.5 l = 0\n",
      "Computed spectrum for g = 0.5 l = 1\n"
     ]
    },
    {
     "name": "stdout",
     "output_type": "stream",
     "text": [
      "Computed spectrum for g = 0.5 l = 2\n",
      "Computed spectrum for g = 0.5 l = 3\n"
     ]
    },
    {
     "name": "stdout",
     "output_type": "stream",
     "text": [
      "Computed spectrum for g = 0.5 l = 4\n",
      "Computed spectrum for g = 0.5 l = 5\n",
      "Computed spectrum for g = 0.5 l = 6\n"
     ]
    },
    {
     "name": "stdout",
     "output_type": "stream",
     "text": [
      "Computed spectrum for g = 0.5 l = 7\n",
      "Computed spectrum for g = 0.5 l = 8\n"
     ]
    },
    {
     "name": "stdout",
     "output_type": "stream",
     "text": [
      "Computed spectrum for g = 0.5 l = 9\n",
      "Computed spectrum for g = 0.5 l = 10\n",
      "Computed spectrum for g = 0.5 l = 11\n"
     ]
    },
    {
     "name": "stdout",
     "output_type": "stream",
     "text": [
      "Computed spectrum for g = 0.5 l = 12\n",
      "Computed spectrum for g = 0.5 l = 13\n"
     ]
    },
    {
     "name": "stdout",
     "output_type": "stream",
     "text": [
      "Computed spectrum for g = 0.5 l = 14\n",
      "Computed spectrum for g = 0.5 l = 15\n"
     ]
    }
   ],
   "source": [
    "for i in range(1, g_values.shape[0]):\n",
    "    spectra[i] = np.roll(get_full_spectrum(g_values[i]), 2 ** (n_readout - 1))"
   ]
  },
  {
   "cell_type": "code",
   "execution_count": 15,
   "id": "9a42df3a",
   "metadata": {
    "tags": [
     "remove-output"
    ]
   },
   "outputs": [
    {
     "data": {
      "text/plain": [
       "[<matplotlib.lines.Line2D at 0x7f83263fb730>,\n",
       " <matplotlib.lines.Line2D at 0x7f83263fb6d0>,\n",
       " <matplotlib.lines.Line2D at 0x7f83263fb250>,\n",
       " <matplotlib.lines.Line2D at 0x7f83263fb580>,\n",
       " <matplotlib.lines.Line2D at 0x7f83263d40a0>,\n",
       " <matplotlib.lines.Line2D at 0x7f83263d41f0>,\n",
       " <matplotlib.lines.Line2D at 0x7f83263fb550>,\n",
       " <matplotlib.lines.Line2D at 0x7f83263fb220>,\n",
       " <matplotlib.lines.Line2D at 0x7f83263fb130>,\n",
       " <matplotlib.lines.Line2D at 0x7f832654d2b0>,\n",
       " <matplotlib.lines.Line2D at 0x7f83263fb940>,\n",
       " <matplotlib.lines.Line2D at 0x7f832654dd30>,\n",
       " <matplotlib.lines.Line2D at 0x7f832654d250>,\n",
       " <matplotlib.lines.Line2D at 0x7f832654d370>,\n",
       " <matplotlib.lines.Line2D at 0x7f832654dc40>,\n",
       " <matplotlib.lines.Line2D at 0x7f832641f640>]"
      ]
     },
     "execution_count": 15,
     "metadata": {},
     "output_type": "execute_result"
    },
    {
     "data": {
      "image/png": "[encoded data removed]",
      "text/plain": [
       "<Figure size 432x288 with 1 Axes>"
      ]
     },
     "metadata": {
      "filenames": {
       "image/png": "/qc-workbook/build/ja/_build/jupyter_execute/spectrum_estimation_31_1.png"
      },
      "needs_background": "light"
     },
     "output_type": "display_data"
    }
   ],
   "source": [
    "energy_eigenvalues = np.empty((g_values.shape[0], 2 ** n_state))\n",
    "\n",
    "# Extract the energy eigenvalues from spectra and fill the array\n",
    "##################\n",
    "### EDIT BELOW ###\n",
    "##################\n",
    "\n",
    "#energy_eigenvalues[ig, m] = E_ig_m\n",
    "\n",
    "##################\n",
    "### EDIT ABOVE ###\n",
    "##################\n",
    "\n",
    "plt.plot(g_values, energy_eigenvalues)"
   ]
  },
  {
   "cell_type": "markdown",
   "id": "b949d1ab",
   "metadata": {},
   "source": [
    "**提出するもの**\n",
    "\n",
    "- $P_l(k, h)$から$P(k)$を導出する方法の説明と、`get_full_spectrum`関数への実装\n",
    "- $P(k)$からエネルギー固有値を抽出する方法を考案し、実装したコード（エネルギー固有値を求める全く別の方法を考えつけば、それでもよい）\n",
    "- 16個のエネルギー固有値と$g$の関係のプロット\n",
    "\n",
    "**ヒント**\n",
    "\n",
    "（$P(k)$の導出に関して）\n",
    "式{eq}`phim_decomposition`と{eq}`l_decomposition`を眺めると、\n",
    "\n",
    "$$\n",
    "\\sum_{l=0}^{2^{n_S} - 1} c^l_m c^{l*}_n = \\delta_{mn}\n",
    "$$\n",
    "\n",
    "が成り立つことがわかります。ここで$\\delta_{mn}$はクロネッカーの$\\delta$記号で、$m=n$のとき1、それ以外では0の値を持つ因子です。"
   ]
  },
  {
   "cell_type": "markdown",
   "id": "721c6fd4",
   "metadata": {},
   "source": [
    "## 参考文献\n",
    "\n",
    "```{bibliography}\n",
    ":filter: docname in docnames\n",
    "```"
   ]
  }
 ],
 "metadata": {
  "jupytext": {
   "notebook_metadata_filter": "all",
   "text_representation": {
    "extension": ".md",
    "format_name": "myst",
    "format_version": 0.13,
    "jupytext_version": "1.11.5"
   }
  },
  "kernelspec": {
   "display_name": "Python 3 (ipykernel)",
   "language": "python",
   "name": "python3"
  },
  "language_info": {
   "codemirror_mode": {
    "name": "ipython",
    "version": 3
   },
   "file_extension": ".py",
   "mimetype": "text/x-python",
   "name": "python",
   "nbconvert_exporter": "python",
   "pygments_lexer": "ipython3",
   "version": "3.8.10"
  },
  "source_map": [
   23,
   35,
   45,
   67,
   82,
   112,
   116,
   209,
   219,
   273,
   277,
   327,
   333,
   350,
   354,
   361,
   366,
   377,
   399,
   403,
   420,
   424,
   441,
   457,
   515,
   578,
   584,
   617,
   621,
   627,
   631,
   638,
   655,
   674
  ]
 },
 "nbformat": 4,
 "nbformat_minor": 5
}