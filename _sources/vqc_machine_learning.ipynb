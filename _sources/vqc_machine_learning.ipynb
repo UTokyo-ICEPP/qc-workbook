{
 "cells": [
  {
   "cell_type": "markdown",
   "id": "6302bce8",
   "metadata": {},
   "source": [
    "# 量子機械学習を使った新しい素粒子現象の探索"
   ]
  },
  {
   "cell_type": "markdown",
   "id": "2cdd33d2",
   "metadata": {},
   "source": [
    "この実習では、**量子・古典ハイブリッドアルゴリズム**の応用である**量子機械学習**の基本的な実装を学んだのち、その活用例として、**素粒子実験での新粒子探索**への応用を考えます。ここで学ぶ量子機械学習の手法は、変分量子アルゴリズムの応用として提案された、**量子回路学習**と呼ばれる学習手法{cite}`PhysRevA.98.032309`です。\n",
    "\n",
    "```{contents} 目次\n",
    "---\n",
    "local: true\n",
    "---\n",
    "```\n",
    "\n",
    "$\\newcommand{\\ket}[1]{| #1 \\rangle}$\n",
    "$\\newcommand{\\expval}[3]{\\langle #1 | #2 | #3 \\rangle}$"
   ]
  },
  {
   "cell_type": "markdown",
   "id": "9d9e8ccd",
   "metadata": {},
   "source": [
    "## はじめに <a id='introduction'></a>\n",
    "\n",
    "近年、機械学習の分野において**深層学習**（**ディープラーニング**）が注目を浴びています。ディープラーニングは**ニューラルネットワーク**の隠れ層を多層にすることで、入力と出力の間の複雑な関係を学習することができます。その学習結果を使って、新しい入力データに対して出力を予測することが可能になります。ここで学習する量子機械学習アルゴリズムは、このニューラルネットワークの部分を変分量子回路に置き換えたものです。つまり、ニューラルネットワークでの各ニューロン層への重みを調節する代わりに、変分量子回路のパラメータ（例えば回転ゲートの回転角）を調整することで入力と出力の関係を学習しようという試みです。\n",
    "量子力学の重ね合わせの原理から、**指数関数的に増える多数の計算基底**を使って状態を表現できることが量子コンピュータの強みです。この強みを生かすことで、データ間の複雑な相関を学習できる可能性が生まれます。そこに量子機械学習の最も大きな強みがあると考えられています。\n",
    "\n",
    "多項式で与えられる数の量子ゲートを使って、指数関数的に増える関数を表現できる可能性があるところに量子機械学習の強みがありますが、誤り訂正機能を持たない中規模の量子コンピュータ (*Noisy Intermediate-Scale Quantum*デバイス, 略してNISQ）で、古典計算を上回る性能を発揮できるか確証はありません。しかしNISQデバイスでの動作に適したアルゴリズムであるため、2019年3月にはIBMの実験チームによる実機での実装がすでに行われ、結果も論文{cite}`quantum_svm`として出版されています。"
   ]
  },
  {
   "cell_type": "markdown",
   "id": "e94bdc8b",
   "metadata": {},
   "source": [
    "## 機械学習と深層学習 <a id='ml'></a>\n",
    "\n",
    "機械学習を一言で（大雑把に）説明すると、与えられたデータを元に、ある予測を返すような機械を実現する工程だと言えます。例えば、2種類の変数$\\mathbf{x}$と$\\mathbf{y}$からなるデータ（$(x_i, y_i)$を要素とするベクトル、$i$は要素の添字）があったとして、その変数間の関係を求める問題として機械学習を考えてみましょう。つまり、変数$x_i$を引数とする関数$f$を考え、その出力$\\tilde{y_i}=f(x_i)$が$\\tilde{y}_i\\simeq y_i$となるような関数$f$をデータから近似的に求めることに対応します。\n",
    "一般的に、この関数$f$は変数$x$以外のパラメータを持っているでしょう。なので、そのパラメータ$\\mathbf{w}$をうまく調整して、$y_i\\simeq\\tilde{y}_i$となる関数$f=f(x,\\mathbf{w}^*)$とパラメータ$\\mathbf{w}^*$を求めることが機械学習の鍵になります。\n",
    "\n",
    "関数$f$を近似する方法の一つとして、現在主流になっているのが脳のニューロン構造を模式化したニューラルネットワークです。下図に示しているのは、ニューラルネットの基本的な構造です。丸で示しているのが構成ユニット（ニューロン）で、ニューロンを繋ぐ情報の流れを矢印で表しています。ニューラルネットには様々な構造が考えられますが、基本になるのは図に示したような層構造で、前層にあるニューロンの出力が次の層にあるニューロンへの入力になります。入力データ$x$を受ける入力層と出力$\\tilde{y}$を出す出力層に加え、中間に複数の「隠れ層」を持つものを総称して深層ニューラルネットワークと呼びます。\n",
    "\n",
    "```{image} figs/neural_net.png\n",
    ":alt: var_circuit\n",
    ":width: 500px\n",
    ":align: center\n",
    "```\n",
    "\n",
    "では、もう少し数学的なモデルを見てみましょう。$l$層目にある$j$番目のユニット$u_j^l$に対して、前層（$l-1$番目）から$n$個の入力$o_k^{l-1}$ ($k=1,2,\\cdots n$) がある場合、入力$o_k^{l-1}$への重みパラメータ$w_k^l$を使って\n",
    "\n",
    "$$\n",
    "o_j^l=g\\left(\\sum_{k=1}^n o_k^{l-1}w_k^l\\right)\n",
    "$$\n",
    "\n",
    "となる出力$o_j^l$を考えます。図で示すと\n",
    "\n",
    "```{image} figs/neuron.png\n",
    ":alt: var_circuit\n",
    ":width: 350px\n",
    ":align: center\n",
    "```\n",
    "\n",
    "になります。関数$g$は活性化関数と呼ばれ、入力に対して非線形な出力を与えます。活性化関数としては、一般的にはシグモイド関数やReLU（Rectified Linear Unit）等の関数が用いられることが多いです。\n",
    "\n",
    "関数$f(x,\\mathbf{w}^*)$を求めるために、最適なパラメータ$\\mathbf{w}^*$を決定するプロセス（学習と呼ばれる）が必要です。そのために、出力$\\tilde{y}$とターゲットとなる変数$y$の差を測定する関数$L(\\mathbf{w})$を考えます（一般に損失関数やコスト関数と呼ばれます）。\n",
    "\n",
    "$$\n",
    "L(\\mathbf{w}) = \\frac{1}{N}\\sum_{i=1}^N L(f(x_i,\\mathbf{w}),y_i)\n",
    "$$\n",
    "\n",
    "$N$は$(x_i, y_i)$データの数です。この損失関数$L(\\mathbf{w})$を最小化するパラメータ$\\mathbf{w}^*$を求めたいわけですが、それには誤差逆伝搬法と呼ばれる手法を使うことができることが知られています。この手法は、$L(\\mathbf{w})$の各$w$に対する微分係数$\\Delta_w L(\\mathbf{w})$を求めて、\n",
    "\n",
    "$$\n",
    "w'=w-\\epsilon\\Delta_w L(\\mathbf{w})\n",
    "$$\n",
    "\n",
    "のように$w$を更新することで、$L(\\mathbf{w})$を最小化するというものです（$w$と$w'$は更新前と更新後のパラメータ）。$\\epsilon\\:(>0)$は学習率と呼ばれるパラメータで、これは基本的には私たちが手で決めてやる必要があります。"
   ]
  },
  {
   "cell_type": "markdown",
   "id": "8e701742",
   "metadata": {},
   "source": [
    "## 量子回路学習<a id='qml'></a>\n",
    "\n",
    "変分量子回路を用いた量子回路学習アルゴリズムは、一般的には以下のような順番で量子回路に実装され、計算が行われます。\n",
    "\n",
    "1. **学習データ**$\\{(\\mathbf{x}_i, y_i)\\}$を用意する。$\\mathbf{x}_i$は入力データのベクトル、$y_i$は入力データに対する真の値（教師データ）とする（$i$は学習データのサンプルを表す添字）。\n",
    "2. 入力$\\mathbf{x}$から何らかの規則で決まる回路$U_{\\text{in}}(\\mathbf{x})$（**特徴量マップ**と呼ぶ）を用意し、$\\mathbf{x}_i$の情報を埋め込んだ入力状態$\\ket{\\psi_{\\text{in}}(\\mathbf{x}_i)} = U_{\\text{in}}(\\mathbf{x}_i)\\ket{0}$を作る。\n",
    "3. 入力状態にパラメータ$\\boldsymbol{\\theta}$に依存したゲート$U(\\boldsymbol{\\theta})$（**変分フォーム**）を掛けたものを出力状態$\\ket{\\psi_{\\text{out}}(\\mathbf{x}_i,\\boldsymbol{\\theta})} = U(\\boldsymbol{\\theta})\\ket{\\psi_{\\text{in}}(\\mathbf{x}_i)}$とする。\n",
    "4. 出力状態のもとで何らかの**観測量**を測定し、測定値$O$を得る。例えば、最初の量子ビットで測定したパウリ$Z$演算子の期待値$\\langle Z_1\\rangle = \\expval{\\psi_{\\text{out}}}{Z_1}{\\psi_{\\text{out}}}$などを考える。\n",
    "5. $F$を適当な関数として、$F(O)$をモデルの出力$y(\\mathbf{x}_i,\\boldsymbol{\\theta})$とする。\n",
    "6. 真の値$y_i$と出力$y(\\mathbf{x}_i,\\boldsymbol{\\theta})$の間の乖離を表す**コスト関数**$L(\\boldsymbol{\\theta})$を定義し、古典計算でコスト関数を計算する。\n",
    "7. $L(\\boldsymbol{\\theta})$が小さくなるように$\\boldsymbol{\\theta}$を更新する。\n",
    "7. 3-7のプロセスを繰り返すことで、コスト関数を最小化する$\\boldsymbol{\\theta}=\\boldsymbol{\\theta^*}$を求める。\n",
    "8. $y(\\mathbf{x},\\boldsymbol{\\theta^*})$が学習によって得られた**予測モデル**になる。\n",
    "\n",
    "```{image} figs/var_circuit.png\n",
    ":alt: var_circuit\n",
    ":width: 700px\n",
    ":align: center\n",
    "```\n",
    "\n",
    "\n",
    "この順に量子回路学習アルゴリズムを実装していきましょう。まず、必要なライブラリを最初にインポートします。"
   ]
  },
  {
   "cell_type": "code",
   "execution_count": null,
   "id": "1a69df91",
   "metadata": {
    "jupyter": {
     "outputs_hidden": false
    },
    "pycharm": {
     "name": "#%%\n"
    }
   },
   "outputs": [],
   "source": [
    "# Tested with python 3.8.12, qiskit 0.34.2, numpy 1.22.2\n",
    "import numpy as np\n",
    "import matplotlib.pyplot as plt\n",
    "import pandas as pd\n",
    "\n",
    "from qiskit import QuantumCircuit, ClassicalRegister, QuantumRegister, transpile\n",
    "from qiskit.circuit.library import TwoLocal, ZFeatureMap, ZZFeatureMap\n",
    "from qiskit.utils import QuantumInstance\n",
    "from qiskit_machine_learning.algorithms.classifiers import VQC\n",
    "#from qiskit.utils import split_dataset_to_data_and_labels, map_label_to_class_name\n",
    "from qiskit.algorithms.optimizers import SPSA, COBYLA\n",
    "from qiskit_aer import AerSimulator\n",
    "from IPython.display import clear_output\n",
    "from sklearn.preprocessing import MinMaxScaler"
   ]
  },
  {
   "cell_type": "markdown",
   "id": "93c43030",
   "metadata": {},
   "source": [
    "## 初歩的な例<a id='example'></a>\n",
    "\n",
    "ある入力$\\{x_i\\}$と、既知の関数$f$による出力$y_i=f(x_i)$が学習データとして与えられた時に、そのデータから関数$f$を近似的に求める問題を考えてみます。例として、$f(x)=x^3$としてみます。\n",
    "\n",
    "### 学習データの準備<a id='func_data'></a>\n",
    "\n",
    "まず、学習データを準備します。$x_{\\text{min}}$と$x_{\\text{max}}$の範囲でデータを`num_x_train`個ランダムに取った後、正規分布に従うノイズを追加しておきます。`nqubit`が量子ビット数、`c_depth`が変分フォーム回路の深さ（後述）を表します。"
   ]
  },
  {
   "cell_type": "code",
   "execution_count": null,
   "id": "a2e4b751",
   "metadata": {
    "jupyter": {
     "outputs_hidden": false
    },
    "pycharm": {
     "name": "#%%\n"
    }
   },
   "outputs": [],
   "source": [
    "random_seed = 0\n",
    "np.random.seed(random_seed)\n",
    "\n",
    "# Qubit数、回路の深さ、訓練サンプル数の定義など\n",
    "nqubit = 3\n",
    "c_depth = 5\n",
    "x_min = -1.; x_max = 1.; num_x_train = 30\n",
    "\n",
    "# パラメータ数の設定\n",
    "num_vars = nqubit*3*(c_depth+1)\n",
    "params = np.random.rand(num_vars)*2*np.pi\n",
    "\n",
    "# 関数の定義\n",
    "func_to_learn = lambda x: x**3\n",
    "x_train = x_min + (x_max - x_min) * np.random.rand(num_x_train)\n",
    "y_train = func_to_learn(x_train)\n",
    "\n",
    "# 関数に正規分布ノイズを付加\n",
    "mag_noise = 0.05\n",
    "y_train_noise = y_train + mag_noise * np.random.randn(num_x_train)"
   ]
  },
  {
   "cell_type": "markdown",
   "id": "bddfee1a",
   "metadata": {},
   "source": [
    "### 量子状態の生成<a id='func_state_preparation'></a>\n",
    "\n",
    "次に、入力$x_i$を初期状態$\\ket{0}^{\\otimes n}$に埋め込むための回路$U_{\\text{in}}(x_i)$（特徴量マップ）を作成します。まず参考文献{cite}`PhysRevA.98.032309`に従い、回転ゲート$R_j^Y(\\theta)=e^{-i\\theta Y_j/2}$と$R_j^Z(\\theta)=e^{-i\\theta Z_j/2}$を使って\n",
    "\n",
    "$$\n",
    "U_{\\text{in}}(x_i) = \\prod_j R_j^Z(\\cos^{-1}(x^2))R_j^Y(\\sin^{-1}(x))\n",
    "$$\n",
    "\n",
    "と定義します。この$U_{\\text{in}}(x_i)$をゼロの標準状態に適用することで、入力$x_i$は$\\ket{\\psi_{\\text{in}}(x_i)}=U_{\\text{in}}(x_i)\\ket{0}^{\\otimes n}$という量子状態に変換されることになります。"
   ]
  },
  {
   "cell_type": "code",
   "execution_count": null,
   "id": "6054dc1b",
   "metadata": {
    "jupyter": {
     "outputs_hidden": false
    },
    "pycharm": {
     "name": "#%%\n"
    }
   },
   "outputs": [],
   "source": [
    "def U_in(x, nqubit):\n",
    "    qr = QuantumRegister(nqubit)\n",
    "    U = QuantumCircuit(qr)\n",
    "\n",
    "    angle_y = np.arcsin(x)\n",
    "    angle_z = np.arccos(x**2)\n",
    "\n",
    "    for i in range(nqubit):\n",
    "        U.ry(angle_y, i)\n",
    "        U.rz(angle_z, i)\n",
    "\n",
    "    U.name = \"U_in\"\n",
    "    return U\n",
    "\n",
    "U_in(x_train[0], nqubit).draw('mpl')"
   ]
  },
  {
   "cell_type": "markdown",
   "id": "a536f11c",
   "metadata": {},
   "source": [
    "### 変分フォームを使った状態変換<a id='func_variational_form'></a>\n",
    "\n",
    "#### 変分量子回路$U(\\boldsymbol{\\theta})$の構成\n",
    "次に、最適化すべき変分量子回路$U(\\boldsymbol{\\theta})$を作っていきます。これは以下の3つの手順で行います。\n",
    "\n",
    "1. 2量子ビットゲートの作成（$\\to$ 量子ビットをエンタングルさせる）\n",
    "2. 回転ゲートの作成\n",
    "3. 1.と2.のゲートを交互に組み合わせ、1つの大きな変分量子回路$U(\\boldsymbol{\\theta})$を作る\n",
    "\n",
    "#### 2量子ビットゲートの作成\n",
    "ここではControlled-$Z$ゲート（$CZ$）を使ってエンタングルさせ、モデルの表現能力を上げることを目指します。\n",
    "\n",
    "#### 回転ゲートと$U(\\boldsymbol{\\theta})$の作成\n",
    "$CZ$ゲートを使ってエンタングルメントを生成する回路$U_{\\text{ent}}$と、$j \\:(=1,2,\\cdots n)$番目の量子ビットに適用する回転ゲート\n",
    "\n",
    "$$\n",
    "U_{\\text{rot}}(\\theta_j^l) = R_j^Y(\\theta_{j3}^l)R_j^Z(\\theta_{j2}^l)R_j^Y(\\theta_{j1}^l)\n",
    "$$\n",
    "\n",
    "を掛けたものを組み合わせて、変分量子回路$U(\\boldsymbol{\\theta})$を構成します。ここで$l$は量子回路の層を表していて、$U_{\\text{ent}}$と上記の回転ゲートを合計$d$層繰り返すことを意味しています。実際は、この演習では最初に回転ゲート$U_{\\text{rot}}$を一度適用してから$d$層繰り返す構造を使うため、全体としては\n",
    "\n",
    "$$\n",
    "U\\left(\\{\\theta_j^l\\}\\right) = \\prod_{l=1}^d\\left(\\left(\\prod_{j=1}^n U_{\\text{rot}}(\\theta_j^l)\\right) \\cdot U_{\\text{ent}}\\right)\\cdot\\prod_{j=1}^n U_{\\text{rot}}(\\theta_j^0)\n",
    "$$\n",
    "\n",
    "という形式の変分量子回路を用いることになります。つまり、変分量子回路は全体で$3n(d+1)$個のパラメータを含んでいます。$\\boldsymbol{\\theta}$の初期値ですが、$[0, 2\\pi]$の範囲でランダムに設定するものとします。"
   ]
  },
  {
   "cell_type": "code",
   "execution_count": null,
   "id": "4503bcdd",
   "metadata": {
    "jupyter": {
     "outputs_hidden": false
    },
    "pycharm": {
     "name": "#%%\n"
    }
   },
   "outputs": [],
   "source": [
    "def U_out(nqubit, params):\n",
    "    qr = QuantumRegister(nqubit)\n",
    "    #cr = ClassicalRegister(nqubit)\n",
    "    U = QuantumCircuit(qr)\n",
    "\n",
    "    for i in range(nqubit):\n",
    "        U.ry(params[i], i)\n",
    "        U.rz(params[nqubit+i], i)\n",
    "        U.ry(params[nqubit*2+i], i)\n",
    "    for d in range(c_depth):\n",
    "        for j in range(nqubit-1):\n",
    "            U.cz(j, j+1)\n",
    "        U.cz(nqubit-1, 0)\n",
    "        for i in range(nqubit):\n",
    "            U.ry(params[nqubit*(3*d+3)+i], i)\n",
    "            U.rz(params[nqubit*(3*d+4)+i], i)\n",
    "            U.ry(params[nqubit*(3*d+5)+i], i)\n",
    "    U.name = \"U_out\"\n",
    "    return U\n",
    "\n",
    "U_out(nqubit, params).draw('mpl')"
   ]
  },
  {
   "cell_type": "markdown",
   "id": "9443c4fb",
   "metadata": {},
   "source": [
    "### 測定とモデル出力<a id='func_measurement'></a>\n",
    "\n",
    "モデルの出力（予測値）として、状態$\\ket{\\psi_{\\text{out}}(\\mathbf{x},\\boldsymbol{\\theta})}=U(\\boldsymbol{\\theta})\\ket{\\psi_{\\text{in}}(\\mathbf{x})}$の元で最初の量子ビットを$Z$基底で測定した時の期待値を使うことにします。つまり$y(\\mathbf{x},\\boldsymbol{\\theta}) = \\langle Z_0(\\mathbf{x},\\boldsymbol{\\theta}) \\rangle = \\expval{\\psi_{\\text{out}}(\\mathbf{x},\\boldsymbol{\\theta})}{Z_0}{\\psi_{\\text{out}}(\\mathbf{x},\\boldsymbol{\\theta})}$です。"
   ]
  },
  {
   "cell_type": "code",
   "execution_count": null,
   "id": "96ae921f",
   "metadata": {
    "jupyter": {
     "outputs_hidden": false
    },
    "pycharm": {
     "name": "#%%\n"
    }
   },
   "outputs": [],
   "source": [
    "def pred_circ(x, nqubit, params):\n",
    "\n",
    "    qr = QuantumRegister(nqubit, name='q')\n",
    "    cr = ClassicalRegister(1, name='c')\n",
    "    circ = QuantumCircuit(qr, cr)\n",
    "\n",
    "    u_in = U_in(x, nqubit).to_instruction()\n",
    "    u_out = U_out(nqubit, params).to_instruction()\n",
    "\n",
    "    circ.append(u_in, qr)\n",
    "    circ.append(u_out, qr)\n",
    "    circ.measure(0, 0)\n",
    "\n",
    "    return circ\n",
    "\n",
    "pred_circ(x_train[0], nqubit, params).decompose().draw('mpl')"
   ]
  },
  {
   "cell_type": "code",
   "execution_count": null,
   "id": "a79b14fe",
   "metadata": {
    "pycharm": {
     "name": "#%%\n"
    }
   },
   "outputs": [],
   "source": [
    "backend = AerSimulator()\n",
    "NUM_SHOTS = 8192\n",
    "\n",
    "def objective_function(params):\n",
    "    cost_total = 0\n",
    "    for i in range(len(x_train)):\n",
    "        qc = pred_circ(x_train[i], nqubit, params)\n",
    "        qc = transpile(qc, backend=backend)\n",
    "        result = backend.run(qc, shots=NUM_SHOTS).result()\n",
    "        counts = result.get_counts(qc)\n",
    "        exp_2Z = (2*counts['0']-2*counts['1'])/NUM_SHOTS\n",
    "        cost = (y_train_noise[i] - exp_2Z)**2\n",
    "        cost_total += cost\n",
    "\n",
    "    return cost_total"
   ]
  },
  {
   "cell_type": "markdown",
   "id": "650d91ab",
   "metadata": {},
   "source": [
    "ここで0と1の測定結果（固有値+1と-1）に2を掛けているのは、$Z$基底での測定結果の範囲を広げるためです。コスト関数$L$として、モデルの予測値と真の値$y_i$の平均2乗誤差の総和を使っています。\n",
    "\n",
    "では、最後にこの回路を実行して、結果を見てみましょう。"
   ]
  },
  {
   "cell_type": "code",
   "execution_count": null,
   "id": "5427cfbd",
   "metadata": {
    "tags": [
     "remove-input"
    ]
   },
   "outputs": [],
   "source": [
    "# テキスト作成用のセル - わざと次のセルでエラーを起こさせる\n",
    "import os\n",
    "if os.getenv('JUPYTERBOOK_BUILD') == '1':\n",
    "    del num_vars"
   ]
  },
  {
   "cell_type": "code",
   "execution_count": null,
   "id": "8f419ec2",
   "metadata": {
    "jupyter": {
     "outputs_hidden": false
    },
    "pycharm": {
     "name": "#%%\n"
    },
    "tags": [
     "raises-exception",
     "remove-output"
    ]
   },
   "outputs": [],
   "source": [
    "optimizer = COBYLA(maxiter=50, tol=0.05)\n",
    "ret = optimizer.optimize(num_vars=num_vars, objective_function=objective_function, initial_point=params)"
   ]
  },
  {
   "cell_type": "code",
   "execution_count": null,
   "id": "8826150d",
   "metadata": {
    "tags": [
     "remove-input"
    ]
   },
   "outputs": [],
   "source": [
    "# テキスト作成用のセルなので無視してよい\n",
    "try:\n",
    "    ret[0]\n",
    "except:\n",
    "    import pickle\n",
    "\n",
    "    with open('data/qc_machine_learning_xcube.pkl', 'rb') as source:\n",
    "        ret = pickle.load(source)"
   ]
  },
  {
   "cell_type": "code",
   "execution_count": null,
   "id": "bb82d347",
   "metadata": {
    "jupyter": {
     "outputs_hidden": false
    },
    "pycharm": {
     "name": "#%%\n"
    }
   },
   "outputs": [],
   "source": [
    "# 最適化したパラメータをプリントアウト\n",
    "print('ret[0] =',ret[0])\n",
    "\n",
    "x_list = np.arange(x_min, x_max, 0.02)\n",
    "y_pred = []\n",
    "for x in x_list:\n",
    "    qc = pred_circ(x, nqubit, ret[0])\n",
    "    qc = transpile(qc, backend=backend)\n",
    "    result = backend.run(qc, shots=NUM_SHOTS).result()\n",
    "    counts = result.get_counts(qc)\n",
    "    exp_2Z = (2*counts['0']-2*counts['1'])/NUM_SHOTS\n",
    "    y_pred.append(exp_2Z)\n",
    "\n",
    "# 結果を図示する\n",
    "plt.plot(x_train, y_train_noise, \"o\", label='Training Data (w/ Noise)')\n",
    "plt.plot(x_list, func_to_learn(x_list), label='Original Function')\n",
    "plt.plot(x_list, np.array(y_pred), label='Predicted Function')\n",
    "plt.legend();"
   ]
  },
  {
   "cell_type": "markdown",
   "id": "debae6a3",
   "metadata": {},
   "source": [
    "生成された図を確認してください。ノイズを印加した学習データの分布から、元の関数$f(x)=x^3$をおおよそ導き出せていることが分かると思います。\n",
    "\n",
    "この実習では計算を早く収束させるために、COBYLAオプティマイザーをCallする回数の上限`maxiter`を50、計算をストップする精度の許容範囲`tol`を0.05とかなり粗くしています。`maxiter`を大きくするあるいは`tol`を小さくするなどして、関数を近似する精度がどう変わるか確かめてみてください（ただ同時に`maxiter`を大きくかつ`tol`を小さくしすぎると、計算に非常に時間がかかります）。"
   ]
  },
  {
   "cell_type": "markdown",
   "id": "6a6cb8e5",
   "metadata": {},
   "source": [
    "## 素粒子現象の探索への応用<a id='susy'></a>\n",
    "\n",
    "次の実習課題では、素粒子物理の基本理論（**標準模型**と呼ばれる）を超える新しい理論の枠組みとして知られている「**超対称性理論**」（*Supersymmetry*、略してSUSY）で存在が予言されている新粒子の探索を考えてみます。\n",
    "\n",
    "左下の図は、グルーオン$g$が相互作用してヒッグス粒子$h$を作り、それが2つのSUSY粒子$\\chi^+\\chi^-$に崩壊する過程を示しています。$\\chi^+$粒子はさらに崩壊し、最終的には$\\ell^+\\ell^-\\nu\\nu\\chi^0\\chi^0$という終状態に落ち着くとします。右下の図は標準模型で存在が知られている過程を表していて、クォーク$q$と反クォーク$\\bar{q}$が相互作用して$W$ボソン対を作り、それが$\\ell^+\\ell^-\\nu\\nu$に崩壊しています。\n",
    "\n",
    "```{image} figs/susy_bg.png\n",
    ":alt: susy_bg\n",
    ":width: 700px\n",
    ":align: center\n",
    "```\n",
    "(図の引用：参考文献{cite}`dl_susy`)\n",
    "\n",
    "左と右の過程を比べると、終状態の違いは$\\chi^0\\chi^0$が存在しているかどうかだけですね。この$\\chi^0$という粒子は検出器と相互作用しないと考えられているので、この二つの過程の違いは（大雑把に言うと）実際の検出器では観測できないエネルギーの大きさにしかなく、探索することが難しい問題と考えることができます。以上のような状況で、この二つの物理過程を量子回路学習で分類できるかどうかを試みます。"
   ]
  },
  {
   "cell_type": "markdown",
   "id": "28396bfe",
   "metadata": {},
   "source": [
    "### 学習データの準備<a id='susy_data'></a>\n",
    "\n",
    "学習に用いるデータは、カリフォルニア大学アーバイン校（UC Irvine）の研究グループが提供する[機械学習レポジトリ](https://archive.ics.uci.edu/ml/index.php)の中の[SUSYデータセット](https://archive.ics.uci.edu/ml/datasets/SUSY)です。このデータセットの詳細は文献{cite}`dl_susy`に委ねますが、ある特定のSUSY粒子生成反応と、それに良く似た特徴を持つ背景事象を検出器で観測した時に予想される信号（運動学的変数）をシミュレートしたデータが含まれています。\n",
    "\n",
    "探索に役立つ運動学的変数をどう選ぶかはそれ自体が大事な研究トピックですが、ここでは簡単のため、前もって役立つことを経験上知っている変数を使います。以下で、学習に使う運動学的変数を選んで、その変数を指定したサンプルを訓練用とテスト用に準備します。"
   ]
  },
  {
   "cell_type": "code",
   "execution_count": null,
   "id": "b10a97db",
   "metadata": {
    "jupyter": {
     "outputs_hidden": false
    },
    "pycharm": {
     "name": "#%%\n"
    }
   },
   "outputs": [],
   "source": [
    "# ファイルから変数を読み出す\n",
    "df = pd.read_csv(\"data/SUSY_1K.csv\",\n",
    "                 names=('isSignal','lep1_pt','lep1_eta','lep1_phi','lep2_pt','lep2_eta',\n",
    "                        'lep2_phi','miss_ene','miss_phi','MET_rel','axial_MET','M_R','M_TR_2',\n",
    "                        'R','MT2','S_R','M_Delta_R','dPhi_r_b','cos_theta_r1'))\n",
    "\n",
    "# 学習に使う変数の数\n",
    "feature_dim = 3  # dimension of each data point\n",
    "\n",
    "# 3, 5, 7変数の場合に使う変数のセット\n",
    "if feature_dim == 3:\n",
    "    SelectedFeatures = ['lep1_pt', 'lep2_pt', 'miss_ene']\n",
    "elif feature_dim == 5:\n",
    "    SelectedFeatures = ['lep1_pt','lep2_pt','miss_ene','M_TR_2','M_Delta_R']\n",
    "elif feature_dim == 7:\n",
    "    SelectedFeatures = ['lep1_pt','lep1_eta','lep2_pt','lep2_eta','miss_ene','M_TR_2','M_Delta_R']\n",
    "\n",
    "# 学習に使う事象数: trainingは訓練用サンプル、testingはテスト用サンプル\n",
    "train_size = 20\n",
    "test_size = 20\n",
    "\n",
    "# オプティマイザーをCallする回数の上限\n",
    "niter = 300\n",
    "random_seed = 10598\n",
    "\n",
    "df_sig = df.loc[df.isSignal==1, SelectedFeatures]\n",
    "df_bkg = df.loc[df.isSignal==0, SelectedFeatures]\n",
    "\n",
    "# サンプルの生成\n",
    "df_sig_train = df_sig.values[:train_size]\n",
    "df_bkg_train = df_bkg.values[:train_size]\n",
    "df_sig_test = df_sig.values[train_size:train_size+test_size]\n",
    "df_bkg_test = df_bkg.values[train_size:train_size+test_size]\n",
    "train_data = np.concatenate([df_sig_train,df_bkg_train])\n",
    "test_data = np.concatenate([df_sig_test,df_bkg_test])\n",
    "#print('train_data =',training_data)\n",
    "#print('test_data =',test_data)\n",
    "train_label = np.concatenate([np.ones((train_size),dtype=int),np.zeros((train_size),dtype=int)])\n",
    "test_label = np.concatenate([np.ones((test_size),dtype=int),np.zeros((test_size),dtype=int)])\n",
    "\n",
    "train_label_one_hot = np.zeros((train_size*2, 2))\n",
    "for i in range(train_size*2):\n",
    "    train_label_one_hot[i, train_label[i]] = 1\n",
    "test_label_one_hot = np.zeros((test_size*2, 2))\n",
    "for i in range(test_size*2):\n",
    "    test_label_one_hot[i, test_label[i]] = 1\n",
    "\n",
    "#datapoints, class_to_label = split_dataset_to_data_and_labels(test_input)\n",
    "#datapoints_tr, class_to_label_tr = split_dataset_to_data_and_labels(training_input)\n",
    "\n",
    "mms = MinMaxScaler((-1, 1))\n",
    "norm_train_data = mms.fit_transform(train_data)\n",
    "norm_test_data = mms.transform(test_data)"
   ]
  },
  {
   "cell_type": "markdown",
   "id": "1442f160",
   "metadata": {
    "pycharm": {
     "name": "#%% md\n"
    }
   },
   "source": [
    "### 量子状態の生成<a id='susy_state_preparation'></a>\n",
    "\n",
    "次は特徴量マップ$U_{\\text{in}}(\\mathbf{x}_i)$の作成ですが、ここでは参考文献{cite}`quantum_svm`に従い、\n",
    "\n",
    "$$\n",
    "U_{\\phi_{\\{k\\}}}(\\mathbf{x}_i)=\\exp\\left(i\\phi_{\\{k\\}}(\\mathbf{x}_i)Z_k\\right)\n",
    "$$\n",
    "\n",
    "あるいは\n",
    "\n",
    "$$\n",
    "U_{\\phi_{\\{l,m\\}}}(\\mathbf{x}_i)=\\exp\\left(i\\phi_{\\{l,m\\}}(\\mathbf{x}_i)Z_lZ_m\\right)\n",
    "$$\n",
    "\n",
    "とします（$k$、$l$、$m$は入力値$\\mathbf{x}_i$のベクトル要素の添字）。この特徴量マップは、パウリZ演算子の形から前者をZ特徴量マップ、後者をZZ特徴量マップと呼ぶことがあります。ここで$\\phi_{\\{k\\}}(\\mathbf{x}_i)=x_i^{(k)}$（$x_i^{(k)}$は$\\mathbf{x}_i$の$k$番目要素）、$\\phi_{\\{l,m\\}}(\\mathbf{x}_i)=(\\pi-x_i^{(l)})(\\pi-x_i^{(m)})$（$x_i^{(l,m)}$は$\\mathbf{x}_i$の$l,m$番目要素）と決めて、入力値$\\mathbf{x}_i$を量子ビットに埋め込みます。Z特徴量マップは入力データの各要素を直接量子ビットに埋め込みます（つまり$\\phi_{\\{k\\}}(\\mathbf{x}_i)$は1入力に対して1量子ビットを使う）。ZZ特徴量マップは実際はZ特徴量マップを含む形で使うことが多いため、$\\phi_{\\{l,m\\}}(\\mathbf{x}_i)$の場合も$\\phi_{\\{k\\}}(\\mathbf{x}_i)$と同数の量子ビットに対して$(l,m)$を循環的に指定して埋め込むことになります。ZZ特徴量マップでは量子ビット間にエンタングルメントを作っているため、古典計算では難しい特徴量空間へのマッピングになっていると考えられます。\n",
    "\n",
    "この$U_\\phi(\\mathbf{x}_i)$にアダマール演算子を組み合わせることで、全体として、Z特徴量マップは\n",
    "\n",
    "$$\n",
    "U_{\\text{in}}(\\mathbf{x}_i) = U_{\\phi}(\\mathbf{x}_i)H^{\\otimes n},\\:\\:U_{\\phi}(\\mathbf{x}_i) = \\exp\\left(i\\sum_{k=1}^nx_i^{(k)}Z_k\\right)\n",
    "$$\n",
    "\n",
    "ZZ特徴量マップは\n",
    "\n",
    "$$\n",
    "U_{\\text{in}}(\\mathbf{x}_i) = U_{\\phi}(\\mathbf{x}_i)H^{\\otimes n},\\:\\:U_{\\phi}(\\mathbf{x}_i) = \\exp\\left(i\\sum_{k=1}^n(\\pi-x_i^{(k)})(\\pi-x_i^{(k\\%n+1)})Z_kZ_{k\\%n+1}\\right)\\exp\\left(i\\sum_{k=1}^nx_i^{(k)}Z_k\\right)\n",
    "$$\n",
    "\n",
    "となります。$U_{\\phi}(\\mathbf{x}_i)H^{\\otimes n}$を複数回繰り返すことでより複雑な特徴量マップを作ることができるのは、上の例の場合と同じです。"
   ]
  },
  {
   "cell_type": "code",
   "execution_count": null,
   "id": "75df26a8",
   "metadata": {
    "jupyter": {
     "outputs_hidden": false
    },
    "pycharm": {
     "name": "#%%\n"
    }
   },
   "outputs": [],
   "source": [
    "#feature_map = ZFeatureMap(feature_dimension=feature_dim, reps=1)\n",
    "feature_map = ZZFeatureMap(feature_dimension=feature_dim, reps=1, entanglement='circular')"
   ]
  },
  {
   "cell_type": "markdown",
   "id": "c5f605c9",
   "metadata": {},
   "source": [
    "### 変分フォームを使った状態変換<a id='susy_variational_form'></a>\n",
    "\n",
    "変分量子回路$U(\\boldsymbol{\\theta})$は上の初歩的な例で用いた回路とほぼ同じですが、回転ゲートとして\n",
    "\n",
    "$$\n",
    "U_{\\text{rot}}(\\theta_j^l) = R_j^Z(\\theta_{j2}^l)R_j^Y(\\theta_{j1}^l)\n",
    "$$\n",
    "\n",
    "を使います。上の例では$U(\\boldsymbol{\\theta})$を自分で組み立てましたが、Qiskitにはこの$U(\\boldsymbol{\\theta})$を実装するAPIがすでに準備されているので、ここではそれを使います。"
   ]
  },
  {
   "cell_type": "code",
   "execution_count": null,
   "id": "8792fbf8",
   "metadata": {
    "jupyter": {
     "outputs_hidden": false
    },
    "pycharm": {
     "name": "#%%\n"
    }
   },
   "outputs": [],
   "source": [
    "ansatz = TwoLocal(num_qubits=feature_dim, rotation_blocks=['ry','rz'], entanglement_blocks='cz', entanglement='circular', reps=3)\n",
    "#ansatz = TwoLocal(num_qubits=feature_dim, rotation_blocks=['ry'], entanglement_blocks='cz', entanglement='circular', reps=3)\n",
    "ansatz.decompose().draw('mpl')"
   ]
  },
  {
   "cell_type": "markdown",
   "id": "38f51838",
   "metadata": {},
   "source": [
    "### 測定とモデル出力<a id='susy_measurement'></a>\n",
    "\n",
    "測定やパラメータの最適化、コスト関数の定義も初歩的な例で用いたものとほぼ同じです。QiskitのAPIを用いるので、プログラムはかなり簡略化されています。"
   ]
  },
  {
   "cell_type": "code",
   "execution_count": null,
   "id": "9619886f",
   "metadata": {
    "jupyter": {
     "outputs_hidden": false
    },
    "pycharm": {
     "name": "#%%\n"
    },
    "tags": [
     "raises-exception",
     "remove-output"
    ]
   },
   "outputs": [],
   "source": [
    "# シミュレータで実行する場合\n",
    "backend = AerSimulator()\n",
    "\n",
    "# 量子コンピュータで実行する場合\n",
    "# instance = 'ibm-q/open/main'\n",
    "\n",
    "# try:\n",
    "#     provider = IBMProvider(instance=instance)\n",
    "# except IBMQAccountCredentialsNotFound:\n",
    "#     provider = IBMProvider(token='__paste_your_token_here__', instance=instance)\n",
    "#\n",
    "# backend_name = 'ibm_washington'\n",
    "# backend = provider.get_backend(backend_name)\n",
    "\n",
    "optimizer = COBYLA(maxiter=niter, disp=True)\n",
    "\n",
    "quantum_instance = QuantumInstance(backend=backend,\n",
    "                                   shots=4096,\n",
    "                                   seed_simulator=random_seed,\n",
    "                                   seed_transpiler=random_seed,\n",
    "                                   skip_qobj_validation=True)\n",
    "\n",
    "objective_func_vals = []\n",
    "# Draw the value of objective function every time when the fit() method is called\n",
    "def callback_graph(weights, obj_func_eval):\n",
    "    clear_output(wait=True)\n",
    "    objective_func_vals.append(obj_func_eval)\n",
    "    #print('obj_func_eval =',obj_func_eval)\n",
    "\n",
    "    plt.title(\"Objective function value against iteration\")\n",
    "    plt.xlabel(\"Iteration\")\n",
    "    plt.ylabel(\"Objective function value\")\n",
    "    plt.plot(range(len(objective_func_vals)), objective_func_vals)\n",
    "    plt.show()\n",
    "\n",
    "vqc = VQC(num_qubits=feature_dim,\n",
    "          feature_map=feature_map,\n",
    "          ansatz=ansatz,\n",
    "          loss=\"cross_entropy\",\n",
    "          optimizer=optimizer,\n",
    "          quantum_instance=quantum_instance,\n",
    "          callback=callback_graph)"
   ]
  },
  {
   "cell_type": "code",
   "execution_count": null,
   "id": "f92a3466",
   "metadata": {
    "tags": [
     "remove-input"
    ]
   },
   "outputs": [],
   "source": [
    "# テキスト作成用のセル - わざと次のセルでエラーを起こさせる\n",
    "if os.getenv('JUPYTERBOOK_BUILD') == '1':\n",
    "    vqc._callback = lambda: 'hi'"
   ]
  },
  {
   "cell_type": "code",
   "execution_count": null,
   "id": "9d542913",
   "metadata": {
    "jupyter": {
     "outputs_hidden": false
    },
    "pycharm": {
     "name": "#%%\n"
    },
    "tags": [
     "raises-exception",
     "remove-output"
    ]
   },
   "outputs": [],
   "source": [
    "vqc.fit(norm_train_data, train_label_one_hot)"
   ]
  },
  {
   "cell_type": "code",
   "execution_count": null,
   "id": "44c3a131",
   "metadata": {
    "tags": [
     "remove-input"
    ]
   },
   "outputs": [],
   "source": [
    "# テキスト作成用のセルなので無視してよい\n",
    "import pickle\n",
    "\n",
    "with open('data/vqc_machine_learning_susycost.pkl', 'rb') as source:\n",
    "    fig = pickle.load(source)\n",
    "\n",
    "with open('data/vqc_machine_learning_susyresult.pkl', 'rb') as source:\n",
    "    vqc._fit_result = pickle.load(source)\n",
    "\n",
    "print('''   Return from subroutine COBYLA because the MAXFUN limit has been reached.\n",
    "\n",
    "NFVALS =  300   F = 2.905943E+01    MAXCV = 0.000000E+00\n",
    "X = 3.203437E-01   6.027761E-02   2.181586E+00   5.954138E-01   1.228722E+00\n",
    "   4.306505E-01   3.107309E-02   1.239565E+00   1.676084E+00   4.498719E-01\n",
    "   3.813252E-01   9.527179E-01   1.487247E+00   1.099720E+00   9.211734E-01\n",
    "  -4.528583E-02   1.636395E+00   1.527914E+00   7.354293E-01   4.912828E-01\n",
    "   1.316776E+00   9.289197E-01   1.257069E-01   3.727158E-01''')"
   ]
  },
  {
   "cell_type": "code",
   "execution_count": null,
   "id": "8db40c82",
   "metadata": {
    "jupyter": {
     "outputs_hidden": false
    },
    "pycharm": {
     "name": "#%%\n"
    }
   },
   "outputs": [],
   "source": [
    "train_score = vqc.score(norm_train_data, train_label_one_hot)\n",
    "test_score = vqc.score(norm_test_data, test_label_one_hot)\n",
    "\n",
    "print(f'--- Classification Train score: {train_score} ---')\n",
    "print(f'--- Classification Test score:  {test_score} ---')"
   ]
  },
  {
   "cell_type": "markdown",
   "id": "f2d0e3cb",
   "metadata": {
    "pycharm": {
     "name": "#%% md\n"
    }
   },
   "source": [
    "この結果を見てどう思うでしょうか？機械学習を知っている方であれば、この結果はあまり良いようには見えませんね。。訓練用のデータでは学習ができている、つまり信号とバックグラウンドの選別ができていますが、テスト用のサンプルでは選別性能が悪くなっています。これは「過学習」を起こしている場合に見られる典型的な症状で、訓練データのサイズに対して学習パラメータの数が多すぎるときによく起こります。\n",
    "\n",
    "試しに、データサンプルの事象数を50や100に増やして実行し、結果を調べてみてください（処理時間は事象数に比例して長くなるので要注意）。"
   ]
  }
 ],
 "metadata": {
  "jupytext": {
   "notebook_metadata_filter": "all",
   "text_representation": {
    "extension": ".md",
    "format_name": "myst",
    "format_version": 0.13,
    "jupytext_version": "1.14.5"
   }
  },
  "kernelspec": {
   "display_name": "Python 3 (ipykernel)",
   "language": "python",
   "name": "python3"
  },
  "language_info": {
   "codemirror_mode": {
    "name": "ipython",
    "version": 3
   },
   "file_extension": ".py",
   "mimetype": "text/x-python",
   "name": "python",
   "nbconvert_exporter": "python",
   "pygments_lexer": "ipython3",
   "version": "3.10.6"
  },
  "source_map": [
   41,
   45,
   58,
   67,
   112,
   137,
   160,
   170,
   199,
   211,
   235,
   264,
   294,
   300,
   327,
   349,
   355,
   364,
   378,
   391,
   418,
   424,
   441,
   449,
   513,
   545,
   556,
   568,
   580,
   586,
   640,
   648,
   661,
   683,
   699
  ],
  "varInspector": {
   "cols": {
    "lenName": 16,
    "lenType": 16,
    "lenVar": 40
   },
   "kernels_config": {
    "python": {
     "delete_cmd_postfix": "",
     "delete_cmd_prefix": "del ",
     "library": "var_list.py",
     "varRefreshCmd": "print(var_dic_list())"
    },
    "r": {
     "delete_cmd_postfix": ") ",
     "delete_cmd_prefix": "rm(",
     "library": "var_list.r",
     "varRefreshCmd": "cat(var_dic_list()) "
    }
   },
   "types_to_exclude": [
    "module",
    "function",
    "builtin_function_or_method",
    "instance",
    "_Feature"
   ],
   "window_display": false
  }
 },
 "nbformat": 4,
 "nbformat_minor": 5
}