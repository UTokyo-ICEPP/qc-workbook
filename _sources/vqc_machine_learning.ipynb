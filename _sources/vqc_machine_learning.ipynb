{
 "cells": [
  {
   "cell_type": "markdown",
   "metadata": {},
   "source": [
    "# 量子・古典ハイブリッド機械学習を使って、新しい素粒子現象の発見を目指す"
   ]
  },
  {
   "cell_type": "markdown",
   "metadata": {},
   "source": [
    "この実習では、**量子・古典ハイブリッドアルゴリズム**の応用である**量子機械学習**の基本的な実装を学んだのち、その活用例として、**素粒子実験での新粒子探索**への応用を考えます。ここで学ぶ量子機械学習の手法は、量子コンピュータを応用することで古典機械学習の性能を向上するという観点から提案された、**変分量子回路**を使った学習手法 [[1]](https://journals.aps.org/pra/abstract/10.1103/PhysRevA.98.032309)です。\n",
    "\n",
    "```{contents} 目次\n",
    "---\n",
    "local: true\n",
    "---\n",
    "```"
   ]
  },
  {
   "cell_type": "markdown",
   "metadata": {},
   "source": [
    "## はじめに <a id='introduction'></a>\n",
    "\n",
    "近年、機械学習の分野において**深層学習**（**ディープラーニング**）が注目を浴びています。ディープラーニングは**ニューラルネットワーク**の隠れ層を多層にすることで、入力と出力の間の複雑な関係を学習することができます。その学習結果を使って、新しい入力データに対して出力を予測することが可能になります。ここで学習する量子機械学習アルゴリズムは、このニューラルネットワークの部分を変分量子回路に置き換えたものです。つまり、ニューラルネットワークでの各ニューロン層への重みを調節する代わりに、変分量子回路のパラメータ（例えば回転ゲートの回転角）を調整することで入力と出力の関係を学習しようという試みです。\n",
    "量子力学の重ね合わせの原理から、**指数関数的に増える多数の計算基底**を使って状態を表現できることが量子コンピュータの強みです。この強みを生かすことで、データ間の複雑な相関を学習できる可能性が生まれます。そこに量子機械学習の最も大きな強みがあると考えられています。\n",
    "\n",
    "多項式で与えられる数の量子ゲートを使って、指数関数的に増える関数を表現できる可能性があるところに量子機械学習の強みがありますが、誤り訂正機能を持たない中規模の量子コンピュータ (*Noisy Intermediate-Scale Quantum*デバイス, 略してNISQ）で、古典計算を上回る性能を発揮できるか確証はありません。しかしNISQデバイスでの動作に適したアルゴリズムであるため、2019年3月にはIBMの実験チームによる実機での実装がすでに行われ、結果も論文[[2]](https://www.nature.com/articles/s41586-019-0980-2)として出版されています。"
   ]
  },
  {
   "cell_type": "markdown",
   "metadata": {},
   "source": [
    "## 機械学習と深層学習 <a id='ml'></a>\n",
    "\n",
    "機械学習を一言で（大雑把に）説明すると、与えられたデータを元に、ある予測を返すような機械を実現する工程だと言えます。例えば、2種類の変数$\\boldsymbol{x}$と$\\boldsymbol{y}$からなるデータ（$(x_i, y_i)$を要素とするベクトル、$i$は要素の添字）があったとして、その変数間の関係を求める問題として機械学習を考えてみましょう。つまり、変数$x_i$を引数とする関数$f$を考え、その出力$\\tilde{y_i}=f(x_i)$が$\\tilde{y}_i\\simeq y_i$となるような関数$f$をデータから近似的に求めることに対応します。\n",
    "一般的に、この関数$f$は変数$x$以外のパラメータを持っているでしょう。なので、そのパラメータ$\\boldsymbol{w}$をうまく調整して、$y_i\\simeq\\tilde{y}_i$となる関数$f=f(x,\\boldsymbol{w}^*)$とパラメータ$\\boldsymbol{w}^*$を求めることが機械学習の鍵になります。\n",
    "\n",
    "関数$f$を近似する方法の一つとして、現在主流になっているのが脳のニューロン構造を模式化したニューラルネットワークです。下図に示しているのは、ニューラルネットの基本的な構造です。丸で示しているのが構成ユニット（ニューロン）で、ニューロンを繋ぐ情報の流れを矢印で表しています。ニューラルネットには様々な構造が考えられますが、基本になるのは図に示したような層構造で、前層にあるニューロンの出力が次の層にあるニューロンへの入力になります。入力データ$x$を受ける入力層と出力$\\tilde{y}$を出す出力層に加え、中間に複数の\"隠れ層\"を持つものを総称して深層ニューラルネットワークと呼びます。\n",
    "\n",
    "```{image} figs/neural_net.png\n",
    ":alt: var_circuit\n",
    ":class: bg-primary mb-1\n",
    ":width: 500px\n",
    ":align: center\n",
    "```\n",
    "\n",
    "では、もう少し数学的なモデルを見てみましょう。$l$層目にある$j$番目のユニット$u_j^l$に対して、前層（$l-1$番目）から$n$個の入力$o_k^{l-1}$ ($k=1,2,\\cdots n$) がある場合、入力$o_k^{l-1}$への重みパラメータ$w_k^l$を使って\n",
    "\n",
    "$$\n",
    "o_j^l=g\\left(\\sum_{k=1}^n o_k^{l-1}w_k^l\\right)\n",
    "$$\n",
    "\n",
    "となる出力$o_j^l$を考えます。図で示すと\n",
    "\n",
    "```{image} figs/neuron.png\n",
    ":alt: var_circuit\n",
    ":class: bg-primary mb-1\n",
    ":width: 350px\n",
    ":align: center\n",
    "```\n",
    "\n",
    "になります。関数$g$は活性化関数と呼ばれ、入力に対して非線形な出力を与えます。活性化関数としては、一般的にはシグモイド関数やReLU（Rectified Linear Unit）等の関数が用いられることが多いです。\n",
    "\n",
    "関数$f(x,\\boldsymbol{w}^*)$を求めるために、最適なパラメータ$\\boldsymbol{w}^*$を決定するプロセス（学習と呼ばれる）が必要です。そのために、出力$\\tilde{y}$とターゲットとなる変数$y$の差を測定する関数$L(\\boldsymbol{w})$を考えます（一般に損失関数やコスト関数と呼ばれます）。\n",
    "\n",
    "$$\n",
    "L(\\boldsymbol{w}) = \\frac{1}{N}\\sum_{i=1}^N L(f(x_i,\\boldsymbol{w}),y_i)\n",
    "$$\n",
    "\n",
    "$N$は$(x_i, y_i)$データの数です。この損失関数$L(\\boldsymbol{w})$を最小化するパラメータ$\\boldsymbol{w}^*$を求めたいわけですが、それには誤差逆伝搬法と呼ばれる手法を使うことができることが知られています。この手法は、$L(\\boldsymbol{w})$の各$w$に対する微分係数$\\Delta_w L(\\boldsymbol{w})$を求めて、\n",
    "\n",
    "$$\n",
    "w'=w-\\epsilon\\Delta_w L(\\boldsymbol{w})\n",
    "$$\n",
    "\n",
    "のように$w$を更新することで、$L(\\boldsymbol{w})$を最小化するというものです（$w$と$w'$は更新前と更新後のパラメータ）。$\\epsilon\\:(>0)$は学習率と呼ばれるパラメータで、これは基本的には私たちが手で決めてやる必要があります。"
   ]
  },
  {
   "cell_type": "markdown",
   "metadata": {},
   "source": [
    "## 量子機械学習<a id='qml'></a>\n",
    "\n",
    "変分量子回路を用いた量子機械学習アルゴリズムは、一般的には以下のような順番で量子回路に実装され、計算が行われます。\n",
    "\n",
    "1. **学習データ**$\\{(\\boldsymbol{x}_i, y_i)\\}$を用意する。$\\boldsymbol{x}_i$は入力データのベクトル、$y_i$は入力データに対する真の値（教師データ）とする（$i$は学習データのサンプルを表す添字）。\n",
    "2. 入力$\\boldsymbol{x}$から何らかの規則で決まる回路$U_{\\text{in}}(\\boldsymbol{x})$（**特徴量マップ**と呼ぶ）を用意し、$\\boldsymbol{x}_i$の情報を埋め込んだ入力状態$|\\psi_{\\rm in}(\\boldsymbol{x}_i)\\rangle = U_{\\text{in}}(\\boldsymbol{x}_i)|0\\rangle$を作る。\n",
    "3. 入力状態にパラメータ$\\boldsymbol{\\theta}$に依存したゲート$U(\\boldsymbol{\\theta})$（**変分フォーム**）を掛けたものを出力状態$|\\psi_{\\rm out}(\\boldsymbol{x}_i,\\boldsymbol{\\theta})\\rangle = U(\\boldsymbol{\\theta})|\\psi_{\\rm in}(\\boldsymbol{x}_i)\\rangle$とする。\n",
    "4. 出力状態のもとで何らかの**観測量**を測定し、測定値$O$を得る。例えば、最初の量子ビットで測定したパウリ$Z$演算子の期待値$\\langle Z_1\\rangle = \\langle \\psi_{\\rm out} |Z_1|\\psi_{\\rm out} \\rangle$などを考える。\n",
    "5. $F$を適当な関数として、$F(O)$をモデルの出力$y(\\boldsymbol{x}_i,\\boldsymbol{\\theta})$とする。\n",
    "6. 真の値$y_i$と出力$y(\\boldsymbol{x}_i,\\boldsymbol{\\theta})$の間の乖離を表す**コスト関数**$L(\\boldsymbol{\\theta})$を定義し、古典計算でコスト関数を計算する。\n",
    "7. $L(\\boldsymbol{\\theta})$が小さくなるように$\\boldsymbol{\\theta}$を更新する。\n",
    "7. 3-7のプロセスを繰り返すことで、コスト関数を最小化する$\\boldsymbol{\\theta}=\\boldsymbol{\\theta^*}$を求める。\n",
    "8. $y(\\boldsymbol{x},\\boldsymbol{\\theta^*})$が学習によって得られた**予測モデル**になる。\n",
    "\n",
    "```{image} figs/var_circuit.png\n",
    ":alt: var_circuit\n",
    ":class: bg-primary mb-1\n",
    ":width: 700px\n",
    ":align: center\n",
    "```\n",
    "\n",
    "\n",
    "この順に量子機械学習アルゴリズムを実装していきましょう。まず、必要なライブラリを最初にインポートします。"
   ]
  },
  {
   "cell_type": "code",
   "execution_count": 1,
   "metadata": {
    "jupyter": {
     "outputs_hidden": false
    },
    "pycharm": {
     "name": "#%%\n"
    }
   },
   "outputs": [],
   "source": [
    "# Tested with python 3.7.9, qiskit 0.23.5, numpy 1.20.1\n",
    "\n",
    "import numpy as np\n",
    "import matplotlib.pyplot as plt\n",
    "\n",
    "from qiskit import QuantumCircuit, ClassicalRegister, QuantumRegister\n",
    "from qiskit import Aer, execute\n",
    "from qiskit.aqua.components.optimizers import SPSA, COBYLA\n",
    "\n",
    "import logging\n",
    "from qiskit.aqua import set_qiskit_aqua_logging\n",
    "set_qiskit_aqua_logging(logging.DEBUG)  # choose INFO, DEBUG to see the log"
   ]
  },
  {
   "cell_type": "markdown",
   "metadata": {},
   "source": [
    "## 初歩的な例<a id='example'></a>\n",
    "\n",
    "ある入力$\\{x_i\\}$と、既知の関数$f$による出力$y_i=f(x_i)$が学習データとして与えられた時に、そのデータから関数$f$を近似的に求める問題を考えてみます。例として、$f(x)=x^3$としてみます。\n",
    "\n",
    "### 学習データの準備<a id='func_data'></a>\n",
    "\n",
    "まず、学習データを準備します。$x_{\\text{min}}$と$x_{\\text{max}}$の範囲でデータをnum_x_train個ランダムに取った後、正規分布に従うノイズを追加しておきます。nqubitが量子ビット数、c_depthが変分フォーム回路の深さ（後述）を表します。"
   ]
  },
  {
   "cell_type": "code",
   "execution_count": 2,
   "metadata": {
    "jupyter": {
     "outputs_hidden": false
    },
    "pycharm": {
     "name": "#%%\n"
    }
   },
   "outputs": [],
   "source": [
    "random_seed = 0\n",
    "np.random.seed(random_seed)\n",
    "\n",
    "# Qubit数、回路の深さ、訓練サンプル数の定義など\n",
    "nqubit = 3\n",
    "c_depth = 5\n",
    "x_min = -1.; x_max = 1.; num_x_train = 30\n",
    "\n",
    "# パラメータ数の設定\n",
    "num_vars = nqubit*3*(c_depth+1)\n",
    "params = np.random.rand(num_vars)*2*np.pi\n",
    "\n",
    "# 関数の定義\n",
    "func_to_learn = lambda x: x**3\n",
    "x_train = x_min + (x_max - x_min) * np.random.rand(num_x_train)\n",
    "y_train = func_to_learn(x_train)\n",
    "\n",
    "# 関数に正規分布ノイズを付加\n",
    "mag_noise = 0.05\n",
    "y_train_noise = y_train + mag_noise * np.random.randn(num_x_train)"
   ]
  },
  {
   "cell_type": "markdown",
   "metadata": {},
   "source": [
    "### 量子状態の生成<a id='func_state_preparation'></a>\n",
    "\n",
    "次に、入力$x_i$を初期状態$|0\\rangle^{\\otimes n}$に埋め込むための回路$U_{\\rm in}(x_i)$（特徴量マップ）を作成します。まず参考文献 [[1]](https://journals.aps.org/pra/abstract/10.1103/PhysRevA.98.032309)に従い、回転ゲート$R_j^Y(\\theta)=e^{i\\theta Y_j/2}$と$R_j^Z(\\theta)=e^{i\\theta Z_j/2}$を使って\n",
    "\n",
    "$$\n",
    "U_{\\rm in}(x_i) = \\prod_j R_j^Z(\\cos^{-1}(x^2))R_j^Y(\\sin^{-1}(x))\n",
    "$$\n",
    "\n",
    "と定義します。この$U_{\\rm in}(x_i)$をゼロの標準状態に適用することで、入力$x_i$は$|\\psi_{\\rm in}(x_i)\\rangle=U_{\\rm in}(x_i)|0\\rangle^{\\otimes n}$という量子状態に変換されることになります。"
   ]
  },
  {
   "cell_type": "code",
   "execution_count": 3,
   "metadata": {
    "jupyter": {
     "outputs_hidden": false
    },
    "pycharm": {
     "name": "#%%\n"
    }
   },
   "outputs": [],
   "source": [
    "def U_in(x, nqubit):\n",
    "    qr = QuantumRegister(nqubit)\n",
    "    U = QuantumCircuit(qr)\n",
    "\n",
    "    angle_y = np.arcsin(x)\n",
    "    angle_z = np.arccos(x**2)\n",
    "\n",
    "    for i in range(nqubit):\n",
    "        U.ry(angle_y, i)\n",
    "        U.rz(angle_z, i)\n",
    "\n",
    "    U.name = \"U_in\"\n",
    "    return U\n",
    "\n",
    "U_in(x_train[0], nqubit).draw()"
   ]
  },
  {
   "cell_type": "markdown",
   "metadata": {},
   "source": [
    "### 変分フォームを使った状態変換<a id='func_variational_form'></a>\n",
    "\n",
    "#### 変分量子回路$U(\\boldsymbol{\\theta})$の構成\n",
    "次に、最適化すべき変分量子回路$U(\\boldsymbol{\\theta})$を作っていきます。これは以下の3つの手順で行います。\n",
    "\n",
    "1. 2量子ビットゲートの作成（$\\to$ 量子ビットをエンタングルさせる）\n",
    "2. 回転ゲートの作成\n",
    "3. 1.と2.のゲートを交互に組み合わせ、1つの大きな変分量子回路$U(\\boldsymbol{\\theta})$を作る\n",
    "\n",
    "#### 2量子ビットゲートの作成\n",
    "ここではControlled-$Z$ゲート（$CZ$）を使ってエンタングルさせ、モデルの表現能力を上げることを目指します。\n",
    "\n",
    "#### 回転ゲートと$U(\\boldsymbol{\\theta})$の作成\n",
    "$CZ$ゲートを使ってエンタングルメントを生成する回路$U_{\\text{ent}}$と、$j \\:(=1,2,\\cdots n)$番目の量子ビットに適用する回転ゲート\n",
    "\n",
    "$$\n",
    "U_{\\text{rot}}(\\theta_j^l) = R_j^Y(\\theta_{j3}^l)R_j^Z(\\theta_{j2}^l)R_j^Y(\\theta_{j1}^l)\n",
    "$$\n",
    "\n",
    "を掛けたものを組み合わせて、変分量子回路$U(\\boldsymbol{\\theta})$を構成します。ここで$l$は量子回路の層を表していて、$U_{\\text{ent}}$と上記の回転ゲートを合計$d$層繰り返すことを意味しています。実際は、この演習では最初に回転ゲート$U_{\\text{rot}}$を一度適用してから$d$層繰り返す構造を使うため、全体としては\n",
    "\n",
    "$$\n",
    "U\\left(\\{\\theta_j^l\\}\\right) = \\prod_{l=1}^d\\left(\\left(\\prod_{j=1}^n U_{\\text{rot}}(\\theta_j^l)\\right) \\cdot U_{\\text{ent}}\\right)\\cdot\\prod_{j=1}^n U_{\\text{rot}}(\\theta_j^0)\n",
    "$$\n",
    "\n",
    "という形式の変分量子回路を用いることになります。つまり、変分量子回路は全体で$3n(d+1)$個のパラメータを含んでいます。$\\boldsymbol{\\theta}$の初期値ですが、$[0, 2\\pi]$の範囲でランダムに設定するものとします。"
   ]
  },
  {
   "cell_type": "code",
   "execution_count": 4,
   "metadata": {
    "jupyter": {
     "outputs_hidden": false
    },
    "pycharm": {
     "name": "#%%\n"
    }
   },
   "outputs": [],
   "source": [
    "def U_out(nqubit, params):\n",
    "    qr = QuantumRegister(nqubit)\n",
    "    #cr = ClassicalRegister(nqubit)\n",
    "    U = QuantumCircuit(qr)\n",
    "\n",
    "    for i in range(nqubit):\n",
    "        U.ry(params[i], i)\n",
    "        U.rz(params[nqubit+i], i)\n",
    "        U.ry(params[nqubit*2+i], i)\n",
    "    for d in range(c_depth):\n",
    "        for j in range(nqubit-1):\n",
    "            U.cz(j, j+1)\n",
    "        U.cz(nqubit-1, 0)\n",
    "        for i in range(nqubit):\n",
    "            U.ry(params[nqubit*(3*d+3)+i], i)\n",
    "            U.rz(params[nqubit*(3*d+4)+i], i)\n",
    "            U.ry(params[nqubit*(3*d+5)+i], i)\n",
    "    U.name = \"U_out\"\n",
    "    return U\n",
    "\n",
    "U_out(nqubit, params).draw()"
   ]
  },
  {
   "cell_type": "markdown",
   "metadata": {},
   "source": [
    "### 測定とモデル出力<a id='func_measurement'></a>\n",
    "\n",
    "モデルの出力（予測値）として、状態$|\\psi_{\\rm out}(\\boldsymbol{x},\\boldsymbol{\\theta})\\rangle=U(\\boldsymbol{\\theta})|\\psi_{\\rm in}(\\boldsymbol{x})\\rangle$の元で最初の量子ビットを$Z$基底で測定した時の期待値を使うことにします。つまり$y(\\boldsymbol{x},\\boldsymbol{\\theta}) = \\langle Z_0(\\boldsymbol{x},\\boldsymbol{\\theta}) \\rangle = \\langle \\psi_{\\rm out}(\\boldsymbol{x},\\boldsymbol{\\theta})|Z_0|\\psi_{\\rm out}(\\boldsymbol{x},\\boldsymbol{\\theta})\\rangle$です。"
   ]
  },
  {
   "cell_type": "code",
   "execution_count": 5,
   "metadata": {
    "jupyter": {
     "outputs_hidden": false
    },
    "pycharm": {
     "name": "#%%\n"
    }
   },
   "outputs": [],
   "source": [
    "def pred_circ(x, nqubit, params):\n",
    "\n",
    "    qr = QuantumRegister(nqubit, name='q')\n",
    "    cr = ClassicalRegister(1, name='c')\n",
    "    circ = QuantumCircuit(qr, cr)\n",
    "\n",
    "    u_in = U_in(x, nqubit).to_instruction()\n",
    "    u_out = U_out(nqubit, params).to_instruction()\n",
    "\n",
    "    circ.append(u_in, qr)\n",
    "    circ.append(u_out, qr)\n",
    "    circ.measure(0, 0)\n",
    "\n",
    "    return circ\n",
    "\n",
    "pred_circ(x_train[0], nqubit, params).draw()"
   ]
  },
  {
   "cell_type": "code",
   "execution_count": null,
   "metadata": {
    "pycharm": {
     "name": "#%%\n"
    }
   },
   "outputs": [],
   "source": [
    "backend = Aer.get_backend(\"qasm_simulator\")\n",
    "NUM_SHOTS = 10000\n",
    "\n",
    "def objective_function(params):\n",
    "    cost_total = 0\n",
    "    for i in range(len(x_train)):\n",
    "        qc = pred_circ(x_train[i], nqubit, params)\n",
    "        result = execute(qc, backend, shots=NUM_SHOTS).result()\n",
    "        counts = result.get_counts(qc)\n",
    "        exp_2Z = (2*counts['0']-2*counts['1'])/NUM_SHOTS\n",
    "        cost = (y_train_noise[i] - exp_2Z)**2\n",
    "        cost_total += cost\n",
    "\n",
    "    return cost_total"
   ]
  },
  {
   "cell_type": "markdown",
   "metadata": {},
   "source": [
    "ここで0と1の測定結果（固有値+1と-1）に2を掛けているのは、$Z$基底での測定結果の範囲を広げるためです。コスト関数$L$として、モデルの予測値と真の値$y_i$の平均2乗誤差の総和を使っています。\n",
    "\n",
    "では、最後にこの回路を実行して、結果を見てみましょう。"
   ]
  },
  {
   "cell_type": "code",
   "execution_count": 6,
   "metadata": {
    "jupyter": {
     "outputs_hidden": false
    },
    "pycharm": {
     "name": "#%%\n"
    }
   },
   "outputs": [
    {
     "name": "stdout",
     "output_type": "stream",
     "text": [
      "ret[0] = [1.19924365 2.26329877 5.23823803 0.79746794 6.92071408 0.11876758\n",
      " 6.25652839 3.06916409 6.71562881 3.84656233 4.7690547  0.22067902\n",
      " 1.74980308 0.78685978 1.70263602 0.72114902 1.95936826 2.58773722\n",
      " 0.3645759  4.18164995 3.42839377 1.69706707 3.22796201 0.63685988\n",
      " 4.66862756 6.9097065  2.16481621 4.17421449 0.82911977 5.50856881\n",
      " 1.78942911 1.1437536  5.17075376 0.24151273 4.99559831 0.00945869\n",
      " 4.24912696 1.75906763 4.67189871 6.11799516 1.61730107 3.67450736\n",
      " 3.78744174 3.55985028 1.44927889 6.03920188 3.86313548 5.04818628\n",
      " 4.28863019 2.95273673 4.96702928 2.44601457 5.26628979 3.64517648]\n"
     ]
    },
    {
     "data": {
      "image/png": "[encoded data removed]",
      "text/plain": [
       "<Figure size 432x288 with 1 Axes>"
      ]
     },
     "metadata": {
      "needs_background": "light"
     },
     "output_type": "display_data"
    }
   ],
   "source": [
    "optimizer = COBYLA(maxiter=500, tol=0.0001)\n",
    "ret = optimizer.optimize(num_vars=num_vars, objective_function=objective_function, initial_point=params)\n",
    "print('ret[0] =',ret[0])\n",
    "\n",
    "x_list = np.arange(x_min, x_max, 0.02)\n",
    "y_pred = []\n",
    "for x in x_list:\n",
    "    qc = pred_circ(x, nqubit, ret[0])\n",
    "    result = execute(qc, backend, shots=NUM_SHOTS).result()\n",
    "    counts = result.get_counts(qc)\n",
    "    exp_2Z = (2*counts['0']-2*counts['1'])/NUM_SHOTS\n",
    "    y_pred.append(exp_2Z)\n",
    "\n",
    "plt.plot(x_train, y_train_noise, \"o\", label='Training Data (w/ Noise)')\n",
    "plt.plot(x_list, func_to_learn(x_list), label='Original Function')\n",
    "plt.plot(x_list, np.array(y_pred), label='Predicted Function')\n",
    "plt.legend()\n",
    "plt.show()"
   ]
  },
  {
   "cell_type": "markdown",
   "metadata": {},
   "source": [
    "生成された図を確認してください。ノイズを印加した学習データの分布から、元の関数$f(x)=x^3$をほぼ導き出せていることが分かると思います。\n",
    "\n",
    "## 素粒子現象の探索への応用<a id='susy'></a>\n",
    "\n",
    "次の実習課題では、（**標準模型**と呼ばれる）素粒子現象の基本理論を超える新しい物理現象として、**超対称性理論**（*Supersymmetry*、略してSUSY）から予言される新粒子の探索を考えてみます。下の図はSUSY信号（左側）と標準模型でのバックグラウンド（右側）のファインマンダイアグラムを表していて、この二つの物理過程を量子機械学習で分類することを試みます。\n",
    "\n",
    "```{image} figs/susy_bg.png\n",
    ":alt: susy_bg\n",
    ":class: bg-primary mb-1\n",
    ":width: 700px\n",
    ":align: center\n",
    "```\n",
    "\n",
    "\n",
    "(図の引用：参考文献[[3]](https://www.nature.com/articles/ncomms5308))\n",
    "\n",
    "### 学習データの準備<a id='susy_data'></a>\n",
    "\n",
    "学習に用いるデータは、カリフォルニア大学アーバイン校（UC Irvine）の研究グループが提供する[機械学習レポジトリ](https://archive.ics.uci.edu/ml/index.php)の中の[SUSYデータセット](https://archive.ics.uci.edu/ml/datasets/SUSY)です。このデータセットの詳細は文献[[3]](https://www.nature.com/articles/ncomms5308)に委ねますが、ある特定のSUSY粒子生成反応とそれに良く似た特徴を持つ背景事象を検出器で観測した時に予想される信号（運動学的変数）をシミュレートしたデータが含まれています。\n",
    "\n",
    "以下では、まず学習に使う運動学的変数を選び、その変数を指定したサンプルを訓練用とテスト用に準備します。"
   ]
  },
  {
   "cell_type": "code",
   "execution_count": 7,
   "metadata": {
    "jupyter": {
     "outputs_hidden": false
    },
    "pycharm": {
     "name": "#%%\n"
    }
   },
   "outputs": [
    {
     "ename": "FileNotFoundError",
     "evalue": "[Errno 2] No such file or directory: 'data_files/SUSY_1K.csv'",
     "output_type": "error",
     "traceback": [
      "\u001B[0;31m---------------------------------------------------------------------------\u001B[0m",
      "\u001B[0;31mFileNotFoundError\u001B[0m                         Traceback (most recent call last)",
      "\u001B[0;32m<ipython-input-7-dab88436b74f>\u001B[0m in \u001B[0;36m<module>\u001B[0;34m\u001B[0m\n\u001B[1;32m      6\u001B[0m \u001B[0;34m\u001B[0m\u001B[0m\n\u001B[1;32m      7\u001B[0m \u001B[0;34m\u001B[0m\u001B[0m\n\u001B[0;32m----> 8\u001B[0;31m df = pd.read_csv(\"data_files/SUSY_1K.csv\",\n\u001B[0m\u001B[1;32m      9\u001B[0m                  names=('isSignal','lep1_pt','lep1_eta','lep1_phi','lep2_pt','lep2_eta',\n\u001B[1;32m     10\u001B[0m                         \u001B[0;34m'lep2_phi'\u001B[0m\u001B[0;34m,\u001B[0m\u001B[0;34m'miss_ene'\u001B[0m\u001B[0;34m,\u001B[0m\u001B[0;34m'miss_phi'\u001B[0m\u001B[0;34m,\u001B[0m\u001B[0;34m'MET_rel'\u001B[0m\u001B[0;34m,\u001B[0m\u001B[0;34m'axial_MET'\u001B[0m\u001B[0;34m,\u001B[0m\u001B[0;34m'M_R'\u001B[0m\u001B[0;34m,\u001B[0m\u001B[0;34m'M_TR_2'\u001B[0m\u001B[0;34m,\u001B[0m\u001B[0;34m\u001B[0m\u001B[0;34m\u001B[0m\u001B[0m\n",
      "\u001B[0;32m/usr/local/lib/python3.8/dist-packages/pandas/io/parsers.py\u001B[0m in \u001B[0;36mread_csv\u001B[0;34m(filepath_or_buffer, sep, delimiter, header, names, index_col, usecols, squeeze, prefix, mangle_dupe_cols, dtype, engine, converters, true_values, false_values, skipinitialspace, skiprows, skipfooter, nrows, na_values, keep_default_na, na_filter, verbose, skip_blank_lines, parse_dates, infer_datetime_format, keep_date_col, date_parser, dayfirst, cache_dates, iterator, chunksize, compression, thousands, decimal, lineterminator, quotechar, quoting, doublequote, escapechar, comment, encoding, dialect, error_bad_lines, warn_bad_lines, delim_whitespace, low_memory, memory_map, float_precision, storage_options)\u001B[0m\n\u001B[1;32m    603\u001B[0m     \u001B[0mkwds\u001B[0m\u001B[0;34m.\u001B[0m\u001B[0mupdate\u001B[0m\u001B[0;34m(\u001B[0m\u001B[0mkwds_defaults\u001B[0m\u001B[0;34m)\u001B[0m\u001B[0;34m\u001B[0m\u001B[0;34m\u001B[0m\u001B[0m\n\u001B[1;32m    604\u001B[0m \u001B[0;34m\u001B[0m\u001B[0m\n\u001B[0;32m--> 605\u001B[0;31m     \u001B[0;32mreturn\u001B[0m \u001B[0m_read\u001B[0m\u001B[0;34m(\u001B[0m\u001B[0mfilepath_or_buffer\u001B[0m\u001B[0;34m,\u001B[0m \u001B[0mkwds\u001B[0m\u001B[0;34m)\u001B[0m\u001B[0;34m\u001B[0m\u001B[0;34m\u001B[0m\u001B[0m\n\u001B[0m\u001B[1;32m    606\u001B[0m \u001B[0;34m\u001B[0m\u001B[0m\n\u001B[1;32m    607\u001B[0m \u001B[0;34m\u001B[0m\u001B[0m\n",
      "\u001B[0;32m/usr/local/lib/python3.8/dist-packages/pandas/io/parsers.py\u001B[0m in \u001B[0;36m_read\u001B[0;34m(filepath_or_buffer, kwds)\u001B[0m\n\u001B[1;32m    455\u001B[0m \u001B[0;34m\u001B[0m\u001B[0m\n\u001B[1;32m    456\u001B[0m     \u001B[0;31m# Create the parser.\u001B[0m\u001B[0;34m\u001B[0m\u001B[0;34m\u001B[0m\u001B[0;34m\u001B[0m\u001B[0m\n\u001B[0;32m--> 457\u001B[0;31m     \u001B[0mparser\u001B[0m \u001B[0;34m=\u001B[0m \u001B[0mTextFileReader\u001B[0m\u001B[0;34m(\u001B[0m\u001B[0mfilepath_or_buffer\u001B[0m\u001B[0;34m,\u001B[0m \u001B[0;34m**\u001B[0m\u001B[0mkwds\u001B[0m\u001B[0;34m)\u001B[0m\u001B[0;34m\u001B[0m\u001B[0;34m\u001B[0m\u001B[0m\n\u001B[0m\u001B[1;32m    458\u001B[0m \u001B[0;34m\u001B[0m\u001B[0m\n\u001B[1;32m    459\u001B[0m     \u001B[0;32mif\u001B[0m \u001B[0mchunksize\u001B[0m \u001B[0;32mor\u001B[0m \u001B[0miterator\u001B[0m\u001B[0;34m:\u001B[0m\u001B[0;34m\u001B[0m\u001B[0;34m\u001B[0m\u001B[0m\n",
      "\u001B[0;32m/usr/local/lib/python3.8/dist-packages/pandas/io/parsers.py\u001B[0m in \u001B[0;36m__init__\u001B[0;34m(self, f, engine, **kwds)\u001B[0m\n\u001B[1;32m    812\u001B[0m             \u001B[0mself\u001B[0m\u001B[0;34m.\u001B[0m\u001B[0moptions\u001B[0m\u001B[0;34m[\u001B[0m\u001B[0;34m\"has_index_names\"\u001B[0m\u001B[0;34m]\u001B[0m \u001B[0;34m=\u001B[0m \u001B[0mkwds\u001B[0m\u001B[0;34m[\u001B[0m\u001B[0;34m\"has_index_names\"\u001B[0m\u001B[0;34m]\u001B[0m\u001B[0;34m\u001B[0m\u001B[0;34m\u001B[0m\u001B[0m\n\u001B[1;32m    813\u001B[0m \u001B[0;34m\u001B[0m\u001B[0m\n\u001B[0;32m--> 814\u001B[0;31m         \u001B[0mself\u001B[0m\u001B[0;34m.\u001B[0m\u001B[0m_engine\u001B[0m \u001B[0;34m=\u001B[0m \u001B[0mself\u001B[0m\u001B[0;34m.\u001B[0m\u001B[0m_make_engine\u001B[0m\u001B[0;34m(\u001B[0m\u001B[0mself\u001B[0m\u001B[0;34m.\u001B[0m\u001B[0mengine\u001B[0m\u001B[0;34m)\u001B[0m\u001B[0;34m\u001B[0m\u001B[0;34m\u001B[0m\u001B[0m\n\u001B[0m\u001B[1;32m    815\u001B[0m \u001B[0;34m\u001B[0m\u001B[0m\n\u001B[1;32m    816\u001B[0m     \u001B[0;32mdef\u001B[0m \u001B[0mclose\u001B[0m\u001B[0;34m(\u001B[0m\u001B[0mself\u001B[0m\u001B[0;34m)\u001B[0m\u001B[0;34m:\u001B[0m\u001B[0;34m\u001B[0m\u001B[0;34m\u001B[0m\u001B[0m\n",
      "\u001B[0;32m/usr/local/lib/python3.8/dist-packages/pandas/io/parsers.py\u001B[0m in \u001B[0;36m_make_engine\u001B[0;34m(self, engine)\u001B[0m\n\u001B[1;32m   1043\u001B[0m             )\n\u001B[1;32m   1044\u001B[0m         \u001B[0;31m# error: Too many arguments for \"ParserBase\"\u001B[0m\u001B[0;34m\u001B[0m\u001B[0;34m\u001B[0m\u001B[0;34m\u001B[0m\u001B[0m\n\u001B[0;32m-> 1045\u001B[0;31m         \u001B[0;32mreturn\u001B[0m \u001B[0mmapping\u001B[0m\u001B[0;34m[\u001B[0m\u001B[0mengine\u001B[0m\u001B[0;34m]\u001B[0m\u001B[0;34m(\u001B[0m\u001B[0mself\u001B[0m\u001B[0;34m.\u001B[0m\u001B[0mf\u001B[0m\u001B[0;34m,\u001B[0m \u001B[0;34m**\u001B[0m\u001B[0mself\u001B[0m\u001B[0;34m.\u001B[0m\u001B[0moptions\u001B[0m\u001B[0;34m)\u001B[0m  \u001B[0;31m# type: ignore[call-arg]\u001B[0m\u001B[0;34m\u001B[0m\u001B[0;34m\u001B[0m\u001B[0m\n\u001B[0m\u001B[1;32m   1046\u001B[0m \u001B[0;34m\u001B[0m\u001B[0m\n\u001B[1;32m   1047\u001B[0m     \u001B[0;32mdef\u001B[0m \u001B[0m_failover_to_python\u001B[0m\u001B[0;34m(\u001B[0m\u001B[0mself\u001B[0m\u001B[0;34m)\u001B[0m\u001B[0;34m:\u001B[0m\u001B[0;34m\u001B[0m\u001B[0;34m\u001B[0m\u001B[0m\n",
      "\u001B[0;32m/usr/local/lib/python3.8/dist-packages/pandas/io/parsers.py\u001B[0m in \u001B[0;36m__init__\u001B[0;34m(self, src, **kwds)\u001B[0m\n\u001B[1;32m   1860\u001B[0m \u001B[0;34m\u001B[0m\u001B[0m\n\u001B[1;32m   1861\u001B[0m         \u001B[0;31m# open handles\u001B[0m\u001B[0;34m\u001B[0m\u001B[0;34m\u001B[0m\u001B[0;34m\u001B[0m\u001B[0m\n\u001B[0;32m-> 1862\u001B[0;31m         \u001B[0mself\u001B[0m\u001B[0;34m.\u001B[0m\u001B[0m_open_handles\u001B[0m\u001B[0;34m(\u001B[0m\u001B[0msrc\u001B[0m\u001B[0;34m,\u001B[0m \u001B[0mkwds\u001B[0m\u001B[0;34m)\u001B[0m\u001B[0;34m\u001B[0m\u001B[0;34m\u001B[0m\u001B[0m\n\u001B[0m\u001B[1;32m   1863\u001B[0m         \u001B[0;32massert\u001B[0m \u001B[0mself\u001B[0m\u001B[0;34m.\u001B[0m\u001B[0mhandles\u001B[0m \u001B[0;32mis\u001B[0m \u001B[0;32mnot\u001B[0m \u001B[0;32mNone\u001B[0m\u001B[0;34m\u001B[0m\u001B[0;34m\u001B[0m\u001B[0m\n\u001B[1;32m   1864\u001B[0m         \u001B[0;32mfor\u001B[0m \u001B[0mkey\u001B[0m \u001B[0;32min\u001B[0m \u001B[0;34m(\u001B[0m\u001B[0;34m\"storage_options\"\u001B[0m\u001B[0;34m,\u001B[0m \u001B[0;34m\"encoding\"\u001B[0m\u001B[0;34m,\u001B[0m \u001B[0;34m\"memory_map\"\u001B[0m\u001B[0;34m,\u001B[0m \u001B[0;34m\"compression\"\u001B[0m\u001B[0;34m)\u001B[0m\u001B[0;34m:\u001B[0m\u001B[0;34m\u001B[0m\u001B[0;34m\u001B[0m\u001B[0m\n",
      "\u001B[0;32m/usr/local/lib/python3.8/dist-packages/pandas/io/parsers.py\u001B[0m in \u001B[0;36m_open_handles\u001B[0;34m(self, src, kwds)\u001B[0m\n\u001B[1;32m   1355\u001B[0m         \u001B[0mLet\u001B[0m \u001B[0mthe\u001B[0m \u001B[0mreaders\u001B[0m \u001B[0mopen\u001B[0m \u001B[0mIOHanldes\u001B[0m \u001B[0mafter\u001B[0m \u001B[0mthey\u001B[0m \u001B[0mare\u001B[0m \u001B[0mdone\u001B[0m \u001B[0;32mwith\u001B[0m \u001B[0mtheir\u001B[0m \u001B[0mpotential\u001B[0m \u001B[0mraises\u001B[0m\u001B[0;34m.\u001B[0m\u001B[0;34m\u001B[0m\u001B[0;34m\u001B[0m\u001B[0m\n\u001B[1;32m   1356\u001B[0m         \"\"\"\n\u001B[0;32m-> 1357\u001B[0;31m         self.handles = get_handle(\n\u001B[0m\u001B[1;32m   1358\u001B[0m             \u001B[0msrc\u001B[0m\u001B[0;34m,\u001B[0m\u001B[0;34m\u001B[0m\u001B[0;34m\u001B[0m\u001B[0m\n\u001B[1;32m   1359\u001B[0m             \u001B[0;34m\"r\"\u001B[0m\u001B[0;34m,\u001B[0m\u001B[0;34m\u001B[0m\u001B[0;34m\u001B[0m\u001B[0m\n",
      "\u001B[0;32m/usr/local/lib/python3.8/dist-packages/pandas/io/common.py\u001B[0m in \u001B[0;36mget_handle\u001B[0;34m(path_or_buf, mode, encoding, compression, memory_map, is_text, errors, storage_options)\u001B[0m\n\u001B[1;32m    640\u001B[0m                 \u001B[0merrors\u001B[0m \u001B[0;34m=\u001B[0m \u001B[0;34m\"replace\"\u001B[0m\u001B[0;34m\u001B[0m\u001B[0;34m\u001B[0m\u001B[0m\n\u001B[1;32m    641\u001B[0m             \u001B[0;31m# Encoding\u001B[0m\u001B[0;34m\u001B[0m\u001B[0;34m\u001B[0m\u001B[0;34m\u001B[0m\u001B[0m\n\u001B[0;32m--> 642\u001B[0;31m             handle = open(\n\u001B[0m\u001B[1;32m    643\u001B[0m                 \u001B[0mhandle\u001B[0m\u001B[0;34m,\u001B[0m\u001B[0;34m\u001B[0m\u001B[0;34m\u001B[0m\u001B[0m\n\u001B[1;32m    644\u001B[0m                 \u001B[0mioargs\u001B[0m\u001B[0;34m.\u001B[0m\u001B[0mmode\u001B[0m\u001B[0;34m,\u001B[0m\u001B[0;34m\u001B[0m\u001B[0;34m\u001B[0m\u001B[0m\n",
      "\u001B[0;31mFileNotFoundError\u001B[0m: [Errno 2] No such file or directory: 'data_files/SUSY_1K.csv'"
     ]
    }
   ],
   "source": [
    "import pandas as pd\n",
    "from qiskit.aqua import QuantumInstance\n",
    "from qiskit.circuit.library import TwoLocal, ZFeatureMap, ZZFeatureMap\n",
    "from qiskit.aqua.algorithms import VQC\n",
    "from qiskit.aqua.utils import split_dataset_to_data_and_labels, map_label_to_class_name\n",
    "\n",
    "\n",
    "df = pd.read_csv(\"data/SUSY_1K.csv\",\n",
    "                 names=('isSignal','lep1_pt','lep1_eta','lep1_phi','lep2_pt','lep2_eta',\n",
    "                        'lep2_phi','miss_ene','miss_phi','MET_rel','axial_MET','M_R','M_TR_2',\n",
    "                        'R','MT2','S_R','M_Delta_R','dPhi_r_b','cos_theta_r1'))\n",
    "\n",
    "feature_dim = 3  # dimension of each data point\n",
    "if feature_dim == 3:\n",
    "    SelectedFeatures = ['lep1_pt', 'lep2_pt', 'miss_ene']\n",
    "elif feature_dim == 5:\n",
    "    SelectedFeatures = ['lep1_pt','lep2_pt','miss_ene','M_TR_2','M_Delta_R']\n",
    "elif feature_dim == 7:\n",
    "    SelectedFeatures = ['lep1_pt','lep1_eta','lep2_pt','lep2_eta','miss_ene','M_TR_2','M_Delta_R']\n",
    "\n",
    "training_size = 20\n",
    "testing_size = 20\n",
    "niter = 500\n",
    "random_seed = 10598\n",
    "\n",
    "df_sig = df.loc[df.isSignal==1, SelectedFeatures]\n",
    "df_bkg = df.loc[df.isSignal==0, SelectedFeatures]\n",
    "\n",
    "df_sig_training = df_sig.values[:training_size]\n",
    "df_bkg_training = df_bkg.values[:training_size]\n",
    "df_sig_test = df_sig.values[training_size:training_size+testing_size]\n",
    "df_bkg_test = df_bkg.values[training_size:training_size+testing_size]\n",
    "training_input = {'1':df_sig_training, '0':df_bkg_training}\n",
    "test_input = {'1':df_sig_test, '0':df_bkg_test}\n",
    "#print('train_input =',training_input)\n",
    "#print('test_input =',test_input)\n",
    "\n",
    "datapoints, class_to_label = split_dataset_to_data_and_labels(test_input)\n",
    "datapoints_tr, class_to_label_tr = split_dataset_to_data_and_labels(training_input)"
   ]
  },
  {
   "cell_type": "markdown",
   "metadata": {
    "pycharm": {
     "name": "#%% md\n"
    }
   },
   "source": [
    "### 量子状態の生成<a id='susy_state_preparation'></a>\n",
    "\n",
    "次は特徴量マップ$U_{\\rm in}(\\boldsymbol{x}_i)$の作成ですが、ここでは参考文献[[2]](https://www.nature.com/articles/s41586-019-0980-2)に従い、\n",
    "\n",
    "$$\n",
    "U_{\\phi_{\\{k\\}}}(\\boldsymbol{x}_i)=\\exp\\left(i\\phi_{\\{k\\}}(\\boldsymbol{x}_i)Z_k\\right)\n",
    "$$\n",
    "\n",
    "とします（$k$は入力値$\\boldsymbol{x}_i$のベクトル要素の添字）。ここで$\\phi_{\\{k\\}}(\\boldsymbol{x}_i)=x_i^k$と決めて（$x_i^k$は$\\boldsymbol{x}_i$の$k$番目要素）、入力値$\\boldsymbol{x}_i$を$k$個の量子ビットに埋め込みます。この$U_{\\phi_{\\{k\\}}}(x)$にアダマール演算子を組み合わせることで、全体として\n",
    "\n",
    "$$\n",
    "U_{\\rm in}(\\boldsymbol{x}_i) = U_{\\phi}(\\boldsymbol{x}_i) H^{\\otimes n},\\:\\:U_{\\phi}(\\boldsymbol{x}_i) = \\exp\\left(i \\sum_{k=1}^n \\phi_{\\{k\\}}(\\boldsymbol{x}_i)Z_k\\right)\n",
    "$$\n",
    "\n",
    "が得られます。"
   ]
  },
  {
   "cell_type": "code",
   "execution_count": null,
   "metadata": {
    "jupyter": {
     "outputs_hidden": false
    },
    "pycharm": {
     "name": "#%%\n"
    }
   },
   "outputs": [],
   "source": [
    "feature_map = ZFeatureMap(feature_dim, reps=1)"
   ]
  },
  {
   "cell_type": "markdown",
   "metadata": {},
   "source": [
    "### 変分フォームを使った状態変換<a id='susy_variational_form'></a>\n",
    "\n",
    "変分量子回路$U(\\boldsymbol{\\theta})$は上の初歩的な例で用いた回路とほぼ同じですが、回転ゲートとして\n",
    "\n",
    "$$\n",
    "U_{\\text{rot}}(\\theta_j^l) = R_j^Y(\\theta_{j1}^l)R_j^Z(\\theta_{j2}^l)\n",
    "$$\n",
    "\n",
    "を使います。上の例では$U(\\boldsymbol{\\theta})$を自分で組み立てましたが、Qiskitにはこの$U(\\boldsymbol{\\theta})$を実装するAPIがすでに準備されているので、ここではそれを使います。"
   ]
  },
  {
   "cell_type": "code",
   "execution_count": null,
   "metadata": {
    "jupyter": {
     "outputs_hidden": false
    },
    "pycharm": {
     "name": "#%%\n"
    }
   },
   "outputs": [],
   "source": [
    "two = TwoLocal(feature_dim, ['ry','rz'], 'cz', 'full', reps=1)\n",
    "print(two)"
   ]
  },
  {
   "cell_type": "markdown",
   "metadata": {},
   "source": [
    "### 測定とモデル出力<a id='susy_measurement'></a>\n",
    "\n",
    "測定やパラメータの最適化、コスト関数の定義も初歩的な例で用いたものとほぼ同じです。QiskitのAPIを用いるので、プログラムはかなり簡略化されています。"
   ]
  },
  {
   "cell_type": "code",
   "execution_count": null,
   "metadata": {
    "jupyter": {
     "outputs_hidden": false
    },
    "pycharm": {
     "name": "#%%\n"
    }
   },
   "outputs": [],
   "source": [
    "# シミュレータで実行する場合\n",
    "backend = Aer.get_backend('qasm_simulator')\n",
    "\n",
    "# 量子コンピュータで実行する場合\n",
    "#from qiskit import IBMQ\n",
    "#IBMQ.enable_account('__your_token__')\n",
    "#provider0 = IBMQ.get_provider(hub='ibm-q', group='open', project='main')\n",
    "#backend_name = 'ibmq_santiago'\n",
    "#backend = provider0.get_backend(backend_name)\n",
    "\n",
    "\n",
    "optimizer = COBYLA(maxiter=niter, disp=True)\n",
    "vqc = VQC(optimizer, feature_map, two, training_input, test_input)\n",
    "\n",
    "quantum_instance = QuantumInstance(backend=backend, shots=1024,\n",
    "                                   seed_simulator=random_seed, seed_transpiler=random_seed,\n",
    "                                   skip_qobj_validation=True)\n",
    "\n",
    "result = vqc.run(quantum_instance)\n",
    "print(\" --- Testing success ratio: \", result['testing_accuracy'])"
   ]
  },
  {
   "cell_type": "markdown",
   "metadata": {},
   "source": [
    "学習したモデルの出力に対して、閾値を設定することで信号とバックグラウンドの選別が可能になります。その選別性能を評価するために一般的に行われるのは、閾値を連続的に変化させた時に得られる選別効率を2次元平面上でプロットすることです。この曲線をROC（Receiver Operating Characteristic）曲線と言います。\n",
    "\n",
    "学習結果を使って、訓練用とテスト用のデータからROC曲線を描いてみます。"
   ]
  },
  {
   "cell_type": "code",
   "execution_count": null,
   "metadata": {
    "jupyter": {
     "outputs_hidden": false
    },
    "pycharm": {
     "name": "#%%\n"
    }
   },
   "outputs": [],
   "source": [
    "predicted_probs, predicted_labels = vqc.predict(datapoints[0])\n",
    "prob_test_signal = predicted_probs[:,1]\n",
    "#predicted_classes = map_label_to_class_name(predicted_labels, vqc.label_to_class)\n",
    "#print(\" ---   Prediction:   {}\".format(predicted_classes))\n",
    "predicted_probs_tr, predicted_labels_tr = vqc.predict(datapoints_tr[0])\n",
    "prob_train_signal = predicted_probs_tr[:,1]\n",
    "\n",
    "\n",
    "from sklearn.metrics import roc_curve, auc, roc_auc_score\n",
    "fpr, tpr, thresholds = roc_curve(datapoints[1], prob_test_signal, drop_intermediate=False)\n",
    "fpr_tr, tpr_tr, thresholds_tr = roc_curve(datapoints_tr[1], prob_train_signal, drop_intermediate=False)\n",
    "roc_auc = auc(fpr, tpr)\n",
    "roc_auc_tr = auc(fpr_tr, tpr_tr)\n",
    "\n",
    "plt.plot(fpr, tpr, color='darkorange', lw=2, label='Testing Data (AUC = %0.3f)' % roc_auc)\n",
    "plt.plot(fpr_tr, tpr_tr, color='darkblue', lw=2, label='Training Data (AUC = %0.3f)' % roc_auc_tr)\n",
    "plt.plot([0, 0], [1, 1], color='navy', lw=2, linestyle='--')\n",
    "plt.xlim([-0.05, 1.0])\n",
    "plt.ylim([0.0, 1.05])\n",
    "plt.xlabel('False Positive Rate')\n",
    "plt.ylabel('True Positive Rate')\n",
    "plt.legend(loc=\"lower right\")\n",
    "plt.show()"
   ]
  },
  {
   "cell_type": "markdown",
   "metadata": {},
   "source": [
    "## [課題] 素粒子実験へのVQEの応用 <a id='vqe_application'></a>\n",
    "\n",
    "ここでは、高エネルギー物理実験にVQEを応用できるかどうかを考えます。その応用例と課題をこの[ノートブック](vqe_tracking.ipynb)に準備しました。最後にある課題をレポートとして提出してください。"
   ]
  },
  {
   "cell_type": "markdown",
   "metadata": {},
   "source": [
    "## 参考文献<a id='references'></a>\n",
    "1. K. Mitarai, M. Negoro, M. Kitagawa, and K. Fujii, “Quantum circuit learning”, [Phys. Rev. A 98, 032309 (2018)](https://journals.aps.org/pra/abstract/10.1103/PhysRevA.98.032309)\n",
    "2. V. Havlicek _et al._ , “Supervised learning with quantum-enhanced feature spaces”, [Nature 567, 209–212 (2019)](https://www.nature.com/articles/s41586-019-0980-2)\n",
    "3. P. Baldi, P. Sadowski, and D. Whiteson, “Searching for exotic particles in high-energy physics with deep learning”, [Nature Commun. 5, 4308 (2014)](https://www.nature.com/articles/ncomms5308)"
   ]
  }
 ],
 "metadata": {
  "execution": {
   "timeout": -1
  },
  "kernelspec": {
   "display_name": "Python 3",
   "language": "python",
   "name": "python3"
  },
  "language_info": {
   "codemirror_mode": {
    "name": "ipython",
    "version": 3
   },
   "file_extension": ".py",
   "mimetype": "text/x-python",
   "name": "python",
   "nbconvert_exporter": "python",
   "pygments_lexer": "ipython3",
   "version": "3.6.7"
  },
  "varInspector": {
   "cols": {
    "lenName": 16,
    "lenType": 16,
    "lenVar": 40
   },
   "kernels_config": {
    "python": {
     "delete_cmd_postfix": "",
     "delete_cmd_prefix": "del ",
     "library": "var_list.py",
     "varRefreshCmd": "print(var_dic_list())"
    },
    "r": {
     "delete_cmd_postfix": ") ",
     "delete_cmd_prefix": "rm(",
     "library": "var_list.r",
     "varRefreshCmd": "cat(var_dic_list()) "
    }
   },
   "types_to_exclude": [
    "module",
    "function",
    "builtin_function_or_method",
    "instance",
    "_Feature"
   ],
   "window_display": false
  }
 },
 "nbformat": 4,
 "nbformat_minor": 4
}