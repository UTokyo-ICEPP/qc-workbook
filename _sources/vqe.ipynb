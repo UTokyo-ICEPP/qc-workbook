{
 "cells": [
  {
   "cell_type": "markdown",
   "id": "5106cd42",
   "metadata": {},
   "source": [
    "# 変分法と変分量子固有値ソルバー法を学習する"
   ]
  },
  {
   "cell_type": "markdown",
   "id": "0e970cfb",
   "metadata": {},
   "source": [
    "この実習では、変分法の基本的な考え方と、その方法に基づいた変分量子アルゴリズムと呼ばれる量子計算の手法を学びます。特に、量子計算と古典計算を組み合わせた「**量子・古典ハイブリッドアルゴリズム**」としての変分量子アルゴリズムに着目します。この手法を用いて、近似的な固有値計算を可能にする**変分量子固有値ソルバー法**と呼ばれる方法へ拡張していきます。\n",
    "\n",
    "```{contents} 目次\n",
    "---\n",
    "local: true\n",
    "---\n",
    "```\n",
    "\n",
    "$\\newcommand{\\ket}[1]{| #1 \\rangle}$\n",
    "$\\newcommand{\\bra}[1]{\\langle #1 |}$\n",
    "$\\newcommand{\\braket}[2]{\\langle #1 | #2 \\rangle}$\n",
    "$\\newcommand{\\expval}[3]{\\langle #1 | #2 | #3 \\rangle}$"
   ]
  },
  {
   "cell_type": "markdown",
   "id": "6867d6d6",
   "metadata": {},
   "source": [
    "## はじめに\n",
    "行列で表現されるある物理系に対して、その最も小さい固有値を見つけるという操作は、多くのアプリケーションで必要となる重要な技術です。例えば化学の計算では、分子を特徴づけるエルミート行列の最小固有値はそのシステムの最もエネルギーの低い状態（基底状態）のエネルギーになります。最小固有値を見つけるには「**量子位相推定**」と呼ばれる手法（この{doc}`課題 <spectrum_estimation>`を参照）を使うことができますが、この手法を使って実用的な問題を解こうとすると、そのために必要な量子回路はNISQコンピュータでは実現できないほど長くなることが知られています。そのために、短い量子回路を利用して分子の基底状態エネルギーを推定する手法として、**変分量子固有値ソルバー法**（*Variational Quantum Eigensolver*, VQE）が提案されました {cite}`vqe`。\n",
    "\n",
    "まず、VQEの元になる関係を形式的に表現してみましょう。何か分からない最小固有値$\\lambda_{min}$とその固有状態$\\ket{\\psi_{min}}$をもったエルミート行列$H$が与えられたとして、VQEはその系のエネルギーの下限である$\\lambda_{min}$の近似解$\\lambda_{\\theta}$を求める手法です。つまり\n",
    "\n",
    "$$\n",
    "\\lambda_{min} \\le \\lambda_{\\theta} \\equiv \\expval{ \\psi(\\theta)}{H}{\\psi(\\theta) }\n",
    "$$\n",
    "\n",
    "を満たす、できるだけ小さい$\\lambda_{\\theta}$を求めることに対応します。ここで$\\ket{\\psi(\\theta)}$は近似解$\\lambda_{\\theta}$に対応する状態で、$\\theta$はパラメータです。つまり、適当な初期状態$\\ket{\\psi}$にユニタリー$U(\\theta)$で表現されるパラメータ化された回路を適用することで、$\\ket{\\psi_{min}}$を近似する状態$\\ket{\\psi(\\theta)} \\equiv U(\\theta)\\ket{\\psi}$を得ようというアイデアです。最適なパラメータ$\\theta$の値は、期待値 $\\expval{\\psi(\\theta)}{H}{\\psi(\\theta)}$が最小になるように古典計算を繰り返しながら求めていくことになります。"
   ]
  },
  {
   "cell_type": "markdown",
   "id": "a969a7ac",
   "metadata": {},
   "source": [
    "## 量子力学における変分法\n",
    "\n",
    "### 背景\n",
    "\n",
    "VQEは量子力学の**変分法**を応用した手法です。変分法をより良く理解するために、基礎的な数学的背景を見てみましょう。\n",
    "\n",
    "行列$A$の固有ベクトル$\\ket{\\psi_i}$とその固有値$\\lambda_i$は、$A \\ket{\\psi_i} = \\lambda_i \\ket{\\psi_i}$という関係を持っていますね。行列$H$がエルミート行列$H = H^{\\dagger}$の場合、スペクトル定理から$H$の固有値は実数になります（$\\lambda_i = \\lambda_i^*$）。実際に実験で測定できる量は実数である必要があるため、量子系のハミルトニアンを記述するためにはエルミート行列が適切です。さらに、$H$は以下のように表現することもできます。\n",
    "\n",
    "$$\n",
    "H = \\sum_{i = 1}^{N} \\lambda_i \\ket{\\psi_i} \\bra{ \\psi_i }\n",
    "$$\n",
    "\n",
    "ここで、各$\\lambda_i$は固有ベクトル$\\ket{\\psi_i}$に対応する固有値です。任意の量子状態$\\ket{\\psi}$に対して観測量$H$を測定した時の期待値は、以下の式で与えられます。\n",
    "\n",
    "$$\n",
    "\\langle H \\rangle_{\\psi} \\equiv \\expval{ \\psi }{ H }{ \\psi }\n",
    "$$\n",
    "\n",
    "上式の$H$を期待値の式に代入すると\n",
    "\n",
    "$$\n",
    "\\begin{aligned}\n",
    "\\langle H \\rangle_{\\psi} = \\expval{ \\psi }{ H }{ \\psi } &= \\bra{ \\psi } \\left(\\sum_{i = 1}^{N} \\lambda_i \\ket{\\psi_i} \\bra{ \\psi_i }\\right) \\ket{\\psi}\\\\\n",
    "&= \\sum_{i = 1}^{N} \\lambda_i \\braket{ \\psi }{ \\psi_i} \\braket{ \\psi_i }{ \\psi} \\\\\n",
    "&= \\sum_{i = 1}^{N} \\lambda_i | \\braket{ \\psi_i }{ \\psi} |^2\n",
    "\\end{aligned}\n",
    "$$\n",
    "\n",
    "になります。最後の式は、任意の状態$\\ket{\\psi}$に対する$H$の期待値は、$\\lambda_i$を重みとした固有ベクトル$\\ket{\\psi_i}$と$\\ket{\\psi}$の内積（の絶対値二乗）の線形結合として与えられることを示しています。この式から、$| \\braket{ \\psi_i }{ \\psi} |^2 \\ge 0$ であるために\n",
    "\n",
    "$$\n",
    "\\lambda_{min} \\le \\langle H \\rangle_{\\psi} = \\expval{ \\psi }{ H }{ \\psi } = \\sum_{i = 1}^{N} \\lambda_i | \\braket{ \\psi_i }{ \\psi} |^2\n",
    "$$\n",
    "\n",
    "が成り立つことは明らかです。上記の式が**変分法**と呼ばれるもの（テキストによっては**変分原理**と呼ぶ）で、波動関数を「うまく取る」ことで、ハミルトニアン$H$の期待値の下限として最小固有値を近似的に求めることができることを表しています。この式から、$\\ket{\\psi_{min}}$状態の期待値は$\\expval{ \\psi_{min}}{H}{\\psi_{min}} = \\expval{ \\psi_{min}}{\\lambda_{min}}{\\psi_{min}} = \\lambda_{min}$になることも分かるでしょう。\n",
    "\n",
    "### 基底状態の近似\n",
    "系のハミルトニアンがエルミート行列$H$で表現されている場合、系の基底状態のエネルギーは$H$の最小固有値になります。まず$\\ket{\\psi_{min}}$の初期推定としてある波動関数$\\ket{\\psi}$（*Ansatz*と呼ばれる）を選び、その状態での期待値$\\langle H \\rangle_{\\psi}$を計算します。変分法の鍵は、この期待値が小さくなるように波動関数を更新しながら計算を繰り返し、ハミルトニアンの基底状態エネルギーに近づけていくところにあります。"
   ]
  },
  {
   "cell_type": "markdown",
   "id": "360bcd11",
   "metadata": {},
   "source": [
    "(vqa)=\n",
    "## 変分量子アルゴリズム\n",
    "\n",
    "まず、VQEの元になっている**変分量子アルゴリズム**（*Variational Quantum Algorithm*, VQA）と呼ばれる手法について見ていきます。"
   ]
  },
  {
   "cell_type": "markdown",
   "id": "175feb10",
   "metadata": {},
   "source": [
    "### 変分量子回路\n",
    "量子コンピューター上で変分法を実装するには、*Ansatz*を更新する仕組みが必要です。量子状態の更新には量子ゲートが使えることを、私たちは知っていますね。VQAも量子ゲートを使いますが、VQAは決まった構造を持つパラメータ化された量子回路（**変分量子回路**と呼ばれる）を使って行います。この回路は**変分フォーム**（*variational form*）と呼ばれる場合もあり、回路をひとまとめにしてユニタリー変換$U(\\theta)$と書くことも多いです（$\\theta$はパラメータで、複数ある場合はベクトルになります）。\n",
    "\n",
    "変分フォームを初期状態$\\ket{\\psi}$（例えば標準状態$\\ket{0}$）に適用すると、出力として$\\ket{\\psi(\\theta)} \\equiv U(\\theta)\\ket{\\psi}$が生成されます。この状態の元で期待値$\\expval{ \\psi(\\theta)}{H}{\\psi(\\theta)}$が$\\lambda_{min}$に近付くように、$\\ket{\\psi(\\theta)}$に対してパラメータ$\\theta$の最適化を行うのがVQEです。パラメータの最適化は古典計算で実行することを想定しており、その意味でVQEは典型的な**量子・古典ハイブリッドアルゴリズム**の一つです。\n",
    "\n",
    "変分フォームの決め方ですが、解きたい問題のドメインに応じて特定の構造を持つ変分フォームを導入することがあります。そうではなく、幅広い問題への応用ができるようにドメインに依存しない形の変分フォーム（例えば$R_X$や$R_Y$などの回転ゲート）を使うこともあります。後で高エネルギー実験へのVQEの応用を課題として考えますが、そこでは$R_Y$と制御$Z$ゲートを使った変分フォームを実装します。"
   ]
  },
  {
   "cell_type": "markdown",
   "id": "b01c021d",
   "metadata": {},
   "source": [
    "### 単純な変分フォーム\n",
    "変分フォームを決める時には、2つの相反する目的に対するバランスを考える必要があります。$n$量子ビットの変分フォームは、パラメータの数を増やせば実自由度$2^{n+1}-2$の任意の状態ベクトル$\\ket{\\psi}$を生成できるでしょう。しかし、パラメータを最適化することを考えれば、できるだけ少ないパラメータで変分フォームを構築したいですよね。回転角をパラメータとする回転ゲートの数が増えれば、量子コンピュータで動かす場合はそれだけノイズの影響を受けやすくなります。なので、できるだけ少ないパラメータ（やゲート）で求める状態を生成できればベストでしょう。\n",
    "\n",
    "ここでは、まず$n=1$の場合を考えます。Qiskitの$U$ゲート（上の$U(\\theta)$ノーテーションと紛らわしいですが、こちらは単一のゲート）は3つのパラメータ$\\theta$、$\\phi$、$\\lambda$を使って以下の変換を表現します:\n",
    "\n",
    "$$\n",
    "U(\\theta, \\phi, \\lambda) = \\begin{pmatrix}\\cos\\frac{\\theta}{2} & -e^{i\\lambda}\\sin\\frac{\\theta}{2} \\\\ e^{i\\phi}\\sin\\frac{\\theta}{2} & e^{i\\lambda + i\\phi}\\cos\\frac{\\theta}{2} \\end{pmatrix}\n",
    "$$\n",
    "\n",
    "変分フォームの初期状態を$\\ket{0}$に取るならば、上の行列の第一列のみが状態生成に寄与し、$\\theta$と$\\phi$の2つのパラメータで任意の単一量子ビット状態を表現できます。そういう意味で、この変分フォームは**ユニバーサル**であると言います。ただ、ユニバーサルに任意の状態を生成できるということは、この変分フォームが生成する状態を使ってあるハミルトニアン$H$の期待値を計算しようとした場合、その固有状態を近似する状態だけでなく、それ以外のさまざまな状態も含むということになります。つまり、VQEで最小固有値を効率的に決められるかどうかは、こういう不要な状態を避けつつ、古典計算でいかに適切にパラメータを最適化できるかにかかっているわけです。"
   ]
  },
  {
   "cell_type": "markdown",
   "id": "295740ed",
   "metadata": {},
   "source": [
    "### パラメータの最適化\n",
    "パラメータ化された変分フォームを選択したら、所望の量子状態を作ることができるように、変分法に従ってパラメータを最適化する必要があります。パラメータの最適化のプロセスには様々な課題があります。例えば量子ハードウェアには様々なタイプのノイズがあるため、その状態でエネルギーを測定しても正しい答えが返ってくるという保証はありません。そのために、パラメータの最適化に使う目的関数の評価が実際のエネルギーの値からずれてしまい、正しくパラメータの更新ができない可能性があります。また、最適化の手法（**オプティマイザー**）によっては、パラメータの数に依って目的関数を評価する回数が増えることがあり、ノイズの影響をさらに受けやすくなります。つまり、アプリケーションの要求を考慮しながら、オプティマイザーの選択にも気を配る必要があります。\n",
    "\n",
    "最も一般的な最適化手法は、エネルギーの減少が極大になるような方向に各パラメータを更新する**勾配降下法**です。各パラメータごとに勾配を計算するため、最適化すべきパラメータの数に応じて目的関数を評価する回数は増えます。また、この性質から探索空間の中で局所的な最適値を素早く発見することは可能ですが、逆に探索が局所的な最小値に留まってしまうことがあります。勾配降下法は直感的で理解しやすい最適化の手法ですが、少なくとも現在のNISQコンピュータでは精度良く実行することは難しいと考えられています（VQEを実装する時に、勾配計算を使った最適化の方法を紹介します）。\n",
    "\n",
    "ノイズのある量子コンピュータで目的関数を最適化する適切なオプティマイザーとして、*Simultaneous Perturbation Stochastic Approximation*（**SPSA**）{cite}`bhatnagar_optimization`があります。SPSAは2回の測定だけで目的関数の勾配を近似できるという特徴があります。勾配降下法では各パラメータを独立に変化させるのに対して、SPSAでは全てのパラメータを同時にランダムに変化させます。以上のことから、VQEを利用する場合のオプティマイザーとしてSPSAが推奨されることがあります。\n",
    "\n",
    "ノイズがない量子コンピュータで目的関数を評価する場合（例えば状態ベクトルシミュレータで実行する場合など）は、Pythonの<a href=\"https://www.scipy.org/scipylib/index.html\" target=\"_blank\">SciPy</a>パッケージで提供されているオプティマイザーなど、様々な選択肢があります。この実習では、Qiskitでサポートされているオプティマイザーの中で、特に*Constrained Optimization by Linear Approximation*（**COBYLA**）と呼ばれるオプティマイザーも使用します。COBYLAは目的関数の評価を1回しか実行しない（つまり評価の回数がパラメータの数に依存しない）ため、ノイズがない状態でかつ評価の回数を少なくしたい場合にはCOBYLAの利用が推奨されているようです。いずれにしろ、どのオプティマイザーがベストかはVQEアルゴリズムの実装形式や実行環境によって変わるため、ある程度経験によって決める必要があると考えられます。"
   ]
  },
  {
   "cell_type": "markdown",
   "id": "99f93c9b",
   "metadata": {},
   "source": [
    "### 変分フォームを使った実例\n",
    "ではここで、$U$ゲート一つからなる単一量子ビットの変分フォームを利用してパラメータ最適化の例を実行してみましょう。ランダムに量子状態$\\ket{\\psi_0}$を選び、$\\ket{\\psi(\\theta, \\phi)} := U(\\theta, \\phi, 0)\\ket{0}$でそれを近似するという問題を考えます[^actually_exact]。1量子ビットの状態は観測量$X, Y, Z$の期待値$\\langle X \\rangle, \\langle Y \\rangle, \\langle Z \\rangle$の値がわかれば（全体位相を除いて）完全に決まるので、$\\ket{\\psi(\\theta, \\phi)}$による$X, Y, Z$の期待値$\\langle X \\rangle_{\\theta, \\phi}, \\langle Y \\rangle_{\\theta, \\phi}, \\langle Z \\rangle_{\\theta, \\phi}$が$\\ket{\\psi_0}$による対応する期待値$\\langle X \\rangle_0, \\langle Y \\rangle_0, \\langle Z \\rangle_0$に等しくなるように$\\theta, \\phi$を選ぶことになります。したがって、問題は目的関数\n",
    "\n",
    "$$\n",
    "L(\\theta, \\phi) = [\\langle X \\rangle_{\\theta, \\phi} - \\langle X \\rangle_0]^2 + [\\langle Y \\rangle_{\\theta, \\phi} - \\langle Y \\rangle_0]^2 + [\\langle Z \\rangle_{\\theta, \\phi} - \\langle Z \\rangle_0]^2\n",
    "$$\n",
    "\n",
    "の最小化となります。\n",
    "\n",
    "```{image} figs/vqe_u3.png\n",
    ":alt: vqe_u3\n",
    ":width: 400px\n",
    ":align: center\n",
    "```\n",
    "\n",
    "[^actually_exact]: $U(\\theta, \\phi, 0)$は単一量子ビットについてユニバーサルなので、原理的には近似ではなく厳密に一致させることができます。"
   ]
  },
  {
   "cell_type": "code",
   "execution_count": 1,
   "id": "8337d306",
   "metadata": {
    "jupyter": {
     "outputs_hidden": false
    },
    "pycharm": {
     "name": "#%%\n"
    }
   },
   "outputs": [],
   "source": [
    "import numpy as np\n",
    "import matplotlib.pyplot as plt\n",
    "from qiskit import QuantumCircuit, transpile\n",
    "from qiskit.circuit import Parameter, ParameterVector\n",
    "from qiskit.primitives import BackendEstimator\n",
    "from qiskit.quantum_info import Statevector, Operator, SparsePauliOp\n",
    "from qiskit.algorithms.optimizers import SPSA, COBYLA\n",
    "from qiskit_aer import AerSimulator"
   ]
  },
  {
   "cell_type": "markdown",
   "id": "0480d513",
   "metadata": {},
   "source": [
    "最初に、ターゲットとなる量子状態ベクトルをランダムに生成する関数と、状態ベクトルから$X, Y, Z$の期待値を計算する関数を定義します。状態ベクトルはQiskitのStatevectorというクラスで表現し、パウリ演算子にはSparsePauliOpを使用します。"
   ]
  },
  {
   "cell_type": "code",
   "execution_count": 2,
   "id": "bd167eaa",
   "metadata": {
    "jupyter": {
     "outputs_hidden": false
    },
    "pycharm": {
     "name": "#%%\n"
    }
   },
   "outputs": [
    {
     "name": "stdout",
     "output_type": "stream",
     "text": [
      "<X> = 0.75\n",
      "<Y> = 0.43301270189221924\n",
      "<Z> = 0.5000000000000002\n"
     ]
    }
   ],
   "source": [
    "rng = np.random.default_rng(999999)\n",
    "\n",
    "# 与えられた量子ビット数（nq）に応じたランダムな状態ベクトルを作る関数\n",
    "def random_statevector(nq):\n",
    "    # 2^nqの複素数をランダムに生成\n",
    "    data = rng.random(2 ** nq) + 1.j * rng.random(2 ** nq)\n",
    "    # 正規化\n",
    "    data /= np.sqrt(np.sum(np.square(np.abs(data))))\n",
    "\n",
    "    return Statevector(data)\n",
    "\n",
    "# 例：U(π/3, π/6, 0)|0>\n",
    "statevector = Statevector(np.array([np.cos(np.pi / 6.), np.exp(1.j * np.pi / 6.) * np.sin(np.pi / 6.)]))\n",
    "for pauli in ['X', 'Y', 'Z']:\n",
    "    op = SparsePauliOp(pauli)\n",
    "    print(f'<{pauli}> = {statevector.expectation_value(op).real}')"
   ]
  },
  {
   "cell_type": "markdown",
   "id": "38412489",
   "metadata": {},
   "source": [
    "次に、変分フォーム回路を定義します。このとき、$U$ゲートの回転角として、具体的な数値を設定せず、QiskitのParameterというオブジェクトを利用します。Parameterはあとから数値を代入できる名前のついた箱として使えます。"
   ]
  },
  {
   "cell_type": "code",
   "execution_count": 3,
   "id": "32466ad4",
   "metadata": {
    "tags": [
     "remove-output"
    ]
   },
   "outputs": [
    {
     "data": {
      "text/plain": [
       "<qiskit.circuit.instructionset.InstructionSet at 0x7f753b2b6740>"
      ]
     },
     "execution_count": 3,
     "metadata": {},
     "output_type": "execute_result"
    }
   ],
   "source": [
    "theta = Parameter('θ')\n",
    "phi = Parameter('φ')\n",
    "\n",
    "ansatz_1q = QuantumCircuit(1)\n",
    "ansatz_1q.u(theta, phi, 0., 0)"
   ]
  },
  {
   "cell_type": "markdown",
   "id": "19da40f0",
   "metadata": {},
   "source": [
    "Parameterに値を代入するには、回路の`bind_parameters`メソッドを利用します。"
   ]
  },
  {
   "cell_type": "code",
   "execution_count": 4,
   "id": "1419c8d0",
   "metadata": {},
   "outputs": [
    {
     "data": {
      "image/png": "[encoded data removed]",
      "text/plain": [
       "<Figure size 185.453x117.056 with 1 Axes>"
      ]
     },
     "execution_count": 4,
     "metadata": {},
     "output_type": "execute_result"
    }
   ],
   "source": [
    "# Parameterの値は未定\n",
    "ansatz_1q.draw('mpl')"
   ]
  },
  {
   "cell_type": "code",
   "execution_count": 5,
   "id": "16377759",
   "metadata": {},
   "outputs": [
    {
     "data": {
      "image/png": "[encoded data removed]",
      "text/plain": [
       "<Figure size 185.453x117.056 with 1 Axes>"
      ]
     },
     "execution_count": 5,
     "metadata": {},
     "output_type": "execute_result"
    }
   ],
   "source": [
    "# thetaとphiにπ/3とπ/6を代入\n",
    "ansatz_1q.bind_parameters({theta: np.pi / 3., phi: np.pi / 6.}).draw('mpl')"
   ]
  },
  {
   "cell_type": "markdown",
   "id": "4975be39",
   "metadata": {},
   "source": [
    "変分フォーム回路が作る状態における$X, Y, Z$の期待値を測定するための回路を定義します。"
   ]
  },
  {
   "cell_type": "code",
   "execution_count": 6,
   "id": "cdc69493",
   "metadata": {},
   "outputs": [],
   "source": [
    "circuits = dict()\n",
    "\n",
    "# <X>を測るにはHゲートで基底を変換する\n",
    "circuits['X'] = ansatz_1q.copy()\n",
    "circuits['X'].h(0)\n",
    "circuits['X'].measure_all()\n",
    "\n",
    "# <Y>を測るにはSdg, Hゲートで基底を変換する\n",
    "circuits['Y'] = ansatz_1q.copy()\n",
    "circuits['Y'].sdg(0)\n",
    "circuits['Y'].h(0)\n",
    "circuits['Y'].measure_all()\n",
    "\n",
    "# <Z>はそのままの回路で測れる\n",
    "circuits['Z'] = ansatz_1q.copy()\n",
    "circuits['Z'].measure_all()"
   ]
  },
  {
   "cell_type": "markdown",
   "id": "fe7a9216",
   "metadata": {},
   "source": [
    "それぞれの回路を通常通りバックエンドの`run()`メソッドで実行し、結果から期待値を計算する関数を定義します。"
   ]
  },
  {
   "cell_type": "code",
   "execution_count": 7,
   "id": "d380dbc8",
   "metadata": {},
   "outputs": [
    {
     "name": "stdout",
     "output_type": "stream",
     "text": [
      "<X> = 0.7498\n",
      "<Y> = 0.431\n",
      "<Z> = 0.4992\n"
     ]
    }
   ],
   "source": [
    "backend = AerSimulator()\n",
    "\n",
    "def circuit_expval(circuit, param_vals):\n",
    "    bound_circuit = circuit.bind_parameters({theta: param_vals[0], phi: param_vals[1]})\n",
    "\n",
    "    bound_circuit_tr = transpile(bound_circuit, backend=backend)\n",
    "    # shotsは関数の外で定義する\n",
    "    job = backend.run(bound_circuit_tr, shots=shots)\n",
    "    counts = job.result().get_counts()\n",
    "\n",
    "    return (counts.get('0', 0) - counts.get('1', 0)) / shots\n",
    "\n",
    "# 例：U(π/3, π/6, 0)|0>\n",
    "shots = 10000\n",
    "param_vals = [np.pi / 3., np.pi / 6.]\n",
    "for pauli in ['X', 'Y', 'Z']:\n",
    "    print(f'<{pauli}> = {circuit_expval(circuits[pauli], param_vals)}')"
   ]
  },
  {
   "cell_type": "markdown",
   "id": "4cb444ee",
   "metadata": {},
   "source": [
    "最小化する目的関数を定義します。"
   ]
  },
  {
   "cell_type": "code",
   "execution_count": 8,
   "id": "a71a0797",
   "metadata": {},
   "outputs": [],
   "source": [
    "def objective_function(param_vals):\n",
    "    loss = 0.\n",
    "    for pauli in ['X', 'Y', 'Z']:\n",
    "        # target_state_1qは関数の外で定義する\n",
    "        op = SparsePauliOp(pauli)\n",
    "        target = target_state_1q.expectation_value(op).real\n",
    "        current = circuit_expval(circuits[pauli], param_vals)\n",
    "        loss += (target - current) ** 2\n",
    "\n",
    "    return loss\n",
    "\n",
    "# 最適化の1ステップごとに呼び出される関数。目的関数の値をリストに記録しておく\n",
    "def callback_function(param_vals):\n",
    "    # lossesは関数の外で定義する\n",
    "    losses.append(objective_function(param_vals))"
   ]
  },
  {
   "cell_type": "markdown",
   "id": "f6a799af",
   "metadata": {},
   "source": [
    "最適化には使用しませんが、解を得たあとで変分フォームの終状態とターゲット状態とのフィデリティ$|\\langle \\psi_0 | \\psi(\\theta, \\phi) \\rangle|^2$を計算する関数も定義しておきます。厳密に最適化が成功すれば、この関数の返り値は1になります。"
   ]
  },
  {
   "cell_type": "code",
   "execution_count": 9,
   "id": "1135f8fb",
   "metadata": {},
   "outputs": [],
   "source": [
    "def fidelity(ansatz, param_vals, target_state):\n",
    "    # 量子回路のパラメータのリストはcircuit.parametersで取得できる\n",
    "    parameters = ansatz.parameters\n",
    "\n",
    "    param_binding = dict(zip(parameters, param_vals))\n",
    "    opt_ansatz = ansatz.bind_parameters(param_binding)\n",
    "\n",
    "    # Statevectorは回路からも生成可能（回路を|0>に対して適用した終状態になる）\n",
    "    circuit_state = Statevector(opt_ansatz)\n",
    "\n",
    "    return np.square(np.abs(target_state.inner(circuit_state)))"
   ]
  },
  {
   "cell_type": "markdown",
   "id": "e59a8a83",
   "metadata": {},
   "source": [
    "最後にCOBYLAオプティマイザーのインスタンスを作成し、アルゴリズムを実行します。"
   ]
  },
  {
   "cell_type": "code",
   "execution_count": 10,
   "id": "9d0b118b",
   "metadata": {},
   "outputs": [],
   "source": [
    "# COBYLAの最大ステップ数\n",
    "maxiter = 500\n",
    "# COBYLAの収束条件（小さいほどよい近似を目指す）\n",
    "tol = 0.0001\n",
    "# バックエンドでのショット数\n",
    "shots = 1000\n",
    "\n",
    "# オプティマイザーのインスタンス生成\n",
    "optimizer = COBYLA(maxiter=maxiter, tol=tol, callback=callback_function)"
   ]
  },
  {
   "cell_type": "code",
   "execution_count": 11,
   "id": "d3d1536c",
   "metadata": {
    "tags": [
     "remove-input"
    ]
   },
   "outputs": [],
   "source": [
    "# テキスト作成用のセル\n",
    "\n",
    "import os\n",
    "if os.getenv('JUPYTERBOOK_BUILD') == '1':\n",
    "    del optimizer"
   ]
  },
  {
   "cell_type": "code",
   "execution_count": 12,
   "id": "07ddfa03",
   "metadata": {
    "tags": [
     "raises-exception",
     "remove-output"
    ]
   },
   "outputs": [
    {
     "ename": "NameError",
     "evalue": "name 'optimizer' is not defined",
     "output_type": "error",
     "traceback": [
      "\u001b[0;31m---------------------------------------------------------------------------\u001b[0m",
      "\u001b[0;31mNameError\u001b[0m                                 Traceback (most recent call last)",
      "Cell \u001b[0;32mIn[12], line 9\u001b[0m\n\u001b[1;32m      7\u001b[0m \u001b[38;5;66;03m# 最適化を実行\u001b[39;00m\n\u001b[1;32m      8\u001b[0m losses \u001b[38;5;241m=\u001b[39m \u001b[38;5;28mlist\u001b[39m()\n\u001b[0;32m----> 9\u001b[0m min_result \u001b[38;5;241m=\u001b[39m \u001b[43moptimizer\u001b[49m\u001b[38;5;241m.\u001b[39mminimize(objective_function, x0\u001b[38;5;241m=\u001b[39minit)\n",
      "\u001b[0;31mNameError\u001b[0m: name 'optimizer' is not defined"
     ]
    }
   ],
   "source": [
    "# ターゲット状態\n",
    "target_state_1q = random_statevector(1)\n",
    "\n",
    "# thetaを[0, π), phiを[0, 2π)からランダムに選ぶ\n",
    "init = [rng.uniform(0., np.pi), rng.uniform(0., 2. * np.pi)]\n",
    "\n",
    "# 最適化を実行\n",
    "losses = list()\n",
    "min_result = optimizer.minimize(objective_function, x0=init)"
   ]
  },
  {
   "cell_type": "code",
   "execution_count": 13,
   "id": "bd357ed6",
   "metadata": {
    "tags": [
     "remove-input"
    ]
   },
   "outputs": [],
   "source": [
    "# テキスト作成用のセル\n",
    "\n",
    "import pickle\n",
    "if os.getenv('JUPYTERBOOK_BUILD') == '1':\n",
    "    with open('data/vqe_results_1q.pkl', 'rb') as source:\n",
    "        min_result, losses = pickle.load(source)"
   ]
  },
  {
   "cell_type": "markdown",
   "id": "1f0d999e",
   "metadata": {},
   "source": [
    "最適化プロセスにおけるロス（目的関数の返り値）の推移をプロットします。"
   ]
  },
  {
   "cell_type": "code",
   "execution_count": 14,
   "id": "3a90f645",
   "metadata": {},
   "outputs": [
    {
     "data": {
      "image/png": "[encoded data removed]",
      "text/plain": [
       "<Figure size 640x480 with 1 Axes>"
      ]
     },
     "metadata": {},
     "output_type": "display_data"
    }
   ],
   "source": [
    "plt.plot(losses);"
   ]
  },
  {
   "cell_type": "raw",
   "id": "3d8b2795",
   "metadata": {},
   "source": [
    "`optimizer.minimize()`の返り値の`min_result`から最適化過程の様々な情報（目的関数の呼び出し回数や最適化に要したステップ数など）にアクセスできます。特に、最適化されたパラメータ値が`min_result.x`から得られるので、それを使ってフィデリティを計算してみます。"
   ]
  },
  {
   "cell_type": "code",
   "execution_count": 15,
   "id": "52d7e7dd",
   "metadata": {},
   "outputs": [
    {
     "data": {
      "text/plain": [
       "0.9998472042379072"
      ]
     },
     "execution_count": 15,
     "metadata": {},
     "output_type": "execute_result"
    }
   ],
   "source": [
    "fidelity(ansatz_1q, min_result.x, target_state_1q)"
   ]
  },
  {
   "cell_type": "raw",
   "id": "ba05da77",
   "metadata": {},
   "source": [
    "ショット数が有限なので統計誤差の影響から最適パラメータは厳密解とは一致しません。ショット数やステップ数を変えて、解の一致具合を確認してみてください。"
   ]
  },
  {
   "cell_type": "markdown",
   "id": "07f5d92d",
   "metadata": {},
   "source": [
    "#### Estimatorの利用\n",
    "\n",
    "VQEを含む変分量子アルゴリズムでは、上のように変分フォームにパラメータ値を代入し複数の観測量の期待値を計算するという手順の繰り返しが頻出します。そのため、これを自動化し、かつ（今は利用しませんが）様々なエラー補正なども適応してくれるEstimatorというクラスを使用することが推奨されています。特に、ここではBackendEstimatorという、特定のバックエンドを利用して計算をするタイプのEstimatorを利用します。"
   ]
  },
  {
   "cell_type": "code",
   "execution_count": 16,
   "id": "98a64972",
   "metadata": {},
   "outputs": [
    {
     "data": {
      "text/plain": [
       "array([0.7408, 0.4436, 0.5082])"
      ]
     },
     "execution_count": 16,
     "metadata": {},
     "output_type": "execute_result"
    }
   ],
   "source": [
    "# BackendEstimatorインスタンスの生成\n",
    "estimator = BackendEstimator(backend)\n",
    "\n",
    "# 観測量はSparsePauliOpオブジェクトで表現\n",
    "observables = [SparsePauliOp('X'), SparsePauliOp('Y'), SparsePauliOp('Z')]\n",
    "\n",
    "param_vals = [np.pi / 3., np.pi / 6.]\n",
    "\n",
    "# 変分フォーム、観測量、パラメータ値をrun()に渡す\n",
    "# 観測量が3つあるので、ansatz_1qとparam_valuesも3つずつ\n",
    "job = estimator.run([ansatz_1q] * 3, observables, [param_vals] * 3, shots=10000)\n",
    "result = job.result()\n",
    "result.values"
   ]
  },
  {
   "cell_type": "markdown",
   "id": "2f2b2387",
   "metadata": {},
   "source": [
    "Estimatorを使った目的関数を定義します。"
   ]
  },
  {
   "cell_type": "code",
   "execution_count": 17,
   "id": "cc3286cb",
   "metadata": {},
   "outputs": [],
   "source": [
    "observables_1q = [SparsePauliOp('X'), SparsePauliOp('Y'), SparsePauliOp('Z')]\n",
    "\n",
    "def objective_function_estimator(param_vals):\n",
    "    target = np.array(list(target_state_1q.expectation_value(op).real for op in observables_1q))\n",
    "\n",
    "    job = estimator.run([ansatz_1q] * len(observables_1q), observables_1q, [param_vals] * len(observables_1q), shots=shots)\n",
    "    current = np.array(job.result().values)\n",
    "\n",
    "    return np.sum(np.square(target - current))\n",
    "\n",
    "def callback_function_estimator(param_vals):\n",
    "    # lossesは関数の外で定義する\n",
    "    losses.append(objective_function_estimator(param_vals))"
   ]
  },
  {
   "cell_type": "markdown",
   "id": "a597e98b",
   "metadata": {},
   "source": [
    "上の目的関数を最適化します。"
   ]
  },
  {
   "cell_type": "code",
   "execution_count": 18,
   "id": "0683cec2",
   "metadata": {},
   "outputs": [],
   "source": [
    "# COBYLAの最大ステップ数\n",
    "maxiter = 500\n",
    "# COBYLAの収束条件（小さいほどよい近似を目指す）\n",
    "tol = 0.0001\n",
    "# バックエンドでのショット数\n",
    "shots = 1000\n",
    "\n",
    "# オプティマイザーのインスタンス生成\n",
    "optimizer = COBYLA(maxiter=maxiter, tol=tol, callback=callback_function_estimator)"
   ]
  },
  {
   "cell_type": "code",
   "execution_count": 19,
   "id": "df46ccf7",
   "metadata": {
    "tags": [
     "remove-input"
    ]
   },
   "outputs": [],
   "source": [
    "# テキスト作成用のセル\n",
    "\n",
    "if os.getenv('JUPYTERBOOK_BUILD') == '1':\n",
    "    del optimizer"
   ]
  },
  {
   "cell_type": "code",
   "execution_count": 20,
   "id": "2d057613",
   "metadata": {
    "tags": [
     "raises-exception",
     "remove-output"
    ]
   },
   "outputs": [
    {
     "ename": "NameError",
     "evalue": "name 'optimizer' is not defined",
     "output_type": "error",
     "traceback": [
      "\u001b[0;31m---------------------------------------------------------------------------\u001b[0m",
      "\u001b[0;31mNameError\u001b[0m                                 Traceback (most recent call last)",
      "Cell \u001b[0;32mIn[20], line 9\u001b[0m\n\u001b[1;32m      7\u001b[0m \u001b[38;5;66;03m# 最適化を実行\u001b[39;00m\n\u001b[1;32m      8\u001b[0m losses \u001b[38;5;241m=\u001b[39m \u001b[38;5;28mlist\u001b[39m()\n\u001b[0;32m----> 9\u001b[0m min_result \u001b[38;5;241m=\u001b[39m \u001b[43moptimizer\u001b[49m\u001b[38;5;241m.\u001b[39mminimize(objective_function_estimator, x0\u001b[38;5;241m=\u001b[39minit)\n",
      "\u001b[0;31mNameError\u001b[0m: name 'optimizer' is not defined"
     ]
    }
   ],
   "source": [
    "# ターゲット状態\n",
    "target_state_1q = random_statevector(1)\n",
    "\n",
    "# thetaを[0, π), phiを[0, 2π)からランダムに選ぶ\n",
    "init = [rng.uniform(0., np.pi), rng.uniform(0., 2. * np.pi)]\n",
    "\n",
    "# 最適化を実行\n",
    "losses = list()\n",
    "min_result = optimizer.minimize(objective_function_estimator, x0=init)"
   ]
  },
  {
   "cell_type": "code",
   "execution_count": 21,
   "id": "bcadd464",
   "metadata": {
    "tags": [
     "remove-input"
    ]
   },
   "outputs": [],
   "source": [
    "# テキスト作成用のセル\n",
    "\n",
    "if os.getenv('JUPYTERBOOK_BUILD') == '1':\n",
    "    with open('data/vqe_result_1q_estimator.pkl', 'rb') as source:\n",
    "        min_result = pickle.load(source)"
   ]
  },
  {
   "cell_type": "code",
   "execution_count": 22,
   "id": "236aa59a",
   "metadata": {},
   "outputs": [
    {
     "data": {
      "text/plain": [
       "0.9990917238925524"
      ]
     },
     "execution_count": 22,
     "metadata": {},
     "output_type": "execute_result"
    }
   ],
   "source": [
    "fidelity(ansatz_1q, min_result.x, target_state_1q)"
   ]
  },
  {
   "cell_type": "markdown",
   "id": "4df5f1ff",
   "metadata": {},
   "source": [
    "### エンタングルメントの導入\n",
    "\n",
    "では次に、この問題を2量子ビットに拡張してやってみましょう。2量子ビットの純粋状態は6個の実自由度を持ちますが、ここでは最も一般的に2量子ビット状態を決定する15個の観測量の期待値\n",
    "\n",
    "$$\n",
    "\\langle O_1 O_2 \\rangle \\quad (O_1, O_2 = I, X, Y, Z; O_1 O_2 \\neq II)\n",
    "$$\n",
    "\n",
    "を測定します。ここで$I$は恒等演算子です。\n",
    "\n",
    "ターゲット状態に関する関数`random_statevector`と`pauli_expval`はそのまま利用できます。まず変分フォームとして2つの量子ビットに$U$ゲートが一つずつかかっているものを考えて、最小化すべき目的関数を定義します。"
   ]
  },
  {
   "cell_type": "code",
   "execution_count": 23,
   "id": "d1296b3d",
   "metadata": {
    "tags": [
     "remove-output"
    ]
   },
   "outputs": [
    {
     "data": {
      "text/plain": [
       "<qiskit.circuit.instructionset.InstructionSet at 0x7f7534b8f190>"
      ]
     },
     "execution_count": 23,
     "metadata": {},
     "output_type": "execute_result"
    }
   ],
   "source": [
    "# パラメータ数4なので、4要素のパラメータベクトルを作る\n",
    "params = ParameterVector('params', 4)\n",
    "\n",
    "ansatz_2q = QuantumCircuit(2)\n",
    "ansatz_2q.u(params[0], params[1], 0., 0)\n",
    "ansatz_2q.u(params[2], params[3], 0., 1)"
   ]
  },
  {
   "cell_type": "code",
   "execution_count": 24,
   "id": "82cef06b",
   "metadata": {},
   "outputs": [],
   "source": [
    "paulis_1q = ['I', 'X', 'Y', 'Z']\n",
    "paulis_2q = list(f'{op1}{op2}' for op1 in paulis_1q for op2 in paulis_1q if (op1, op2) != ('I', 'I'))\n",
    "observables_2q = list(SparsePauliOp(pauli) for pauli in paulis_2q)\n",
    "\n",
    "def objective_function_2q(param_vals):\n",
    "    # target_state_2qは関数の外で定義\n",
    "    target = np.array(list(target_state_2q.expectation_value(op).real for op in observables_2q))\n",
    "\n",
    "    job = estimator.run([ansatz_2q] * len(observables_2q), observables_2q, [param_vals] * len(observables_2q), shots=shots)\n",
    "    current = np.array(job.result().values)\n",
    "\n",
    "    return np.sum(np.square(target - current))\n",
    "\n",
    "def callback_function_2q(param_vals):\n",
    "    # lossesは関数の外で定義する\n",
    "    losses.append(objective_function_2q(param_vals))"
   ]
  },
  {
   "cell_type": "code",
   "execution_count": 25,
   "id": "3ffe0e6d",
   "metadata": {
    "jupyter": {
     "outputs_hidden": false
    },
    "pycharm": {
     "name": "#%%\n"
    }
   },
   "outputs": [],
   "source": [
    "# COBYLAの最大ステップ数\n",
    "maxiter = 500\n",
    "# COBYLAの収束条件（小さいほどよい近似を目指す）\n",
    "tol = 0.0001\n",
    "# バックエンドでのショット数\n",
    "shots = 1000\n",
    "\n",
    "# オプティマイザーのインスタンス生成\n",
    "optimizer = COBYLA(maxiter=maxiter, tol=tol, callback=callback_function_2q)\n",
    "\n",
    "# ターゲット状態\n",
    "target_state_2q = random_statevector(2)\n",
    "\n",
    "# パラメータの初期値\n",
    "init = rng.uniform(0., 2. * np.pi, size=4)"
   ]
  },
  {
   "cell_type": "code",
   "execution_count": 26,
   "id": "07df65d0",
   "metadata": {
    "tags": [
     "remove-input"
    ]
   },
   "outputs": [],
   "source": [
    "# テキスト作成用のセル\n",
    "\n",
    "if os.getenv('JUPYTERBOOK_BUILD') == '1':\n",
    "    del optimizer"
   ]
  },
  {
   "cell_type": "code",
   "execution_count": 27,
   "id": "5417ddad",
   "metadata": {
    "jupyter": {
     "outputs_hidden": false
    },
    "pycharm": {
     "name": "#%%\n"
    },
    "tags": [
     "raises-exception",
     "remove-output"
    ]
   },
   "outputs": [
    {
     "ename": "NameError",
     "evalue": "name 'optimizer' is not defined",
     "output_type": "error",
     "traceback": [
      "\u001b[0;31m---------------------------------------------------------------------------\u001b[0m",
      "\u001b[0;31mNameError\u001b[0m                                 Traceback (most recent call last)",
      "Cell \u001b[0;32mIn[27], line 3\u001b[0m\n\u001b[1;32m      1\u001b[0m \u001b[38;5;66;03m# 最適化を実行\u001b[39;00m\n\u001b[1;32m      2\u001b[0m losses \u001b[38;5;241m=\u001b[39m \u001b[38;5;28mlist\u001b[39m()\n\u001b[0;32m----> 3\u001b[0m min_result \u001b[38;5;241m=\u001b[39m \u001b[43moptimizer\u001b[49m\u001b[38;5;241m.\u001b[39mminimize(objective_function_2q, x0\u001b[38;5;241m=\u001b[39minit)\n",
      "\u001b[0;31mNameError\u001b[0m: name 'optimizer' is not defined"
     ]
    }
   ],
   "source": [
    "# 最適化を実行\n",
    "losses = list()\n",
    "min_result = optimizer.minimize(objective_function_2q, x0=init)"
   ]
  },
  {
   "cell_type": "code",
   "execution_count": 28,
   "id": "4b50adc9",
   "metadata": {
    "tags": [
     "remove-input"
    ]
   },
   "outputs": [],
   "source": [
    "# テキスト作成用のセル\n",
    "\n",
    "if os.getenv('JUPYTERBOOK_BUILD') == '1':\n",
    "    with open('data/vqe_result_2q.pkl', 'rb') as source:\n",
    "        min_result = pickle.load(source)"
   ]
  },
  {
   "cell_type": "code",
   "execution_count": 29,
   "id": "08b7e3e9",
   "metadata": {
    "jupyter": {
     "outputs_hidden": false
    },
    "pycharm": {
     "name": "#%%\n"
    }
   },
   "outputs": [
    {
     "data": {
      "text/plain": [
       "0.954859915058912"
      ]
     },
     "execution_count": 29,
     "metadata": {},
     "output_type": "execute_result"
    }
   ],
   "source": [
    "fidelity(ansatz_2q, min_result.x, target_state_2q)"
   ]
  },
  {
   "cell_type": "markdown",
   "id": "6aed100f",
   "metadata": {},
   "source": [
    "やってみると分かりますが、結果は1量子ビットの場合と比べて良くないですね。どうすれば良くなるでしょうか？（やり方は複数あると思います）"
   ]
  },
  {
   "cell_type": "markdown",
   "id": "0f42aac7",
   "metadata": {},
   "source": [
    "**一つの解決策：変分フォームにエンタングルメントを導入する**\n",
    "\n",
    "```python\n",
    "ansatz_2q = QuantumCircuit(2)\n",
    "ansatz_2q.u(params[0], params[1], 0., 0)\n",
    "ansatz_2q.u(params[2], params[3], 0., 1)\n",
    "ansatz_2q.cx(0, 1)\n",
    "```\n",
    "\n",
    "どうなるか確かめてください。"
   ]
  },
  {
   "cell_type": "markdown",
   "id": "f3d4bb92",
   "metadata": {},
   "source": [
    "2量子ビットの一般の状態では2つのビットがエンタングルしているので、変分フォームに2量子ビットゲートを入れると近似精度が良くなるのはある意味当然です。例えば、ベル状態（[CHSH不等式の破れを確認する](https://utokyo-icepp.github.io/qc-workbook/chsh_inequality.html#id14)を参照）を再現したいときにこの状況をクリアに見ることができます。上で\n",
    "\n",
    "```python\n",
    "target_state_2q = random_statevector(2)\n",
    "```\n",
    "\n",
    "を\n",
    "\n",
    "```python\n",
    "target_state_2q = Statevector(np.array([1., 0., 0., 1.], dtype=complex) / np.sqrt(2.))\n",
    "```\n",
    "\n",
    "として実行するとどうなるでしょうか。エンタングルさせる場合とさせない場合で大きな違いが見えるでしょう。\n",
    "\n",
    "問題を3量子ビットに拡張し、GHZ状態（[単純な量子回路をゼロから書く](https://utokyo-icepp.github.io/qc-workbook/circuit_from_scratch.html#ghz)を参照）\n",
    "\n",
    "```python\n",
    "target_state_3q = Statevector(np.array([1.] + [0.] * 6 + [1.], dtype=complex) / np.sqrt(2.))\n",
    "```\n",
    "\n",
    "をターゲットにするなどして、遊んでみてください。"
   ]
  },
  {
   "cell_type": "markdown",
   "id": "c7911b38",
   "metadata": {
    "pycharm": {
     "name": "#%% md\n"
    }
   },
   "source": [
    "(vqe)=\n",
    "## 変分量子固有値ソルバー法\n",
    "\n",
    "それでは、ここからVQEの簡単な実装例を見ていくことにします。\n",
    "\n",
    "(param_shift)=\n",
    "### パラメータシフト法\n",
    "VQEを実装する前に、目的関数の勾配を使った最適化の方法（**パラメータシフト法**と呼ばれる）について説明します。あるタイプの変分量子回路では、目的関数の勾配を厳密に計算できることが知られています。その勾配の値を使って、古典計算でパラメータを最適化することができます。\n",
    "\n",
    "パラメータシフト法を使って勾配を導出するために、まず一般的なパラメータ付きユニタリー演算$U({\\boldsymbol \\theta})=\\prod_{j=1}^LU_j(\\theta_j)$を考えます。$U_j(\\theta_j)$はパラメータ$\\theta_j$を持つユニタリーで、例えば$\\theta_j$を回転角とする回転ゲート$U_j(\\theta_j)=\\exp(-i\\theta_jP_j/2)$を考えてみます（$P_j\\in\\{X,Y,Z\\}$はパウリ演算子です）。初期状態$\\rho$を$U({\\boldsymbol \\theta})$で時間発展させた状態に対して、物理量$M$を測定したときの期待値$\\langle M({\\boldsymbol \\theta})\\rangle$は\n",
    "\n",
    "$$\n",
    "\\langle M({\\boldsymbol \\theta})\\rangle=\\text{Tr}\\left[MU({\\boldsymbol \\theta})\\rho U({\\boldsymbol \\theta})^\\dagger\\right] = \\text{Tr}\\left[MU_{L:1}\\rho U_{L:1}^\\dagger\\right]\n",
    "$$\n",
    "\n",
    "になります（ここで$U_{l:m}:=\\prod_{j=m}^lU_j(\\theta_j)$と略記することにします）。この期待値のパラメータ$\\theta_j$に対する勾配は\n",
    "\n",
    "$$\n",
    "\\frac{\\partial}{\\partial\\theta_j}\\langle M({\\boldsymbol \\theta})\\rangle=\\text{Tr}\\left[M\\frac{\\partial U_{L:1}}{\\partial\\theta_j}\\rho U_{L:1}^\\dagger\\right]+\\text{Tr}\\left[MU_{L:1}\\rho\\frac{\\partial U_{L:1}^\\dagger}{\\partial\\theta_j}\\right]\n",
    "$$\n",
    "\n",
    "です。$P_j^\\dagger=P_j$なので\n",
    "\n",
    "$$\n",
    "\\begin{aligned}\n",
    "\\frac{\\partial U_{L:1}}{\\partial\\theta_j} &= U_L\\ldots U_{j+1}\\frac{\\partial U_j}{\\partial\\theta_j}U_{j-1}\\ldots U_1=-\\frac{i}{2}U_{L:j}P_jU_{j-1:1} \\\\\n",
    "\\frac{\\partial U_{L:1}^\\dagger}{\\partial\\theta_j} &=\\frac{i}{2}U_{j-1:1}^\\dagger P_jU_{L:j}^\\dagger\n",
    "\\end{aligned}\n",
    "$$\n",
    "\n",
    "という関係が成り立ちますが、この関係から\n",
    "\n",
    "$$\n",
    "\\frac{\\partial}{\\partial\\theta_j}\\langle M({\\boldsymbol \\theta})\\rangle=-\\frac{i}{2}\\text{Tr}\\left[MU_{L:j}\\left[P_j,U_{j-1:1}\\rho U_{j-1:1}^\\dagger\\right]U_{L:j}^\\dagger\\right]\n",
    "$$\n",
    "\n",
    "が得られます。ここで$U_j(\\theta_j)$の定義に戻ると、$U_j(\\theta_j)=\\exp(-i\\theta_jP_j/2)=\\cos(\\theta_j/2)I-i\\sin(\\theta_j/2)P_j$（$I$は恒等演算子）なので、$U(\\pm\\pi/2)=(1/\\sqrt{2})(I\\mp iP_j)$になります。従って、\n",
    "\n",
    "$$\n",
    "U_j\\left(\\frac{\\pi}{2}\\right)\\rho U_j^\\dagger\\left(\\frac{\\pi}{2}\\right)-U_j\\left(-\\frac{\\pi}{2}\\right)\\rho U_j^\\dagger\\left(-\\frac{\\pi}{2}\\right) = \\frac12\\left(I-iP_j\\right)\\rho\\left(I+iP_j^\\dagger\\right)-\\frac12\\left(I+iP_j\\right)\\rho\\left(I-iP_j^\\dagger\\right) = -i[P_j,\\rho]\n",
    "$$\n",
    "\n",
    "と書くことができます。この結果を上の$\\partial\\langle M({\\boldsymbol \\theta})\\rangle/\\partial\\theta_j$の式に適用すると、\n",
    "\n",
    "$$\n",
    "\\begin{aligned}\n",
    "\\frac{\\partial}{\\partial\\theta_j}\\langle M({\\boldsymbol \\theta})\\rangle &=-\\frac{i}{2}\\text{Tr}\\left[MU_{L:j}[P_j,U_{j-1:1}\\rho U_{j-1:1}^\\dagger]U_{L:j}^\\dagger\\right] \\\\\n",
    "&= \\frac12\\text{Tr}\\left[MU_{L:j+1}U_j\\left(\\theta_j+\\frac{\\pi}{2}\\right)U_{j-1:1}\\rho U_{j-1:1}^\\dagger U_j^\\dagger\\left(\\theta_j+\\frac{\\pi}{2}\\right) U_{L:j+1}^\\dagger-MU_{L:j+1}U_j\\left(\\theta_j-\\frac{\\pi}{2}\\right)U_{j-1:1}\\rho U_{j-1:1}^\\dagger U_j^\\dagger\\left(\\theta_j-\\frac{\\pi}{2}\\right) U_{L:j+1}^\\dagger)\\right] \\\\\n",
    "&= \\frac12\\left[\\left\\langle M\\left({\\boldsymbol \\theta}+\\frac{\\pi}{2}{\\boldsymbol e}_j\\right)\\right\\rangle - \\left\\langle M\\left({\\boldsymbol \\theta}-\\frac{\\pi}{2}{\\boldsymbol e}_j\\right)\\right\\rangle\\right]\n",
    "\\end{aligned}\n",
    "$$\n",
    "\n",
    "が得られます。ここで${\\boldsymbol e}_j$は$j$番目の要素だけが1でそれ以外は0のベクトルです。\n",
    "\n",
    "この式から、期待値$\\langle M({\\boldsymbol \\theta})\\rangle$のパラメータ$\\theta_j$に対する勾配は、$\\theta_j$を$\\pm\\pi/2$だけ増減させて求めた期待値の差として求めることができることが分かりました。これがパラメータシフト法と呼ばれるものです。"
   ]
  },
  {
   "cell_type": "markdown",
   "id": "c8491531",
   "metadata": {
    "pycharm": {
     "name": "#%% md\n"
    }
   },
   "source": [
    "(vqe_imp)=\n",
    "### VQEの実装\n",
    "では、パラメータシフト法を使って簡単なVQEの例を実装してみます。ある観測量の期待値が最小になるように、VQEを使ってAnsatzを更新する回路パラメータを決定するという問題を考えてみます。\n",
    "\n",
    "量子回路として、$R_YR_Z$ゲートを繰り返すシンプルなパラメータ回路を使い、観測量として、パウリ演算子のテンソル積$ZXY$を使います。\n",
    "\n",
    "パラメータシフト法の実装は、QiskitではParamShiftEstimatorGradientというAPIを使うことで一行で済んでしまいます（実際の勾配計算に興味がある人は、期待値から勾配を直接求めるコードを書いて、パラメータ毎に$\\pm\\pi/2$シフトさせた回路を走らせることで、このAPIと同じ勾配が得られることを確認してみて下さい）。パラメータの最適化は、勾配を使って勾配降下を行うConjugate Descent (CG)とGradient Descentの2つのオプティマイザーを使って行いますが、比較のためにCOBYLAも使うことにします。\n",
    "\n",
    "最終的に、3通りのVQEを使って求めた最小エネルギーの近似解を、厳密対角化して求めた最小エネルギーの値と比較することにします。"
   ]
  },
  {
   "cell_type": "code",
   "execution_count": 30,
   "id": "f551f067",
   "metadata": {},
   "outputs": [],
   "source": [
    "from qiskit.algorithms.minimum_eigensolvers import VQE, NumPyMinimumEigensolver\n",
    "from qiskit.algorithms.optimizers import CG, GradientDescent\n",
    "from qiskit.algorithms.gradients import ParamShiftEstimatorGradient"
   ]
  },
  {
   "cell_type": "code",
   "execution_count": 31,
   "id": "9ea8d2a2",
   "metadata": {},
   "outputs": [
    {
     "data": {
      "image/png": "[encoded data removed]",
      "text/plain": [
       "<Figure size 454.719x284.278 with 1 Axes>"
      ]
     },
     "execution_count": 31,
     "metadata": {},
     "output_type": "execute_result"
    }
   ],
   "source": [
    "# Ansatzの定義\n",
    "\n",
    "num_qubits = 3   # 量子ビット数\n",
    "num_layers = 2  # レイヤー数\n",
    "\n",
    "ansatz = QuantumCircuit(num_qubits)\n",
    "\n",
    "# 長さ0のパラメータ配列\n",
    "theta = ParameterVector('θ')\n",
    "\n",
    "# 配列に要素を一つ足して、新しく足されたパラメータを返す\n",
    "def new_theta():\n",
    "    theta.resize(len(theta) + 1)\n",
    "    return theta[-1]\n",
    "\n",
    "for _ in range(num_layers):\n",
    "    for iq in range(num_qubits):\n",
    "        ansatz.ry(new_theta(), iq)\n",
    "\n",
    "    for iq in range(num_qubits):\n",
    "        ansatz.rz(new_theta(), iq)\n",
    "\n",
    "    #for iq in range(num_qubits - 1):\n",
    "    #    ansatz.cx(iq, iq + 1)\n",
    "\n",
    "ansatz.draw('mpl')"
   ]
  },
  {
   "cell_type": "code",
   "execution_count": 32,
   "id": "5456e33f",
   "metadata": {},
   "outputs": [],
   "source": [
    "# 最小固有値を求める観測量\n",
    "obs = SparsePauliOp('ZXY')\n",
    "\n",
    "# パラメータの初期値\n",
    "init = rng.uniform(0., 2. * np.pi, size=len(theta))\n",
    "\n",
    "# Estimatorを使って観測量の勾配を計算するオブジェクト\n",
    "grad = ParamShiftEstimatorGradient(estimator)\n",
    "\n",
    "# Conjugate gradientを使ったVQE\n",
    "optimizer_cg = CG(maxiter=200)\n",
    "vqe_cg = VQE(estimator, ansatz, optimizer_cg, gradient=grad, initial_point=init)\n",
    "\n",
    "# Gradient descentを使ったVQE\n",
    "optimizer_gd = GradientDescent(maxiter=200)\n",
    "vqe_gd = VQE(estimator, ansatz, optimizer_gd, gradient=grad, initial_point=init)\n",
    "\n",
    "# COBYLAを使ったVQE\n",
    "optimizer_cobyla = COBYLA(maxiter=300)\n",
    "vqe_cobyla = VQE(estimator, ansatz, optimizer_cobyla, initial_point=init)\n",
    "\n",
    "# 厳密解を計算するソルバー\n",
    "ee = NumPyMinimumEigensolver()"
   ]
  },
  {
   "cell_type": "code",
   "execution_count": 33,
   "id": "1dfe1b3b",
   "metadata": {
    "tags": [
     "remove-input"
    ]
   },
   "outputs": [],
   "source": [
    "# テキスト作成用のセル\n",
    "\n",
    "if os.getenv('JUPYTERBOOK_BUILD') == '1':\n",
    "    del obs"
   ]
  },
  {
   "cell_type": "code",
   "execution_count": 34,
   "id": "531b56f0",
   "metadata": {
    "tags": [
     "raises-exception",
     "remove-output"
    ]
   },
   "outputs": [
    {
     "ename": "NameError",
     "evalue": "name 'obs' is not defined",
     "output_type": "error",
     "traceback": [
      "\u001b[0;31m---------------------------------------------------------------------------\u001b[0m",
      "\u001b[0;31mNameError\u001b[0m                                 Traceback (most recent call last)",
      "Cell \u001b[0;32mIn[34], line 1\u001b[0m\n\u001b[0;32m----> 1\u001b[0m result_vqe_cg \u001b[38;5;241m=\u001b[39m vqe_cg\u001b[38;5;241m.\u001b[39mcompute_minimum_eigenvalue(\u001b[43mobs\u001b[49m)\n\u001b[1;32m      2\u001b[0m result_vqe_gd \u001b[38;5;241m=\u001b[39m vqe_gd\u001b[38;5;241m.\u001b[39mcompute_minimum_eigenvalue(obs)\n\u001b[1;32m      3\u001b[0m result_vqe_cobyla \u001b[38;5;241m=\u001b[39m vqe_cobyla\u001b[38;5;241m.\u001b[39mcompute_minimum_eigenvalue(obs)\n",
      "\u001b[0;31mNameError\u001b[0m: name 'obs' is not defined"
     ]
    }
   ],
   "source": [
    "result_vqe_cg = vqe_cg.compute_minimum_eigenvalue(obs)\n",
    "result_vqe_gd = vqe_gd.compute_minimum_eigenvalue(obs)\n",
    "result_vqe_cobyla = vqe_cobyla.compute_minimum_eigenvalue(obs)\n",
    "result_ee = ee.compute_minimum_eigenvalue(obs)"
   ]
  },
  {
   "cell_type": "code",
   "execution_count": 35,
   "id": "e53c1095",
   "metadata": {
    "tags": [
     "remove-input"
    ]
   },
   "outputs": [],
   "source": [
    "# テキスト作成用のセルなので無視してよい\n",
    "\n",
    "with open('data/vqe_results.pkl', 'rb') as source:\n",
    "    result_ee, result_vqe_cobyla, result_vqe_cg, result_vqe_gd = pickle.load(source)"
   ]
  },
  {
   "cell_type": "code",
   "execution_count": 36,
   "id": "753b4d9b",
   "metadata": {
    "jupyter": {
     "outputs_hidden": false
    },
    "pycharm": {
     "name": "#%%\n"
    }
   },
   "outputs": [
    {
     "name": "stdout",
     "output_type": "stream",
     "text": [
      "Result:\n",
      "  Exact      = -1.0\n",
      "  VQE(COBYLA) = -0.97265625\n",
      "  VQE(CG)    = -1.0\n",
      "  VQE(GD)    = -0.98046875\n"
     ]
    }
   ],
   "source": [
    "print('Result:')\n",
    "print(f'  Exact      = {result_ee.eigenvalue}')\n",
    "print(f'  VQE(COBYLA) = {result_vqe_cobyla.optimal_value}')\n",
    "print(f'  VQE(CG)    = {result_vqe_cg.optimal_value}')\n",
    "print(f'  VQE(GD)    = {result_vqe_gd.optimal_value}')"
   ]
  },
  {
   "cell_type": "markdown",
   "id": "0192aa93",
   "metadata": {
    "pycharm": {
     "name": "#%% md\n"
    }
   },
   "source": [
    "COBYLAを使ってVQEで求めた答えは、厳密解(=-1.0)に近くなっていると思います。勾配計算を使ったVQEも多くの場合正しい答えに近い答えを返しますが、パラメータの初期値によってかなり悪い結果を返してしまう場合があります。\n",
    "\n",
    "Ansatzの回路構成を変えたり、観測量を変えてみるなどして色々試してみてください。"
   ]
  }
 ],
 "metadata": {
  "jupytext": {
   "notebook_metadata_filter": "all",
   "text_representation": {
    "extension": ".md",
    "format_name": "myst",
    "format_version": 0.13,
    "jupytext_version": "1.14.5"
   }
  },
  "kernelspec": {
   "display_name": "Python 3 (ipykernel)",
   "language": "python",
   "name": "python3"
  },
  "language_info": {
   "codemirror_mode": {
    "name": "ipython",
    "version": 3
   },
   "file_extension": ".py",
   "mimetype": "text/x-python",
   "name": "python",
   "nbconvert_exporter": "python",
   "pygments_lexer": "ipython3",
   "version": "3.10.6"
  },
  "source_map": [
   23,
   27,
   42,
   55,
   96,
   103,
   112,
   125,
   136,
   155,
   172,
   176,
   201,
   205,
   213,
   217,
   222,
   225,
   229,
   246,
   250,
   268,
   272,
   288,
   292,
   304,
   308,
   320,
   330,
   344,
   353,
   357,
   361,
   365,
   369,
   371,
   377,
   391,
   395,
   409,
   413,
   425,
   434,
   448,
   458,
   460,
   474,
   485,
   504,
   530,
   539,
   554,
   564,
   574,
   578,
   591,
   615,
   673,
   685,
   691,
   720,
   746,
   755,
   764,
   773,
   789
  ]
 },
 "nbformat": 4,
 "nbformat_minor": 5
}