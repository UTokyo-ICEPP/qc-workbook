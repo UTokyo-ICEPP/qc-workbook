{
 "cells": [
  {
   "cell_type": "markdown",
   "id": "2cbb448f",
   "metadata": {
    "pycharm": {
     "name": "#%% md\n"
    }
   },
   "source": [
    "# データベース検索を行う"
   ]
  },
  {
   "cell_type": "markdown",
   "id": "cef26929",
   "metadata": {},
   "source": [
    "ここでは、**グローバーのアルゴリズム**{cite}`grover_search,nielsen_chuang_search`の紹介と、そのアルゴリズムを使用して構造化されていないデータベースを検索する問題を考えます。アルゴリズムを説明した後に、Qiskitを使用してグローバーのアルゴリズムを実装します。\n",
    "\n",
    "```{contents} 目次\n",
    "---\n",
    "local: true\n",
    "---\n",
    "```\n",
    "\n",
    "$\\newcommand{\\ket}[1]{| #1 \\rangle}$\n",
    "$\\newcommand{\\bra}[1]{\\langle #1 |}$\n",
    "$\\newcommand{\\braket}[2]{\\langle #1 | #2 \\rangle}$"
   ]
  },
  {
   "cell_type": "markdown",
   "id": "6c0fb369",
   "metadata": {},
   "source": [
    "## はじめに\n",
    "\n",
    "量子コンピュータが古典コンピュータの計算能力を優位に上回る性能を発揮するためには、量子計算の特徴をうまく活用するアルゴリズムを考える必要があります。そのような量子アルゴリズムの一つとして知られているのが、グローバーのアルゴリズムです。このアルゴリズムは**構造化されていないデータベースの検索**に適しており、古典計算より少ない計算量で答えを得られることが証明されています。このアルゴリズムは**振幅増幅**と呼ばれる手法をベースにしており、量子アルゴリズムのサブルーチンとしても幅広く活用されています。"
   ]
  },
  {
   "cell_type": "markdown",
   "id": "0b53c166",
   "metadata": {},
   "source": [
    "(database)=\n",
    "## 非構造化データの検索\n",
    "\n",
    "$N$個の要素からなるリストがあり、その中の一つの要素$w$を見つけたいとします。求める要素$w$を見つけるためには、古典計算では最悪の場合$N$回、平均では$N/2$回リストを調べる必要があります。グローバーのアルゴリズムでは、おおよそ$\\sqrt{N}$回の検索で$w$を見つけることができることが知られています。つまり、**古典計算に対して二次の高速化が可能**というわけです。"
   ]
  },
  {
   "cell_type": "markdown",
   "id": "5c262d7f",
   "metadata": {},
   "source": [
    "(grover)=\n",
    "## グローバーのアルゴリズム\n",
    "\n",
    "ここでは$n$個の量子ビットを考え、その量子ビットが表現できる可能性のある全ての計算基底でリストが構成されているものとします。つまり$N=2^n$として、リストは$\\ket{00\\cdots00}$, $\\ket{00\\cdots01}$, $\\ket{00\\cdots10}$, $\\cdots$, $\\ket{11\\cdots11}$までの$N$個の要素（10進数表記だと$\\ket{0}$, $\\ket{1}$, $\\cdots$, $\\ket{N-1}$）を含んでいます。"
   ]
  },
  {
   "cell_type": "markdown",
   "id": "5e85d84d",
   "metadata": {},
   "source": [
    "(grover_phaseoracle)=\n",
    "### 位相オラクルの導入\n",
    "\n",
    "グローバーのアルゴリズムで重要になるのは、特定の状態の位相を変える位相オラクルです。まず、$U\\ket{x}=(-1)^{f(x)}\\ket{x}$で与えられる位相オラクルを考えます。つまりある状態$\\ket{x}$に作用すると、その状態の位相をある関数$f(x)$に応じて$-1^{f(x)}$だけシフトさせるような演算です。ここで$f(x)$として\n",
    "\n",
    "$$\n",
    "f(x) = \\bigg\\{\n",
    "\\begin{aligned}\n",
    "&1 \\quad \\text{if} \\; x = w \\\\\n",
    "&0 \\quad \\text{else} \\\\\n",
    "\\end{aligned}\n",
    "$$\n",
    "\n",
    "のような関数を考えると、求める解$w$の位相を反転するオラクル$U_w$\n",
    "\n",
    "$$\n",
    "U_w:\\begin{aligned}\n",
    "&\\ket{w} \\to -\\ket{w}\\\\\n",
    "&\\ket{x} \\to \\ket{x} \\quad \\forall \\; x \\neq w\n",
    "\\end{aligned}\n",
    "$$\n",
    "\n",
    "が得られます。この時、$U_w$は$U_w=I-2\\ket{w}\\bra{ w}$と表現できることが分かります。また、関数$f_0(x)$として\n",
    "\n",
    "$$\n",
    "f_0(x) = \\bigg\\{\n",
    "\\begin{aligned}\n",
    "&0 \\quad \\text{if} \\; x = 0 \\\\\n",
    "&1 \\quad \\text{else} \\\\\n",
    "\\end{aligned}\n",
    "$$\n",
    "\n",
    "を考えると、0以外の位相を反転するユニタリー$U_0$\n",
    "\n",
    "$$\n",
    "U_0:\\begin{aligned}\n",
    "&\\ket{0}^{\\otimes n} \\to \\ket{0}^{\\otimes n}\\\\\n",
    "&\\ket{x} \\to -\\ket{x} \\quad \\forall \\; x \\neq 0\n",
    "\\end{aligned}\n",
    "$$\n",
    "\n",
    "を得ることができます。この時、$U_0$は$U_0=2\\ket{0}\\bra{ 0}^{\\otimes n}-I$になります。"
   ]
  },
  {
   "cell_type": "markdown",
   "id": "1fe86fbd",
   "metadata": {},
   "source": [
    "(grover_circuit)=\n",
    "### 量子回路の構成\n",
    "\n",
    "グローバーアルゴリズムを実装する量子回路の構造は、下図のようになっています。$n$量子ビットの回路を$\\ket{0}$の初期状態から出発し、Hadamard演算を適用して重ね合わせ状態を作ります。その後、$G$と書かれている演算を繰り返し適用します。\n",
    "\n",
    "```{image} figs/grover.png\n",
    ":alt: grover\n",
    ":width: 600px\n",
    ":align: center\n",
    "```\n",
    "\n",
    "$G$は「**グローバーの反復**」とも呼ばれるユニタリー演算で、以下のような4つのステップから構成されています。\n",
    "\n",
    "```{image} figs/grover_iter.png\n",
    ":alt: grover_iter\n",
    ":width: 550px\n",
    ":align: center\n",
    "```\n",
    "\n",
    "$U_w$と$U_0$は、それぞれ上で説明した解$w$の位相を反転するオラクルと0以外の位相を反転するオラクルです。\n",
    "\n",
    "回路の最初にあるHadamard演算と合わせて、グローバーの反復を1回実行するまでのステップ\n",
    "\n",
    "```{image} figs/grover_iter1.png\n",
    ":alt: grover_iter1\n",
    ":width: 600px\n",
    ":align: center\n",
    "```\n",
    "\n",
    "を細かく見ていきます。"
   ]
  },
  {
   "cell_type": "markdown",
   "id": "6e7f8891",
   "metadata": {},
   "source": [
    "(grover_superposition)=\n",
    "### 重ね合わせ状態の生成\n",
    "まず、$n$量子ビット回路の初期状態$\\ket{0}^{\\otimes n}$にHadamard演算を適用し、一様に重ね合わされた状態を生成します。\n",
    "\n",
    "$$\n",
    "\\ket{s} = H^{\\otimes n}\\ket{0}^{\\otimes n} = \\frac{1}{\\sqrt{N}}\\sum_{x=0}^{N-1}\\ket{x}\n",
    "$$\n",
    "\n",
    "この状態を$\\ket{s}$とします。"
   ]
  },
  {
   "cell_type": "markdown",
   "id": "17f2480b",
   "metadata": {},
   "source": [
    "(grover_geometry)=\n",
    "### 幾何学的な表現\n",
    "この$\\ket{s}$の状態を幾何学的に表現してみましょう。まず、重ね合わせ状態$\\ket{s}$と求める状態$\\ket{w}$が張る2次元平面を考えます。$\\ket{w}$に直交する状態$\\ket{w^{\\perp}}$は$\\ket{w^{\\perp}}:=\\frac{1}{\\sqrt{N-1}}\\sum_{x \\neq w}\\ket{x}$と表現できるため、この平面上では$\\ket{w}$に直交する軸に相当します。簡易的に、この平面では$\\ket{w^{\\perp}}=\\begin{bmatrix}1\\\\0\\end{bmatrix}$と$\\ket{w}=\\begin{bmatrix}0\\\\1\\end{bmatrix}$と書くことにします。\n",
    "\n",
    "まとめると、この2次元平面では$\\ket{s}$は($\\ket{w^{\\perp}}$, $\\ket{w}$)という二つのベクトルの線形和として書くことができます。\n",
    "\n",
    "$$\n",
    "\\begin{aligned}\n",
    "\\ket{s}&=\\sqrt{\\frac{N-1}{N}}\\ket{w^{\\perp}}+\\frac1{\\sqrt{N}}\\ket{w}\\\\\n",
    "&=: \\cos\\frac\\theta2\\ket{w^{\\perp}}+\\sin\\frac\\theta2\\ket{w}\\\\\n",
    "&= \\begin{bmatrix}\\cos\\frac\\theta2\\\\\\sin\\frac\\theta2\\end{bmatrix}\n",
    "\\end{aligned}\n",
    "$$\n",
    "\n",
    "答えが一つであるため、$\\ket{w}$の振幅は$\\frac1{\\sqrt{N}}$、$\\ket{w^{\\perp}}$の振幅は$\\sqrt{\\frac{N-1}{N}}$になります。$\\sin\\frac\\theta2=\\frac1{\\sqrt{N}}$なる$\\theta$を定義すると、\n",
    "\n",
    "$$\n",
    "\\theta=2\\arcsin\\frac{1}{\\sqrt{N}}\n",
    "$$\n",
    "\n",
    "になります。($\\ket{w^{\\perp}}$, $\\ket{w}$)平面での$\\ket{s}$を図示すると、以下のようになります。\n",
    "\n",
    "```{image} figs/grover_rot1.png\n",
    ":alt: grover_rot1\n",
    ":width: 300px\n",
    ":align: center\n",
    "```"
   ]
  },
  {
   "cell_type": "markdown",
   "id": "a3e54d6a",
   "metadata": {},
   "source": [
    "(grover_oracle)=\n",
    "### オラクルの適用\n",
    "次に、$\\ket{s}$にオラクル$U_w$を適用します。このオラクルは、この平面上では$U_w=I-2\\ket{w}\\bra{ w}=\\begin{bmatrix}1&0\\\\0&-1\\end{bmatrix}$と表現することが可能です。つまり、$U_w$は$\\ket{w^{\\perp}}$軸に関して$\\ket{s}$を折り返す操作（下図）に対応しており、この操作で$\\ket{w}$の位相が反転します。\n",
    "\n",
    "```{image} figs/grover_rot2.png\n",
    ":alt: grover_rot2\n",
    ":width: 300px\n",
    ":align: center\n",
    "```"
   ]
  },
  {
   "cell_type": "markdown",
   "id": "f4453673",
   "metadata": {},
   "source": [
    "(grover_diffuser)=\n",
    "### Diffuserの適用\n",
    "次は$H^{\\otimes n}U_0H^{\\otimes n}$の適用で、この演算はDiffuserと呼ばれます。$U_0=2\\ket{0}\\bra{0}^{\\otimes n}-I$なので、$U_s \\equiv H^{\\otimes n}U_0H^{\\otimes n}$と定義すると\n",
    "\n",
    "$$\n",
    "\\begin{aligned}\n",
    "U_s &\\equiv H^{\\otimes n}U_0H^{\\otimes n}\\\\\n",
    "&=2H^{\\otimes n}\\ket{0}^{\\otimes n}\\bra{0}^{\\otimes n}H^{\\otimes n}-H^{\\otimes n}H^{\\otimes n}\\\\\n",
    "&=2\\ket{s}\\bra{ s}-I\\\\\n",
    "&=\\begin{bmatrix}\\cos\\theta&\\sin\\theta\\\\\\sin\\theta&-\\cos\\theta\\end{bmatrix}\n",
    "\\end{aligned}\n",
    "$$\n",
    "\n",
    "になります。つまり、Diffuser$U_s$は$U_w\\ket{s}$を$\\ket{s}$に関して折り返す操作に対応します（下図）。\n",
    "\n",
    "```{image} figs/grover_rot3.png\n",
    ":alt: grover_rot3\n",
    ":width: 300px\n",
    ":align: center\n",
    "```\n",
    "\n",
    "まとめると、グローバーの反復$G=U_sU_w$は\n",
    "\n",
    "$$\n",
    "\\begin{aligned}\n",
    "G&=U_sU_w\\\\\n",
    "&= \\begin{bmatrix}\\cos\\theta&-\\sin\\theta\\\\\\sin\\theta&\\cos\\theta\\end{bmatrix}\n",
    "\\end{aligned}\n",
    "$$\n",
    "\n",
    "であるため、$\\ket{s}$を$\\ket{w}$に向けて角度$\\theta$だけ回転する操作を表していることが分かります（下図）。\n",
    "\n",
    "```{image} figs/grover_rot4.png\n",
    ":alt: grover_rot4\n",
    ":width: 300px\n",
    ":align: center\n",
    "```\n",
    "\n",
    "$G$を1回適用すれば$\\theta$だけ回転するということは、$G$を$r$回繰り返せば$r\\theta$回転することになります。その時の$\\ket{s}$の状態は\n",
    "\n",
    "$$\n",
    "G^r\\ket{s}=\\begin{bmatrix}\\cos\\frac{2r+1}{2}\\theta\\\\\\sin\\frac{2r+1}{2}\\theta\\end{bmatrix}\n",
    "$$\n",
    "\n",
    "で与えられます。つまり、求める答え$\\ket{w}$に到達するためには、$\\frac{2r+1}2\\theta\\approx\\frac{\\pi}2$となる$r$の回数だけ回転すれば良いことになります。\n",
    "1回の回転角$\\theta$が十分小さいとして、$\\sin\\frac\\theta2=\\frac{1}{\\sqrt{N}}\\approx\\frac\\theta2$とすると、$r\\approx\\frac\\pi4\\sqrt{N}$が得られます。つまり${\\cal O}(\\sqrt{N})$の操作で答え$\\ket{w}$に到達することが示せたわけであり、古典計算に対する2次の高速化が得られることが分かりました。\n",
    "\n",
    "Diffuserの役割をもう少し見てみましょう。ある状態$\\ket{\\psi}$が、$\\ket{\\psi}:=\\sum_k a_k\\ket{k}$という振幅$a_k$を持つ$\\ket{k}$の重ね合わせ状態として書かれるとしましょう。この状態にDiffuserを適用すると\n",
    "\n",
    "$$\n",
    "\\begin{aligned}\n",
    "\\left( 2\\ket{s}\\bra{ s} - I \\right)\\ket{\\psi}&=\\frac2N\\sum_i\\ket{i}\\cdot\\sum_{j,k}a_k\\braket{j}{k}-\\sum_k a_k\\ket{k}\\\\\n",
    "&= 2\\frac{\\sum_i a_i}{N}\\sum_k\\ket{k}-\\sum_k a_k\\ket{k}\\\\\n",
    "&= \\sum_k \\left( 2\\langle a \\rangle-a_k \\right)\\ket{k}\n",
    "\\end{aligned}\n",
    "$$\n",
    "\n",
    "となります。$\\langle a \\rangle\\equiv\\frac{\\sum_i a_i}{N}$は振幅の平均です。この式が意味するところは、ある状態$\\ket{k}$の振幅$a_k$が、平均に対する摂動の形$a_k=\\langle a \\rangle-\\Delta$で表現できると考えると理解しやすくなります。つまり、Diffuserを適用した後の振幅が$2\\langle a \\rangle-a_k=\\langle a \\rangle+\\Delta$になることから、Diffuserは平均$\\langle a \\rangle$に関して振幅を反転する操作を表していると考えることができるわけです。"
   ]
  },
  {
   "cell_type": "markdown",
   "id": "c9753d1f",
   "metadata": {},
   "source": [
    "(grover_amp)=\n",
    "### 振幅増幅を可視化する\n",
    "グローバーアルゴリズムで振幅がどのように増幅されるのか、実際目で見てみることにします。\n",
    "\n",
    "まず最初のHadamard変換で、全ての計算基底が等しい振幅を持つ重ね合わせ状態を生成します（下図の1）。横軸は$N$個の計算基底、縦軸は各基底の振幅の大きさを表しており、全ての基底が$\\frac{1}{\\sqrt{N}}$の大きさの振幅を持っています（振幅の平均を赤破線で表示）。\n",
    "\n",
    "次にオラクル$U_w$を適用すると、$\\ket{w}$の位相が反転し、振幅が$-\\frac{1}{\\sqrt{N}}$になります（下図の2）。この状態での振幅の平均は$\\frac{1}{\\sqrt{N}}(1-\\frac2N)$になり、(1)の状態より低くなります。\n",
    "\n",
    "最後にDiffuserを適用すると、平均に関して振幅を反転します（下図の3）。その結果、$\\ket{w}$の振幅が増幅され、$\\ket{w}$以外の基底の振幅は減少します。1回のグローバーの反復操作で、$\\ket{w}$の振幅が約3倍程度増幅することも図から見てとれます。この操作を繰り返し実行すれば$\\ket{w}$の振幅がさらに増幅されるため、正しい答えを得る確率が増加していくだろうということも予想できますね。\n",
    "\n",
    "```{image} figs/grover_amp.png\n",
    ":alt: grover_amp\n",
    ":width: 800px\n",
    ":align: center\n",
    "```"
   ]
  },
  {
   "cell_type": "markdown",
   "id": "d0dc4b16",
   "metadata": {},
   "source": [
    "(grover_multidata)=\n",
    "### 複数データの検索\n",
    "今までは検索するデータが一つだけの場合を考えてきましたが、このセクションの最後に複数のデータを検索する場合を考察してみましょう。例えば、$N=2^n$個のデータから$M$個のデータ$\\{w_i\\}\\;(i=0,1,\\cdots,M-1)$を探すケースです。これまでと同様に、求める状態$\\ket{w}$とそれに直行する状態$\\ket{w^{\\perp}}$\n",
    "\n",
    "$$\n",
    "\\begin{aligned}\n",
    "&\\ket{w}:=\\frac{1}{\\sqrt{M}}\\sum_{i=0}^{M-1}\\ket{w_i}\\\\\n",
    "&\\ket{w^{\\perp}}:=\\frac{1}{\\sqrt{N-M}}\\sum_{x\\notin\\{w_0,\\cdots,w_{M-1}\\}}\\ket{x}\n",
    "\\end{aligned}\n",
    "$$\n",
    "\n",
    "が張る2次元平面の上で、同様の議論を進めることができます。$\\ket{s}$はこの平面上で\n",
    "\n",
    "$$\n",
    "\\begin{aligned}\n",
    "\\ket{s}&=\\sqrt{\\frac{N-M}{N}}\\ket{w^{\\perp}}+\\sqrt{\\frac{M}{N}}\\ket{w}\\\\\n",
    "&=: \\cos\\frac\\theta2\\ket{w^{\\perp}}+\\sin\\frac\\theta2\\ket{w}\\\\\n",
    "\\end{aligned}\n",
    "$$\n",
    "\n",
    "と表現でき、$\\ket{w}$の振幅$\\sqrt{\\frac{M}{N}}$を$\\sin\\frac\\theta2$と定義すると、角度$\\theta$は$\\theta=2\\arcsin\\sqrt{\\frac{M}{N}}$になります。答えが一つのケースと比べて、角度は$\\sqrt{M}$倍大きく、1回のグローバーの反復操作でより大きく回転することになります。その結果、より少ない$r\\approx\\frac\\pi4\\sqrt{\\frac{N}{M}}$回の回転操作で答えに到達することが可能になることが分かります。"
   ]
  },
  {
   "cell_type": "markdown",
   "id": "0908054b",
   "metadata": {
    "pycharm": {
     "name": "#%% md\n"
    }
   },
   "source": [
    "(imp)=\n",
    "## アルゴリズムの実装（$N=2^6$の場合）\n",
    "ではここから、実際にグローバーアルゴリズムを実装してデータベースの検索問題に取り掛かってみましょう。\n",
    "\n",
    "ここで考える問題は、$N=2^6$個の要素を持つリスト（$=[0,1,2,\\cdots,63]$）から、一つの答え\"45\"を見つけるグローバーアルゴリズムの実装です（もちろんこの数はなんでも良いので、後で自由に変更して遊んでみてください）。つまり6量子ビットの量子回路を使って、$\\ket{45}=\\ket{101101}$を探す問題です。"
   ]
  },
  {
   "cell_type": "markdown",
   "id": "641865c3",
   "metadata": {},
   "source": [
    "(imp_qiskit)=\n",
    "### Qiskitでの実装\n",
    "\n",
    "まず必要な環境をセットアップします。"
   ]
  },
  {
   "cell_type": "code",
   "execution_count": 1,
   "id": "0a1f3f10",
   "metadata": {
    "jupyter": {
     "outputs_hidden": false
    },
    "pycharm": {
     "name": "#%%\n"
    }
   },
   "outputs": [],
   "source": [
    "# Tested with python 3.8.12, qiskit 0.34.2, numpy 1.22.2\n",
    "import matplotlib.pyplot as plt\n",
    "import numpy as np\n",
    "\n",
    "# Qiskit関連のパッケージをインポート\n",
    "from qiskit import IBMQ, Aer, QuantumCircuit, ClassicalRegister, QuantumRegister, transpile\n",
    "from qiskit.providers.ibmq import least_busy, IBMQAccountCredentialsNotFound\n",
    "from qiskit.quantum_info import Statevector\n",
    "from qiskit.visualization import plot_histogram\n",
    "from qiskit.tools.monitor import job_monitor\n",
    "\n",
    "# ワークブック独自のモジュール\n",
    "from qc_workbook.utils import operational_backend"
   ]
  },
  {
   "cell_type": "markdown",
   "id": "808232b3",
   "metadata": {},
   "source": [
    "6量子ビットの回路`grover_circuit`を準備します。\n",
    "\n",
    "グローバー反復を一回実行する量子回路は以下のような構成になりますが、赤枠で囲んだ部分（オラクルとDiffuserの中の$2\\ket{0}\\bra{0}-I$の部分）を実装する量子回路を書いてください。\n",
    "\n",
    "```{image} figs/grover_6bits_45.png\n",
    ":alt: grover_6bits_45\n",
    ":width: 600px\n",
    ":align: center\n",
    "```\n",
    "\n",
    "一様な重ね合わせ状態$\\ket{s}$を生成した後に、オラクルを実装します。"
   ]
  },
  {
   "cell_type": "code",
   "execution_count": 2,
   "id": "f9ccf4a4",
   "metadata": {
    "jupyter": {
     "outputs_hidden": false
    },
    "pycharm": {
     "name": "#%%\n"
    },
    "tags": [
     "remove-output"
    ]
   },
   "outputs": [
    {
     "name": "stdout",
     "output_type": "stream",
     "text": [
      "     \n",
      "q_0: \n",
      "     \n",
      "q_1: \n",
      "     \n",
      "q_2: \n",
      "     \n",
      "q_3: \n",
      "     \n",
      "q_4: \n",
      "     \n",
      "q_5: \n",
      "     \n"
     ]
    },
    {
     "data": {
      "text/plain": [
       "<qiskit.circuit.instructionset.InstructionSet at 0x7f325ae79840>"
      ]
     },
     "execution_count": 2,
     "metadata": {},
     "output_type": "execute_result"
    }
   ],
   "source": [
    "Nsol = 45\n",
    "n = 6\n",
    "\n",
    "grover_circuit = QuantumCircuit(n)\n",
    "\n",
    "grover_circuit.h(range(n))\n",
    "\n",
    "# オラクルを作成して、回路に実装\n",
    "oracle = QuantumCircuit(n)\n",
    "\n",
    "##################\n",
    "### EDIT BELOW ###\n",
    "##################\n",
    "\n",
    "#oracle.?\n",
    "\n",
    "##################\n",
    "### EDIT ABOVE ###\n",
    "##################\n",
    "\n",
    "oracle_gate = oracle.to_gate()\n",
    "oracle_gate.name = \"U_w\"\n",
    "print(oracle)\n",
    "\n",
    "grover_circuit.append(oracle_gate, list(range(n)))\n",
    "grover_circuit.barrier()"
   ]
  },
  {
   "cell_type": "markdown",
   "id": "ddb44e3c",
   "metadata": {},
   "source": [
    "**解答**\n",
    "\n",
    "````{toggle}\n",
    "\n",
    "```{code-block} python\n",
    "\n",
    "##################\n",
    "### EDIT BELOW ###\n",
    "##################\n",
    "\n",
    "oracle.x(1)\n",
    "oracle.x(4)\n",
    "oracle.h(n-1)\n",
    "oracle.mcx(list(range(n-1)), n-1)\n",
    "oracle.h(n-1)\n",
    "oracle.x(1)\n",
    "oracle.x(4)\n",
    "\n",
    "##################\n",
    "### EDIT ABOVE ###\n",
    "##################\n",
    "```\n",
    "\n",
    "````\n",
    "\n",
    "次に、Diffuser用の回路を実装します。"
   ]
  },
  {
   "cell_type": "code",
   "execution_count": 3,
   "id": "b3dfb72f",
   "metadata": {
    "jupyter": {
     "outputs_hidden": false
    },
    "pycharm": {
     "name": "#%%\n"
    }
   },
   "outputs": [
    {
     "data": {
      "image/png": "[encoded data removed]",
      "text/plain": [
       "<Figure size 779.079x445.48 with 1 Axes>"
      ]
     },
     "execution_count": 3,
     "metadata": {
      "filenames": {
       "image/png": "/qc-workbook/build/ja/_build/jupyter_execute/grover_19_0.png"
      }
     },
     "output_type": "execute_result"
    }
   ],
   "source": [
    "def diffuser(n):\n",
    "    qc = QuantumCircuit(n)\n",
    "\n",
    "    qc.h(range(n))\n",
    "\n",
    "    ##################\n",
    "    ### EDIT BELOW ###\n",
    "    ##################\n",
    "\n",
    "    #qc.?\n",
    "\n",
    "    ##################\n",
    "    ### EDIT ABOVE ###\n",
    "    ##################\n",
    "\n",
    "    qc.h(range(n))\n",
    "\n",
    "    #print(qc)\n",
    "    U_s = qc.to_gate()\n",
    "    U_s.name = \"U_s\"\n",
    "    return U_s\n",
    "\n",
    "grover_circuit.append(diffuser(n), list(range(n)))\n",
    "grover_circuit.measure_all()\n",
    "grover_circuit.decompose().draw('mpl')"
   ]
  },
  {
   "cell_type": "markdown",
   "id": "b9782f7d",
   "metadata": {},
   "source": [
    "**解答**\n",
    "\n",
    "````{toggle}\n",
    "\n",
    "```{code-block} python\n",
    "def diffuser(n):\n",
    "    qc = QuantumCircuit(n)\n",
    "\n",
    "    qc.h(range(n))\n",
    "\n",
    "    ##################\n",
    "    ### EDIT BELOW ###\n",
    "    ##################\n",
    "\n",
    "    qc.rz(2*np.pi, n-1)\n",
    "    qc.x(list(range(n)))\n",
    "\n",
    "    # multi-controlled Zゲート\n",
    "    qc.h(n-1)\n",
    "    qc.mcx(list(range(n-1)), n-1)\n",
    "    qc.h(n-1)\n",
    "\n",
    "    qc.x(list(range(n)))\n",
    "\n",
    "    ##################\n",
    "    ### EDIT ABOVE ###\n",
    "    ##################\n",
    "\n",
    "    qc.h(range(n))\n",
    "\n",
    "    #print(qc)\n",
    "    U_s = qc.to_gate()\n",
    "    U_s.name = \"U_s\"\n",
    "    return U_s\n",
    "```\n",
    "\n",
    "````\n",
    "\n",
    "\n",
    "(imp_simulator)=\n",
    "### シミュレータでの実験\n",
    "\n",
    "回路の実装ができたら、シミュレータで実行して結果をプロットしてみます。結果が分かりやすくなるように、測定したビット列を整数にしてからプロットするようにしてみます。"
   ]
  },
  {
   "cell_type": "code",
   "execution_count": 4,
   "id": "25a7c3a9",
   "metadata": {
    "jupyter": {
     "outputs_hidden": false
    },
    "pycharm": {
     "name": "#%%\n"
    },
    "tags": [
     "remove-output"
    ]
   },
   "outputs": [
    {
     "data": {
      "image/png": "[encoded data removed]",
      "text/plain": [
       "<Figure size 432x288 with 1 Axes>"
      ]
     },
     "metadata": {
      "filenames": {
       "image/png": "/qc-workbook/build/ja/_build/jupyter_execute/grover_21_0.png"
      },
      "needs_background": "light"
     },
     "output_type": "display_data"
    }
   ],
   "source": [
    "simulator = Aer.get_backend('qasm_simulator')\n",
    "grover_circuit = transpile(grover_circuit, backend=simulator)\n",
    "results = simulator.run(grover_circuit, shots=1024).result()\n",
    "answer = results.get_counts()\n",
    "\n",
    "# 横軸を整数でプロットする\n",
    "def show_distribution(answer):\n",
    "    n = len(answer)\n",
    "    x = [int(key,2) for key in list(answer.keys())]\n",
    "    y = list(answer.values())\n",
    "\n",
    "    fig, ax = plt.subplots()\n",
    "    rect = ax.bar(x,y)\n",
    "\n",
    "    def autolabel(rects):\n",
    "        for rect in rects:\n",
    "            height = rect.get_height()\n",
    "            ax.annotate('{:.3f}'.format(height/sum(y)),\n",
    "                        xy=(rect.get_x()+rect.get_width()/2, height),xytext=(0,0),\n",
    "                        textcoords=\"offset points\",ha='center', va='bottom')\n",
    "    autolabel(rect)\n",
    "    plt.ylabel('Probabilities')\n",
    "    plt.show()\n",
    "\n",
    "show_distribution(answer)"
   ]
  },
  {
   "cell_type": "markdown",
   "id": "83f33ddb",
   "metadata": {},
   "source": [
    "正しく回路が実装できていれば、$\\ket{101101}=\\ket{45}$の状態を高い確率で測定できる様子を見ることができるでしょう。\n",
    "\n",
    "しかし、上での議論からも分かるように、$N=2^6$の探索では、一回のグローバー反復では正しくない答えも無視できない確率で現れてきます。グローバーの反復を複数回繰り返すことで、正しい答えがより高い確率で得られることをこの後見ていきます。"
   ]
  },
  {
   "cell_type": "markdown",
   "id": "3397c0f2",
   "metadata": {},
   "source": [
    "(imp_qc)=\n",
    "### 量子コンピュータでの実験\n",
    "\n",
    "反復を繰り返す前に、まずは一回のグローバー反復を量子コンピュータで実行してみましょう。"
   ]
  },
  {
   "cell_type": "code",
   "execution_count": 5,
   "id": "aa7b6b68",
   "metadata": {
    "jupyter": {
     "outputs_hidden": false
    },
    "pycharm": {
     "name": "#%%\n"
    },
    "tags": [
     "raises-exception",
     "remove-output"
    ]
   },
   "outputs": [
    {
     "ename": "RequestsApiError",
     "evalue": "'401 Client Error: Unauthorized for url: https://auth.quantum-computing.ibm.com/api/users/loginWithToken. Login failed., Error code: 3446.'",
     "output_type": "error",
     "traceback": [
      "\u001b[0;31m---------------------------------------------------------------------------\u001b[0m",
      "\u001b[0;31mIBMQAccountCredentialsNotFound\u001b[0m            Traceback (most recent call last)",
      "Input \u001b[0;32mIn [5]\u001b[0m, in \u001b[0;36m<cell line: 2>\u001b[0;34m()\u001b[0m\n\u001b[1;32m      2\u001b[0m \u001b[38;5;28;01mtry\u001b[39;00m:\n\u001b[0;32m----> 3\u001b[0m     \u001b[43mIBMQ\u001b[49m\u001b[38;5;241;43m.\u001b[39;49m\u001b[43mload_account\u001b[49m\u001b[43m(\u001b[49m\u001b[43m)\u001b[49m\n\u001b[1;32m      4\u001b[0m \u001b[38;5;28;01mexcept\u001b[39;00m IBMQAccountCredentialsNotFound:\n",
      "File \u001b[0;32m/usr/local/lib/python3.8/dist-packages/qiskit/providers/ibmq/ibmqfactory.py:167\u001b[0m, in \u001b[0;36mIBMQFactory.load_account\u001b[0;34m(self)\u001b[0m\n\u001b[1;32m    166\u001b[0m \u001b[38;5;28;01mif\u001b[39;00m \u001b[38;5;129;01mnot\u001b[39;00m credentials_list:\n\u001b[0;32m--> 167\u001b[0m     \u001b[38;5;28;01mraise\u001b[39;00m IBMQAccountCredentialsNotFound(\n\u001b[1;32m    168\u001b[0m         \u001b[38;5;124m'\u001b[39m\u001b[38;5;124mNo IBM Quantum Experience credentials found.\u001b[39m\u001b[38;5;124m'\u001b[39m)\n\u001b[1;32m    170\u001b[0m \u001b[38;5;28;01mif\u001b[39;00m \u001b[38;5;28mlen\u001b[39m(credentials_list) \u001b[38;5;241m>\u001b[39m \u001b[38;5;241m1\u001b[39m:\n",
      "\u001b[0;31mIBMQAccountCredentialsNotFound\u001b[0m: 'No IBM Quantum Experience credentials found.'",
      "\nDuring handling of the above exception, another exception occurred:\n",
      "\u001b[0;31mHTTPError\u001b[0m                                 Traceback (most recent call last)",
      "File \u001b[0;32m/usr/local/lib/python3.8/dist-packages/qiskit/providers/ibmq/api/session.py:278\u001b[0m, in \u001b[0;36mRetrySession.request\u001b[0;34m(self, method, url, bare, **kwargs)\u001b[0m\n\u001b[1;32m    277\u001b[0m     response \u001b[38;5;241m=\u001b[39m \u001b[38;5;28msuper\u001b[39m()\u001b[38;5;241m.\u001b[39mrequest(method, final_url, headers\u001b[38;5;241m=\u001b[39mheaders, \u001b[38;5;241m*\u001b[39m\u001b[38;5;241m*\u001b[39mkwargs)\n\u001b[0;32m--> 278\u001b[0m     \u001b[43mresponse\u001b[49m\u001b[38;5;241;43m.\u001b[39;49m\u001b[43mraise_for_status\u001b[49m\u001b[43m(\u001b[49m\u001b[43m)\u001b[49m\n\u001b[1;32m    279\u001b[0m \u001b[38;5;28;01mexcept\u001b[39;00m RequestException \u001b[38;5;28;01mas\u001b[39;00m ex:\n\u001b[1;32m    280\u001b[0m     \u001b[38;5;66;03m# Wrap the requests exceptions into a IBM Q custom one, for\u001b[39;00m\n\u001b[1;32m    281\u001b[0m     \u001b[38;5;66;03m# compatibility.\u001b[39;00m\n",
      "File \u001b[0;32m/usr/local/lib/python3.8/dist-packages/requests/models.py:960\u001b[0m, in \u001b[0;36mResponse.raise_for_status\u001b[0;34m(self)\u001b[0m\n\u001b[1;32m    959\u001b[0m \u001b[38;5;28;01mif\u001b[39;00m http_error_msg:\n\u001b[0;32m--> 960\u001b[0m     \u001b[38;5;28;01mraise\u001b[39;00m HTTPError(http_error_msg, response\u001b[38;5;241m=\u001b[39m\u001b[38;5;28mself\u001b[39m)\n",
      "\u001b[0;31mHTTPError\u001b[0m: 401 Client Error: Unauthorized for url: https://auth.quantum-computing.ibm.com/api/users/loginWithToken",
      "\nThe above exception was the direct cause of the following exception:\n",
      "\u001b[0;31mRequestsApiError\u001b[0m                          Traceback (most recent call last)",
      "Input \u001b[0;32mIn [5]\u001b[0m, in \u001b[0;36m<cell line: 2>\u001b[0;34m()\u001b[0m\n\u001b[1;32m      3\u001b[0m     IBMQ\u001b[38;5;241m.\u001b[39mload_account()\n\u001b[1;32m      4\u001b[0m \u001b[38;5;28;01mexcept\u001b[39;00m IBMQAccountCredentialsNotFound:\n\u001b[0;32m----> 5\u001b[0m     \u001b[43mIBMQ\u001b[49m\u001b[38;5;241;43m.\u001b[39;49m\u001b[43menable_account\u001b[49m\u001b[43m(\u001b[49m\u001b[38;5;124;43m'\u001b[39;49m\u001b[38;5;124;43m__paste_your_token_here__\u001b[39;49m\u001b[38;5;124;43m'\u001b[39;49m\u001b[43m)\u001b[49m\n\u001b[1;32m      7\u001b[0m provider \u001b[38;5;241m=\u001b[39m IBMQ\u001b[38;5;241m.\u001b[39mget_provider(hub\u001b[38;5;241m=\u001b[39m\u001b[38;5;124m'\u001b[39m\u001b[38;5;124mibm-q\u001b[39m\u001b[38;5;124m'\u001b[39m, group\u001b[38;5;241m=\u001b[39m\u001b[38;5;124m'\u001b[39m\u001b[38;5;124mopen\u001b[39m\u001b[38;5;124m'\u001b[39m, project\u001b[38;5;241m=\u001b[39m\u001b[38;5;124m'\u001b[39m\u001b[38;5;124mmain\u001b[39m\u001b[38;5;124m'\u001b[39m)\n\u001b[1;32m      9\u001b[0m backend_list \u001b[38;5;241m=\u001b[39m provider\u001b[38;5;241m.\u001b[39mbackends(filters\u001b[38;5;241m=\u001b[39moperational_backend(min_qubits\u001b[38;5;241m=\u001b[39m\u001b[38;5;241m6\u001b[39m))\n",
      "File \u001b[0;32m/usr/local/lib/python3.8/dist-packages/qiskit/providers/ibmq/ibmqfactory.py:107\u001b[0m, in \u001b[0;36mIBMQFactory.enable_account\u001b[0;34m(self, token, url, hub, group, project, **kwargs)\u001b[0m\n\u001b[1;32m    102\u001b[0m     \u001b[38;5;28;01mraise\u001b[39;00m IBMQAccountCredentialsInvalidUrl(\n\u001b[1;32m    103\u001b[0m         \u001b[38;5;124m'\u001b[39m\u001b[38;5;124mThe URL specified (\u001b[39m\u001b[38;5;132;01m{}\u001b[39;00m\u001b[38;5;124m) is not an IBM Quantum Experience authentication \u001b[39m\u001b[38;5;124m'\u001b[39m\n\u001b[1;32m    104\u001b[0m         \u001b[38;5;124m'\u001b[39m\u001b[38;5;124mURL. Valid authentication URL: \u001b[39m\u001b[38;5;132;01m{}\u001b[39;00m\u001b[38;5;124m.\u001b[39m\u001b[38;5;124m'\u001b[39m\u001b[38;5;241m.\u001b[39mformat(credentials\u001b[38;5;241m.\u001b[39murl, QX_AUTH_URL))\n\u001b[1;32m    106\u001b[0m \u001b[38;5;66;03m# Initialize the providers.\u001b[39;00m\n\u001b[0;32m--> 107\u001b[0m \u001b[38;5;28;43mself\u001b[39;49m\u001b[38;5;241;43m.\u001b[39;49m\u001b[43m_initialize_providers\u001b[49m\u001b[43m(\u001b[49m\u001b[43mcredentials\u001b[49m\u001b[43m)\u001b[49m\n\u001b[1;32m    109\u001b[0m \u001b[38;5;66;03m# Prevent edge case where no hubs are available.\u001b[39;00m\n\u001b[1;32m    110\u001b[0m providers \u001b[38;5;241m=\u001b[39m \u001b[38;5;28mself\u001b[39m\u001b[38;5;241m.\u001b[39mproviders()\n",
      "File \u001b[0;32m/usr/local/lib/python3.8/dist-packages/qiskit/providers/ibmq/ibmqfactory.py:456\u001b[0m, in \u001b[0;36mIBMQFactory._initialize_providers\u001b[0;34m(self, credentials, preferences)\u001b[0m\n\u001b[1;32m    446\u001b[0m \u001b[38;5;28;01mdef\u001b[39;00m \u001b[38;5;21m_initialize_providers\u001b[39m(\n\u001b[1;32m    447\u001b[0m         \u001b[38;5;28mself\u001b[39m, credentials: Credentials,\n\u001b[1;32m    448\u001b[0m         preferences: Optional[Dict] \u001b[38;5;241m=\u001b[39m \u001b[38;5;28;01mNone\u001b[39;00m\n\u001b[1;32m    449\u001b[0m ) \u001b[38;5;241m-\u001b[39m\u001b[38;5;241m>\u001b[39m \u001b[38;5;28;01mNone\u001b[39;00m:\n\u001b[1;32m    450\u001b[0m     \u001b[38;5;124;03m\"\"\"Authenticate against IBM Quantum and populate the providers.\u001b[39;00m\n\u001b[1;32m    451\u001b[0m \n\u001b[1;32m    452\u001b[0m \u001b[38;5;124;03m    Args:\u001b[39;00m\n\u001b[1;32m    453\u001b[0m \u001b[38;5;124;03m        credentials: Credentials for IBM Quantum.\u001b[39;00m\n\u001b[1;32m    454\u001b[0m \u001b[38;5;124;03m        preferences: Account preferences.\u001b[39;00m\n\u001b[1;32m    455\u001b[0m \u001b[38;5;124;03m    \"\"\"\u001b[39;00m\n\u001b[0;32m--> 456\u001b[0m     auth_client \u001b[38;5;241m=\u001b[39m \u001b[43mAuthClient\u001b[49m\u001b[43m(\u001b[49m\u001b[43mcredentials\u001b[49m\u001b[38;5;241;43m.\u001b[39;49m\u001b[43mtoken\u001b[49m\u001b[43m,\u001b[49m\n\u001b[1;32m    457\u001b[0m \u001b[43m                             \u001b[49m\u001b[43mcredentials\u001b[49m\u001b[38;5;241;43m.\u001b[39;49m\u001b[43mbase_url\u001b[49m\u001b[43m,\u001b[49m\n\u001b[1;32m    458\u001b[0m \u001b[43m                             \u001b[49m\u001b[38;5;241;43m*\u001b[39;49m\u001b[38;5;241;43m*\u001b[39;49m\u001b[43mcredentials\u001b[49m\u001b[38;5;241;43m.\u001b[39;49m\u001b[43mconnection_parameters\u001b[49m\u001b[43m(\u001b[49m\u001b[43m)\u001b[49m\u001b[43m)\u001b[49m\n\u001b[1;32m    459\u001b[0m     service_urls \u001b[38;5;241m=\u001b[39m auth_client\u001b[38;5;241m.\u001b[39mcurrent_service_urls()\n\u001b[1;32m    460\u001b[0m     user_hubs \u001b[38;5;241m=\u001b[39m auth_client\u001b[38;5;241m.\u001b[39muser_hubs()\n",
      "File \u001b[0;32m/usr/local/lib/python3.8/dist-packages/qiskit/providers/ibmq/api/clients/auth.py:41\u001b[0m, in \u001b[0;36mAuthClient.__init__\u001b[0;34m(self, api_token, auth_url, **request_kwargs)\u001b[0m\n\u001b[1;32m     38\u001b[0m \u001b[38;5;28mself\u001b[39m\u001b[38;5;241m.\u001b[39m_service_urls \u001b[38;5;241m=\u001b[39m {}  \u001b[38;5;66;03m# type: ignore[var-annotated]\u001b[39;00m\n\u001b[1;32m     40\u001b[0m \u001b[38;5;28mself\u001b[39m\u001b[38;5;241m.\u001b[39mauth_api \u001b[38;5;241m=\u001b[39m Api(RetrySession(auth_url, \u001b[38;5;241m*\u001b[39m\u001b[38;5;241m*\u001b[39mrequest_kwargs))\n\u001b[0;32m---> 41\u001b[0m \u001b[38;5;28mself\u001b[39m\u001b[38;5;241m.\u001b[39mbase_api \u001b[38;5;241m=\u001b[39m \u001b[38;5;28;43mself\u001b[39;49m\u001b[38;5;241;43m.\u001b[39;49m\u001b[43m_init_service_clients\u001b[49m\u001b[43m(\u001b[49m\u001b[38;5;241;43m*\u001b[39;49m\u001b[38;5;241;43m*\u001b[39;49m\u001b[43mrequest_kwargs\u001b[49m\u001b[43m)\u001b[49m\n",
      "File \u001b[0;32m/usr/local/lib/python3.8/dist-packages/qiskit/providers/ibmq/api/clients/auth.py:53\u001b[0m, in \u001b[0;36mAuthClient._init_service_clients\u001b[0;34m(self, **request_kwargs)\u001b[0m\n\u001b[1;32m     44\u001b[0m \u001b[38;5;124;03m\"\"\"Initialize the clients used for communicating with the API.\u001b[39;00m\n\u001b[1;32m     45\u001b[0m \n\u001b[1;32m     46\u001b[0m \u001b[38;5;124;03mArgs:\u001b[39;00m\n\u001b[0;32m   (...)\u001b[0m\n\u001b[1;32m     50\u001b[0m \u001b[38;5;124;03m    Client for the API server.\u001b[39;00m\n\u001b[1;32m     51\u001b[0m \u001b[38;5;124;03m\"\"\"\u001b[39;00m\n\u001b[1;32m     52\u001b[0m \u001b[38;5;66;03m# Request an access token.\u001b[39;00m\n\u001b[0;32m---> 53\u001b[0m access_token \u001b[38;5;241m=\u001b[39m \u001b[38;5;28;43mself\u001b[39;49m\u001b[38;5;241;43m.\u001b[39;49m\u001b[43m_request_access_token\u001b[49m\u001b[43m(\u001b[49m\u001b[43m)\u001b[49m\n\u001b[1;32m     54\u001b[0m \u001b[38;5;66;03m# Use the token for the next auth server requests.\u001b[39;00m\n\u001b[1;32m     55\u001b[0m \u001b[38;5;28mself\u001b[39m\u001b[38;5;241m.\u001b[39mauth_api\u001b[38;5;241m.\u001b[39msession\u001b[38;5;241m.\u001b[39maccess_token \u001b[38;5;241m=\u001b[39m access_token\n",
      "File \u001b[0;32m/usr/local/lib/python3.8/dist-packages/qiskit/providers/ibmq/api/clients/auth.py:75\u001b[0m, in \u001b[0;36mAuthClient._request_access_token\u001b[0;34m(self)\u001b[0m\n\u001b[1;32m     65\u001b[0m \u001b[38;5;124;03m\"\"\"Request a new access token from the API authentication service.\u001b[39;00m\n\u001b[1;32m     66\u001b[0m \n\u001b[1;32m     67\u001b[0m \u001b[38;5;124;03mReturns:\u001b[39;00m\n\u001b[0;32m   (...)\u001b[0m\n\u001b[1;32m     72\u001b[0m \u001b[38;5;124;03m    RequestsApiError: If the request failed.\u001b[39;00m\n\u001b[1;32m     73\u001b[0m \u001b[38;5;124;03m\"\"\"\u001b[39;00m\n\u001b[1;32m     74\u001b[0m \u001b[38;5;28;01mtry\u001b[39;00m:\n\u001b[0;32m---> 75\u001b[0m     response \u001b[38;5;241m=\u001b[39m \u001b[38;5;28;43mself\u001b[39;49m\u001b[38;5;241;43m.\u001b[39;49m\u001b[43mauth_api\u001b[49m\u001b[38;5;241;43m.\u001b[39;49m\u001b[43mlogin\u001b[49m\u001b[43m(\u001b[49m\u001b[38;5;28;43mself\u001b[39;49m\u001b[38;5;241;43m.\u001b[39;49m\u001b[43mapi_token\u001b[49m\u001b[43m)\u001b[49m\n\u001b[1;32m     76\u001b[0m     \u001b[38;5;28;01mreturn\u001b[39;00m response[\u001b[38;5;124m'\u001b[39m\u001b[38;5;124mid\u001b[39m\u001b[38;5;124m'\u001b[39m]\n\u001b[1;32m     77\u001b[0m \u001b[38;5;28;01mexcept\u001b[39;00m RequestsApiError \u001b[38;5;28;01mas\u001b[39;00m ex:\n\u001b[1;32m     78\u001b[0m     \u001b[38;5;66;03m# Get the original exception that raised.\u001b[39;00m\n",
      "File \u001b[0;32m/usr/local/lib/python3.8/dist-packages/qiskit/providers/ibmq/api/rest/root.py:125\u001b[0m, in \u001b[0;36mApi.login\u001b[0;34m(self, api_token)\u001b[0m\n\u001b[1;32m    116\u001b[0m \u001b[38;5;124;03m\"\"\"Login with token.\u001b[39;00m\n\u001b[1;32m    117\u001b[0m \n\u001b[1;32m    118\u001b[0m \u001b[38;5;124;03mArgs:\u001b[39;00m\n\u001b[0;32m   (...)\u001b[0m\n\u001b[1;32m    122\u001b[0m \u001b[38;5;124;03m    JSON response.\u001b[39;00m\n\u001b[1;32m    123\u001b[0m \u001b[38;5;124;03m\"\"\"\u001b[39;00m\n\u001b[1;32m    124\u001b[0m url \u001b[38;5;241m=\u001b[39m \u001b[38;5;28mself\u001b[39m\u001b[38;5;241m.\u001b[39mget_url(\u001b[38;5;124m'\u001b[39m\u001b[38;5;124mlogin\u001b[39m\u001b[38;5;124m'\u001b[39m)\n\u001b[0;32m--> 125\u001b[0m \u001b[38;5;28;01mreturn\u001b[39;00m \u001b[38;5;28;43mself\u001b[39;49m\u001b[38;5;241;43m.\u001b[39;49m\u001b[43msession\u001b[49m\u001b[38;5;241;43m.\u001b[39;49m\u001b[43mpost\u001b[49m\u001b[43m(\u001b[49m\u001b[43murl\u001b[49m\u001b[43m,\u001b[49m\u001b[43m \u001b[49m\u001b[43mjson\u001b[49m\u001b[38;5;241;43m=\u001b[39;49m\u001b[43m{\u001b[49m\u001b[38;5;124;43m'\u001b[39;49m\u001b[38;5;124;43mapiToken\u001b[39;49m\u001b[38;5;124;43m'\u001b[39;49m\u001b[43m:\u001b[49m\u001b[43m \u001b[49m\u001b[43mapi_token\u001b[49m\u001b[43m}\u001b[49m\u001b[43m)\u001b[49m\u001b[38;5;241m.\u001b[39mjson()\n",
      "File \u001b[0;32m/usr/local/lib/python3.8/dist-packages/requests/sessions.py:577\u001b[0m, in \u001b[0;36mSession.post\u001b[0;34m(self, url, data, json, **kwargs)\u001b[0m\n\u001b[1;32m    566\u001b[0m \u001b[38;5;28;01mdef\u001b[39;00m \u001b[38;5;21mpost\u001b[39m(\u001b[38;5;28mself\u001b[39m, url, data\u001b[38;5;241m=\u001b[39m\u001b[38;5;28;01mNone\u001b[39;00m, json\u001b[38;5;241m=\u001b[39m\u001b[38;5;28;01mNone\u001b[39;00m, \u001b[38;5;241m*\u001b[39m\u001b[38;5;241m*\u001b[39mkwargs):\n\u001b[1;32m    567\u001b[0m     \u001b[38;5;124mr\u001b[39m\u001b[38;5;124;03m\"\"\"Sends a POST request. Returns :class:`Response` object.\u001b[39;00m\n\u001b[1;32m    568\u001b[0m \n\u001b[1;32m    569\u001b[0m \u001b[38;5;124;03m    :param url: URL for the new :class:`Request` object.\u001b[39;00m\n\u001b[0;32m   (...)\u001b[0m\n\u001b[1;32m    574\u001b[0m \u001b[38;5;124;03m    :rtype: requests.Response\u001b[39;00m\n\u001b[1;32m    575\u001b[0m \u001b[38;5;124;03m    \"\"\"\u001b[39;00m\n\u001b[0;32m--> 577\u001b[0m     \u001b[38;5;28;01mreturn\u001b[39;00m \u001b[38;5;28;43mself\u001b[39;49m\u001b[38;5;241;43m.\u001b[39;49m\u001b[43mrequest\u001b[49m\u001b[43m(\u001b[49m\u001b[38;5;124;43m'\u001b[39;49m\u001b[38;5;124;43mPOST\u001b[39;49m\u001b[38;5;124;43m'\u001b[39;49m\u001b[43m,\u001b[49m\u001b[43m \u001b[49m\u001b[43murl\u001b[49m\u001b[43m,\u001b[49m\u001b[43m \u001b[49m\u001b[43mdata\u001b[49m\u001b[38;5;241;43m=\u001b[39;49m\u001b[43mdata\u001b[49m\u001b[43m,\u001b[49m\u001b[43m \u001b[49m\u001b[43mjson\u001b[49m\u001b[38;5;241;43m=\u001b[39;49m\u001b[43mjson\u001b[49m\u001b[43m,\u001b[49m\u001b[43m \u001b[49m\u001b[38;5;241;43m*\u001b[39;49m\u001b[38;5;241;43m*\u001b[39;49m\u001b[43mkwargs\u001b[49m\u001b[43m)\u001b[49m\n",
      "File \u001b[0;32m/usr/local/lib/python3.8/dist-packages/qiskit/providers/ibmq/api/session.py:300\u001b[0m, in \u001b[0;36mRetrySession.request\u001b[0;34m(self, method, url, bare, **kwargs)\u001b[0m\n\u001b[1;32m    297\u001b[0m         \u001b[38;5;66;03m# Modify the original message on the chained exceptions.\u001b[39;00m\n\u001b[1;32m    298\u001b[0m         \u001b[38;5;28mself\u001b[39m\u001b[38;5;241m.\u001b[39m_modify_chained_exception_messages(ex)\n\u001b[0;32m--> 300\u001b[0m     \u001b[38;5;28;01mraise\u001b[39;00m RequestsApiError(message, status_code) \u001b[38;5;28;01mfrom\u001b[39;00m \u001b[38;5;21;01mex\u001b[39;00m\n\u001b[1;32m    302\u001b[0m \u001b[38;5;28;01mreturn\u001b[39;00m response\n",
      "\u001b[0;31mRequestsApiError\u001b[0m: '401 Client Error: Unauthorized for url: https://auth.quantum-computing.ibm.com/api/users/loginWithToken. Login failed., Error code: 3446.'"
     ]
    }
   ],
   "source": [
    "# 量子コンピュータで実行する場合\n",
    "try:\n",
    "    IBMQ.load_account()\n",
    "except IBMQAccountCredentialsNotFound:\n",
    "    IBMQ.enable_account('__paste_your_token_here__')\n",
    "\n",
    "provider = IBMQ.get_provider(hub='ibm-q', group='open', project='main')\n",
    "\n",
    "backend_list = provider.backends(filters=operational_backend(min_qubits=6))\n",
    "backend = least_busy(backend_list)\n",
    "print(\"least busy backend: \", backend)"
   ]
  },
  {
   "cell_type": "code",
   "execution_count": 6,
   "id": "1203d4ab",
   "metadata": {
    "jupyter": {
     "outputs_hidden": false
    },
    "pycharm": {
     "name": "#%%\n"
    },
    "tags": [
     "raises-exception",
     "remove-output"
    ]
   },
   "outputs": [
    {
     "ename": "NameError",
     "evalue": "name 'backend' is not defined",
     "output_type": "error",
     "traceback": [
      "\u001b[0;31m---------------------------------------------------------------------------\u001b[0m",
      "\u001b[0;31mNameError\u001b[0m                                 Traceback (most recent call last)",
      "Input \u001b[0;32mIn [6]\u001b[0m, in \u001b[0;36m<cell line: 3>\u001b[0;34m()\u001b[0m\n\u001b[1;32m      1\u001b[0m \u001b[38;5;66;03m# 最も空いているバックエンドで回路を実行します。キュー内のジョブの実行をモニターします。\u001b[39;00m\n\u001b[0;32m----> 3\u001b[0m grover_circuit \u001b[38;5;241m=\u001b[39m transpile(grover_circuit, backend\u001b[38;5;241m=\u001b[39m\u001b[43mbackend\u001b[49m, optimization_level\u001b[38;5;241m=\u001b[39m\u001b[38;5;241m3\u001b[39m)\n\u001b[1;32m      4\u001b[0m job \u001b[38;5;241m=\u001b[39m backend\u001b[38;5;241m.\u001b[39mrun(grover_circuit, shots\u001b[38;5;241m=\u001b[39m\u001b[38;5;241m1024\u001b[39m)\n\u001b[1;32m      5\u001b[0m job_monitor(job, interval\u001b[38;5;241m=\u001b[39m\u001b[38;5;241m2\u001b[39m)\n",
      "\u001b[0;31mNameError\u001b[0m: name 'backend' is not defined"
     ]
    }
   ],
   "source": [
    "# 最も空いているバックエンドで回路を実行します。キュー内のジョブの実行をモニターします。\n",
    "\n",
    "grover_circuit = transpile(grover_circuit, backend=backend, optimization_level=3)\n",
    "job = backend.run(grover_circuit, shots=1024)\n",
    "job_monitor(job, interval=2)"
   ]
  },
  {
   "cell_type": "code",
   "execution_count": 7,
   "id": "482ae38e",
   "metadata": {
    "jupyter": {
     "outputs_hidden": false
    },
    "pycharm": {
     "name": "#%%\n"
    },
    "tags": [
     "raises-exception",
     "remove-output"
    ]
   },
   "outputs": [
    {
     "ename": "NameError",
     "evalue": "name 'job' is not defined",
     "output_type": "error",
     "traceback": [
      "\u001b[0;31m---------------------------------------------------------------------------\u001b[0m",
      "\u001b[0;31mNameError\u001b[0m                                 Traceback (most recent call last)",
      "Input \u001b[0;32mIn [7]\u001b[0m, in \u001b[0;36m<cell line: 2>\u001b[0;34m()\u001b[0m\n\u001b[1;32m      1\u001b[0m \u001b[38;5;66;03m# 計算結果\u001b[39;00m\n\u001b[0;32m----> 2\u001b[0m results \u001b[38;5;241m=\u001b[39m \u001b[43mjob\u001b[49m\u001b[38;5;241m.\u001b[39mresult()\n\u001b[1;32m      3\u001b[0m answer \u001b[38;5;241m=\u001b[39m results\u001b[38;5;241m.\u001b[39mget_counts(grover_circuit)\n\u001b[1;32m      4\u001b[0m show_distribution(answer)\n",
      "\u001b[0;31mNameError\u001b[0m: name 'job' is not defined"
     ]
    }
   ],
   "source": [
    "# 計算結果\n",
    "results = job.result()\n",
    "answer = results.get_counts(grover_circuit)\n",
    "show_distribution(answer)"
   ]
  },
  {
   "cell_type": "markdown",
   "id": "35bf5600",
   "metadata": {},
   "source": [
    "シミュレータに比べると結果は非常に悪いですね。。。残念ながら、今の量子コンピュータをそのまま使うとこういう結果になってしまいます。しかし、{ref}`エラー緩和 <measurement_error_mitigation>`等のテクニックを使うことである程度改善することはできます。"
   ]
  },
  {
   "cell_type": "markdown",
   "id": "215330ba",
   "metadata": {
    "pycharm": {
     "name": "#%% md\n"
    }
   },
   "source": [
    "(imp_simulator_amp)=\n",
    "### 振幅増幅を確認する\n",
    "\n",
    "では次に、グローバーのアルゴリズムを繰り返し使うことで、振幅が増幅していく様子をシミュレータを使って見てみましょう。\n",
    "\n",
    "例として、上で作ったグローバー反復を3回実行する量子回路を作って実行してみます。"
   ]
  },
  {
   "cell_type": "code",
   "execution_count": 8,
   "id": "63241029",
   "metadata": {
    "pycharm": {
     "name": "#%%\n"
    }
   },
   "outputs": [
    {
     "data": {
      "image/png": "[encoded data removed]",
      "text/plain": [
       "<Figure size 959.679x445.48 with 1 Axes>"
      ]
     },
     "execution_count": 8,
     "metadata": {
      "filenames": {
       "image/png": "/qc-workbook/build/ja/_build/jupyter_execute/grover_29_0.png"
      }
     },
     "output_type": "execute_result"
    }
   ],
   "source": [
    "# 繰り返しの回数\n",
    "Niter = 3\n",
    "\n",
    "grover_circuit_iterN = QuantumCircuit(n)\n",
    "grover_circuit_iterN.h(range(n))\n",
    "for I in range(Niter):\n",
    "    grover_circuit_iterN.append(oracle_gate, list(range(n)))\n",
    "    grover_circuit_iterN.append(diffuser(n), list(range(n)))\n",
    "grover_circuit_iterN.measure_all()\n",
    "grover_circuit_iterN.draw('mpl')"
   ]
  },
  {
   "cell_type": "code",
   "execution_count": 9,
   "id": "1ee3413d",
   "metadata": {
    "pycharm": {
     "name": "#%%\n"
    }
   },
   "outputs": [
    {
     "data": {
      "image/png": "[encoded data removed]",
      "text/plain": [
       "<Figure size 432x288 with 1 Axes>"
      ]
     },
     "metadata": {
      "filenames": {
       "image/png": "/qc-workbook/build/ja/_build/jupyter_execute/grover_30_0.png"
      },
      "needs_background": "light"
     },
     "output_type": "display_data"
    }
   ],
   "source": [
    "grover_circuit_iterN_tr = transpile(grover_circuit_iterN, backend=simulator)\n",
    "results = simulator.run(grover_circuit_iterN_tr, shots=1024).result()\n",
    "answer = results.get_counts()\n",
    "show_distribution(answer)"
   ]
  },
  {
   "cell_type": "markdown",
   "id": "b51ab003",
   "metadata": {
    "pycharm": {
     "name": "#%% md\n"
    }
   },
   "source": [
    "正しい答え$\\ket{45}$をより高い確率で測定できていることが分かりますね。\n",
    "\n",
    "では次に、実装した回路を繰り返し実行して、求める解を観測した回数と反復した回数との相関関係を図にしてみます。"
   ]
  },
  {
   "cell_type": "code",
   "execution_count": 10,
   "id": "e18d7ee0",
   "metadata": {
    "pycharm": {
     "name": "#%%\n"
    },
    "tags": []
   },
   "outputs": [
    {
     "data": {
      "image/png": "[encoded data removed]",
      "text/plain": [
       "<Figure size 432x288 with 1 Axes>"
      ]
     },
     "metadata": {
      "filenames": {
       "image/png": "/qc-workbook/build/ja/_build/jupyter_execute/grover_32_0.png"
      },
      "needs_background": "light"
     },
     "output_type": "display_data"
    }
   ],
   "source": [
    "x = []\n",
    "y = []\n",
    "\n",
    "# 例えば10回繰り返す\n",
    "for Niter in range(1,11):\n",
    "    grover_circuit_iterN = QuantumCircuit(n)\n",
    "    grover_circuit_iterN.h(range(n))\n",
    "    for I in range(Niter):\n",
    "        grover_circuit_iterN.append(oracle_gate, list(range(n)))\n",
    "        grover_circuit_iterN.append(diffuser(n), list(range(n)))\n",
    "    grover_circuit_iterN.measure_all()\n",
    "\n",
    "    grover_circuit_iterN_tr = transpile(grover_circuit_iterN, backend=simulator)\n",
    "    results = simulator.run(grover_circuit_iterN_tr, shots=1024).result()\n",
    "    answer = results.get_counts()\n",
    "\n",
    "    x.append(Niter)\n",
    "    y.append(answer[format(Nsol,'b').zfill(n)])\n",
    "\n",
    "plt.clf()\n",
    "plt.scatter(x,y)\n",
    "plt.xlabel('N_iterations')\n",
    "plt.ylabel('# of correct observations (1 solution)')\n",
    "plt.show()"
   ]
  },
  {
   "cell_type": "markdown",
   "id": "b95e8d40",
   "metadata": {
    "pycharm": {
     "name": "#%% md\n"
    }
   },
   "source": [
    "この図から、グローバー反復を5~6回程度繰り返すことで、正しい答えを最も高い確率で測定できることが分かりますね。計算で求めた検索に必要な反復回数と一致しているかどうか、確認してみてください。"
   ]
  },
  {
   "cell_type": "markdown",
   "id": "b8a75115",
   "metadata": {
    "pycharm": {
     "name": "#%% md\n"
    }
   },
   "source": [
    "問題：解が一つの場合で、探索リストのサイズを$N=2^4$から$N=2^{10}$まで変えた時に、測定で求めた最適な反復回数が$N$とどういう関係になっているのか調べてください。"
   ]
  },
  {
   "cell_type": "markdown",
   "id": "f4c68cd3",
   "metadata": {
    "pycharm": {
     "name": "#%% md\n"
    }
   },
   "source": [
    "(imp_simulator_multi)=\n",
    "### 複数解の探索の場合\n",
    "\n",
    "では次に、複数の解を探索する問題に進んでみましょう。2つの整数$x_1$と$x_2$を見つける問題へ量子回路を拡張して、求める解を観測した回数と反復した回数との相関関係を図にしてみます。\n",
    "\n",
    "例えば、$x_1=45$と$x_2=26$の場合は"
   ]
  },
  {
   "cell_type": "code",
   "execution_count": 11,
   "id": "229aed41",
   "metadata": {
    "pycharm": {
     "name": "#%%\n"
    }
   },
   "outputs": [
    {
     "name": "stdout",
     "output_type": "stream",
     "text": [
      "               ┌───┐               ┌───┐     \n",
      "q_0: ───────■──┤ X ├────────────■──┤ X ├─────\n",
      "     ┌───┐  │  ├───┤            │  └───┘     \n",
      "q_1: ┤ X ├──■──┤ X ├────────────■────────────\n",
      "     └───┘  │  ├───┤            │  ┌───┐     \n",
      "q_2: ───────■──┤ X ├────────────■──┤ X ├─────\n",
      "            │  └───┘            │  └───┘     \n",
      "q_3: ───────■───────────────────■────────────\n",
      "     ┌───┐  │  ┌───┐            │            \n",
      "q_4: ┤ X ├──■──┤ X ├────────────■────────────\n",
      "     ├───┤┌─┴─┐├───┤┌───┐┌───┐┌─┴─┐┌───┐┌───┐\n",
      "q_5: ┤ H ├┤ X ├┤ H ├┤ X ├┤ H ├┤ X ├┤ H ├┤ X ├\n",
      "     └───┘└───┘└───┘└───┘└───┘└───┘└───┘└───┘\n"
     ]
    },
    {
     "data": {
      "image/png": "[encoded data removed]",
      "text/plain": [
       "<Figure size 432x288 with 1 Axes>"
      ]
     },
     "metadata": {
      "filenames": {
       "image/png": "/qc-workbook/build/ja/_build/jupyter_execute/grover_36_1.png"
      },
      "needs_background": "light"
     },
     "output_type": "display_data"
    }
   ],
   "source": [
    "N1 = 45\n",
    "N2 = 26\n",
    "\n",
    "oracle_2sol = QuantumCircuit(n)\n",
    "\n",
    "# 45\n",
    "oracle_2sol.x(1)\n",
    "oracle_2sol.x(4)\n",
    "oracle_2sol.h(n-1)\n",
    "oracle_2sol.mcx(list(range(n-1)), n-1)\n",
    "oracle_2sol.h(n-1)\n",
    "oracle_2sol.x(1)\n",
    "oracle_2sol.x(4)\n",
    "\n",
    "# 26\n",
    "oracle_2sol.x(0)\n",
    "oracle_2sol.x(2)\n",
    "oracle_2sol.x(5)\n",
    "oracle_2sol.h(n-1)\n",
    "oracle_2sol.mcx(list(range(n-1)), n-1)\n",
    "oracle_2sol.h(n-1)\n",
    "oracle_2sol.x(0)\n",
    "oracle_2sol.x(2)\n",
    "oracle_2sol.x(5)\n",
    "\n",
    "oracle_2sol_gate = oracle_2sol.to_gate()\n",
    "oracle_2sol_gate.name = \"U_w(2sol)\"\n",
    "print(oracle_2sol)\n",
    "\n",
    "x = []\n",
    "y = []\n",
    "for Niter in range(1,11):\n",
    "    grover_circuit_2sol_iterN = QuantumCircuit(n)\n",
    "    grover_circuit_2sol_iterN.h(range(n))\n",
    "    for I in range(Niter):\n",
    "        grover_circuit_2sol_iterN.append(oracle_2sol_gate, list(range(n)))\n",
    "        grover_circuit_2sol_iterN.append(diffuser(n), list(range(n)))\n",
    "    grover_circuit_2sol_iterN.measure_all()\n",
    "    #print('-----  Niter =',Niter,' -----------')\n",
    "    #print(grover_circuit_2sol_iterN)\n",
    "\n",
    "    grover_circuit_2sol_iterN_tr = transpile(grover_circuit_2sol_iterN, backend=simulator)\n",
    "    results = simulator.run(grover_circuit_2sol_iterN_tr, shots=1024).result()\n",
    "    answer = results.get_counts()\n",
    "    #show_distribution(answer)\n",
    "\n",
    "    x.append(Niter)\n",
    "    y.append(answer[format(N1,'06b')]+answer[format(N2,'06b')])\n",
    "\n",
    "plt.clf()\n",
    "plt.scatter(x,y)\n",
    "plt.xlabel('N_iterations')\n",
    "plt.ylabel('# of correct observations (2 solutions)')\n",
    "plt.show()"
   ]
  },
  {
   "cell_type": "markdown",
   "id": "b1b3a761",
   "metadata": {
    "pycharm": {
     "name": "#%% md\n"
    }
   },
   "source": [
    "複数解の場合、確率が最大になる反復回数が単一解の場合より減っていますね。予想と合っているでしょうか？"
   ]
  },
  {
   "cell_type": "markdown",
   "id": "32498e17",
   "metadata": {},
   "source": [
    "## 参考文献\n",
    "\n",
    "```{bibliography}\n",
    ":filter: docname in docnames\n",
    "```"
   ]
  }
 ],
 "metadata": {
  "jupytext": {
   "notebook_metadata_filter": "all",
   "text_representation": {
    "extension": ".md",
    "format_name": "myst",
    "format_version": 0.13,
    "jupytext_version": "1.11.5"
   }
  },
  "kernelspec": {
   "display_name": "Python 3 (ipykernel)",
   "language": "python",
   "name": "python3"
  },
  "language_info": {
   "codemirror_mode": {
    "name": "ipython",
    "version": 3
   },
   "file_extension": ".py",
   "mimetype": "text/x-python",
   "name": "python",
   "nbconvert_exporter": "python",
   "pygments_lexer": "ipython3",
   "version": "3.8.10"
  },
  "source_map": [
   25,
   29,
   43,
   49,
   56,
   63,
   108,
   141,
   153,
   183,
   195,
   256,
   274,
   298,
   306,
   313,
   335,
   349,
   385,
   414,
   448,
   494,
   529,
   535,
   542,
   565,
   582,
   596,
   600,
   609,
   628,
   641,
   647,
   681,
   685,
   689,
   698,
   761,
   765
  ]
 },
 "nbformat": 4,
 "nbformat_minor": 5
}