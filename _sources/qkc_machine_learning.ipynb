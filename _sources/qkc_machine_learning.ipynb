{
 "cells": [
  {
   "cell_type": "markdown",
   "id": "f23498cd",
   "metadata": {
    "pycharm": {
     "name": "#%% md\n"
    }
   },
   "source": [
    "# 【課題】量子カーネルを使った新現象の分類"
   ]
  },
  {
   "cell_type": "markdown",
   "id": "b7204fc6",
   "metadata": {
    "pycharm": {
     "name": "#%% md\n"
    }
   },
   "source": [
    "これまで、量子・古典ハイブリッドアルゴリズムの一つである{doc}`量子回路学習 <vqc_machine_learning>`の手法を使って、素粒子物理での新粒子探索が可能かを見てきました。ここでは、**量子機械学習**の別の手法として、**量子カーネル**を用いた分類を考えてみます。特に、量子カーネルを活用した**サポートベクターマシン**の手法{cite}`quantum_svm`を使って、同じ新粒子探索の問題に取り組みます。\n",
    "\n",
    "```{contents} 目次\n",
    "---\n",
    "local: true\n",
    "---\n",
    "```\n",
    "\n",
    "$\\newcommand{\\ket}[1]{| #1 \\rangle}$\n",
    "$\\newcommand{\\expval}[3]{\\langle #1 | #2 | #3 \\rangle}$"
   ]
  },
  {
   "cell_type": "markdown",
   "id": "abd53027",
   "metadata": {
    "pycharm": {
     "name": "#%% md\n"
    }
   },
   "source": [
    "(q_kernel)=\n",
    "## 量子カーネル\n",
    "\n",
    "変分量子回路を使った量子回路学習では、\n",
    "\n",
    "$$\n",
    "U_{\\text{in}}(x_i) = \\prod_j R_j^Z(\\cos^{-1}(x^2))R_j^Y(\\sin^{-1}(x))\n",
    "$$\n",
    "\n",
    "と定義した特徴量マップ$U_{\\text{in}}(x_i)$を考えました。それを初期状態$\\ket{0}^{\\otimes n}$に適用することで、入力データから$\\ket{\\phi(x_i)}=U_{\\text{in}}(x_i)\\ket{0}^{\\otimes n}$という量子状態を作りました。**量子カーネル**とは、この状態の内積$\\langle\\phi^\\dagger(x_j)|\\phi(x_i)\\rangle$（の絶対値2乗）\n",
    "\n",
    "$$\n",
    "K(x_i,x_j):=|\\langle\\phi^\\dagger(x_j)|\\phi(x_i)\\rangle|^2=|\\langle0^{\\otimes n}|U_{\\text{in}}^\\dagger(x_j)U_{\\text{in}}(x_i)|0^{\\otimes n}\\rangle|^2\n",
    "$$\n",
    "\n",
    "として定義される量です。量子カーネルの物理的な意味ですが、内積というものが表す通り、$\\ket{\\phi(x_i)}$と$\\ket{\\phi(x_j)}$の「近さ」あるいは「重なり具合」を表していると解釈できます。"
   ]
  },
  {
   "cell_type": "markdown",
   "id": "30ea2fa9",
   "metadata": {
    "pycharm": {
     "name": "#%% md\n"
    }
   },
   "source": [
    "(q_kernel_imp)=\n",
    "### 量子カーネルの評価\n",
    "\n",
    "量子カーネルを求めるためには、学習データの全てのペア$\\{x_i,x_j\\}$に対して、$K(x_i,x_j)=|\\langle\\phi^\\dagger(x_j)|\\phi(x_i)\\rangle|^2$を計算する必要があります。ここで「カーネルトリック」という言葉がよく使われますが、ヒルベルト空間での座標変数に明示的に依存しない形で$K(x_i,x_j)$を計算するために、以下のような量子回路を考えます。\n",
    "\n",
    "```{image} figs/qke_circuit.png\n",
    ":alt: qke_circuit\n",
    ":class: bg-primary mb-1\n",
    ":width: 700px\n",
    ":align: center\n",
    "```\n",
    "\n",
    "この回路に入力データ$x_i$と$x_j$をエンコードして、回路の出力状態を$Z$基底で測定するとします。カーネルの定義式から明らかなように、その時に全ての量子ビットが0になる（$0^n$ビット列が出てくる）確率が$K(x_i,x_j)$の評価値を与えてくれます。これを全てのペアに対して繰り返し実行し、カーネル行列の要素を決めていくことになるわけです。$0^n$ビット列測定によってカーネルを決めるため、量子回路の測定回数$N$に対して$\\cal{O}(1/\\sqrt{N})$程度の誤差がついてしまうのは仕方ないところです。"
   ]
  },
  {
   "cell_type": "markdown",
   "id": "6bed6394",
   "metadata": {
    "pycharm": {
     "name": "#%% md\n"
    }
   },
   "source": [
    "(svm)=\n",
    "## サポートベクターマシン\n",
    "\n",
    "上までのステップでカーネル行列が得られましたが、次にこのカーネル行列をサポートベクターマシンと呼ばれる手法に取り入れて、データ分類を行なってみます。\n",
    "\n",
    "まず、線形サポートベクターマシンとはどういうものかを見ていきます。2クラス分類を考えるとして、$+1$と$-1$を持つクラス$C=\\{+1,-1\\}$とします。学習データを$\\{(\\boldsymbol{x}_i,y_i)\\}\\:(i=1,\\ldots,N)$とすると、$y_i\\in\\{+1,-1\\}$です。$i$は各データを表すインデックス、$\\boldsymbol{x}_i$は$d$次元の実数変数$\\boldsymbol{x}_i\\in\\mathbb{R}^d$としておきます。\n",
    "\n",
    "サポートベクターによる線形分離とは、ある空間にデータ点の集合が分布しているとして、それを超平面（Hyperplane）で二つの領域に分離するという問題です。超平面とは、$\\boldsymbol{w}\\in\\mathbb{R}^d$をデータと同じ次元数の実数ベクトルとして、$\\boldsymbol{w}\\circ\\boldsymbol{x}+b=0$を満たす$(\\boldsymbol{w},b)$のことを超平面と読んでいます。$b$はバイアス、$\\circ$は内積を表していて、$\\boldsymbol{w}$は超平面に直交するベクトルと考えることができます。データの線形分離は、\n",
    "\n",
    "$$\n",
    "y_i(\\boldsymbol{w}\\circ\\boldsymbol{x}_i+b)\\geq1,\\:\\:\\:\\forall i=1,\\ldots,N\n",
    "$$\n",
    "\n",
    "を満たす$(\\boldsymbol{w},b)$を見つけることができれば、$2/||\\boldsymbol{w}||$のマージン（超平面からデータ点までの距離）を持って分離できることが知られています。このような超平面が見つかれば、新しいテストデータ$\\boldsymbol{x'}\\in\\mathbb{R}^d$に対して$\\boldsymbol{w}\\circ\\boldsymbol{x'}+b$の符号（超平面で分離される領域のどちらにデータが分布しているか）を見ることで、分離ができるという仕組みです。"
   ]
  },
  {
   "cell_type": "markdown",
   "id": "11da6489",
   "metadata": {
    "pycharm": {
     "name": "#%% md\n"
    }
   },
   "source": [
    "(qsvm)=\n",
    "### 量子サポートベクターマシン\n",
    "\n",
    "量子サポートベクターマシンは、ヒルベルト空間にエンコードされた特徴量空間で、このデータ分離を行います。上の式では、マージンが$2/||\\boldsymbol{w}||$なので、$||\\boldsymbol{w}||$を最小化することでマージンが大きな超平面を探すことが考えられます。特徴量空間での超平面探索では、非線形変換が可能な特徴量マップが関わってくるため、少し違う形ですが同等なものとして以下の距離に相当する量$L$\n",
    "\n",
    "$$\n",
    "L(\\boldsymbol{\\alpha})=\\sum_{i=1}^N\\alpha_i-\\frac12\\sum_{i,j=1}^Ny_iy_j\\alpha_i\\alpha_jK(\\boldsymbol{x}_i,\\boldsymbol{x}_j)\n",
    "$$\n",
    "\n",
    "を考えます。この$L$が最大になるパラメータ$\\boldsymbol{\\alpha}=\\{\\alpha_i\\}\\:(i=1,\\ldots,N)$を見つける問題になるのですが、$\\alpha_i$は以下の条件を満たす必要があります。\n",
    "\n",
    "$$\n",
    "\\sum_{i=1}^N\\alpha_iy_i=0,\\:\\:\\:\\alpha_i\\geq0\n",
    "$$\n",
    "\n",
    "最適化によって、$L$を最大化するパラメータ$\\boldsymbol{\\alpha}^*=\\{\\alpha_1^*,\\ldots,\\alpha_N^*\\}$が見つかったとします。その最適パラメータと学習データで求めたカーネル行列を使うことで、新しいデータ$\\boldsymbol{x'}$に対して$\\sum_{i=1}^Ny_i\\alpha_i^*K(\\boldsymbol{x}_i,\\boldsymbol{x'})+b^*$の符号を調べることで、クラス分類が可能になるというわけです。最適なバイアス$b^*$は$\\sum_{j=1}^Ny_j\\alpha_j^*K(\\boldsymbol{x}_j,\\boldsymbol{x}_i)+b=y_i$を解くことによって、最適パラメータ$\\boldsymbol{\\alpha}^*$と学習データから求めることができます。"
   ]
  },
  {
   "cell_type": "markdown",
   "id": "6a182973",
   "metadata": {
    "pycharm": {
     "name": "#%% md\n"
    }
   },
   "source": [
    "(qsvm_imp)=\n",
    "## 素粒子探索への応用\n",
    "\n",
    "それでは、{doc}`ここ <vqc_machine_learning>`で考えた素粒子現象の探索問題に、量子サポートベクターマシンを応用してみましょう。\n",
    "\n",
    "データセットの準備は同じです。"
   ]
  },
  {
   "cell_type": "code",
   "execution_count": 1,
   "id": "3f8b0941",
   "metadata": {
    "jupyter": {
     "outputs_hidden": false
    },
    "pycharm": {
     "name": "#%%\n"
    }
   },
   "outputs": [
    {
     "name": "stderr",
     "output_type": "stream",
     "text": [
      "/usr/local/lib/python3.8/dist-packages/dateutil/zoneinfo/__init__.py:26: UserWarning: I/O error(2): No such file or directory\n",
      "  warnings.warn(\"I/O error({0}): {1}\".format(e.errno, e.strerror))\n"
     ]
    }
   ],
   "source": [
    "# Tested with python 3.8.12, qiskit 0.34.2, numpy 1.22.2\n",
    "# General imports\n",
    "import numpy as np\n",
    "import matplotlib.pyplot as plt\n",
    "import pandas as pd\n",
    "\n",
    "# scikit-learn imports\n",
    "from sklearn.preprocessing import MinMaxScaler\n",
    "from sklearn.svm import SVC\n",
    "from sklearn.metrics import accuracy_score\n",
    "\n",
    "# Qiskit imports\n",
    "from qiskit import QuantumCircuit, Aer, transpile\n",
    "from qiskit.circuit import QuantumCircuit, Parameter, ParameterVector\n",
    "from qiskit.circuit.library import PauliFeatureMap, ZFeatureMap, ZZFeatureMap\n",
    "from qiskit.circuit.library import TwoLocal, NLocal, RealAmplitudes, EfficientSU2\n",
    "from qiskit.circuit.library import HGate, RXGate, RYGate, RZGate, CXGate, CRXGate, CRZGate\n",
    "from qiskit_machine_learning.kernels import QuantumKernel"
   ]
  },
  {
   "cell_type": "code",
   "execution_count": 2,
   "id": "e1d2b8b1",
   "metadata": {
    "jupyter": {
     "outputs_hidden": false
    },
    "pycharm": {
     "name": "#%%\n"
    }
   },
   "outputs": [],
   "source": [
    "# ファイルから変数を読み出す\n",
    "df = pd.read_csv(\"data/SUSY_1K.csv\",\n",
    "                 names=('isSignal','lep1_pt','lep1_eta','lep1_phi','lep2_pt','lep2_eta',\n",
    "                        'lep2_phi','miss_ene','miss_phi','MET_rel','axial_MET','M_R','M_TR_2',\n",
    "                        'R','MT2','S_R','M_Delta_R','dPhi_r_b','cos_theta_r1'))\n",
    "\n",
    "# 学習に使う変数の数\n",
    "feature_dim = 3  # dimension of each data point\n",
    "\n",
    "# 3, 5, 7変数の場合に使う変数のセット\n",
    "if feature_dim == 3:\n",
    "    SelectedFeatures = ['lep1_pt', 'lep2_pt', 'miss_ene']\n",
    "elif feature_dim == 5:\n",
    "    SelectedFeatures = ['lep1_pt','lep2_pt','miss_ene','M_TR_2','M_Delta_R']\n",
    "elif feature_dim == 7:\n",
    "    SelectedFeatures = ['lep1_pt','lep1_eta','lep2_pt','lep2_eta','miss_ene','M_TR_2','M_Delta_R']\n",
    "\n",
    "# 学習に使う事象数: trainingは訓練用サンプル、testingはテスト用サンプル\n",
    "train_size = 20\n",
    "test_size = 20\n",
    "\n",
    "# オプティマイザーをCallする回数の上限\n",
    "niter = 300\n",
    "random_seed = 10598\n",
    "\n",
    "df_sig = df.loc[df.isSignal==1, SelectedFeatures]\n",
    "df_bkg = df.loc[df.isSignal==0, SelectedFeatures]\n",
    "\n",
    "# サンプルの生成\n",
    "df_sig_train = df_sig.values[:train_size]\n",
    "df_bkg_train = df_bkg.values[:train_size]\n",
    "df_sig_test = df_sig.values[train_size:train_size+test_size]\n",
    "df_bkg_test = df_bkg.values[train_size:train_size+test_size]\n",
    "train_data = np.concatenate([df_sig_train,df_bkg_train])\n",
    "test_data = np.concatenate([df_sig_test,df_bkg_test])\n",
    "#print('train_data =',training_data)\n",
    "#print('test_data =',test_data)\n",
    "train_label = np.concatenate([np.ones((train_size),dtype=int),np.zeros((train_size),dtype=int)])\n",
    "test_label = np.concatenate([np.ones((test_size),dtype=int),np.zeros((test_size),dtype=int)])\n",
    "\n",
    "train_label_one_hot = np.zeros((train_size*2, 2))\n",
    "for i in range(train_size*2):\n",
    "    train_label_one_hot[i, train_label[i]] = 1\n",
    "test_label_one_hot = np.zeros((test_size*2, 2))\n",
    "for i in range(test_size*2):\n",
    "    test_label_one_hot[i, test_label[i]] = 1\n",
    "\n",
    "mms = MinMaxScaler((-1, 1))\n",
    "norm_train_data = mms.fit_transform(train_data)\n",
    "norm_test_data = mms.transform(test_data)"
   ]
  },
  {
   "cell_type": "markdown",
   "id": "05c2d8ea",
   "metadata": {
    "pycharm": {
     "name": "#%% md\n"
    }
   },
   "source": [
    "(problem1)=\n",
    "### 問題1\n",
    "\n",
    "各自特徴量マップを選び、実装してください。"
   ]
  },
  {
   "cell_type": "code",
   "execution_count": 3,
   "id": "efbcc096",
   "metadata": {
    "jupyter": {
     "outputs_hidden": false
    },
    "pycharm": {
     "name": "#%%\n"
    }
   },
   "outputs": [],
   "source": [
    "##################\n",
    "### EDIT BELOW ###\n",
    "##################\n",
    "\n",
    "feature_map = ...\n",
    "\n",
    "##################\n",
    "### EDIT ABOVE ###\n",
    "##################"
   ]
  },
  {
   "cell_type": "markdown",
   "id": "53fdc23a",
   "metadata": {
    "pycharm": {
     "name": "#%% md\n"
    }
   },
   "source": [
    "(problem2)=\n",
    "### 問題2\n",
    "\n",
    "最初の二つのデータ$x_0=$norm_train_data[0]と$x_1=$norm_train_data[1]に対するカーネル行列要素を計算するための量子回路を作ってください。"
   ]
  },
  {
   "cell_type": "code",
   "execution_count": 4,
   "id": "44da3cea",
   "metadata": {
    "jupyter": {
     "outputs_hidden": false
    },
    "pycharm": {
     "name": "#%%\n"
    }
   },
   "outputs": [],
   "source": [
    "##################\n",
    "### EDIT BELOW ###\n",
    "##################\n",
    "\n",
    "qc_circuit = QuantumCircuit()\n",
    "\n",
    "##################\n",
    "### EDIT ABOVE ###\n",
    "##################"
   ]
  },
  {
   "cell_type": "markdown",
   "id": "b56d7826",
   "metadata": {
    "pycharm": {
     "name": "#%% md\n"
    }
   },
   "source": [
    "作った量子回路をシミュレータで実行して、全ての量子ビットで0を測定する確率を調べてください。"
   ]
  },
  {
   "cell_type": "code",
   "execution_count": 5,
   "id": "e978ce20",
   "metadata": {
    "jupyter": {
     "outputs_hidden": false
    },
    "pycharm": {
     "name": "#%%\n"
    },
    "tags": [
     "raises-exception",
     "remove-output"
    ]
   },
   "outputs": [
    {
     "ename": "QiskitError",
     "evalue": "'No counts for experiment \"<qiskit.circuit.quantumcircuit.QuantumCircuit object at 0x7f77fefdaf10>\"'",
     "output_type": "error",
     "traceback": [
      "\u001b[0;31m---------------------------------------------------------------------------\u001b[0m",
      "\u001b[0;31mQiskitError\u001b[0m                               Traceback (most recent call last)",
      "Input \u001b[0;32mIn [5]\u001b[0m, in \u001b[0;36m<cell line: 5>\u001b[0;34m()\u001b[0m\n\u001b[1;32m      2\u001b[0m qc_circuit \u001b[38;5;241m=\u001b[39m transpile(qc_circuit, backend\u001b[38;5;241m=\u001b[39mbackend, seed_transpiler\u001b[38;5;241m=\u001b[39mrandom_seed)\n\u001b[1;32m      3\u001b[0m job \u001b[38;5;241m=\u001b[39m backend\u001b[38;5;241m.\u001b[39mrun(qc_circuit, shots\u001b[38;5;241m=\u001b[39m\u001b[38;5;241m8192\u001b[39m, seed_simulator\u001b[38;5;241m=\u001b[39mrandom_seed)\n\u001b[0;32m----> 5\u001b[0m counts \u001b[38;5;241m=\u001b[39m \u001b[43mjob\u001b[49m\u001b[38;5;241;43m.\u001b[39;49m\u001b[43mresult\u001b[49m\u001b[43m(\u001b[49m\u001b[43m)\u001b[49m\u001b[38;5;241;43m.\u001b[39;49m\u001b[43mget_counts\u001b[49m\u001b[43m(\u001b[49m\u001b[43mqc_circuit\u001b[49m\u001b[43m)\u001b[49m\n\u001b[1;32m      6\u001b[0m \u001b[38;5;28mprint\u001b[39m(\u001b[38;5;124mf\u001b[39m\u001b[38;5;124m\"\u001b[39m\u001b[38;5;124mProbability of observing 0^n state = \u001b[39m\u001b[38;5;132;01m{\u001b[39;00mcounts[\u001b[38;5;124m'\u001b[39m\u001b[38;5;124m0\u001b[39m\u001b[38;5;124m'\u001b[39m\u001b[38;5;241m*\u001b[39mfeature_dim]\u001b[38;5;241m/\u001b[39m\u001b[38;5;28msum\u001b[39m(counts\u001b[38;5;241m.\u001b[39mvalues())\u001b[38;5;132;01m}\u001b[39;00m\u001b[38;5;124m\"\u001b[39m)\n",
      "File \u001b[0;32m/usr/local/lib/python3.8/dist-packages/qiskit/result/result.py:300\u001b[0m, in \u001b[0;36mResult.get_counts\u001b[0;34m(self, experiment)\u001b[0m\n\u001b[1;32m    298\u001b[0m         dict_list\u001b[38;5;241m.\u001b[39mappend(statevector\u001b[38;5;241m.\u001b[39mStatevector(vec)\u001b[38;5;241m.\u001b[39mprobabilities_dict(decimals\u001b[38;5;241m=\u001b[39m\u001b[38;5;241m15\u001b[39m))\n\u001b[1;32m    299\u001b[0m     \u001b[38;5;28;01melse\u001b[39;00m:\n\u001b[0;32m--> 300\u001b[0m         \u001b[38;5;28;01mraise\u001b[39;00m QiskitError(\u001b[38;5;124mf\u001b[39m\u001b[38;5;124m'\u001b[39m\u001b[38;5;124mNo counts for experiment \u001b[39m\u001b[38;5;124m\"\u001b[39m\u001b[38;5;132;01m{\u001b[39;00m\u001b[38;5;28mrepr\u001b[39m(key)\u001b[38;5;132;01m}\u001b[39;00m\u001b[38;5;124m\"\u001b[39m\u001b[38;5;124m'\u001b[39m)\n\u001b[1;32m    302\u001b[0m \u001b[38;5;66;03m# Return first item of dict_list if size is 1\u001b[39;00m\n\u001b[1;32m    303\u001b[0m \u001b[38;5;28;01mif\u001b[39;00m \u001b[38;5;28mlen\u001b[39m(dict_list) \u001b[38;5;241m==\u001b[39m \u001b[38;5;241m1\u001b[39m:\n",
      "\u001b[0;31mQiskitError\u001b[0m: 'No counts for experiment \"<qiskit.circuit.quantumcircuit.QuantumCircuit object at 0x7f77fefdaf10>\"'"
     ]
    }
   ],
   "source": [
    "backend = Aer.get_backend('qasm_simulator')\n",
    "qc_circuit = transpile(qc_circuit, backend=backend, seed_transpiler=random_seed)\n",
    "job = backend.run(qc_circuit, shots=8192, seed_simulator=random_seed)\n",
    "\n",
    "counts = job.result().get_counts(qc_circuit)\n",
    "print(f\"Probability of observing 0^n state = {counts['0'*feature_dim]/sum(counts.values())}\")"
   ]
  },
  {
   "cell_type": "markdown",
   "id": "0201a132",
   "metadata": {
    "pycharm": {
     "name": "#%% md\n"
    }
   },
   "source": [
    "Qiskitには特徴量マップから量子カーネルを作ってくれるAPIが準備されていて、それを使えば課題2は実は簡単に実行できます。"
   ]
  },
  {
   "cell_type": "code",
   "execution_count": 6,
   "id": "e9881366",
   "metadata": {
    "jupyter": {
     "outputs_hidden": false
    },
    "pycharm": {
     "name": "#%%\n"
    },
    "tags": [
     "raises-exception",
     "remove-output"
    ]
   },
   "outputs": [
    {
     "ename": "AttributeError",
     "evalue": "'ellipsis' object has no attribute 'num_parameters'",
     "output_type": "error",
     "traceback": [
      "\u001b[0;31m---------------------------------------------------------------------------\u001b[0m",
      "\u001b[0;31mAttributeError\u001b[0m                            Traceback (most recent call last)",
      "Input \u001b[0;32mIn [6]\u001b[0m, in \u001b[0;36m<cell line: 3>\u001b[0;34m()\u001b[0m\n\u001b[1;32m      1\u001b[0m q_kernel \u001b[38;5;241m=\u001b[39m QuantumKernel(feature_map\u001b[38;5;241m=\u001b[39mfeature_map, quantum_instance\u001b[38;5;241m=\u001b[39mAer\u001b[38;5;241m.\u001b[39mget_backend(\u001b[38;5;124m'\u001b[39m\u001b[38;5;124mstatevector_simulator\u001b[39m\u001b[38;5;124m'\u001b[39m))\n\u001b[0;32m----> 3\u001b[0m qc_circuit \u001b[38;5;241m=\u001b[39m \u001b[43mq_kernel\u001b[49m\u001b[38;5;241;43m.\u001b[39;49m\u001b[43mconstruct_circuit\u001b[49m\u001b[43m(\u001b[49m\u001b[43mnorm_train_data\u001b[49m\u001b[43m[\u001b[49m\u001b[38;5;241;43m0\u001b[39;49m\u001b[43m]\u001b[49m\u001b[43m,\u001b[49m\u001b[43m \u001b[49m\u001b[43mnorm_train_data\u001b[49m\u001b[43m[\u001b[49m\u001b[38;5;241;43m1\u001b[39;49m\u001b[43m]\u001b[49m\u001b[43m)\u001b[49m\n\u001b[1;32m      4\u001b[0m qc_circuit\u001b[38;5;241m.\u001b[39mdecompose()\u001b[38;5;241m.\u001b[39mdecompose()\u001b[38;5;241m.\u001b[39mdraw(\u001b[38;5;124m'\u001b[39m\u001b[38;5;124mmpl\u001b[39m\u001b[38;5;124m'\u001b[39m)\n",
      "File \u001b[0;32m/usr/local/lib/python3.8/dist-packages/qiskit_machine_learning/kernels/quantum_kernel.py:308\u001b[0m, in \u001b[0;36mQuantumKernel.construct_circuit\u001b[0;34m(self, x, y, measurement, is_statevector_sim)\u001b[0m\n\u001b[1;32m    299\u001b[0m \u001b[38;5;28;01mif\u001b[39;00m unbound_params:\n\u001b[1;32m    300\u001b[0m     \u001b[38;5;28;01mraise\u001b[39;00m \u001b[38;5;167;01mValueError\u001b[39;00m(\n\u001b[1;32m    301\u001b[0m         \u001b[38;5;124mf\u001b[39m\u001b[38;5;124m\"\"\"\u001b[39m\n\u001b[1;32m    302\u001b[0m \u001b[38;5;124m        The feature map circuit contains unbound user parameters (\u001b[39m\u001b[38;5;132;01m{\u001b[39;00munbound_params\u001b[38;5;132;01m}\u001b[39;00m\u001b[38;5;124m).\u001b[39m\n\u001b[0;32m   (...)\u001b[0m\n\u001b[1;32m    305\u001b[0m \u001b[38;5;124m        \u001b[39m\u001b[38;5;124m\"\"\"\u001b[39m\n\u001b[1;32m    306\u001b[0m     )\n\u001b[0;32m--> 308\u001b[0m \u001b[38;5;28;01mif\u001b[39;00m \u001b[38;5;28mlen\u001b[39m(x) \u001b[38;5;241m!=\u001b[39m \u001b[38;5;28;43mself\u001b[39;49m\u001b[38;5;241;43m.\u001b[39;49m\u001b[43m_feature_map\u001b[49m\u001b[38;5;241;43m.\u001b[39;49m\u001b[43mnum_parameters\u001b[49m:\n\u001b[1;32m    309\u001b[0m     \u001b[38;5;28;01mraise\u001b[39;00m \u001b[38;5;167;01mValueError\u001b[39;00m(\n\u001b[1;32m    310\u001b[0m         \u001b[38;5;124m\"\u001b[39m\u001b[38;5;124mx and class feature map incompatible dimensions.\u001b[39m\u001b[38;5;130;01m\\n\u001b[39;00m\u001b[38;5;124m\"\u001b[39m\n\u001b[1;32m    311\u001b[0m         \u001b[38;5;124mf\u001b[39m\u001b[38;5;124m\"\u001b[39m\u001b[38;5;124mx has \u001b[39m\u001b[38;5;132;01m{\u001b[39;00m\u001b[38;5;28mlen\u001b[39m(x)\u001b[38;5;132;01m}\u001b[39;00m\u001b[38;5;124m dimensions, but feature map has \u001b[39m\u001b[38;5;132;01m{\u001b[39;00m\u001b[38;5;28mself\u001b[39m\u001b[38;5;241m.\u001b[39m_feature_map\u001b[38;5;241m.\u001b[39mnum_parameters\u001b[38;5;132;01m}\u001b[39;00m\u001b[38;5;124m.\u001b[39m\u001b[38;5;124m\"\u001b[39m\n\u001b[1;32m    312\u001b[0m     )\n\u001b[1;32m    314\u001b[0m q \u001b[38;5;241m=\u001b[39m QuantumRegister(\u001b[38;5;28mself\u001b[39m\u001b[38;5;241m.\u001b[39m_feature_map\u001b[38;5;241m.\u001b[39mnum_qubits, \u001b[38;5;124m\"\u001b[39m\u001b[38;5;124mq\u001b[39m\u001b[38;5;124m\"\u001b[39m)\n",
      "\u001b[0;31mAttributeError\u001b[0m: 'ellipsis' object has no attribute 'num_parameters'"
     ]
    }
   ],
   "source": [
    "q_kernel = QuantumKernel(feature_map=feature_map, quantum_instance=Aer.get_backend('statevector_simulator'))\n",
    "\n",
    "qc_circuit = q_kernel.construct_circuit(norm_train_data[0], norm_train_data[1])\n",
    "qc_circuit.decompose().decompose().draw('mpl')"
   ]
  },
  {
   "cell_type": "markdown",
   "id": "383e4410",
   "metadata": {
    "pycharm": {
     "name": "#%% md\n"
    },
    "tags": [
     "raises-exception",
     "remove-output"
    ]
   },
   "source": [
    "QuantumKernelを使うと、カーネル行列を直接書き出して見ることも容易にできます。学習データから求めたカーネル行列と、学習データとテストデータから計算したカーネル行列をプロットしてみます。"
   ]
  },
  {
   "cell_type": "code",
   "execution_count": 7,
   "id": "2db64e67",
   "metadata": {
    "jupyter": {
     "outputs_hidden": false
    },
    "pycharm": {
     "name": "#%%\n"
    },
    "tags": [
     "raises-exception",
     "remove-output"
    ]
   },
   "outputs": [
    {
     "ename": "AttributeError",
     "evalue": "'ellipsis' object has no attribute 'num_parameters'",
     "output_type": "error",
     "traceback": [
      "\u001b[0;31m---------------------------------------------------------------------------\u001b[0m",
      "\u001b[0;31mAttributeError\u001b[0m                            Traceback (most recent call last)",
      "Input \u001b[0;32mIn [7]\u001b[0m, in \u001b[0;36m<cell line: 1>\u001b[0;34m()\u001b[0m\n\u001b[0;32m----> 1\u001b[0m matrix_train \u001b[38;5;241m=\u001b[39m \u001b[43mq_kernel\u001b[49m\u001b[38;5;241;43m.\u001b[39;49m\u001b[43mevaluate\u001b[49m\u001b[43m(\u001b[49m\u001b[43mx_vec\u001b[49m\u001b[38;5;241;43m=\u001b[39;49m\u001b[43mnorm_train_data\u001b[49m\u001b[43m)\u001b[49m\n\u001b[1;32m      2\u001b[0m matrix_test \u001b[38;5;241m=\u001b[39m q_kernel\u001b[38;5;241m.\u001b[39mevaluate(x_vec\u001b[38;5;241m=\u001b[39mnorm_test_data, y_vec\u001b[38;5;241m=\u001b[39mnorm_train_data)\n\u001b[1;32m      4\u001b[0m fig, axs \u001b[38;5;241m=\u001b[39m plt\u001b[38;5;241m.\u001b[39msubplots(\u001b[38;5;241m1\u001b[39m, \u001b[38;5;241m2\u001b[39m, figsize\u001b[38;5;241m=\u001b[39m(\u001b[38;5;241m10\u001b[39m, \u001b[38;5;241m5\u001b[39m))\n",
      "File \u001b[0;32m/usr/local/lib/python3.8/dist-packages/qiskit_machine_learning/kernels/quantum_kernel.py:424\u001b[0m, in \u001b[0;36mQuantumKernel.evaluate\u001b[0;34m(self, x_vec, y_vec)\u001b[0m\n\u001b[1;32m    418\u001b[0m \u001b[38;5;28;01mif\u001b[39;00m y_vec \u001b[38;5;129;01mis\u001b[39;00m \u001b[38;5;129;01mnot\u001b[39;00m \u001b[38;5;28;01mNone\u001b[39;00m \u001b[38;5;129;01mand\u001b[39;00m y_vec\u001b[38;5;241m.\u001b[39mshape[\u001b[38;5;241m1\u001b[39m] \u001b[38;5;241m!=\u001b[39m x_vec\u001b[38;5;241m.\u001b[39mshape[\u001b[38;5;241m1\u001b[39m]:\n\u001b[1;32m    419\u001b[0m     \u001b[38;5;28;01mraise\u001b[39;00m \u001b[38;5;167;01mValueError\u001b[39;00m(\n\u001b[1;32m    420\u001b[0m         \u001b[38;5;124m\"\u001b[39m\u001b[38;5;124mx_vec and y_vec have incompatible dimensions.\u001b[39m\u001b[38;5;130;01m\\n\u001b[39;00m\u001b[38;5;124m\"\u001b[39m\n\u001b[1;32m    421\u001b[0m         \u001b[38;5;124mf\u001b[39m\u001b[38;5;124m\"\u001b[39m\u001b[38;5;124mx_vec has \u001b[39m\u001b[38;5;132;01m{\u001b[39;00mx_vec\u001b[38;5;241m.\u001b[39mshape[\u001b[38;5;241m1\u001b[39m]\u001b[38;5;132;01m}\u001b[39;00m\u001b[38;5;124m dimensions, but y_vec has \u001b[39m\u001b[38;5;132;01m{\u001b[39;00my_vec\u001b[38;5;241m.\u001b[39mshape[\u001b[38;5;241m1\u001b[39m]\u001b[38;5;132;01m}\u001b[39;00m\u001b[38;5;124m.\u001b[39m\u001b[38;5;124m\"\u001b[39m\n\u001b[1;32m    422\u001b[0m     )\n\u001b[0;32m--> 424\u001b[0m \u001b[38;5;28;01mif\u001b[39;00m x_vec\u001b[38;5;241m.\u001b[39mshape[\u001b[38;5;241m1\u001b[39m] \u001b[38;5;241m!=\u001b[39m \u001b[38;5;28;43mself\u001b[39;49m\u001b[38;5;241;43m.\u001b[39;49m\u001b[43m_feature_map\u001b[49m\u001b[38;5;241;43m.\u001b[39;49m\u001b[43mnum_parameters\u001b[49m:\n\u001b[1;32m    425\u001b[0m     \u001b[38;5;28;01mtry\u001b[39;00m:\n\u001b[1;32m    426\u001b[0m         \u001b[38;5;28mself\u001b[39m\u001b[38;5;241m.\u001b[39m_feature_map\u001b[38;5;241m.\u001b[39mnum_qubits \u001b[38;5;241m=\u001b[39m x_vec\u001b[38;5;241m.\u001b[39mshape[\u001b[38;5;241m1\u001b[39m]\n",
      "\u001b[0;31mAttributeError\u001b[0m: 'ellipsis' object has no attribute 'num_parameters'"
     ]
    }
   ],
   "source": [
    "matrix_train = q_kernel.evaluate(x_vec=norm_train_data)\n",
    "matrix_test = q_kernel.evaluate(x_vec=norm_test_data, y_vec=norm_train_data)\n",
    "\n",
    "fig, axs = plt.subplots(1, 2, figsize=(10, 5))\n",
    "axs[0].imshow(np.asmatrix(matrix_train), interpolation='nearest', origin='upper', cmap='Blues')\n",
    "axs[0].set_title(\"training kernel matrix\")\n",
    "axs[1].imshow(np.asmatrix(matrix_test), interpolation='nearest', origin='upper', cmap='Reds')\n",
    "axs[1].set_title(\"validation kernel matrix\")\n",
    "plt.show()"
   ]
  },
  {
   "cell_type": "markdown",
   "id": "8a28e25a",
   "metadata": {
    "pycharm": {
     "name": "#%% md\n"
    },
    "tags": [
     "raises-exception",
     "remove-output"
    ]
   },
   "source": [
    "最後に、sklearnパッケージに実装されているサポートベクターマシンを使って分類を行います。量子回路学習の場合と同様に、データサイズや特徴量マップを変えるなどして分類精度がどう変わるかなど、調べてみてください。"
   ]
  },
  {
   "cell_type": "code",
   "execution_count": 8,
   "id": "2a601b14",
   "metadata": {
    "jupyter": {
     "outputs_hidden": false
    },
    "pycharm": {
     "name": "#%%\n"
    },
    "tags": [
     "raises-exception",
     "remove-output"
    ]
   },
   "outputs": [
    {
     "ename": "NameError",
     "evalue": "name 'matrix_train' is not defined",
     "output_type": "error",
     "traceback": [
      "\u001b[0;31m---------------------------------------------------------------------------\u001b[0m",
      "\u001b[0;31mNameError\u001b[0m                                 Traceback (most recent call last)",
      "Input \u001b[0;32mIn [8]\u001b[0m, in \u001b[0;36m<cell line: 2>\u001b[0;34m()\u001b[0m\n\u001b[1;32m      1\u001b[0m qc_svc \u001b[38;5;241m=\u001b[39m SVC(kernel\u001b[38;5;241m=\u001b[39m\u001b[38;5;124m'\u001b[39m\u001b[38;5;124mprecomputed\u001b[39m\u001b[38;5;124m'\u001b[39m)\n\u001b[0;32m----> 2\u001b[0m qc_svc\u001b[38;5;241m.\u001b[39mfit(\u001b[43mmatrix_train\u001b[49m, train_label)\n\u001b[1;32m      4\u001b[0m train_score \u001b[38;5;241m=\u001b[39m qc_svc\u001b[38;5;241m.\u001b[39mscore(matrix_train, train_label)\n\u001b[1;32m      5\u001b[0m test_score \u001b[38;5;241m=\u001b[39m qc_svc\u001b[38;5;241m.\u001b[39mscore(matrix_test, test_label)\n",
      "\u001b[0;31mNameError\u001b[0m: name 'matrix_train' is not defined"
     ]
    }
   ],
   "source": [
    "qc_svc = SVC(kernel='precomputed')\n",
    "qc_svc.fit(matrix_train, train_label)\n",
    "\n",
    "train_score = qc_svc.score(matrix_train, train_label)\n",
    "test_score = qc_svc.score(matrix_test, test_label)\n",
    "\n",
    "print(f'Precomputed kernel: Classification Train score: {train_score*100}%')\n",
    "print(f'Precomputed kernel: Classification Test score:  {test_score*100}%')"
   ]
  },
  {
   "cell_type": "markdown",
   "id": "32f60840",
   "metadata": {
    "pycharm": {
     "name": "#%% md\n"
    },
    "tags": [
     "raises-exception",
     "remove-output"
    ]
   },
   "source": [
    "**提出するもの**\n",
    "- 選んだ特徴量マップの説明とその量子回路\n",
    "- カーネル行列要素を計算するための量子回路\n",
    "- サポートベクターマシンを使った分類結果に対する考察"
   ]
  },
  {
   "cell_type": "markdown",
   "id": "4de29e1a",
   "metadata": {
    "pycharm": {
     "name": "#%% md\n"
    }
   },
   "source": [
    "## 参考文献\n",
    "\n",
    "```{bibliography}\n",
    ":filter: docname in docnames\n",
    "```"
   ]
  },
  {
   "cell_type": "code",
   "execution_count": null,
   "id": "fceb4b8c",
   "metadata": {
    "jupyter": {
     "outputs_hidden": false
    },
    "pycharm": {
     "name": "#%%\n"
    }
   },
   "outputs": [],
   "source": []
  }
 ],
 "metadata": {
  "jupytext": {
   "notebook_metadata_filter": "all",
   "text_representation": {
    "extension": ".md",
    "format_name": "myst",
    "format_version": 0.13,
    "jupytext_version": "1.11.5"
   }
  },
  "kernelspec": {
   "display_name": "Python 3 (ipykernel)",
   "language": "python",
   "name": "python3"
  },
  "language_info": {
   "codemirror_mode": {
    "name": "ipython",
    "version": 3
   },
   "file_extension": ".py",
   "mimetype": "text/x-python",
   "name": "python",
   "nbconvert_exporter": "python",
   "pygments_lexer": "ipython3",
   "version": "3.8.10"
  },
  "source_map": [
   25,
   29,
   42,
   61,
   77,
   94,
   113,
   122,
   151,
   212,
   219,
   239,
   246,
   266,
   270,
   288,
   292,
   308,
   312,
   333,
   337,
   357,
   364,
   372
  ]
 },
 "nbformat": 4,
 "nbformat_minor": 5
}