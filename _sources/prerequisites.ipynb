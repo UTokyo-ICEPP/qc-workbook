{
 "cells": [
  {
   "cell_type": "markdown",
   "id": "0e9feb31",
   "metadata": {},
   "source": [
    "# 実習の準備\n",
    "\n",
    "```{contents} 目次\n",
    "---\n",
    "local: true\n",
    "---\n",
    "```"
   ]
  },
  {
   "cell_type": "markdown",
   "id": "e4a8948e",
   "metadata": {},
   "source": [
    "## IBM Quantum\n",
    "\n",
    "### IBMidを取得し、IBM Quantumにログインする\n",
    "\n",
    "IBM Quantumを利用するには、IBMidというアカウントを作り、サービストークンを取得する必要があります。<a href=\"https://quantum-computing.ibm.com/\">IBM Quantum</a>ウェブサイトからIDを取得し、サービスにログインしてください。\n",
    "\n",
    "(install_token)=\n",
    "### （ローカル環境）IBM Quantum APIトークンを取得し、Qiskit設定に保存する\n",
    "\n",
    "IBM Quantum Lab（IBM Quantumウェブサイト上のJupyter Lab）でプログラムを実行する場合、以下の手続きは不要です。\n",
    "\n",
    "ログインしたらホーム画面のYour API tokenという欄からトークンをコピーできます。\n",
    "```{image} figs/ibmq_home.png\n",
    ":height: 400px\n",
    ":name: My Account\n",
    "```\n",
    "\n",
    "アカウントごとに発行されるサービストークンは、ユーザー名＋パスワードの代わりとしてPythonプログラム中でIBMQに接続するために使用されます。ローカルディスクに書き込める環境にある場合は、一度トークンを設定ファイルに保存することで、以降の認証を自動化できます。下のコードセルの`__paste_your_token_here__`のところにIBM Quantumからコピーしたトークンを貼り付け、実行してください。"
   ]
  },
  {
   "cell_type": "code",
   "execution_count": 1,
   "id": "441bb7ed",
   "metadata": {
    "tags": [
     "raises-exception",
     "remove-output"
    ]
   },
   "outputs": [
    {
     "ename": "ModuleNotFoundError",
     "evalue": "No module named 'qiskit_ibm_provider'",
     "output_type": "error",
     "traceback": [
      "\u001b[0;31m---------------------------------------------------------------------------\u001b[0m",
      "\u001b[0;31mModuleNotFoundError\u001b[0m                       Traceback (most recent call last)",
      "Input \u001b[0;32mIn [1]\u001b[0m, in \u001b[0;36m<cell line: 1>\u001b[0;34m()\u001b[0m\n\u001b[0;32m----> 1\u001b[0m \u001b[38;5;28;01mfrom\u001b[39;00m \u001b[38;5;21;01mqiskit_ibm_provider\u001b[39;00m \u001b[38;5;28;01mimport\u001b[39;00m IBMProvider\n\u001b[1;32m      3\u001b[0m IBMProvider\u001b[38;5;241m.\u001b[39msave_account(\u001b[38;5;124m'\u001b[39m\u001b[38;5;124m__paste_your_token_here__\u001b[39m\u001b[38;5;124m'\u001b[39m)\n",
      "\u001b[0;31mModuleNotFoundError\u001b[0m: No module named 'qiskit_ibm_provider'"
     ]
    }
   ],
   "source": [
    "from qiskit_ibm_provider import IBMProvider\n",
    "\n",
    "IBMProvider.save_account('__paste_your_token_here__')"
   ]
  },
  {
   "cell_type": "markdown",
   "id": "51131549",
   "metadata": {},
   "source": [
    "トークンを保存することで、プログラム中でのIBM Quantumへの認証（IBMProviderの取得）は\n",
    "\n",
    "```{code-block} python\n",
    "from qiskit_ibm_provider import IBMProvider\n",
    "\n",
    "provider = IBMProvider()\n",
    "```\n",
    "\n",
    "のようになります。ちなみにIBM Quantum Labでは最初からトークンが保存されている状態なので、このコードで認証が行なえます。\n",
    "\n",
    "ローカルディスクに書き込める環境でない場合（このワークブックをインタラクティブに使っている場合など）は、Pythonプログラムを実行するたびに（Jupyterのカーネルを再起動するたびに）手動で認証を行う必要があります。\n",
    "\n",
    "```{code-block} python\n",
    "from qiskit_ibm_provider import IBMProvider\n",
    "\n",
    "provider = IBMProvider(token='__paste_your_token_here__')\n",
    "```\n",
    "\n",
    "## ワークブックの使い方\n",
    "\n",
    "### インタラクティブHTML\n",
    "\n",
    "このワークブックの各ページにあるプログラムの書かれたセルは、そのまま<a href=\"https://jupyter.org/\" target=\"_blank\">Jupyter Notebook</a>のようにブラウザ上で実行することができます。ページの右上の<i class=\"fas fa-rocket\"></i>にカーソルを乗せ、現れるメニューから<span style=\"background-color:#5a5a5a; color:white; font-family:Lato, sans-serif; font-weight:400; font-size:15px;\"><i class=\"fas fa-play\" style=\"margin-left: .4em;\"></i> <span style=\"margin: 0 .4em 0 .4em;\">Live Code</span></span>をクリックしてください。ページのタイトルの下にステータス表示が現れるので、<span style=\"color: green; font-family: monospace; font-weight: bold; font-size: 1em;\">ready</span>と表示されるまで待ちます。\n",
    "\n",
    "```{image} figs/toggle_interactive.jpg\n",
    ":height: 400px\n",
    ":name: Turn interactive contents on\n",
    "```\n",
    "\n",
    "ページがインタラクティブになると、コード・セルに<span style=\"background-color:#dddddd; font-family:'Roboto', sans-serif; margin:0 1em 0 1em;\">run</span>および<span style=\"background-color:#dddddd; font-family:'Roboto', sans-serif; margin:0 1em 0 1em;\">restart</span>というボタンが現れ、直下にセルの出力が表示されるようになります。\n",
    "\n",
    "```{image} figs/interactive_cell.jpg\n",
    ":height: 200px\n",
    ":name: Interactive code cell\n",
    "```\n",
    "\n",
    "この状態になったら、入力セルの内容を自由に書き換えて、runボタンをクリックして（もしくはShift + Enterで）Pythonコードを実行することができます。このときいくつか注意すべき点があります。\n",
    "\n",
    "- restartを押すまでページ全体が一つのプログラムになっているので、定義された変数などはセルをまたいで利用される。\n",
    "- しばらく何もしないでページを放置していると、実行サーバーとの接続が切れてしまう。その場合ページを再度読み込んで、改めてインタラクティブコンテンツを起動する必要がある。\n",
    "- コードは<a href=\"https://mybinder.org/\" target=\"_blank\">mybinder.org</a>という外部サービス上で実行されるので、個人情報等センシティブな内容の送信は極力避ける。<br/>\n",
    "  （通信は暗号化されていて、mybinder.org中ではそれぞれのユーザーのプログラムは独立のコンテナ中で動くので、情報が外に筒抜けということではないはずですが、念の為。）<br/>\n",
    "  ただし上で出てきたように、IBM Quantumのサービストークンだけはどうしても送信する必要があります。\n",
    "\n",
    "### Jupyter Notebook\n",
    "\n",
    "インタラクティブHTMLのセキュリティの問題が気になったり、編集したコードを保存したいと考えたりする場合は、ページの元になったノートブックファイルをダウンロードし、自分のローカルの環境で実行することもできます。右上の<i class=\"fas fa-download\"></i>のメニューの<span style=\"background-color:#5a5a5a; color:white; font-family:Lato, sans-serif; font-weight:400; font-size:15px;\"><span style=\"margin: 0 .4em 0 .4em;\">.ipynb</span></span>をクリックするか、もしくは<i class=\"fab fa-github\"></i>のメニューの<span style=\"background-color:#5a5a5a; color:white; font-family:Lato, sans-serif; font-weight:400; font-size:15px;\"><span style=\"margin: 0 .4em 0 .4em;\">repository</span></span>からリンクされている<a href=\"https://github.com/UTokyo-ICEPP/qc-workbook\" target=\"_blank\">githubレポジトリ</a>をクローンしてください。\n",
    "\n",
    "ノートブックをローカルに実行するためには、Pythonバージョン3.8以上が必要です。また、`pip`を使って以下のパッケージをインストールする必要があります。\n",
    "\n",
    "```{code-block}\n",
    "pip install qiskit qiskit-ibm-provider qiskit-ibm-runtime matplotlib pylatexenc tabulate\n",
    "```"
   ]
  }
 ],
 "metadata": {
  "jupytext": {
   "notebook_metadata_filter": "all",
   "text_representation": {
    "extension": ".md",
    "format_name": "myst",
    "format_version": 0.13,
    "jupytext_version": "1.14.5"
   }
  },
  "kernelspec": {
   "display_name": "Python 3 (ipykernel)",
   "language": "python",
   "name": "python3"
  },
  "language_info": {
   "codemirror_mode": {
    "name": "ipython",
    "version": 3
   },
   "file_extension": ".py",
   "mimetype": "text/x-python",
   "name": "python",
   "nbconvert_exporter": "python",
   "pygments_lexer": "ipython3",
   "version": "3.8.10"
  },
  "source_map": [
   23,
   33,
   54,
   60
  ]
 },
 "nbformat": 4,
 "nbformat_minor": 5
}