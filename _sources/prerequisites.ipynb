{
 "cells": [
  {
   "cell_type": "markdown",
   "metadata": {},
   "source": [
    "# 実習の準備\n",
    "\n",
    "```{contents} 目次\n",
    "---\n",
    "local: true\n",
    "---\n",
    "```"
   ]
  },
  {
   "cell_type": "markdown",
   "metadata": {},
   "source": [
    "## 予備知識：Python\n",
    "\n",
    "### 基礎\n",
    "\n",
    "Pythonに関する教材は世の中にいくらでもあるので、基礎的な部分は各自で予習してきてください。具体的には、言語に関しては\n",
    "\n",
    "- forループ\n",
    "- if文\n",
    "- 関数の定義\n",
    "- listとdict\n",
    "- オブジェクトとは何か\n",
    "\n",
    "がわかれば十分です。加えて、`numpy`というライブラリを多用するので、そちらについても簡単に予習してください。\n",
    "\n",
    "- 配列の作り方（`np.array`, `np.zeros`, `np.arange`など）\n",
    "- 各種演算（`sin`, `cos`, `log`）などが配列だけでなく通常の数にも使えて、`numpy`が`math`モジュールの代わりにもなること\n",
    "\n",
    "などがわかれば実習中のコードが理解できるはずです。\n",
    "\n",
    "### Qiskit\n",
    "\n",
    "最初のパッケージQiskitがIBMの提供する量子コンピューティング用のライブラリで、実習は全てこれを利用します。実習中、Qiskitに関して何をしているかわからないときは、質問をするか[Qiskitのドキュメンテーション](https://qiskit.org/documentation/)を参照してください。"
   ]
  },
  {
   "cell_type": "markdown",
   "metadata": {},
   "source": [
    "## IBM Quantum Experience\n",
    "\n",
    "### IBMidを取得し、IBM Quantum Experienceにログインする\n",
    "\n",
    "IBM Q System Oneを利用するには、IBMidというアカウントを作り、サービストークンを取得する必要があります。[IBM Quantum Experience](https://quantum-computing.ibm.com/)ウェブサイトでIDを取得し、サービスにログインしてください。\n",
    "\n",
    "ログインしたらホーム画面のYour API tokenという欄からトークンをコピーできます。\n",
    "```{image} figs/ibmq_home.png\n",
    ":height: 400px\n",
    ":name: My Account\n",
    "```\n",
    "\n",
    "(qiskit_token)=\n",
    "### Qiskitにトークンを登録する\n",
    "\n",
    "アカウントごとに発行されるサービストークンは、ユーザー名＋パスワードの代わりとしてPythonプログラム中でIBMQに接続するために使用されます。"
   ]
  },
  {
   "cell_type": "code",
   "execution_count": null,
   "metadata": {
    "tags": [
     "raises-exception",
     "remove-output"
    ]
   },
   "outputs": [],
   "source": [
    "from qiskit import IBMQ\n",
    "\n",
    "IBMQ.enable_account('__paste_your_token_here__')"
   ]
  },
  {
   "cell_type": "markdown",
   "metadata": {},
   "source": [
    "上のように`enable_account`を利用する場合は、Pythonプログラムを実行するたびに（Jupyter notebookのカーネルを再起動するたびに）認証を行います。\n",
    "\n",
    "ローカルディスクに書き込める環境にあれば、\n",
    "```{code-block} python\n",
    "IBMQ.save_account('__paste_your_token_here__')\n",
    "```\n",
    "とすることでトークンが保存され、以降はPythonプログラムを実行するたびに行う手続きが\n",
    "```{code-block} python\n",
    "IBMQ.load_account()\n",
    "```\n",
    "に変わります。\n",
    "\n",
    "## ワークブックの使い方\n",
    "\n",
    "### インタラクティブHTML\n",
    "\n",
    "このワークブックの各ページにあるプログラムの書かれたセルは、そのまま[Jupyter Notebook](https://jupyter.org/)のようにブラウザ上で実行することができます。ページの右上の<i class=\"fas fa-rocket\"></i>にカーソルを乗せ、現れるメニューから<span style=\"background-color:#5a5a5a; color:white; font-family:Lato, sans-serif; font-weight:400; font-size:15px;\"><i class=\"fas fa-play\" style=\"margin-left: .4em;\"></i> <span style=\"margin: 0 .4em 0 .4em;\">Live Code</span></span>をクリックしてください。ページのタイトルの下にステータス表示が現れるので、<span style=\"color: green; font-family: monospace; font-weight: bold; font-size: 1em;\">ready</span>と表示されるまで待ちます。\n",
    "\n",
    "```{image} figs/toggle_interactive.jpg\n",
    ":height: 400px\n",
    ":name: Turn interactive contents on\n",
    "```\n",
    "\n",
    "ページがインタラクティブになると、コード・セルに<span style=\"background-color:#dddddd; font-family:'Roboto', sans-serif; margin:0 1em 0 1em;\">run</span>および<span style=\"background-color:#dddddd; font-family:'Roboto', sans-serif; margin:0 1em 0 1em;\">restart</span>というボタンが現れ、直下にセルの出力が表示されるようになります。\n",
    "\n",
    "```{image} figs/interactive_cell.jpg\n",
    ":height: 200px\n",
    ":name: Interactive code cell\n",
    "```\n",
    "\n",
    "この状態になったら、入力セルの内容を自由に書き換えて、runボタンをクリックして（もしくはShift + Enterで）Pythonコードを実行することができます。このときいくつか注意すべき点があります。\n",
    "\n",
    "- restartを押すまでページ全体が一つのプログラムになっているので、定義された変数などはセルをまたいで利用される。\n",
    "- しばらく何もしないでページを放置していると、実行サーバーとの接続が切れてしまう。その場合ページを再度読み込んで、改めてインタラクティブコンテンツを起動する必要がある。\n",
    "- コードは[mybinder.org](https://mybinder.org/)という外部サービス上で実行されるので、個人情報等センシティブな内容の送信は極力避ける。<br/>\n",
    "  （通信は暗号化されていて、mybinder.org中ではそれぞれのユーザーのプログラムは独立のコンテナ中で動くので、情報が外に筒抜けということではないはずですが、念の為。）<br/>\n",
    "  ただし上で出てきたように、IBM Quantum Experienceのサービストークンだけはどうしても送信する必要があります。\n",
    "  \n",
    "### Jupyter Notebook\n",
    "  \n",
    "インタラクティブHTMLのセキュリティの問題が気になったり、編集したコードを保存したいと考えたりする場合は、ページの元になったノートブックファイルをダウンロードし、自分のローカルの環境で実行することもできます。右上の<i class=\"fas fa-download\"></i>のメニューの<span style=\"background-color:#5a5a5a; color:white; font-family:Lato, sans-serif; font-weight:400; font-size:15px;\"><span style=\"margin: 0 .4em 0 .4em;\">.ipynb</span></span>をクリックするか、もしくは<i class=\"fab fa-github\"></i>のメニューの<span style=\"background-color:#5a5a5a; color:white; font-family:Lato, sans-serif; font-weight:400; font-size:15px;\"><span style=\"margin: 0 .4em 0 .4em;\">repository</span></span>からリンクされている[githubレポジトリ](https://github.com/UTokyo-ICEPP/qc-workbook)をクローンしてください。\n",
    "\n",
    "ノートブックをローカルに実行するためには、Pythonバージョン3.8以上が必要です。また、`pip`を使って以下のパッケージをインストールする必要があります。\n",
    "\n",
    "```{code-block}\n",
    "pip install qiskit matplotlib pylatexenc tabulate\n",
    "```"
   ]
  }
 ],
 "metadata": {
  "kernelspec": {
   "display_name": "Python 3",
   "language": "python",
   "name": "python3"
  },
  "language_info": {
   "codemirror_mode": {
    "name": "ipython",
    "version": 3
   },
   "file_extension": ".py",
   "mimetype": "text/x-python",
   "name": "python",
   "nbconvert_exporter": "python",
   "pygments_lexer": "ipython3",
   "version": "3.8.5"
  }
 },
 "nbformat": 4,
 "nbformat_minor": 4
}
