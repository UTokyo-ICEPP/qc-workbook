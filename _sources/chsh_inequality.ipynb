{
 "cells": [
  {
   "cell_type": "markdown",
   "id": "a688f054",
   "metadata": {},
   "source": [
    "# CHSH不等式の破れを確認する"
   ]
  },
  {
   "cell_type": "markdown",
   "id": "63baf3f1",
   "metadata": {},
   "source": [
    "この最初の実習では、量子コンピュータにおいて量子力学的状態、特に「**エンタングルメント**」が実現しているか検証してみましょう。実習を通じて量子力学の概念と量子コンピューティングの基礎を紹介していきます。\n",
    "\n",
    "```{contents} 目次\n",
    "---\n",
    "local: true\n",
    "---\n",
    "```\n",
    "\n",
    "$\\newcommand{\\ket}[1]{|#1\\rangle}$\n",
    "$\\newcommand{\\rmI}{\\mathrm{I}}$\n",
    "$\\newcommand{\\rmII}{\\mathrm{II}}$\n",
    "$\\newcommand{\\rmIII}{\\mathrm{III}}$\n",
    "$\\newcommand{\\rmIV}{\\mathrm{IV}}$"
   ]
  },
  {
   "cell_type": "markdown",
   "id": "a8e7cd0f",
   "metadata": {},
   "source": [
    "## 本当に量子コンピュータなのか？\n",
    "\n",
    "このワークブックの主旨が量子コンピュータ（QC）を使おう、ということですが、QCなんて数年前までSFの世界の存在でした。それが今やクラウドの計算リソースとして使えるというわけですが、ではそもそも私たちがこれから使おうとしている機械は本当にQCなのでしょうか。どうしたらそれが調べられるでしょうか。\n",
    "\n",
    "QCの基本的な仕組みは、「何らかの物理的な系（超電導共振器や冷却原子など）をうまく操作して、求める計算の結果がその系の量子状態に表現されるようにする」ということです。つまり、量子状態が長く保たれてかつ思うように操作できる対象と、「計算」という実体のなさそうなものを具体的な「量子操作」に対応させるアルゴリズムの両方があって初めてQCが成り立ちます。アルゴリズムの部分はこのワークブックを通じて少しずつ紹介していくので、今回は「量子状態が保たれ、それを操作できる」ということを確認してみましょう。"
   ]
  },
  {
   "cell_type": "markdown",
   "id": "81d5b428",
   "metadata": {},
   "source": [
    "## CHSH不等式\n",
    "\n",
    "量子力学的状態が実際に存在するかどうかを確かめる実験として、CHSH不等式{cite}`PhysRevLett.23.880,nielsen_chuang_epr`の検証というものがあります。かいつまんで言うと、CHSH不等式とは「二体系の特定の観測量について、エンタングルメントなど量子力学固有の現象がなければ保たれる不等式」です。やや回りくどいロジックですが、つまりQC（だと考えられる機械）で測ったこの観測量の値がCHSH不等式を破っていれば、その機械は実際に量子現象を利用しているかもしれないということになります。\n",
    "\n",
    "通常このような実験を行うには高度なセットアップ（レーザーと非線形結晶、冷却原子など）が必要ですが、クラウドQCではブラウザひとつしか要りません。このワークブックではJupyter NotebookでPythonのプログラムを書き、[IBM Quantum](https://quantum-computing.ibm.com/)を通じて[IBM Q System One](https://www.ibm.com/quantum-computing/systems/)量子コンピュータを利用します。"
   ]
  },
  {
   "cell_type": "markdown",
   "id": "998c791a",
   "metadata": {},
   "source": [
    "## Qiskitの基本構造\n",
    "\n",
    "IBM Q System OneのQCで量子計算を実行するには、IBMの提供する[Qiskit](https://qiskit.org/)というPythonライブラリを利用します。Qiskitの基本的な使い方は\n",
    "\n",
    "1. 使用する量子ビットの数を決め、量子計算の操作（ゲート）をかけて、量子回路を作る\n",
    "1. 回路を実行して計算結果を得る。ここでは二通りのオプションがあり、\n",
    "   - 回路をQCの実機に送り、実行させる。\n",
    "   - 回路をシミュレートする。\n",
    "1. 計算結果を解析する。\n",
    "\n",
    "です。以下でこの流れを一通り、重要な概念の説明を混ぜながら実行してみましょう。ただし、今回は実機のみ利用します。回路のシミュレーションに関しては{doc}`第一回の課題 <nonlocal_correlations>`を参照してください。\n",
    "\n",
    "Qiskitの機能は上のような基本的な量子回路の設計・実行だけではなく、非常に多岐に渡ります。基本的な使い方に関しても多少複雑なところがあるので、わからないことがあれば[Qiskitのドキュメンテーション](https://qiskit.org/documentation/)をあたってみましょう。"
   ]
  },
  {
   "cell_type": "markdown",
   "id": "9a55b548",
   "metadata": {},
   "source": [
    "### 量子ビット、量子レジスタ\n",
    "\n",
    "**量子ビット**（qubit=キュビット）とは量子コンピュータの基本構成要素のことで、量子情報の入れ物の最小単位です。そして、量子ビットの集まりを量子レジスタと呼びます。\n",
    "\n",
    "量子レジスタは量子コンピュータ中で常に一つの「状態」にあります。量子レジスタの状態を物理学の習わしに従ってしばしば「ケット」という$\\ket{\\psi}$のような記号で表します[^mixed_state]。量子力学に不慣れな方はこの記法で怯んでしまうかもしれませんが、ケット自体はただの記号なのであまり気にしないでください。別に「枠」なしで$\\psi$と書いても、絵文字を使って🔱と書いても、何でも構いません。\n",
    "\n",
    "重要なのは各量子ビットに対して2つの**基底状態**が定義できることで、量子計算の習わしではそれらを$\\ket{0}$と$\\ket{1}$で表し、「計算基底」とも呼びます[^basis]。そして、量子ビットの任意の状態は、2つの複素数$\\alpha, \\beta$を使って\n",
    "\n",
    "$$\n",
    "\\alpha \\ket{0} + \\beta \\ket{1}\n",
    "$$\n",
    "\n",
    "と2つの基底の「重ね合わせ」で表せます。ここで$\\alpha, \\beta$を確率振幅、もしくは単に**振幅**（amplitude）と呼びます。繰り返しですが別に表記法自体に深い意味はなく、例えば同じ状態を$[\\alpha, \\beta]$と書いてもいいわけです[^complexarray]。\n",
    "\n",
    "量子ビットの任意の状態が2つの複素数で表せるということは、逆に言えば一つの量子ビットには2つの複素数に相当する情報を記録できるということになります。ただこれには少し注釈があって、量子力学の決まりごとから、$\\alpha$と$\\beta$は\n",
    "\n",
    "$$\n",
    "|\\alpha|^2 + |\\beta|^2 = 1\n",
    "$$\n",
    "\n",
    "という関係を満たさなければならず、かつ全体の位相（global phase）は意味を持たない、つまり\n",
    "\n",
    "$$\n",
    "\\alpha \\ket{0} + \\beta \\ket{1} \\sim e^{i\\theta} (\\alpha \\ket{0} + \\beta \\ket{1})\n",
    "$$\n",
    "\n",
    "（ここで $\\sim$ は「同じ量子状態を表す」という意味）という制約があります。\n",
    "\n",
    "複素数1つは実数2つで書けるので、$\\alpha$と$\\beta$をあわせて実数4つ分の情報が入っているようですが、2つの拘束条件があるため、実際の自由度は 4-2=2 個です。自由度の数をあらわにして量子ビットの状態を記述するときは、\n",
    "\n",
    "$$\n",
    "e^{-i\\phi/2}\\cos\\frac{\\theta}{2}\\ket{0} + e^{i\\phi/2}\\sin\\frac{\\theta}{2}\\ket{1}\n",
    "$$\n",
    "\n",
    "と書いたりもします。この表記法をブロッホ球表現と呼ぶこともあります。\n",
    "\n",
    "面白くなるのは量子ビットが複数ある場合です。例えば量子ビット2つなら、それぞれに$\\ket{0}, \\ket{1}$の計算基底があるので、任意の状態は\n",
    "\n",
    "$$\n",
    "\\alpha \\ket{0}\\ket{0} + \\beta \\ket{0}\\ket{1} + \\gamma \\ket{1}\\ket{0} + \\delta \\ket{1}\\ket{1}\n",
    "$$\n",
    "\n",
    "と4つの複素数を使った重ね合わせになります。2つの量子ビットの基底を並べた$\\ket{0}\\ket{0}$のような状態が、このレジスタの計算基底ということになります。$\\ket{00}$と略したりもします。\n",
    "\n",
    "上で登場した量子力学の決まりごとはこの場合\n",
    "\n",
    "$$\n",
    "|\\alpha|^2 + |\\beta|^2 + |\\gamma|^2 + |\\delta|^2 = 1\n",
    "$$\n",
    "\n",
    "と\n",
    "\n",
    "$$\n",
    "\\alpha \\ket{00} + \\beta \\ket{01} + \\gamma \\ket{10} + \\delta \\ket{11} \\sim e^{i\\theta} (\\alpha \\ket{00} + \\beta \\ket{01} + \\gamma \\ket{10} + \\delta \\ket{11})\n",
    "$$\n",
    "\n",
    "となります。量子ビットがいくつあっても拘束条件は2つだけです。\n",
    "\n",
    "つまり、量子ビット$n$個のレジスタでは、基底の数が$2^n$個で、それぞれに複素数の振幅がかかるので、実数$2 \\times 2^n - 2$個分の情報が記録できることになります。これが量子計算に関して「指数関数的」という表現がよく用いられる所以です。\n",
    "\n",
    "量子レジスタの計算基底状態の表記法としては、上に書いたようにケットを$n$個並べたり$n$個の0/1を一つのケットの中に並べたりする方法がありますが、さらにコンパクトなのが、0/1の並び（ビット列）を二進数とみなして、対応する（十進数の）数字で表現する方法です。例えば4量子ビットのレジスタで状態$\\ket{0000}$と$\\ket{1111}$はそれぞれ$\\ket{0}$と$\\ket{15}$と書けます。\n",
    " \n",
    "ただし、ここで注意すべきなのは、左右端のどちらが「1の位」なのか事前に約束しないといけないことです。$\\ket{0100}$を$\\ket{4}$（右端が1の位）とするか$\\ket{2}$（左端が1の位）とするかは約束次第です。このワークブックでは、Qiskitでの定義に従って、右端を1の位とします。同時に、レジスタの最初の量子ビットが1の位に対応するようにしたいので、ケットや0/1を並べて計算基底を表現するときは、右から順にレジスタの量子ビットを並べていくことにします。\n",
    "\n",
    "Qiskitには量子レジスタオブジェクトがあり、\n",
    "```{code-block} python\n",
    "from qiskit import QuantumRegister\n",
    "register = QuantumRegister(4, 'myregister')\n",
    "```\n",
    "のように量子ビット数（この場合4）と名前（`'myregister'`）を指定して初期化します。初期状態では、量子ビットはすべて$\\ket{0}$状態にあります。レジスタオブジェクトはこのままではあまり使い道がなく、基本的には次に紹介する量子回路の一部として利用します。\n",
    "\n",
    "[^mixed_state]: 正確には、状態がケットで表せるのはこのレジスタが他のレジスタとエンタングルしていないときに限られますが、ここでは詳細を割愛します。\n",
    "[^basis]: ここで言う「基底」は線形代数での意味（basis）で、「線形空間中の任意のベクトルを要素の線形和で表せる最小の集合」です。基底となる量子状態だから「基底状態」と呼びます。化学や量子力学で言うところのエネルギーの最も低い状態「基底状態」（ground state）とは関係ありません。\n",
    "[^complexarray]: 実際に量子計算のシミュレーションをコンピュータ上で行う時などは、量子レジスタの状態を複素数の配列で表すので、この表記の方がよく対応します。"
   ]
  },
  {
   "cell_type": "markdown",
   "id": "1a90c31b",
   "metadata": {},
   "source": [
    "### ゲート、回路、測定\n",
    "\n",
    "量子計算とは、端的に言えば、量子レジスタに特定の状態を生成し、その振幅を利用することと言えます。\n",
    "\n",
    "とは言っても、いきなり「えいや」と好きな量子状態を作れるわけではなく、パターンの決まった単純操作（$\\ket{0}$と$\\ket{1}$を入れ替える、ブロッホ球表現での位相角度$\\phi$を増減させる、など）を順番に組み合わせて複雑な状態を作っていきます。この単純操作のオペレーションのことを一般に量子**ゲート**といい、ゲートの種類や順番を指定したプログラムに相当するものを量子**回路**と呼びます。\n",
    "\n",
    "Qiskitでは、量子回路を`QuantumCircuit`オブジェクトで表します。\n",
    "```{code-block} python\n",
    "from qiskit import QuantumCircuit, QuantumRegister\n",
    "register = QuantumRegister(4, 'myregister')\n",
    "circuit = QuantumCircuit(register)\n",
    "```\n",
    "という具合です。\n",
    "\n",
    "作られた量子回路は、量子ビットの数が決まっているもののゲートが一つもない「空っぽ」の状態なので、そこにゲートをかけていきます。例えば下で説明するアダマールゲートをレジスタの2個目の量子ビットに作用させるには\n",
    "```{code-block} python\n",
    "circuit.h(register[1])\n",
    "```\n",
    "とします。\n",
    "\n",
    "上で「振幅を利用する」という曖昧な表現をしましたが、それはいろいろな利用の仕方があるからです。しかし、どんな方法であっても、必ず量子レジスタの**測定**という操作を行います。量子コンピュータから何かしらの情報を得るための唯一の方法が測定です。Qiskitでは`measure_all`というメソッドを使って測定を行います。\n",
    "```{code-block} python\n",
    "circuit.measure_all()\n",
    "```\n",
    " \n",
    "測定は量子レジスタの状態を「覗き見る」ような操作ですが、一回の測定操作で具体的に起きることは、各量子ビットに対して0もしくは1という値が得られるというだけです。つまり、量子状態が$2^n$個の計算基底の複雑な重ね合わせであったとしても、測定をすると一つの計算基底に対応するビット列が出てくるだけということになります。しかも、一度測定してしまった量子ビットはもう状態を変えてしまっていて、複雑な重ね合わせは失われてしまいます。\n",
    "\n",
    "ではこの「一つの計算基底」がどの基底なのかというと、実は特殊な場合を除いて決まっていません。全く同じ回路を繰り返し実行して測定すると、毎回ランダムにビット列が決まります。ただし、このランダムさには法則があって、**特定のビット列が得られる確率は、対応する計算基底の振幅の絶対値自乗**となっています。つまり、$n$ビットレジスタの状態$\\sum_{j=0}^{2^n-1} c_j \\ket{j}$があるとき、測定でビット列$k$が得られる確率は$|c_k|^2$です。根本的には、この確率の分布$|c_0|^2, |c_1|^2, \\dots, |c_{2^n-1}|^2$こそが量子計算の結果です。"
   ]
  },
  {
   "cell_type": "markdown",
   "id": "20e38dd6",
   "metadata": {},
   "source": [
    "### 量子計算結果の解析\n",
    "\n",
    "回路の実行と測定を何度も繰り返して、それぞれのビット列が現れる頻度を記録すれば、だんだん$|c_j|^2$の値がわかっていきます。例えば、2量子ビットの回路を1000回実行・測定して、ビット列00、01、10、11がそれぞれ246回、300回、103回、351回得られたとすれば、統計誤差を考慮して$|c_0|^2=0.24 \\pm 0.01$、$|c_1|^2=0.30 \\pm 0.01$、$|c_2|^2=0.11 \\pm 0.01$、$|c_3|^2=0.35 \\pm 0.01$という具合です。しかし、わかるのは$c_j$の絶対値だけで、複素位相については知る術なしです。どうもすっきりしませんが、これが量子コンピュータから情報を得る方法です。\n",
    "\n",
    "逆に、指数関数的な内部の情報量をうまく使って計算を行いつつ、測定という限定的な方法でも答えが読み出せるように工夫するのが、量子アルゴリズム設計の真髄ということになります。例えば理想的には、何か計算の答えが整数$k$であり、それを計算する回路の終状態が単純に$\\ket{k}$となるようであれば、一度の測定で答えがわかる（上でいった特殊な場合に相当）わけです。単純に$\\ket{k}$でなくても、重ね合わせ$\\sum_{j=0}^{2^n-1} c_j \\ket{j}$において$|c_k| \\gg |c_{j \\neq k}|$を実現できれば、数回の測定で答えが高確率でわかります。{doc}`shor`で紹介する位相推定アルゴリズムはその好例です。\n",
    "\n",
    "一度の測定で答えがわかるケースを除いて、基本的には多数回の試行から確率分布を推定することになるので、量子回路を量子コンピュータの実機やシミュレータに送って実行させる時には必ず繰り返し数（「ショット数」と呼びます）を指定します。ショット数$S$でビット列$k$が$n_k$回得られた時、$|c_k|^2$の推定値は$z_k = n_k/S$、その統計誤差は（$S, n_k, S-n_k$が全て十分大きい場合）$\\sqrt{z_k (1-z_k) / S}$で与えられます。"
   ]
  },
  {
   "cell_type": "markdown",
   "id": "42f37a27",
   "metadata": {},
   "source": [
    "(common_gates)=\n",
    "### よく使うゲート\n",
    "\n",
    "IBM Q System Oneのような超電導振動子を利用した量子コンピュータでは、実際に使用できるゲートは量子ビット1つにかかるものと2つにかかるものに限定されます。しかし、それらを十分な数組み合わせれば、$n$量子ビットレジスタにおいてどのような状態も実現できることが、数学的に証明されています。\n",
    "\n",
    "#### 1量子ビットの操作\n",
    "\n",
    "1量子ビットの操作でよく使われるゲートには、以下のようなものがあります。（表中コードの`i`, `j`は量子ビットの番号）\n",
    "\n",
    "```{list-table}\n",
    ":header-rows: 1\n",
    "* - ゲート名\n",
    "  - 説明\n",
    "  - Qiskitコード\n",
    "* - $X$\n",
    "  - $\\ket{0}$と$\\ket{1}$を入れ替える。\n",
    "  - `circuit.x(i)`\n",
    "* - $Z$\n",
    "  - $\\ket{1}$の振幅を$-1$倍する。\n",
    "  - `circuit.z(i)`\n",
    "* - $H$（アダマールゲート）\n",
    "  - 計算基底それぞれに対して、以下の変形をする。\n",
    "    ```{math}\n",
    "    H\\ket{0} = \\frac{1}{\\sqrt{2}} (\\ket{0} + \\ket{1}) \\\\\n",
    "    H\\ket{1} = \\frac{1}{\\sqrt{2}} (\\ket{0} - \\ket{1})\n",
    "    ```\n",
    "    （「量子状態にゲートを作用させる」ことをケットの記法で書くときは、ゲートに対応する記号をケットに左からかけます。）<br/>\n",
    "    例えば状態$\\ket{\\psi} = \\alpha\\ket{0} + \\beta\\ket{1}$に対しては、\n",
    "    ```{math}\n",
    "    \\begin{align}\n",
    "    H\\ket{\\psi} & = \\alpha \\frac{1}{\\sqrt{2}} (\\ket{0} + \\ket{1}) + \\beta \\frac{1}{\\sqrt{2}} (\\ket{0} - \\ket{1}) \\\\\n",
    "                & = \\frac{1}{\\sqrt{2}} (\\alpha + \\beta) \\ket{0} + \\frac{1}{\\sqrt{2}} (\\alpha - \\beta) \\ket{1}\n",
    "    \\end{align}\n",
    "    ```\n",
    "    となる。\n",
    "  - `circuit.h(i)`\n",
    "* - $R_{y}$\n",
    "  - パラメータ$\\theta$を取り、計算基底それぞれに対して、以下の変形をする。\n",
    "    ```{math}\n",
    "    R_{y}(\\theta)\\ket{0} = \\cos\\frac{\\theta}{2}\\ket{0} + \\sin\\frac{\\theta}{2}\\ket{1} \\\\\n",
    "    R_{y}(\\theta)\\ket{1} = -\\sin\\frac{\\theta}{2}\\ket{0} + \\cos\\frac{\\theta}{2}\\ket{1}\n",
    "    ```\n",
    "  - `circuit.ry(theta, i)`\n",
    "* - $R_{z}$\n",
    "  - パラメータ$\\phi$を取り、計算基底それぞれに対して、以下の変形をする。\n",
    "    ```{math}\n",
    "    R_{z}(\\phi)\\ket{0} = e^{-i\\phi/2}\\ket{0} \\\\\n",
    "    R_{z}(\\phi)\\ket{1} = e^{i\\phi/2}\\ket{1}\n",
    "  - `circuit.rz(phi, i)`\n",
    "```\n",
    "\n",
    "それでは、2量子ビットレジスタの第0ビットに$H, R_y, X$の順にゲートをかけて、最後に測定をする回路をQiskitで書いてみましょう。"
   ]
  },
  {
   "cell_type": "code",
   "execution_count": 1,
   "id": "0a969ae0",
   "metadata": {
    "tags": [
     "remove-output"
    ]
   },
   "outputs": [
    {
     "name": "stdout",
     "output_type": "stream",
     "text": [
      "notebook ready\n"
     ]
    }
   ],
   "source": [
    "# まずは必要になるpythonモジュールをすべてインポートしておく\n",
    "import numpy as np\n",
    "import matplotlib.pyplot as plt\n",
    "from qiskit import QuantumCircuit, IBMQ, transpile\n",
    "from qiskit.providers.ibmq import least_busy, IBMQAccountCredentialsNotFound\n",
    "from qiskit.tools.monitor import job_monitor\n",
    "from qiskit.visualization import plot_histogram\n",
    "# qc_workbookはこのワークブック独自のモジュール（インポートエラーが出る場合はPYTHONPATHを設定するか、sys.pathをいじってください）\n",
    "from qc_workbook.utils import operational_backend\n",
    "\n",
    "print('notebook ready')"
   ]
  },
  {
   "cell_type": "code",
   "execution_count": 2,
   "id": "aa5d8a96",
   "metadata": {},
   "outputs": [
    {
     "name": "stdout",
     "output_type": "stream",
     "text": [
      "This circuit has 2 qubits and 5 operations\n"
     ]
    }
   ],
   "source": [
    "circuit = QuantumCircuit(2) # レジスタを介さずビット数を指定して回路を作成することもできます\n",
    "circuit.h(0) # その場合、ゲートにはregister[0]ではなく直接量子ビットの番号を指定します\n",
    "circuit.ry(np.pi / 2., 0) #　θ = π/2\n",
    "circuit.x(0)\n",
    "# 実際の回路では出力を得るためには必ず最後に測定を行う\n",
    "circuit.measure_all()\n",
    "\n",
    "print(f'This circuit has {circuit.num_qubits} qubits and {circuit.size()} operations')"
   ]
  },
  {
   "cell_type": "markdown",
   "id": "eaafa725",
   "metadata": {},
   "source": [
    "最後のプリント文で、ゲートが3つなのにも関わらず \"5 operations\" と出てくるのは、各量子ビットの測定も一つのオペレーションとして数えられるからです。\n",
    "\n",
    "量子計算に慣れる目的で、この$H, R_y(\\pi/2), X$という順の操作で第0ビットに何が起こるかを辿ってみましょう。初期状態は$\\ket{0}$で、ケット記法では操作は左からかけていく（ゲート操作が右から順に並ぶ）ので、$X R_y(\\pi/2) H \\ket{0}$を計算することになります。\n",
    "\n",
    "$$\n",
    "\\begin{align}\n",
    "X R_y\\left(\\frac{\\pi}{2}\\right) H \\ket{0} & = X R_y\\left(\\frac{\\pi}{2}\\right) \\frac{1}{\\sqrt{2}}(\\ket{0} + \\ket{1}) \\\\\n",
    "& = \\frac{1}{\\sqrt{2}} X \\left[\\left(\\cos\\left(\\frac{\\pi}{4}\\right)\\ket{0} + \\sin\\left(\\frac{\\pi}{4}\\right)\\ket{1}\\right) + \\left(-\\sin\\left(\\frac{\\pi}{4}\\right)\\ket{0} + \\cos\\left(\\frac{\\pi}{4}\\right)\\ket{1}\\right)\\right] \\\\\n",
    "& = \\frac{1}{\\sqrt{2}} X \\frac{1}{\\sqrt{2}} \\left[\\left(\\ket{0} + \\ket{1}\\right) + \\left(-\\ket{0} + \\ket{1}\\right)\\right] \\\\\n",
    "& = X \\ket{1} \\\\\n",
    "& = \\ket{0}\n",
    "\\end{align}\n",
    "$$\n",
    "\n",
    "なので、結局$\\ket{0}$状態に戻る操作でした。\n",
    "\n",
    "#### 2量子ビットの操作\n",
    "\n",
    "2量子ビットの操作は、量子ビットの超電導素子での実装の都合上、全て「制御ゲート」（controlled gates）という方式で行われます。この方式では、2つのビットのうち片方を制御（control）、もう片方を標的（target）として、制御ビットが1の時だけ標的ビットに何らかの操作がかかります。\n",
    "\n",
    "例として、任意の1ビットゲート$U$を制御ゲート化した$C^i_j[U]$を考えます。ここで$i$が制御、$j$が標的ビットとします。ケットの添字でビットの番号を表して（reminder: 並べて書くときは右から順に番号を振ります）\n",
    "\n",
    "$$\n",
    "\\begin{align}\n",
    "C^1_0[U](\\ket{0}_1\\ket{0}_0) & = \\ket{0}_1\\ket{0}_0 \\\\\n",
    "C^1_0[U](\\ket{0}_1\\ket{1}_0) & = \\ket{0}_1\\ket{1}_0 \\\\\n",
    "C^1_0[U](\\ket{1}_1\\ket{0}_0) & = \\ket{1}_1U\\ket{0}_0 \\\\\n",
    "C^1_0[U](\\ket{1}_1\\ket{1}_0) & = \\ket{1}_1U\\ket{1}_0\n",
    "\\end{align}\n",
    "$$\n",
    "\n",
    "です。\n",
    "\n",
    "上で紹介した頻出する1ビットゲート$X, Z, H, R_y, R_z$のうち、$H$以外は制御ゲート化バージョンもよく使われます。特に$C[X]$はCXやCNOTとも呼ばれ、量子計算の基本要素として多様されます。実際、全ての2量子ビット制御ゲートはCNOTと1量子ビットゲートの組み合わせに分解できます。\n",
    "\n",
    "```{list-table}\n",
    ":header-rows: 1\n",
    "* - ゲート名\n",
    "  - 説明\n",
    "  - Qiskitコード\n",
    "* - $C^i_j[X]$, CX, CNOT\n",
    "  - ビット$i$が1である計算基底において、ビット$j$に$X$を作用させる。\n",
    "  - `circuit.cx(i, j)`\n",
    "* - $C^i_j[Z]$\n",
    "  - ビット$i, j$が1である計算基底の符号を反転させる。\n",
    "  - `circuit.cz(i, j)`\n",
    "* - $C^i_j[R_{y}]$\n",
    "  - パラメータ$\\theta$を取り、ビット$i$が1である計算基底において、ビット$j$に$R_y$を作用させる。\n",
    "  - `circuit.cry(theta, i, j)`\n",
    "* - $C^i_j[R_{z}]$\n",
    "  - パラメータ$\\phi$を取り、ビット$i$が1である計算基底において、ビット$j$に$R_z$を作用させる。\n",
    "  - `circuit.crz(phi, i, j)`\n",
    "```\n",
    "\n",
    "Qiskitで2ビットレジスタに制御ゲートを用い、計算基底$\\ket{0}, \\ket{1}, \\ket{2}, \\ket{3}$の振幅の絶対値自乗が$1:2:3:4$の比になるような状態を作ってみましょう。さらに$C^0_1[Z]$ゲートを使って$\\ket{3}$だけ振幅の符号が他と異なるようにします。"
   ]
  },
  {
   "cell_type": "code",
   "execution_count": 3,
   "id": "07d144bc",
   "metadata": {},
   "outputs": [
    {
     "name": "stdout",
     "output_type": "stream",
     "text": [
      "This circuit has 2 qubits and 6 operations\n"
     ]
    }
   ],
   "source": [
    "theta1 = 2. * np.arctan(np.sqrt(7. / 3.))\n",
    "theta2 = 2. * np.arctan(np.sqrt(2.))\n",
    "theta3 = 2. * np.arctan(np.sqrt(4. / 3))\n",
    "\n",
    "circuit = QuantumCircuit(2)\n",
    "circuit.ry(theta1, 1)\n",
    "circuit.ry(theta2, 0)\n",
    "circuit.cry(theta3 - theta2, 1, 0) # C[Ry]　1が制御で0が標的\n",
    "circuit.cz(0, 1) # C[Z] 0が制御で1が標的（実はC[Z]ではどちらが制御でも結果は同じ）\n",
    "circuit.measure_all()\n",
    "\n",
    "print(f'This circuit has {circuit.num_qubits} qubits and {circuit.size()} operations')"
   ]
  },
  {
   "cell_type": "markdown",
   "id": "b5eee2bf",
   "metadata": {},
   "source": [
    "やや複雑ですが、また計算を追ってみましょう。まず角度$\\theta_1, \\theta_2, \\theta_3$は定義から以下の関係を満たします。\n",
    "\n",
    "$$\n",
    "\\begin{align}\n",
    "R_y(\\theta_1)\\ket{0} & = \\sqrt{\\frac{3}{10}} \\ket{0} + \\sqrt{\\frac{7}{10}} \\ket{1} \\\\\n",
    "R_y(\\theta_2)\\ket{0} & = \\sqrt{\\frac{1}{3}} \\ket{0} + \\sqrt{\\frac{2}{3}} \\ket{1} \\\\\n",
    "R_y(\\theta_3 - \\theta_2)R_y(\\theta_2)\\ket{0} & = R_y(\\theta_3)\\ket{0} = \\sqrt{\\frac{3}{7}} \\ket{0} + \\sqrt{\\frac{4}{7}} \\ket{1}.\n",
    "\\end{align}\n",
    "$$\n",
    "\n",
    "したがって、\n",
    "\n",
    "$$\n",
    "\\begin{align}\n",
    "& C^1_0[R_y(\\theta_3 - \\theta_2)]R_{y1}(\\theta_1)R_{y0}(\\theta_2)\\ket{0}_1\\ket{0}_0 \\\\\n",
    "= & C^1_0[R_y(\\theta_3 - \\theta_2)]\\left(\\sqrt{\\frac{3}{10}} \\ket{0}_1 + \\sqrt{\\frac{7}{10}} \\ket{1}_1\\right) R_y(\\theta_2)\\ket{0}_0\\\\\n",
    "= & \\sqrt{\\frac{3}{10}} \\ket{0}_1 R_y(\\theta_2)\\ket{0}_0 + \\sqrt{\\frac{7}{10}} \\ket{1}_1 R_y(\\theta_3)\\ket{0}_0 \\\\\n",
    "= & \\sqrt{\\frac{3}{10}} \\ket{0}_1 \\left(\\sqrt{\\frac{1}{3}} \\ket{0}_0 + \\sqrt{\\frac{2}{3}} \\ket{1}_0\\right) + \\sqrt{\\frac{7}{10}} \\ket{1}_1 \\left(\\sqrt{\\frac{3}{7}} \\ket{0}_0 + \\sqrt{\\frac{4}{7}} \\ket{1}_0\\right) \\\\\n",
    "= & \\sqrt{\\frac{1}{10}} \\ket{00} + \\sqrt{\\frac{2}{10}} \\ket{01} + \\sqrt{\\frac{3}{10}} \\ket{10} + \\sqrt{\\frac{4}{10}} \\ket{11} \n",
    "\\end{align}\n",
    "$$\n",
    "\n",
    "最初の行で、ビット0と1にかかる$R_y$ゲートをそれぞれ$R_{y0}, R_{y1}$と表しました。\n",
    "\n",
    "最後に$C[Z]$をかけると、$\\ket{11}$だけ符号が反転します。"
   ]
  },
  {
   "cell_type": "markdown",
   "id": "c6755626",
   "metadata": {},
   "source": [
    "### 回路図の描き方と読み方\n",
    "\n",
    "量子回路を可視化する方法として、「回路図」の標準的な描き方が決まっています。Qiskitでは`QuantumCircuit`オブジェクトの`draw()`というメソッドを使って自動描画できます。"
   ]
  },
  {
   "cell_type": "code",
   "execution_count": 4,
   "id": "c9516bc6",
   "metadata": {},
   "outputs": [
    {
     "data": {
      "image/png": "[encoded data removed]",
      "text/plain": [
       "<Figure size 478.079x204.68 with 1 Axes>"
      ]
     },
     "execution_count": 4,
     "metadata": {
      "filenames": {
       "image/png": "/qc-workbook/build/ja/_build/jupyter_execute/chsh_inequality_15_0.png"
      }
     },
     "output_type": "execute_result"
    }
   ],
   "source": [
    "circuit.draw('mpl')"
   ]
  },
  {
   "cell_type": "markdown",
   "id": "fb4be743",
   "metadata": {},
   "source": [
    "　ここで`draw()`の引数`'mpl'`はmatplotlibライブラリを使ってカラーで描くことを指定しています。実行環境によっては対応していないこともあるので、その場合は引数なしの`draw()`を使います。結果は`mpl`の場合に比べて見劣りしますが、内容は同じです。"
   ]
  },
  {
   "cell_type": "code",
   "execution_count": 5,
   "id": "96c76724",
   "metadata": {},
   "outputs": [
    {
     "data": {
      "text/html": [
       "<pre style=\"word-wrap: normal;white-space: pre;background: #fff0;line-height: 1.1;font-family: &quot;Courier New&quot;,Courier,monospace\">        ┌────────────┐┌──────────────┐    ░ ┌─┐   \n",
       "   q_0: ┤ Ry(1.9106) ├┤ Ry(-0.19649) ├─■──░─┤M├───\n",
       "        ├────────────┤└──────┬───────┘ │  ░ └╥┘┌─┐\n",
       "   q_1: ┤ Ry(1.9823) ├───────■─────────■──░──╫─┤M├\n",
       "        └────────────┘                    ░  ║ └╥┘\n",
       "meas: 2/═════════════════════════════════════╩══╩═\n",
       "                                             0  1 </pre>"
      ],
      "text/plain": [
       "        ┌────────────┐┌──────────────┐    ░ ┌─┐   \n",
       "   q_0: ┤ Ry(1.9106) ├┤ Ry(-0.19649) ├─■──░─┤M├───\n",
       "        ├────────────┤└──────┬───────┘ │  ░ └╥┘┌─┐\n",
       "   q_1: ┤ Ry(1.9823) ├───────■─────────■──░──╫─┤M├\n",
       "        └────────────┘                    ░  ║ └╥┘\n",
       "meas: 2/═════════════════════════════════════╩══╩═\n",
       "                                             0  1 "
      ]
     },
     "execution_count": 5,
     "metadata": {},
     "output_type": "execute_result"
    }
   ],
   "source": [
    "circuit.draw()"
   ]
  },
  {
   "cell_type": "markdown",
   "id": "a702fdce",
   "metadata": {},
   "source": [
    "回路図は左から右に読んでいきます。水平の2本の実線が上からそれぞれ第0、第1量子ビットに対応し、その上にかぶさっている四角がゲート、最後にある矢印が下に伸びている箱が測定を表します。1ビットゲートから伸びている先端の丸い縦線は制御を表します。一番下の二重線は「古典レジスタ」（量子現象のない物理学を「古典物理学」と呼ぶので、量子でない通常のコンピュータにまつわる概念にはよく「古典 classical」という接頭辞をつけます）に対応し、測定結果の0/1が記録される部分です。"
   ]
  },
  {
   "cell_type": "markdown",
   "id": "b77edad2",
   "metadata": {},
   "source": [
    "## CHSH不等式を計算する回路を書く\n",
    "\n",
    "それではいよいよ本題に入りましょう。CHSH不等式を「ベル状態」$1/\\sqrt{2}(\\ket{00} + \\ket{11})$で検証します。ベル状態は「どちらの量子ビットについても$\\ket{0}$でも$\\ket{1}$でもない状態」つまり、全体としては一つの定まった（純粋）状態であるにも関わらず、部分を見ると純粋でない状態です。このような時、**二つの量子ビットはエンタングルしている**といいます。エンタングルメントの存在は量子力学の非常に重要な特徴です。\n",
    "\n",
    "ベル状態はアダマールゲートとCNOTゲートを組み合わせて作ります。詳しい説明は{doc}`課題 <nonlocal_correlations>`に譲りますが、CHSH不等式の検証用の観測量を作るために、4つの回路I, II, III, IVを使います。回路IとIIIでは量子ビット1に対し測定の直前に$R_y(-\\pi/4)$、IIとIVでは同様に$R_y(-3\\pi/4)$を作用させます。また回路IIIとIVでは量子ビット0に$R_y(-\\pi/2)$を同じく測定の直前に作用させます。4つの回路を一度にIBMQに送るので、`circuits`というリストに回路を足していきます。"
   ]
  },
  {
   "cell_type": "code",
   "execution_count": 6,
   "id": "f9787dd3",
   "metadata": {},
   "outputs": [
    {
     "data": {
      "image/png": "[encoded data removed]",
      "text/plain": [
       "<Figure size 864x432 with 4 Axes>"
      ]
     },
     "metadata": {
      "filenames": {
       "image/png": "/qc-workbook/build/ja/_build/jupyter_execute/chsh_inequality_20_0.png"
      }
     },
     "output_type": "display_data"
    }
   ],
   "source": [
    "circuits = []\n",
    "\n",
    "# 回路I - H, CX[0, 1], Ry(-π/4)[1]をかける\n",
    "circuit = QuantumCircuit(2, name='circuit_I')\n",
    "circuit.h(0)\n",
    "circuit.cx(0, 1)\n",
    "circuit.ry(-np.pi / 4., 1)\n",
    "circuit.measure_all()\n",
    "# 回路リストに追加\n",
    "circuits.append(circuit)\n",
    "\n",
    "# 回路II - H, CX[0, 1], Ry(-3π/4)[1]をかける\n",
    "circuit = QuantumCircuit(2, name='circuit_II')\n",
    "circuit.h(0)\n",
    "circuit.cx(0, 1)\n",
    "circuit.ry(-3. * np.pi / 4., 1)\n",
    "circuit.measure_all()\n",
    "# 回路リストに追加\n",
    "circuits.append(circuit)\n",
    "\n",
    "# 回路III - H, CX[0, 1], Ry(-π/4)[1], Ry(-π/2)[0]をかける\n",
    "circuit = QuantumCircuit(2, name='circuit_III')\n",
    "circuit.h(0)\n",
    "circuit.cx(0, 1)\n",
    "circuit.ry(-np.pi / 4., 1)\n",
    "circuit.ry(-np.pi / 2., 0)\n",
    "circuit.measure_all()\n",
    "# 回路リストに追加\n",
    "circuits.append(circuit)\n",
    "\n",
    "# 回路IV - H, CX[0, 1], Ry(-3π/4)[1], Ry(-π/2)[0]をかける\n",
    "circuit = QuantumCircuit(2, name='circuit_IV')\n",
    "circuit.h(0)\n",
    "circuit.cx(0, 1)\n",
    "circuit.ry(-3. * np.pi / 4., 1)\n",
    "circuit.ry(-np.pi / 2., 0)\n",
    "circuit.measure_all()\n",
    "# 回路リストに追加\n",
    "circuits.append(circuit)\n",
    "\n",
    "# draw()にmatplotlibのaxesオブジェクトを渡すと、そこに描画してくれる\n",
    "# 一つのノートブックセルで複数プロットしたい時などに便利\n",
    "fig, axs = plt.subplots(2, 2, figsize=[12., 6.])\n",
    "for circuit, ax in zip(circuits, axs.reshape(-1)):\n",
    "    circuit.draw('mpl', ax=ax)\n",
    "    ax.set_title(circuit.name)"
   ]
  },
  {
   "cell_type": "markdown",
   "id": "fbaa2a25",
   "metadata": {},
   "source": [
    "それぞれの回路で2ビットレジスタの基底$\\ket{00}, \\ket{01}, \\ket{10}, \\ket{11}$が現れる確率を計算してみましょう。\n",
    "\n",
    "回路Iの状態は\n",
    "\n",
    "$$\n",
    "\\begin{align}\n",
    "R_{y1}\\left(-\\frac{\\pi}{4}\\right) C^0_1[X] H_0 \\ket{0}_1\\ket{0}_0 = & R_{y1}\\left(-\\frac{\\pi}{4}\\right) \\frac{1}{\\sqrt{2}} (\\ket{0}_1\\ket{0}_0 + \\ket{1}_1\\ket{1}_0) \\\\\n",
    "= & \\frac{1}{\\sqrt{2}} \\big[(c\\ket{0}_1 - s\\ket{1}_1)\\ket{0}_0 + (s\\ket{0}_1 + c\\ket{1}_1)\\ket{1}_0\\big]\\\\\n",
    "= & \\frac{1}{\\sqrt{2}} (c\\ket{00} + s\\ket{01} - s\\ket{10} + c\\ket{11}).\n",
    "\\end{align}\n",
    "$$\n",
    "\n",
    "簡単のため$c = \\cos(\\pi/8), s = \\sin(\\pi/8)$とおきました。\n",
    "\n",
    "したがって回路Iでの確率$P^{\\rmI}_{l} \\, (l=00,01,10,11)$は\n",
    "\n",
    "$$\n",
    "P^{\\rmI}_{00} = P^{\\rmI}_{11} = \\frac{c^2}{2} \\\\\n",
    "P^{\\rmI}_{01} = P^{\\rmI}_{10} = \\frac{s^2}{2}\n",
    "$$\n",
    "\n",
    "同様に、回路IIの状態は\n",
    "\n",
    "```{math}\n",
    ":label: eqn-circuit1\n",
    "R_{y1}\\left(-\\frac{3\\pi}{4}\\right) \\frac{1}{\\sqrt{2}} (\\ket{0}_1\\ket{0}_0 + \\ket{1}_1\\ket{1}_0) = \\frac{1}{\\sqrt{2}} (s\\ket{00} + c\\ket{01} - c\\ket{10} + s\\ket{11})\n",
    "```\n",
    "\n",
    "で確率$P^{\\rmII}_{l}$は\n",
    "\n",
    "$$\n",
    "P^{\\rmII}_{00} = P^{\\rmII}_{11} = \\frac{s^2}{2} \\\\\n",
    "P^{\\rmII}_{01} = P^{\\rmII}_{10} = \\frac{c^2}{2}\n",
    "$$\n",
    "\n",
    "です。回路IIIの状態は\n",
    "\n",
    "$$\n",
    "\\begin{align}\n",
    "& R_{y1}\\left(-\\frac{\\pi}{4}\\right) R_{y0}\\left(-\\frac{\\pi}{2}\\right) \\frac{1}{\\sqrt{2}} (\\ket{0}_1\\ket{0}_0 + \\ket{1}_1\\ket{1}_0) \\\\\n",
    "= & \\frac{1}{\\sqrt{2}} \\left[ \\frac{1}{\\sqrt{2}} (c\\ket{0}_1 - s\\ket{1}_1) (\\ket{0}_0 - \\ket{1}_0) + \\frac{1}{\\sqrt{2}} (s\\ket{0}_1 + c\\ket{1}_1) (\\ket{0}_0 + \\ket{1}_0) \\right] \\\\\n",
    "= & \\frac{1}{2} \\big[ (s+c)\\ket{00} + (s-c)\\ket{01} - (s-c)\\ket{10} + (s+c)\\ket{11} \\big]\n",
    "\\end{align}\n",
    "$$\n",
    "\n",
    "で確率$P^{\\rmIII}_{l}$は\n",
    "\n",
    "$$\n",
    "P^{\\rmIII}_{00} = P^{\\rmIII}_{11} = \\frac{(s + c)^2}{4} \\\\\n",
    "P^{\\rmIII}_{01} = P^{\\rmIII}_{10} = \\frac{(s - c)^2}{4}\n",
    "$$\n",
    "\n",
    "同様に回路IVの状態と確率$P^{\\rmIV}_l$は\n",
    "\n",
    "$$\n",
    "\\begin{align}\n",
    "& R_{y1}\\left(-\\frac{3\\pi}{4}\\right) R_{y0}\\left(-\\frac{\\pi}{2}\\right) \\frac{1}{\\sqrt{2}} (\\ket{0}_1\\ket{0}_0 + \\ket{1}_1\\ket{1}_0) \\\\\n",
    "= & \\frac{1}{2} \\big[ (s+c)\\ket{00} - (s-c)\\ket{01} + (s-c)\\ket{10} + (s+c)\\ket{11} \\big]\n",
    "\\end{align}\n",
    "$$\n",
    "\n",
    "$$\n",
    "P^{\\rmIV}_{00} = P^{\\rmIV}_{11} = \\frac{(s + c)^2}{4} \\\\\n",
    "P^{\\rmIV}_{01} = P^{\\rmIV}_{10} = \\frac{(s - c)^2}{4}\n",
    "$$\n",
    "\n",
    "となります。\n",
    "\n",
    "それぞれの回路でビット0と1で同じ値が観測される確率$P^{i}_{00} + P^{i}_{11}$から異なる値が観測される確率$P^{i}_{01} + P^{i}_{10}$を引いた値を$C^{i}$と定義します。\n",
    "\n",
    "$$\n",
    "C^{\\rmI} = c^2 - s^2 = \\cos\\left(\\frac{\\pi}{4}\\right) = \\frac{1}{\\sqrt{2}} \\\\\n",
    "C^{\\rmII} = s^2 - c^2 = -\\frac{1}{\\sqrt{2}} \\\\\n",
    "C^{\\rmIII} = 2sc = \\sin\\left(\\frac{\\pi}{4}\\right) = \\frac{1}{\\sqrt{2}} \\\\\n",
    "C^{\\rmIV} = 2sc = \\frac{1}{\\sqrt{2}}\n",
    "$$\n",
    "\n",
    "なので、これらの組み合わせ$S = C^{\\rmI} - C^{\\rmII} + C^{\\rmIII} + C^{\\rmIV}$の値は$2\\sqrt{2}$です。\n",
    "\n",
    "実は、エンタングルメントが起こらない場合、この観測量$S$の値は2を超えられないことが知られています。例えば$R_y$ゲートをかける前の状態がベル状態ではなく、確率$\\frac{1}{2}$で$\\ket{00}$、確率$\\frac{1}{2}$で$\\ket{11}$という「混合状態」である場合、\n",
    "\n",
    "$$\n",
    "C^{\\rmI} = \\frac{1}{\\sqrt{2}} \\\\\n",
    "C^{\\rmII} = -\\frac{1}{\\sqrt{2}} \\\\\n",
    "C^{\\rmIII} = 0 \\\\\n",
    "C^{\\rmIV} = 0\n",
    "$$\n",
    "\n",
    "となり、$S = \\sqrt{2} < 2$です。これがCHSH不等式です。\n",
    "\n",
    "それでは、IBMQの「量子コンピュータ」が実際にエンタングル状態を生成できるのか、上の四つの回路から$S$の値を計算して確認してみましょう。"
   ]
  },
  {
   "cell_type": "markdown",
   "id": "90e1efdf",
   "metadata": {},
   "source": [
    "## 回路を実機で実行する\n",
    "\n",
    "まずはIBMQに認証・接続します。自分のラップトップなどローカルの環境ですでに{ref}`認証設定がされている <install_token>`場合は`IBMQ.load_account()`で接続ができます。設定がない場合は`enable_account()`関数に{ref}`トークン <copy_token>`を渡してIBMQに接続します。"
   ]
  },
  {
   "cell_type": "code",
   "execution_count": 7,
   "id": "6a5aa687",
   "metadata": {
    "tags": [
     "remove-output",
     "raises-exception"
    ]
   },
   "outputs": [
    {
     "ename": "RequestsApiError",
     "evalue": "'401 Client Error: Unauthorized for url: https://auth.quantum-computing.ibm.com/api/users/loginWithToken. Login failed., Error code: 3446.'",
     "output_type": "error",
     "traceback": [
      "\u001b[0;31m---------------------------------------------------------------------------\u001b[0m",
      "\u001b[0;31mIBMQAccountCredentialsNotFound\u001b[0m            Traceback (most recent call last)",
      "Input \u001b[0;32mIn [7]\u001b[0m, in \u001b[0;36m<cell line: 1>\u001b[0;34m()\u001b[0m\n\u001b[1;32m      1\u001b[0m \u001b[38;5;28;01mtry\u001b[39;00m:\n\u001b[0;32m----> 2\u001b[0m     \u001b[43mIBMQ\u001b[49m\u001b[38;5;241;43m.\u001b[39;49m\u001b[43mload_account\u001b[49m\u001b[43m(\u001b[49m\u001b[43m)\u001b[49m\n\u001b[1;32m      3\u001b[0m \u001b[38;5;28;01mexcept\u001b[39;00m IBMQAccountCredentialsNotFound:\n",
      "File \u001b[0;32m/usr/local/lib/python3.8/dist-packages/qiskit/providers/ibmq/ibmqfactory.py:167\u001b[0m, in \u001b[0;36mIBMQFactory.load_account\u001b[0;34m(self)\u001b[0m\n\u001b[1;32m    166\u001b[0m \u001b[38;5;28;01mif\u001b[39;00m \u001b[38;5;129;01mnot\u001b[39;00m credentials_list:\n\u001b[0;32m--> 167\u001b[0m     \u001b[38;5;28;01mraise\u001b[39;00m IBMQAccountCredentialsNotFound(\n\u001b[1;32m    168\u001b[0m         \u001b[38;5;124m'\u001b[39m\u001b[38;5;124mNo IBM Quantum Experience credentials found.\u001b[39m\u001b[38;5;124m'\u001b[39m)\n\u001b[1;32m    170\u001b[0m \u001b[38;5;28;01mif\u001b[39;00m \u001b[38;5;28mlen\u001b[39m(credentials_list) \u001b[38;5;241m>\u001b[39m \u001b[38;5;241m1\u001b[39m:\n",
      "\u001b[0;31mIBMQAccountCredentialsNotFound\u001b[0m: 'No IBM Quantum Experience credentials found.'",
      "\nDuring handling of the above exception, another exception occurred:\n",
      "\u001b[0;31mHTTPError\u001b[0m                                 Traceback (most recent call last)",
      "File \u001b[0;32m/usr/local/lib/python3.8/dist-packages/qiskit/providers/ibmq/api/session.py:278\u001b[0m, in \u001b[0;36mRetrySession.request\u001b[0;34m(self, method, url, bare, **kwargs)\u001b[0m\n\u001b[1;32m    277\u001b[0m     response \u001b[38;5;241m=\u001b[39m \u001b[38;5;28msuper\u001b[39m()\u001b[38;5;241m.\u001b[39mrequest(method, final_url, headers\u001b[38;5;241m=\u001b[39mheaders, \u001b[38;5;241m*\u001b[39m\u001b[38;5;241m*\u001b[39mkwargs)\n\u001b[0;32m--> 278\u001b[0m     \u001b[43mresponse\u001b[49m\u001b[38;5;241;43m.\u001b[39;49m\u001b[43mraise_for_status\u001b[49m\u001b[43m(\u001b[49m\u001b[43m)\u001b[49m\n\u001b[1;32m    279\u001b[0m \u001b[38;5;28;01mexcept\u001b[39;00m RequestException \u001b[38;5;28;01mas\u001b[39;00m ex:\n\u001b[1;32m    280\u001b[0m     \u001b[38;5;66;03m# Wrap the requests exceptions into a IBM Q custom one, for\u001b[39;00m\n\u001b[1;32m    281\u001b[0m     \u001b[38;5;66;03m# compatibility.\u001b[39;00m\n",
      "File \u001b[0;32m/usr/local/lib/python3.8/dist-packages/requests/models.py:960\u001b[0m, in \u001b[0;36mResponse.raise_for_status\u001b[0;34m(self)\u001b[0m\n\u001b[1;32m    959\u001b[0m \u001b[38;5;28;01mif\u001b[39;00m http_error_msg:\n\u001b[0;32m--> 960\u001b[0m     \u001b[38;5;28;01mraise\u001b[39;00m HTTPError(http_error_msg, response\u001b[38;5;241m=\u001b[39m\u001b[38;5;28mself\u001b[39m)\n",
      "\u001b[0;31mHTTPError\u001b[0m: 401 Client Error: Unauthorized for url: https://auth.quantum-computing.ibm.com/api/users/loginWithToken",
      "\nThe above exception was the direct cause of the following exception:\n",
      "\u001b[0;31mRequestsApiError\u001b[0m                          Traceback (most recent call last)",
      "Input \u001b[0;32mIn [7]\u001b[0m, in \u001b[0;36m<cell line: 1>\u001b[0;34m()\u001b[0m\n\u001b[1;32m      2\u001b[0m     IBMQ\u001b[38;5;241m.\u001b[39mload_account()\n\u001b[1;32m      3\u001b[0m \u001b[38;5;28;01mexcept\u001b[39;00m IBMQAccountCredentialsNotFound:\n\u001b[0;32m----> 4\u001b[0m     \u001b[43mIBMQ\u001b[49m\u001b[38;5;241;43m.\u001b[39;49m\u001b[43menable_account\u001b[49m\u001b[43m(\u001b[49m\u001b[38;5;124;43m'\u001b[39;49m\u001b[38;5;124;43m__paste_your_token_here__\u001b[39;49m\u001b[38;5;124;43m'\u001b[39;49m\u001b[43m)\u001b[49m\n",
      "File \u001b[0;32m/usr/local/lib/python3.8/dist-packages/qiskit/providers/ibmq/ibmqfactory.py:107\u001b[0m, in \u001b[0;36mIBMQFactory.enable_account\u001b[0;34m(self, token, url, hub, group, project, **kwargs)\u001b[0m\n\u001b[1;32m    102\u001b[0m     \u001b[38;5;28;01mraise\u001b[39;00m IBMQAccountCredentialsInvalidUrl(\n\u001b[1;32m    103\u001b[0m         \u001b[38;5;124m'\u001b[39m\u001b[38;5;124mThe URL specified (\u001b[39m\u001b[38;5;132;01m{}\u001b[39;00m\u001b[38;5;124m) is not an IBM Quantum Experience authentication \u001b[39m\u001b[38;5;124m'\u001b[39m\n\u001b[1;32m    104\u001b[0m         \u001b[38;5;124m'\u001b[39m\u001b[38;5;124mURL. Valid authentication URL: \u001b[39m\u001b[38;5;132;01m{}\u001b[39;00m\u001b[38;5;124m.\u001b[39m\u001b[38;5;124m'\u001b[39m\u001b[38;5;241m.\u001b[39mformat(credentials\u001b[38;5;241m.\u001b[39murl, QX_AUTH_URL))\n\u001b[1;32m    106\u001b[0m \u001b[38;5;66;03m# Initialize the providers.\u001b[39;00m\n\u001b[0;32m--> 107\u001b[0m \u001b[38;5;28;43mself\u001b[39;49m\u001b[38;5;241;43m.\u001b[39;49m\u001b[43m_initialize_providers\u001b[49m\u001b[43m(\u001b[49m\u001b[43mcredentials\u001b[49m\u001b[43m)\u001b[49m\n\u001b[1;32m    109\u001b[0m \u001b[38;5;66;03m# Prevent edge case where no hubs are available.\u001b[39;00m\n\u001b[1;32m    110\u001b[0m providers \u001b[38;5;241m=\u001b[39m \u001b[38;5;28mself\u001b[39m\u001b[38;5;241m.\u001b[39mproviders()\n",
      "File \u001b[0;32m/usr/local/lib/python3.8/dist-packages/qiskit/providers/ibmq/ibmqfactory.py:456\u001b[0m, in \u001b[0;36mIBMQFactory._initialize_providers\u001b[0;34m(self, credentials, preferences)\u001b[0m\n\u001b[1;32m    446\u001b[0m \u001b[38;5;28;01mdef\u001b[39;00m \u001b[38;5;21m_initialize_providers\u001b[39m(\n\u001b[1;32m    447\u001b[0m         \u001b[38;5;28mself\u001b[39m, credentials: Credentials,\n\u001b[1;32m    448\u001b[0m         preferences: Optional[Dict] \u001b[38;5;241m=\u001b[39m \u001b[38;5;28;01mNone\u001b[39;00m\n\u001b[1;32m    449\u001b[0m ) \u001b[38;5;241m-\u001b[39m\u001b[38;5;241m>\u001b[39m \u001b[38;5;28;01mNone\u001b[39;00m:\n\u001b[1;32m    450\u001b[0m     \u001b[38;5;124;03m\"\"\"Authenticate against IBM Quantum and populate the providers.\u001b[39;00m\n\u001b[1;32m    451\u001b[0m \n\u001b[1;32m    452\u001b[0m \u001b[38;5;124;03m    Args:\u001b[39;00m\n\u001b[1;32m    453\u001b[0m \u001b[38;5;124;03m        credentials: Credentials for IBM Quantum.\u001b[39;00m\n\u001b[1;32m    454\u001b[0m \u001b[38;5;124;03m        preferences: Account preferences.\u001b[39;00m\n\u001b[1;32m    455\u001b[0m \u001b[38;5;124;03m    \"\"\"\u001b[39;00m\n\u001b[0;32m--> 456\u001b[0m     auth_client \u001b[38;5;241m=\u001b[39m \u001b[43mAuthClient\u001b[49m\u001b[43m(\u001b[49m\u001b[43mcredentials\u001b[49m\u001b[38;5;241;43m.\u001b[39;49m\u001b[43mtoken\u001b[49m\u001b[43m,\u001b[49m\n\u001b[1;32m    457\u001b[0m \u001b[43m                             \u001b[49m\u001b[43mcredentials\u001b[49m\u001b[38;5;241;43m.\u001b[39;49m\u001b[43mbase_url\u001b[49m\u001b[43m,\u001b[49m\n\u001b[1;32m    458\u001b[0m \u001b[43m                             \u001b[49m\u001b[38;5;241;43m*\u001b[39;49m\u001b[38;5;241;43m*\u001b[39;49m\u001b[43mcredentials\u001b[49m\u001b[38;5;241;43m.\u001b[39;49m\u001b[43mconnection_parameters\u001b[49m\u001b[43m(\u001b[49m\u001b[43m)\u001b[49m\u001b[43m)\u001b[49m\n\u001b[1;32m    459\u001b[0m     service_urls \u001b[38;5;241m=\u001b[39m auth_client\u001b[38;5;241m.\u001b[39mcurrent_service_urls()\n\u001b[1;32m    460\u001b[0m     user_hubs \u001b[38;5;241m=\u001b[39m auth_client\u001b[38;5;241m.\u001b[39muser_hubs()\n",
      "File \u001b[0;32m/usr/local/lib/python3.8/dist-packages/qiskit/providers/ibmq/api/clients/auth.py:41\u001b[0m, in \u001b[0;36mAuthClient.__init__\u001b[0;34m(self, api_token, auth_url, **request_kwargs)\u001b[0m\n\u001b[1;32m     38\u001b[0m \u001b[38;5;28mself\u001b[39m\u001b[38;5;241m.\u001b[39m_service_urls \u001b[38;5;241m=\u001b[39m {}  \u001b[38;5;66;03m# type: ignore[var-annotated]\u001b[39;00m\n\u001b[1;32m     40\u001b[0m \u001b[38;5;28mself\u001b[39m\u001b[38;5;241m.\u001b[39mauth_api \u001b[38;5;241m=\u001b[39m Api(RetrySession(auth_url, \u001b[38;5;241m*\u001b[39m\u001b[38;5;241m*\u001b[39mrequest_kwargs))\n\u001b[0;32m---> 41\u001b[0m \u001b[38;5;28mself\u001b[39m\u001b[38;5;241m.\u001b[39mbase_api \u001b[38;5;241m=\u001b[39m \u001b[38;5;28;43mself\u001b[39;49m\u001b[38;5;241;43m.\u001b[39;49m\u001b[43m_init_service_clients\u001b[49m\u001b[43m(\u001b[49m\u001b[38;5;241;43m*\u001b[39;49m\u001b[38;5;241;43m*\u001b[39;49m\u001b[43mrequest_kwargs\u001b[49m\u001b[43m)\u001b[49m\n",
      "File \u001b[0;32m/usr/local/lib/python3.8/dist-packages/qiskit/providers/ibmq/api/clients/auth.py:53\u001b[0m, in \u001b[0;36mAuthClient._init_service_clients\u001b[0;34m(self, **request_kwargs)\u001b[0m\n\u001b[1;32m     44\u001b[0m \u001b[38;5;124;03m\"\"\"Initialize the clients used for communicating with the API.\u001b[39;00m\n\u001b[1;32m     45\u001b[0m \n\u001b[1;32m     46\u001b[0m \u001b[38;5;124;03mArgs:\u001b[39;00m\n\u001b[0;32m   (...)\u001b[0m\n\u001b[1;32m     50\u001b[0m \u001b[38;5;124;03m    Client for the API server.\u001b[39;00m\n\u001b[1;32m     51\u001b[0m \u001b[38;5;124;03m\"\"\"\u001b[39;00m\n\u001b[1;32m     52\u001b[0m \u001b[38;5;66;03m# Request an access token.\u001b[39;00m\n\u001b[0;32m---> 53\u001b[0m access_token \u001b[38;5;241m=\u001b[39m \u001b[38;5;28;43mself\u001b[39;49m\u001b[38;5;241;43m.\u001b[39;49m\u001b[43m_request_access_token\u001b[49m\u001b[43m(\u001b[49m\u001b[43m)\u001b[49m\n\u001b[1;32m     54\u001b[0m \u001b[38;5;66;03m# Use the token for the next auth server requests.\u001b[39;00m\n\u001b[1;32m     55\u001b[0m \u001b[38;5;28mself\u001b[39m\u001b[38;5;241m.\u001b[39mauth_api\u001b[38;5;241m.\u001b[39msession\u001b[38;5;241m.\u001b[39maccess_token \u001b[38;5;241m=\u001b[39m access_token\n",
      "File \u001b[0;32m/usr/local/lib/python3.8/dist-packages/qiskit/providers/ibmq/api/clients/auth.py:75\u001b[0m, in \u001b[0;36mAuthClient._request_access_token\u001b[0;34m(self)\u001b[0m\n\u001b[1;32m     65\u001b[0m \u001b[38;5;124;03m\"\"\"Request a new access token from the API authentication service.\u001b[39;00m\n\u001b[1;32m     66\u001b[0m \n\u001b[1;32m     67\u001b[0m \u001b[38;5;124;03mReturns:\u001b[39;00m\n\u001b[0;32m   (...)\u001b[0m\n\u001b[1;32m     72\u001b[0m \u001b[38;5;124;03m    RequestsApiError: If the request failed.\u001b[39;00m\n\u001b[1;32m     73\u001b[0m \u001b[38;5;124;03m\"\"\"\u001b[39;00m\n\u001b[1;32m     74\u001b[0m \u001b[38;5;28;01mtry\u001b[39;00m:\n\u001b[0;32m---> 75\u001b[0m     response \u001b[38;5;241m=\u001b[39m \u001b[38;5;28;43mself\u001b[39;49m\u001b[38;5;241;43m.\u001b[39;49m\u001b[43mauth_api\u001b[49m\u001b[38;5;241;43m.\u001b[39;49m\u001b[43mlogin\u001b[49m\u001b[43m(\u001b[49m\u001b[38;5;28;43mself\u001b[39;49m\u001b[38;5;241;43m.\u001b[39;49m\u001b[43mapi_token\u001b[49m\u001b[43m)\u001b[49m\n\u001b[1;32m     76\u001b[0m     \u001b[38;5;28;01mreturn\u001b[39;00m response[\u001b[38;5;124m'\u001b[39m\u001b[38;5;124mid\u001b[39m\u001b[38;5;124m'\u001b[39m]\n\u001b[1;32m     77\u001b[0m \u001b[38;5;28;01mexcept\u001b[39;00m RequestsApiError \u001b[38;5;28;01mas\u001b[39;00m ex:\n\u001b[1;32m     78\u001b[0m     \u001b[38;5;66;03m# Get the original exception that raised.\u001b[39;00m\n",
      "File \u001b[0;32m/usr/local/lib/python3.8/dist-packages/qiskit/providers/ibmq/api/rest/root.py:125\u001b[0m, in \u001b[0;36mApi.login\u001b[0;34m(self, api_token)\u001b[0m\n\u001b[1;32m    116\u001b[0m \u001b[38;5;124;03m\"\"\"Login with token.\u001b[39;00m\n\u001b[1;32m    117\u001b[0m \n\u001b[1;32m    118\u001b[0m \u001b[38;5;124;03mArgs:\u001b[39;00m\n\u001b[0;32m   (...)\u001b[0m\n\u001b[1;32m    122\u001b[0m \u001b[38;5;124;03m    JSON response.\u001b[39;00m\n\u001b[1;32m    123\u001b[0m \u001b[38;5;124;03m\"\"\"\u001b[39;00m\n\u001b[1;32m    124\u001b[0m url \u001b[38;5;241m=\u001b[39m \u001b[38;5;28mself\u001b[39m\u001b[38;5;241m.\u001b[39mget_url(\u001b[38;5;124m'\u001b[39m\u001b[38;5;124mlogin\u001b[39m\u001b[38;5;124m'\u001b[39m)\n\u001b[0;32m--> 125\u001b[0m \u001b[38;5;28;01mreturn\u001b[39;00m \u001b[38;5;28;43mself\u001b[39;49m\u001b[38;5;241;43m.\u001b[39;49m\u001b[43msession\u001b[49m\u001b[38;5;241;43m.\u001b[39;49m\u001b[43mpost\u001b[49m\u001b[43m(\u001b[49m\u001b[43murl\u001b[49m\u001b[43m,\u001b[49m\u001b[43m \u001b[49m\u001b[43mjson\u001b[49m\u001b[38;5;241;43m=\u001b[39;49m\u001b[43m{\u001b[49m\u001b[38;5;124;43m'\u001b[39;49m\u001b[38;5;124;43mapiToken\u001b[39;49m\u001b[38;5;124;43m'\u001b[39;49m\u001b[43m:\u001b[49m\u001b[43m \u001b[49m\u001b[43mapi_token\u001b[49m\u001b[43m}\u001b[49m\u001b[43m)\u001b[49m\u001b[38;5;241m.\u001b[39mjson()\n",
      "File \u001b[0;32m/usr/local/lib/python3.8/dist-packages/requests/sessions.py:577\u001b[0m, in \u001b[0;36mSession.post\u001b[0;34m(self, url, data, json, **kwargs)\u001b[0m\n\u001b[1;32m    566\u001b[0m \u001b[38;5;28;01mdef\u001b[39;00m \u001b[38;5;21mpost\u001b[39m(\u001b[38;5;28mself\u001b[39m, url, data\u001b[38;5;241m=\u001b[39m\u001b[38;5;28;01mNone\u001b[39;00m, json\u001b[38;5;241m=\u001b[39m\u001b[38;5;28;01mNone\u001b[39;00m, \u001b[38;5;241m*\u001b[39m\u001b[38;5;241m*\u001b[39mkwargs):\n\u001b[1;32m    567\u001b[0m     \u001b[38;5;124mr\u001b[39m\u001b[38;5;124;03m\"\"\"Sends a POST request. Returns :class:`Response` object.\u001b[39;00m\n\u001b[1;32m    568\u001b[0m \n\u001b[1;32m    569\u001b[0m \u001b[38;5;124;03m    :param url: URL for the new :class:`Request` object.\u001b[39;00m\n\u001b[0;32m   (...)\u001b[0m\n\u001b[1;32m    574\u001b[0m \u001b[38;5;124;03m    :rtype: requests.Response\u001b[39;00m\n\u001b[1;32m    575\u001b[0m \u001b[38;5;124;03m    \"\"\"\u001b[39;00m\n\u001b[0;32m--> 577\u001b[0m     \u001b[38;5;28;01mreturn\u001b[39;00m \u001b[38;5;28;43mself\u001b[39;49m\u001b[38;5;241;43m.\u001b[39;49m\u001b[43mrequest\u001b[49m\u001b[43m(\u001b[49m\u001b[38;5;124;43m'\u001b[39;49m\u001b[38;5;124;43mPOST\u001b[39;49m\u001b[38;5;124;43m'\u001b[39;49m\u001b[43m,\u001b[49m\u001b[43m \u001b[49m\u001b[43murl\u001b[49m\u001b[43m,\u001b[49m\u001b[43m \u001b[49m\u001b[43mdata\u001b[49m\u001b[38;5;241;43m=\u001b[39;49m\u001b[43mdata\u001b[49m\u001b[43m,\u001b[49m\u001b[43m \u001b[49m\u001b[43mjson\u001b[49m\u001b[38;5;241;43m=\u001b[39;49m\u001b[43mjson\u001b[49m\u001b[43m,\u001b[49m\u001b[43m \u001b[49m\u001b[38;5;241;43m*\u001b[39;49m\u001b[38;5;241;43m*\u001b[39;49m\u001b[43mkwargs\u001b[49m\u001b[43m)\u001b[49m\n",
      "File \u001b[0;32m/usr/local/lib/python3.8/dist-packages/qiskit/providers/ibmq/api/session.py:300\u001b[0m, in \u001b[0;36mRetrySession.request\u001b[0;34m(self, method, url, bare, **kwargs)\u001b[0m\n\u001b[1;32m    297\u001b[0m         \u001b[38;5;66;03m# Modify the original message on the chained exceptions.\u001b[39;00m\n\u001b[1;32m    298\u001b[0m         \u001b[38;5;28mself\u001b[39m\u001b[38;5;241m.\u001b[39m_modify_chained_exception_messages(ex)\n\u001b[0;32m--> 300\u001b[0m     \u001b[38;5;28;01mraise\u001b[39;00m RequestsApiError(message, status_code) \u001b[38;5;28;01mfrom\u001b[39;00m \u001b[38;5;21;01mex\u001b[39;00m\n\u001b[1;32m    302\u001b[0m \u001b[38;5;28;01mreturn\u001b[39;00m response\n",
      "\u001b[0;31mRequestsApiError\u001b[0m: '401 Client Error: Unauthorized for url: https://auth.quantum-computing.ibm.com/api/users/loginWithToken. Login failed., Error code: 3446.'"
     ]
    }
   ],
   "source": [
    "try:\n",
    "    IBMQ.load_account()\n",
    "except IBMQAccountCredentialsNotFound:\n",
    "    IBMQ.enable_account('__paste_your_token_here__')"
   ]
  },
  {
   "cell_type": "markdown",
   "id": "ce676013",
   "metadata": {},
   "source": [
    "認証が済んだら、利用する量子コンピュータ（「バックエンド」と呼びます）を選びます。"
   ]
  },
  {
   "cell_type": "code",
   "execution_count": 8,
   "id": "a7bc11ec",
   "metadata": {
    "tags": [
     "raises-exception",
     "remove-output"
    ]
   },
   "outputs": [
    {
     "ename": "IBMQProviderError",
     "evalue": "'No provider matches the specified criteria: hub = ibm-q, group = open, project = main'",
     "output_type": "error",
     "traceback": [
      "\u001b[0;31m---------------------------------------------------------------------------\u001b[0m",
      "\u001b[0;31mIBMQProviderError\u001b[0m                         Traceback (most recent call last)",
      "Input \u001b[0;32mIn [8]\u001b[0m, in \u001b[0;36m<cell line: 2>\u001b[0;34m()\u001b[0m\n\u001b[1;32m      1\u001b[0m \u001b[38;5;66;03m# IBMQプロバイダ（実機へのアクセスを管理するオブジェクト）\u001b[39;00m\n\u001b[0;32m----> 2\u001b[0m provider \u001b[38;5;241m=\u001b[39m \u001b[43mIBMQ\u001b[49m\u001b[38;5;241;43m.\u001b[39;49m\u001b[43mget_provider\u001b[49m\u001b[43m(\u001b[49m\u001b[43mhub\u001b[49m\u001b[38;5;241;43m=\u001b[39;49m\u001b[38;5;124;43m'\u001b[39;49m\u001b[38;5;124;43mibm-q\u001b[39;49m\u001b[38;5;124;43m'\u001b[39;49m\u001b[43m,\u001b[49m\u001b[43m \u001b[49m\u001b[43mgroup\u001b[49m\u001b[38;5;241;43m=\u001b[39;49m\u001b[38;5;124;43m'\u001b[39;49m\u001b[38;5;124;43mopen\u001b[39;49m\u001b[38;5;124;43m'\u001b[39;49m\u001b[43m,\u001b[49m\u001b[43m \u001b[49m\u001b[43mproject\u001b[49m\u001b[38;5;241;43m=\u001b[39;49m\u001b[38;5;124;43m'\u001b[39;49m\u001b[38;5;124;43mmain\u001b[39;49m\u001b[38;5;124;43m'\u001b[39;49m\u001b[43m)\u001b[49m\n\u001b[1;32m      4\u001b[0m \u001b[38;5;66;03m# バックエンド（実機）のうち量子ビット数2個以上のもののリストをプロバイダから取得する\u001b[39;00m\n\u001b[1;32m      5\u001b[0m \u001b[38;5;66;03m# operational_backendはこのワークブック用にqc_workbook.utilsで定義された関数\u001b[39;00m\n\u001b[1;32m      6\u001b[0m backend_list \u001b[38;5;241m=\u001b[39m provider\u001b[38;5;241m.\u001b[39mbackends(filters\u001b[38;5;241m=\u001b[39moperational_backend(min_qubits\u001b[38;5;241m=\u001b[39m\u001b[38;5;241m2\u001b[39m))\n",
      "File \u001b[0;32m/usr/local/lib/python3.8/dist-packages/qiskit/providers/ibmq/ibmqfactory.py:423\u001b[0m, in \u001b[0;36mIBMQFactory.get_provider\u001b[0;34m(self, hub, group, project)\u001b[0m\n\u001b[1;32m    420\u001b[0m providers \u001b[38;5;241m=\u001b[39m \u001b[38;5;28mself\u001b[39m\u001b[38;5;241m.\u001b[39mproviders(hub, group, project)\n\u001b[1;32m    422\u001b[0m \u001b[38;5;28;01mif\u001b[39;00m \u001b[38;5;129;01mnot\u001b[39;00m providers:\n\u001b[0;32m--> 423\u001b[0m     \u001b[38;5;28;01mraise\u001b[39;00m IBMQProviderError(\u001b[38;5;124m'\u001b[39m\u001b[38;5;124mNo provider matches the specified criteria: \u001b[39m\u001b[38;5;124m'\u001b[39m\n\u001b[1;32m    424\u001b[0m                             \u001b[38;5;124m'\u001b[39m\u001b[38;5;124mhub = \u001b[39m\u001b[38;5;132;01m{}\u001b[39;00m\u001b[38;5;124m, group = \u001b[39m\u001b[38;5;132;01m{}\u001b[39;00m\u001b[38;5;124m, project = \u001b[39m\u001b[38;5;132;01m{}\u001b[39;00m\u001b[38;5;124m'\u001b[39m\n\u001b[1;32m    425\u001b[0m                             \u001b[38;5;241m.\u001b[39mformat(hub, group, project))\n\u001b[1;32m    426\u001b[0m \u001b[38;5;28;01mif\u001b[39;00m \u001b[38;5;28mlen\u001b[39m(providers) \u001b[38;5;241m>\u001b[39m \u001b[38;5;241m1\u001b[39m:\n\u001b[1;32m    427\u001b[0m     \u001b[38;5;28;01mraise\u001b[39;00m IBMQProviderError(\u001b[38;5;124m'\u001b[39m\u001b[38;5;124mMore than one provider matches the specified criteria.\u001b[39m\u001b[38;5;124m'\u001b[39m\n\u001b[1;32m    428\u001b[0m                             \u001b[38;5;124m'\u001b[39m\u001b[38;5;124mhub = \u001b[39m\u001b[38;5;132;01m{}\u001b[39;00m\u001b[38;5;124m, group = \u001b[39m\u001b[38;5;132;01m{}\u001b[39;00m\u001b[38;5;124m, project = \u001b[39m\u001b[38;5;132;01m{}\u001b[39;00m\u001b[38;5;124m'\u001b[39m\n\u001b[1;32m    429\u001b[0m                             \u001b[38;5;241m.\u001b[39mformat(hub, group, project))\n",
      "\u001b[0;31mIBMQProviderError\u001b[0m: 'No provider matches the specified criteria: hub = ibm-q, group = open, project = main'"
     ]
    }
   ],
   "source": [
    "# IBMQプロバイダ（実機へのアクセスを管理するオブジェクト）\n",
    "provider = IBMQ.get_provider(hub='ibm-q', group='open', project='main')\n",
    "\n",
    "# バックエンド（実機）のうち量子ビット数2個以上のもののリストをプロバイダから取得する\n",
    "# operational_backendはこのワークブック用にqc_workbook.utilsで定義された関数\n",
    "backend_list = provider.backends(filters=operational_backend(min_qubits=2))\n",
    "\n",
    "# リストの中から一番空いているものを選ぶ\n",
    "backend = least_busy(backend_list)\n",
    "\n",
    "print(f'Jobs will run on {backend.name()}')"
   ]
  },
  {
   "cell_type": "markdown",
   "id": "4dd61286",
   "metadata": {},
   "source": [
    "回路をバックエンドに送るには、`transpile`という関数とバックエンドの`run`というメソッドを使います。`transpile`については次回{ref}`transpilation`で説明するので、今は「おまじない」だと思ってください。`run`で回路を送るとき、前述したように同時にショット数を指定します。バックエンドごとに一度のジョブでの最大ショット数が決められており、8192、30000、100000などとさまざまです。回路をバックエンドに渡し、`shots`回実行させることをジョブと呼びます。"
   ]
  },
  {
   "cell_type": "code",
   "execution_count": 9,
   "id": "1b1ab542",
   "metadata": {
    "tags": [
     "raises-exception",
     "remove-output"
    ]
   },
   "outputs": [
    {
     "ename": "NameError",
     "evalue": "name 'backend' is not defined",
     "output_type": "error",
     "traceback": [
      "\u001b[0;31m---------------------------------------------------------------------------\u001b[0m",
      "\u001b[0;31mNameError\u001b[0m                                 Traceback (most recent call last)",
      "Input \u001b[0;32mIn [9]\u001b[0m, in \u001b[0;36m<cell line: 2>\u001b[0;34m()\u001b[0m\n\u001b[1;32m      1\u001b[0m \u001b[38;5;66;03m# バックエンドごとに決められている最大ショット数\u001b[39;00m\n\u001b[0;32m----> 2\u001b[0m shots \u001b[38;5;241m=\u001b[39m \u001b[43mbackend\u001b[49m\u001b[38;5;241m.\u001b[39mconfiguration()\u001b[38;5;241m.\u001b[39mmax_shots\n\u001b[1;32m      3\u001b[0m \u001b[38;5;28mprint\u001b[39m(\u001b[38;5;124mf\u001b[39m\u001b[38;5;124m'\u001b[39m\u001b[38;5;124mRunning four circuits, \u001b[39m\u001b[38;5;132;01m{\u001b[39;00mshots\u001b[38;5;132;01m}\u001b[39;00m\u001b[38;5;124m shots each\u001b[39m\u001b[38;5;124m'\u001b[39m)\n\u001b[1;32m      5\u001b[0m \u001b[38;5;66;03m# transpileの説明は次回の実習にて\u001b[39;00m\n",
      "\u001b[0;31mNameError\u001b[0m: name 'backend' is not defined"
     ]
    }
   ],
   "source": [
    "# バックエンドごとに決められている最大ショット数\n",
    "shots = backend.configuration().max_shots\n",
    "print(f'Running four circuits, {shots} shots each')\n",
    "\n",
    "# transpileの説明は次回の実習にて\n",
    "circuits = transpile(circuits, backend=backend)\n",
    "# バックエンドで回路をshots回実行させ、測定結果を返させる\n",
    "job = backend.run(circuits, shots=shots)\n",
    "\n",
    "# ジョブが終了するまで状態を表示しながら待つ（正常に完了、エラーで停止、など終了する理由は一つではない）\n",
    "job_monitor(job, interval=2)"
   ]
  },
  {
   "cell_type": "markdown",
   "id": "788c9b87",
   "metadata": {},
   "source": [
    "これで回路がバックエンドに送られ、キューに入りました。ジョブの実行結果は`run`メソッドの返り値であるジョブオブジェクトから参照します。\n",
    "\n",
    "IBMQのバックエンドは世界中からたくさんのユーザーに利用されているため、場合によっては予約されているジョブが多数あってキューにかなりの待ち時間が生じることがあります。\n",
    "\n",
    "バックエンドごとのキューの長さは[IBM Quantumのバックエンド一覧ページ](https://quantum-computing.ibm.com/services?services=systems)から確認できます。バックエンドを一つクリックすると詳細が表示され、現在の全ジョブ数が Total pending jobs として表示されます。また、一番下の Your access providers という欄でバックエンドのジョブあたりの最大ショット数と最大回路数を確認できます。\n",
    "\n",
    "また、自分の投じたジョブのステータスは[ジョブ一覧ページ](https://quantum-computing.ibm.com/jobs)から確認できます。\n",
    "\n",
    "Qiskitプログラム中からもジョブのステータスを確認できます。いくつか方法がありますが、シンプルに一つのジョブをテキストベースでモニターするだけなら上のように`job_monitor`を使います。"
   ]
  },
  {
   "cell_type": "markdown",
   "id": "3f0ee75f",
   "metadata": {},
   "source": [
    "## 量子測定結果の解析\n",
    "\n",
    "ジョブオブジェクトの`result()`というメソッドを呼ぶと、ジョブが完了して結果が帰ってくるまでコードの実行が止まります。実行結果はオブジェクトとして返され、それの`get_counts`というメソッドを使うと、各ビット列が何回観測されたかというヒストグラムデータがPythonのdictとして得られます。"
   ]
  },
  {
   "cell_type": "code",
   "execution_count": 10,
   "id": "6955c982",
   "metadata": {
    "tags": [
     "raises-exception",
     "remove-output"
    ]
   },
   "outputs": [
    {
     "ename": "NameError",
     "evalue": "name 'job' is not defined",
     "output_type": "error",
     "traceback": [
      "\u001b[0;31m---------------------------------------------------------------------------\u001b[0m",
      "\u001b[0;31mNameError\u001b[0m                                 Traceback (most recent call last)",
      "Input \u001b[0;32mIn [10]\u001b[0m, in \u001b[0;36m<cell line: 1>\u001b[0;34m()\u001b[0m\n\u001b[0;32m----> 1\u001b[0m result \u001b[38;5;241m=\u001b[39m \u001b[43mjob\u001b[49m\u001b[38;5;241m.\u001b[39mresult()\n\u001b[1;32m      3\u001b[0m \u001b[38;5;66;03m# 4つの回路のヒストグラムデータを入れるリスト\u001b[39;00m\n\u001b[1;32m      4\u001b[0m counts_list \u001b[38;5;241m=\u001b[39m []\n",
      "\u001b[0;31mNameError\u001b[0m: name 'job' is not defined"
     ]
    }
   ],
   "source": [
    "result = job.result()\n",
    "\n",
    "# 4つの回路のヒストグラムデータを入れるリスト\n",
    "counts_list = []\n",
    "\n",
    "# 回路ごとの結果をresultから抽出する\n",
    "for idx in range(4):\n",
    "    # get_counts(i)で回路iのヒストグラムデータが得られる\n",
    "    counts = result.get_counts(idx)\n",
    "    # データをリストに足す\n",
    "    counts_list.append(counts)\n",
    "    \n",
    "print(counts_list)"
   ]
  },
  {
   "cell_type": "code",
   "execution_count": 11,
   "id": "7db0e982",
   "metadata": {
    "tags": [
     "remove-cell"
    ]
   },
   "outputs": [],
   "source": [
    "# テキスト作成用のダミーセルなので無視してよい\n",
    "try:\n",
    "    counts_list\n",
    "except NameError:\n",
    "    counts_list = [\n",
    "        {'00': 3339, '01': 720, '10': 863, '11': 3270},\n",
    "        {'00': 964, '01': 3332, '10': 3284, '11': 612},\n",
    "        {'00': 3414, '01': 693, '10': 953, '11': 3132},\n",
    "        {'00': 3661, '01': 725, '10': 768, '11': 3038}\n",
    "    ]\n",
    "    \n",
    "    shots = 8192"
   ]
  },
  {
   "cell_type": "markdown",
   "id": "334a0c7c",
   "metadata": {},
   "source": [
    "````{tip}\n",
    "ノートブックの接続が切れてしまったり、過去に走らせたジョブの結果を再び解析したくなったりした場合は、ジョブIDを使って`retrieve_job`というメソッドでジョブオブジェクトを再構成することができます。過去に走らせたジョブはIBM Quantum Experienceのホームページにリストされているので、そこにあるジョブID（603d8bef43659838aのような）をコピーし、\n",
    "\n",
    "```{code-block} python\n",
    "backend = provider.get_backend('__backend_you_used__')\n",
    "job = backend.retrieve_job('__job_id__')\n",
    "```\n",
    "\n",
    "とすると、`backend.run`によって返されたのと同じようにジョブオブジェクトが生成されます。\n",
    "````\n",
    "\n",
    "Qiskitから提供されている`plot_histogram`関数を使って、この情報を可視化できます。プロットの縦軸は観測回数を全測定数で割って、観測確率に規格化してあります。"
   ]
  },
  {
   "cell_type": "code",
   "execution_count": 12,
   "id": "1b1339a9",
   "metadata": {},
   "outputs": [
    {
     "data": {
      "image/png": "[encoded data removed]",
      "text/plain": [
       "<Figure size 864x576 with 4 Axes>"
      ]
     },
     "metadata": {
      "filenames": {
       "image/png": "/qc-workbook/build/ja/_build/jupyter_execute/chsh_inequality_33_0.png"
      },
      "needs_background": "light"
     },
     "output_type": "display_data"
    }
   ],
   "source": [
    "fig, axs = plt.subplots(2, 2, sharey=True, figsize=[12., 8.])\n",
    "for counts, circuit, ax in zip(counts_list, circuits, axs.reshape(-1)):\n",
    "    plot_histogram(counts, ax=ax)\n",
    "    ax.set_title(circuit.name)\n",
    "    ax.yaxis.grid(True)"
   ]
  },
  {
   "cell_type": "markdown",
   "id": "d64c88d9",
   "metadata": {},
   "source": [
    "$c^2/2 = (s + c)^2/4 = 0.427$, $s^2/2 = (s - c)^2 / 4 = 0.073$なので、得られた確率は当たらずとも遠からずというところでしょうか。\n",
    "\n",
    "実は現在の量子コンピュータにはまだ様々なノイズやエラーがあり、計算結果は往々にして理論的な値から統計誤差の範囲を超えてずれます。特定のエラーに関しては多少の緩和法も存在しますが、全て防げるわけでは決してありません。現在の量子コンピュータを指して \"*Noisy* intermediate-scale quantum (NISQ) device\" と呼んだりしますが、このNoisyの部分はこのような簡単な実験でもすでに顕著に現れるわけです。\n",
    "\n",
    "逆に、NISQデバイスを有効活用するには、ノイズやエラーがあっても意味のある結果が得られるようなロバストな回路が求められます。{doc}`vqe`で紹介する変分量子回路を用いた最適化などがその候補として注目されています。\n",
    "\n",
    "さて、それでは最後にCHSH不等式の破れを確認してみましょう。$C^{\\rmI}, C^{\\rmII}, C^{\\rmIII}, C^{\\rmIV}$を計算して$S$を求めます。\n",
    "\n",
    "下のコードで`counts`という辞書オブジェクトからキー`'00'`などに対応する値を取り出す際に`counts['00']`ではなく`counts.get('00', 0)`としています。二つの表現は`counts`に`'00'`というキーが定義されていれば全く同義ですが、キーが定義されていないときは、前者の場合エラーとして実行が止まるのに対して、後者ではデフォルト値として2個目の引数で指定されている`0`が返ってきます。qiskitの結果データは一度も測定されなかったビット列についてキーを持たないので、常に`get`でカウント数を抽出するようにしましょう。"
   ]
  },
  {
   "cell_type": "code",
   "execution_count": 13,
   "id": "74bd7d4c",
   "metadata": {},
   "outputs": [
    {
     "name": "stdout",
     "output_type": "stream",
     "text": [
      "C: [ 0.61352539 -0.61523438  0.59814453  0.63549805]\n",
      "S = 2.46240234375\n",
      "Yes, we are using a quantum computer!\n"
     ]
    }
   ],
   "source": [
    "# C^I, C^II, C^III, C^IVを一つのアレイにする\n",
    "#（今の場合ただのリストにしてもいいが、純粋な数字の羅列にはnumpy arrayを使うといいことが多い）\n",
    "C = np.zeros(4, dtype=float)\n",
    "\n",
    "# enumerate(L)でリストのインデックスと対応する要素に関するループを回せる\n",
    "for ic, counts in enumerate(counts_list):\n",
    "    # counts['00'] でなく counts.get('00', 0) - 上のテキストを参照\n",
    "    C[ic] = counts.get('00', 0) + counts.get('11', 0) - counts.get('01', 0) - counts.get('10', 0)\n",
    "\n",
    "# 4つの要素を同時にshotsで規格化（リストではこういうことはできない）\n",
    "C /= shots\n",
    "    \n",
    "S = C[0] - C[1] + C[2] + C[3]\n",
    "\n",
    "print('C:', C)\n",
    "print('S =', S)\n",
    "if S > 2.:\n",
    "    print('Yes, we are using a quantum computer!')\n",
    "else:\n",
    "    print('Armonk, we have a problem.')"
   ]
  },
  {
   "cell_type": "markdown",
   "id": "3875e64d",
   "metadata": {},
   "source": [
    "無事、$S$が2を超えました。"
   ]
  },
  {
   "cell_type": "markdown",
   "id": "fa765cd3",
   "metadata": {},
   "source": [
    "## 参考文献\n",
    "\n",
    "```{bibliography}\n",
    ":filter: docname in docnames\n",
    "```"
   ]
  }
 ],
 "metadata": {
  "jupytext": {
   "notebook_metadata_filter": "all",
   "text_representation": {
    "extension": ".md",
    "format_name": "myst",
    "format_version": 0.13,
    "jupytext_version": "1.11.5"
   }
  },
  "kernelspec": {
   "display_name": "Python 3 (ipykernel)",
   "language": "python",
   "name": "python3"
  },
  "language_info": {
   "codemirror_mode": {
    "name": "ipython",
    "version": 3
   },
   "file_extension": ".py",
   "mimetype": "text/x-python",
   "name": "python",
   "nbconvert_exporter": "python",
   "pygments_lexer": "ipython3",
   "version": "3.8.10"
  },
  "source_map": [
   23,
   27,
   43,
   51,
   59,
   75,
   152,
   183,
   193,
   248,
   264,
   273,
   331,
   344,
   372,
   378,
   380,
   384,
   386,
   390,
   398,
   445,
   539,
   545,
   552,
   556,
   570,
   574,
   588,
   600,
   606,
   624,
   639,
   654,
   660,
   672,
   693,
   697
  ]
 },
 "nbformat": 4,
 "nbformat_minor": 5
}